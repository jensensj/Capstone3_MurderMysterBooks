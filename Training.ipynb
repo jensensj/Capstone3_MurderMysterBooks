{
 "cells": [
  {
   "cell_type": "code",
   "execution_count": 1,
   "id": "least-inspiration",
   "metadata": {},
   "outputs": [],
   "source": [
    "import pandas as pd\n",
    "import numpy as np\n",
    "import seaborn as sns\n",
    "import matplotlib.pyplot as plt\n",
    "\n",
    "from surprise import SVD\n",
    "from surprise import BaselineOnly\n",
    "from surprise import SlopeOne\n",
    "from surprise import NormalPredictor\n",
    "from surprise import Reader\n",
    "from surprise import Dataset\n",
    "\n",
    "from surprise.model_selection import cross_validate\n",
    "from surprise.model_selection import train_test_split\n",
    "from surprise.model_selection import GridSearchCV\n",
    "from surprise import accuracy"
   ]
  },
  {
   "cell_type": "markdown",
   "id": "flexible-worth",
   "metadata": {},
   "source": [
    "## Loading the data set"
   ]
  },
  {
   "cell_type": "code",
   "execution_count": 2,
   "id": "bearing-bahrain",
   "metadata": {},
   "outputs": [],
   "source": [
    "df = pd.read_pickle('df_rats.pkl')"
   ]
  },
  {
   "cell_type": "code",
   "execution_count": 3,
   "id": "supported-tennessee",
   "metadata": {},
   "outputs": [
    {
     "data": {
      "text/html": [
       "<div>\n",
       "<style scoped>\n",
       "    .dataframe tbody tr th:only-of-type {\n",
       "        vertical-align: middle;\n",
       "    }\n",
       "\n",
       "    .dataframe tbody tr th {\n",
       "        vertical-align: top;\n",
       "    }\n",
       "\n",
       "    .dataframe thead th {\n",
       "        text-align: right;\n",
       "    }\n",
       "</style>\n",
       "<table border=\"1\" class=\"dataframe\">\n",
       "  <thead>\n",
       "    <tr style=\"text-align: right;\">\n",
       "      <th></th>\n",
       "      <th>user_id</th>\n",
       "      <th>book_id</th>\n",
       "      <th>rating</th>\n",
       "      <th>best_book_id</th>\n",
       "    </tr>\n",
       "  </thead>\n",
       "  <tbody>\n",
       "    <tr>\n",
       "      <th>0</th>\n",
       "      <td>8842281e1d1347389f2ab93d60773d4d</td>\n",
       "      <td>22034</td>\n",
       "      <td>5</td>\n",
       "      <td>22034</td>\n",
       "    </tr>\n",
       "    <tr>\n",
       "      <th>1</th>\n",
       "      <td>bafc2d50014200cda7cb2b6acd60cd73</td>\n",
       "      <td>22034</td>\n",
       "      <td>5</td>\n",
       "      <td>22034</td>\n",
       "    </tr>\n",
       "    <tr>\n",
       "      <th>2</th>\n",
       "      <td>0ef32090550901ead25cb0ea21c4d36b</td>\n",
       "      <td>22034</td>\n",
       "      <td>4</td>\n",
       "      <td>22034</td>\n",
       "    </tr>\n",
       "    <tr>\n",
       "      <th>3</th>\n",
       "      <td>8489357f2f485c1a961d4cbdc54ea84b</td>\n",
       "      <td>22034</td>\n",
       "      <td>3</td>\n",
       "      <td>22034</td>\n",
       "    </tr>\n",
       "    <tr>\n",
       "      <th>4</th>\n",
       "      <td>623103c8b74b4e97b2077ff2fd33514b</td>\n",
       "      <td>22034</td>\n",
       "      <td>4</td>\n",
       "      <td>22034</td>\n",
       "    </tr>\n",
       "    <tr>\n",
       "      <th>...</th>\n",
       "      <td>...</td>\n",
       "      <td>...</td>\n",
       "      <td>...</td>\n",
       "      <td>...</td>\n",
       "    </tr>\n",
       "    <tr>\n",
       "      <th>10505812</th>\n",
       "      <td>f099c0c488290d550eff5200c64a3094</td>\n",
       "      <td>17853378</td>\n",
       "      <td>5</td>\n",
       "      <td>17853378</td>\n",
       "    </tr>\n",
       "    <tr>\n",
       "      <th>10505813</th>\n",
       "      <td>249f280eaa2398cab3e64faa2fd5f236</td>\n",
       "      <td>5709901</td>\n",
       "      <td>3</td>\n",
       "      <td>5709901</td>\n",
       "    </tr>\n",
       "    <tr>\n",
       "      <th>10505814</th>\n",
       "      <td>be6f3f764f0a4b665673671f177949d1</td>\n",
       "      <td>16075973</td>\n",
       "      <td>4</td>\n",
       "      <td>16075973</td>\n",
       "    </tr>\n",
       "    <tr>\n",
       "      <th>10505815</th>\n",
       "      <td>b82f3bff7672ffb52a0da25a9194c79d</td>\n",
       "      <td>6687280</td>\n",
       "      <td>4</td>\n",
       "      <td>6687280</td>\n",
       "    </tr>\n",
       "    <tr>\n",
       "      <th>10505816</th>\n",
       "      <td>9854bbe54c0ae146d9fe7f2aa24d6258</td>\n",
       "      <td>13625029</td>\n",
       "      <td>4</td>\n",
       "      <td>13625029</td>\n",
       "    </tr>\n",
       "  </tbody>\n",
       "</table>\n",
       "<p>10505817 rows × 4 columns</p>\n",
       "</div>"
      ],
      "text/plain": [
       "                                   user_id   book_id  rating  best_book_id\n",
       "0         8842281e1d1347389f2ab93d60773d4d     22034       5         22034\n",
       "1         bafc2d50014200cda7cb2b6acd60cd73     22034       5         22034\n",
       "2         0ef32090550901ead25cb0ea21c4d36b     22034       4         22034\n",
       "3         8489357f2f485c1a961d4cbdc54ea84b     22034       3         22034\n",
       "4         623103c8b74b4e97b2077ff2fd33514b     22034       4         22034\n",
       "...                                    ...       ...     ...           ...\n",
       "10505812  f099c0c488290d550eff5200c64a3094  17853378       5      17853378\n",
       "10505813  249f280eaa2398cab3e64faa2fd5f236   5709901       3       5709901\n",
       "10505814  be6f3f764f0a4b665673671f177949d1  16075973       4      16075973\n",
       "10505815  b82f3bff7672ffb52a0da25a9194c79d   6687280       4       6687280\n",
       "10505816  9854bbe54c0ae146d9fe7f2aa24d6258  13625029       4      13625029\n",
       "\n",
       "[10505817 rows x 4 columns]"
      ]
     },
     "execution_count": 3,
     "metadata": {},
     "output_type": "execute_result"
    }
   ],
   "source": [
    "df"
   ]
  },
  {
   "cell_type": "code",
   "execution_count": 4,
   "id": "brown-tournament",
   "metadata": {},
   "outputs": [],
   "source": [
    "df.drop(columns=['best_book_id'],inplace = True)"
   ]
  },
  {
   "cell_type": "code",
   "execution_count": 5,
   "id": "grateful-acrobat",
   "metadata": {},
   "outputs": [],
   "source": [
    "reader = Reader(rating_scale=(0, 5))\n",
    "data = Dataset.load_from_df(df[['user_id', 'book_id', 'rating']], reader)"
   ]
  },
  {
   "cell_type": "code",
   "execution_count": 7,
   "id": "burning-ebony",
   "metadata": {},
   "outputs": [],
   "source": [
    "train,test = train_test_split(data, test_size=0.2, random_state=47)"
   ]
  },
  {
   "cell_type": "code",
   "execution_count": null,
   "id": "intelligent-evaluation",
   "metadata": {},
   "outputs": [],
   "source": []
  },
  {
   "cell_type": "code",
   "execution_count": 8,
   "id": "indirect-enclosure",
   "metadata": {},
   "outputs": [],
   "source": [
    "predict_NP = NormalPredictor().fit(train).test(test)"
   ]
  },
  {
   "cell_type": "code",
   "execution_count": 11,
   "id": "lucky-lightweight",
   "metadata": {},
   "outputs": [
    {
     "name": "stdout",
     "output_type": "stream",
     "text": [
      "RMSE: 1.7230\n"
     ]
    },
    {
     "data": {
      "text/plain": [
       "1.7230345283942123"
      ]
     },
     "execution_count": 11,
     "metadata": {},
     "output_type": "execute_result"
    }
   ],
   "source": [
    "accuracy.rmse(predict_NP)"
   ]
  },
  {
   "cell_type": "code",
   "execution_count": 12,
   "id": "super-catalog",
   "metadata": {},
   "outputs": [
    {
     "name": "stdout",
     "output_type": "stream",
     "text": [
      "Estimating biases using als...\n"
     ]
    }
   ],
   "source": [
    "predict_bo_als = BaselineOnly().fit(train).test(test)"
   ]
  },
  {
   "cell_type": "code",
   "execution_count": 13,
   "id": "seeing-beast",
   "metadata": {},
   "outputs": [
    {
     "name": "stdout",
     "output_type": "stream",
     "text": [
      "RMSE: 1.1219\n"
     ]
    },
    {
     "data": {
      "text/plain": [
       "1.121923214371969"
      ]
     },
     "execution_count": 13,
     "metadata": {},
     "output_type": "execute_result"
    }
   ],
   "source": [
    "accuracy.rmse(predict_bo_als)"
   ]
  },
  {
   "cell_type": "code",
   "execution_count": null,
   "id": "complex-committee",
   "metadata": {},
   "outputs": [],
   "source": []
  },
  {
   "cell_type": "code",
   "execution_count": 15,
   "id": "external-territory",
   "metadata": {},
   "outputs": [
    {
     "name": "stdout",
     "output_type": "stream",
     "text": [
      "Estimating biases using sgd...\n"
     ]
    }
   ],
   "source": [
    "predict_bo_sgd = BaselineOnly(bsl_options = {'method': 'sgd'}).fit(train).test(test)"
   ]
  },
  {
   "cell_type": "code",
   "execution_count": 16,
   "id": "proprietary-mauritius",
   "metadata": {},
   "outputs": [
    {
     "name": "stdout",
     "output_type": "stream",
     "text": [
      "RMSE: 1.1200\n"
     ]
    },
    {
     "data": {
      "text/plain": [
       "1.1199682065610777"
      ]
     },
     "execution_count": 16,
     "metadata": {},
     "output_type": "execute_result"
    }
   ],
   "source": [
    "accuracy.rmse(predict_bo_sgd)"
   ]
  },
  {
   "cell_type": "code",
   "execution_count": null,
   "id": "seeing-penguin",
   "metadata": {},
   "outputs": [],
   "source": []
  },
  {
   "cell_type": "code",
   "execution_count": 17,
   "id": "worse-strengthening",
   "metadata": {},
   "outputs": [],
   "source": [
    "predict_svd = SVD().fit(train).test(test)"
   ]
  },
  {
   "cell_type": "code",
   "execution_count": 18,
   "id": "pharmaceutical-spokesman",
   "metadata": {},
   "outputs": [
    {
     "name": "stdout",
     "output_type": "stream",
     "text": [
      "RMSE: 1.1199\n"
     ]
    },
    {
     "data": {
      "text/plain": [
       "1.1198826510943596"
      ]
     },
     "execution_count": 18,
     "metadata": {},
     "output_type": "execute_result"
    }
   ],
   "source": [
    "accuracy.rmse(predict_svd)"
   ]
  },
  {
   "cell_type": "code",
   "execution_count": 19,
   "id": "chemical-barrier",
   "metadata": {},
   "outputs": [],
   "source": [
    "algorithms = ['NormalPredictor', 'BaselineOnly_als', 'BaselineOnly_sgd', 'SVD']"
   ]
  },
  {
   "cell_type": "code",
   "execution_count": 22,
   "id": "broken-overall",
   "metadata": {},
   "outputs": [
    {
     "name": "stdout",
     "output_type": "stream",
     "text": [
      "RMSE: 1.7230\n",
      "RMSE: 1.1219\n",
      "RMSE: 1.1200\n",
      "RMSE: 1.1199\n"
     ]
    }
   ],
   "source": [
    "RMSE = [accuracy.rmse(predict_NP),accuracy.rmse(predict_bo_als),accuracy.rmse(predict_bo_sgd),accuracy.rmse(predict_svd)]"
   ]
  },
  {
   "cell_type": "code",
   "execution_count": 23,
   "id": "drawn-basic",
   "metadata": {},
   "outputs": [
    {
     "name": "stdout",
     "output_type": "stream",
     "text": [
      "MSE: 2.9688\n",
      "MSE: 1.2587\n",
      "MSE: 1.2543\n",
      "MSE: 1.2541\n"
     ]
    }
   ],
   "source": [
    "MSE = [accuracy.mse(predict_NP),accuracy.mse(predict_bo_als),accuracy.mse(predict_bo_sgd),accuracy.mse(predict_svd)]"
   ]
  },
  {
   "cell_type": "code",
   "execution_count": 24,
   "id": "latest-scholarship",
   "metadata": {},
   "outputs": [
    {
     "name": "stdout",
     "output_type": "stream",
     "text": [
      "MAE:  1.3388\n",
      "MAE:  0.8153\n",
      "MAE:  0.8190\n",
      "MAE:  0.8019\n"
     ]
    }
   ],
   "source": [
    "MAE = [accuracy.mae(predict_NP),accuracy.mae(predict_bo_als),accuracy.mae(predict_bo_sgd),accuracy.mae(predict_svd)]"
   ]
  },
  {
   "cell_type": "code",
   "execution_count": 34,
   "id": "intellectual-liabilities",
   "metadata": {},
   "outputs": [],
   "source": [
    "metrics = pd.DataFrame(index=algorithms)"
   ]
  },
  {
   "cell_type": "code",
   "execution_count": 37,
   "id": "mysterious-count",
   "metadata": {},
   "outputs": [],
   "source": [
    "metrics[0] = RMSE\n",
    "metrics[1] = MSE\n",
    "metrics[2] = MAE"
   ]
  },
  {
   "cell_type": "code",
   "execution_count": 39,
   "id": "organic-burlington",
   "metadata": {},
   "outputs": [],
   "source": [
    "metrics.columns = ['RMSE', 'MSE', 'MAE']"
   ]
  },
  {
   "cell_type": "code",
   "execution_count": 40,
   "id": "divine-brook",
   "metadata": {},
   "outputs": [
    {
     "data": {
      "text/html": [
       "<div>\n",
       "<style scoped>\n",
       "    .dataframe tbody tr th:only-of-type {\n",
       "        vertical-align: middle;\n",
       "    }\n",
       "\n",
       "    .dataframe tbody tr th {\n",
       "        vertical-align: top;\n",
       "    }\n",
       "\n",
       "    .dataframe thead th {\n",
       "        text-align: right;\n",
       "    }\n",
       "</style>\n",
       "<table border=\"1\" class=\"dataframe\">\n",
       "  <thead>\n",
       "    <tr style=\"text-align: right;\">\n",
       "      <th></th>\n",
       "      <th>RMSE</th>\n",
       "      <th>MSE</th>\n",
       "      <th>MAE</th>\n",
       "    </tr>\n",
       "  </thead>\n",
       "  <tbody>\n",
       "    <tr>\n",
       "      <th>NormalPredictor</th>\n",
       "      <td>1.723035</td>\n",
       "      <td>2.968848</td>\n",
       "      <td>1.338751</td>\n",
       "    </tr>\n",
       "    <tr>\n",
       "      <th>BaselineOnly_als</th>\n",
       "      <td>1.121923</td>\n",
       "      <td>1.258712</td>\n",
       "      <td>0.815304</td>\n",
       "    </tr>\n",
       "    <tr>\n",
       "      <th>BaselineOnly_sgd</th>\n",
       "      <td>1.119968</td>\n",
       "      <td>1.254329</td>\n",
       "      <td>0.818951</td>\n",
       "    </tr>\n",
       "    <tr>\n",
       "      <th>SVD</th>\n",
       "      <td>1.119883</td>\n",
       "      <td>1.254137</td>\n",
       "      <td>0.801898</td>\n",
       "    </tr>\n",
       "  </tbody>\n",
       "</table>\n",
       "</div>"
      ],
      "text/plain": [
       "                      RMSE       MSE       MAE\n",
       "NormalPredictor   1.723035  2.968848  1.338751\n",
       "BaselineOnly_als  1.121923  1.258712  0.815304\n",
       "BaselineOnly_sgd  1.119968  1.254329  0.818951\n",
       "SVD               1.119883  1.254137  0.801898"
      ]
     },
     "execution_count": 40,
     "metadata": {},
     "output_type": "execute_result"
    }
   ],
   "source": [
    "metrics"
   ]
  },
  {
   "cell_type": "code",
   "execution_count": 41,
   "id": "historic-proxy",
   "metadata": {},
   "outputs": [],
   "source": [
    "metrics.to_csv('metricsfile.csv')"
   ]
  },
  {
   "cell_type": "markdown",
   "id": "varied-anaheim",
   "metadata": {},
   "source": [
    "BaselineOnly and SVD are very close performers, but BaselineOnly is much less computataionlly expensive so we will move forward with that one. "
   ]
  },
  {
   "cell_type": "code",
   "execution_count": null,
   "id": "racial-behalf",
   "metadata": {},
   "outputs": [],
   "source": []
  },
  {
   "cell_type": "code",
   "execution_count": null,
   "id": "beautiful-symposium",
   "metadata": {},
   "outputs": [],
   "source": []
  },
  {
   "cell_type": "code",
   "execution_count": 11,
   "id": "rocky-boring",
   "metadata": {},
   "outputs": [],
   "source": [
    "reader = Reader(rating_scale=(0, 5))\n",
    "data = Dataset.load_from_df(df[['user_id', 'book_id', 'rating']], reader)"
   ]
  },
  {
   "cell_type": "code",
   "execution_count": 12,
   "id": "altered-suspect",
   "metadata": {},
   "outputs": [],
   "source": [
    "train,test = train_test_split(data, test_size=0.2, random_state=47)"
   ]
  },
  {
   "cell_type": "code",
   "execution_count": null,
   "id": "comfortable-cowboy",
   "metadata": {},
   "outputs": [],
   "source": [
    "# Tested: n_epochs 12,18 and reg 0.02, 0.01. both had RMSE of 1.12, higher than standard params"
   ]
  },
  {
   "cell_type": "code",
   "execution_count": 75,
   "id": "weighted-repository",
   "metadata": {},
   "outputs": [],
   "source": [
    "bsl_options = {'method': 'sgd',\n",
    "               'reg':0.5,\n",
    "               'learning_rate': .005,\n",
    "               'n_epochs': 25\n",
    "               }"
   ]
  },
  {
   "cell_type": "code",
   "execution_count": 76,
   "id": "martial-constant",
   "metadata": {},
   "outputs": [
    {
     "name": "stdout",
     "output_type": "stream",
     "text": [
      "Estimating biases using sgd...\n"
     ]
    }
   ],
   "source": [
    "model_sgd = BaselineOnly(bsl_options = bsl_options).fit(train)"
   ]
  },
  {
   "cell_type": "code",
   "execution_count": 77,
   "id": "drawn-postage",
   "metadata": {},
   "outputs": [],
   "source": [
    "preds = model_sgd.test(test)"
   ]
  },
  {
   "cell_type": "code",
   "execution_count": 78,
   "id": "loving-glasgow",
   "metadata": {},
   "outputs": [
    {
     "name": "stdout",
     "output_type": "stream",
     "text": [
      "RMSE: 1.1331\n"
     ]
    }
   ],
   "source": [
    "parms_500525 = accuracy.rmse(preds)"
   ]
  },
  {
   "cell_type": "code",
   "execution_count": 79,
   "id": "smooth-parts",
   "metadata": {},
   "outputs": [
    {
     "data": {
      "text/plain": [
       "1.1330510475375668"
      ]
     },
     "execution_count": 79,
     "metadata": {},
     "output_type": "execute_result"
    }
   ],
   "source": [
    "parms_500525"
   ]
  },
  {
   "cell_type": "code",
   "execution_count": null,
   "id": "fifth-zealand",
   "metadata": {},
   "outputs": [],
   "source": []
  },
  {
   "cell_type": "code",
   "execution_count": null,
   "id": "directed-beijing",
   "metadata": {},
   "outputs": [],
   "source": []
  },
  {
   "cell_type": "code",
   "execution_count": 38,
   "id": "dress-place",
   "metadata": {},
   "outputs": [
    {
     "name": "stdout",
     "output_type": "stream",
     "text": [
      "RMSE: 1.1219\n"
     ]
    }
   ],
   "source": [
    "Standard_params = accuracy.rmse(preds)"
   ]
  },
  {
   "cell_type": "code",
   "execution_count": 44,
   "id": "suffering-thompson",
   "metadata": {},
   "outputs": [
    {
     "data": {
      "text/plain": [
       "1.1578101439212658"
      ]
     },
     "execution_count": 44,
     "metadata": {},
     "output_type": "execute_result"
    }
   ],
   "source": [
    "parms_010512"
   ]
  },
  {
   "cell_type": "code",
   "execution_count": 50,
   "id": "fundamental-structure",
   "metadata": {},
   "outputs": [
    {
     "data": {
      "text/plain": [
       "1.1888492258562413"
      ]
     },
     "execution_count": 50,
     "metadata": {},
     "output_type": "execute_result"
    }
   ],
   "source": [
    "parms_0100512"
   ]
  },
  {
   "cell_type": "code",
   "execution_count": 56,
   "id": "constant-plant",
   "metadata": {},
   "outputs": [
    {
     "data": {
      "text/plain": [
       "1.1200360449938294"
      ]
     },
     "execution_count": 56,
     "metadata": {},
     "output_type": "execute_result"
    }
   ],
   "source": [
    "parms_0100520"
   ]
  },
  {
   "cell_type": "code",
   "execution_count": 62,
   "id": "celtic-welding",
   "metadata": {},
   "outputs": [
    {
     "data": {
      "text/plain": [
       "1.1184975433756525"
      ]
     },
     "execution_count": 62,
     "metadata": {},
     "output_type": "execute_result"
    }
   ],
   "source": [
    "parms_0100525"
   ]
  },
  {
   "cell_type": "code",
   "execution_count": 68,
   "id": "attempted-disease",
   "metadata": {},
   "outputs": [
    {
     "data": {
      "text/plain": [
       "1.118403698114278"
      ]
     },
     "execution_count": 68,
     "metadata": {},
     "output_type": "execute_result"
    }
   ],
   "source": [
    "parms_0200525"
   ]
  },
  {
   "cell_type": "code",
   "execution_count": 74,
   "id": "instrumental-hamburg",
   "metadata": {},
   "outputs": [
    {
     "data": {
      "text/plain": [
       "1.1183417981586508"
      ]
     },
     "execution_count": 74,
     "metadata": {},
     "output_type": "execute_result"
    }
   ],
   "source": [
    "parms_0300525"
   ]
  },
  {
   "cell_type": "code",
   "execution_count": 80,
   "id": "original-rebate",
   "metadata": {},
   "outputs": [
    {
     "data": {
      "text/plain": [
       "1.1330510475375668"
      ]
     },
     "execution_count": 80,
     "metadata": {},
     "output_type": "execute_result"
    }
   ],
   "source": [
    "parms_500525"
   ]
  },
  {
   "cell_type": "code",
   "execution_count": null,
   "id": "final-oxide",
   "metadata": {},
   "outputs": [],
   "source": []
  },
  {
   "cell_type": "code",
   "execution_count": null,
   "id": "interracial-scout",
   "metadata": {},
   "outputs": [],
   "source": []
  },
  {
   "cell_type": "code",
   "execution_count": 81,
   "id": "aging-intellectual",
   "metadata": {},
   "outputs": [
    {
     "data": {
      "text/plain": [
       "1.1183417981586508"
      ]
     },
     "execution_count": 81,
     "metadata": {},
     "output_type": "execute_result"
    }
   ],
   "source": [
    "parms_0300525"
   ]
  },
  {
   "cell_type": "code",
   "execution_count": 82,
   "id": "effective-conclusion",
   "metadata": {},
   "outputs": [],
   "source": [
    "bsl_best = {'method': 'sgd',\n",
    "               'reg':0.03,\n",
    "               'learning_rate': .005,\n",
    "               'n_epochs': 25\n",
    "               }"
   ]
  },
  {
   "cell_type": "code",
   "execution_count": null,
   "id": "starting-insight",
   "metadata": {},
   "outputs": [],
   "source": [
    "train1,test1 = train_test_split(data, test_size=0.2, random_state=40)\n",
    "train2,test2 = train_test_split(data, test_size=0.2, random_state=13)\n",
    "train3,test3 = train_test_split(data, test_size=0.2, random_state=25)"
   ]
  },
  {
   "cell_type": "code",
   "execution_count": null,
   "id": "sixth-accountability",
   "metadata": {},
   "outputs": [],
   "source": [
    "algo_best = BaselineOnly(bsl_best = bsl_options)"
   ]
  },
  {
   "cell_type": "code",
   "execution_count": null,
   "id": "suited-lingerie",
   "metadata": {},
   "outputs": [],
   "source": [
    "model = algo_best.fit(train1)"
   ]
  },
  {
   "cell_type": "code",
   "execution_count": null,
   "id": "manufactured-merit",
   "metadata": {},
   "outputs": [],
   "source": []
  },
  {
   "cell_type": "code",
   "execution_count": null,
   "id": "packed-oriental",
   "metadata": {},
   "outputs": [],
   "source": [
    "predictions = model.test(test1)"
   ]
  },
  {
   "cell_type": "code",
   "execution_count": null,
   "id": "reduced-branch",
   "metadata": {},
   "outputs": [],
   "source": [
    "rmse = accuracy.rmse(predictions)\n",
    "mse = accuracy.mse(predictions)\n",
    "mae = accuracy.mae(predictions)\n",
    "fcp = accuracy.fcp(predictions)"
   ]
  },
  {
   "cell_type": "code",
   "execution_count": null,
   "id": "further-agriculture",
   "metadata": {},
   "outputs": [],
   "source": []
  }
 ],
 "metadata": {
  "kernelspec": {
   "display_name": "Python 3",
   "language": "python",
   "name": "python3"
  },
  "language_info": {
   "codemirror_mode": {
    "name": "ipython",
    "version": 3
   },
   "file_extension": ".py",
   "mimetype": "text/x-python",
   "name": "python",
   "nbconvert_exporter": "python",
   "pygments_lexer": "ipython3",
   "version": "3.8.5"
  }
 },
 "nbformat": 4,
 "nbformat_minor": 5
}
