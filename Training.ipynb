{
 "cells": [
  {
   "cell_type": "code",
   "execution_count": 2,
   "id": "elegant-chamber",
   "metadata": {},
   "outputs": [],
   "source": [
    "import pandas as pd\n",
    "import numpy as np\n",
    "import seaborn as sns\n",
    "import matplotlib.pyplot as plt\n",
    "\n",
    "from surprise import SVD\n",
    "from surprise import BaselineOnly\n",
    "from surprise import SlopeOne\n",
    "from surprise import NormalPredictor\n",
    "from surprise import Reader\n",
    "from surprise import Dataset\n",
    "\n",
    "from surprise.model_selection import cross_validate\n",
    "from surprise.model_selection import train_test_split"
   ]
  },
  {
   "cell_type": "markdown",
   "id": "controlling-niagara",
   "metadata": {},
   "source": [
    "## Loading the data set"
   ]
  },
  {
   "cell_type": "code",
   "execution_count": 3,
   "id": "accredited-width",
   "metadata": {},
   "outputs": [],
   "source": [
    "df = pd.read_pickle('df_rats.pkl')"
   ]
  },
  {
   "cell_type": "code",
   "execution_count": 4,
   "id": "instant-campbell",
   "metadata": {},
   "outputs": [
    {
     "data": {
      "text/html": [
       "<div>\n",
       "<style scoped>\n",
       "    .dataframe tbody tr th:only-of-type {\n",
       "        vertical-align: middle;\n",
       "    }\n",
       "\n",
       "    .dataframe tbody tr th {\n",
       "        vertical-align: top;\n",
       "    }\n",
       "\n",
       "    .dataframe thead th {\n",
       "        text-align: right;\n",
       "    }\n",
       "</style>\n",
       "<table border=\"1\" class=\"dataframe\">\n",
       "  <thead>\n",
       "    <tr style=\"text-align: right;\">\n",
       "      <th></th>\n",
       "      <th>user_id</th>\n",
       "      <th>book_id</th>\n",
       "      <th>rating</th>\n",
       "      <th>best_book_id</th>\n",
       "    </tr>\n",
       "  </thead>\n",
       "  <tbody>\n",
       "    <tr>\n",
       "      <th>0</th>\n",
       "      <td>8842281e1d1347389f2ab93d60773d4d</td>\n",
       "      <td>22034</td>\n",
       "      <td>5</td>\n",
       "      <td>22034</td>\n",
       "    </tr>\n",
       "    <tr>\n",
       "      <th>1</th>\n",
       "      <td>bafc2d50014200cda7cb2b6acd60cd73</td>\n",
       "      <td>22034</td>\n",
       "      <td>5</td>\n",
       "      <td>22034</td>\n",
       "    </tr>\n",
       "    <tr>\n",
       "      <th>2</th>\n",
       "      <td>0ef32090550901ead25cb0ea21c4d36b</td>\n",
       "      <td>22034</td>\n",
       "      <td>4</td>\n",
       "      <td>22034</td>\n",
       "    </tr>\n",
       "    <tr>\n",
       "      <th>3</th>\n",
       "      <td>8489357f2f485c1a961d4cbdc54ea84b</td>\n",
       "      <td>22034</td>\n",
       "      <td>3</td>\n",
       "      <td>22034</td>\n",
       "    </tr>\n",
       "    <tr>\n",
       "      <th>4</th>\n",
       "      <td>623103c8b74b4e97b2077ff2fd33514b</td>\n",
       "      <td>22034</td>\n",
       "      <td>4</td>\n",
       "      <td>22034</td>\n",
       "    </tr>\n",
       "    <tr>\n",
       "      <th>...</th>\n",
       "      <td>...</td>\n",
       "      <td>...</td>\n",
       "      <td>...</td>\n",
       "      <td>...</td>\n",
       "    </tr>\n",
       "    <tr>\n",
       "      <th>10505812</th>\n",
       "      <td>f099c0c488290d550eff5200c64a3094</td>\n",
       "      <td>17853378</td>\n",
       "      <td>5</td>\n",
       "      <td>17853378</td>\n",
       "    </tr>\n",
       "    <tr>\n",
       "      <th>10505813</th>\n",
       "      <td>249f280eaa2398cab3e64faa2fd5f236</td>\n",
       "      <td>5709901</td>\n",
       "      <td>3</td>\n",
       "      <td>5709901</td>\n",
       "    </tr>\n",
       "    <tr>\n",
       "      <th>10505814</th>\n",
       "      <td>be6f3f764f0a4b665673671f177949d1</td>\n",
       "      <td>16075973</td>\n",
       "      <td>4</td>\n",
       "      <td>16075973</td>\n",
       "    </tr>\n",
       "    <tr>\n",
       "      <th>10505815</th>\n",
       "      <td>b82f3bff7672ffb52a0da25a9194c79d</td>\n",
       "      <td>6687280</td>\n",
       "      <td>4</td>\n",
       "      <td>6687280</td>\n",
       "    </tr>\n",
       "    <tr>\n",
       "      <th>10505816</th>\n",
       "      <td>9854bbe54c0ae146d9fe7f2aa24d6258</td>\n",
       "      <td>13625029</td>\n",
       "      <td>4</td>\n",
       "      <td>13625029</td>\n",
       "    </tr>\n",
       "  </tbody>\n",
       "</table>\n",
       "<p>10505817 rows × 4 columns</p>\n",
       "</div>"
      ],
      "text/plain": [
       "                                   user_id   book_id  rating  best_book_id\n",
       "0         8842281e1d1347389f2ab93d60773d4d     22034       5         22034\n",
       "1         bafc2d50014200cda7cb2b6acd60cd73     22034       5         22034\n",
       "2         0ef32090550901ead25cb0ea21c4d36b     22034       4         22034\n",
       "3         8489357f2f485c1a961d4cbdc54ea84b     22034       3         22034\n",
       "4         623103c8b74b4e97b2077ff2fd33514b     22034       4         22034\n",
       "...                                    ...       ...     ...           ...\n",
       "10505812  f099c0c488290d550eff5200c64a3094  17853378       5      17853378\n",
       "10505813  249f280eaa2398cab3e64faa2fd5f236   5709901       3       5709901\n",
       "10505814  be6f3f764f0a4b665673671f177949d1  16075973       4      16075973\n",
       "10505815  b82f3bff7672ffb52a0da25a9194c79d   6687280       4       6687280\n",
       "10505816  9854bbe54c0ae146d9fe7f2aa24d6258  13625029       4      13625029\n",
       "\n",
       "[10505817 rows x 4 columns]"
      ]
     },
     "execution_count": 4,
     "metadata": {},
     "output_type": "execute_result"
    }
   ],
   "source": [
    "df"
   ]
  },
  {
   "cell_type": "code",
   "execution_count": 5,
   "id": "brief-creek",
   "metadata": {},
   "outputs": [],
   "source": [
    "df.drop(columns=['best_book_id'],inplace = True)"
   ]
  },
  {
   "cell_type": "code",
   "execution_count": 6,
   "id": "capital-charleston",
   "metadata": {},
   "outputs": [],
   "source": [
    "reader = Reader(rating_scale=(0, 5))\n",
    "data = Dataset.load_from_df(df[['user_id', 'book_id', 'rating']], reader)"
   ]
  },
  {
   "cell_type": "code",
   "execution_count": 7,
   "id": "massive-mistress",
   "metadata": {},
   "outputs": [],
   "source": [
    "train,test = train_test_split(data, test_size=0.2, random_state=47)"
   ]
  },
  {
   "cell_type": "code",
   "execution_count": 8,
   "id": "engaging-charter",
   "metadata": {},
   "outputs": [
    {
     "data": {
      "text/plain": [
       "<surprise.trainset.Trainset at 0x12a8d1d60>"
      ]
     },
     "execution_count": 8,
     "metadata": {},
     "output_type": "execute_result"
    }
   ],
   "source": []
  },
  {
   "cell_type": "code",
   "execution_count": 9,
   "id": "seven-yorkshire",
   "metadata": {},
   "outputs": [],
   "source": [
    "predict_NP = NormalPredictor().fit(train).test(test)"
   ]
  },
  {
   "cell_type": "code",
   "execution_count": null,
   "id": "variable-zambia",
   "metadata": {},
   "outputs": [],
   "source": [
    "results_bo_als = cross_validate(BaselineOnly(), data, measures=['RMSE'], cv=3, verbose=True)"
   ]
  },
  {
   "cell_type": "code",
   "execution_count": null,
   "id": "straight-doctrine",
   "metadata": {},
   "outputs": [],
   "source": [
    "results_bo_sgd = cross_validate(BaselineOnly(bsl_options = {method: 'sgd'}), data, measures=['RMSE'], cv=3, verbose=True)"
   ]
  },
  {
   "cell_type": "code",
   "execution_count": null,
   "id": "cutting-seattle",
   "metadata": {},
   "outputs": [],
   "source": [
    "results_svd = cross_validate(SVD(), data, measures=['RMSE'], cv=3, verbose=True)"
   ]
  },
  {
   "cell_type": "code",
   "execution_count": null,
   "id": "sufficient-electronics",
   "metadata": {},
   "outputs": [],
   "source": [
    "results_NP = cross_validate(NormalPredictor, data, measures=['RMSE'], cv=3, verbose=True)"
   ]
  },
  {
   "cell_type": "code",
   "execution_count": null,
   "id": "beautiful-earth",
   "metadata": {},
   "outputs": [],
   "source": []
  }
 ],
 "metadata": {
  "kernelspec": {
   "display_name": "Python 3",
   "language": "python",
   "name": "python3"
  },
  "language_info": {
   "codemirror_mode": {
    "name": "ipython",
    "version": 3
   },
   "file_extension": ".py",
   "mimetype": "text/x-python",
   "name": "python",
   "nbconvert_exporter": "python",
   "pygments_lexer": "ipython3",
   "version": "3.8.5"
  }
 },
 "nbformat": 4,
 "nbformat_minor": 5
}
