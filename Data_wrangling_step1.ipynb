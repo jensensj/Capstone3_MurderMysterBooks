{
 "cells": [
  {
   "cell_type": "code",
   "execution_count": 1,
   "metadata": {},
   "outputs": [],
   "source": [
    "import pandas as pd\n",
    "import numpy as np\n",
    "import json\n",
    "import matplotlib.pyplot as plt"
   ]
  },
  {
   "cell_type": "code",
   "execution_count": 235,
   "metadata": {},
   "outputs": [],
   "source": [
    "#f = open('goodreads_books_mystery_thriller_crime.json')"
   ]
  },
  {
   "cell_type": "code",
   "execution_count": 236,
   "metadata": {},
   "outputs": [],
   "source": [
    "#data = json.load(f)"
   ]
  },
  {
   "cell_type": "code",
   "execution_count": 237,
   "metadata": {},
   "outputs": [
    {
     "data": {
      "text/html": [
       "<div>\n",
       "<style scoped>\n",
       "    .dataframe tbody tr th:only-of-type {\n",
       "        vertical-align: middle;\n",
       "    }\n",
       "\n",
       "    .dataframe tbody tr th {\n",
       "        vertical-align: top;\n",
       "    }\n",
       "\n",
       "    .dataframe thead th {\n",
       "        text-align: right;\n",
       "    }\n",
       "</style>\n",
       "<table border=\"1\" class=\"dataframe\">\n",
       "  <thead>\n",
       "    <tr style=\"text-align: right;\">\n",
       "      <th></th>\n",
       "      <th>isbn</th>\n",
       "      <th>text_reviews_count</th>\n",
       "      <th>series</th>\n",
       "      <th>country_code</th>\n",
       "      <th>language_code</th>\n",
       "      <th>popular_shelves</th>\n",
       "      <th>asin</th>\n",
       "      <th>is_ebook</th>\n",
       "      <th>average_rating</th>\n",
       "      <th>kindle_asin</th>\n",
       "      <th>...</th>\n",
       "      <th>publication_month</th>\n",
       "      <th>edition_information</th>\n",
       "      <th>publication_year</th>\n",
       "      <th>url</th>\n",
       "      <th>image_url</th>\n",
       "      <th>book_id</th>\n",
       "      <th>ratings_count</th>\n",
       "      <th>work_id</th>\n",
       "      <th>title</th>\n",
       "      <th>title_without_series</th>\n",
       "    </tr>\n",
       "  </thead>\n",
       "  <tbody>\n",
       "    <tr>\n",
       "      <th>0</th>\n",
       "      <td>184737297X</td>\n",
       "      <td>15</td>\n",
       "      <td>[169353]</td>\n",
       "      <td>US</td>\n",
       "      <td></td>\n",
       "      <td>[{'count': '159', 'name': 'to-read'}, {'count'...</td>\n",
       "      <td></td>\n",
       "      <td>false</td>\n",
       "      <td>3.93</td>\n",
       "      <td>B007YLTG5I</td>\n",
       "      <td>...</td>\n",
       "      <td>4</td>\n",
       "      <td></td>\n",
       "      <td>2009</td>\n",
       "      <td>https://www.goodreads.com/book/show/6066814-cr...</td>\n",
       "      <td>https://images.gr-assets.com/books/1328724803m...</td>\n",
       "      <td>6066814</td>\n",
       "      <td>186</td>\n",
       "      <td>6243149</td>\n",
       "      <td>Crowner Royal (Crowner John Mystery, #13)</td>\n",
       "      <td>Crowner Royal (Crowner John Mystery, #13)</td>\n",
       "    </tr>\n",
       "    <tr>\n",
       "      <th>1</th>\n",
       "      <td></td>\n",
       "      <td>60</td>\n",
       "      <td>[1052227]</td>\n",
       "      <td>US</td>\n",
       "      <td>eng</td>\n",
       "      <td>[{'count': '54', 'name': 'currently-reading'},...</td>\n",
       "      <td>B01NCIKAQX</td>\n",
       "      <td>true</td>\n",
       "      <td>4.33</td>\n",
       "      <td>B01NCIKAQX</td>\n",
       "      <td>...</td>\n",
       "      <td></td>\n",
       "      <td></td>\n",
       "      <td></td>\n",
       "      <td>https://www.goodreads.com/book/show/33394837-t...</td>\n",
       "      <td>https://images.gr-assets.com/books/1493114742m...</td>\n",
       "      <td>33394837</td>\n",
       "      <td>269</td>\n",
       "      <td>54143148</td>\n",
       "      <td>The House of Memory (Pluto's Snitch #2)</td>\n",
       "      <td>The House of Memory (Pluto's Snitch #2)</td>\n",
       "    </tr>\n",
       "    <tr>\n",
       "      <th>2</th>\n",
       "      <td></td>\n",
       "      <td>23</td>\n",
       "      <td>[953679]</td>\n",
       "      <td>US</td>\n",
       "      <td>eng</td>\n",
       "      <td>[{'count': '90', 'name': 'to-read'}, {'count':...</td>\n",
       "      <td>B01ALOWJN0</td>\n",
       "      <td>true</td>\n",
       "      <td>3.49</td>\n",
       "      <td>B01ALOWJN0</td>\n",
       "      <td>...</td>\n",
       "      <td></td>\n",
       "      <td></td>\n",
       "      <td></td>\n",
       "      <td>https://www.goodreads.com/book/show/29074697-t...</td>\n",
       "      <td>https://s.gr-assets.com/assets/nophoto/book/11...</td>\n",
       "      <td>29074697</td>\n",
       "      <td>192</td>\n",
       "      <td>49305010</td>\n",
       "      <td>The Slaughtered Virgin of Zenopolis (Inspector...</td>\n",
       "      <td>The Slaughtered Virgin of Zenopolis (Inspector...</td>\n",
       "    </tr>\n",
       "    <tr>\n",
       "      <th>3</th>\n",
       "      <td>0854563903</td>\n",
       "      <td>8</td>\n",
       "      <td>[408775]</td>\n",
       "      <td>US</td>\n",
       "      <td></td>\n",
       "      <td>[{'count': '51', 'name': 'to-read'}, {'count':...</td>\n",
       "      <td></td>\n",
       "      <td>false</td>\n",
       "      <td>3.30</td>\n",
       "      <td></td>\n",
       "      <td>...</td>\n",
       "      <td>12</td>\n",
       "      <td>Large Print</td>\n",
       "      <td>1975</td>\n",
       "      <td>https://www.goodreads.com/book/show/1902202.De...</td>\n",
       "      <td>https://s.gr-assets.com/assets/nophoto/book/11...</td>\n",
       "      <td>1902202</td>\n",
       "      <td>52</td>\n",
       "      <td>1903897</td>\n",
       "      <td>Dead in the Morning (Patrick Grant, #1)</td>\n",
       "      <td>Dead in the Morning (Patrick Grant, #1)</td>\n",
       "    </tr>\n",
       "    <tr>\n",
       "      <th>4</th>\n",
       "      <td>8838920931</td>\n",
       "      <td>3</td>\n",
       "      <td>[274410]</td>\n",
       "      <td>US</td>\n",
       "      <td>ita</td>\n",
       "      <td>[{'count': '48', 'name': 'to-read'}, {'count':...</td>\n",
       "      <td></td>\n",
       "      <td>false</td>\n",
       "      <td>3.54</td>\n",
       "      <td></td>\n",
       "      <td>...</td>\n",
       "      <td></td>\n",
       "      <td></td>\n",
       "      <td>2006</td>\n",
       "      <td>https://www.goodreads.com/book/show/9671977-ar...</td>\n",
       "      <td>https://images.gr-assets.com/books/1474788304m...</td>\n",
       "      <td>9671977</td>\n",
       "      <td>22</td>\n",
       "      <td>2152906</td>\n",
       "      <td>Aristotele e i misteri di Eleusi</td>\n",
       "      <td>Aristotele e i misteri di Eleusi</td>\n",
       "    </tr>\n",
       "  </tbody>\n",
       "</table>\n",
       "<p>5 rows × 29 columns</p>\n",
       "</div>"
      ],
      "text/plain": [
       "         isbn  text_reviews_count     series country_code language_code  \\\n",
       "0  184737297X                  15   [169353]           US                 \n",
       "1                              60  [1052227]           US           eng   \n",
       "2                              23   [953679]           US           eng   \n",
       "3  0854563903                   8   [408775]           US                 \n",
       "4  8838920931                   3   [274410]           US           ita   \n",
       "\n",
       "                                     popular_shelves        asin is_ebook  \\\n",
       "0  [{'count': '159', 'name': 'to-read'}, {'count'...                false   \n",
       "1  [{'count': '54', 'name': 'currently-reading'},...  B01NCIKAQX     true   \n",
       "2  [{'count': '90', 'name': 'to-read'}, {'count':...  B01ALOWJN0     true   \n",
       "3  [{'count': '51', 'name': 'to-read'}, {'count':...                false   \n",
       "4  [{'count': '48', 'name': 'to-read'}, {'count':...                false   \n",
       "\n",
       "   average_rating kindle_asin  ... publication_month edition_information  \\\n",
       "0            3.93  B007YLTG5I  ...                 4                       \n",
       "1            4.33  B01NCIKAQX  ...                                         \n",
       "2            3.49  B01ALOWJN0  ...                                         \n",
       "3            3.30              ...                12         Large Print   \n",
       "4            3.54              ...                                         \n",
       "\n",
       "  publication_year                                                url  \\\n",
       "0             2009  https://www.goodreads.com/book/show/6066814-cr...   \n",
       "1                   https://www.goodreads.com/book/show/33394837-t...   \n",
       "2                   https://www.goodreads.com/book/show/29074697-t...   \n",
       "3             1975  https://www.goodreads.com/book/show/1902202.De...   \n",
       "4             2006  https://www.goodreads.com/book/show/9671977-ar...   \n",
       "\n",
       "                                           image_url   book_id ratings_count  \\\n",
       "0  https://images.gr-assets.com/books/1328724803m...   6066814           186   \n",
       "1  https://images.gr-assets.com/books/1493114742m...  33394837           269   \n",
       "2  https://s.gr-assets.com/assets/nophoto/book/11...  29074697           192   \n",
       "3  https://s.gr-assets.com/assets/nophoto/book/11...   1902202            52   \n",
       "4  https://images.gr-assets.com/books/1474788304m...   9671977            22   \n",
       "\n",
       "    work_id                                              title  \\\n",
       "0   6243149          Crowner Royal (Crowner John Mystery, #13)   \n",
       "1  54143148            The House of Memory (Pluto's Snitch #2)   \n",
       "2  49305010  The Slaughtered Virgin of Zenopolis (Inspector...   \n",
       "3   1903897            Dead in the Morning (Patrick Grant, #1)   \n",
       "4   2152906                   Aristotele e i misteri di Eleusi   \n",
       "\n",
       "                                title_without_series  \n",
       "0          Crowner Royal (Crowner John Mystery, #13)  \n",
       "1            The House of Memory (Pluto's Snitch #2)  \n",
       "2  The Slaughtered Virgin of Zenopolis (Inspector...  \n",
       "3            Dead in the Morning (Patrick Grant, #1)  \n",
       "4                   Aristotele e i misteri di Eleusi  \n",
       "\n",
       "[5 rows x 29 columns]"
      ]
     },
     "execution_count": 237,
     "metadata": {},
     "output_type": "execute_result"
    }
   ],
   "source": [
    "df_full = pd.read_json('goodreads_books_mystery_thriller_crime.json')\n",
    "\n",
    "df_full.head()"
   ]
  },
  {
   "cell_type": "code",
   "execution_count": 238,
   "metadata": {},
   "outputs": [],
   "source": [
    "df = df_full"
   ]
  },
  {
   "cell_type": "code",
   "execution_count": 239,
   "metadata": {},
   "outputs": [
    {
     "data": {
      "text/plain": [
       "Index(['isbn', 'text_reviews_count', 'series', 'country_code', 'language_code',\n",
       "       'popular_shelves', 'asin', 'is_ebook', 'average_rating', 'kindle_asin',\n",
       "       'similar_books', 'description', 'format', 'link', 'authors',\n",
       "       'publisher', 'num_pages', 'publication_day', 'isbn13',\n",
       "       'publication_month', 'edition_information', 'publication_year', 'url',\n",
       "       'image_url', 'book_id', 'ratings_count', 'work_id', 'title',\n",
       "       'title_without_series'],\n",
       "      dtype='object')"
      ]
     },
     "execution_count": 239,
     "metadata": {},
     "output_type": "execute_result"
    }
   ],
   "source": [
    "df.columns"
   ]
  },
  {
   "cell_type": "code",
   "execution_count": 240,
   "metadata": {},
   "outputs": [
    {
     "name": "stdout",
     "output_type": "stream",
     "text": [
      "<class 'pandas.core.frame.DataFrame'>\n",
      "RangeIndex: 219235 entries, 0 to 219234\n",
      "Data columns (total 29 columns):\n",
      " #   Column                Non-Null Count   Dtype  \n",
      "---  ------                --------------   -----  \n",
      " 0   isbn                  219235 non-null  object \n",
      " 1   text_reviews_count    219235 non-null  int64  \n",
      " 2   series                219235 non-null  object \n",
      " 3   country_code          219235 non-null  object \n",
      " 4   language_code         219235 non-null  object \n",
      " 5   popular_shelves       219235 non-null  object \n",
      " 6   asin                  219235 non-null  object \n",
      " 7   is_ebook              219235 non-null  object \n",
      " 8   average_rating        219235 non-null  float64\n",
      " 9   kindle_asin           219235 non-null  object \n",
      " 10  similar_books         219235 non-null  object \n",
      " 11  description           219235 non-null  object \n",
      " 12  format                219235 non-null  object \n",
      " 13  link                  219235 non-null  object \n",
      " 14  authors               219235 non-null  object \n",
      " 15  publisher             219235 non-null  object \n",
      " 16  num_pages             219235 non-null  object \n",
      " 17  publication_day       219235 non-null  object \n",
      " 18  isbn13                219235 non-null  object \n",
      " 19  publication_month     219235 non-null  object \n",
      " 20  edition_information   219235 non-null  object \n",
      " 21  publication_year      219235 non-null  object \n",
      " 22  url                   219235 non-null  object \n",
      " 23  image_url             219235 non-null  object \n",
      " 24  book_id               219235 non-null  int64  \n",
      " 25  ratings_count         219235 non-null  int64  \n",
      " 26  work_id               219235 non-null  int64  \n",
      " 27  title                 219235 non-null  object \n",
      " 28  title_without_series  219235 non-null  object \n",
      "dtypes: float64(1), int64(4), object(24)\n",
      "memory usage: 48.5+ MB\n"
     ]
    }
   ],
   "source": [
    "df.info()"
   ]
  },
  {
   "cell_type": "markdown",
   "metadata": {},
   "source": [
    "Replacing blanks with null values for better analysis"
   ]
  },
  {
   "cell_type": "code",
   "execution_count": 241,
   "metadata": {},
   "outputs": [],
   "source": [
    "df = df.replace(r'^\\s*$', np.nan, regex=True)"
   ]
  },
  {
   "cell_type": "code",
   "execution_count": 242,
   "metadata": {},
   "outputs": [
    {
     "data": {
      "text/plain": [
       "isbn                     84517\n",
       "text_reviews_count           0\n",
       "series                       0\n",
       "country_code                 0\n",
       "language_code            82451\n",
       "popular_shelves              0\n",
       "asin                    170799\n",
       "is_ebook                     0\n",
       "average_rating               0\n",
       "kindle_asin              99160\n",
       "similar_books                0\n",
       "description              20747\n",
       "format                   56845\n",
       "link                         0\n",
       "authors                      0\n",
       "publisher                57932\n",
       "num_pages                69828\n",
       "publication_day          89035\n",
       "isbn13                   67288\n",
       "publication_month        77064\n",
       "edition_information     197401\n",
       "publication_year         54494\n",
       "url                          0\n",
       "image_url                    0\n",
       "book_id                      0\n",
       "ratings_count                0\n",
       "work_id                      0\n",
       "title                        0\n",
       "title_without_series         0\n",
       "dtype: int64"
      ]
     },
     "execution_count": 242,
     "metadata": {},
     "output_type": "execute_result"
    }
   ],
   "source": [
    "df.isna().sum()"
   ]
  },
  {
   "cell_type": "code",
   "execution_count": 243,
   "metadata": {},
   "outputs": [
    {
     "data": {
      "text/plain": [
       "(136843, 219235, 134718)"
      ]
     },
     "execution_count": 243,
     "metadata": {},
     "output_type": "execute_result"
    }
   ],
   "source": [
    "df.title.nunique(), df.book_id.nunique(), df.isbn.nunique()"
   ]
  },
  {
   "cell_type": "markdown",
   "metadata": {},
   "source": [
    "Note, the null+nunique for isbn comes to the total for book id. Therefore, we will use book id as our id information and drop the other id columns. Using book_id going forward as the id, will drop the others. "
   ]
  },
  {
   "cell_type": "code",
   "execution_count": 244,
   "metadata": {},
   "outputs": [],
   "source": [
    "#Potential drops\n",
    "drop_otherid = ['isbn','isbn13', 'asin', 'kindle_asin']\n",
    "drop_links = ['url','image_url', 'link']\n",
    "drop_othertimes = ['publication_day']\n",
    "drop_words = ['description']"
   ]
  },
  {
   "cell_type": "code",
   "execution_count": 245,
   "metadata": {},
   "outputs": [],
   "source": [
    "df = df.drop(drop_otherid, axis=1)\n",
    "\n",
    "#Drop links\n",
    "df = df.drop(drop_links, axis=1)\n",
    "\n",
    "#Drop Description\n",
    "df = df.drop(drop_words, axis=1)\n",
    "\n",
    "#Drop day published\n",
    "df = df.drop(drop_othertimes, axis=1)"
   ]
  },
  {
   "cell_type": "code",
   "execution_count": 246,
   "metadata": {},
   "outputs": [
    {
     "data": {
      "text/html": [
       "<div>\n",
       "<style scoped>\n",
       "    .dataframe tbody tr th:only-of-type {\n",
       "        vertical-align: middle;\n",
       "    }\n",
       "\n",
       "    .dataframe tbody tr th {\n",
       "        vertical-align: top;\n",
       "    }\n",
       "\n",
       "    .dataframe thead th {\n",
       "        text-align: right;\n",
       "    }\n",
       "</style>\n",
       "<table border=\"1\" class=\"dataframe\">\n",
       "  <thead>\n",
       "    <tr style=\"text-align: right;\">\n",
       "      <th></th>\n",
       "      <th>text_reviews_count</th>\n",
       "      <th>series</th>\n",
       "      <th>country_code</th>\n",
       "      <th>language_code</th>\n",
       "      <th>popular_shelves</th>\n",
       "      <th>is_ebook</th>\n",
       "      <th>average_rating</th>\n",
       "      <th>similar_books</th>\n",
       "      <th>format</th>\n",
       "      <th>authors</th>\n",
       "      <th>publisher</th>\n",
       "      <th>num_pages</th>\n",
       "      <th>publication_month</th>\n",
       "      <th>edition_information</th>\n",
       "      <th>publication_year</th>\n",
       "      <th>book_id</th>\n",
       "      <th>ratings_count</th>\n",
       "      <th>work_id</th>\n",
       "      <th>title</th>\n",
       "      <th>title_without_series</th>\n",
       "    </tr>\n",
       "  </thead>\n",
       "  <tbody>\n",
       "    <tr>\n",
       "      <th>0</th>\n",
       "      <td>15</td>\n",
       "      <td>[169353]</td>\n",
       "      <td>US</td>\n",
       "      <td>NaN</td>\n",
       "      <td>[{'count': '159', 'name': 'to-read'}, {'count'...</td>\n",
       "      <td>false</td>\n",
       "      <td>3.93</td>\n",
       "      <td>[439108, 522621, 116770, 1275927, 6202655, 840...</td>\n",
       "      <td>Hardcover</td>\n",
       "      <td>[{'author_id': '37778', 'role': ''}]</td>\n",
       "      <td>Simon &amp; Schuster UK</td>\n",
       "      <td>400</td>\n",
       "      <td>4</td>\n",
       "      <td>NaN</td>\n",
       "      <td>2009</td>\n",
       "      <td>6066814</td>\n",
       "      <td>186</td>\n",
       "      <td>6243149</td>\n",
       "      <td>Crowner Royal (Crowner John Mystery, #13)</td>\n",
       "      <td>Crowner Royal (Crowner John Mystery, #13)</td>\n",
       "    </tr>\n",
       "    <tr>\n",
       "      <th>1</th>\n",
       "      <td>60</td>\n",
       "      <td>[1052227]</td>\n",
       "      <td>US</td>\n",
       "      <td>eng</td>\n",
       "      <td>[{'count': '54', 'name': 'currently-reading'},...</td>\n",
       "      <td>true</td>\n",
       "      <td>4.33</td>\n",
       "      <td>[]</td>\n",
       "      <td>NaN</td>\n",
       "      <td>[{'author_id': '242185', 'role': ''}]</td>\n",
       "      <td>NaN</td>\n",
       "      <td>318</td>\n",
       "      <td>NaN</td>\n",
       "      <td>NaN</td>\n",
       "      <td>NaN</td>\n",
       "      <td>33394837</td>\n",
       "      <td>269</td>\n",
       "      <td>54143148</td>\n",
       "      <td>The House of Memory (Pluto's Snitch #2)</td>\n",
       "      <td>The House of Memory (Pluto's Snitch #2)</td>\n",
       "    </tr>\n",
       "    <tr>\n",
       "      <th>2</th>\n",
       "      <td>23</td>\n",
       "      <td>[953679]</td>\n",
       "      <td>US</td>\n",
       "      <td>eng</td>\n",
       "      <td>[{'count': '90', 'name': 'to-read'}, {'count':...</td>\n",
       "      <td>true</td>\n",
       "      <td>3.49</td>\n",
       "      <td>[]</td>\n",
       "      <td>NaN</td>\n",
       "      <td>[{'author_id': '15104629', 'role': ''}, {'auth...</td>\n",
       "      <td>Amazon Digital Services</td>\n",
       "      <td>NaN</td>\n",
       "      <td>NaN</td>\n",
       "      <td>NaN</td>\n",
       "      <td>NaN</td>\n",
       "      <td>29074697</td>\n",
       "      <td>192</td>\n",
       "      <td>49305010</td>\n",
       "      <td>The Slaughtered Virgin of Zenopolis (Inspector...</td>\n",
       "      <td>The Slaughtered Virgin of Zenopolis (Inspector...</td>\n",
       "    </tr>\n",
       "    <tr>\n",
       "      <th>3</th>\n",
       "      <td>8</td>\n",
       "      <td>[408775]</td>\n",
       "      <td>US</td>\n",
       "      <td>NaN</td>\n",
       "      <td>[{'count': '51', 'name': 'to-read'}, {'count':...</td>\n",
       "      <td>false</td>\n",
       "      <td>3.30</td>\n",
       "      <td>[]</td>\n",
       "      <td>Hardcover</td>\n",
       "      <td>[{'author_id': '190988', 'role': ''}]</td>\n",
       "      <td>Ulverscroft</td>\n",
       "      <td>NaN</td>\n",
       "      <td>12</td>\n",
       "      <td>Large Print</td>\n",
       "      <td>1975</td>\n",
       "      <td>1902202</td>\n",
       "      <td>52</td>\n",
       "      <td>1903897</td>\n",
       "      <td>Dead in the Morning (Patrick Grant, #1)</td>\n",
       "      <td>Dead in the Morning (Patrick Grant, #1)</td>\n",
       "    </tr>\n",
       "    <tr>\n",
       "      <th>4</th>\n",
       "      <td>3</td>\n",
       "      <td>[274410]</td>\n",
       "      <td>US</td>\n",
       "      <td>ita</td>\n",
       "      <td>[{'count': '48', 'name': 'to-read'}, {'count':...</td>\n",
       "      <td>false</td>\n",
       "      <td>3.54</td>\n",
       "      <td>[]</td>\n",
       "      <td>Paperback</td>\n",
       "      <td>[{'author_id': '337108', 'role': ''}, {'author...</td>\n",
       "      <td>Sellerio</td>\n",
       "      <td>659</td>\n",
       "      <td>NaN</td>\n",
       "      <td>NaN</td>\n",
       "      <td>2006</td>\n",
       "      <td>9671977</td>\n",
       "      <td>22</td>\n",
       "      <td>2152906</td>\n",
       "      <td>Aristotele e i misteri di Eleusi</td>\n",
       "      <td>Aristotele e i misteri di Eleusi</td>\n",
       "    </tr>\n",
       "  </tbody>\n",
       "</table>\n",
       "</div>"
      ],
      "text/plain": [
       "   text_reviews_count     series country_code language_code  \\\n",
       "0                  15   [169353]           US           NaN   \n",
       "1                  60  [1052227]           US           eng   \n",
       "2                  23   [953679]           US           eng   \n",
       "3                   8   [408775]           US           NaN   \n",
       "4                   3   [274410]           US           ita   \n",
       "\n",
       "                                     popular_shelves is_ebook  average_rating  \\\n",
       "0  [{'count': '159', 'name': 'to-read'}, {'count'...    false            3.93   \n",
       "1  [{'count': '54', 'name': 'currently-reading'},...     true            4.33   \n",
       "2  [{'count': '90', 'name': 'to-read'}, {'count':...     true            3.49   \n",
       "3  [{'count': '51', 'name': 'to-read'}, {'count':...    false            3.30   \n",
       "4  [{'count': '48', 'name': 'to-read'}, {'count':...    false            3.54   \n",
       "\n",
       "                                       similar_books     format  \\\n",
       "0  [439108, 522621, 116770, 1275927, 6202655, 840...  Hardcover   \n",
       "1                                                 []        NaN   \n",
       "2                                                 []        NaN   \n",
       "3                                                 []  Hardcover   \n",
       "4                                                 []  Paperback   \n",
       "\n",
       "                                             authors                publisher  \\\n",
       "0               [{'author_id': '37778', 'role': ''}]      Simon & Schuster UK   \n",
       "1              [{'author_id': '242185', 'role': ''}]                      NaN   \n",
       "2  [{'author_id': '15104629', 'role': ''}, {'auth...  Amazon Digital Services   \n",
       "3              [{'author_id': '190988', 'role': ''}]              Ulverscroft   \n",
       "4  [{'author_id': '337108', 'role': ''}, {'author...                 Sellerio   \n",
       "\n",
       "  num_pages publication_month edition_information publication_year   book_id  \\\n",
       "0       400                 4                 NaN             2009   6066814   \n",
       "1       318               NaN                 NaN              NaN  33394837   \n",
       "2       NaN               NaN                 NaN              NaN  29074697   \n",
       "3       NaN                12         Large Print             1975   1902202   \n",
       "4       659               NaN                 NaN             2006   9671977   \n",
       "\n",
       "   ratings_count   work_id                                              title  \\\n",
       "0            186   6243149          Crowner Royal (Crowner John Mystery, #13)   \n",
       "1            269  54143148            The House of Memory (Pluto's Snitch #2)   \n",
       "2            192  49305010  The Slaughtered Virgin of Zenopolis (Inspector...   \n",
       "3             52   1903897            Dead in the Morning (Patrick Grant, #1)   \n",
       "4             22   2152906                   Aristotele e i misteri di Eleusi   \n",
       "\n",
       "                                title_without_series  \n",
       "0          Crowner Royal (Crowner John Mystery, #13)  \n",
       "1            The House of Memory (Pluto's Snitch #2)  \n",
       "2  The Slaughtered Virgin of Zenopolis (Inspector...  \n",
       "3            Dead in the Morning (Patrick Grant, #1)  \n",
       "4                   Aristotele e i misteri di Eleusi  "
      ]
     },
     "execution_count": 246,
     "metadata": {},
     "output_type": "execute_result"
    }
   ],
   "source": [
    "df.head()"
   ]
  },
  {
   "cell_type": "markdown",
   "metadata": {},
   "source": [
    "## Let's clean up Series, Popular Shelves, and Authors"
   ]
  },
  {
   "cell_type": "code",
   "execution_count": 247,
   "metadata": {},
   "outputs": [],
   "source": [
    "#Series first\n",
    "df.series = df.series.str[0]"
   ]
  },
  {
   "cell_type": "code",
   "execution_count": 248,
   "metadata": {},
   "outputs": [
    {
     "data": {
      "text/html": [
       "<div>\n",
       "<style scoped>\n",
       "    .dataframe tbody tr th:only-of-type {\n",
       "        vertical-align: middle;\n",
       "    }\n",
       "\n",
       "    .dataframe tbody tr th {\n",
       "        vertical-align: top;\n",
       "    }\n",
       "\n",
       "    .dataframe thead th {\n",
       "        text-align: right;\n",
       "    }\n",
       "</style>\n",
       "<table border=\"1\" class=\"dataframe\">\n",
       "  <thead>\n",
       "    <tr style=\"text-align: right;\">\n",
       "      <th></th>\n",
       "      <th>text_reviews_count</th>\n",
       "      <th>series</th>\n",
       "      <th>country_code</th>\n",
       "      <th>language_code</th>\n",
       "      <th>popular_shelves</th>\n",
       "      <th>is_ebook</th>\n",
       "      <th>average_rating</th>\n",
       "      <th>similar_books</th>\n",
       "      <th>format</th>\n",
       "      <th>authors</th>\n",
       "      <th>publisher</th>\n",
       "      <th>num_pages</th>\n",
       "      <th>publication_month</th>\n",
       "      <th>edition_information</th>\n",
       "      <th>publication_year</th>\n",
       "      <th>book_id</th>\n",
       "      <th>ratings_count</th>\n",
       "      <th>work_id</th>\n",
       "      <th>title</th>\n",
       "      <th>title_without_series</th>\n",
       "    </tr>\n",
       "  </thead>\n",
       "  <tbody>\n",
       "    <tr>\n",
       "      <th>0</th>\n",
       "      <td>15</td>\n",
       "      <td>169353</td>\n",
       "      <td>US</td>\n",
       "      <td>NaN</td>\n",
       "      <td>[{'count': '159', 'name': 'to-read'}, {'count'...</td>\n",
       "      <td>false</td>\n",
       "      <td>3.93</td>\n",
       "      <td>[439108, 522621, 116770, 1275927, 6202655, 840...</td>\n",
       "      <td>Hardcover</td>\n",
       "      <td>[{'author_id': '37778', 'role': ''}]</td>\n",
       "      <td>Simon &amp; Schuster UK</td>\n",
       "      <td>400</td>\n",
       "      <td>4</td>\n",
       "      <td>NaN</td>\n",
       "      <td>2009</td>\n",
       "      <td>6066814</td>\n",
       "      <td>186</td>\n",
       "      <td>6243149</td>\n",
       "      <td>Crowner Royal (Crowner John Mystery, #13)</td>\n",
       "      <td>Crowner Royal (Crowner John Mystery, #13)</td>\n",
       "    </tr>\n",
       "    <tr>\n",
       "      <th>1</th>\n",
       "      <td>60</td>\n",
       "      <td>1052227</td>\n",
       "      <td>US</td>\n",
       "      <td>eng</td>\n",
       "      <td>[{'count': '54', 'name': 'currently-reading'},...</td>\n",
       "      <td>true</td>\n",
       "      <td>4.33</td>\n",
       "      <td>[]</td>\n",
       "      <td>NaN</td>\n",
       "      <td>[{'author_id': '242185', 'role': ''}]</td>\n",
       "      <td>NaN</td>\n",
       "      <td>318</td>\n",
       "      <td>NaN</td>\n",
       "      <td>NaN</td>\n",
       "      <td>NaN</td>\n",
       "      <td>33394837</td>\n",
       "      <td>269</td>\n",
       "      <td>54143148</td>\n",
       "      <td>The House of Memory (Pluto's Snitch #2)</td>\n",
       "      <td>The House of Memory (Pluto's Snitch #2)</td>\n",
       "    </tr>\n",
       "    <tr>\n",
       "      <th>2</th>\n",
       "      <td>23</td>\n",
       "      <td>953679</td>\n",
       "      <td>US</td>\n",
       "      <td>eng</td>\n",
       "      <td>[{'count': '90', 'name': 'to-read'}, {'count':...</td>\n",
       "      <td>true</td>\n",
       "      <td>3.49</td>\n",
       "      <td>[]</td>\n",
       "      <td>NaN</td>\n",
       "      <td>[{'author_id': '15104629', 'role': ''}, {'auth...</td>\n",
       "      <td>Amazon Digital Services</td>\n",
       "      <td>NaN</td>\n",
       "      <td>NaN</td>\n",
       "      <td>NaN</td>\n",
       "      <td>NaN</td>\n",
       "      <td>29074697</td>\n",
       "      <td>192</td>\n",
       "      <td>49305010</td>\n",
       "      <td>The Slaughtered Virgin of Zenopolis (Inspector...</td>\n",
       "      <td>The Slaughtered Virgin of Zenopolis (Inspector...</td>\n",
       "    </tr>\n",
       "    <tr>\n",
       "      <th>3</th>\n",
       "      <td>8</td>\n",
       "      <td>408775</td>\n",
       "      <td>US</td>\n",
       "      <td>NaN</td>\n",
       "      <td>[{'count': '51', 'name': 'to-read'}, {'count':...</td>\n",
       "      <td>false</td>\n",
       "      <td>3.30</td>\n",
       "      <td>[]</td>\n",
       "      <td>Hardcover</td>\n",
       "      <td>[{'author_id': '190988', 'role': ''}]</td>\n",
       "      <td>Ulverscroft</td>\n",
       "      <td>NaN</td>\n",
       "      <td>12</td>\n",
       "      <td>Large Print</td>\n",
       "      <td>1975</td>\n",
       "      <td>1902202</td>\n",
       "      <td>52</td>\n",
       "      <td>1903897</td>\n",
       "      <td>Dead in the Morning (Patrick Grant, #1)</td>\n",
       "      <td>Dead in the Morning (Patrick Grant, #1)</td>\n",
       "    </tr>\n",
       "    <tr>\n",
       "      <th>4</th>\n",
       "      <td>3</td>\n",
       "      <td>274410</td>\n",
       "      <td>US</td>\n",
       "      <td>ita</td>\n",
       "      <td>[{'count': '48', 'name': 'to-read'}, {'count':...</td>\n",
       "      <td>false</td>\n",
       "      <td>3.54</td>\n",
       "      <td>[]</td>\n",
       "      <td>Paperback</td>\n",
       "      <td>[{'author_id': '337108', 'role': ''}, {'author...</td>\n",
       "      <td>Sellerio</td>\n",
       "      <td>659</td>\n",
       "      <td>NaN</td>\n",
       "      <td>NaN</td>\n",
       "      <td>2006</td>\n",
       "      <td>9671977</td>\n",
       "      <td>22</td>\n",
       "      <td>2152906</td>\n",
       "      <td>Aristotele e i misteri di Eleusi</td>\n",
       "      <td>Aristotele e i misteri di Eleusi</td>\n",
       "    </tr>\n",
       "  </tbody>\n",
       "</table>\n",
       "</div>"
      ],
      "text/plain": [
       "   text_reviews_count   series country_code language_code  \\\n",
       "0                  15   169353           US           NaN   \n",
       "1                  60  1052227           US           eng   \n",
       "2                  23   953679           US           eng   \n",
       "3                   8   408775           US           NaN   \n",
       "4                   3   274410           US           ita   \n",
       "\n",
       "                                     popular_shelves is_ebook  average_rating  \\\n",
       "0  [{'count': '159', 'name': 'to-read'}, {'count'...    false            3.93   \n",
       "1  [{'count': '54', 'name': 'currently-reading'},...     true            4.33   \n",
       "2  [{'count': '90', 'name': 'to-read'}, {'count':...     true            3.49   \n",
       "3  [{'count': '51', 'name': 'to-read'}, {'count':...    false            3.30   \n",
       "4  [{'count': '48', 'name': 'to-read'}, {'count':...    false            3.54   \n",
       "\n",
       "                                       similar_books     format  \\\n",
       "0  [439108, 522621, 116770, 1275927, 6202655, 840...  Hardcover   \n",
       "1                                                 []        NaN   \n",
       "2                                                 []        NaN   \n",
       "3                                                 []  Hardcover   \n",
       "4                                                 []  Paperback   \n",
       "\n",
       "                                             authors                publisher  \\\n",
       "0               [{'author_id': '37778', 'role': ''}]      Simon & Schuster UK   \n",
       "1              [{'author_id': '242185', 'role': ''}]                      NaN   \n",
       "2  [{'author_id': '15104629', 'role': ''}, {'auth...  Amazon Digital Services   \n",
       "3              [{'author_id': '190988', 'role': ''}]              Ulverscroft   \n",
       "4  [{'author_id': '337108', 'role': ''}, {'author...                 Sellerio   \n",
       "\n",
       "  num_pages publication_month edition_information publication_year   book_id  \\\n",
       "0       400                 4                 NaN             2009   6066814   \n",
       "1       318               NaN                 NaN              NaN  33394837   \n",
       "2       NaN               NaN                 NaN              NaN  29074697   \n",
       "3       NaN                12         Large Print             1975   1902202   \n",
       "4       659               NaN                 NaN             2006   9671977   \n",
       "\n",
       "   ratings_count   work_id                                              title  \\\n",
       "0            186   6243149          Crowner Royal (Crowner John Mystery, #13)   \n",
       "1            269  54143148            The House of Memory (Pluto's Snitch #2)   \n",
       "2            192  49305010  The Slaughtered Virgin of Zenopolis (Inspector...   \n",
       "3             52   1903897            Dead in the Morning (Patrick Grant, #1)   \n",
       "4             22   2152906                   Aristotele e i misteri di Eleusi   \n",
       "\n",
       "                                title_without_series  \n",
       "0          Crowner Royal (Crowner John Mystery, #13)  \n",
       "1            The House of Memory (Pluto's Snitch #2)  \n",
       "2  The Slaughtered Virgin of Zenopolis (Inspector...  \n",
       "3            Dead in the Morning (Patrick Grant, #1)  \n",
       "4                   Aristotele e i misteri di Eleusi  "
      ]
     },
     "execution_count": 248,
     "metadata": {},
     "output_type": "execute_result"
    }
   ],
   "source": [
    "df.head()"
   ]
  },
  {
   "cell_type": "code",
   "execution_count": 249,
   "metadata": {},
   "outputs": [
    {
     "data": {
      "text/plain": [
       "0                 [{'author_id': '37778', 'role': ''}]\n",
       "1                [{'author_id': '242185', 'role': ''}]\n",
       "2    [{'author_id': '15104629', 'role': ''}, {'auth...\n",
       "3                [{'author_id': '190988', 'role': ''}]\n",
       "4    [{'author_id': '337108', 'role': ''}, {'author...\n",
       "Name: authors, dtype: object"
      ]
     },
     "execution_count": 249,
     "metadata": {},
     "output_type": "execute_result"
    }
   ],
   "source": [
    "#Now Authors\n",
    "df.authors.head()"
   ]
  },
  {
   "cell_type": "code",
   "execution_count": 250,
   "metadata": {},
   "outputs": [
    {
     "name": "stdout",
     "output_type": "stream",
     "text": [
      "<class 'pandas.core.frame.DataFrame'>\n",
      "RangeIndex: 219235 entries, 0 to 219234\n",
      "Data columns (total 51 columns):\n",
      " #   Column  Non-Null Count   Dtype \n",
      "---  ------  --------------   ----- \n",
      " 0   0       219235 non-null  object\n",
      " 1   1       44710 non-null   object\n",
      " 2   2       7065 non-null    object\n",
      " 3   3       2113 non-null    object\n",
      " 4   4       1276 non-null    object\n",
      " 5   5       1022 non-null    object\n",
      " 6   6       908 non-null     object\n",
      " 7   7       820 non-null     object\n",
      " 8   8       758 non-null     object\n",
      " 9   9       675 non-null     object\n",
      " 10  10      601 non-null     object\n",
      " 11  11      553 non-null     object\n",
      " 12  12      506 non-null     object\n",
      " 13  13      457 non-null     object\n",
      " 14  14      404 non-null     object\n",
      " 15  15      332 non-null     object\n",
      " 16  16      295 non-null     object\n",
      " 17  17      258 non-null     object\n",
      " 18  18      233 non-null     object\n",
      " 19  19      209 non-null     object\n",
      " 20  20      172 non-null     object\n",
      " 21  21      141 non-null     object\n",
      " 22  22      119 non-null     object\n",
      " 23  23      105 non-null     object\n",
      " 24  24      95 non-null      object\n",
      " 25  25      84 non-null      object\n",
      " 26  26      68 non-null      object\n",
      " 27  27      63 non-null      object\n",
      " 28  28      62 non-null      object\n",
      " 29  29      57 non-null      object\n",
      " 30  30      53 non-null      object\n",
      " 31  31      47 non-null      object\n",
      " 32  32      43 non-null      object\n",
      " 33  33      41 non-null      object\n",
      " 34  34      39 non-null      object\n",
      " 35  35      39 non-null      object\n",
      " 36  36      33 non-null      object\n",
      " 37  37      29 non-null      object\n",
      " 38  38      23 non-null      object\n",
      " 39  39      22 non-null      object\n",
      " 40  40      18 non-null      object\n",
      " 41  41      14 non-null      object\n",
      " 42  42      13 non-null      object\n",
      " 43  43      12 non-null      object\n",
      " 44  44      9 non-null       object\n",
      " 45  45      9 non-null       object\n",
      " 46  46      9 non-null       object\n",
      " 47  47      9 non-null       object\n",
      " 48  48      6 non-null       object\n",
      " 49  49      6 non-null       object\n",
      " 50  50      4 non-null       object\n",
      "dtypes: object(51)\n",
      "memory usage: 85.3+ MB\n"
     ]
    }
   ],
   "source": [
    "auths = df.authors.apply(pd.Series)\n",
    "auths.info()"
   ]
  },
  {
   "cell_type": "code",
   "execution_count": 251,
   "metadata": {},
   "outputs": [],
   "source": [
    "#For space, we will only considered 3 author listings\n",
    "au1 = auths[0].apply(pd.Series)\n",
    "au2 = auths[1].apply(pd.Series)\n",
    "au3 = auths[2].apply(pd.Series)"
   ]
  },
  {
   "cell_type": "code",
   "execution_count": 252,
   "metadata": {},
   "outputs": [
    {
     "data": {
      "text/html": [
       "<div>\n",
       "<style scoped>\n",
       "    .dataframe tbody tr th:only-of-type {\n",
       "        vertical-align: middle;\n",
       "    }\n",
       "\n",
       "    .dataframe tbody tr th {\n",
       "        vertical-align: top;\n",
       "    }\n",
       "\n",
       "    .dataframe thead th {\n",
       "        text-align: right;\n",
       "    }\n",
       "</style>\n",
       "<table border=\"1\" class=\"dataframe\">\n",
       "  <thead>\n",
       "    <tr style=\"text-align: right;\">\n",
       "      <th></th>\n",
       "      <th>author_id</th>\n",
       "      <th>role</th>\n",
       "    </tr>\n",
       "  </thead>\n",
       "  <tbody>\n",
       "    <tr>\n",
       "      <th>0</th>\n",
       "      <td>37778</td>\n",
       "      <td></td>\n",
       "    </tr>\n",
       "    <tr>\n",
       "      <th>1</th>\n",
       "      <td>242185</td>\n",
       "      <td></td>\n",
       "    </tr>\n",
       "    <tr>\n",
       "      <th>2</th>\n",
       "      <td>15104629</td>\n",
       "      <td></td>\n",
       "    </tr>\n",
       "    <tr>\n",
       "      <th>3</th>\n",
       "      <td>190988</td>\n",
       "      <td></td>\n",
       "    </tr>\n",
       "    <tr>\n",
       "      <th>4</th>\n",
       "      <td>337108</td>\n",
       "      <td></td>\n",
       "    </tr>\n",
       "  </tbody>\n",
       "</table>\n",
       "</div>"
      ],
      "text/plain": [
       "  author_id role\n",
       "0     37778     \n",
       "1    242185     \n",
       "2  15104629     \n",
       "3    190988     \n",
       "4    337108     "
      ]
     },
     "execution_count": 252,
     "metadata": {},
     "output_type": "execute_result"
    }
   ],
   "source": [
    "au1.head()"
   ]
  },
  {
   "cell_type": "code",
   "execution_count": 253,
   "metadata": {},
   "outputs": [],
   "source": [
    "df['1st_au_id'] = au1.author_id\n",
    "df['1st_au_role'] = au1.role\n",
    "df['2nd_au_id'] = au2.author_id\n",
    "df['2nd_au_role'] = au2.role\n",
    "df['3rd_au_id'] = au3.author_id\n",
    "df['3rd_au_role'] = au3.role"
   ]
  },
  {
   "cell_type": "code",
   "execution_count": 254,
   "metadata": {},
   "outputs": [
    {
     "data": {
      "text/html": [
       "<div>\n",
       "<style scoped>\n",
       "    .dataframe tbody tr th:only-of-type {\n",
       "        vertical-align: middle;\n",
       "    }\n",
       "\n",
       "    .dataframe tbody tr th {\n",
       "        vertical-align: top;\n",
       "    }\n",
       "\n",
       "    .dataframe thead th {\n",
       "        text-align: right;\n",
       "    }\n",
       "</style>\n",
       "<table border=\"1\" class=\"dataframe\">\n",
       "  <thead>\n",
       "    <tr style=\"text-align: right;\">\n",
       "      <th></th>\n",
       "      <th>text_reviews_count</th>\n",
       "      <th>series</th>\n",
       "      <th>country_code</th>\n",
       "      <th>language_code</th>\n",
       "      <th>popular_shelves</th>\n",
       "      <th>is_ebook</th>\n",
       "      <th>average_rating</th>\n",
       "      <th>similar_books</th>\n",
       "      <th>format</th>\n",
       "      <th>authors</th>\n",
       "      <th>...</th>\n",
       "      <th>ratings_count</th>\n",
       "      <th>work_id</th>\n",
       "      <th>title</th>\n",
       "      <th>title_without_series</th>\n",
       "      <th>1st_au_id</th>\n",
       "      <th>1st_au_role</th>\n",
       "      <th>2nd_au_id</th>\n",
       "      <th>2nd_au_role</th>\n",
       "      <th>3rd_au_id</th>\n",
       "      <th>3rd_au_role</th>\n",
       "    </tr>\n",
       "  </thead>\n",
       "  <tbody>\n",
       "    <tr>\n",
       "      <th>0</th>\n",
       "      <td>15</td>\n",
       "      <td>169353</td>\n",
       "      <td>US</td>\n",
       "      <td>NaN</td>\n",
       "      <td>[{'count': '159', 'name': 'to-read'}, {'count'...</td>\n",
       "      <td>false</td>\n",
       "      <td>3.93</td>\n",
       "      <td>[439108, 522621, 116770, 1275927, 6202655, 840...</td>\n",
       "      <td>Hardcover</td>\n",
       "      <td>[{'author_id': '37778', 'role': ''}]</td>\n",
       "      <td>...</td>\n",
       "      <td>186</td>\n",
       "      <td>6243149</td>\n",
       "      <td>Crowner Royal (Crowner John Mystery, #13)</td>\n",
       "      <td>Crowner Royal (Crowner John Mystery, #13)</td>\n",
       "      <td>37778</td>\n",
       "      <td></td>\n",
       "      <td>NaN</td>\n",
       "      <td>NaN</td>\n",
       "      <td>NaN</td>\n",
       "      <td>NaN</td>\n",
       "    </tr>\n",
       "    <tr>\n",
       "      <th>1</th>\n",
       "      <td>60</td>\n",
       "      <td>1052227</td>\n",
       "      <td>US</td>\n",
       "      <td>eng</td>\n",
       "      <td>[{'count': '54', 'name': 'currently-reading'},...</td>\n",
       "      <td>true</td>\n",
       "      <td>4.33</td>\n",
       "      <td>[]</td>\n",
       "      <td>NaN</td>\n",
       "      <td>[{'author_id': '242185', 'role': ''}]</td>\n",
       "      <td>...</td>\n",
       "      <td>269</td>\n",
       "      <td>54143148</td>\n",
       "      <td>The House of Memory (Pluto's Snitch #2)</td>\n",
       "      <td>The House of Memory (Pluto's Snitch #2)</td>\n",
       "      <td>242185</td>\n",
       "      <td></td>\n",
       "      <td>NaN</td>\n",
       "      <td>NaN</td>\n",
       "      <td>NaN</td>\n",
       "      <td>NaN</td>\n",
       "    </tr>\n",
       "    <tr>\n",
       "      <th>2</th>\n",
       "      <td>23</td>\n",
       "      <td>953679</td>\n",
       "      <td>US</td>\n",
       "      <td>eng</td>\n",
       "      <td>[{'count': '90', 'name': 'to-read'}, {'count':...</td>\n",
       "      <td>true</td>\n",
       "      <td>3.49</td>\n",
       "      <td>[]</td>\n",
       "      <td>NaN</td>\n",
       "      <td>[{'author_id': '15104629', 'role': ''}, {'auth...</td>\n",
       "      <td>...</td>\n",
       "      <td>192</td>\n",
       "      <td>49305010</td>\n",
       "      <td>The Slaughtered Virgin of Zenopolis (Inspector...</td>\n",
       "      <td>The Slaughtered Virgin of Zenopolis (Inspector...</td>\n",
       "      <td>15104629</td>\n",
       "      <td></td>\n",
       "      <td>14425713</td>\n",
       "      <td></td>\n",
       "      <td>NaN</td>\n",
       "      <td>NaN</td>\n",
       "    </tr>\n",
       "    <tr>\n",
       "      <th>3</th>\n",
       "      <td>8</td>\n",
       "      <td>408775</td>\n",
       "      <td>US</td>\n",
       "      <td>NaN</td>\n",
       "      <td>[{'count': '51', 'name': 'to-read'}, {'count':...</td>\n",
       "      <td>false</td>\n",
       "      <td>3.30</td>\n",
       "      <td>[]</td>\n",
       "      <td>Hardcover</td>\n",
       "      <td>[{'author_id': '190988', 'role': ''}]</td>\n",
       "      <td>...</td>\n",
       "      <td>52</td>\n",
       "      <td>1903897</td>\n",
       "      <td>Dead in the Morning (Patrick Grant, #1)</td>\n",
       "      <td>Dead in the Morning (Patrick Grant, #1)</td>\n",
       "      <td>190988</td>\n",
       "      <td></td>\n",
       "      <td>NaN</td>\n",
       "      <td>NaN</td>\n",
       "      <td>NaN</td>\n",
       "      <td>NaN</td>\n",
       "    </tr>\n",
       "    <tr>\n",
       "      <th>4</th>\n",
       "      <td>3</td>\n",
       "      <td>274410</td>\n",
       "      <td>US</td>\n",
       "      <td>ita</td>\n",
       "      <td>[{'count': '48', 'name': 'to-read'}, {'count':...</td>\n",
       "      <td>false</td>\n",
       "      <td>3.54</td>\n",
       "      <td>[]</td>\n",
       "      <td>Paperback</td>\n",
       "      <td>[{'author_id': '337108', 'role': ''}, {'author...</td>\n",
       "      <td>...</td>\n",
       "      <td>22</td>\n",
       "      <td>2152906</td>\n",
       "      <td>Aristotele e i misteri di Eleusi</td>\n",
       "      <td>Aristotele e i misteri di Eleusi</td>\n",
       "      <td>337108</td>\n",
       "      <td></td>\n",
       "      <td>4585413</td>\n",
       "      <td>Translator</td>\n",
       "      <td>1093599</td>\n",
       "      <td>Notes</td>\n",
       "    </tr>\n",
       "  </tbody>\n",
       "</table>\n",
       "<p>5 rows × 26 columns</p>\n",
       "</div>"
      ],
      "text/plain": [
       "   text_reviews_count   series country_code language_code  \\\n",
       "0                  15   169353           US           NaN   \n",
       "1                  60  1052227           US           eng   \n",
       "2                  23   953679           US           eng   \n",
       "3                   8   408775           US           NaN   \n",
       "4                   3   274410           US           ita   \n",
       "\n",
       "                                     popular_shelves is_ebook  average_rating  \\\n",
       "0  [{'count': '159', 'name': 'to-read'}, {'count'...    false            3.93   \n",
       "1  [{'count': '54', 'name': 'currently-reading'},...     true            4.33   \n",
       "2  [{'count': '90', 'name': 'to-read'}, {'count':...     true            3.49   \n",
       "3  [{'count': '51', 'name': 'to-read'}, {'count':...    false            3.30   \n",
       "4  [{'count': '48', 'name': 'to-read'}, {'count':...    false            3.54   \n",
       "\n",
       "                                       similar_books     format  \\\n",
       "0  [439108, 522621, 116770, 1275927, 6202655, 840...  Hardcover   \n",
       "1                                                 []        NaN   \n",
       "2                                                 []        NaN   \n",
       "3                                                 []  Hardcover   \n",
       "4                                                 []  Paperback   \n",
       "\n",
       "                                             authors  ... ratings_count  \\\n",
       "0               [{'author_id': '37778', 'role': ''}]  ...           186   \n",
       "1              [{'author_id': '242185', 'role': ''}]  ...           269   \n",
       "2  [{'author_id': '15104629', 'role': ''}, {'auth...  ...           192   \n",
       "3              [{'author_id': '190988', 'role': ''}]  ...            52   \n",
       "4  [{'author_id': '337108', 'role': ''}, {'author...  ...            22   \n",
       "\n",
       "    work_id                                              title  \\\n",
       "0   6243149          Crowner Royal (Crowner John Mystery, #13)   \n",
       "1  54143148            The House of Memory (Pluto's Snitch #2)   \n",
       "2  49305010  The Slaughtered Virgin of Zenopolis (Inspector...   \n",
       "3   1903897            Dead in the Morning (Patrick Grant, #1)   \n",
       "4   2152906                   Aristotele e i misteri di Eleusi   \n",
       "\n",
       "                                title_without_series 1st_au_id  1st_au_role  \\\n",
       "0          Crowner Royal (Crowner John Mystery, #13)     37778                \n",
       "1            The House of Memory (Pluto's Snitch #2)    242185                \n",
       "2  The Slaughtered Virgin of Zenopolis (Inspector...  15104629                \n",
       "3            Dead in the Morning (Patrick Grant, #1)    190988                \n",
       "4                   Aristotele e i misteri di Eleusi    337108                \n",
       "\n",
       "   2nd_au_id  2nd_au_role 3rd_au_id 3rd_au_role  \n",
       "0        NaN          NaN       NaN         NaN  \n",
       "1        NaN          NaN       NaN         NaN  \n",
       "2   14425713                    NaN         NaN  \n",
       "3        NaN          NaN       NaN         NaN  \n",
       "4    4585413   Translator   1093599       Notes  \n",
       "\n",
       "[5 rows x 26 columns]"
      ]
     },
     "execution_count": 254,
     "metadata": {},
     "output_type": "execute_result"
    }
   ],
   "source": [
    "df.head()"
   ]
  },
  {
   "cell_type": "code",
   "execution_count": 255,
   "metadata": {},
   "outputs": [],
   "source": [
    "#Dropping authors column\n",
    "df.drop(columns=['authors'], inplace=True)"
   ]
  },
  {
   "cell_type": "code",
   "execution_count": 256,
   "metadata": {},
   "outputs": [],
   "source": [
    "#df=df_full"
   ]
  },
  {
   "cell_type": "markdown",
   "metadata": {},
   "source": [
    "----------Got Popular Shelves separated. Will address if time.-----"
   ]
  },
  {
   "cell_type": "code",
   "execution_count": 257,
   "metadata": {},
   "outputs": [
    {
     "data": {
      "text/plain": [
       "0         [{'count': '159', 'name': 'to-read'}, {'count'...\n",
       "1         [{'count': '54', 'name': 'currently-reading'},...\n",
       "2         [{'count': '90', 'name': 'to-read'}, {'count':...\n",
       "3         [{'count': '51', 'name': 'to-read'}, {'count':...\n",
       "4         [{'count': '48', 'name': 'to-read'}, {'count':...\n",
       "                                ...                        \n",
       "219230    [{'count': '2422', 'name': 'to-read'}, {'count...\n",
       "219231    [{'count': '497', 'name': 'to-read'}, {'count'...\n",
       "219232    [{'count': '735', 'name': 'to-read'}, {'count'...\n",
       "219233    [{'count': '36', 'name': 'to-read'}, {'count':...\n",
       "219234    [{'count': '702', 'name': 'to-read'}, {'count'...\n",
       "Name: popular_shelves, Length: 219235, dtype: object"
      ]
     },
     "execution_count": 257,
     "metadata": {},
     "output_type": "execute_result"
    }
   ],
   "source": [
    "df['popular_shelves']"
   ]
  },
  {
   "cell_type": "code",
   "execution_count": 258,
   "metadata": {},
   "outputs": [],
   "source": [
    "#Now onto Popular Shelves\n",
    "\n",
    "#ps = df.popular_shelves.apply(pd.Series)"
   ]
  },
  {
   "cell_type": "code",
   "execution_count": 259,
   "metadata": {},
   "outputs": [],
   "source": [
    "#ps"
   ]
  },
  {
   "cell_type": "code",
   "execution_count": 260,
   "metadata": {},
   "outputs": [],
   "source": [
    "#ps_t = ps[:10]\n",
    "#ps_t"
   ]
  },
  {
   "cell_type": "markdown",
   "metadata": {},
   "source": [
    "#For future use if I have time\n",
    "ps_df = pd.DataFrame()\n",
    "for i in ps_t.columns:\n",
    "    psi = ps_t[i].apply(pd.Series)\n",
    "    cols = ['ps_count_'+str(i),'ps_name_'+str(i)]\n",
    "    psi.columns = cols\n",
    "    ps_df = pd.concat([ps_df,psi], axis=1)\n",
    "ps_df"
   ]
  },
  {
   "cell_type": "markdown",
   "metadata": {},
   "source": [
    "Similarly, I will skip 'similar_books' for now, in the interest of time. "
   ]
  },
  {
   "cell_type": "markdown",
   "metadata": {},
   "source": [
    "---------Popular shelves ends here------"
   ]
  },
  {
   "cell_type": "code",
   "execution_count": 261,
   "metadata": {},
   "outputs": [
    {
     "data": {
      "text/plain": [
       "Index(['text_reviews_count', 'series', 'country_code', 'language_code',\n",
       "       'popular_shelves', 'is_ebook', 'average_rating', 'similar_books',\n",
       "       'format', 'publisher', 'num_pages', 'publication_month',\n",
       "       'edition_information', 'publication_year', 'book_id', 'ratings_count',\n",
       "       'work_id', 'title', 'title_without_series', '1st_au_id', '1st_au_role',\n",
       "       '2nd_au_id', '2nd_au_role', '3rd_au_id', '3rd_au_role'],\n",
       "      dtype='object')"
      ]
     },
     "execution_count": 261,
     "metadata": {},
     "output_type": "execute_result"
    }
   ],
   "source": [
    "df.columns"
   ]
  },
  {
   "cell_type": "code",
   "execution_count": 262,
   "metadata": {},
   "outputs": [],
   "source": [
    "df_ps = df['popular_shelves']\n",
    "df_sb = df['similar_books']"
   ]
  },
  {
   "cell_type": "code",
   "execution_count": 263,
   "metadata": {},
   "outputs": [],
   "source": [
    "df.drop(columns=['popular_shelves','similar_books'],inplace=True)"
   ]
  },
  {
   "cell_type": "code",
   "execution_count": 264,
   "metadata": {},
   "outputs": [
    {
     "data": {
      "text/html": [
       "<div>\n",
       "<style scoped>\n",
       "    .dataframe tbody tr th:only-of-type {\n",
       "        vertical-align: middle;\n",
       "    }\n",
       "\n",
       "    .dataframe tbody tr th {\n",
       "        vertical-align: top;\n",
       "    }\n",
       "\n",
       "    .dataframe thead th {\n",
       "        text-align: right;\n",
       "    }\n",
       "</style>\n",
       "<table border=\"1\" class=\"dataframe\">\n",
       "  <thead>\n",
       "    <tr style=\"text-align: right;\">\n",
       "      <th></th>\n",
       "      <th>text_reviews_count</th>\n",
       "      <th>series</th>\n",
       "      <th>country_code</th>\n",
       "      <th>language_code</th>\n",
       "      <th>is_ebook</th>\n",
       "      <th>average_rating</th>\n",
       "      <th>format</th>\n",
       "      <th>publisher</th>\n",
       "      <th>num_pages</th>\n",
       "      <th>publication_month</th>\n",
       "      <th>...</th>\n",
       "      <th>ratings_count</th>\n",
       "      <th>work_id</th>\n",
       "      <th>title</th>\n",
       "      <th>title_without_series</th>\n",
       "      <th>1st_au_id</th>\n",
       "      <th>1st_au_role</th>\n",
       "      <th>2nd_au_id</th>\n",
       "      <th>2nd_au_role</th>\n",
       "      <th>3rd_au_id</th>\n",
       "      <th>3rd_au_role</th>\n",
       "    </tr>\n",
       "  </thead>\n",
       "  <tbody>\n",
       "    <tr>\n",
       "      <th>0</th>\n",
       "      <td>15</td>\n",
       "      <td>169353</td>\n",
       "      <td>US</td>\n",
       "      <td>NaN</td>\n",
       "      <td>false</td>\n",
       "      <td>3.93</td>\n",
       "      <td>Hardcover</td>\n",
       "      <td>Simon &amp; Schuster UK</td>\n",
       "      <td>400</td>\n",
       "      <td>4</td>\n",
       "      <td>...</td>\n",
       "      <td>186</td>\n",
       "      <td>6243149</td>\n",
       "      <td>Crowner Royal (Crowner John Mystery, #13)</td>\n",
       "      <td>Crowner Royal (Crowner John Mystery, #13)</td>\n",
       "      <td>37778</td>\n",
       "      <td></td>\n",
       "      <td>NaN</td>\n",
       "      <td>NaN</td>\n",
       "      <td>NaN</td>\n",
       "      <td>NaN</td>\n",
       "    </tr>\n",
       "    <tr>\n",
       "      <th>1</th>\n",
       "      <td>60</td>\n",
       "      <td>1052227</td>\n",
       "      <td>US</td>\n",
       "      <td>eng</td>\n",
       "      <td>true</td>\n",
       "      <td>4.33</td>\n",
       "      <td>NaN</td>\n",
       "      <td>NaN</td>\n",
       "      <td>318</td>\n",
       "      <td>NaN</td>\n",
       "      <td>...</td>\n",
       "      <td>269</td>\n",
       "      <td>54143148</td>\n",
       "      <td>The House of Memory (Pluto's Snitch #2)</td>\n",
       "      <td>The House of Memory (Pluto's Snitch #2)</td>\n",
       "      <td>242185</td>\n",
       "      <td></td>\n",
       "      <td>NaN</td>\n",
       "      <td>NaN</td>\n",
       "      <td>NaN</td>\n",
       "      <td>NaN</td>\n",
       "    </tr>\n",
       "    <tr>\n",
       "      <th>2</th>\n",
       "      <td>23</td>\n",
       "      <td>953679</td>\n",
       "      <td>US</td>\n",
       "      <td>eng</td>\n",
       "      <td>true</td>\n",
       "      <td>3.49</td>\n",
       "      <td>NaN</td>\n",
       "      <td>Amazon Digital Services</td>\n",
       "      <td>NaN</td>\n",
       "      <td>NaN</td>\n",
       "      <td>...</td>\n",
       "      <td>192</td>\n",
       "      <td>49305010</td>\n",
       "      <td>The Slaughtered Virgin of Zenopolis (Inspector...</td>\n",
       "      <td>The Slaughtered Virgin of Zenopolis (Inspector...</td>\n",
       "      <td>15104629</td>\n",
       "      <td></td>\n",
       "      <td>14425713</td>\n",
       "      <td></td>\n",
       "      <td>NaN</td>\n",
       "      <td>NaN</td>\n",
       "    </tr>\n",
       "    <tr>\n",
       "      <th>3</th>\n",
       "      <td>8</td>\n",
       "      <td>408775</td>\n",
       "      <td>US</td>\n",
       "      <td>NaN</td>\n",
       "      <td>false</td>\n",
       "      <td>3.30</td>\n",
       "      <td>Hardcover</td>\n",
       "      <td>Ulverscroft</td>\n",
       "      <td>NaN</td>\n",
       "      <td>12</td>\n",
       "      <td>...</td>\n",
       "      <td>52</td>\n",
       "      <td>1903897</td>\n",
       "      <td>Dead in the Morning (Patrick Grant, #1)</td>\n",
       "      <td>Dead in the Morning (Patrick Grant, #1)</td>\n",
       "      <td>190988</td>\n",
       "      <td></td>\n",
       "      <td>NaN</td>\n",
       "      <td>NaN</td>\n",
       "      <td>NaN</td>\n",
       "      <td>NaN</td>\n",
       "    </tr>\n",
       "    <tr>\n",
       "      <th>4</th>\n",
       "      <td>3</td>\n",
       "      <td>274410</td>\n",
       "      <td>US</td>\n",
       "      <td>ita</td>\n",
       "      <td>false</td>\n",
       "      <td>3.54</td>\n",
       "      <td>Paperback</td>\n",
       "      <td>Sellerio</td>\n",
       "      <td>659</td>\n",
       "      <td>NaN</td>\n",
       "      <td>...</td>\n",
       "      <td>22</td>\n",
       "      <td>2152906</td>\n",
       "      <td>Aristotele e i misteri di Eleusi</td>\n",
       "      <td>Aristotele e i misteri di Eleusi</td>\n",
       "      <td>337108</td>\n",
       "      <td></td>\n",
       "      <td>4585413</td>\n",
       "      <td>Translator</td>\n",
       "      <td>1093599</td>\n",
       "      <td>Notes</td>\n",
       "    </tr>\n",
       "  </tbody>\n",
       "</table>\n",
       "<p>5 rows × 23 columns</p>\n",
       "</div>"
      ],
      "text/plain": [
       "   text_reviews_count   series country_code language_code is_ebook  \\\n",
       "0                  15   169353           US           NaN    false   \n",
       "1                  60  1052227           US           eng     true   \n",
       "2                  23   953679           US           eng     true   \n",
       "3                   8   408775           US           NaN    false   \n",
       "4                   3   274410           US           ita    false   \n",
       "\n",
       "   average_rating     format                publisher num_pages  \\\n",
       "0            3.93  Hardcover      Simon & Schuster UK       400   \n",
       "1            4.33        NaN                      NaN       318   \n",
       "2            3.49        NaN  Amazon Digital Services       NaN   \n",
       "3            3.30  Hardcover              Ulverscroft       NaN   \n",
       "4            3.54  Paperback                 Sellerio       659   \n",
       "\n",
       "  publication_month  ... ratings_count   work_id  \\\n",
       "0                 4  ...           186   6243149   \n",
       "1               NaN  ...           269  54143148   \n",
       "2               NaN  ...           192  49305010   \n",
       "3                12  ...            52   1903897   \n",
       "4               NaN  ...            22   2152906   \n",
       "\n",
       "                                               title  \\\n",
       "0          Crowner Royal (Crowner John Mystery, #13)   \n",
       "1            The House of Memory (Pluto's Snitch #2)   \n",
       "2  The Slaughtered Virgin of Zenopolis (Inspector...   \n",
       "3            Dead in the Morning (Patrick Grant, #1)   \n",
       "4                   Aristotele e i misteri di Eleusi   \n",
       "\n",
       "                                title_without_series  1st_au_id 1st_au_role  \\\n",
       "0          Crowner Royal (Crowner John Mystery, #13)      37778               \n",
       "1            The House of Memory (Pluto's Snitch #2)     242185               \n",
       "2  The Slaughtered Virgin of Zenopolis (Inspector...   15104629               \n",
       "3            Dead in the Morning (Patrick Grant, #1)     190988               \n",
       "4                   Aristotele e i misteri di Eleusi     337108               \n",
       "\n",
       "  2nd_au_id 2nd_au_role 3rd_au_id 3rd_au_role  \n",
       "0       NaN         NaN       NaN         NaN  \n",
       "1       NaN         NaN       NaN         NaN  \n",
       "2  14425713                   NaN         NaN  \n",
       "3       NaN         NaN       NaN         NaN  \n",
       "4   4585413  Translator   1093599       Notes  \n",
       "\n",
       "[5 rows x 23 columns]"
      ]
     },
     "execution_count": 264,
     "metadata": {},
     "output_type": "execute_result"
    }
   ],
   "source": [
    "df.head()"
   ]
  },
  {
   "cell_type": "markdown",
   "metadata": {},
   "source": [
    "DF is generally cleaned up with book_id being selected as main reference due to n/a values, other ids dropped, day dropped, and due to size constraints, popular_shelves and similar_books also dropped. 3 other columns are kept. Now onto data cleaning. "
   ]
  },
  {
   "cell_type": "code",
   "execution_count": 265,
   "metadata": {},
   "outputs": [
    {
     "name": "stdout",
     "output_type": "stream",
     "text": [
      "<class 'pandas.core.frame.DataFrame'>\n",
      "RangeIndex: 219235 entries, 0 to 219234\n",
      "Data columns (total 23 columns):\n",
      " #   Column                Non-Null Count   Dtype  \n",
      "---  ------                --------------   -----  \n",
      " 0   text_reviews_count    219235 non-null  int64  \n",
      " 1   series                131828 non-null  object \n",
      " 2   country_code          219235 non-null  object \n",
      " 3   language_code         136784 non-null  object \n",
      " 4   is_ebook              219235 non-null  object \n",
      " 5   average_rating        219235 non-null  float64\n",
      " 6   format                162390 non-null  object \n",
      " 7   publisher             161303 non-null  object \n",
      " 8   num_pages             149407 non-null  object \n",
      " 9   publication_month     142171 non-null  object \n",
      " 10  edition_information   21834 non-null   object \n",
      " 11  publication_year      164741 non-null  object \n",
      " 12  book_id               219235 non-null  int64  \n",
      " 13  ratings_count         219235 non-null  int64  \n",
      " 14  work_id               219235 non-null  int64  \n",
      " 15  title                 219235 non-null  object \n",
      " 16  title_without_series  219235 non-null  object \n",
      " 17  1st_au_id             219235 non-null  object \n",
      " 18  1st_au_role           219235 non-null  object \n",
      " 19  2nd_au_id             44710 non-null   object \n",
      " 20  2nd_au_role           44710 non-null   object \n",
      " 21  3rd_au_id             7065 non-null    object \n",
      " 22  3rd_au_role           7065 non-null    object \n",
      "dtypes: float64(1), int64(4), object(18)\n",
      "memory usage: 38.5+ MB\n"
     ]
    }
   ],
   "source": [
    "df.info()"
   ]
  },
  {
   "cell_type": "markdown",
   "metadata": {},
   "source": [
    "Looking at language and country_code first as we want to focus on english only. "
   ]
  },
  {
   "cell_type": "code",
   "execution_count": 266,
   "metadata": {},
   "outputs": [
    {
     "data": {
      "text/plain": [
       "86"
      ]
     },
     "execution_count": 266,
     "metadata": {},
     "output_type": "execute_result"
    }
   ],
   "source": [
    "df.language_code.nunique()"
   ]
  },
  {
   "cell_type": "code",
   "execution_count": 267,
   "metadata": {},
   "outputs": [
    {
     "data": {
      "text/plain": [
       "array([nan, 'eng', 'ita', 'en-GB', 'en-CA', 'gre', 'lit', 'fin', 'en-US',\n",
       "       'per', 'bul', 'nl', 'spa', 'ger', 'swe', 'pes', 'cze', 'en', 'por',\n",
       "       'fre', 'nor', 'zho', 'ind', 'rum', 'slo', 'lav', 'hun', 'afr',\n",
       "       'heb', 'dan', 'pol', 'srp', 'tur', 'kat', 'jpn', 'ben', 'tha',\n",
       "       'nob', 'vie', 'rus', 'ara', 'cat', 'es-MX', 'ukr', 'kan', 'scr',\n",
       "       'msa', 'est', 'isl', 'pra', 'urd', 'mal', 'tam', 'glg', 'hin',\n",
       "       'vls', 'din', 'pt-BR', 'slv', 'aze', 'nld', 'mkd', 'aus', 'mul',\n",
       "       'eus', 'guj', 'mon', 'hye', 'fil', 'tgl', 'mus', 'abk', 'nno',\n",
       "       'kor', 'frs', '--', 'mlt', 'grc', 'egy', 'jbo', 'mar', 'sin',\n",
       "       'peo', 'sqi', 'bos', 'tel', 'ady'], dtype=object)"
      ]
     },
     "execution_count": 267,
     "metadata": {},
     "output_type": "execute_result"
    }
   ],
   "source": [
    "df.language_code.unique()"
   ]
  },
  {
   "cell_type": "code",
   "execution_count": 268,
   "metadata": {},
   "outputs": [],
   "source": [
    "english = ['eng', 'en-GB', 'en-CA','en-US','en',np.nan, '--']"
   ]
  },
  {
   "cell_type": "code",
   "execution_count": 269,
   "metadata": {},
   "outputs": [],
   "source": [
    "df = df.loc[df['language_code'].isin(english)]"
   ]
  },
  {
   "cell_type": "code",
   "execution_count": 270,
   "metadata": {},
   "outputs": [
    {
     "data": {
      "text/plain": [
       "array(['US'], dtype=object)"
      ]
     },
     "execution_count": 270,
     "metadata": {},
     "output_type": "execute_result"
    }
   ],
   "source": [
    "df.country_code.unique()"
   ]
  },
  {
   "cell_type": "code",
   "execution_count": 271,
   "metadata": {},
   "outputs": [
    {
     "data": {
      "text/plain": [
       "0"
      ]
     },
     "execution_count": 271,
     "metadata": {},
     "output_type": "execute_result"
    }
   ],
   "source": [
    "#Only US still there. \n",
    "df.country_code.isnull().sum()"
   ]
  },
  {
   "cell_type": "code",
   "execution_count": 272,
   "metadata": {},
   "outputs": [
    {
     "data": {
      "text/plain": [
       "82451"
      ]
     },
     "execution_count": 272,
     "metadata": {},
     "output_type": "execute_result"
    }
   ],
   "source": [
    "df.language_code.isnull().sum()"
   ]
  },
  {
   "cell_type": "code",
   "execution_count": 273,
   "metadata": {},
   "outputs": [
    {
     "data": {
      "text/html": [
       "<div>\n",
       "<style scoped>\n",
       "    .dataframe tbody tr th:only-of-type {\n",
       "        vertical-align: middle;\n",
       "    }\n",
       "\n",
       "    .dataframe tbody tr th {\n",
       "        vertical-align: top;\n",
       "    }\n",
       "\n",
       "    .dataframe thead th {\n",
       "        text-align: right;\n",
       "    }\n",
       "</style>\n",
       "<table border=\"1\" class=\"dataframe\">\n",
       "  <thead>\n",
       "    <tr style=\"text-align: right;\">\n",
       "      <th></th>\n",
       "      <th>text_reviews_count</th>\n",
       "      <th>series</th>\n",
       "      <th>country_code</th>\n",
       "      <th>language_code</th>\n",
       "      <th>is_ebook</th>\n",
       "      <th>average_rating</th>\n",
       "      <th>format</th>\n",
       "      <th>publisher</th>\n",
       "      <th>num_pages</th>\n",
       "      <th>publication_month</th>\n",
       "      <th>...</th>\n",
       "      <th>ratings_count</th>\n",
       "      <th>work_id</th>\n",
       "      <th>title</th>\n",
       "      <th>title_without_series</th>\n",
       "      <th>1st_au_id</th>\n",
       "      <th>1st_au_role</th>\n",
       "      <th>2nd_au_id</th>\n",
       "      <th>2nd_au_role</th>\n",
       "      <th>3rd_au_id</th>\n",
       "      <th>3rd_au_role</th>\n",
       "    </tr>\n",
       "  </thead>\n",
       "  <tbody>\n",
       "    <tr>\n",
       "      <th>85197</th>\n",
       "      <td>13</td>\n",
       "      <td>NaN</td>\n",
       "      <td>US</td>\n",
       "      <td>--</td>\n",
       "      <td>false</td>\n",
       "      <td>3.91</td>\n",
       "      <td>Paperback</td>\n",
       "      <td>Alfaguara</td>\n",
       "      <td>544</td>\n",
       "      <td>11</td>\n",
       "      <td>...</td>\n",
       "      <td>143</td>\n",
       "      <td>2302976</td>\n",
       "      <td>La reina del sur</td>\n",
       "      <td>La reina del sur</td>\n",
       "      <td>40398</td>\n",
       "      <td></td>\n",
       "      <td>NaN</td>\n",
       "      <td>NaN</td>\n",
       "      <td>NaN</td>\n",
       "      <td>NaN</td>\n",
       "    </tr>\n",
       "    <tr>\n",
       "      <th>192814</th>\n",
       "      <td>1</td>\n",
       "      <td>343793</td>\n",
       "      <td>US</td>\n",
       "      <td>--</td>\n",
       "      <td>false</td>\n",
       "      <td>3.75</td>\n",
       "      <td>Mass Market Paperback</td>\n",
       "      <td>Hodder and Stoughton</td>\n",
       "      <td>256</td>\n",
       "      <td>NaN</td>\n",
       "      <td>...</td>\n",
       "      <td>1</td>\n",
       "      <td>2275111</td>\n",
       "      <td>The Saint Bids Diamonds</td>\n",
       "      <td>The Saint Bids Diamonds</td>\n",
       "      <td>36260</td>\n",
       "      <td></td>\n",
       "      <td>NaN</td>\n",
       "      <td>NaN</td>\n",
       "      <td>NaN</td>\n",
       "      <td>NaN</td>\n",
       "    </tr>\n",
       "    <tr>\n",
       "      <th>210543</th>\n",
       "      <td>3</td>\n",
       "      <td>NaN</td>\n",
       "      <td>US</td>\n",
       "      <td>--</td>\n",
       "      <td>false</td>\n",
       "      <td>3.90</td>\n",
       "      <td>Paperback</td>\n",
       "      <td>Nova knjiga</td>\n",
       "      <td>268</td>\n",
       "      <td>NaN</td>\n",
       "      <td>...</td>\n",
       "      <td>13</td>\n",
       "      <td>40783433</td>\n",
       "      <td>Central park</td>\n",
       "      <td>Central park</td>\n",
       "      <td>282080</td>\n",
       "      <td></td>\n",
       "      <td>8585350</td>\n",
       "      <td>Translator</td>\n",
       "      <td>NaN</td>\n",
       "      <td>NaN</td>\n",
       "    </tr>\n",
       "  </tbody>\n",
       "</table>\n",
       "<p>3 rows × 23 columns</p>\n",
       "</div>"
      ],
      "text/plain": [
       "        text_reviews_count  series country_code language_code is_ebook  \\\n",
       "85197                   13     NaN           US            --    false   \n",
       "192814                   1  343793           US            --    false   \n",
       "210543                   3     NaN           US            --    false   \n",
       "\n",
       "        average_rating                 format             publisher num_pages  \\\n",
       "85197             3.91              Paperback             Alfaguara       544   \n",
       "192814            3.75  Mass Market Paperback  Hodder and Stoughton       256   \n",
       "210543            3.90              Paperback           Nova knjiga       268   \n",
       "\n",
       "       publication_month  ... ratings_count   work_id  \\\n",
       "85197                 11  ...           143   2302976   \n",
       "192814               NaN  ...             1   2275111   \n",
       "210543               NaN  ...            13  40783433   \n",
       "\n",
       "                          title     title_without_series  1st_au_id  \\\n",
       "85197          La reina del sur         La reina del sur      40398   \n",
       "192814  The Saint Bids Diamonds  The Saint Bids Diamonds      36260   \n",
       "210543             Central park             Central park     282080   \n",
       "\n",
       "       1st_au_role 2nd_au_id 2nd_au_role 3rd_au_id 3rd_au_role  \n",
       "85197                    NaN         NaN       NaN         NaN  \n",
       "192814                   NaN         NaN       NaN         NaN  \n",
       "210543               8585350  Translator       NaN         NaN  \n",
       "\n",
       "[3 rows x 23 columns]"
      ]
     },
     "execution_count": 273,
     "metadata": {},
     "output_type": "execute_result"
    }
   ],
   "source": [
    "#Let's look at '--' in case it's not english\n",
    "df[df.language_code=='--']"
   ]
  },
  {
   "cell_type": "code",
   "execution_count": 274,
   "metadata": {},
   "outputs": [],
   "source": [
    "dr_sp = df[(df.work_id == 2302976) & (df.title == 'La reina del sur') & (df.language_code != 'eng')].index"
   ]
  },
  {
   "cell_type": "code",
   "execution_count": 275,
   "metadata": {},
   "outputs": [],
   "source": [
    "df.drop(dr_sp, inplace=True)"
   ]
  },
  {
   "cell_type": "code",
   "execution_count": 276,
   "metadata": {},
   "outputs": [
    {
     "name": "stderr",
     "output_type": "stream",
     "text": [
      "<ipython-input-276-cf63f822c440>:1: SettingWithCopyWarning: \n",
      "A value is trying to be set on a copy of a slice from a DataFrame\n",
      "\n",
      "See the caveats in the documentation: https://pandas.pydata.org/pandas-docs/stable/user_guide/indexing.html#returning-a-view-versus-a-copy\n",
      "  df.language_code[df.language_code=='--'] = np.nan\n"
     ]
    }
   ],
   "source": [
    "df.language_code[df.language_code=='--'] = np.nan"
   ]
  },
  {
   "cell_type": "markdown",
   "metadata": {},
   "source": [
    "Now looking at duplicate values for future reference. Notes to decide whether to join them or not. Many duplicates are from different publishers and possibly translators. Also audio vs. ebook vs. traditional books. Just getting the duplicate list now so we have it for reference. "
   ]
  },
  {
   "cell_type": "code",
   "execution_count": 277,
   "metadata": {},
   "outputs": [
    {
     "data": {
      "text/plain": [
       "The Adventures of Sherlock Holmes                                                93\n",
       "Rebecca                                                                          81\n",
       "The Hound of the Baskervilles                                                    71\n",
       "The Woman in White                                                               68\n",
       "And Then There Were None                                                         67\n",
       "                                                                                 ..\n",
       "SAVANNAH GONE: A Ray Fontaine Mystery                                             1\n",
       "The Galleons' Grave: Henry Gresham and the Spanish Armada (Henry Gresham, #3)     1\n",
       "Nighthawk: African Ice                                                            1\n",
       "Spooky House (A Billie B Mystery #1)                                              1\n",
       "Gem of a Ghost                                                                    1\n",
       "Name: title, Length: 107563, dtype: int64"
      ]
     },
     "execution_count": 277,
     "metadata": {},
     "output_type": "execute_result"
    }
   ],
   "source": [
    "df.title.value_counts()"
   ]
  },
  {
   "cell_type": "code",
   "execution_count": 278,
   "metadata": {},
   "outputs": [
    {
     "data": {
      "text/plain": [
       "3311984     115\n",
       "1222101     112\n",
       "1997473      88\n",
       "3038872      85\n",
       "1303710      82\n",
       "           ... \n",
       "10487496      1\n",
       "818887        1\n",
       "52934334      1\n",
       "15963834      1\n",
       "56360960      1\n",
       "Name: work_id, Length: 83771, dtype: int64"
      ]
     },
     "execution_count": 278,
     "metadata": {},
     "output_type": "execute_result"
    }
   ],
   "source": [
    "df.work_id.value_counts()"
   ]
  },
  {
   "cell_type": "markdown",
   "metadata": {},
   "source": [
    "By titles, there's 107563 unique books, but by work_id, there's only 83,771. Many of these likely have differences. First, we will sort out the other characteristics: format, edition information."
   ]
  },
  {
   "cell_type": "code",
   "execution_count": 279,
   "metadata": {},
   "outputs": [
    {
     "data": {
      "text/plain": [
       "Paperback                58201\n",
       "Hardcover                23801\n",
       "ebook                    14977\n",
       "Kindle Edition           12819\n",
       "Audio CD                  6666\n",
       "Mass Market Paperback     5072\n",
       "Audiobook                 3048\n",
       "Audible Audio             2024\n",
       "Audio                     1823\n",
       "Unknown Binding            518\n",
       "Audio Cassette             232\n",
       "MP3 CD                     193\n",
       "Library Binding             92\n",
       "Trade Paperback             91\n",
       "Nook                        56\n",
       "paperback                   54\n",
       "Leather Bound               25\n",
       "Hardback                    19\n",
       "hardcover                   13\n",
       "Digital Audio               10\n",
       "Name: format, dtype: int64"
      ]
     },
     "execution_count": 279,
     "metadata": {},
     "output_type": "execute_result"
    }
   ],
   "source": [
    "df.format.value_counts().head(20)"
   ]
  },
  {
   "cell_type": "code",
   "execution_count": 280,
   "metadata": {},
   "outputs": [],
   "source": [
    "#Making all formats lower case\n",
    "df.format = df.format.str.lower()"
   ]
  },
  {
   "cell_type": "code",
   "execution_count": 281,
   "metadata": {},
   "outputs": [
    {
     "data": {
      "text/plain": [
       "4109      Large Print\n",
       "12612             NaN\n",
       "13089     Large Print\n",
       "14336             NaN\n",
       "18682     Large Print\n",
       "43914     Large Print\n",
       "54156     Large Print\n",
       "58129             NaN\n",
       "68475             NaN\n",
       "71850             NaN\n",
       "83647             NaN\n",
       "101375            NaN\n",
       "113964            NaN\n",
       "127420    Large Print\n",
       "138584    Large Print\n",
       "148263            NaN\n",
       "166227            NaN\n",
       "168611            NaN\n",
       "176179            NaN\n",
       "201153    Large Print\n",
       "201205            NaN\n",
       "202240            NaN\n",
       "210281    Large Print\n",
       "212841            NaN\n",
       "213989            NaN\n",
       "215329            NaN\n",
       "Name: edition_information, dtype: object"
      ]
     },
     "execution_count": 281,
     "metadata": {},
     "output_type": "execute_result"
    }
   ],
   "source": [
    "df.edition_information[df.format.str.contains('large', regex=True, na=False)]"
   ]
  },
  {
   "cell_type": "code",
   "execution_count": 282,
   "metadata": {},
   "outputs": [
    {
     "name": "stderr",
     "output_type": "stream",
     "text": [
      "<ipython-input-282-1742681b4d41>:2: SettingWithCopyWarning: \n",
      "A value is trying to be set on a copy of a slice from a DataFrame\n",
      "\n",
      "See the caveats in the documentation: https://pandas.pydata.org/pandas-docs/stable/user_guide/indexing.html#returning-a-view-versus-a-copy\n",
      "  df.edition_information[df.format.str.contains('large', regex=True, na=False)] = 'Large Print'\n"
     ]
    }
   ],
   "source": [
    "#Setting NaN large print edtion to Large Print \n",
    "df.edition_information[df.format.str.contains('large', regex=True, na=False)] = 'Large Print'"
   ]
  },
  {
   "cell_type": "code",
   "execution_count": 283,
   "metadata": {},
   "outputs": [
    {
     "data": {
      "text/plain": [
       "4109      Large Print\n",
       "12612     Large Print\n",
       "13089     Large Print\n",
       "14336     Large Print\n",
       "18682     Large Print\n",
       "43914     Large Print\n",
       "54156     Large Print\n",
       "58129     Large Print\n",
       "68475     Large Print\n",
       "71850     Large Print\n",
       "83647     Large Print\n",
       "101375    Large Print\n",
       "113964    Large Print\n",
       "127420    Large Print\n",
       "138584    Large Print\n",
       "148263    Large Print\n",
       "166227    Large Print\n",
       "168611    Large Print\n",
       "176179    Large Print\n",
       "201153    Large Print\n",
       "201205    Large Print\n",
       "202240    Large Print\n",
       "210281    Large Print\n",
       "212841    Large Print\n",
       "213989    Large Print\n",
       "215329    Large Print\n",
       "Name: edition_information, dtype: object"
      ]
     },
     "execution_count": 283,
     "metadata": {},
     "output_type": "execute_result"
    }
   ],
   "source": [
    "df.edition_information[df.format.str.contains('large', regex=True, na=False)]"
   ]
  },
  {
   "cell_type": "code",
   "execution_count": 284,
   "metadata": {},
   "outputs": [
    {
     "data": {
      "text/plain": [
       "podiobook              5\n",
       "podcast                2\n",
       "podcast / audiobook    1\n",
       "podio book             1\n",
       "podcast/podiobooks     1\n",
       "Name: format, dtype: int64"
      ]
     },
     "execution_count": 284,
     "metadata": {},
     "output_type": "execute_result"
    }
   ],
   "source": [
    "df.format[df.format.str.contains('odc|odio', regex=True, na=False)].value_counts()"
   ]
  },
  {
   "cell_type": "code",
   "execution_count": 285,
   "metadata": {},
   "outputs": [
    {
     "name": "stderr",
     "output_type": "stream",
     "text": [
      "<ipython-input-285-8d5d17f14051>:1: SettingWithCopyWarning: \n",
      "A value is trying to be set on a copy of a slice from a DataFrame\n",
      "\n",
      "See the caveats in the documentation: https://pandas.pydata.org/pandas-docs/stable/user_guide/indexing.html#returning-a-view-versus-a-copy\n",
      "  df.format[df.format.str.contains('odc|odio', regex=True, na=False)] = 'Podcast'\n"
     ]
    }
   ],
   "source": [
    "df.format[df.format.str.contains('odc|odio', regex=True, na=False)] = 'Podcast'"
   ]
  },
  {
   "cell_type": "code",
   "execution_count": 286,
   "metadata": {},
   "outputs": [
    {
     "data": {
      "text/plain": [
       "paperback and ebook                      4\n",
       "paperback, ebook                         4\n",
       "kindle edition and paperback             4\n",
       "ebook and paperback                      3\n",
       "paperback and kindle                     3\n",
       "ebook &amp; paperback                    2\n",
       "ebook, paperback                         2\n",
       "electronic &amp; print                   1\n",
       "hardcover, book club edition             1\n",
       "paperback and e-book                     1\n",
       "e-book &amp; paperback                   1\n",
       "ebook and trade paperback                1\n",
       "paperback, kindle                        1\n",
       "paperback/kindle                         1\n",
       "audible, usa download                    1\n",
       "ebook, print                             1\n",
       "paperback, ebook, audible                1\n",
       "kindle, paperback                        1\n",
       "paperback, e-book                        1\n",
       "true first ed hc, re-bound by library    1\n",
       "ebook, paperback, audible audio          1\n",
       "print and download                       1\n",
       "print and ebook                          1\n",
       "ebook and print                          1\n",
       "ebook&amp;paperback                      1\n",
       "paperback &amp; pdf                      1\n",
       "print/kindle                             1\n",
       "multiple formats                         1\n",
       "crime and investigation                  1\n",
       "paperback &amp; kindle                   1\n",
       "kindle/paperback                         1\n",
       "kindle and paperback                     1\n",
       "paperback; digital (epub, mobi)          1\n",
       "kindle edition, paperback                1\n",
       "ebook, kindle                            1\n",
       "Name: format, dtype: int64"
      ]
     },
     "execution_count": 286,
     "metadata": {},
     "output_type": "execute_result"
    }
   ],
   "source": [
    "df.format[df.format.str.contains('and|;|/|mul|,', regex=True, na=False)].value_counts()"
   ]
  },
  {
   "cell_type": "code",
   "execution_count": 287,
   "metadata": {},
   "outputs": [],
   "source": [
    "def find_formats(dataframe,col,strings):\n",
    "    res = dataframe[col].loc[dataframe[col].str.contains(strings,regex=True,na=False)].value_counts()\n",
    "    print(strings,'results are:\\n',res)\n",
    "    "
   ]
  },
  {
   "cell_type": "code",
   "execution_count": 288,
   "metadata": {},
   "outputs": [],
   "source": [
    "def change_formats(dataframe,col,strings,new_name):\n",
    "    dataframe[col].loc[dataframe[col].str.contains(strings,regex=True,na=False)] = new_name\n",
    "    res = dataframe[col].loc[dataframe[col].str.contains(strings,regex=True,na=False)].value_counts()\n",
    "    print(res)"
   ]
  },
  {
   "cell_type": "code",
   "execution_count": 289,
   "metadata": {},
   "outputs": [
    {
     "name": "stdout",
     "output_type": "stream",
     "text": [
      "and|;|/|mul|, results are:\n",
      " paperback and ebook                      4\n",
      "paperback, ebook                         4\n",
      "kindle edition and paperback             4\n",
      "ebook and paperback                      3\n",
      "paperback and kindle                     3\n",
      "ebook &amp; paperback                    2\n",
      "ebook, paperback                         2\n",
      "electronic &amp; print                   1\n",
      "hardcover, book club edition             1\n",
      "paperback and e-book                     1\n",
      "e-book &amp; paperback                   1\n",
      "ebook and trade paperback                1\n",
      "paperback, kindle                        1\n",
      "paperback/kindle                         1\n",
      "audible, usa download                    1\n",
      "ebook, print                             1\n",
      "paperback, ebook, audible                1\n",
      "kindle, paperback                        1\n",
      "paperback, e-book                        1\n",
      "true first ed hc, re-bound by library    1\n",
      "ebook, paperback, audible audio          1\n",
      "print and download                       1\n",
      "print and ebook                          1\n",
      "ebook and print                          1\n",
      "ebook&amp;paperback                      1\n",
      "paperback &amp; pdf                      1\n",
      "print/kindle                             1\n",
      "multiple formats                         1\n",
      "crime and investigation                  1\n",
      "paperback &amp; kindle                   1\n",
      "kindle/paperback                         1\n",
      "kindle and paperback                     1\n",
      "paperback; digital (epub, mobi)          1\n",
      "kindle edition, paperback                1\n",
      "ebook, kindle                            1\n",
      "Name: format, dtype: int64\n"
     ]
    }
   ],
   "source": [
    "find_formats(df, \"format\", 'and|;|/|mul|,')"
   ]
  },
  {
   "cell_type": "code",
   "execution_count": 290,
   "metadata": {},
   "outputs": [
    {
     "name": "stdout",
     "output_type": "stream",
     "text": [
      "hardcover, book club edition|hc results are:\n",
      " true first ed hc, re-bound by library    1\n",
      "hardcover, book club edition             1\n",
      "Name: format, dtype: int64\n"
     ]
    }
   ],
   "source": [
    "find_formats(df, \"format\", 'hardcover, book club edition|hc')"
   ]
  },
  {
   "cell_type": "code",
   "execution_count": 291,
   "metadata": {},
   "outputs": [
    {
     "name": "stdout",
     "output_type": "stream",
     "text": [
      "Series([], Name: format, dtype: int64)\n"
     ]
    },
    {
     "name": "stderr",
     "output_type": "stream",
     "text": [
      "/Users/jensensj/opt/anaconda3/lib/python3.8/site-packages/pandas/core/indexing.py:670: SettingWithCopyWarning: \n",
      "A value is trying to be set on a copy of a slice from a DataFrame\n",
      "\n",
      "See the caveats in the documentation: https://pandas.pydata.org/pandas-docs/stable/user_guide/indexing.html#returning-a-view-versus-a-copy\n",
      "  iloc._setitem_with_indexer(indexer, value)\n"
     ]
    }
   ],
   "source": [
    "change_formats(df, \"format\", 'hardcover, book club edition|hc', \"Hardcover\")"
   ]
  },
  {
   "cell_type": "code",
   "execution_count": 292,
   "metadata": {},
   "outputs": [
    {
     "name": "stdout",
     "output_type": "stream",
     "text": [
      "audible, usa results are:\n",
      " audible, usa download    1\n",
      "Name: format, dtype: int64\n"
     ]
    }
   ],
   "source": [
    "find_formats(df, \"format\", 'audible, usa')"
   ]
  },
  {
   "cell_type": "code",
   "execution_count": 293,
   "metadata": {},
   "outputs": [
    {
     "name": "stdout",
     "output_type": "stream",
     "text": [
      "Series([], Name: format, dtype: int64)\n"
     ]
    }
   ],
   "source": [
    "change_formats(df, \"format\", 'audible, usa', \"Audible\")"
   ]
  },
  {
   "cell_type": "code",
   "execution_count": 294,
   "metadata": {},
   "outputs": [
    {
     "name": "stdout",
     "output_type": "stream",
     "text": [
      "and|;|/|mul|, results are:\n",
      " paperback and ebook                4\n",
      "kindle edition and paperback       4\n",
      "paperback, ebook                   4\n",
      "paperback and kindle               3\n",
      "ebook and paperback                3\n",
      "ebook &amp; paperback              2\n",
      "ebook, paperback                   2\n",
      "ebook, print                       1\n",
      "paperback, kindle                  1\n",
      "paperback, e-book                  1\n",
      "electronic &amp; print             1\n",
      "ebook, paperback, audible audio    1\n",
      "ebook and trade paperback          1\n",
      "e-book &amp; paperback             1\n",
      "paperback/kindle                   1\n",
      "paperback, ebook, audible          1\n",
      "kindle, paperback                  1\n",
      "paperback and e-book               1\n",
      "print and ebook                    1\n",
      "print and download                 1\n",
      "ebook and print                    1\n",
      "ebook&amp;paperback                1\n",
      "paperback &amp; pdf                1\n",
      "print/kindle                       1\n",
      "multiple formats                   1\n",
      "crime and investigation            1\n",
      "paperback &amp; kindle             1\n",
      "kindle/paperback                   1\n",
      "kindle and paperback               1\n",
      "paperback; digital (epub, mobi)    1\n",
      "kindle edition, paperback          1\n",
      "ebook, kindle                      1\n",
      "Name: format, dtype: int64\n"
     ]
    }
   ],
   "source": [
    "find_formats(df, \"format\", 'and|;|/|mul|,')"
   ]
  },
  {
   "cell_type": "code",
   "execution_count": 295,
   "metadata": {},
   "outputs": [
    {
     "name": "stdout",
     "output_type": "stream",
     "text": [
      "Series([], Name: format, dtype: int64)\n"
     ]
    }
   ],
   "source": [
    "change_formats(df, \"format\", 'and|;|/|mul|,', \"Multiple\")"
   ]
  },
  {
   "cell_type": "code",
   "execution_count": 296,
   "metadata": {},
   "outputs": [
    {
     "name": "stdout",
     "output_type": "stream",
     "text": [
      "hard results are:\n",
      " hardcover                    23815\n",
      "hardback                        27\n",
      "hardcover - large print          3\n",
      "hard cover                       3\n",
      "hardcover (large print)          2\n",
      "hardcover-lp                     2\n",
      "faux leather hardcover           1\n",
      "large print hardcover            1\n",
      "limited edition hardcover        1\n",
      "original uk hardback             1\n",
      "hardover                         1\n",
      "Name: format, dtype: int64\n"
     ]
    }
   ],
   "source": [
    "find_formats(df, \"format\", 'hard')"
   ]
  },
  {
   "cell_type": "code",
   "execution_count": 297,
   "metadata": {},
   "outputs": [
    {
     "name": "stdout",
     "output_type": "stream",
     "text": [
      "Series([], Name: format, dtype: int64)\n"
     ]
    }
   ],
   "source": [
    "change_formats(df, \"format\", 'hard', \"Hardcover\")"
   ]
  },
  {
   "cell_type": "code",
   "execution_count": 298,
   "metadata": {},
   "outputs": [
    {
     "name": "stdout",
     "output_type": "stream",
     "text": [
      "oft|ape results are:\n",
      " paperback                          58255\n",
      "mass market paperback               5079\n",
      "trade paperback                       96\n",
      "softcover                              7\n",
      "paper                                  6\n",
      "soft cover                             4\n",
      "paperback manga                        4\n",
      "paperback - large print                3\n",
      "tradepaperback                         2\n",
      "uk paperback                           2\n",
      "perfect paperback                      2\n",
      "mass market paperback - reissue        1\n",
      "paperback - c format                   1\n",
      "(paperback)                            1\n",
      "export trade paperback                 1\n",
      "trade paper back                       1\n",
      "vhs tape                               1\n",
      "large print paperback                  1\n",
      "pocket paperback                       1\n",
      "mass-market paperback                  1\n",
      "trade paperbck                         1\n",
      "boxed set (paperback)                  1\n",
      "open market paperback                  1\n",
      "bookpaper                              1\n",
      "Name: format, dtype: int64\n"
     ]
    }
   ],
   "source": [
    "find_formats(df, \"format\", 'oft|ape')"
   ]
  },
  {
   "cell_type": "code",
   "execution_count": 299,
   "metadata": {},
   "outputs": [
    {
     "name": "stdout",
     "output_type": "stream",
     "text": [
      "Paperback    63473\n",
      "Name: format, dtype: int64\n"
     ]
    }
   ],
   "source": [
    "change_formats(df, \"format\", 'oft|ape', \"Paperback\")"
   ]
  },
  {
   "cell_type": "code",
   "execution_count": 300,
   "metadata": {},
   "outputs": [
    {
     "name": "stdout",
     "output_type": "stream",
     "text": [
      "kind results are:\n",
      " kindle edition            12819\n",
      "kindle                        3\n",
      "kindel edition                1\n",
      "ebook (version kindle)        1\n",
      "kindle ebook                  1\n",
      "Name: format, dtype: int64\n"
     ]
    }
   ],
   "source": [
    "find_formats(df, \"format\", 'kind')"
   ]
  },
  {
   "cell_type": "code",
   "execution_count": 301,
   "metadata": {},
   "outputs": [
    {
     "name": "stdout",
     "output_type": "stream",
     "text": [
      "Series([], Name: format, dtype: int64)\n"
     ]
    }
   ],
   "source": [
    "change_formats(df, \"format\", 'kind', \"Kindle\")"
   ]
  },
  {
   "cell_type": "code",
   "execution_count": 302,
   "metadata": {},
   "outputs": [
    {
     "name": "stdout",
     "output_type": "stream",
     "text": [
      "audib results are:\n",
      " audible audio                   2025\n",
      "audiobook - audible download       1\n",
      "audible mp3 download               1\n",
      "mp3 audible                        1\n",
      "Name: format, dtype: int64\n"
     ]
    }
   ],
   "source": [
    "find_formats(df, \"format\", 'audib')"
   ]
  },
  {
   "cell_type": "code",
   "execution_count": 303,
   "metadata": {},
   "outputs": [
    {
     "name": "stdout",
     "output_type": "stream",
     "text": [
      "Series([], Name: format, dtype: int64)\n"
     ]
    }
   ],
   "source": [
    "change_formats(df, \"format\", 'audib', 'Audible')"
   ]
  },
  {
   "cell_type": "code",
   "execution_count": 304,
   "metadata": {},
   "outputs": [
    {
     "name": "stdout",
     "output_type": "stream",
     "text": [
      "cass|diskette|vhs results are:\n",
      " audio cassette                     233\n",
      "audiocassette                        2\n",
      "diskette                             1\n",
      "audiocassette (unabridged)           1\n",
      "audio cassette (libr.) (unabr.)      1\n",
      "audio cassette - abridged            1\n",
      "audio cassette - unabridged          1\n",
      "Name: format, dtype: int64\n"
     ]
    }
   ],
   "source": [
    "find_formats(df, \"format\", 'cass|diskette|vhs')"
   ]
  },
  {
   "cell_type": "code",
   "execution_count": 305,
   "metadata": {},
   "outputs": [
    {
     "name": "stdout",
     "output_type": "stream",
     "text": [
      "Series([], Name: format, dtype: int64)\n"
     ]
    }
   ],
   "source": [
    "change_formats(df, \"format\", 'cass', \"Cassette\")"
   ]
  },
  {
   "cell_type": "code",
   "execution_count": 306,
   "metadata": {},
   "outputs": [
    {
     "name": "stdout",
     "output_type": "stream",
     "text": [
      "aud|mp3|cd results are:\n",
      " audio cd                          6669\n",
      "audiobook                         3050\n",
      "audio                             1828\n",
      "mp3 cd                             193\n",
      "digital audio                       10\n",
      "mp3 book                             5\n",
      "eaudiobook                           3\n",
      "audio book                           2\n",
      "cd-rom                               2\n",
      "digital audio (unabridged)           2\n",
      "mp3                                  2\n",
      "audio cd (unabr.)                    1\n",
      "cd                                   1\n",
      "abriged audio cd                     1\n",
      "mp3 audio                            1\n",
      "mp3 audiobook                        1\n",
      "audiobook unabridged                 1\n",
      "mp3 download                         1\n",
      "playaway audio                       1\n",
      "unabriged audio cd                   1\n",
      "mp3 audio download                   1\n",
      "audio playaway                       1\n",
      "preloaded digital audio player       1\n",
      "Name: format, dtype: int64\n"
     ]
    }
   ],
   "source": [
    "find_formats(df, \"format\", 'aud|mp3|cd')"
   ]
  },
  {
   "cell_type": "code",
   "execution_count": 307,
   "metadata": {},
   "outputs": [
    {
     "name": "stdout",
     "output_type": "stream",
     "text": [
      "Series([], Name: format, dtype: int64)\n"
     ]
    }
   ],
   "source": [
    "change_formats(df, \"format\", 'aud|mp3|cd', \"Audiobook\")"
   ]
  },
  {
   "cell_type": "code",
   "execution_count": 308,
   "metadata": {},
   "outputs": [
    {
     "data": {
      "text/plain": [
       "Paperback          63473\n",
       "Hardcover          23859\n",
       "ebook              14979\n",
       "Kindle             12825\n",
       "Audiobook          11778\n",
       "Audible             2029\n",
       "unknown binding      518\n",
       "Cassette             239\n",
       "library binding       92\n",
       "nook                  56\n",
       "Multiple              47\n",
       "leather bound         25\n",
       "Name: format, dtype: int64"
      ]
     },
     "execution_count": 308,
     "metadata": {},
     "output_type": "execute_result"
    }
   ],
   "source": [
    "df.format.value_counts()[df.format.value_counts()>20]"
   ]
  },
  {
   "cell_type": "code",
   "execution_count": 309,
   "metadata": {},
   "outputs": [
    {
     "name": "stdout",
     "output_type": "stream",
     "text": [
      "noo|eb results are:\n",
      " ebook               14979\n",
      "nook                   56\n",
      "web serial novel        1\n",
      "online freebie          1\n",
      "webtoon                 1\n",
      "Name: format, dtype: int64\n"
     ]
    }
   ],
   "source": [
    "find_formats(df, \"format\", 'noo|eb')"
   ]
  },
  {
   "cell_type": "code",
   "execution_count": 310,
   "metadata": {},
   "outputs": [
    {
     "name": "stderr",
     "output_type": "stream",
     "text": [
      "/Users/jensensj/opt/anaconda3/lib/python3.8/site-packages/pandas/core/indexing.py:670: SettingWithCopyWarning: \n",
      "A value is trying to be set on a copy of a slice from a DataFrame\n",
      "\n",
      "See the caveats in the documentation: https://pandas.pydata.org/pandas-docs/stable/user_guide/indexing.html#returning-a-view-versus-a-copy\n",
      "  iloc._setitem_with_indexer(indexer, value)\n"
     ]
    },
    {
     "name": "stdout",
     "output_type": "stream",
     "text": [
      "Series([], Name: format, dtype: int64)\n"
     ]
    }
   ],
   "source": [
    "change_formats(df, \"format\", 'noo|eb', \"Ebook\")"
   ]
  },
  {
   "cell_type": "code",
   "execution_count": 311,
   "metadata": {},
   "outputs": [
    {
     "data": {
      "text/plain": [
       "Paperback            63473\n",
       "Hardcover            23859\n",
       "Ebook                15038\n",
       "Kindle               12825\n",
       "Audiobook            11778\n",
       "Audible               2029\n",
       "unknown binding        518\n",
       "Cassette               239\n",
       "library binding         92\n",
       "Multiple                47\n",
       "leather bound           25\n",
       "large print             16\n",
       "Podcast                 10\n",
       "capa mole                9\n",
       "unbound                  8\n",
       "leatherette bound        7\n",
       "board book               4\n",
       "cloth                    4\n",
       "Name: format, dtype: int64"
      ]
     },
     "execution_count": 311,
     "metadata": {},
     "output_type": "execute_result"
    }
   ],
   "source": [
    "df.format.value_counts()[df.format.value_counts()>3]"
   ]
  },
  {
   "cell_type": "code",
   "execution_count": 312,
   "metadata": {},
   "outputs": [],
   "source": [
    "#The rest will be under Unknown_other\n",
    "format_mainlist = ['Paperback','Hardcover','Ebook','Kindle','Audiobook','Audible', 'Podcast','Cassette']"
   ]
  },
  {
   "cell_type": "code",
   "execution_count": 318,
   "metadata": {},
   "outputs": [
    {
     "name": "stderr",
     "output_type": "stream",
     "text": [
      "<ipython-input-318-dcff747c0eb8>:1: SettingWithCopyWarning: \n",
      "A value is trying to be set on a copy of a slice from a DataFrame\n",
      "\n",
      "See the caveats in the documentation: https://pandas.pydata.org/pandas-docs/stable/user_guide/indexing.html#returning-a-view-versus-a-copy\n",
      "  df.format[(df.format.isin(format_mainlist) == False) & (df.is_ebook == 'true')] = 'Ebook'\n"
     ]
    }
   ],
   "source": [
    "df.format[(df.format.isin(format_mainlist) == False) & (df.is_ebook == 'true')] = 'Ebook'"
   ]
  },
  {
   "cell_type": "code",
   "execution_count": 319,
   "metadata": {},
   "outputs": [
    {
     "name": "stderr",
     "output_type": "stream",
     "text": [
      "<ipython-input-319-ecd15a3639e9>:1: SettingWithCopyWarning: \n",
      "A value is trying to be set on a copy of a slice from a DataFrame\n",
      "\n",
      "See the caveats in the documentation: https://pandas.pydata.org/pandas-docs/stable/user_guide/indexing.html#returning-a-view-versus-a-copy\n",
      "  df.format[df.format.isin(format_mainlist) == False] = 'Other_Unknown'\n"
     ]
    }
   ],
   "source": [
    "df.format[df.format.isin(format_mainlist) == False] = 'Other_Unknown'"
   ]
  },
  {
   "cell_type": "code",
   "execution_count": 320,
   "metadata": {},
   "outputs": [
    {
     "data": {
      "text/plain": [
       "Paperback        63473\n",
       "Ebook            49892\n",
       "Hardcover        23859\n",
       "Other_Unknown    18797\n",
       "Kindle           12825\n",
       "Audiobook        11778\n",
       "Audible           2029\n",
       "Cassette           239\n",
       "Podcast             10\n",
       "Name: format, dtype: int64"
      ]
     },
     "execution_count": 320,
     "metadata": {},
     "output_type": "execute_result"
    }
   ],
   "source": [
    "df.format.value_counts()"
   ]
  },
  {
   "cell_type": "code",
   "execution_count": 321,
   "metadata": {},
   "outputs": [],
   "source": [
    "#Drop Cassette/outdated technology\n",
    "df.drop(df[df.format == \"Cassette\"].index, inplace=True)"
   ]
  },
  {
   "cell_type": "code",
   "execution_count": 322,
   "metadata": {},
   "outputs": [],
   "source": [
    "#df.to_pickle('./Books_wrangled.pkl')"
   ]
  },
  {
   "cell_type": "code",
   "execution_count": 535,
   "metadata": {},
   "outputs": [],
   "source": [
    "#df = pd.read_pickle('./Books_wrangled.pkl')"
   ]
  },
  {
   "cell_type": "code",
   "execution_count": 536,
   "metadata": {},
   "outputs": [
    {
     "data": {
      "text/html": [
       "<div>\n",
       "<style scoped>\n",
       "    .dataframe tbody tr th:only-of-type {\n",
       "        vertical-align: middle;\n",
       "    }\n",
       "\n",
       "    .dataframe tbody tr th {\n",
       "        vertical-align: top;\n",
       "    }\n",
       "\n",
       "    .dataframe thead th {\n",
       "        text-align: right;\n",
       "    }\n",
       "</style>\n",
       "<table border=\"1\" class=\"dataframe\">\n",
       "  <thead>\n",
       "    <tr style=\"text-align: right;\">\n",
       "      <th></th>\n",
       "      <th>text_reviews_count</th>\n",
       "      <th>series</th>\n",
       "      <th>country_code</th>\n",
       "      <th>language_code</th>\n",
       "      <th>is_ebook</th>\n",
       "      <th>average_rating</th>\n",
       "      <th>format</th>\n",
       "      <th>publisher</th>\n",
       "      <th>num_pages</th>\n",
       "      <th>publication_month</th>\n",
       "      <th>...</th>\n",
       "      <th>ratings_count</th>\n",
       "      <th>work_id</th>\n",
       "      <th>title</th>\n",
       "      <th>title_without_series</th>\n",
       "      <th>1st_au_id</th>\n",
       "      <th>1st_au_role</th>\n",
       "      <th>2nd_au_id</th>\n",
       "      <th>2nd_au_role</th>\n",
       "      <th>3rd_au_id</th>\n",
       "      <th>3rd_au_role</th>\n",
       "    </tr>\n",
       "  </thead>\n",
       "  <tbody>\n",
       "    <tr>\n",
       "      <th>0</th>\n",
       "      <td>15</td>\n",
       "      <td>169353</td>\n",
       "      <td>US</td>\n",
       "      <td>NaN</td>\n",
       "      <td>false</td>\n",
       "      <td>3.93</td>\n",
       "      <td>Hardcover</td>\n",
       "      <td>Simon &amp; Schuster UK</td>\n",
       "      <td>400</td>\n",
       "      <td>4</td>\n",
       "      <td>...</td>\n",
       "      <td>186</td>\n",
       "      <td>6243149</td>\n",
       "      <td>Crowner Royal (Crowner John Mystery, #13)</td>\n",
       "      <td>Crowner Royal (Crowner John Mystery, #13)</td>\n",
       "      <td>37778</td>\n",
       "      <td></td>\n",
       "      <td>NaN</td>\n",
       "      <td>NaN</td>\n",
       "      <td>NaN</td>\n",
       "      <td>NaN</td>\n",
       "    </tr>\n",
       "    <tr>\n",
       "      <th>1</th>\n",
       "      <td>60</td>\n",
       "      <td>1052227</td>\n",
       "      <td>US</td>\n",
       "      <td>eng</td>\n",
       "      <td>true</td>\n",
       "      <td>4.33</td>\n",
       "      <td>Ebook</td>\n",
       "      <td>NaN</td>\n",
       "      <td>318</td>\n",
       "      <td>NaN</td>\n",
       "      <td>...</td>\n",
       "      <td>269</td>\n",
       "      <td>54143148</td>\n",
       "      <td>The House of Memory (Pluto's Snitch #2)</td>\n",
       "      <td>The House of Memory (Pluto's Snitch #2)</td>\n",
       "      <td>242185</td>\n",
       "      <td></td>\n",
       "      <td>NaN</td>\n",
       "      <td>NaN</td>\n",
       "      <td>NaN</td>\n",
       "      <td>NaN</td>\n",
       "    </tr>\n",
       "    <tr>\n",
       "      <th>2</th>\n",
       "      <td>23</td>\n",
       "      <td>953679</td>\n",
       "      <td>US</td>\n",
       "      <td>eng</td>\n",
       "      <td>true</td>\n",
       "      <td>3.49</td>\n",
       "      <td>Ebook</td>\n",
       "      <td>Amazon Digital Services</td>\n",
       "      <td>NaN</td>\n",
       "      <td>NaN</td>\n",
       "      <td>...</td>\n",
       "      <td>192</td>\n",
       "      <td>49305010</td>\n",
       "      <td>The Slaughtered Virgin of Zenopolis (Inspector...</td>\n",
       "      <td>The Slaughtered Virgin of Zenopolis (Inspector...</td>\n",
       "      <td>15104629</td>\n",
       "      <td></td>\n",
       "      <td>14425713</td>\n",
       "      <td></td>\n",
       "      <td>NaN</td>\n",
       "      <td>NaN</td>\n",
       "    </tr>\n",
       "    <tr>\n",
       "      <th>3</th>\n",
       "      <td>8</td>\n",
       "      <td>408775</td>\n",
       "      <td>US</td>\n",
       "      <td>NaN</td>\n",
       "      <td>false</td>\n",
       "      <td>3.30</td>\n",
       "      <td>Hardcover</td>\n",
       "      <td>Ulverscroft</td>\n",
       "      <td>NaN</td>\n",
       "      <td>12</td>\n",
       "      <td>...</td>\n",
       "      <td>52</td>\n",
       "      <td>1903897</td>\n",
       "      <td>Dead in the Morning (Patrick Grant, #1)</td>\n",
       "      <td>Dead in the Morning (Patrick Grant, #1)</td>\n",
       "      <td>190988</td>\n",
       "      <td></td>\n",
       "      <td>NaN</td>\n",
       "      <td>NaN</td>\n",
       "      <td>NaN</td>\n",
       "      <td>NaN</td>\n",
       "    </tr>\n",
       "    <tr>\n",
       "      <th>5</th>\n",
       "      <td>3</td>\n",
       "      <td>199039</td>\n",
       "      <td>US</td>\n",
       "      <td>eng</td>\n",
       "      <td>false</td>\n",
       "      <td>3.96</td>\n",
       "      <td>Audiobook</td>\n",
       "      <td>HarperAudio</td>\n",
       "      <td>NaN</td>\n",
       "      <td>3</td>\n",
       "      <td>...</td>\n",
       "      <td>5</td>\n",
       "      <td>2288775</td>\n",
       "      <td>A Murder is Announced</td>\n",
       "      <td>A Murder is Announced</td>\n",
       "      <td>123715</td>\n",
       "      <td></td>\n",
       "      <td>552417</td>\n",
       "      <td>Narrator</td>\n",
       "      <td>NaN</td>\n",
       "      <td>NaN</td>\n",
       "    </tr>\n",
       "  </tbody>\n",
       "</table>\n",
       "<p>5 rows × 23 columns</p>\n",
       "</div>"
      ],
      "text/plain": [
       "   text_reviews_count   series country_code language_code is_ebook  \\\n",
       "0                  15   169353           US           NaN    false   \n",
       "1                  60  1052227           US           eng     true   \n",
       "2                  23   953679           US           eng     true   \n",
       "3                   8   408775           US           NaN    false   \n",
       "5                   3   199039           US           eng    false   \n",
       "\n",
       "   average_rating     format                publisher num_pages  \\\n",
       "0            3.93  Hardcover      Simon & Schuster UK       400   \n",
       "1            4.33      Ebook                      NaN       318   \n",
       "2            3.49      Ebook  Amazon Digital Services       NaN   \n",
       "3            3.30  Hardcover              Ulverscroft       NaN   \n",
       "5            3.96  Audiobook              HarperAudio       NaN   \n",
       "\n",
       "  publication_month  ... ratings_count   work_id  \\\n",
       "0                 4  ...           186   6243149   \n",
       "1               NaN  ...           269  54143148   \n",
       "2               NaN  ...           192  49305010   \n",
       "3                12  ...            52   1903897   \n",
       "5                 3  ...             5   2288775   \n",
       "\n",
       "                                               title  \\\n",
       "0          Crowner Royal (Crowner John Mystery, #13)   \n",
       "1            The House of Memory (Pluto's Snitch #2)   \n",
       "2  The Slaughtered Virgin of Zenopolis (Inspector...   \n",
       "3            Dead in the Morning (Patrick Grant, #1)   \n",
       "5                              A Murder is Announced   \n",
       "\n",
       "                                title_without_series  1st_au_id 1st_au_role  \\\n",
       "0          Crowner Royal (Crowner John Mystery, #13)      37778               \n",
       "1            The House of Memory (Pluto's Snitch #2)     242185               \n",
       "2  The Slaughtered Virgin of Zenopolis (Inspector...   15104629               \n",
       "3            Dead in the Morning (Patrick Grant, #1)     190988               \n",
       "5                              A Murder is Announced     123715               \n",
       "\n",
       "  2nd_au_id 2nd_au_role 3rd_au_id 3rd_au_role  \n",
       "0       NaN         NaN       NaN         NaN  \n",
       "1       NaN         NaN       NaN         NaN  \n",
       "2  14425713                   NaN         NaN  \n",
       "3       NaN         NaN       NaN         NaN  \n",
       "5    552417    Narrator       NaN         NaN  \n",
       "\n",
       "[5 rows x 23 columns]"
      ]
     },
     "execution_count": 536,
     "metadata": {},
     "output_type": "execute_result"
    }
   ],
   "source": [
    "df.head()"
   ]
  },
  {
   "cell_type": "markdown",
   "metadata": {},
   "source": [
    "Now to clean up Author and Role data, similar to format"
   ]
  },
  {
   "cell_type": "code",
   "execution_count": 537,
   "metadata": {},
   "outputs": [],
   "source": [
    "df['1st_au_role'] = df['1st_au_role'].str.lower()\n",
    "df['2nd_au_role'] = df['2nd_au_role'].str.lower()\n",
    "df['3rd_au_role'] = df['3rd_au_role'].str.lower()"
   ]
  },
  {
   "cell_type": "code",
   "execution_count": 538,
   "metadata": {},
   "outputs": [
    {
     "data": {
      "text/plain": [
       "                            180478\n",
       "editor                        1003\n",
       "pseudonym                      461\n",
       "author                          67\n",
       "creator                         55\n",
       "                             ...  \n",
       "simon vance                      1\n",
       "written as mary roberts          1\n",
       "original screenplay              1\n",
       "text, illustrator                1\n",
       "narrated by: lorna raver         1\n",
       "Name: 1st_au_role, Length: 142, dtype: int64"
      ]
     },
     "execution_count": 538,
     "metadata": {},
     "output_type": "execute_result"
    }
   ],
   "source": [
    "df['1st_au_role'].value_counts()"
   ]
  },
  {
   "cell_type": "code",
   "execution_count": 539,
   "metadata": {},
   "outputs": [
    {
     "name": "stdout",
     "output_type": "stream",
     "text": [
      "uth results are:\n",
      " attributed author    1\n",
      "utho                 1\n",
      "original author      1\n",
      "co-author            1\n",
      "Name: 3rd_au_role, dtype: int64\n"
     ]
    }
   ],
   "source": [
    "find_formats(df,'3rd_au_role',\"uth\")"
   ]
  },
  {
   "cell_type": "code",
   "execution_count": 540,
   "metadata": {},
   "outputs": [
    {
     "name": "stdout",
     "output_type": "stream",
     "text": [
      "Series([], Name: 2nd_au_role, dtype: int64)\n"
     ]
    },
    {
     "name": "stderr",
     "output_type": "stream",
     "text": [
      "/Users/jensensj/opt/anaconda3/lib/python3.8/site-packages/pandas/core/indexing.py:670: SettingWithCopyWarning: \n",
      "A value is trying to be set on a copy of a slice from a DataFrame\n",
      "\n",
      "See the caveats in the documentation: https://pandas.pydata.org/pandas-docs/stable/user_guide/indexing.html#returning-a-view-versus-a-copy\n",
      "  iloc._setitem_with_indexer(indexer, value)\n"
     ]
    }
   ],
   "source": [
    "change_formats(df,'2nd_au_role','afterword / author interview',\"Support\")"
   ]
  },
  {
   "cell_type": "code",
   "execution_count": 541,
   "metadata": {},
   "outputs": [
    {
     "name": "stdout",
     "output_type": "stream",
     "text": [
      "uth results are:\n",
      " co-author             12\n",
      "author's true name     9\n",
      "editor/author          5\n",
      "joint author           2\n",
      "original author        2\n",
      "house author           1\n",
      "editor, author         1\n",
      "author/illustrator     1\n",
      "original_author        1\n",
      "co- author             1\n",
      "ghost author           1\n",
      "author, artist         1\n",
      "Name: 2nd_au_role, dtype: int64\n"
     ]
    }
   ],
   "source": [
    "find_formats(df,'2nd_au_role',\"uth\")"
   ]
  },
  {
   "cell_type": "code",
   "execution_count": 542,
   "metadata": {},
   "outputs": [
    {
     "name": "stdout",
     "output_type": "stream",
     "text": [
      "Author    131\n",
      "Name: 1st_au_role, dtype: int64\n",
      "Author    37\n",
      "Name: 2nd_au_role, dtype: int64\n",
      "Author    4\n",
      "Name: 3rd_au_role, dtype: int64\n"
     ]
    }
   ],
   "source": [
    "change_formats(df,'1st_au_role',\"uth\",\"Author\")\n",
    "change_formats(df,'2nd_au_role',\"uth\",\"Author\")\n",
    "change_formats(df,'3rd_au_role',\"uth\",\"Author\")"
   ]
  },
  {
   "cell_type": "code",
   "execution_count": 543,
   "metadata": {},
   "outputs": [
    {
     "name": "stdout",
     "output_type": "stream",
     "text": [
      "ito results are:\n",
      " editor                  153\n",
      "series editor            14\n",
      "editor/contributor        3\n",
      "founding editor           3\n",
      "editor, translator        2\n",
      "editor / contributor      1\n",
      "editor                    1\n",
      " editor                   1\n",
      "Name: 3rd_au_role, dtype: int64\n"
     ]
    }
   ],
   "source": [
    "find_formats(df,'3rd_au_role',\"ito\")"
   ]
  },
  {
   "cell_type": "code",
   "execution_count": 544,
   "metadata": {},
   "outputs": [
    {
     "name": "stdout",
     "output_type": "stream",
     "text": [
      "Editor    1079\n",
      "Name: 1st_au_role, dtype: int64\n",
      "Editor    908\n",
      "Name: 2nd_au_role, dtype: int64\n",
      "Editor    178\n",
      "Name: 3rd_au_role, dtype: int64\n"
     ]
    }
   ],
   "source": [
    "change_formats(df,'1st_au_role',\"ito\",\"Editor\")\n",
    "change_formats(df,'2nd_au_role',\"ito\",\"Editor\")\n",
    "change_formats(df,'3rd_au_role',\"ito\",\"Editor\")"
   ]
  },
  {
   "cell_type": "code",
   "execution_count": 545,
   "metadata": {},
   "outputs": [
    {
     "name": "stdout",
     "output_type": "stream",
     "text": [
      "ontr results are:\n",
      " contributor                  49\n",
      "contributor & redactional     2\n",
      "contributor and forward       1\n",
      "translator & contributor      1\n",
      "Name: 1st_au_role, dtype: int64\n"
     ]
    }
   ],
   "source": [
    "find_formats(df,'1st_au_role',\"ontr\")"
   ]
  },
  {
   "cell_type": "code",
   "execution_count": 546,
   "metadata": {},
   "outputs": [
    {
     "name": "stdout",
     "output_type": "stream",
     "text": [
      "Contributor    53\n",
      "Name: 1st_au_role, dtype: int64\n",
      "Contributor    317\n",
      "Name: 2nd_au_role, dtype: int64\n",
      "Contributor    291\n",
      "Name: 3rd_au_role, dtype: int64\n"
     ]
    }
   ],
   "source": [
    "change_formats(df,'1st_au_role',\"ontr\",\"Contributor\")\n",
    "change_formats(df,'2nd_au_role',\"ontr\",\"Contributor\")\n",
    "change_formats(df,'3rd_au_role',\"ontr\",\"Contributor\")"
   ]
  },
  {
   "cell_type": "code",
   "execution_count": 547,
   "metadata": {},
   "outputs": [
    {
     "name": "stdout",
     "output_type": "stream",
     "text": [
      "host results are:\n",
      " ghostwriter      34\n",
      "ghost writer      7\n",
      "ghost writer      1\n",
      "Name: 2nd_au_role, dtype: int64\n"
     ]
    }
   ],
   "source": [
    "find_formats(df,'2nd_au_role',\"host\")"
   ]
  },
  {
   "cell_type": "code",
   "execution_count": 548,
   "metadata": {},
   "outputs": [
    {
     "name": "stdout",
     "output_type": "stream",
     "text": [
      "Series([], Name: 1st_au_role, dtype: int64)\n",
      "GhostWriter    42\n",
      "Name: 2nd_au_role, dtype: int64\n",
      "Series([], Name: 3rd_au_role, dtype: int64)\n"
     ]
    }
   ],
   "source": [
    "change_formats(df,'1st_au_role',\"host\",\"GhostWriter\")\n",
    "change_formats(df,'2nd_au_role',\"host\",\"GhostWriter\")\n",
    "change_formats(df,'3rd_au_role',\"host\",\"GhostWriter\")"
   ]
  },
  {
   "cell_type": "code",
   "execution_count": 549,
   "metadata": {},
   "outputs": [
    {
     "name": "stdout",
     "output_type": "stream",
     "text": [
      "eat results are:\n",
      " series creator    71\n",
      "creator           29\n",
      "created by         1\n",
      "Name: 3rd_au_role, dtype: int64\n"
     ]
    }
   ],
   "source": [
    "find_formats(df,'3rd_au_role',\"eat\")"
   ]
  },
  {
   "cell_type": "code",
   "execution_count": 550,
   "metadata": {},
   "outputs": [
    {
     "name": "stdout",
     "output_type": "stream",
     "text": [
      "Creator    68\n",
      "Name: 1st_au_role, dtype: int64\n",
      "Creator    226\n",
      "Name: 2nd_au_role, dtype: int64\n",
      "Creator    101\n",
      "Name: 3rd_au_role, dtype: int64\n"
     ]
    }
   ],
   "source": [
    "change_formats(df,'1st_au_role',\"eat\",\"Creator\")\n",
    "change_formats(df,'2nd_au_role',\"eat\",\"Creator\")\n",
    "change_formats(df,'3rd_au_role',\"eat\",\"Creator\")"
   ]
  },
  {
   "cell_type": "code",
   "execution_count": 551,
   "metadata": {},
   "outputs": [
    {
     "name": "stdout",
     "output_type": "stream",
     "text": [
      "eu results are:\n",
      " pseudonym     49\n",
      "pseudonym     12\n",
      "pseud.        11\n",
      "Name: 2nd_au_role, dtype: int64\n"
     ]
    }
   ],
   "source": [
    "find_formats(df,'2nd_au_role',\"eu\")"
   ]
  },
  {
   "cell_type": "code",
   "execution_count": 552,
   "metadata": {},
   "outputs": [
    {
     "name": "stdout",
     "output_type": "stream",
     "text": [
      "Pseudonym    468\n",
      "Name: 1st_au_role, dtype: int64\n",
      "Pseudonym    72\n",
      "Name: 2nd_au_role, dtype: int64\n",
      "Pseudonym    7\n",
      "Name: 3rd_au_role, dtype: int64\n"
     ]
    }
   ],
   "source": [
    "change_formats(df,'1st_au_role',\"eu\",\"Pseudonym\")\n",
    "change_formats(df,'2nd_au_role',\"eu\",\"Pseudonym\")\n",
    "change_formats(df,'3rd_au_role',\"eu\",\"Pseudonym\")"
   ]
  },
  {
   "cell_type": "code",
   "execution_count": 553,
   "metadata": {},
   "outputs": [
    {
     "name": "stdout",
     "output_type": "stream",
     "text": [
      "arr results are:\n",
      " narrator           934\n",
      "narrator            16\n",
      "narrated by          8\n",
      "as harriet vane      1\n",
      "narratot             1\n",
      "Name: 3rd_au_role, dtype: int64\n"
     ]
    }
   ],
   "source": [
    "find_formats(df,'3rd_au_role',\"arr\")"
   ]
  },
  {
   "cell_type": "code",
   "execution_count": 554,
   "metadata": {},
   "outputs": [
    {
     "name": "stdout",
     "output_type": "stream",
     "text": [
      "Narrator    39\n",
      "Name: 1st_au_role, dtype: int64\n",
      "Narrator    7427\n",
      "Name: 2nd_au_role, dtype: int64\n",
      "Narrator    960\n",
      "Name: 3rd_au_role, dtype: int64\n"
     ]
    }
   ],
   "source": [
    "change_formats(df,'1st_au_role',\"arr\",\"Narrator\")\n",
    "change_formats(df,'2nd_au_role',\"arr\",\"Narrator\")\n",
    "change_formats(df,'3rd_au_role',\"arr\",\"Narrator\")"
   ]
  },
  {
   "cell_type": "code",
   "execution_count": 555,
   "metadata": {},
   "outputs": [
    {
     "data": {
      "text/plain": [
       "                        180478\n",
       "Editor                    1079\n",
       "Pseudonym                  468\n",
       "Author                     131\n",
       "Creator                     68\n",
       "Contributor                 53\n",
       "house name                  41\n",
       "Narrator                    39\n",
       "adapter                     34\n",
       "adapter/novelization        30\n",
       "Name: 1st_au_role, dtype: int64"
      ]
     },
     "execution_count": 555,
     "metadata": {},
     "output_type": "execute_result"
    }
   ],
   "source": [
    "df['1st_au_role'].value_counts()[df['1st_au_role'].value_counts()>20]"
   ]
  },
  {
   "cell_type": "code",
   "execution_count": 556,
   "metadata": {},
   "outputs": [
    {
     "name": "stdout",
     "output_type": "stream",
     "text": [
      "ans results are:\n",
      " translator     294\n",
      "translation     63\n",
      "Name: 3rd_au_role, dtype: int64\n"
     ]
    }
   ],
   "source": [
    "find_formats(df,'3rd_au_role',\"ans\")"
   ]
  },
  {
   "cell_type": "code",
   "execution_count": 557,
   "metadata": {},
   "outputs": [
    {
     "name": "stdout",
     "output_type": "stream",
     "text": [
      "Translator    8\n",
      "Name: 1st_au_role, dtype: int64\n"
     ]
    },
    {
     "name": "stderr",
     "output_type": "stream",
     "text": [
      "/Users/jensensj/opt/anaconda3/lib/python3.8/site-packages/pandas/core/indexing.py:670: SettingWithCopyWarning: \n",
      "A value is trying to be set on a copy of a slice from a DataFrame\n",
      "\n",
      "See the caveats in the documentation: https://pandas.pydata.org/pandas-docs/stable/user_guide/indexing.html#returning-a-view-versus-a-copy\n",
      "  iloc._setitem_with_indexer(indexer, value)\n"
     ]
    },
    {
     "name": "stdout",
     "output_type": "stream",
     "text": [
      "Translator    3074\n",
      "Name: 2nd_au_role, dtype: int64\n",
      "Translator    370\n",
      "Name: 3rd_au_role, dtype: int64\n"
     ]
    }
   ],
   "source": [
    "change_formats(df,'1st_au_role',\"ans|ubersetzer|traduc\",\"Translator\")\n",
    "change_formats(df,'2nd_au_role',\"ans|ubersetzer|traduc\",\"Translator\")\n",
    "change_formats(df,'3rd_au_role',\"ans|ubersetzer|traduc\",\"Translator\")"
   ]
  },
  {
   "cell_type": "code",
   "execution_count": 558,
   "metadata": {},
   "outputs": [
    {
     "name": "stdout",
     "output_type": "stream",
     "text": [
      "Adapter    106\n",
      "Name: 1st_au_role, dtype: int64\n",
      "Adapter    16\n",
      "Name: 2nd_au_role, dtype: int64\n",
      "Adapter    7\n",
      "Name: 3rd_au_role, dtype: int64\n"
     ]
    }
   ],
   "source": [
    "change_formats(df,'1st_au_role',\"apt\",\"Adapter\")\n",
    "change_formats(df,'2nd_au_role',\"apt\",\"Adapter\")\n",
    "change_formats(df,'3rd_au_role',\"apt\",\"Adapter\")"
   ]
  },
  {
   "cell_type": "code",
   "execution_count": 559,
   "metadata": {},
   "outputs": [
    {
     "data": {
      "text/plain": [
       "                180478\n",
       "Editor            1079\n",
       "Pseudonym          468\n",
       "Author             131\n",
       "Adapter            106\n",
       "Creator             68\n",
       "Contributor         53\n",
       "house name          41\n",
       "Narrator            39\n",
       "reading             20\n",
       "pen name            18\n",
       "preface             14\n",
       "writer              12\n",
       "introduction        12\n",
       "Name: 1st_au_role, dtype: int64"
      ]
     },
     "execution_count": 559,
     "metadata": {},
     "output_type": "execute_result"
    }
   ],
   "source": [
    "df['1st_au_role'].value_counts()[df['1st_au_role'].value_counts()>10]"
   ]
  },
  {
   "cell_type": "code",
   "execution_count": 560,
   "metadata": {},
   "outputs": [
    {
     "name": "stdout",
     "output_type": "stream",
     "text": [
      "art results are:\n",
      " visual art      7\n",
      "artist          5\n",
      "cover art       3\n",
      "art             2\n",
      "cover artist    1\n",
      "cartographer    1\n",
      "Name: 3rd_au_role, dtype: int64\n"
     ]
    }
   ],
   "source": [
    "find_formats(df,'3rd_au_role',\"art\")"
   ]
  },
  {
   "cell_type": "code",
   "execution_count": 561,
   "metadata": {},
   "outputs": [
    {
     "name": "stdout",
     "output_type": "stream",
     "text": [
      "Illustrator    19\n",
      "Name: 1st_au_role, dtype: int64\n"
     ]
    },
    {
     "name": "stderr",
     "output_type": "stream",
     "text": [
      "/Users/jensensj/opt/anaconda3/lib/python3.8/site-packages/pandas/core/indexing.py:670: SettingWithCopyWarning: \n",
      "A value is trying to be set on a copy of a slice from a DataFrame\n",
      "\n",
      "See the caveats in the documentation: https://pandas.pydata.org/pandas-docs/stable/user_guide/indexing.html#returning-a-view-versus-a-copy\n",
      "  iloc._setitem_with_indexer(indexer, value)\n"
     ]
    },
    {
     "name": "stdout",
     "output_type": "stream",
     "text": [
      "Illustrator    1461\n",
      "Name: 2nd_au_role, dtype: int64\n",
      "Illustrator    287\n",
      "Name: 3rd_au_role, dtype: int64\n"
     ]
    }
   ],
   "source": [
    "change_formats(df,'1st_au_role',\"lust|art|cover|photo\",\"Illustrator\")\n",
    "change_formats(df,'2nd_au_role',\"lust|art|cover|photo\",\"Illustrator\")\n",
    "change_formats(df,'3rd_au_role',\"lust|art|cover|photo\",\"Illustrator\")"
   ]
  },
  {
   "cell_type": "code",
   "execution_count": 562,
   "metadata": {},
   "outputs": [
    {
     "name": "stdout",
     "output_type": "stream",
     "text": [
      "lias results are:\n",
      " alias    10\n",
      "Name: 1st_au_role, dtype: int64\n"
     ]
    }
   ],
   "source": [
    "find_formats(df,'1st_au_role',\"lias\")"
   ]
  },
  {
   "cell_type": "code",
   "execution_count": 563,
   "metadata": {},
   "outputs": [
    {
     "name": "stdout",
     "output_type": "stream",
     "text": [
      "Series([], Name: 1st_au_role, dtype: int64)\n",
      "Series([], Name: 2nd_au_role, dtype: int64)\n",
      "Series([], Name: 3rd_au_role, dtype: int64)\n"
     ]
    }
   ],
   "source": [
    "change_formats(df,'1st_au_role',\"name|lias\",\"Pseudonym\")\n",
    "change_formats(df,'2nd_au_role',\"name|lias\",\"Pseudonym\")\n",
    "change_formats(df,'3rd_au_role',\"name|lias\",\"Pseudonym\")"
   ]
  },
  {
   "cell_type": "code",
   "execution_count": 564,
   "metadata": {},
   "outputs": [
    {
     "name": "stdout",
     "output_type": "stream",
     "text": [
      "word|face|ntro results are:\n",
      " preface                  14\n",
      "introduction             12\n",
      "foreword                  6\n",
      "selector/introduction     1\n",
      "Name: 1st_au_role, dtype: int64\n"
     ]
    }
   ],
   "source": [
    "find_formats(df,'1st_au_role',\"word|face|ntro\")"
   ]
  },
  {
   "cell_type": "code",
   "execution_count": 565,
   "metadata": {},
   "outputs": [
    {
     "name": "stdout",
     "output_type": "stream",
     "text": [
      "Series([], Name: 1st_au_role, dtype: int64)\n",
      "Series([], Name: 2nd_au_role, dtype: int64)\n",
      "Series([], Name: 3rd_au_role, dtype: int64)\n"
     ]
    }
   ],
   "source": [
    "change_formats(df,'1st_au_role',\"word|face|ntro|ward\",\"Word\")\n",
    "change_formats(df,'2nd_au_role',\"word|face|ntro|ward\",\"Word\")\n",
    "change_formats(df,'3rd_au_role',\"word|face|ntro|ward\",\"Word\")"
   ]
  },
  {
   "cell_type": "code",
   "execution_count": 566,
   "metadata": {},
   "outputs": [
    {
     "name": "stdout",
     "output_type": "stream",
     "text": [
      "ead results are:\n",
      " reading    218\n",
      "read by     39\n",
      "reader      34\n",
      "Name: 3rd_au_role, dtype: int64\n"
     ]
    }
   ],
   "source": [
    "find_formats(df,'3rd_au_role',\"ead\")"
   ]
  },
  {
   "cell_type": "code",
   "execution_count": 567,
   "metadata": {},
   "outputs": [
    {
     "name": "stdout",
     "output_type": "stream",
     "text": [
      "Series([], Name: 1st_au_role, dtype: int64)\n",
      "Series([], Name: 2nd_au_role, dtype: int64)\n",
      "Series([], Name: 3rd_au_role, dtype: int64)\n"
     ]
    }
   ],
   "source": [
    "change_formats(df,'1st_au_role',\"ead|erf|old|nar\",\"Narrator\")\n",
    "change_formats(df,'2nd_au_role',\"ead|erf|old|nar\",\"Narrator\")\n",
    "change_formats(df,'3rd_au_role',\"ead|erf|old|nar\",\"Narrator\")"
   ]
  },
  {
   "cell_type": "code",
   "execution_count": 568,
   "metadata": {},
   "outputs": [
    {
     "data": {
      "text/plain": [
       "               180478\n",
       "Editor           1079\n",
       "Pseudonym         537\n",
       "Author            131\n",
       "Adapter           106\n",
       "Creator            68\n",
       "Narrator           66\n",
       "Contributor        53\n",
       "Word               33\n",
       "Illustrator        19\n",
       "writer             12\n",
       "Translator          8\n",
       "writing as          6\n",
       "compilation         6\n",
       "Name: 1st_au_role, dtype: int64"
      ]
     },
     "execution_count": 568,
     "metadata": {},
     "output_type": "execute_result"
    }
   ],
   "source": [
    "df['1st_au_role'].value_counts()[df['1st_au_role'].value_counts()>5]"
   ]
  },
  {
   "cell_type": "code",
   "execution_count": 569,
   "metadata": {},
   "outputs": [
    {
     "name": "stdout",
     "output_type": "stream",
     "text": [
      "with results are:\n",
      " with    4\n",
      "Name: 1st_au_role, dtype: int64\n"
     ]
    }
   ],
   "source": [
    "find_formats(df,'1st_au_role',\"with\")"
   ]
  },
  {
   "cell_type": "code",
   "execution_count": 570,
   "metadata": {},
   "outputs": [
    {
     "name": "stdout",
     "output_type": "stream",
     "text": [
      "Series([], Name: 1st_au_role, dtype: int64)\n"
     ]
    },
    {
     "name": "stderr",
     "output_type": "stream",
     "text": [
      "/Users/jensensj/opt/anaconda3/lib/python3.8/site-packages/pandas/core/indexing.py:670: SettingWithCopyWarning: \n",
      "A value is trying to be set on a copy of a slice from a DataFrame\n",
      "\n",
      "See the caveats in the documentation: https://pandas.pydata.org/pandas-docs/stable/user_guide/indexing.html#returning-a-view-versus-a-copy\n",
      "  iloc._setitem_with_indexer(indexer, value)\n"
     ]
    },
    {
     "name": "stdout",
     "output_type": "stream",
     "text": [
      "Series([], Name: 2nd_au_role, dtype: int64)\n",
      "Series([], Name: 3rd_au_role, dtype: int64)\n"
     ]
    }
   ],
   "source": [
    "change_formats(df,'1st_au_role',\"comp|with|prod\",\"Contributor\")\n",
    "change_formats(df,'2nd_au_role',\"comp|with|prod\",\"Contributor\")\n",
    "change_formats(df,'3rd_au_role',\"comp|with|prod\",\"Contributor\")"
   ]
  },
  {
   "cell_type": "code",
   "execution_count": 571,
   "metadata": {},
   "outputs": [
    {
     "name": "stdout",
     "output_type": "stream",
     "text": [
      "writ results are:\n",
      " writer                     12\n",
      "writing as                  6\n",
      "suspense writer             3\n",
      "draft writer                1\n",
      "written as mary roberts     1\n",
      "Name: 1st_au_role, dtype: int64\n"
     ]
    }
   ],
   "source": [
    "find_formats(df,'1st_au_role',\"writ\")"
   ]
  },
  {
   "cell_type": "code",
   "execution_count": 572,
   "metadata": {},
   "outputs": [
    {
     "name": "stdout",
     "output_type": "stream",
     "text": [
      "Series([], Name: 1st_au_role, dtype: int64)\n",
      "Series([], Name: 2nd_au_role, dtype: int64)\n",
      "Series([], Name: 3rd_au_role, dtype: int64)\n"
     ]
    }
   ],
   "source": [
    "change_formats(df,'1st_au_role',\"writ|stor|atributed|as|novel|screenplay\",\"Author\")\n",
    "change_formats(df,'2nd_au_role',\"writ|stor|screenplay\",\"Author\")\n",
    "change_formats(df,'3rd_au_role',\"writ|stor|screenplay\",\"Author\")"
   ]
  },
  {
   "cell_type": "code",
   "execution_count": 573,
   "metadata": {},
   "outputs": [
    {
     "data": {
      "text/plain": [
       "                180478\n",
       "Editor            1079\n",
       "Pseudonym          537\n",
       "Author             173\n",
       "Adapter            106\n",
       "Contributor         71\n",
       "Creator             68\n",
       "Narrator            66\n",
       "Word                33\n",
       "Illustrator         19\n",
       "Translator           8\n",
       "selections           3\n",
       "abridged by          2\n",
       "manufacturer         2\n",
       "Name: 1st_au_role, dtype: int64"
      ]
     },
     "execution_count": 573,
     "metadata": {},
     "output_type": "execute_result"
    }
   ],
   "source": [
    "df['1st_au_role'].value_counts()[df['1st_au_role'].value_counts()>1]"
   ]
  },
  {
   "cell_type": "code",
   "execution_count": 576,
   "metadata": {},
   "outputs": [
    {
     "name": "stdout",
     "output_type": "stream",
     "text": [
      "by results are:\n",
      " designed by             6\n",
      "manufactured by         1\n",
      "selected by             1\n",
      "based on work by        1\n",
      "prologue by             1\n",
      "noted by                1\n",
      "epilogue by             1\n",
      "based on teleplay by    1\n",
      "Name: 2nd_au_role, dtype: int64\n"
     ]
    }
   ],
   "source": [
    "find_formats(df,'2nd_au_role',\"by\")"
   ]
  },
  {
   "cell_type": "markdown",
   "metadata": {},
   "source": [
    "Now, we set blanks to Author for au1 for all, and narrator for au2 for audio books"
   ]
  },
  {
   "cell_type": "code",
   "execution_count": 580,
   "metadata": {},
   "outputs": [
    {
     "name": "stderr",
     "output_type": "stream",
     "text": [
      "<ipython-input-580-9e3c9d84c6f4>:1: SettingWithCopyWarning: \n",
      "A value is trying to be set on a copy of a slice from a DataFrame\n",
      "\n",
      "See the caveats in the documentation: https://pandas.pydata.org/pandas-docs/stable/user_guide/indexing.html#returning-a-view-versus-a-copy\n",
      "  df['1st_au_role'][df['1st_au_role'] == \"\"] = \"Author\"\n"
     ]
    }
   ],
   "source": [
    "df['1st_au_role'][df['1st_au_role'] == \"\"] = \"Author\""
   ]
  },
  {
   "cell_type": "code",
   "execution_count": 581,
   "metadata": {},
   "outputs": [
    {
     "data": {
      "text/plain": [
       "Author          180651\n",
       "Editor            1079\n",
       "Pseudonym          537\n",
       "Adapter            106\n",
       "Contributor         71\n",
       "Creator             68\n",
       "Narrator            66\n",
       "Word                33\n",
       "Illustrator         19\n",
       "Translator           8\n",
       "selections           3\n",
       "abridged by          2\n",
       "manufacturer         2\n",
       "Name: 1st_au_role, dtype: int64"
      ]
     },
     "execution_count": 581,
     "metadata": {},
     "output_type": "execute_result"
    }
   ],
   "source": [
    "df['1st_au_role'].value_counts()[df['1st_au_role'].value_counts()>1]"
   ]
  },
  {
   "cell_type": "code",
   "execution_count": 584,
   "metadata": {},
   "outputs": [
    {
     "name": "stderr",
     "output_type": "stream",
     "text": [
      "<ipython-input-584-f6edc04f33e2>:1: SettingWithCopyWarning: \n",
      "A value is trying to be set on a copy of a slice from a DataFrame\n",
      "\n",
      "See the caveats in the documentation: https://pandas.pydata.org/pandas-docs/stable/user_guide/indexing.html#returning-a-view-versus-a-copy\n",
      "  df['2nd_au_role'][(df['2nd_au_role'] == \"\") & ((df.format == 'Audible') | (df.format == 'Audiobook'))] = 'Narrator'\n"
     ]
    }
   ],
   "source": [
    "df['2nd_au_role'][(df['2nd_au_role'] == \"\") & ((df.format == 'Audible') | (df.format == 'Audiobook'))] = 'Narrator'"
   ]
  },
  {
   "cell_type": "code",
   "execution_count": 587,
   "metadata": {},
   "outputs": [
    {
     "name": "stderr",
     "output_type": "stream",
     "text": [
      "<ipython-input-587-a76562edfc5e>:1: SettingWithCopyWarning: \n",
      "A value is trying to be set on a copy of a slice from a DataFrame\n",
      "\n",
      "See the caveats in the documentation: https://pandas.pydata.org/pandas-docs/stable/user_guide/indexing.html#returning-a-view-versus-a-copy\n",
      "  df['2nd_au_role'][(df['2nd_au_role'] == \"\") & ((df.format != 'Audible') & (df.format != 'Audiobook'))] = 'Contributor'\n"
     ]
    }
   ],
   "source": [
    "df['2nd_au_role'][(df['2nd_au_role'] == \"\") & ((df.format != 'Audible') & (df.format != 'Audiobook'))] = 'Contributor'"
   ]
  },
  {
   "cell_type": "code",
   "execution_count": 588,
   "metadata": {},
   "outputs": [
    {
     "name": "stderr",
     "output_type": "stream",
     "text": [
      "<ipython-input-588-210bf8e15223>:1: SettingWithCopyWarning: \n",
      "A value is trying to be set on a copy of a slice from a DataFrame\n",
      "\n",
      "See the caveats in the documentation: https://pandas.pydata.org/pandas-docs/stable/user_guide/indexing.html#returning-a-view-versus-a-copy\n",
      "  df['3rd_au_role'][(df['3rd_au_role'] == \"\")] = 'Contributor'\n"
     ]
    }
   ],
   "source": [
    "df['3rd_au_role'][(df['3rd_au_role'] == \"\")] = 'Contributor'"
   ]
  },
  {
   "cell_type": "code",
   "execution_count": 592,
   "metadata": {},
   "outputs": [
    {
     "data": {
      "text/html": [
       "<div>\n",
       "<style scoped>\n",
       "    .dataframe tbody tr th:only-of-type {\n",
       "        vertical-align: middle;\n",
       "    }\n",
       "\n",
       "    .dataframe tbody tr th {\n",
       "        vertical-align: top;\n",
       "    }\n",
       "\n",
       "    .dataframe thead th {\n",
       "        text-align: right;\n",
       "    }\n",
       "</style>\n",
       "<table border=\"1\" class=\"dataframe\">\n",
       "  <thead>\n",
       "    <tr style=\"text-align: right;\">\n",
       "      <th></th>\n",
       "      <th>text_reviews_count</th>\n",
       "      <th>series</th>\n",
       "      <th>country_code</th>\n",
       "      <th>language_code</th>\n",
       "      <th>is_ebook</th>\n",
       "      <th>average_rating</th>\n",
       "      <th>format</th>\n",
       "      <th>publisher</th>\n",
       "      <th>num_pages</th>\n",
       "      <th>publication_month</th>\n",
       "      <th>...</th>\n",
       "      <th>ratings_count</th>\n",
       "      <th>work_id</th>\n",
       "      <th>title</th>\n",
       "      <th>title_without_series</th>\n",
       "      <th>1st_au_id</th>\n",
       "      <th>1st_au_role</th>\n",
       "      <th>2nd_au_id</th>\n",
       "      <th>2nd_au_role</th>\n",
       "      <th>3rd_au_id</th>\n",
       "      <th>3rd_au_role</th>\n",
       "    </tr>\n",
       "  </thead>\n",
       "  <tbody>\n",
       "    <tr>\n",
       "      <th>0</th>\n",
       "      <td>15</td>\n",
       "      <td>169353</td>\n",
       "      <td>US</td>\n",
       "      <td>NaN</td>\n",
       "      <td>false</td>\n",
       "      <td>3.93</td>\n",
       "      <td>Hardcover</td>\n",
       "      <td>Simon &amp; Schuster UK</td>\n",
       "      <td>400</td>\n",
       "      <td>4</td>\n",
       "      <td>...</td>\n",
       "      <td>186</td>\n",
       "      <td>6243149</td>\n",
       "      <td>Crowner Royal (Crowner John Mystery, #13)</td>\n",
       "      <td>Crowner Royal (Crowner John Mystery, #13)</td>\n",
       "      <td>37778</td>\n",
       "      <td>Author</td>\n",
       "      <td>NaN</td>\n",
       "      <td>NaN</td>\n",
       "      <td>NaN</td>\n",
       "      <td>NaN</td>\n",
       "    </tr>\n",
       "    <tr>\n",
       "      <th>1</th>\n",
       "      <td>60</td>\n",
       "      <td>1052227</td>\n",
       "      <td>US</td>\n",
       "      <td>eng</td>\n",
       "      <td>true</td>\n",
       "      <td>4.33</td>\n",
       "      <td>Ebook</td>\n",
       "      <td>NaN</td>\n",
       "      <td>318</td>\n",
       "      <td>NaN</td>\n",
       "      <td>...</td>\n",
       "      <td>269</td>\n",
       "      <td>54143148</td>\n",
       "      <td>The House of Memory (Pluto's Snitch #2)</td>\n",
       "      <td>The House of Memory (Pluto's Snitch #2)</td>\n",
       "      <td>242185</td>\n",
       "      <td>Author</td>\n",
       "      <td>NaN</td>\n",
       "      <td>NaN</td>\n",
       "      <td>NaN</td>\n",
       "      <td>NaN</td>\n",
       "    </tr>\n",
       "    <tr>\n",
       "      <th>2</th>\n",
       "      <td>23</td>\n",
       "      <td>953679</td>\n",
       "      <td>US</td>\n",
       "      <td>eng</td>\n",
       "      <td>true</td>\n",
       "      <td>3.49</td>\n",
       "      <td>Ebook</td>\n",
       "      <td>Amazon Digital Services</td>\n",
       "      <td>NaN</td>\n",
       "      <td>NaN</td>\n",
       "      <td>...</td>\n",
       "      <td>192</td>\n",
       "      <td>49305010</td>\n",
       "      <td>The Slaughtered Virgin of Zenopolis (Inspector...</td>\n",
       "      <td>The Slaughtered Virgin of Zenopolis (Inspector...</td>\n",
       "      <td>15104629</td>\n",
       "      <td>Author</td>\n",
       "      <td>14425713</td>\n",
       "      <td>Contributor</td>\n",
       "      <td>NaN</td>\n",
       "      <td>NaN</td>\n",
       "    </tr>\n",
       "    <tr>\n",
       "      <th>3</th>\n",
       "      <td>8</td>\n",
       "      <td>408775</td>\n",
       "      <td>US</td>\n",
       "      <td>NaN</td>\n",
       "      <td>false</td>\n",
       "      <td>3.30</td>\n",
       "      <td>Hardcover</td>\n",
       "      <td>Ulverscroft</td>\n",
       "      <td>NaN</td>\n",
       "      <td>12</td>\n",
       "      <td>...</td>\n",
       "      <td>52</td>\n",
       "      <td>1903897</td>\n",
       "      <td>Dead in the Morning (Patrick Grant, #1)</td>\n",
       "      <td>Dead in the Morning (Patrick Grant, #1)</td>\n",
       "      <td>190988</td>\n",
       "      <td>Author</td>\n",
       "      <td>NaN</td>\n",
       "      <td>NaN</td>\n",
       "      <td>NaN</td>\n",
       "      <td>NaN</td>\n",
       "    </tr>\n",
       "    <tr>\n",
       "      <th>5</th>\n",
       "      <td>3</td>\n",
       "      <td>199039</td>\n",
       "      <td>US</td>\n",
       "      <td>eng</td>\n",
       "      <td>false</td>\n",
       "      <td>3.96</td>\n",
       "      <td>Audiobook</td>\n",
       "      <td>HarperAudio</td>\n",
       "      <td>NaN</td>\n",
       "      <td>3</td>\n",
       "      <td>...</td>\n",
       "      <td>5</td>\n",
       "      <td>2288775</td>\n",
       "      <td>A Murder is Announced</td>\n",
       "      <td>A Murder is Announced</td>\n",
       "      <td>123715</td>\n",
       "      <td>Author</td>\n",
       "      <td>552417</td>\n",
       "      <td>Narrator</td>\n",
       "      <td>NaN</td>\n",
       "      <td>NaN</td>\n",
       "    </tr>\n",
       "    <tr>\n",
       "      <th>6</th>\n",
       "      <td>5</td>\n",
       "      <td>NaN</td>\n",
       "      <td>US</td>\n",
       "      <td>en-GB</td>\n",
       "      <td>true</td>\n",
       "      <td>3.80</td>\n",
       "      <td>Ebook</td>\n",
       "      <td>NaN</td>\n",
       "      <td>NaN</td>\n",
       "      <td>NaN</td>\n",
       "      <td>...</td>\n",
       "      <td>8</td>\n",
       "      <td>44866515</td>\n",
       "      <td>Dark Flames Rising</td>\n",
       "      <td>Dark Flames Rising</td>\n",
       "      <td>13658169</td>\n",
       "      <td>Author</td>\n",
       "      <td>NaN</td>\n",
       "      <td>NaN</td>\n",
       "      <td>NaN</td>\n",
       "      <td>NaN</td>\n",
       "    </tr>\n",
       "    <tr>\n",
       "      <th>7</th>\n",
       "      <td>8</td>\n",
       "      <td>326237</td>\n",
       "      <td>US</td>\n",
       "      <td>NaN</td>\n",
       "      <td>false</td>\n",
       "      <td>3.61</td>\n",
       "      <td>Paperback</td>\n",
       "      <td>Orion</td>\n",
       "      <td>320</td>\n",
       "      <td>8</td>\n",
       "      <td>...</td>\n",
       "      <td>58</td>\n",
       "      <td>2831381</td>\n",
       "      <td>Wycliffe and the Cycle of Death</td>\n",
       "      <td>Wycliffe and the Cycle of Death</td>\n",
       "      <td>1533165</td>\n",
       "      <td>Author</td>\n",
       "      <td>NaN</td>\n",
       "      <td>NaN</td>\n",
       "      <td>NaN</td>\n",
       "      <td>NaN</td>\n",
       "    </tr>\n",
       "    <tr>\n",
       "      <th>8</th>\n",
       "      <td>6</td>\n",
       "      <td>NaN</td>\n",
       "      <td>US</td>\n",
       "      <td>eng</td>\n",
       "      <td>false</td>\n",
       "      <td>4.14</td>\n",
       "      <td>Paperback</td>\n",
       "      <td>280 Steps</td>\n",
       "      <td>228</td>\n",
       "      <td>11</td>\n",
       "      <td>...</td>\n",
       "      <td>18</td>\n",
       "      <td>42251489</td>\n",
       "      <td>The Cost of Doing Business</td>\n",
       "      <td>The Cost of Doing Business</td>\n",
       "      <td>4577517</td>\n",
       "      <td>Author</td>\n",
       "      <td>NaN</td>\n",
       "      <td>NaN</td>\n",
       "      <td>NaN</td>\n",
       "      <td>NaN</td>\n",
       "    </tr>\n",
       "    <tr>\n",
       "      <th>9</th>\n",
       "      <td>2</td>\n",
       "      <td>199041</td>\n",
       "      <td>US</td>\n",
       "      <td>eng</td>\n",
       "      <td>false</td>\n",
       "      <td>3.93</td>\n",
       "      <td>Audiobook</td>\n",
       "      <td>HarperAudio</td>\n",
       "      <td>NaN</td>\n",
       "      <td>3</td>\n",
       "      <td>...</td>\n",
       "      <td>5</td>\n",
       "      <td>6490729</td>\n",
       "      <td>4:50 From Paddington</td>\n",
       "      <td>4:50 From Paddington</td>\n",
       "      <td>123715</td>\n",
       "      <td>Author</td>\n",
       "      <td>552417</td>\n",
       "      <td>Narrator</td>\n",
       "      <td>NaN</td>\n",
       "      <td>NaN</td>\n",
       "    </tr>\n",
       "    <tr>\n",
       "      <th>10</th>\n",
       "      <td>46</td>\n",
       "      <td>510553</td>\n",
       "      <td>US</td>\n",
       "      <td>eng</td>\n",
       "      <td>false</td>\n",
       "      <td>4.07</td>\n",
       "      <td>Audiobook</td>\n",
       "      <td>Grand Central Publishing</td>\n",
       "      <td>13</td>\n",
       "      <td>11</td>\n",
       "      <td>...</td>\n",
       "      <td>250</td>\n",
       "      <td>24152432</td>\n",
       "      <td>White Fire (Pendergast, #13)</td>\n",
       "      <td>White Fire (Pendergast, #13)</td>\n",
       "      <td>12577</td>\n",
       "      <td>Author</td>\n",
       "      <td>11091</td>\n",
       "      <td>Narrator</td>\n",
       "      <td>NaN</td>\n",
       "      <td>NaN</td>\n",
       "    </tr>\n",
       "  </tbody>\n",
       "</table>\n",
       "<p>10 rows × 23 columns</p>\n",
       "</div>"
      ],
      "text/plain": [
       "    text_reviews_count   series country_code language_code is_ebook  \\\n",
       "0                   15   169353           US           NaN    false   \n",
       "1                   60  1052227           US           eng     true   \n",
       "2                   23   953679           US           eng     true   \n",
       "3                    8   408775           US           NaN    false   \n",
       "5                    3   199039           US           eng    false   \n",
       "6                    5      NaN           US         en-GB     true   \n",
       "7                    8   326237           US           NaN    false   \n",
       "8                    6      NaN           US           eng    false   \n",
       "9                    2   199041           US           eng    false   \n",
       "10                  46   510553           US           eng    false   \n",
       "\n",
       "    average_rating     format                 publisher num_pages  \\\n",
       "0             3.93  Hardcover       Simon & Schuster UK       400   \n",
       "1             4.33      Ebook                       NaN       318   \n",
       "2             3.49      Ebook   Amazon Digital Services       NaN   \n",
       "3             3.30  Hardcover               Ulverscroft       NaN   \n",
       "5             3.96  Audiobook               HarperAudio       NaN   \n",
       "6             3.80      Ebook                       NaN       NaN   \n",
       "7             3.61  Paperback                     Orion       320   \n",
       "8             4.14  Paperback                 280 Steps       228   \n",
       "9             3.93  Audiobook               HarperAudio       NaN   \n",
       "10            4.07  Audiobook  Grand Central Publishing        13   \n",
       "\n",
       "   publication_month  ... ratings_count   work_id  \\\n",
       "0                  4  ...           186   6243149   \n",
       "1                NaN  ...           269  54143148   \n",
       "2                NaN  ...           192  49305010   \n",
       "3                 12  ...            52   1903897   \n",
       "5                  3  ...             5   2288775   \n",
       "6                NaN  ...             8  44866515   \n",
       "7                  8  ...            58   2831381   \n",
       "8                 11  ...            18  42251489   \n",
       "9                  3  ...             5   6490729   \n",
       "10                11  ...           250  24152432   \n",
       "\n",
       "                                                title  \\\n",
       "0           Crowner Royal (Crowner John Mystery, #13)   \n",
       "1             The House of Memory (Pluto's Snitch #2)   \n",
       "2   The Slaughtered Virgin of Zenopolis (Inspector...   \n",
       "3             Dead in the Morning (Patrick Grant, #1)   \n",
       "5                               A Murder is Announced   \n",
       "6                                  Dark Flames Rising   \n",
       "7                     Wycliffe and the Cycle of Death   \n",
       "8                          The Cost of Doing Business   \n",
       "9                                4:50 From Paddington   \n",
       "10                       White Fire (Pendergast, #13)   \n",
       "\n",
       "                                 title_without_series  1st_au_id 1st_au_role  \\\n",
       "0           Crowner Royal (Crowner John Mystery, #13)      37778      Author   \n",
       "1             The House of Memory (Pluto's Snitch #2)     242185      Author   \n",
       "2   The Slaughtered Virgin of Zenopolis (Inspector...   15104629      Author   \n",
       "3             Dead in the Morning (Patrick Grant, #1)     190988      Author   \n",
       "5                               A Murder is Announced     123715      Author   \n",
       "6                                  Dark Flames Rising   13658169      Author   \n",
       "7                     Wycliffe and the Cycle of Death    1533165      Author   \n",
       "8                          The Cost of Doing Business    4577517      Author   \n",
       "9                                4:50 From Paddington     123715      Author   \n",
       "10                       White Fire (Pendergast, #13)      12577      Author   \n",
       "\n",
       "   2nd_au_id  2nd_au_role 3rd_au_id 3rd_au_role  \n",
       "0        NaN          NaN       NaN         NaN  \n",
       "1        NaN          NaN       NaN         NaN  \n",
       "2   14425713  Contributor       NaN         NaN  \n",
       "3        NaN          NaN       NaN         NaN  \n",
       "5     552417     Narrator       NaN         NaN  \n",
       "6        NaN          NaN       NaN         NaN  \n",
       "7        NaN          NaN       NaN         NaN  \n",
       "8        NaN          NaN       NaN         NaN  \n",
       "9     552417     Narrator       NaN         NaN  \n",
       "10     11091     Narrator       NaN         NaN  \n",
       "\n",
       "[10 rows x 23 columns]"
      ]
     },
     "execution_count": 592,
     "metadata": {},
     "output_type": "execute_result"
    }
   ],
   "source": [
    "df.head(10)"
   ]
  },
  {
   "cell_type": "markdown",
   "metadata": {},
   "source": [
    "## Main data wrangling complete. "
   ]
  },
  {
   "cell_type": "code",
   "execution_count": 597,
   "metadata": {},
   "outputs": [],
   "source": [
    "df.to_pickle('./Books_wrangled.pkl')"
   ]
  },
  {
   "cell_type": "markdown",
   "metadata": {},
   "source": [
    "Load author avg rating, ratings cont, and review count to join later on. "
   ]
  },
  {
   "cell_type": "code",
   "execution_count": 600,
   "metadata": {},
   "outputs": [],
   "source": [
    "df_authors = pd.read_json('goodreads_book_authors.json')"
   ]
  },
  {
   "cell_type": "code",
   "execution_count": 601,
   "metadata": {},
   "outputs": [
    {
     "data": {
      "text/html": [
       "<div>\n",
       "<style scoped>\n",
       "    .dataframe tbody tr th:only-of-type {\n",
       "        vertical-align: middle;\n",
       "    }\n",
       "\n",
       "    .dataframe tbody tr th {\n",
       "        vertical-align: top;\n",
       "    }\n",
       "\n",
       "    .dataframe thead th {\n",
       "        text-align: right;\n",
       "    }\n",
       "</style>\n",
       "<table border=\"1\" class=\"dataframe\">\n",
       "  <thead>\n",
       "    <tr style=\"text-align: right;\">\n",
       "      <th></th>\n",
       "      <th>average_rating</th>\n",
       "      <th>author_id</th>\n",
       "      <th>text_reviews_count</th>\n",
       "      <th>name</th>\n",
       "      <th>ratings_count</th>\n",
       "    </tr>\n",
       "  </thead>\n",
       "  <tbody>\n",
       "    <tr>\n",
       "      <th>0</th>\n",
       "      <td>3.98</td>\n",
       "      <td>604031</td>\n",
       "      <td>7</td>\n",
       "      <td>Ronald J. Fields</td>\n",
       "      <td>49</td>\n",
       "    </tr>\n",
       "    <tr>\n",
       "      <th>1</th>\n",
       "      <td>4.08</td>\n",
       "      <td>626222</td>\n",
       "      <td>28716</td>\n",
       "      <td>Anita Diamant</td>\n",
       "      <td>546796</td>\n",
       "    </tr>\n",
       "    <tr>\n",
       "      <th>2</th>\n",
       "      <td>3.92</td>\n",
       "      <td>10333</td>\n",
       "      <td>5075</td>\n",
       "      <td>Barbara Hambly</td>\n",
       "      <td>122118</td>\n",
       "    </tr>\n",
       "    <tr>\n",
       "      <th>3</th>\n",
       "      <td>3.68</td>\n",
       "      <td>9212</td>\n",
       "      <td>36262</td>\n",
       "      <td>Jennifer Weiner</td>\n",
       "      <td>888522</td>\n",
       "    </tr>\n",
       "    <tr>\n",
       "      <th>4</th>\n",
       "      <td>3.82</td>\n",
       "      <td>149918</td>\n",
       "      <td>96</td>\n",
       "      <td>Nigel Pennick</td>\n",
       "      <td>1740</td>\n",
       "    </tr>\n",
       "  </tbody>\n",
       "</table>\n",
       "</div>"
      ],
      "text/plain": [
       "   average_rating  author_id  text_reviews_count              name  \\\n",
       "0            3.98     604031                   7  Ronald J. Fields   \n",
       "1            4.08     626222               28716     Anita Diamant   \n",
       "2            3.92      10333                5075    Barbara Hambly   \n",
       "3            3.68       9212               36262   Jennifer Weiner   \n",
       "4            3.82     149918                  96     Nigel Pennick   \n",
       "\n",
       "   ratings_count  \n",
       "0             49  \n",
       "1         546796  \n",
       "2         122118  \n",
       "3         888522  \n",
       "4           1740  "
      ]
     },
     "execution_count": 601,
     "metadata": {},
     "output_type": "execute_result"
    }
   ],
   "source": [
    "df_authors.head()"
   ]
  },
  {
   "cell_type": "code",
   "execution_count": 603,
   "metadata": {},
   "outputs": [],
   "source": [
    "df_authors.drop(columns=['name'], inplace=True)"
   ]
  },
  {
   "cell_type": "code",
   "execution_count": 604,
   "metadata": {},
   "outputs": [
    {
     "data": {
      "text/plain": [
       "average_rating        0\n",
       "author_id             0\n",
       "text_reviews_count    0\n",
       "ratings_count         0\n",
       "dtype: int64"
      ]
     },
     "execution_count": 604,
     "metadata": {},
     "output_type": "execute_result"
    }
   ],
   "source": [
    "df_authors.isnull().sum()"
   ]
  },
  {
   "cell_type": "code",
   "execution_count": 605,
   "metadata": {},
   "outputs": [],
   "source": [
    "df_authors.to_pickle('./Authors_wrangled.pkl')"
   ]
  },
  {
   "cell_type": "markdown",
   "metadata": {},
   "source": [
    "Loading series data"
   ]
  },
  {
   "cell_type": "code",
   "execution_count": 608,
   "metadata": {},
   "outputs": [],
   "source": [
    "df_series = pd.read_json('goodreads_book_series.json')"
   ]
  },
  {
   "cell_type": "code",
   "execution_count": 609,
   "metadata": {},
   "outputs": [
    {
     "data": {
      "text/html": [
       "<div>\n",
       "<style scoped>\n",
       "    .dataframe tbody tr th:only-of-type {\n",
       "        vertical-align: middle;\n",
       "    }\n",
       "\n",
       "    .dataframe tbody tr th {\n",
       "        vertical-align: top;\n",
       "    }\n",
       "\n",
       "    .dataframe thead th {\n",
       "        text-align: right;\n",
       "    }\n",
       "</style>\n",
       "<table border=\"1\" class=\"dataframe\">\n",
       "  <thead>\n",
       "    <tr style=\"text-align: right;\">\n",
       "      <th></th>\n",
       "      <th>numbered</th>\n",
       "      <th>note</th>\n",
       "      <th>description</th>\n",
       "      <th>title</th>\n",
       "      <th>series_works_count</th>\n",
       "      <th>series_id</th>\n",
       "      <th>primary_work_count</th>\n",
       "    </tr>\n",
       "  </thead>\n",
       "  <tbody>\n",
       "    <tr>\n",
       "      <th>0</th>\n",
       "      <td>true</td>\n",
       "      <td></td>\n",
       "      <td></td>\n",
       "      <td>Sun Wolf and Starhawk</td>\n",
       "      <td>9</td>\n",
       "      <td>189911</td>\n",
       "      <td>3</td>\n",
       "    </tr>\n",
       "    <tr>\n",
       "      <th>1</th>\n",
       "      <td>true</td>\n",
       "      <td></td>\n",
       "      <td>This series is also known as * Avalon : Jalina...</td>\n",
       "      <td>Avalon: Web of Magic</td>\n",
       "      <td>14</td>\n",
       "      <td>151854</td>\n",
       "      <td>12</td>\n",
       "    </tr>\n",
       "    <tr>\n",
       "      <th>2</th>\n",
       "      <td>true</td>\n",
       "      <td></td>\n",
       "      <td>Plot-wise, \"Crowner's Crusade\" is a prequel to...</td>\n",
       "      <td>Crowner John Mystery</td>\n",
       "      <td>15</td>\n",
       "      <td>169353</td>\n",
       "      <td>15</td>\n",
       "    </tr>\n",
       "    <tr>\n",
       "      <th>3</th>\n",
       "      <td>true</td>\n",
       "      <td></td>\n",
       "      <td></td>\n",
       "      <td>Pluto's Snitch</td>\n",
       "      <td>3</td>\n",
       "      <td>1052227</td>\n",
       "      <td>3</td>\n",
       "    </tr>\n",
       "    <tr>\n",
       "      <th>4</th>\n",
       "      <td>false</td>\n",
       "      <td></td>\n",
       "      <td></td>\n",
       "      <td>The Way, With The Enchanted Neighborhood</td>\n",
       "      <td>3</td>\n",
       "      <td>1070125</td>\n",
       "      <td>3</td>\n",
       "    </tr>\n",
       "  </tbody>\n",
       "</table>\n",
       "</div>"
      ],
      "text/plain": [
       "  numbered note                                        description  \\\n",
       "0     true                                                           \n",
       "1     true       This series is also known as * Avalon : Jalina...   \n",
       "2     true       Plot-wise, \"Crowner's Crusade\" is a prequel to...   \n",
       "3     true                                                           \n",
       "4    false                                                           \n",
       "\n",
       "                                      title  series_works_count  series_id  \\\n",
       "0                     Sun Wolf and Starhawk                   9     189911   \n",
       "1                      Avalon: Web of Magic                  14     151854   \n",
       "2                      Crowner John Mystery                  15     169353   \n",
       "3                            Pluto's Snitch                   3    1052227   \n",
       "4  The Way, With The Enchanted Neighborhood                   3    1070125   \n",
       "\n",
       "   primary_work_count  \n",
       "0                   3  \n",
       "1                  12  \n",
       "2                  15  \n",
       "3                   3  \n",
       "4                   3  "
      ]
     },
     "execution_count": 609,
     "metadata": {},
     "output_type": "execute_result"
    }
   ],
   "source": [
    "df_series.head()"
   ]
  },
  {
   "cell_type": "code",
   "execution_count": 611,
   "metadata": {},
   "outputs": [],
   "source": [
    "df_series.drop(columns=['description', 'note','title'], inplace=True)"
   ]
  },
  {
   "cell_type": "code",
   "execution_count": 612,
   "metadata": {},
   "outputs": [
    {
     "data": {
      "text/plain": [
       "numbered              0\n",
       "series_works_count    0\n",
       "series_id             0\n",
       "primary_work_count    0\n",
       "dtype: int64"
      ]
     },
     "execution_count": 612,
     "metadata": {},
     "output_type": "execute_result"
    }
   ],
   "source": [
    "df_series.isnull().sum()"
   ]
  },
  {
   "cell_type": "code",
   "execution_count": 613,
   "metadata": {},
   "outputs": [],
   "source": [
    "df_series.to_pickle('./Series_wrangled.pkl')"
   ]
  },
  {
   "cell_type": "markdown",
   "metadata": {},
   "source": [
    "Loading works data (has best id in there if need to slim)"
   ]
  },
  {
   "cell_type": "code",
   "execution_count": 614,
   "metadata": {},
   "outputs": [],
   "source": [
    "df_works = pd.read_json('goodreads_book_works.json')"
   ]
  },
  {
   "cell_type": "code",
   "execution_count": 615,
   "metadata": {},
   "outputs": [
    {
     "data": {
      "text/html": [
       "<div>\n",
       "<style scoped>\n",
       "    .dataframe tbody tr th:only-of-type {\n",
       "        vertical-align: middle;\n",
       "    }\n",
       "\n",
       "    .dataframe tbody tr th {\n",
       "        vertical-align: top;\n",
       "    }\n",
       "\n",
       "    .dataframe thead th {\n",
       "        text-align: right;\n",
       "    }\n",
       "</style>\n",
       "<table border=\"1\" class=\"dataframe\">\n",
       "  <thead>\n",
       "    <tr style=\"text-align: right;\">\n",
       "      <th></th>\n",
       "      <th>books_count</th>\n",
       "      <th>reviews_count</th>\n",
       "      <th>original_publication_month</th>\n",
       "      <th>default_description_language_code</th>\n",
       "      <th>text_reviews_count</th>\n",
       "      <th>best_book_id</th>\n",
       "      <th>original_publication_year</th>\n",
       "      <th>original_title</th>\n",
       "      <th>rating_dist</th>\n",
       "      <th>default_chaptering_book_id</th>\n",
       "      <th>original_publication_day</th>\n",
       "      <th>original_language_id</th>\n",
       "      <th>ratings_count</th>\n",
       "      <th>media_type</th>\n",
       "      <th>ratings_sum</th>\n",
       "      <th>work_id</th>\n",
       "    </tr>\n",
       "  </thead>\n",
       "  <tbody>\n",
       "    <tr>\n",
       "      <th>0</th>\n",
       "      <td>1</td>\n",
       "      <td>6</td>\n",
       "      <td>8</td>\n",
       "      <td></td>\n",
       "      <td>1</td>\n",
       "      <td>5333265</td>\n",
       "      <td>1984</td>\n",
       "      <td>W. C. Fields: A Life on Film</td>\n",
       "      <td>5:1|4:1|3:1|2:0|1:0|total:3</td>\n",
       "      <td></td>\n",
       "      <td></td>\n",
       "      <td></td>\n",
       "      <td>3</td>\n",
       "      <td>book</td>\n",
       "      <td>12</td>\n",
       "      <td>5400751</td>\n",
       "    </tr>\n",
       "    <tr>\n",
       "      <th>1</th>\n",
       "      <td>22</td>\n",
       "      <td>10162</td>\n",
       "      <td></td>\n",
       "      <td></td>\n",
       "      <td>741</td>\n",
       "      <td>25717</td>\n",
       "      <td>2001</td>\n",
       "      <td>Good Harbor</td>\n",
       "      <td>5:517|4:1787|3:2763|2:966|1:196|total:6229</td>\n",
       "      <td></td>\n",
       "      <td></td>\n",
       "      <td></td>\n",
       "      <td>6229</td>\n",
       "      <td>book</td>\n",
       "      <td>20150</td>\n",
       "      <td>1323437</td>\n",
       "    </tr>\n",
       "    <tr>\n",
       "      <th>2</th>\n",
       "      <td>2</td>\n",
       "      <td>268</td>\n",
       "      <td></td>\n",
       "      <td></td>\n",
       "      <td>7</td>\n",
       "      <td>7327624</td>\n",
       "      <td>1987</td>\n",
       "      <td></td>\n",
       "      <td>5:49|4:58|3:26|2:5|1:3|total:141</td>\n",
       "      <td></td>\n",
       "      <td></td>\n",
       "      <td></td>\n",
       "      <td>141</td>\n",
       "      <td>book</td>\n",
       "      <td>568</td>\n",
       "      <td>8948723</td>\n",
       "    </tr>\n",
       "    <tr>\n",
       "      <th>3</th>\n",
       "      <td>38</td>\n",
       "      <td>89252</td>\n",
       "      <td>7</td>\n",
       "      <td></td>\n",
       "      <td>3504</td>\n",
       "      <td>6066819</td>\n",
       "      <td>2009</td>\n",
       "      <td>Best Friends Forever</td>\n",
       "      <td>5:9152|4:16855|3:19507|2:6210|1:1549|total:53273</td>\n",
       "      <td></td>\n",
       "      <td>14</td>\n",
       "      <td></td>\n",
       "      <td>53273</td>\n",
       "      <td>book</td>\n",
       "      <td>185670</td>\n",
       "      <td>6243154</td>\n",
       "    </tr>\n",
       "    <tr>\n",
       "      <th>4</th>\n",
       "      <td>2</td>\n",
       "      <td>49</td>\n",
       "      <td></td>\n",
       "      <td></td>\n",
       "      <td>5</td>\n",
       "      <td>287140</td>\n",
       "      <td>1990</td>\n",
       "      <td>Runic Astrology: Starcraft and Timekeeping in ...</td>\n",
       "      <td>5:6|4:1|3:3|2:3|1:2|total:15</td>\n",
       "      <td></td>\n",
       "      <td></td>\n",
       "      <td></td>\n",
       "      <td>15</td>\n",
       "      <td>book</td>\n",
       "      <td>51</td>\n",
       "      <td>278577</td>\n",
       "    </tr>\n",
       "  </tbody>\n",
       "</table>\n",
       "</div>"
      ],
      "text/plain": [
       "   books_count  reviews_count original_publication_month  \\\n",
       "0            1              6                          8   \n",
       "1           22          10162                              \n",
       "2            2            268                              \n",
       "3           38          89252                          7   \n",
       "4            2             49                              \n",
       "\n",
       "  default_description_language_code  text_reviews_count  best_book_id  \\\n",
       "0                                                     1       5333265   \n",
       "1                                                   741         25717   \n",
       "2                                                     7       7327624   \n",
       "3                                                  3504       6066819   \n",
       "4                                                     5        287140   \n",
       "\n",
       "  original_publication_year  \\\n",
       "0                      1984   \n",
       "1                      2001   \n",
       "2                      1987   \n",
       "3                      2009   \n",
       "4                      1990   \n",
       "\n",
       "                                      original_title  \\\n",
       "0                       W. C. Fields: A Life on Film   \n",
       "1                                        Good Harbor   \n",
       "2                                                      \n",
       "3                               Best Friends Forever   \n",
       "4  Runic Astrology: Starcraft and Timekeeping in ...   \n",
       "\n",
       "                                        rating_dist  \\\n",
       "0                       5:1|4:1|3:1|2:0|1:0|total:3   \n",
       "1        5:517|4:1787|3:2763|2:966|1:196|total:6229   \n",
       "2                  5:49|4:58|3:26|2:5|1:3|total:141   \n",
       "3  5:9152|4:16855|3:19507|2:6210|1:1549|total:53273   \n",
       "4                      5:6|4:1|3:3|2:3|1:2|total:15   \n",
       "\n",
       "  default_chaptering_book_id original_publication_day original_language_id  \\\n",
       "0                                                                            \n",
       "1                                                                            \n",
       "2                                                                            \n",
       "3                                                  14                        \n",
       "4                                                                            \n",
       "\n",
       "   ratings_count media_type  ratings_sum  work_id  \n",
       "0              3       book           12  5400751  \n",
       "1           6229       book        20150  1323437  \n",
       "2            141       book          568  8948723  \n",
       "3          53273       book       185670  6243154  \n",
       "4             15       book           51   278577  "
      ]
     },
     "execution_count": 615,
     "metadata": {},
     "output_type": "execute_result"
    }
   ],
   "source": [
    "df_works.head()"
   ]
  },
  {
   "cell_type": "code",
   "execution_count": 617,
   "metadata": {},
   "outputs": [],
   "source": [
    "df_works.drop(columns=['default_description_language_code','default_chaptering_book_id','original_publication_day','original_language_id'],inplace=True)"
   ]
  },
  {
   "cell_type": "code",
   "execution_count": 618,
   "metadata": {},
   "outputs": [
    {
     "data": {
      "text/plain": [
       "books_count                   0\n",
       "reviews_count                 0\n",
       "original_publication_month    0\n",
       "text_reviews_count            0\n",
       "best_book_id                  0\n",
       "original_publication_year     0\n",
       "original_title                0\n",
       "rating_dist                   0\n",
       "ratings_count                 0\n",
       "media_type                    0\n",
       "ratings_sum                   0\n",
       "work_id                       0\n",
       "dtype: int64"
      ]
     },
     "execution_count": 618,
     "metadata": {},
     "output_type": "execute_result"
    }
   ],
   "source": [
    "#This is deceiving...there are blanks\n",
    "df_works.isnull().sum()"
   ]
  },
  {
   "cell_type": "code",
   "execution_count": 619,
   "metadata": {},
   "outputs": [],
   "source": [
    "df_works.to_pickle('./Works_wrangled.pkl')"
   ]
  },
  {
   "cell_type": "markdown",
   "metadata": {},
   "source": [
    "Looking at reviewer data"
   ]
  },
  {
   "cell_type": "code",
   "execution_count": 4,
   "metadata": {},
   "outputs": [],
   "source": [
    "df_revs = pd.read_json('goodreads_reviews_mystery_thriller_crime.json')"
   ]
  },
  {
   "cell_type": "code",
   "execution_count": 5,
   "metadata": {},
   "outputs": [
    {
     "data": {
      "text/html": [
       "<div>\n",
       "<style scoped>\n",
       "    .dataframe tbody tr th:only-of-type {\n",
       "        vertical-align: middle;\n",
       "    }\n",
       "\n",
       "    .dataframe tbody tr th {\n",
       "        vertical-align: top;\n",
       "    }\n",
       "\n",
       "    .dataframe thead th {\n",
       "        text-align: right;\n",
       "    }\n",
       "</style>\n",
       "<table border=\"1\" class=\"dataframe\">\n",
       "  <thead>\n",
       "    <tr style=\"text-align: right;\">\n",
       "      <th></th>\n",
       "      <th>user_id</th>\n",
       "      <th>book_id</th>\n",
       "      <th>review_id</th>\n",
       "      <th>rating</th>\n",
       "      <th>review_text</th>\n",
       "      <th>date_added</th>\n",
       "      <th>date_updated</th>\n",
       "      <th>read_at</th>\n",
       "      <th>started_at</th>\n",
       "      <th>n_votes</th>\n",
       "      <th>n_comments</th>\n",
       "    </tr>\n",
       "  </thead>\n",
       "  <tbody>\n",
       "    <tr>\n",
       "      <th>0</th>\n",
       "      <td>8842281e1d1347389f2ab93d60773d4d</td>\n",
       "      <td>6392944</td>\n",
       "      <td>5e212a62bced17b4dbe41150e5bb9037</td>\n",
       "      <td>3</td>\n",
       "      <td>I haven't read a fun mystery book in a while a...</td>\n",
       "      <td>Mon Jul 24 02:48:17 -0700 2017</td>\n",
       "      <td>Sun Jul 30 09:28:03 -0700 2017</td>\n",
       "      <td>Tue Jul 25 00:00:00 -0700 2017</td>\n",
       "      <td>Mon Jul 24 00:00:00 -0700 2017</td>\n",
       "      <td>6</td>\n",
       "      <td>0</td>\n",
       "    </tr>\n",
       "    <tr>\n",
       "      <th>1</th>\n",
       "      <td>8842281e1d1347389f2ab93d60773d4d</td>\n",
       "      <td>28684704</td>\n",
       "      <td>2ede853b14dc4583f96cf5d120af636f</td>\n",
       "      <td>3</td>\n",
       "      <td>A fun, fast paced science fiction thriller. I ...</td>\n",
       "      <td>Tue Nov 15 11:29:22 -0800 2016</td>\n",
       "      <td>Mon Mar 20 23:40:27 -0700 2017</td>\n",
       "      <td>Sat Mar 18 23:22:42 -0700 2017</td>\n",
       "      <td>Fri Mar 17 23:45:40 -0700 2017</td>\n",
       "      <td>22</td>\n",
       "      <td>0</td>\n",
       "    </tr>\n",
       "    <tr>\n",
       "      <th>2</th>\n",
       "      <td>8842281e1d1347389f2ab93d60773d4d</td>\n",
       "      <td>32283133</td>\n",
       "      <td>8e4d61801907e591018bdc3442a9cf2b</td>\n",
       "      <td>0</td>\n",
       "      <td>http://www.telegraph.co.uk/culture/10...</td>\n",
       "      <td>Tue Nov 01 11:09:18 -0700 2016</td>\n",
       "      <td>Tue Nov 01 11:09:44 -0700 2016</td>\n",
       "      <td></td>\n",
       "      <td></td>\n",
       "      <td>9</td>\n",
       "      <td>0</td>\n",
       "    </tr>\n",
       "    <tr>\n",
       "      <th>3</th>\n",
       "      <td>8842281e1d1347389f2ab93d60773d4d</td>\n",
       "      <td>17860739</td>\n",
       "      <td>022bb6daffa49adc27f6b20b6ebeb37d</td>\n",
       "      <td>4</td>\n",
       "      <td>An amazing and unique creation: JJ Abrams and ...</td>\n",
       "      <td>Wed Mar 26 13:51:30 -0700 2014</td>\n",
       "      <td>Tue Sep 23 01:44:36 -0700 2014</td>\n",
       "      <td>Sun Sep 21 00:00:00 -0700 2014</td>\n",
       "      <td>Sat Jul 26 00:00:00 -0700 2014</td>\n",
       "      <td>7</td>\n",
       "      <td>0</td>\n",
       "    </tr>\n",
       "    <tr>\n",
       "      <th>4</th>\n",
       "      <td>8842281e1d1347389f2ab93d60773d4d</td>\n",
       "      <td>8694005</td>\n",
       "      <td>0e317947e1fd341f573192111bb2921d</td>\n",
       "      <td>3</td>\n",
       "      <td>The Name of the Rose is a thrilling Dan Brown-...</td>\n",
       "      <td>Wed Sep 08 01:22:27 -0700 2010</td>\n",
       "      <td>Wed Dec 14 12:30:43 -0800 2016</td>\n",
       "      <td>Mon Aug 10 00:00:00 -0700 2015</td>\n",
       "      <td>Mon Jul 20 00:00:00 -0700 2015</td>\n",
       "      <td>17</td>\n",
       "      <td>6</td>\n",
       "    </tr>\n",
       "  </tbody>\n",
       "</table>\n",
       "</div>"
      ],
      "text/plain": [
       "                            user_id   book_id  \\\n",
       "0  8842281e1d1347389f2ab93d60773d4d   6392944   \n",
       "1  8842281e1d1347389f2ab93d60773d4d  28684704   \n",
       "2  8842281e1d1347389f2ab93d60773d4d  32283133   \n",
       "3  8842281e1d1347389f2ab93d60773d4d  17860739   \n",
       "4  8842281e1d1347389f2ab93d60773d4d   8694005   \n",
       "\n",
       "                          review_id  rating  \\\n",
       "0  5e212a62bced17b4dbe41150e5bb9037       3   \n",
       "1  2ede853b14dc4583f96cf5d120af636f       3   \n",
       "2  8e4d61801907e591018bdc3442a9cf2b       0   \n",
       "3  022bb6daffa49adc27f6b20b6ebeb37d       4   \n",
       "4  0e317947e1fd341f573192111bb2921d       3   \n",
       "\n",
       "                                         review_text  \\\n",
       "0  I haven't read a fun mystery book in a while a...   \n",
       "1  A fun, fast paced science fiction thriller. I ...   \n",
       "2           http://www.telegraph.co.uk/culture/10...   \n",
       "3  An amazing and unique creation: JJ Abrams and ...   \n",
       "4  The Name of the Rose is a thrilling Dan Brown-...   \n",
       "\n",
       "                       date_added                    date_updated  \\\n",
       "0  Mon Jul 24 02:48:17 -0700 2017  Sun Jul 30 09:28:03 -0700 2017   \n",
       "1  Tue Nov 15 11:29:22 -0800 2016  Mon Mar 20 23:40:27 -0700 2017   \n",
       "2  Tue Nov 01 11:09:18 -0700 2016  Tue Nov 01 11:09:44 -0700 2016   \n",
       "3  Wed Mar 26 13:51:30 -0700 2014  Tue Sep 23 01:44:36 -0700 2014   \n",
       "4  Wed Sep 08 01:22:27 -0700 2010  Wed Dec 14 12:30:43 -0800 2016   \n",
       "\n",
       "                          read_at                      started_at  n_votes  \\\n",
       "0  Tue Jul 25 00:00:00 -0700 2017  Mon Jul 24 00:00:00 -0700 2017        6   \n",
       "1  Sat Mar 18 23:22:42 -0700 2017  Fri Mar 17 23:45:40 -0700 2017       22   \n",
       "2                                                                        9   \n",
       "3  Sun Sep 21 00:00:00 -0700 2014  Sat Jul 26 00:00:00 -0700 2014        7   \n",
       "4  Mon Aug 10 00:00:00 -0700 2015  Mon Jul 20 00:00:00 -0700 2015       17   \n",
       "\n",
       "   n_comments  \n",
       "0           0  \n",
       "1           0  \n",
       "2           0  \n",
       "3           0  \n",
       "4           6  "
      ]
     },
     "execution_count": 5,
     "metadata": {},
     "output_type": "execute_result"
    }
   ],
   "source": [
    "df_revs.head()"
   ]
  },
  {
   "cell_type": "code",
   "execution_count": 6,
   "metadata": {},
   "outputs": [
    {
     "name": "stdout",
     "output_type": "stream",
     "text": [
      "<class 'pandas.core.frame.DataFrame'>\n",
      "RangeIndex: 1849236 entries, 0 to 1849235\n",
      "Data columns (total 11 columns):\n",
      " #   Column        Dtype \n",
      "---  ------        ----- \n",
      " 0   user_id       object\n",
      " 1   book_id       int64 \n",
      " 2   review_id     object\n",
      " 3   rating        int64 \n",
      " 4   review_text   object\n",
      " 5   date_added    object\n",
      " 6   date_updated  object\n",
      " 7   read_at       object\n",
      " 8   started_at    object\n",
      " 9   n_votes       int64 \n",
      " 10  n_comments    int64 \n",
      "dtypes: int64(4), object(7)\n",
      "memory usage: 155.2+ MB\n"
     ]
    }
   ],
   "source": [
    "df_revs.info()"
   ]
  },
  {
   "cell_type": "code",
   "execution_count": 7,
   "metadata": {},
   "outputs": [],
   "source": [
    "#df_revs['review_word_count'] = df_revs['review_text'].str.split().str.len()"
   ]
  },
  {
   "cell_type": "code",
   "execution_count": 9,
   "metadata": {},
   "outputs": [],
   "source": [
    "df= pd.read_pickle('./Books_wrangled.pkl')"
   ]
  },
  {
   "cell_type": "code",
   "execution_count": 16,
   "metadata": {},
   "outputs": [
    {
     "data": {
      "text/plain": [
       "182663"
      ]
     },
     "execution_count": 16,
     "metadata": {},
     "output_type": "execute_result"
    }
   ],
   "source": [
    "df.book_id.nunique()"
   ]
  },
  {
   "cell_type": "code",
   "execution_count": 10,
   "metadata": {},
   "outputs": [],
   "source": [
    "lt = df.book_id.unique()"
   ]
  },
  {
   "cell_type": "code",
   "execution_count": 11,
   "metadata": {},
   "outputs": [
    {
     "data": {
      "text/plain": [
       "array([ 6066814, 33394837, 29074697, ..., 25727303, 23252156, 26168430])"
      ]
     },
     "execution_count": 11,
     "metadata": {},
     "output_type": "execute_result"
    }
   ],
   "source": [
    "lt"
   ]
  },
  {
   "cell_type": "code",
   "execution_count": 12,
   "metadata": {},
   "outputs": [],
   "source": [
    "df_revs_slim = df_revs[df_revs['book_id'].isin(lt)]"
   ]
  },
  {
   "cell_type": "code",
   "execution_count": 13,
   "metadata": {},
   "outputs": [
    {
     "name": "stdout",
     "output_type": "stream",
     "text": [
      "<class 'pandas.core.frame.DataFrame'>\n",
      "Int64Index: 1742885 entries, 0 to 1849235\n",
      "Data columns (total 11 columns):\n",
      " #   Column        Dtype \n",
      "---  ------        ----- \n",
      " 0   user_id       object\n",
      " 1   book_id       int64 \n",
      " 2   review_id     object\n",
      " 3   rating        int64 \n",
      " 4   review_text   object\n",
      " 5   date_added    object\n",
      " 6   date_updated  object\n",
      " 7   read_at       object\n",
      " 8   started_at    object\n",
      " 9   n_votes       int64 \n",
      " 10  n_comments    int64 \n",
      "dtypes: int64(4), object(7)\n",
      "memory usage: 159.6+ MB\n"
     ]
    }
   ],
   "source": [
    "df_revs_slim.info()"
   ]
  },
  {
   "cell_type": "code",
   "execution_count": 15,
   "metadata": {},
   "outputs": [
    {
     "data": {
      "text/plain": [
       "182491"
      ]
     },
     "execution_count": 15,
     "metadata": {},
     "output_type": "execute_result"
    }
   ],
   "source": [
    "df_revs_slim.book_id.nunique()"
   ]
  },
  {
   "cell_type": "code",
   "execution_count": null,
   "metadata": {},
   "outputs": [],
   "source": [
    "#df_revs_slim['review_word_count'] = df_revs_slim['review_text'].str.split().str.len()"
   ]
  },
  {
   "cell_type": "code",
   "execution_count": 33,
   "metadata": {},
   "outputs": [],
   "source": [
    "n=20000\n",
    "list_df_rs = [df_revs_slim[i:i+n] for i in range(0,df_revs_slim.shape[0],n)]"
   ]
  },
  {
   "cell_type": "code",
   "execution_count": 34,
   "metadata": {},
   "outputs": [
    {
     "data": {
      "text/plain": [
       "88"
      ]
     },
     "execution_count": 34,
     "metadata": {},
     "output_type": "execute_result"
    }
   ],
   "source": [
    "len(list_df_rs)"
   ]
  },
  {
   "cell_type": "code",
   "execution_count": 38,
   "metadata": {},
   "outputs": [
    {
     "name": "stderr",
     "output_type": "stream",
     "text": [
      "<ipython-input-38-416ca43bfea7>:2: SettingWithCopyWarning: \n",
      "A value is trying to be set on a copy of a slice from a DataFrame.\n",
      "Try using .loc[row_indexer,col_indexer] = value instead\n",
      "\n",
      "See the caveats in the documentation: https://pandas.pydata.org/pandas-docs/stable/user_guide/indexing.html#returning-a-view-versus-a-copy\n",
      "  list_df_rs[i]['wc'] = list_df_rs[i]['review_text'].str.split().str.len()\n"
     ]
    }
   ],
   "source": [
    "for i in range(88):\n",
    "    list_df_rs[i]['wc'] = list_df_rs[i]['review_text'].str.split().str.len()"
   ]
  },
  {
   "cell_type": "code",
   "execution_count": 41,
   "metadata": {},
   "outputs": [
    {
     "data": {
      "text/html": [
       "<div>\n",
       "<style scoped>\n",
       "    .dataframe tbody tr th:only-of-type {\n",
       "        vertical-align: middle;\n",
       "    }\n",
       "\n",
       "    .dataframe tbody tr th {\n",
       "        vertical-align: top;\n",
       "    }\n",
       "\n",
       "    .dataframe thead th {\n",
       "        text-align: right;\n",
       "    }\n",
       "</style>\n",
       "<table border=\"1\" class=\"dataframe\">\n",
       "  <thead>\n",
       "    <tr style=\"text-align: right;\">\n",
       "      <th></th>\n",
       "      <th>user_id</th>\n",
       "      <th>book_id</th>\n",
       "      <th>review_id</th>\n",
       "      <th>rating</th>\n",
       "      <th>review_text</th>\n",
       "      <th>date_added</th>\n",
       "      <th>date_updated</th>\n",
       "      <th>read_at</th>\n",
       "      <th>started_at</th>\n",
       "      <th>n_votes</th>\n",
       "      <th>n_comments</th>\n",
       "      <th>wc</th>\n",
       "    </tr>\n",
       "  </thead>\n",
       "  <tbody>\n",
       "    <tr>\n",
       "      <th>1846170</th>\n",
       "      <td>b19d27dfed190cfa2ccc7de96cb11423</td>\n",
       "      <td>148144</td>\n",
       "      <td>202e6dae93ba3abda3e0a38d770343de</td>\n",
       "      <td>4</td>\n",
       "      <td>stephanie Plum is the greatest real crazy crea...</td>\n",
       "      <td>Tue Feb 19 16:40:55 -0800 2008</td>\n",
       "      <td>Tue Feb 19 16:44:53 -0800 2008</td>\n",
       "      <td>Thu Sep 09 00:00:00 -0700 2004</td>\n",
       "      <td></td>\n",
       "      <td>0</td>\n",
       "      <td>1</td>\n",
       "      <td>78</td>\n",
       "    </tr>\n",
       "    <tr>\n",
       "      <th>1846171</th>\n",
       "      <td>b19d27dfed190cfa2ccc7de96cb11423</td>\n",
       "      <td>136636</td>\n",
       "      <td>c2ccb4990f0dc772679202c76f896522</td>\n",
       "      <td>3</td>\n",
       "      <td>This is a archaeological expedition with hidde...</td>\n",
       "      <td>Tue Feb 19 16:19:33 -0800 2008</td>\n",
       "      <td>Tue Feb 19 16:27:12 -0800 2008</td>\n",
       "      <td>Sun Feb 17 00:00:00 -0800 2008</td>\n",
       "      <td></td>\n",
       "      <td>0</td>\n",
       "      <td>0</td>\n",
       "      <td>58</td>\n",
       "    </tr>\n",
       "    <tr>\n",
       "      <th>1846172</th>\n",
       "      <td>b19d27dfed190cfa2ccc7de96cb11423</td>\n",
       "      <td>39033</td>\n",
       "      <td>d9ab2cf56470b207c606e083b40b281c</td>\n",
       "      <td>4</td>\n",
       "      <td>The FBI agent in the story is better than Jame...</td>\n",
       "      <td>Sat Feb 09 05:21:53 -0800 2008</td>\n",
       "      <td>Sat Feb 09 05:28:53 -0800 2008</td>\n",
       "      <td>Mon Jan 07 00:00:00 -0800 2008</td>\n",
       "      <td></td>\n",
       "      <td>0</td>\n",
       "      <td>0</td>\n",
       "      <td>71</td>\n",
       "    </tr>\n",
       "    <tr>\n",
       "      <th>1846173</th>\n",
       "      <td>b19d27dfed190cfa2ccc7de96cb11423</td>\n",
       "      <td>993736</td>\n",
       "      <td>5bcace415277a92a1f7190d1cd1d8b3b</td>\n",
       "      <td>5</td>\n",
       "      <td>This is my favorite book of all times. I would...</td>\n",
       "      <td>Sat Feb 09 05:16:35 -0800 2008</td>\n",
       "      <td>Mon Jul 05 08:50:17 -0700 2010</td>\n",
       "      <td>Sun Sep 16 00:00:00 -0700 2001</td>\n",
       "      <td></td>\n",
       "      <td>0</td>\n",
       "      <td>0</td>\n",
       "      <td>53</td>\n",
       "    </tr>\n",
       "    <tr>\n",
       "      <th>1846174</th>\n",
       "      <td>b19d27dfed190cfa2ccc7de96cb11423</td>\n",
       "      <td>968</td>\n",
       "      <td>02629d67d65200638b7d662a4e658dab</td>\n",
       "      <td>0</td>\n",
       "      <td>The way Dan Brown wrote this story was excitin...</td>\n",
       "      <td>Sat Feb 09 05:11:23 -0800 2008</td>\n",
       "      <td>Sat Feb 09 05:16:02 -0800 2008</td>\n",
       "      <td>Wed Aug 10 00:00:00 -0700 2005</td>\n",
       "      <td></td>\n",
       "      <td>0</td>\n",
       "      <td>0</td>\n",
       "      <td>53</td>\n",
       "    </tr>\n",
       "    <tr>\n",
       "      <th>...</th>\n",
       "      <td>...</td>\n",
       "      <td>...</td>\n",
       "      <td>...</td>\n",
       "      <td>...</td>\n",
       "      <td>...</td>\n",
       "      <td>...</td>\n",
       "      <td>...</td>\n",
       "      <td>...</td>\n",
       "      <td>...</td>\n",
       "      <td>...</td>\n",
       "      <td>...</td>\n",
       "      <td>...</td>\n",
       "    </tr>\n",
       "    <tr>\n",
       "      <th>1849231</th>\n",
       "      <td>c5ae39ab55f5031b440d93f3f09ee736</td>\n",
       "      <td>13263377</td>\n",
       "      <td>97569c40e28cac15ad5c69a5355d4da3</td>\n",
       "      <td>5</td>\n",
       "      <td>Double Exposure by Susan Sleeman is a well-tho...</td>\n",
       "      <td>Fri Jun 28 11:44:01 -0700 2013</td>\n",
       "      <td>Fri Jun 28 11:44:41 -0700 2013</td>\n",
       "      <td></td>\n",
       "      <td></td>\n",
       "      <td>0</td>\n",
       "      <td>0</td>\n",
       "      <td>130</td>\n",
       "    </tr>\n",
       "    <tr>\n",
       "      <th>1849232</th>\n",
       "      <td>c5ae39ab55f5031b440d93f3f09ee736</td>\n",
       "      <td>15999321</td>\n",
       "      <td>3827b3889af45bb11f0d8bc1b71b4f3e</td>\n",
       "      <td>5</td>\n",
       "      <td>Are you a suspense fan? Do you crave action an...</td>\n",
       "      <td>Fri Jun 28 11:42:43 -0700 2013</td>\n",
       "      <td>Fri Jun 28 11:42:53 -0700 2013</td>\n",
       "      <td></td>\n",
       "      <td></td>\n",
       "      <td>0</td>\n",
       "      <td>0</td>\n",
       "      <td>109</td>\n",
       "    </tr>\n",
       "    <tr>\n",
       "      <th>1849233</th>\n",
       "      <td>c5ae39ab55f5031b440d93f3f09ee736</td>\n",
       "      <td>13261268</td>\n",
       "      <td>494baf5b0cfd4f8bf7d6f405ec6895f8</td>\n",
       "      <td>5</td>\n",
       "      <td>Broken Trust by Sharon Dunn is a romantic susp...</td>\n",
       "      <td>Fri Jun 28 09:07:53 -0700 2013</td>\n",
       "      <td>Fri Jun 28 09:08:21 -0700 2013</td>\n",
       "      <td></td>\n",
       "      <td></td>\n",
       "      <td>0</td>\n",
       "      <td>0</td>\n",
       "      <td>285</td>\n",
       "    </tr>\n",
       "    <tr>\n",
       "      <th>1849234</th>\n",
       "      <td>c5ae39ab55f5031b440d93f3f09ee736</td>\n",
       "      <td>15948118</td>\n",
       "      <td>4c0ab59da1339bde2a94cf36148a46d9</td>\n",
       "      <td>0</td>\n",
       "      <td>Scrambled was a good title for the book as scr...</td>\n",
       "      <td>Fri Sep 14 19:57:37 -0700 2012</td>\n",
       "      <td>Sat Jan 17 08:54:31 -0800 2015</td>\n",
       "      <td></td>\n",
       "      <td></td>\n",
       "      <td>0</td>\n",
       "      <td>0</td>\n",
       "      <td>174</td>\n",
       "    </tr>\n",
       "    <tr>\n",
       "      <th>1849235</th>\n",
       "      <td>8ba77e3c745ebddccc6306fc3c6bb25e</td>\n",
       "      <td>17411706</td>\n",
       "      <td>5a6c09f228988f0b69e23f50f39575ed</td>\n",
       "      <td>4</td>\n",
       "      <td>I'm not a regular mystery reader, however, thi...</td>\n",
       "      <td>Wed Jul 03 05:09:04 -0700 2013</td>\n",
       "      <td>Wed Jul 03 05:11:43 -07002013</td>\n",
       "      <td></td>\n",
       "      <td></td>\n",
       "      <td>0</td>\n",
       "      <td>0</td>\n",
       "      <td>238</td>\n",
       "    </tr>\n",
       "  </tbody>\n",
       "</table>\n",
       "<p>2885 rows × 12 columns</p>\n",
       "</div>"
      ],
      "text/plain": [
       "                                  user_id   book_id  \\\n",
       "1846170  b19d27dfed190cfa2ccc7de96cb11423    148144   \n",
       "1846171  b19d27dfed190cfa2ccc7de96cb11423    136636   \n",
       "1846172  b19d27dfed190cfa2ccc7de96cb11423     39033   \n",
       "1846173  b19d27dfed190cfa2ccc7de96cb11423    993736   \n",
       "1846174  b19d27dfed190cfa2ccc7de96cb11423       968   \n",
       "...                                   ...       ...   \n",
       "1849231  c5ae39ab55f5031b440d93f3f09ee736  13263377   \n",
       "1849232  c5ae39ab55f5031b440d93f3f09ee736  15999321   \n",
       "1849233  c5ae39ab55f5031b440d93f3f09ee736  13261268   \n",
       "1849234  c5ae39ab55f5031b440d93f3f09ee736  15948118   \n",
       "1849235  8ba77e3c745ebddccc6306fc3c6bb25e  17411706   \n",
       "\n",
       "                                review_id  rating  \\\n",
       "1846170  202e6dae93ba3abda3e0a38d770343de       4   \n",
       "1846171  c2ccb4990f0dc772679202c76f896522       3   \n",
       "1846172  d9ab2cf56470b207c606e083b40b281c       4   \n",
       "1846173  5bcace415277a92a1f7190d1cd1d8b3b       5   \n",
       "1846174  02629d67d65200638b7d662a4e658dab       0   \n",
       "...                                   ...     ...   \n",
       "1849231  97569c40e28cac15ad5c69a5355d4da3       5   \n",
       "1849232  3827b3889af45bb11f0d8bc1b71b4f3e       5   \n",
       "1849233  494baf5b0cfd4f8bf7d6f405ec6895f8       5   \n",
       "1849234  4c0ab59da1339bde2a94cf36148a46d9       0   \n",
       "1849235  5a6c09f228988f0b69e23f50f39575ed       4   \n",
       "\n",
       "                                               review_text  \\\n",
       "1846170  stephanie Plum is the greatest real crazy crea...   \n",
       "1846171  This is a archaeological expedition with hidde...   \n",
       "1846172  The FBI agent in the story is better than Jame...   \n",
       "1846173  This is my favorite book of all times. I would...   \n",
       "1846174  The way Dan Brown wrote this story was excitin...   \n",
       "...                                                    ...   \n",
       "1849231  Double Exposure by Susan Sleeman is a well-tho...   \n",
       "1849232  Are you a suspense fan? Do you crave action an...   \n",
       "1849233  Broken Trust by Sharon Dunn is a romantic susp...   \n",
       "1849234  Scrambled was a good title for the book as scr...   \n",
       "1849235  I'm not a regular mystery reader, however, thi...   \n",
       "\n",
       "                             date_added                    date_updated  \\\n",
       "1846170  Tue Feb 19 16:40:55 -0800 2008  Tue Feb 19 16:44:53 -0800 2008   \n",
       "1846171  Tue Feb 19 16:19:33 -0800 2008  Tue Feb 19 16:27:12 -0800 2008   \n",
       "1846172  Sat Feb 09 05:21:53 -0800 2008  Sat Feb 09 05:28:53 -0800 2008   \n",
       "1846173  Sat Feb 09 05:16:35 -0800 2008  Mon Jul 05 08:50:17 -0700 2010   \n",
       "1846174  Sat Feb 09 05:11:23 -0800 2008  Sat Feb 09 05:16:02 -0800 2008   \n",
       "...                                 ...                             ...   \n",
       "1849231  Fri Jun 28 11:44:01 -0700 2013  Fri Jun 28 11:44:41 -0700 2013   \n",
       "1849232  Fri Jun 28 11:42:43 -0700 2013  Fri Jun 28 11:42:53 -0700 2013   \n",
       "1849233  Fri Jun 28 09:07:53 -0700 2013  Fri Jun 28 09:08:21 -0700 2013   \n",
       "1849234  Fri Sep 14 19:57:37 -0700 2012  Sat Jan 17 08:54:31 -0800 2015   \n",
       "1849235  Wed Jul 03 05:09:04 -0700 2013   Wed Jul 03 05:11:43 -07002013   \n",
       "\n",
       "                                read_at started_at  n_votes  n_comments   wc  \n",
       "1846170  Thu Sep 09 00:00:00 -0700 2004                   0           1   78  \n",
       "1846171  Sun Feb 17 00:00:00 -0800 2008                   0           0   58  \n",
       "1846172  Mon Jan 07 00:00:00 -0800 2008                   0           0   71  \n",
       "1846173  Sun Sep 16 00:00:00 -0700 2001                   0           0   53  \n",
       "1846174  Wed Aug 10 00:00:00 -0700 2005                   0           0   53  \n",
       "...                                 ...        ...      ...         ...  ...  \n",
       "1849231                                                   0           0  130  \n",
       "1849232                                                   0           0  109  \n",
       "1849233                                                   0           0  285  \n",
       "1849234                                                   0           0  174  \n",
       "1849235                                                   0           0  238  \n",
       "\n",
       "[2885 rows x 12 columns]"
      ]
     },
     "execution_count": 41,
     "metadata": {},
     "output_type": "execute_result"
    }
   ],
   "source": [
    "list_df_rs[87]"
   ]
  },
  {
   "cell_type": "code",
   "execution_count": 48,
   "metadata": {},
   "outputs": [],
   "source": [
    "new_df = pd.DataFrame()\n",
    "\n",
    "for i in range(88):\n",
    "    new_df = pd.concat([new_df,list_df_rs[i]])"
   ]
  },
  {
   "cell_type": "code",
   "execution_count": 49,
   "metadata": {
    "scrolled": true
   },
   "outputs": [
    {
     "data": {
      "text/html": [
       "<div>\n",
       "<style scoped>\n",
       "    .dataframe tbody tr th:only-of-type {\n",
       "        vertical-align: middle;\n",
       "    }\n",
       "\n",
       "    .dataframe tbody tr th {\n",
       "        vertical-align: top;\n",
       "    }\n",
       "\n",
       "    .dataframe thead th {\n",
       "        text-align: right;\n",
       "    }\n",
       "</style>\n",
       "<table border=\"1\" class=\"dataframe\">\n",
       "  <thead>\n",
       "    <tr style=\"text-align: right;\">\n",
       "      <th></th>\n",
       "      <th>user_id</th>\n",
       "      <th>book_id</th>\n",
       "      <th>review_id</th>\n",
       "      <th>rating</th>\n",
       "      <th>review_text</th>\n",
       "      <th>date_added</th>\n",
       "      <th>date_updated</th>\n",
       "      <th>read_at</th>\n",
       "      <th>started_at</th>\n",
       "      <th>n_votes</th>\n",
       "      <th>n_comments</th>\n",
       "      <th>wc</th>\n",
       "    </tr>\n",
       "  </thead>\n",
       "  <tbody>\n",
       "    <tr>\n",
       "      <th>0</th>\n",
       "      <td>8842281e1d1347389f2ab93d60773d4d</td>\n",
       "      <td>6392944</td>\n",
       "      <td>5e212a62bced17b4dbe41150e5bb9037</td>\n",
       "      <td>3</td>\n",
       "      <td>I haven't read a fun mystery book in a while a...</td>\n",
       "      <td>Mon Jul 24 02:48:17 -0700 2017</td>\n",
       "      <td>Sun Jul 30 09:28:03 -0700 2017</td>\n",
       "      <td>Tue Jul 25 00:00:00 -0700 2017</td>\n",
       "      <td>Mon Jul 24 00:00:00 -0700 2017</td>\n",
       "      <td>6</td>\n",
       "      <td>0</td>\n",
       "      <td>86</td>\n",
       "    </tr>\n",
       "    <tr>\n",
       "      <th>1</th>\n",
       "      <td>8842281e1d1347389f2ab93d60773d4d</td>\n",
       "      <td>28684704</td>\n",
       "      <td>2ede853b14dc4583f96cf5d120af636f</td>\n",
       "      <td>3</td>\n",
       "      <td>A fun, fast paced science fiction thriller. I ...</td>\n",
       "      <td>Tue Nov 15 11:29:22 -0800 2016</td>\n",
       "      <td>Mon Mar 20 23:40:27 -0700 2017</td>\n",
       "      <td>Sat Mar 18 23:22:42 -0700 2017</td>\n",
       "      <td>Fri Mar 17 23:45:40 -0700 2017</td>\n",
       "      <td>22</td>\n",
       "      <td>0</td>\n",
       "      <td>465</td>\n",
       "    </tr>\n",
       "    <tr>\n",
       "      <th>2</th>\n",
       "      <td>8842281e1d1347389f2ab93d60773d4d</td>\n",
       "      <td>32283133</td>\n",
       "      <td>8e4d61801907e591018bdc3442a9cf2b</td>\n",
       "      <td>0</td>\n",
       "      <td>http://www.telegraph.co.uk/culture/10...</td>\n",
       "      <td>Tue Nov 01 11:09:18 -0700 2016</td>\n",
       "      <td>Tue Nov 01 11:09:44 -0700 2016</td>\n",
       "      <td></td>\n",
       "      <td></td>\n",
       "      <td>9</td>\n",
       "      <td>0</td>\n",
       "      <td>1</td>\n",
       "    </tr>\n",
       "    <tr>\n",
       "      <th>3</th>\n",
       "      <td>8842281e1d1347389f2ab93d60773d4d</td>\n",
       "      <td>17860739</td>\n",
       "      <td>022bb6daffa49adc27f6b20b6ebeb37d</td>\n",
       "      <td>4</td>\n",
       "      <td>An amazing and unique creation: JJ Abrams and ...</td>\n",
       "      <td>Wed Mar 26 13:51:30 -0700 2014</td>\n",
       "      <td>Tue Sep 23 01:44:36 -0700 2014</td>\n",
       "      <td>Sun Sep 21 00:00:00 -0700 2014</td>\n",
       "      <td>Sat Jul 26 00:00:00 -0700 2014</td>\n",
       "      <td>7</td>\n",
       "      <td>0</td>\n",
       "      <td>483</td>\n",
       "    </tr>\n",
       "    <tr>\n",
       "      <th>4</th>\n",
       "      <td>8842281e1d1347389f2ab93d60773d4d</td>\n",
       "      <td>8694005</td>\n",
       "      <td>0e317947e1fd341f573192111bb2921d</td>\n",
       "      <td>3</td>\n",
       "      <td>The Name of the Rose is a thrilling Dan Brown-...</td>\n",
       "      <td>Wed Sep 08 01:22:27 -0700 2010</td>\n",
       "      <td>Wed Dec 14 12:30:43 -0800 2016</td>\n",
       "      <td>Mon Aug 10 00:00:00 -0700 2015</td>\n",
       "      <td>Mon Jul 20 00:00:00 -0700 2015</td>\n",
       "      <td>17</td>\n",
       "      <td>6</td>\n",
       "      <td>376</td>\n",
       "    </tr>\n",
       "    <tr>\n",
       "      <th>...</th>\n",
       "      <td>...</td>\n",
       "      <td>...</td>\n",
       "      <td>...</td>\n",
       "      <td>...</td>\n",
       "      <td>...</td>\n",
       "      <td>...</td>\n",
       "      <td>...</td>\n",
       "      <td>...</td>\n",
       "      <td>...</td>\n",
       "      <td>...</td>\n",
       "      <td>...</td>\n",
       "      <td>...</td>\n",
       "    </tr>\n",
       "    <tr>\n",
       "      <th>1849231</th>\n",
       "      <td>c5ae39ab55f5031b440d93f3f09ee736</td>\n",
       "      <td>13263377</td>\n",
       "      <td>97569c40e28cac15ad5c69a5355d4da3</td>\n",
       "      <td>5</td>\n",
       "      <td>Double Exposure by Susan Sleeman is a well-tho...</td>\n",
       "      <td>Fri Jun 28 11:44:01 -0700 2013</td>\n",
       "      <td>Fri Jun 28 11:44:41 -0700 2013</td>\n",
       "      <td></td>\n",
       "      <td></td>\n",
       "      <td>0</td>\n",
       "      <td>0</td>\n",
       "      <td>130</td>\n",
       "    </tr>\n",
       "    <tr>\n",
       "      <th>1849232</th>\n",
       "      <td>c5ae39ab55f5031b440d93f3f09ee736</td>\n",
       "      <td>15999321</td>\n",
       "      <td>3827b3889af45bb11f0d8bc1b71b4f3e</td>\n",
       "      <td>5</td>\n",
       "      <td>Are you a suspense fan? Do you crave action an...</td>\n",
       "      <td>Fri Jun 28 11:42:43 -0700 2013</td>\n",
       "      <td>Fri Jun 28 11:42:53 -0700 2013</td>\n",
       "      <td></td>\n",
       "      <td></td>\n",
       "      <td>0</td>\n",
       "      <td>0</td>\n",
       "      <td>109</td>\n",
       "    </tr>\n",
       "    <tr>\n",
       "      <th>1849233</th>\n",
       "      <td>c5ae39ab55f5031b440d93f3f09ee736</td>\n",
       "      <td>13261268</td>\n",
       "      <td>494baf5b0cfd4f8bf7d6f405ec6895f8</td>\n",
       "      <td>5</td>\n",
       "      <td>Broken Trust by Sharon Dunn is a romantic susp...</td>\n",
       "      <td>Fri Jun 28 09:07:53 -0700 2013</td>\n",
       "      <td>Fri Jun 28 09:08:21 -0700 2013</td>\n",
       "      <td></td>\n",
       "      <td></td>\n",
       "      <td>0</td>\n",
       "      <td>0</td>\n",
       "      <td>285</td>\n",
       "    </tr>\n",
       "    <tr>\n",
       "      <th>1849234</th>\n",
       "      <td>c5ae39ab55f5031b440d93f3f09ee736</td>\n",
       "      <td>15948118</td>\n",
       "      <td>4c0ab59da1339bde2a94cf36148a46d9</td>\n",
       "      <td>0</td>\n",
       "      <td>Scrambled was a good title for the book as scr...</td>\n",
       "      <td>Fri Sep 14 19:57:37 -0700 2012</td>\n",
       "      <td>Sat Jan 17 08:54:31 -0800 2015</td>\n",
       "      <td></td>\n",
       "      <td></td>\n",
       "      <td>0</td>\n",
       "      <td>0</td>\n",
       "      <td>174</td>\n",
       "    </tr>\n",
       "    <tr>\n",
       "      <th>1849235</th>\n",
       "      <td>8ba77e3c745ebddccc6306fc3c6bb25e</td>\n",
       "      <td>17411706</td>\n",
       "      <td>5a6c09f228988f0b69e23f50f39575ed</td>\n",
       "      <td>4</td>\n",
       "      <td>I'm not a regular mystery reader, however, thi...</td>\n",
       "      <td>Wed Jul 03 05:09:04 -0700 2013</td>\n",
       "      <td>Wed Jul 03 05:11:43 -07002013</td>\n",
       "      <td></td>\n",
       "      <td></td>\n",
       "      <td>0</td>\n",
       "      <td>0</td>\n",
       "      <td>238</td>\n",
       "    </tr>\n",
       "  </tbody>\n",
       "</table>\n",
       "<p>1742885 rows × 12 columns</p>\n",
       "</div>"
      ],
      "text/plain": [
       "                                  user_id   book_id  \\\n",
       "0        8842281e1d1347389f2ab93d60773d4d   6392944   \n",
       "1        8842281e1d1347389f2ab93d60773d4d  28684704   \n",
       "2        8842281e1d1347389f2ab93d60773d4d  32283133   \n",
       "3        8842281e1d1347389f2ab93d60773d4d  17860739   \n",
       "4        8842281e1d1347389f2ab93d60773d4d   8694005   \n",
       "...                                   ...       ...   \n",
       "1849231  c5ae39ab55f5031b440d93f3f09ee736  13263377   \n",
       "1849232  c5ae39ab55f5031b440d93f3f09ee736  15999321   \n",
       "1849233  c5ae39ab55f5031b440d93f3f09ee736  13261268   \n",
       "1849234  c5ae39ab55f5031b440d93f3f09ee736  15948118   \n",
       "1849235  8ba77e3c745ebddccc6306fc3c6bb25e  17411706   \n",
       "\n",
       "                                review_id  rating  \\\n",
       "0        5e212a62bced17b4dbe41150e5bb9037       3   \n",
       "1        2ede853b14dc4583f96cf5d120af636f       3   \n",
       "2        8e4d61801907e591018bdc3442a9cf2b       0   \n",
       "3        022bb6daffa49adc27f6b20b6ebeb37d       4   \n",
       "4        0e317947e1fd341f573192111bb2921d       3   \n",
       "...                                   ...     ...   \n",
       "1849231  97569c40e28cac15ad5c69a5355d4da3       5   \n",
       "1849232  3827b3889af45bb11f0d8bc1b71b4f3e       5   \n",
       "1849233  494baf5b0cfd4f8bf7d6f405ec6895f8       5   \n",
       "1849234  4c0ab59da1339bde2a94cf36148a46d9       0   \n",
       "1849235  5a6c09f228988f0b69e23f50f39575ed       4   \n",
       "\n",
       "                                               review_text  \\\n",
       "0        I haven't read a fun mystery book in a while a...   \n",
       "1        A fun, fast paced science fiction thriller. I ...   \n",
       "2                 http://www.telegraph.co.uk/culture/10...   \n",
       "3        An amazing and unique creation: JJ Abrams and ...   \n",
       "4        The Name of the Rose is a thrilling Dan Brown-...   \n",
       "...                                                    ...   \n",
       "1849231  Double Exposure by Susan Sleeman is a well-tho...   \n",
       "1849232  Are you a suspense fan? Do you crave action an...   \n",
       "1849233  Broken Trust by Sharon Dunn is a romantic susp...   \n",
       "1849234  Scrambled was a good title for the book as scr...   \n",
       "1849235  I'm not a regular mystery reader, however, thi...   \n",
       "\n",
       "                             date_added                    date_updated  \\\n",
       "0        Mon Jul 24 02:48:17 -0700 2017  Sun Jul 30 09:28:03 -0700 2017   \n",
       "1        Tue Nov 15 11:29:22 -0800 2016  Mon Mar 20 23:40:27 -0700 2017   \n",
       "2        Tue Nov 01 11:09:18 -0700 2016  Tue Nov 01 11:09:44 -0700 2016   \n",
       "3        Wed Mar 26 13:51:30 -0700 2014  Tue Sep 23 01:44:36 -0700 2014   \n",
       "4        Wed Sep 08 01:22:27 -0700 2010  Wed Dec 14 12:30:43 -0800 2016   \n",
       "...                                 ...                             ...   \n",
       "1849231  Fri Jun 28 11:44:01 -0700 2013  Fri Jun 28 11:44:41 -0700 2013   \n",
       "1849232  Fri Jun 28 11:42:43 -0700 2013  Fri Jun 28 11:42:53 -0700 2013   \n",
       "1849233  Fri Jun 28 09:07:53 -0700 2013  Fri Jun 28 09:08:21 -0700 2013   \n",
       "1849234  Fri Sep 14 19:57:37 -0700 2012  Sat Jan 17 08:54:31 -0800 2015   \n",
       "1849235  Wed Jul 03 05:09:04 -0700 2013   Wed Jul 03 05:11:43 -07002013   \n",
       "\n",
       "                                read_at                      started_at  \\\n",
       "0        Tue Jul 25 00:00:00 -0700 2017  Mon Jul 24 00:00:00 -0700 2017   \n",
       "1        Sat Mar 18 23:22:42 -0700 2017  Fri Mar 17 23:45:40 -0700 2017   \n",
       "2                                                                         \n",
       "3        Sun Sep 21 00:00:00 -0700 2014  Sat Jul 26 00:00:00 -0700 2014   \n",
       "4        Mon Aug 10 00:00:00 -0700 2015  Mon Jul 20 00:00:00 -0700 2015   \n",
       "...                                 ...                             ...   \n",
       "1849231                                                                   \n",
       "1849232                                                                   \n",
       "1849233                                                                   \n",
       "1849234                                                                   \n",
       "1849235                                                                   \n",
       "\n",
       "         n_votes  n_comments   wc  \n",
       "0              6           0   86  \n",
       "1             22           0  465  \n",
       "2              9           0    1  \n",
       "3              7           0  483  \n",
       "4             17           6  376  \n",
       "...          ...         ...  ...  \n",
       "1849231        0           0  130  \n",
       "1849232        0           0  109  \n",
       "1849233        0           0  285  \n",
       "1849234        0           0  174  \n",
       "1849235        0           0  238  \n",
       "\n",
       "[1742885 rows x 12 columns]"
      ]
     },
     "execution_count": 49,
     "metadata": {},
     "output_type": "execute_result"
    }
   ],
   "source": [
    "new_df"
   ]
  },
  {
   "cell_type": "code",
   "execution_count": 50,
   "metadata": {},
   "outputs": [
    {
     "name": "stdout",
     "output_type": "stream",
     "text": [
      "<class 'pandas.core.frame.DataFrame'>\n",
      "Int64Index: 1742885 entries, 0 to 1849235\n",
      "Data columns (total 12 columns):\n",
      " #   Column        Dtype \n",
      "---  ------        ----- \n",
      " 0   user_id       object\n",
      " 1   book_id       int64 \n",
      " 2   review_id     object\n",
      " 3   rating        int64 \n",
      " 4   review_text   object\n",
      " 5   date_added    object\n",
      " 6   date_updated  object\n",
      " 7   read_at       object\n",
      " 8   started_at    object\n",
      " 9   n_votes       int64 \n",
      " 10  n_comments    int64 \n",
      " 11  wc            int64 \n",
      "dtypes: int64(5), object(7)\n",
      "memory usage: 172.9+ MB\n"
     ]
    }
   ],
   "source": [
    "new_df.info()"
   ]
  },
  {
   "cell_type": "code",
   "execution_count": 51,
   "metadata": {},
   "outputs": [],
   "source": [
    "new_df.drop(columns=['review_text'], inplace=True)"
   ]
  },
  {
   "cell_type": "code",
   "execution_count": 52,
   "metadata": {},
   "outputs": [],
   "source": [
    "#new_df.to_pickle('Reviews_mostlyWrangled.pkl')"
   ]
  },
  {
   "cell_type": "code",
   "execution_count": 63,
   "metadata": {},
   "outputs": [
    {
     "data": {
      "text/plain": [
       "1694005    2013-08-18 08:13:04-07:00\n",
       "1694006    2013-06-23 15:39:18-07:00\n",
       "1694007    2012-06-29 05:55:06-07:00\n",
       "1694008    2017-08-25 19:28:37-07:00\n",
       "1694009    2017-08-01 17:07:51-07:00\n",
       "                     ...            \n",
       "1714635    2014-07-19 12:30:37-07:00\n",
       "1714636    2014-06-29 07:10:52-07:00\n",
       "1714637    2014-06-25 07:11:54-07:00\n",
       "1714638    2014-04-07 18:04:16-07:00\n",
       "1714639    2014-03-07 10:09:43-08:00\n",
       "Name: date_added, Length: 20000, dtype: object"
      ]
     },
     "execution_count": 63,
     "metadata": {},
     "output_type": "execute_result"
    }
   ],
   "source": [
    "pd.to_datetime(list_df_rs[80].date_added, infer_datetime_format=True, errors='coerce')"
   ]
  },
  {
   "cell_type": "code",
   "execution_count": 64,
   "metadata": {},
   "outputs": [
    {
     "name": "stderr",
     "output_type": "stream",
     "text": [
      "/Users/jensensj/opt/anaconda3/lib/python3.8/site-packages/pandas/core/generic.py:5159: SettingWithCopyWarning: \n",
      "A value is trying to be set on a copy of a slice from a DataFrame.\n",
      "Try using .loc[row_indexer,col_indexer] = value instead\n",
      "\n",
      "See the caveats in the documentation: https://pandas.pydata.org/pandas-docs/stable/user_guide/indexing.html#returning-a-view-versus-a-copy\n",
      "  self[name] = value\n"
     ]
    }
   ],
   "source": [
    "for i in range(88):\n",
    "    list_df_rs[i].date_added = pd.to_datetime(list_df_rs[i].date_added, infer_datetime_format=True, errors='coerce')"
   ]
  },
  {
   "cell_type": "code",
   "execution_count": 71,
   "metadata": {},
   "outputs": [
    {
     "data": {
      "text/html": [
       "<div>\n",
       "<style scoped>\n",
       "    .dataframe tbody tr th:only-of-type {\n",
       "        vertical-align: middle;\n",
       "    }\n",
       "\n",
       "    .dataframe tbody tr th {\n",
       "        vertical-align: top;\n",
       "    }\n",
       "\n",
       "    .dataframe thead th {\n",
       "        text-align: right;\n",
       "    }\n",
       "</style>\n",
       "<table border=\"1\" class=\"dataframe\">\n",
       "  <thead>\n",
       "    <tr style=\"text-align: right;\">\n",
       "      <th></th>\n",
       "      <th>user_id</th>\n",
       "      <th>book_id</th>\n",
       "      <th>review_id</th>\n",
       "      <th>rating</th>\n",
       "      <th>review_text</th>\n",
       "      <th>date_added</th>\n",
       "      <th>date_updated</th>\n",
       "      <th>read_at</th>\n",
       "      <th>started_at</th>\n",
       "      <th>n_votes</th>\n",
       "      <th>n_comments</th>\n",
       "      <th>wc</th>\n",
       "    </tr>\n",
       "  </thead>\n",
       "  <tbody>\n",
       "    <tr>\n",
       "      <th>210150</th>\n",
       "      <td>faf123d9fef513663c8257f60f5f7abb</td>\n",
       "      <td>446038</td>\n",
       "      <td>9ffa02c0f5a643f6aa225c69bd87a318</td>\n",
       "      <td>3</td>\n",
       "      <td>I expected more of an Edgar Award Winner. The ...</td>\n",
       "      <td>2008-07-30 20:16:14-07:00</td>\n",
       "      <td>2011-03-11 08:27:26-08:00</td>\n",
       "      <td>2010-03-29 00:00:00-07:00</td>\n",
       "      <td>NaT</td>\n",
       "      <td>0</td>\n",
       "      <td>0</td>\n",
       "      <td>47</td>\n",
       "    </tr>\n",
       "    <tr>\n",
       "      <th>210151</th>\n",
       "      <td>faf123d9fef513663c8257f60f5f7abb</td>\n",
       "      <td>32428</td>\n",
       "      <td>1310349035f90897602033cc50b612f0</td>\n",
       "      <td>3</td>\n",
       "      <td>Meh. In my opinion you can't go wrong with Koo...</td>\n",
       "      <td>2008-07-30 20:15:13-07:00</td>\n",
       "      <td>2010-03-30 09:20:50-07:00</td>\n",
       "      <td>2010-03-30 00:00:00-07:00</td>\n",
       "      <td>NaT</td>\n",
       "      <td>0</td>\n",
       "      <td>0</td>\n",
       "      <td>16</td>\n",
       "    </tr>\n",
       "    <tr>\n",
       "      <th>210152</th>\n",
       "      <td>326c68bca9725ce3da07d3bc9b12dfa3</td>\n",
       "      <td>16290044</td>\n",
       "      <td>af0d518d4ff323c5ee7f59c39986c5ea</td>\n",
       "      <td>1</td>\n",
       "      <td>The premise of this book really interested me....</td>\n",
       "      <td>2014-03-21 04:49:22-07:00</td>\n",
       "      <td>2014-06-29 10:02:24-07:00</td>\n",
       "      <td>NaT</td>\n",
       "      <td>NaT</td>\n",
       "      <td>1</td>\n",
       "      <td>0</td>\n",
       "      <td>242</td>\n",
       "    </tr>\n",
       "    <tr>\n",
       "      <th>210153</th>\n",
       "      <td>326c68bca9725ce3da07d3bc9b12dfa3</td>\n",
       "      <td>16123327</td>\n",
       "      <td>45906c46f95dd1f582e37701eba74cf8</td>\n",
       "      <td>4</td>\n",
       "      <td>Many people like getting scared by horror, bec...</td>\n",
       "      <td>2013-05-20 07:58:25-07:00</td>\n",
       "      <td>2013-07-20 13:44:37-07:00</td>\n",
       "      <td>2013-07-20 13:44:37-07:00</td>\n",
       "      <td>2013-07-09 00:00:00-07:00</td>\n",
       "      <td>2</td>\n",
       "      <td>0</td>\n",
       "      <td>218</td>\n",
       "    </tr>\n",
       "    <tr>\n",
       "      <th>210154</th>\n",
       "      <td>326c68bca9725ce3da07d3bc9b12dfa3</td>\n",
       "      <td>17791326</td>\n",
       "      <td>0c94593d51172f8778914913a1339faf</td>\n",
       "      <td>4</td>\n",
       "      <td>This book kept me up until 4 in the morning be...</td>\n",
       "      <td>2013-05-19 07:56:39-07:00</td>\n",
       "      <td>2013-06-22 10:48:48-07:00</td>\n",
       "      <td>2013-06-22 10:48:48-07:00</td>\n",
       "      <td>2013-06-03 00:00:00-07:00</td>\n",
       "      <td>0</td>\n",
       "      <td>0</td>\n",
       "      <td>251</td>\n",
       "    </tr>\n",
       "  </tbody>\n",
       "</table>\n",
       "</div>"
      ],
      "text/plain": [
       "                                 user_id   book_id  \\\n",
       "210150  faf123d9fef513663c8257f60f5f7abb    446038   \n",
       "210151  faf123d9fef513663c8257f60f5f7abb     32428   \n",
       "210152  326c68bca9725ce3da07d3bc9b12dfa3  16290044   \n",
       "210153  326c68bca9725ce3da07d3bc9b12dfa3  16123327   \n",
       "210154  326c68bca9725ce3da07d3bc9b12dfa3  17791326   \n",
       "\n",
       "                               review_id  rating  \\\n",
       "210150  9ffa02c0f5a643f6aa225c69bd87a318       3   \n",
       "210151  1310349035f90897602033cc50b612f0       3   \n",
       "210152  af0d518d4ff323c5ee7f59c39986c5ea       1   \n",
       "210153  45906c46f95dd1f582e37701eba74cf8       4   \n",
       "210154  0c94593d51172f8778914913a1339faf       4   \n",
       "\n",
       "                                              review_text  \\\n",
       "210150  I expected more of an Edgar Award Winner. The ...   \n",
       "210151  Meh. In my opinion you can't go wrong with Koo...   \n",
       "210152  The premise of this book really interested me....   \n",
       "210153  Many people like getting scared by horror, bec...   \n",
       "210154  This book kept me up until 4 in the morning be...   \n",
       "\n",
       "                       date_added               date_updated  \\\n",
       "210150  2008-07-30 20:16:14-07:00  2011-03-11 08:27:26-08:00   \n",
       "210151  2008-07-30 20:15:13-07:00  2010-03-30 09:20:50-07:00   \n",
       "210152  2014-03-21 04:49:22-07:00  2014-06-29 10:02:24-07:00   \n",
       "210153  2013-05-20 07:58:25-07:00  2013-07-20 13:44:37-07:00   \n",
       "210154  2013-05-19 07:56:39-07:00  2013-06-22 10:48:48-07:00   \n",
       "\n",
       "                          read_at                 started_at  n_votes  \\\n",
       "210150  2010-03-29 00:00:00-07:00                        NaT        0   \n",
       "210151  2010-03-30 00:00:00-07:00                        NaT        0   \n",
       "210152                        NaT                        NaT        1   \n",
       "210153  2013-07-20 13:44:37-07:00  2013-07-09 00:00:00-07:00        2   \n",
       "210154  2013-06-22 10:48:48-07:00  2013-06-03 00:00:00-07:00        0   \n",
       "\n",
       "        n_comments   wc  \n",
       "210150           0   47  \n",
       "210151           0   16  \n",
       "210152           0  242  \n",
       "210153           0  218  \n",
       "210154           0  251  "
      ]
     },
     "execution_count": 71,
     "metadata": {},
     "output_type": "execute_result"
    }
   ],
   "source": [
    "list_df_rs[10].head()"
   ]
  },
  {
   "cell_type": "code",
   "execution_count": 66,
   "metadata": {},
   "outputs": [
    {
     "name": "stderr",
     "output_type": "stream",
     "text": [
      "/Users/jensensj/opt/anaconda3/lib/python3.8/site-packages/pandas/core/generic.py:5159: SettingWithCopyWarning: \n",
      "A value is trying to be set on a copy of a slice from a DataFrame.\n",
      "Try using .loc[row_indexer,col_indexer] = value instead\n",
      "\n",
      "See the caveats in the documentation: https://pandas.pydata.org/pandas-docs/stable/user_guide/indexing.html#returning-a-view-versus-a-copy\n",
      "  self[name] = value\n"
     ]
    }
   ],
   "source": [
    "for i in range(88):\n",
    "    list_df_rs[i].date_updated = pd.to_datetime(list_df_rs[i].date_updated, infer_datetime_format=True, errors='coerce')"
   ]
  },
  {
   "cell_type": "code",
   "execution_count": 67,
   "metadata": {},
   "outputs": [],
   "source": [
    "for i in range(88):\n",
    "    list_df_rs[i].read_at = pd.to_datetime(list_df_rs[i].read_at, infer_datetime_format=True, errors='coerce')"
   ]
  },
  {
   "cell_type": "code",
   "execution_count": 68,
   "metadata": {},
   "outputs": [],
   "source": [
    "for i in range(88):\n",
    "    list_df_rs[i].started_at = pd.to_datetime(list_df_rs[i].started_at, infer_datetime_format=True, errors='coerce')"
   ]
  },
  {
   "cell_type": "code",
   "execution_count": 72,
   "metadata": {},
   "outputs": [],
   "source": [
    "new_df_2 = pd.DataFrame()\n",
    "\n",
    "for i in range(88):\n",
    "    new_df_2 = pd.concat([new_df_2,list_df_rs[i]])"
   ]
  },
  {
   "cell_type": "code",
   "execution_count": 73,
   "metadata": {},
   "outputs": [
    {
     "data": {
      "text/html": [
       "<div>\n",
       "<style scoped>\n",
       "    .dataframe tbody tr th:only-of-type {\n",
       "        vertical-align: middle;\n",
       "    }\n",
       "\n",
       "    .dataframe tbody tr th {\n",
       "        vertical-align: top;\n",
       "    }\n",
       "\n",
       "    .dataframe thead th {\n",
       "        text-align: right;\n",
       "    }\n",
       "</style>\n",
       "<table border=\"1\" class=\"dataframe\">\n",
       "  <thead>\n",
       "    <tr style=\"text-align: right;\">\n",
       "      <th></th>\n",
       "      <th>user_id</th>\n",
       "      <th>book_id</th>\n",
       "      <th>review_id</th>\n",
       "      <th>rating</th>\n",
       "      <th>review_text</th>\n",
       "      <th>date_added</th>\n",
       "      <th>date_updated</th>\n",
       "      <th>read_at</th>\n",
       "      <th>started_at</th>\n",
       "      <th>n_votes</th>\n",
       "      <th>n_comments</th>\n",
       "      <th>wc</th>\n",
       "    </tr>\n",
       "  </thead>\n",
       "  <tbody>\n",
       "    <tr>\n",
       "      <th>0</th>\n",
       "      <td>8842281e1d1347389f2ab93d60773d4d</td>\n",
       "      <td>6392944</td>\n",
       "      <td>5e212a62bced17b4dbe41150e5bb9037</td>\n",
       "      <td>3</td>\n",
       "      <td>I haven't read a fun mystery book in a while a...</td>\n",
       "      <td>2017-07-24 02:48:17-07:00</td>\n",
       "      <td>2017-07-30 09:28:03-07:00</td>\n",
       "      <td>2017-07-25 00:00:00-07:00</td>\n",
       "      <td>2017-07-24 00:00:00-07:00</td>\n",
       "      <td>6</td>\n",
       "      <td>0</td>\n",
       "      <td>86</td>\n",
       "    </tr>\n",
       "    <tr>\n",
       "      <th>1</th>\n",
       "      <td>8842281e1d1347389f2ab93d60773d4d</td>\n",
       "      <td>28684704</td>\n",
       "      <td>2ede853b14dc4583f96cf5d120af636f</td>\n",
       "      <td>3</td>\n",
       "      <td>A fun, fast paced science fiction thriller. I ...</td>\n",
       "      <td>2016-11-15 11:29:22-08:00</td>\n",
       "      <td>2017-03-20 23:40:27-07:00</td>\n",
       "      <td>2017-03-18 23:22:42-07:00</td>\n",
       "      <td>2017-03-17 23:45:40-07:00</td>\n",
       "      <td>22</td>\n",
       "      <td>0</td>\n",
       "      <td>465</td>\n",
       "    </tr>\n",
       "    <tr>\n",
       "      <th>2</th>\n",
       "      <td>8842281e1d1347389f2ab93d60773d4d</td>\n",
       "      <td>32283133</td>\n",
       "      <td>8e4d61801907e591018bdc3442a9cf2b</td>\n",
       "      <td>0</td>\n",
       "      <td>http://www.telegraph.co.uk/culture/10...</td>\n",
       "      <td>2016-11-01 11:09:18-07:00</td>\n",
       "      <td>2016-11-01 11:09:44-07:00</td>\n",
       "      <td>NaT</td>\n",
       "      <td>NaT</td>\n",
       "      <td>9</td>\n",
       "      <td>0</td>\n",
       "      <td>1</td>\n",
       "    </tr>\n",
       "    <tr>\n",
       "      <th>3</th>\n",
       "      <td>8842281e1d1347389f2ab93d60773d4d</td>\n",
       "      <td>17860739</td>\n",
       "      <td>022bb6daffa49adc27f6b20b6ebeb37d</td>\n",
       "      <td>4</td>\n",
       "      <td>An amazing and unique creation: JJ Abrams and ...</td>\n",
       "      <td>2014-03-26 13:51:30-07:00</td>\n",
       "      <td>2014-09-23 01:44:36-07:00</td>\n",
       "      <td>2014-09-21 00:00:00-07:00</td>\n",
       "      <td>2014-07-26 00:00:00-07:00</td>\n",
       "      <td>7</td>\n",
       "      <td>0</td>\n",
       "      <td>483</td>\n",
       "    </tr>\n",
       "    <tr>\n",
       "      <th>4</th>\n",
       "      <td>8842281e1d1347389f2ab93d60773d4d</td>\n",
       "      <td>8694005</td>\n",
       "      <td>0e317947e1fd341f573192111bb2921d</td>\n",
       "      <td>3</td>\n",
       "      <td>The Name of the Rose is a thrilling Dan Brown-...</td>\n",
       "      <td>2010-09-08 01:22:27-07:00</td>\n",
       "      <td>2016-12-14 12:30:43-08:00</td>\n",
       "      <td>2015-08-10 00:00:00-07:00</td>\n",
       "      <td>2015-07-20 00:00:00-07:00</td>\n",
       "      <td>17</td>\n",
       "      <td>6</td>\n",
       "      <td>376</td>\n",
       "    </tr>\n",
       "  </tbody>\n",
       "</table>\n",
       "</div>"
      ],
      "text/plain": [
       "                            user_id   book_id  \\\n",
       "0  8842281e1d1347389f2ab93d60773d4d   6392944   \n",
       "1  8842281e1d1347389f2ab93d60773d4d  28684704   \n",
       "2  8842281e1d1347389f2ab93d60773d4d  32283133   \n",
       "3  8842281e1d1347389f2ab93d60773d4d  17860739   \n",
       "4  8842281e1d1347389f2ab93d60773d4d   8694005   \n",
       "\n",
       "                          review_id  rating  \\\n",
       "0  5e212a62bced17b4dbe41150e5bb9037       3   \n",
       "1  2ede853b14dc4583f96cf5d120af636f       3   \n",
       "2  8e4d61801907e591018bdc3442a9cf2b       0   \n",
       "3  022bb6daffa49adc27f6b20b6ebeb37d       4   \n",
       "4  0e317947e1fd341f573192111bb2921d       3   \n",
       "\n",
       "                                         review_text  \\\n",
       "0  I haven't read a fun mystery book in a while a...   \n",
       "1  A fun, fast paced science fiction thriller. I ...   \n",
       "2           http://www.telegraph.co.uk/culture/10...   \n",
       "3  An amazing and unique creation: JJ Abrams and ...   \n",
       "4  The Name of the Rose is a thrilling Dan Brown-...   \n",
       "\n",
       "                  date_added               date_updated  \\\n",
       "0  2017-07-24 02:48:17-07:00  2017-07-30 09:28:03-07:00   \n",
       "1  2016-11-15 11:29:22-08:00  2017-03-20 23:40:27-07:00   \n",
       "2  2016-11-01 11:09:18-07:00  2016-11-01 11:09:44-07:00   \n",
       "3  2014-03-26 13:51:30-07:00  2014-09-23 01:44:36-07:00   \n",
       "4  2010-09-08 01:22:27-07:00  2016-12-14 12:30:43-08:00   \n",
       "\n",
       "                     read_at                 started_at  n_votes  n_comments  \\\n",
       "0  2017-07-25 00:00:00-07:00  2017-07-24 00:00:00-07:00        6           0   \n",
       "1  2017-03-18 23:22:42-07:00  2017-03-17 23:45:40-07:00       22           0   \n",
       "2                        NaT                        NaT        9           0   \n",
       "3  2014-09-21 00:00:00-07:00  2014-07-26 00:00:00-07:00        7           0   \n",
       "4  2015-08-10 00:00:00-07:00  2015-07-20 00:00:00-07:00       17           6   \n",
       "\n",
       "    wc  \n",
       "0   86  \n",
       "1  465  \n",
       "2    1  \n",
       "3  483  \n",
       "4  376  "
      ]
     },
     "execution_count": 73,
     "metadata": {},
     "output_type": "execute_result"
    }
   ],
   "source": [
    "new_df_2.head()"
   ]
  },
  {
   "cell_type": "code",
   "execution_count": 77,
   "metadata": {},
   "outputs": [],
   "source": [
    "new_df_2.drop(columns=['review_text'], inplace=True)"
   ]
  },
  {
   "cell_type": "code",
   "execution_count": 78,
   "metadata": {},
   "outputs": [],
   "source": [
    "new_df_2.to_pickle('Reviews_Wrangled.pkl')"
   ]
  },
  {
   "cell_type": "markdown",
   "metadata": {},
   "source": [
    "Now on to interactions"
   ]
  },
  {
   "cell_type": "markdown",
   "metadata": {},
   "source": [
    "c_size = 10**4\n",
    "df_ints_iter = pd.read_json('goodreads_interactions_mystery_thriller_crime.json', orient='records',lines=True,chunksize=c_size)"
   ]
  },
  {
   "cell_type": "markdown",
   "metadata": {},
   "source": [
    "print(df_ints_iter)\n",
    "\n"
   ]
  },
  {
   "cell_type": "markdown",
   "metadata": {},
   "source": [
    "for i in df_ints_iter:\n",
    "    print(i)"
   ]
  },
  {
   "cell_type": "code",
   "execution_count": null,
   "metadata": {},
   "outputs": [],
   "source": [
    "df_ints = pd.read_json('goodreads_interactions_mystery_thriller_crime.json', lines=True)"
   ]
  },
  {
   "cell_type": "code",
   "execution_count": null,
   "metadata": {},
   "outputs": [],
   "source": [
    "#df_iter = pd.read_json('inter_test.json', lines=True,chunksize=10)\n"
   ]
  },
  {
   "cell_type": "code",
   "execution_count": 2,
   "metadata": {},
   "outputs": [],
   "source": [
    "with open('goodreads_interactions_mystery_thriller_crime.json') as json_file:      \n",
    "    data = json_file.readlines()\n",
    "    # this line below may take at least 8-10 minutes of processing for 4-5 million rows. It converts all strings in list to actual json objects. \n",
    "    data = list(map(json.loads, data)) "
   ]
  },
  {
   "cell_type": "code",
   "execution_count": 3,
   "metadata": {},
   "outputs": [],
   "source": [
    "#data"
   ]
  },
  {
   "cell_type": "code",
   "execution_count": 4,
   "metadata": {},
   "outputs": [],
   "source": [
    "data_t = data"
   ]
  },
  {
   "cell_type": "code",
   "execution_count": 5,
   "metadata": {},
   "outputs": [],
   "source": [
    "#del data_t['review_text_incomplete']"
   ]
  },
  {
   "cell_type": "code",
   "execution_count": 12,
   "metadata": {},
   "outputs": [
    {
     "data": {
      "text/plain": [
       "'A fun, fast paced science fiction thriller. I read it in 2 nights and couldn\\'t put it down. The book is about the quantum theory of <a href=\"https://en.wikipedia.org/wiki/Many-worlds_interpretation\" rel=\"nofollow\">many worlds</a> which states that all decisions we make throughout our lives basically create branches, and that each possible path through the decision tree can be thou...'"
      ]
     },
     "execution_count": 12,
     "metadata": {},
     "output_type": "execute_result"
    }
   ],
   "source": [
    "data_t[4]['review_text_incomplete']"
   ]
  },
  {
   "cell_type": "code",
   "execution_count": 14,
   "metadata": {},
   "outputs": [],
   "source": [
    "df_ints = pd.DataFrame(data)"
   ]
  },
  {
   "cell_type": "code",
   "execution_count": 15,
   "metadata": {},
   "outputs": [
    {
     "data": {
      "text/plain": [
       "Index(['user_id', 'book_id', 'review_id', 'is_read', 'rating',\n",
       "       'review_text_incomplete', 'date_added', 'date_updated', 'read_at',\n",
       "       'started_at'],\n",
       "      dtype='object')"
      ]
     },
     "execution_count": 15,
     "metadata": {},
     "output_type": "execute_result"
    }
   ],
   "source": [
    "df_ints.columns\n"
   ]
  },
  {
   "cell_type": "code",
   "execution_count": 17,
   "metadata": {},
   "outputs": [],
   "source": [
    "df_ints.drop(columns=['review_text_incomplete'],inplace=True)"
   ]
  },
  {
   "cell_type": "code",
   "execution_count": 2,
   "metadata": {},
   "outputs": [
    {
     "ename": "NameError",
     "evalue": "name 'df_ints' is not defined",
     "output_type": "error",
     "traceback": [
      "\u001b[0;31m---------------------------------------------------------------------------\u001b[0m",
      "\u001b[0;31mNameError\u001b[0m                                 Traceback (most recent call last)",
      "\u001b[0;32m<ipython-input-2-3e0edca2ef8b>\u001b[0m in \u001b[0;36m<module>\u001b[0;34m\u001b[0m\n\u001b[0;32m----> 1\u001b[0;31m \u001b[0mdf_ints\u001b[0m\u001b[0;34m.\u001b[0m\u001b[0mcolumns\u001b[0m\u001b[0;34m\u001b[0m\u001b[0;34m\u001b[0m\u001b[0m\n\u001b[0m",
      "\u001b[0;31mNameError\u001b[0m: name 'df_ints' is not defined"
     ]
    }
   ],
   "source": [
    "df_ints.columns"
   ]
  },
  {
   "cell_type": "code",
   "execution_count": null,
   "metadata": {},
   "outputs": [],
   "source": [
    "df_ints.to_pickle('Ints_SortOfWrangled.pkl')"
   ]
  },
  {
   "cell_type": "code",
   "execution_count": 3,
   "metadata": {},
   "outputs": [],
   "source": [
    "ints_0 = pd.read_json('./splits_x/xaa.json',lines=True)"
   ]
  },
  {
   "cell_type": "code",
   "execution_count": 5,
   "metadata": {},
   "outputs": [
    {
     "data": {
      "text/html": [
       "<div>\n",
       "<style scoped>\n",
       "    .dataframe tbody tr th:only-of-type {\n",
       "        vertical-align: middle;\n",
       "    }\n",
       "\n",
       "    .dataframe tbody tr th {\n",
       "        vertical-align: top;\n",
       "    }\n",
       "\n",
       "    .dataframe thead th {\n",
       "        text-align: right;\n",
       "    }\n",
       "</style>\n",
       "<table border=\"1\" class=\"dataframe\">\n",
       "  <thead>\n",
       "    <tr style=\"text-align: right;\">\n",
       "      <th></th>\n",
       "      <th>user_id</th>\n",
       "      <th>book_id</th>\n",
       "      <th>review_id</th>\n",
       "      <th>is_read</th>\n",
       "      <th>rating</th>\n",
       "      <th>review_text_incomplete</th>\n",
       "      <th>date_added</th>\n",
       "      <th>date_updated</th>\n",
       "      <th>read_at</th>\n",
       "      <th>started_at</th>\n",
       "    </tr>\n",
       "  </thead>\n",
       "  <tbody>\n",
       "    <tr>\n",
       "      <th>0</th>\n",
       "      <td>8842281e1d1347389f2ab93d60773d4d</td>\n",
       "      <td>6392944</td>\n",
       "      <td>5e212a62bced17b4dbe41150e5bb9037</td>\n",
       "      <td>True</td>\n",
       "      <td>3</td>\n",
       "      <td>I haven't read a fun mystery book in a while a...</td>\n",
       "      <td>Mon Jul 24 02:48:17 -0700 2017</td>\n",
       "      <td>Sun Jul 30 09:28:03 -0700 2017</td>\n",
       "      <td>Tue Jul 25 00:00:00 -0700 2017</td>\n",
       "      <td>Mon Jul 24 00:00:00 -0700 2017</td>\n",
       "    </tr>\n",
       "    <tr>\n",
       "      <th>1</th>\n",
       "      <td>8842281e1d1347389f2ab93d60773d4d</td>\n",
       "      <td>2279538</td>\n",
       "      <td>556e9e3f00fb5b7e4eaa116764b771b0</td>\n",
       "      <td>False</td>\n",
       "      <td>0</td>\n",
       "      <td></td>\n",
       "      <td>Wed Mar 29 00:27:14 -0700 2017</td>\n",
       "      <td>Wed Mar 29 00:27:14 -0700 2017</td>\n",
       "      <td></td>\n",
       "      <td></td>\n",
       "    </tr>\n",
       "    <tr>\n",
       "      <th>2</th>\n",
       "      <td>8842281e1d1347389f2ab93d60773d4d</td>\n",
       "      <td>20821043</td>\n",
       "      <td>4b15f8a08f04a17f9a47f2b76fec21e5</td>\n",
       "      <td>False</td>\n",
       "      <td>0</td>\n",
       "      <td></td>\n",
       "      <td>Mon Mar 27 22:52:11 -0700 2017</td>\n",
       "      <td>Mon Mar 27 22:52:12 -0700 2017</td>\n",
       "      <td></td>\n",
       "      <td></td>\n",
       "    </tr>\n",
       "    <tr>\n",
       "      <th>3</th>\n",
       "      <td>8842281e1d1347389f2ab93d60773d4d</td>\n",
       "      <td>31184479</td>\n",
       "      <td>0b9fc382ad38c5804ec46df84d66be6e</td>\n",
       "      <td>False</td>\n",
       "      <td>0</td>\n",
       "      <td></td>\n",
       "      <td>Fri Jan 06 16:22:46 -0800 2017</td>\n",
       "      <td>Fri Jan 06 16:22:46 -0800 2017</td>\n",
       "      <td></td>\n",
       "      <td></td>\n",
       "    </tr>\n",
       "    <tr>\n",
       "      <th>4</th>\n",
       "      <td>8842281e1d1347389f2ab93d60773d4d</td>\n",
       "      <td>28684704</td>\n",
       "      <td>2ede853b14dc4583f96cf5d120af636f</td>\n",
       "      <td>True</td>\n",
       "      <td>3</td>\n",
       "      <td>A fun, fast paced science fiction thriller. I ...</td>\n",
       "      <td>Tue Nov 15 11:29:22 -0800 2016</td>\n",
       "      <td>Mon Mar 20 23:40:27 -0700 2017</td>\n",
       "      <td>Sat Mar 18 23:22:42 -0700 2017</td>\n",
       "      <td>Fri Mar 17 23:45:40 -0700 2017</td>\n",
       "    </tr>\n",
       "  </tbody>\n",
       "</table>\n",
       "</div>"
      ],
      "text/plain": [
       "                            user_id   book_id  \\\n",
       "0  8842281e1d1347389f2ab93d60773d4d   6392944   \n",
       "1  8842281e1d1347389f2ab93d60773d4d   2279538   \n",
       "2  8842281e1d1347389f2ab93d60773d4d  20821043   \n",
       "3  8842281e1d1347389f2ab93d60773d4d  31184479   \n",
       "4  8842281e1d1347389f2ab93d60773d4d  28684704   \n",
       "\n",
       "                          review_id  is_read  rating  \\\n",
       "0  5e212a62bced17b4dbe41150e5bb9037     True       3   \n",
       "1  556e9e3f00fb5b7e4eaa116764b771b0    False       0   \n",
       "2  4b15f8a08f04a17f9a47f2b76fec21e5    False       0   \n",
       "3  0b9fc382ad38c5804ec46df84d66be6e    False       0   \n",
       "4  2ede853b14dc4583f96cf5d120af636f     True       3   \n",
       "\n",
       "                              review_text_incomplete  \\\n",
       "0  I haven't read a fun mystery book in a while a...   \n",
       "1                                                      \n",
       "2                                                      \n",
       "3                                                      \n",
       "4  A fun, fast paced science fiction thriller. I ...   \n",
       "\n",
       "                       date_added                    date_updated  \\\n",
       "0  Mon Jul 24 02:48:17 -0700 2017  Sun Jul 30 09:28:03 -0700 2017   \n",
       "1  Wed Mar 29 00:27:14 -0700 2017  Wed Mar 29 00:27:14 -0700 2017   \n",
       "2  Mon Mar 27 22:52:11 -0700 2017  Mon Mar 27 22:52:12 -0700 2017   \n",
       "3  Fri Jan 06 16:22:46 -0800 2017  Fri Jan 06 16:22:46 -0800 2017   \n",
       "4  Tue Nov 15 11:29:22 -0800 2016  Mon Mar 20 23:40:27 -0700 2017   \n",
       "\n",
       "                          read_at                      started_at  \n",
       "0  Tue Jul 25 00:00:00 -0700 2017  Mon Jul 24 00:00:00 -0700 2017  \n",
       "1                                                                  \n",
       "2                                                                  \n",
       "3                                                                  \n",
       "4  Sat Mar 18 23:22:42 -0700 2017  Fri Mar 17 23:45:40 -0700 2017  "
      ]
     },
     "execution_count": 5,
     "metadata": {},
     "output_type": "execute_result"
    }
   ],
   "source": [
    " ints_0.head()"
   ]
  },
  {
   "cell_type": "code",
   "execution_count": 7,
   "metadata": {},
   "outputs": [],
   "source": [
    "ints_0.drop(columns=['review_text_incomplete'],inplace=True)"
   ]
  },
  {
   "cell_type": "code",
   "execution_count": 8,
   "metadata": {},
   "outputs": [
    {
     "data": {
      "text/html": [
       "<div>\n",
       "<style scoped>\n",
       "    .dataframe tbody tr th:only-of-type {\n",
       "        vertical-align: middle;\n",
       "    }\n",
       "\n",
       "    .dataframe tbody tr th {\n",
       "        vertical-align: top;\n",
       "    }\n",
       "\n",
       "    .dataframe thead th {\n",
       "        text-align: right;\n",
       "    }\n",
       "</style>\n",
       "<table border=\"1\" class=\"dataframe\">\n",
       "  <thead>\n",
       "    <tr style=\"text-align: right;\">\n",
       "      <th></th>\n",
       "      <th>user_id</th>\n",
       "      <th>book_id</th>\n",
       "      <th>review_id</th>\n",
       "      <th>is_read</th>\n",
       "      <th>rating</th>\n",
       "      <th>date_added</th>\n",
       "      <th>date_updated</th>\n",
       "      <th>read_at</th>\n",
       "      <th>started_at</th>\n",
       "    </tr>\n",
       "  </thead>\n",
       "  <tbody>\n",
       "    <tr>\n",
       "      <th>0</th>\n",
       "      <td>8842281e1d1347389f2ab93d60773d4d</td>\n",
       "      <td>6392944</td>\n",
       "      <td>5e212a62bced17b4dbe41150e5bb9037</td>\n",
       "      <td>True</td>\n",
       "      <td>3</td>\n",
       "      <td>Mon Jul 24 02:48:17 -0700 2017</td>\n",
       "      <td>Sun Jul 30 09:28:03 -0700 2017</td>\n",
       "      <td>Tue Jul 25 00:00:00 -0700 2017</td>\n",
       "      <td>Mon Jul 24 00:00:00 -0700 2017</td>\n",
       "    </tr>\n",
       "    <tr>\n",
       "      <th>1</th>\n",
       "      <td>8842281e1d1347389f2ab93d60773d4d</td>\n",
       "      <td>2279538</td>\n",
       "      <td>556e9e3f00fb5b7e4eaa116764b771b0</td>\n",
       "      <td>False</td>\n",
       "      <td>0</td>\n",
       "      <td>Wed Mar 29 00:27:14 -0700 2017</td>\n",
       "      <td>Wed Mar 29 00:27:14 -0700 2017</td>\n",
       "      <td></td>\n",
       "      <td></td>\n",
       "    </tr>\n",
       "    <tr>\n",
       "      <th>2</th>\n",
       "      <td>8842281e1d1347389f2ab93d60773d4d</td>\n",
       "      <td>20821043</td>\n",
       "      <td>4b15f8a08f04a17f9a47f2b76fec21e5</td>\n",
       "      <td>False</td>\n",
       "      <td>0</td>\n",
       "      <td>Mon Mar 27 22:52:11 -0700 2017</td>\n",
       "      <td>Mon Mar 27 22:52:12 -0700 2017</td>\n",
       "      <td></td>\n",
       "      <td></td>\n",
       "    </tr>\n",
       "    <tr>\n",
       "      <th>3</th>\n",
       "      <td>8842281e1d1347389f2ab93d60773d4d</td>\n",
       "      <td>31184479</td>\n",
       "      <td>0b9fc382ad38c5804ec46df84d66be6e</td>\n",
       "      <td>False</td>\n",
       "      <td>0</td>\n",
       "      <td>Fri Jan 06 16:22:46 -0800 2017</td>\n",
       "      <td>Fri Jan 06 16:22:46 -0800 2017</td>\n",
       "      <td></td>\n",
       "      <td></td>\n",
       "    </tr>\n",
       "    <tr>\n",
       "      <th>4</th>\n",
       "      <td>8842281e1d1347389f2ab93d60773d4d</td>\n",
       "      <td>28684704</td>\n",
       "      <td>2ede853b14dc4583f96cf5d120af636f</td>\n",
       "      <td>True</td>\n",
       "      <td>3</td>\n",
       "      <td>Tue Nov 15 11:29:22 -0800 2016</td>\n",
       "      <td>Mon Mar 20 23:40:27 -0700 2017</td>\n",
       "      <td>Sat Mar 18 23:22:42 -0700 2017</td>\n",
       "      <td>Fri Mar 17 23:45:40 -0700 2017</td>\n",
       "    </tr>\n",
       "  </tbody>\n",
       "</table>\n",
       "</div>"
      ],
      "text/plain": [
       "                            user_id   book_id  \\\n",
       "0  8842281e1d1347389f2ab93d60773d4d   6392944   \n",
       "1  8842281e1d1347389f2ab93d60773d4d   2279538   \n",
       "2  8842281e1d1347389f2ab93d60773d4d  20821043   \n",
       "3  8842281e1d1347389f2ab93d60773d4d  31184479   \n",
       "4  8842281e1d1347389f2ab93d60773d4d  28684704   \n",
       "\n",
       "                          review_id  is_read  rating  \\\n",
       "0  5e212a62bced17b4dbe41150e5bb9037     True       3   \n",
       "1  556e9e3f00fb5b7e4eaa116764b771b0    False       0   \n",
       "2  4b15f8a08f04a17f9a47f2b76fec21e5    False       0   \n",
       "3  0b9fc382ad38c5804ec46df84d66be6e    False       0   \n",
       "4  2ede853b14dc4583f96cf5d120af636f     True       3   \n",
       "\n",
       "                       date_added                    date_updated  \\\n",
       "0  Mon Jul 24 02:48:17 -0700 2017  Sun Jul 30 09:28:03 -0700 2017   \n",
       "1  Wed Mar 29 00:27:14 -0700 2017  Wed Mar 29 00:27:14 -0700 2017   \n",
       "2  Mon Mar 27 22:52:11 -0700 2017  Mon Mar 27 22:52:12 -0700 2017   \n",
       "3  Fri Jan 06 16:22:46 -0800 2017  Fri Jan 06 16:22:46 -0800 2017   \n",
       "4  Tue Nov 15 11:29:22 -0800 2016  Mon Mar 20 23:40:27 -0700 2017   \n",
       "\n",
       "                          read_at                      started_at  \n",
       "0  Tue Jul 25 00:00:00 -0700 2017  Mon Jul 24 00:00:00 -0700 2017  \n",
       "1                                                                  \n",
       "2                                                                  \n",
       "3                                                                  \n",
       "4  Sat Mar 18 23:22:42 -0700 2017  Fri Mar 17 23:45:40 -0700 2017  "
      ]
     },
     "execution_count": 8,
     "metadata": {},
     "output_type": "execute_result"
    }
   ],
   "source": [
    "ints_0.head()"
   ]
  },
  {
   "cell_type": "code",
   "execution_count": 9,
   "metadata": {},
   "outputs": [],
   "source": [
    "ints_0.date_added = pd.to_datetime(ints_0.date_added,infer_datetime_format=True, errors='coerce')"
   ]
  },
  {
   "cell_type": "code",
   "execution_count": 10,
   "metadata": {},
   "outputs": [
    {
     "data": {
      "text/plain": [
       "0         2017-07-24 02:48:17-07:00\n",
       "1         2017-03-29 00:27:14-07:00\n",
       "2         2017-03-27 22:52:11-07:00\n",
       "3         2017-01-06 16:22:46-08:00\n",
       "4         2016-11-15 11:29:22-08:00\n",
       "                    ...            \n",
       "999995    2013-09-13 15:48:48-07:00\n",
       "999996    2013-04-13 17:07:56-07:00\n",
       "999997    2013-03-08 04:22:15-08:00\n",
       "999998    2013-03-08 04:22:06-08:00\n",
       "999999    2013-02-24 13:51:33-08:00\n",
       "Name: date_added, Length: 1000000, dtype: object"
      ]
     },
     "execution_count": 10,
     "metadata": {},
     "output_type": "execute_result"
    }
   ],
   "source": [
    "ints_0.date_added"
   ]
  },
  {
   "cell_type": "markdown",
   "metadata": {},
   "source": [
    "Run command line: split -l 1000000 goodreads_interactions_mystery_thriller_crime.json"
   ]
  },
  {
   "cell_type": "code",
   "execution_count": 32,
   "metadata": {},
   "outputs": [],
   "source": [
    "df_i_0 = pd.DataFrame()\n",
    "for i in range(5):\n",
    "    filename = './splits_x/'+str(i)+'.json'\n",
    "    df_s = pd.read_json(filename,lines=True)\n",
    "    df_s.drop(columns=['review_text_incomplete'],inplace=True)\n",
    "    df_s.date_added = pd.to_datetime(df_s.date_added,infer_datetime_format=True, errors='coerce')\n",
    "    df_s.date_updated = pd.to_datetime(df_s.date_updated,infer_datetime_format=True, errors='coerce')\n",
    "    df_s.read_at = pd.to_datetime(df_s.read_at,infer_datetime_format=True, errors='coerce')\n",
    "    df_s.started_at = pd.to_datetime(df_s.started_at,infer_datetime_format=True, errors='coerce')\n",
    "    df_i_0 = pd.concat([df_i_0,df_s])"
   ]
  },
  {
   "cell_type": "code",
   "execution_count": 33,
   "metadata": {},
   "outputs": [
    {
     "data": {
      "text/html": [
       "<div>\n",
       "<style scoped>\n",
       "    .dataframe tbody tr th:only-of-type {\n",
       "        vertical-align: middle;\n",
       "    }\n",
       "\n",
       "    .dataframe tbody tr th {\n",
       "        vertical-align: top;\n",
       "    }\n",
       "\n",
       "    .dataframe thead th {\n",
       "        text-align: right;\n",
       "    }\n",
       "</style>\n",
       "<table border=\"1\" class=\"dataframe\">\n",
       "  <thead>\n",
       "    <tr style=\"text-align: right;\">\n",
       "      <th></th>\n",
       "      <th>user_id</th>\n",
       "      <th>book_id</th>\n",
       "      <th>review_id</th>\n",
       "      <th>is_read</th>\n",
       "      <th>rating</th>\n",
       "      <th>date_added</th>\n",
       "      <th>date_updated</th>\n",
       "      <th>read_at</th>\n",
       "      <th>started_at</th>\n",
       "    </tr>\n",
       "  </thead>\n",
       "  <tbody>\n",
       "    <tr>\n",
       "      <th>0</th>\n",
       "      <td>8842281e1d1347389f2ab93d60773d4d</td>\n",
       "      <td>6392944</td>\n",
       "      <td>5e212a62bced17b4dbe41150e5bb9037</td>\n",
       "      <td>True</td>\n",
       "      <td>3</td>\n",
       "      <td>2017-07-24 02:48:17-07:00</td>\n",
       "      <td>2017-07-30 09:28:03-07:00</td>\n",
       "      <td>2017-07-25 00:00:00-07:00</td>\n",
       "      <td>2017-07-24 00:00:00-07:00</td>\n",
       "    </tr>\n",
       "    <tr>\n",
       "      <th>1</th>\n",
       "      <td>8842281e1d1347389f2ab93d60773d4d</td>\n",
       "      <td>2279538</td>\n",
       "      <td>556e9e3f00fb5b7e4eaa116764b771b0</td>\n",
       "      <td>False</td>\n",
       "      <td>0</td>\n",
       "      <td>2017-03-29 00:27:14-07:00</td>\n",
       "      <td>2017-03-29 00:27:14-07:00</td>\n",
       "      <td>NaT</td>\n",
       "      <td>NaT</td>\n",
       "    </tr>\n",
       "    <tr>\n",
       "      <th>2</th>\n",
       "      <td>8842281e1d1347389f2ab93d60773d4d</td>\n",
       "      <td>20821043</td>\n",
       "      <td>4b15f8a08f04a17f9a47f2b76fec21e5</td>\n",
       "      <td>False</td>\n",
       "      <td>0</td>\n",
       "      <td>2017-03-27 22:52:11-07:00</td>\n",
       "      <td>2017-03-27 22:52:12-07:00</td>\n",
       "      <td>NaT</td>\n",
       "      <td>NaT</td>\n",
       "    </tr>\n",
       "    <tr>\n",
       "      <th>3</th>\n",
       "      <td>8842281e1d1347389f2ab93d60773d4d</td>\n",
       "      <td>31184479</td>\n",
       "      <td>0b9fc382ad38c5804ec46df84d66be6e</td>\n",
       "      <td>False</td>\n",
       "      <td>0</td>\n",
       "      <td>2017-01-06 16:22:46-08:00</td>\n",
       "      <td>2017-01-06 16:22:46-08:00</td>\n",
       "      <td>NaT</td>\n",
       "      <td>NaT</td>\n",
       "    </tr>\n",
       "    <tr>\n",
       "      <th>4</th>\n",
       "      <td>8842281e1d1347389f2ab93d60773d4d</td>\n",
       "      <td>28684704</td>\n",
       "      <td>2ede853b14dc4583f96cf5d120af636f</td>\n",
       "      <td>True</td>\n",
       "      <td>3</td>\n",
       "      <td>2016-11-15 11:29:22-08:00</td>\n",
       "      <td>2017-03-20 23:40:27-07:00</td>\n",
       "      <td>2017-03-18 23:22:42-07:00</td>\n",
       "      <td>2017-03-17 23:45:40-07:00</td>\n",
       "    </tr>\n",
       "  </tbody>\n",
       "</table>\n",
       "</div>"
      ],
      "text/plain": [
       "                            user_id   book_id  \\\n",
       "0  8842281e1d1347389f2ab93d60773d4d   6392944   \n",
       "1  8842281e1d1347389f2ab93d60773d4d   2279538   \n",
       "2  8842281e1d1347389f2ab93d60773d4d  20821043   \n",
       "3  8842281e1d1347389f2ab93d60773d4d  31184479   \n",
       "4  8842281e1d1347389f2ab93d60773d4d  28684704   \n",
       "\n",
       "                          review_id  is_read  rating  \\\n",
       "0  5e212a62bced17b4dbe41150e5bb9037     True       3   \n",
       "1  556e9e3f00fb5b7e4eaa116764b771b0    False       0   \n",
       "2  4b15f8a08f04a17f9a47f2b76fec21e5    False       0   \n",
       "3  0b9fc382ad38c5804ec46df84d66be6e    False       0   \n",
       "4  2ede853b14dc4583f96cf5d120af636f     True       3   \n",
       "\n",
       "                  date_added               date_updated  \\\n",
       "0  2017-07-24 02:48:17-07:00  2017-07-30 09:28:03-07:00   \n",
       "1  2017-03-29 00:27:14-07:00  2017-03-29 00:27:14-07:00   \n",
       "2  2017-03-27 22:52:11-07:00  2017-03-27 22:52:12-07:00   \n",
       "3  2017-01-06 16:22:46-08:00  2017-01-06 16:22:46-08:00   \n",
       "4  2016-11-15 11:29:22-08:00  2017-03-20 23:40:27-07:00   \n",
       "\n",
       "                     read_at                 started_at  \n",
       "0  2017-07-25 00:00:00-07:00  2017-07-24 00:00:00-07:00  \n",
       "1                        NaT                        NaT  \n",
       "2                        NaT                        NaT  \n",
       "3                        NaT                        NaT  \n",
       "4  2017-03-18 23:22:42-07:00  2017-03-17 23:45:40-07:00  "
      ]
     },
     "execution_count": 33,
     "metadata": {},
     "output_type": "execute_result"
    }
   ],
   "source": [
    "df_i_0.head()"
   ]
  },
  {
   "cell_type": "code",
   "execution_count": 34,
   "metadata": {},
   "outputs": [],
   "source": [
    "df_i_0.to_pickle('df_i_0.pkl')"
   ]
  },
  {
   "cell_type": "code",
   "execution_count": 36,
   "metadata": {},
   "outputs": [],
   "source": [
    "df_i_1 = pd.DataFrame()\n",
    "for i in range(5,10):\n",
    "    filename = './splits_x/'+str(i)+'.json'\n",
    "    df_s = pd.read_json(filename,lines=True)\n",
    "    df_s.drop(columns=['review_text_incomplete'],inplace=True)\n",
    "    df_s.date_added = pd.to_datetime(df_s.date_added,infer_datetime_format=True, errors='coerce')\n",
    "    df_s.date_updated = pd.to_datetime(df_s.date_updated,infer_datetime_format=True, errors='coerce')\n",
    "    df_s.read_at = pd.to_datetime(df_s.read_at,infer_datetime_format=True, errors='coerce')\n",
    "    df_s.started_at = pd.to_datetime(df_s.started_at,infer_datetime_format=True, errors='coerce')\n",
    "    df_i_1 = pd.concat([df_i_1,df_s])"
   ]
  },
  {
   "cell_type": "code",
   "execution_count": 37,
   "metadata": {},
   "outputs": [],
   "source": [
    "df_i_1.to_pickle('df_i_1.pkl')"
   ]
  },
  {
   "cell_type": "code",
   "execution_count": null,
   "metadata": {},
   "outputs": [],
   "source": []
  },
  {
   "cell_type": "code",
   "execution_count": 39,
   "metadata": {},
   "outputs": [],
   "source": [
    "df_i_2 = pd.DataFrame()\n",
    "for i in range(10,15):\n",
    "    filename = './splits_x/'+str(i)+'.json'\n",
    "    df_s = pd.read_json(filename,lines=True)\n",
    "    df_s.drop(columns=['review_text_incomplete'],inplace=True)\n",
    "    df_s.date_added = pd.to_datetime(df_s.date_added,infer_datetime_format=True, errors='coerce')\n",
    "    df_s.date_updated = pd.to_datetime(df_s.date_updated,infer_datetime_format=True, errors='coerce')\n",
    "    df_s.read_at = pd.to_datetime(df_s.read_at,infer_datetime_format=True, errors='coerce')\n",
    "    df_s.started_at = pd.to_datetime(df_s.started_at,infer_datetime_format=True, errors='coerce')\n",
    "    df_i_2 = pd.concat([df_i_2,df_s])"
   ]
  },
  {
   "cell_type": "code",
   "execution_count": 40,
   "metadata": {},
   "outputs": [],
   "source": [
    "df_i_2.to_pickle('df_i_2.pkl')"
   ]
  },
  {
   "cell_type": "code",
   "execution_count": null,
   "metadata": {},
   "outputs": [],
   "source": []
  },
  {
   "cell_type": "code",
   "execution_count": 41,
   "metadata": {},
   "outputs": [],
   "source": [
    "df_i_3 = pd.DataFrame()\n",
    "for i in range(15,20):\n",
    "    filename = './splits_x/'+str(i)+'.json'\n",
    "    df_s = pd.read_json(filename,lines=True)\n",
    "    df_s.drop(columns=['review_text_incomplete'],inplace=True)\n",
    "    df_s.date_added = pd.to_datetime(df_s.date_added,infer_datetime_format=True, errors='coerce')\n",
    "    df_s.date_updated = pd.to_datetime(df_s.date_updated,infer_datetime_format=True, errors='coerce')\n",
    "    df_s.read_at = pd.to_datetime(df_s.read_at,infer_datetime_format=True, errors='coerce')\n",
    "    df_s.started_at = pd.to_datetime(df_s.started_at,infer_datetime_format=True, errors='coerce')\n",
    "    df_i_3 = pd.concat([df_i_3,df_s])"
   ]
  },
  {
   "cell_type": "code",
   "execution_count": 42,
   "metadata": {},
   "outputs": [],
   "source": [
    "df_i_3.to_pickle('df_i_3.pkl')"
   ]
  },
  {
   "cell_type": "code",
   "execution_count": null,
   "metadata": {},
   "outputs": [],
   "source": []
  },
  {
   "cell_type": "code",
   "execution_count": 43,
   "metadata": {},
   "outputs": [],
   "source": [
    "df_i_4 = pd.DataFrame()\n",
    "for i in range(20,25):\n",
    "    filename = './splits_x/'+str(i)+'.json'\n",
    "    df_s = pd.read_json(filename,lines=True)\n",
    "    df_s.drop(columns=['review_text_incomplete'],inplace=True)\n",
    "    df_s.date_added = pd.to_datetime(df_s.date_added,infer_datetime_format=True, errors='coerce')\n",
    "    df_s.date_updated = pd.to_datetime(df_s.date_updated,infer_datetime_format=True, errors='coerce')\n",
    "    df_s.read_at = pd.to_datetime(df_s.read_at,infer_datetime_format=True, errors='coerce')\n",
    "    df_s.started_at = pd.to_datetime(df_s.started_at,infer_datetime_format=True, errors='coerce')\n",
    "    df_i_4 = pd.concat([df_i_4,df_s])"
   ]
  },
  {
   "cell_type": "code",
   "execution_count": 44,
   "metadata": {},
   "outputs": [],
   "source": [
    "df_i_4.to_pickle('df_i_4.pkl')"
   ]
  },
  {
   "cell_type": "code",
   "execution_count": null,
   "metadata": {},
   "outputs": [],
   "source": []
  },
  {
   "cell_type": "code",
   "execution_count": null,
   "metadata": {},
   "outputs": [],
   "source": []
  },
  {
   "cell_type": "code",
   "execution_count": null,
   "metadata": {},
   "outputs": [],
   "source": []
  },
  {
   "cell_type": "code",
   "execution_count": null,
   "metadata": {},
   "outputs": [],
   "source": []
  }
 ],
 "metadata": {
  "kernelspec": {
   "display_name": "Python 3",
   "language": "python",
   "name": "python3"
  },
  "language_info": {
   "codemirror_mode": {
    "name": "ipython",
    "version": 3
   },
   "file_extension": ".py",
   "mimetype": "text/x-python",
   "name": "python",
   "nbconvert_exporter": "python",
   "pygments_lexer": "ipython3",
   "version": "3.8.3"
  }
 },
 "nbformat": 4,
 "nbformat_minor": 4
}
