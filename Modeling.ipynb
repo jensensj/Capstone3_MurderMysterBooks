{
 "cells": [
  {
   "cell_type": "code",
   "execution_count": 1,
   "id": "purple-place",
   "metadata": {},
   "outputs": [],
   "source": [
    "import pandas as pd\n",
    "import numpy as np\n",
    "import seaborn as sns\n",
    "import matplotlib.pyplot as plt\n",
    "\n",
    "from surprise import SVD\n",
    "from surprise import BaselineOnly\n",
    "from surprise import SlopeOne\n",
    "from surprise import NormalPredictor\n",
    "from surprise import Reader\n",
    "from surprise import Dataset\n",
    "\n",
    "from surprise.model_selection import cross_validate\n",
    "from surprise.model_selection import train_test_split\n",
    "from surprise.model_selection import GridSearchCV\n",
    "from surprise import accuracy\n"
   ]
  },
  {
   "cell_type": "markdown",
   "id": "sticky-hearing",
   "metadata": {},
   "source": [
    "## Loading the data set"
   ]
  },
  {
   "cell_type": "code",
   "execution_count": 2,
   "id": "dietary-cemetery",
   "metadata": {},
   "outputs": [],
   "source": [
    "df = pd.read_pickle('df_rats.pkl')"
   ]
  },
  {
   "cell_type": "code",
   "execution_count": 3,
   "id": "demonstrated-links",
   "metadata": {},
   "outputs": [
    {
     "data": {
      "text/html": [
       "<div>\n",
       "<style scoped>\n",
       "    .dataframe tbody tr th:only-of-type {\n",
       "        vertical-align: middle;\n",
       "    }\n",
       "\n",
       "    .dataframe tbody tr th {\n",
       "        vertical-align: top;\n",
       "    }\n",
       "\n",
       "    .dataframe thead th {\n",
       "        text-align: right;\n",
       "    }\n",
       "</style>\n",
       "<table border=\"1\" class=\"dataframe\">\n",
       "  <thead>\n",
       "    <tr style=\"text-align: right;\">\n",
       "      <th></th>\n",
       "      <th>user_id</th>\n",
       "      <th>book_id</th>\n",
       "      <th>rating</th>\n",
       "      <th>best_book_id</th>\n",
       "    </tr>\n",
       "  </thead>\n",
       "  <tbody>\n",
       "    <tr>\n",
       "      <th>0</th>\n",
       "      <td>8842281e1d1347389f2ab93d60773d4d</td>\n",
       "      <td>22034</td>\n",
       "      <td>5</td>\n",
       "      <td>22034</td>\n",
       "    </tr>\n",
       "    <tr>\n",
       "      <th>1</th>\n",
       "      <td>bafc2d50014200cda7cb2b6acd60cd73</td>\n",
       "      <td>22034</td>\n",
       "      <td>5</td>\n",
       "      <td>22034</td>\n",
       "    </tr>\n",
       "    <tr>\n",
       "      <th>2</th>\n",
       "      <td>0ef32090550901ead25cb0ea21c4d36b</td>\n",
       "      <td>22034</td>\n",
       "      <td>4</td>\n",
       "      <td>22034</td>\n",
       "    </tr>\n",
       "    <tr>\n",
       "      <th>3</th>\n",
       "      <td>8489357f2f485c1a961d4cbdc54ea84b</td>\n",
       "      <td>22034</td>\n",
       "      <td>3</td>\n",
       "      <td>22034</td>\n",
       "    </tr>\n",
       "    <tr>\n",
       "      <th>4</th>\n",
       "      <td>623103c8b74b4e97b2077ff2fd33514b</td>\n",
       "      <td>22034</td>\n",
       "      <td>4</td>\n",
       "      <td>22034</td>\n",
       "    </tr>\n",
       "    <tr>\n",
       "      <th>...</th>\n",
       "      <td>...</td>\n",
       "      <td>...</td>\n",
       "      <td>...</td>\n",
       "      <td>...</td>\n",
       "    </tr>\n",
       "    <tr>\n",
       "      <th>10505812</th>\n",
       "      <td>f099c0c488290d550eff5200c64a3094</td>\n",
       "      <td>17853378</td>\n",
       "      <td>5</td>\n",
       "      <td>17853378</td>\n",
       "    </tr>\n",
       "    <tr>\n",
       "      <th>10505813</th>\n",
       "      <td>249f280eaa2398cab3e64faa2fd5f236</td>\n",
       "      <td>5709901</td>\n",
       "      <td>3</td>\n",
       "      <td>5709901</td>\n",
       "    </tr>\n",
       "    <tr>\n",
       "      <th>10505814</th>\n",
       "      <td>be6f3f764f0a4b665673671f177949d1</td>\n",
       "      <td>16075973</td>\n",
       "      <td>4</td>\n",
       "      <td>16075973</td>\n",
       "    </tr>\n",
       "    <tr>\n",
       "      <th>10505815</th>\n",
       "      <td>b82f3bff7672ffb52a0da25a9194c79d</td>\n",
       "      <td>6687280</td>\n",
       "      <td>4</td>\n",
       "      <td>6687280</td>\n",
       "    </tr>\n",
       "    <tr>\n",
       "      <th>10505816</th>\n",
       "      <td>9854bbe54c0ae146d9fe7f2aa24d6258</td>\n",
       "      <td>13625029</td>\n",
       "      <td>4</td>\n",
       "      <td>13625029</td>\n",
       "    </tr>\n",
       "  </tbody>\n",
       "</table>\n",
       "<p>10505817 rows × 4 columns</p>\n",
       "</div>"
      ],
      "text/plain": [
       "                                   user_id   book_id  rating  best_book_id\n",
       "0         8842281e1d1347389f2ab93d60773d4d     22034       5         22034\n",
       "1         bafc2d50014200cda7cb2b6acd60cd73     22034       5         22034\n",
       "2         0ef32090550901ead25cb0ea21c4d36b     22034       4         22034\n",
       "3         8489357f2f485c1a961d4cbdc54ea84b     22034       3         22034\n",
       "4         623103c8b74b4e97b2077ff2fd33514b     22034       4         22034\n",
       "...                                    ...       ...     ...           ...\n",
       "10505812  f099c0c488290d550eff5200c64a3094  17853378       5      17853378\n",
       "10505813  249f280eaa2398cab3e64faa2fd5f236   5709901       3       5709901\n",
       "10505814  be6f3f764f0a4b665673671f177949d1  16075973       4      16075973\n",
       "10505815  b82f3bff7672ffb52a0da25a9194c79d   6687280       4       6687280\n",
       "10505816  9854bbe54c0ae146d9fe7f2aa24d6258  13625029       4      13625029\n",
       "\n",
       "[10505817 rows x 4 columns]"
      ]
     },
     "execution_count": 3,
     "metadata": {},
     "output_type": "execute_result"
    }
   ],
   "source": [
    "df"
   ]
  },
  {
   "cell_type": "code",
   "execution_count": 4,
   "id": "short-virginia",
   "metadata": {},
   "outputs": [],
   "source": [
    "df.drop(columns=['best_book_id'],inplace = True)"
   ]
  },
  {
   "cell_type": "code",
   "execution_count": 5,
   "id": "narrow-senior",
   "metadata": {},
   "outputs": [],
   "source": [
    "reader = Reader(rating_scale=(0, 5))\n",
    "data = Dataset.load_from_df(df[['user_id', 'book_id', 'rating']], reader)"
   ]
  },
  {
   "cell_type": "code",
   "execution_count": 7,
   "id": "varied-hawaii",
   "metadata": {},
   "outputs": [],
   "source": [
    "train,test = train_test_split(data, test_size=0.2, random_state=47)"
   ]
  },
  {
   "cell_type": "code",
   "execution_count": null,
   "id": "photographic-participant",
   "metadata": {},
   "outputs": [],
   "source": []
  },
  {
   "cell_type": "code",
   "execution_count": 8,
   "id": "surface-filling",
   "metadata": {},
   "outputs": [],
   "source": [
    "predict_NP = NormalPredictor().fit(train).test(test)"
   ]
  },
  {
   "cell_type": "code",
   "execution_count": 11,
   "id": "alert-swaziland",
   "metadata": {},
   "outputs": [
    {
     "name": "stdout",
     "output_type": "stream",
     "text": [
      "RMSE: 1.7230\n"
     ]
    },
    {
     "data": {
      "text/plain": [
       "1.7230345283942123"
      ]
     },
     "execution_count": 11,
     "metadata": {},
     "output_type": "execute_result"
    }
   ],
   "source": [
    "accuracy.rmse(predict_NP)"
   ]
  },
  {
   "cell_type": "code",
   "execution_count": 12,
   "id": "floral-entrepreneur",
   "metadata": {},
   "outputs": [
    {
     "name": "stdout",
     "output_type": "stream",
     "text": [
      "Estimating biases using als...\n"
     ]
    }
   ],
   "source": [
    "predict_bo_als = BaselineOnly().fit(train).test(test)"
   ]
  },
  {
   "cell_type": "code",
   "execution_count": 13,
   "id": "standing-persian",
   "metadata": {},
   "outputs": [
    {
     "name": "stdout",
     "output_type": "stream",
     "text": [
      "RMSE: 1.1219\n"
     ]
    },
    {
     "data": {
      "text/plain": [
       "1.121923214371969"
      ]
     },
     "execution_count": 13,
     "metadata": {},
     "output_type": "execute_result"
    }
   ],
   "source": [
    "accuracy.rmse(predict_bo_als)"
   ]
  },
  {
   "cell_type": "code",
   "execution_count": null,
   "id": "arbitrary-telescope",
   "metadata": {},
   "outputs": [],
   "source": []
  },
  {
   "cell_type": "code",
   "execution_count": 15,
   "id": "lined-bridge",
   "metadata": {},
   "outputs": [
    {
     "name": "stdout",
     "output_type": "stream",
     "text": [
      "Estimating biases using sgd...\n"
     ]
    }
   ],
   "source": [
    "predict_bo_sgd = BaselineOnly(bsl_options = {'method': 'sgd'}).fit(train).test(test)"
   ]
  },
  {
   "cell_type": "code",
   "execution_count": 16,
   "id": "connected-stretch",
   "metadata": {},
   "outputs": [
    {
     "name": "stdout",
     "output_type": "stream",
     "text": [
      "RMSE: 1.1200\n"
     ]
    },
    {
     "data": {
      "text/plain": [
       "1.1199682065610777"
      ]
     },
     "execution_count": 16,
     "metadata": {},
     "output_type": "execute_result"
    }
   ],
   "source": [
    "accuracy.rmse(predict_bo_sgd)"
   ]
  },
  {
   "cell_type": "code",
   "execution_count": null,
   "id": "under-capitol",
   "metadata": {},
   "outputs": [],
   "source": []
  },
  {
   "cell_type": "code",
   "execution_count": 17,
   "id": "soviet-operator",
   "metadata": {},
   "outputs": [],
   "source": [
    "predict_svd = SVD().fit(train).test(test)"
   ]
  },
  {
   "cell_type": "code",
   "execution_count": 18,
   "id": "dense-midnight",
   "metadata": {},
   "outputs": [
    {
     "name": "stdout",
     "output_type": "stream",
     "text": [
      "RMSE: 1.1199\n"
     ]
    },
    {
     "data": {
      "text/plain": [
       "1.1198826510943596"
      ]
     },
     "execution_count": 18,
     "metadata": {},
     "output_type": "execute_result"
    }
   ],
   "source": [
    "accuracy.rmse(predict_svd)"
   ]
  },
  {
   "cell_type": "code",
   "execution_count": 19,
   "id": "sudden-night",
   "metadata": {},
   "outputs": [],
   "source": [
    "algorithms = ['NormalPredictor', 'BaselineOnly_als', 'BaselineOnly_sgd', 'SVD']"
   ]
  },
  {
   "cell_type": "code",
   "execution_count": 22,
   "id": "psychological-humanity",
   "metadata": {},
   "outputs": [
    {
     "name": "stdout",
     "output_type": "stream",
     "text": [
      "RMSE: 1.7230\n",
      "RMSE: 1.1219\n",
      "RMSE: 1.1200\n",
      "RMSE: 1.1199\n"
     ]
    }
   ],
   "source": [
    "RMSE = [accuracy.rmse(predict_NP),accuracy.rmse(predict_bo_als),accuracy.rmse(predict_bo_sgd),accuracy.rmse(predict_svd)]"
   ]
  },
  {
   "cell_type": "code",
   "execution_count": 23,
   "id": "expensive-strand",
   "metadata": {},
   "outputs": [
    {
     "name": "stdout",
     "output_type": "stream",
     "text": [
      "MSE: 2.9688\n",
      "MSE: 1.2587\n",
      "MSE: 1.2543\n",
      "MSE: 1.2541\n"
     ]
    }
   ],
   "source": [
    "MSE = [accuracy.mse(predict_NP),accuracy.mse(predict_bo_als),accuracy.mse(predict_bo_sgd),accuracy.mse(predict_svd)]"
   ]
  },
  {
   "cell_type": "code",
   "execution_count": 24,
   "id": "heard-feeling",
   "metadata": {},
   "outputs": [
    {
     "name": "stdout",
     "output_type": "stream",
     "text": [
      "MAE:  1.3388\n",
      "MAE:  0.8153\n",
      "MAE:  0.8190\n",
      "MAE:  0.8019\n"
     ]
    }
   ],
   "source": [
    "MAE = [accuracy.mae(predict_NP),accuracy.mae(predict_bo_als),accuracy.mae(predict_bo_sgd),accuracy.mae(predict_svd)]"
   ]
  },
  {
   "cell_type": "code",
   "execution_count": 34,
   "id": "spoken-shepherd",
   "metadata": {},
   "outputs": [],
   "source": [
    "metrics = pd.DataFrame(index=algorithms)"
   ]
  },
  {
   "cell_type": "code",
   "execution_count": 37,
   "id": "cleared-magnitude",
   "metadata": {},
   "outputs": [],
   "source": [
    "metrics[0] = RMSE\n",
    "metrics[1] = MSE\n",
    "metrics[2] = MAE"
   ]
  },
  {
   "cell_type": "code",
   "execution_count": 39,
   "id": "falling-reader",
   "metadata": {},
   "outputs": [],
   "source": [
    "metrics.columns = ['RMSE', 'MSE', 'MAE']"
   ]
  },
  {
   "cell_type": "code",
   "execution_count": 40,
   "id": "patent-found",
   "metadata": {},
   "outputs": [
    {
     "data": {
      "text/html": [
       "<div>\n",
       "<style scoped>\n",
       "    .dataframe tbody tr th:only-of-type {\n",
       "        vertical-align: middle;\n",
       "    }\n",
       "\n",
       "    .dataframe tbody tr th {\n",
       "        vertical-align: top;\n",
       "    }\n",
       "\n",
       "    .dataframe thead th {\n",
       "        text-align: right;\n",
       "    }\n",
       "</style>\n",
       "<table border=\"1\" class=\"dataframe\">\n",
       "  <thead>\n",
       "    <tr style=\"text-align: right;\">\n",
       "      <th></th>\n",
       "      <th>RMSE</th>\n",
       "      <th>MSE</th>\n",
       "      <th>MAE</th>\n",
       "    </tr>\n",
       "  </thead>\n",
       "  <tbody>\n",
       "    <tr>\n",
       "      <th>NormalPredictor</th>\n",
       "      <td>1.723035</td>\n",
       "      <td>2.968848</td>\n",
       "      <td>1.338751</td>\n",
       "    </tr>\n",
       "    <tr>\n",
       "      <th>BaselineOnly_als</th>\n",
       "      <td>1.121923</td>\n",
       "      <td>1.258712</td>\n",
       "      <td>0.815304</td>\n",
       "    </tr>\n",
       "    <tr>\n",
       "      <th>BaselineOnly_sgd</th>\n",
       "      <td>1.119968</td>\n",
       "      <td>1.254329</td>\n",
       "      <td>0.818951</td>\n",
       "    </tr>\n",
       "    <tr>\n",
       "      <th>SVD</th>\n",
       "      <td>1.119883</td>\n",
       "      <td>1.254137</td>\n",
       "      <td>0.801898</td>\n",
       "    </tr>\n",
       "  </tbody>\n",
       "</table>\n",
       "</div>"
      ],
      "text/plain": [
       "                      RMSE       MSE       MAE\n",
       "NormalPredictor   1.723035  2.968848  1.338751\n",
       "BaselineOnly_als  1.121923  1.258712  0.815304\n",
       "BaselineOnly_sgd  1.119968  1.254329  0.818951\n",
       "SVD               1.119883  1.254137  0.801898"
      ]
     },
     "execution_count": 40,
     "metadata": {},
     "output_type": "execute_result"
    }
   ],
   "source": [
    "metrics"
   ]
  },
  {
   "cell_type": "code",
   "execution_count": 41,
   "id": "threaded-folder",
   "metadata": {},
   "outputs": [],
   "source": [
    "metrics.to_csv('metricsfile.csv')"
   ]
  },
  {
   "cell_type": "markdown",
   "id": "ordered-pointer",
   "metadata": {},
   "source": [
    "BaselineOnly and SVD are very close performers, but BaselineOnly is much less computataionlly expensive so we will move forward with that one. "
   ]
  },
  {
   "cell_type": "code",
   "execution_count": null,
   "id": "dominican-porter",
   "metadata": {},
   "outputs": [],
   "source": []
  },
  {
   "cell_type": "code",
   "execution_count": null,
   "id": "bronze-supervisor",
   "metadata": {},
   "outputs": [],
   "source": []
  },
  {
   "cell_type": "code",
   "execution_count": 7,
   "id": "daily-white",
   "metadata": {},
   "outputs": [],
   "source": [
    "reader = Reader(rating_scale=(0, 5))\n",
    "data = Dataset.load_from_df(df[['user_id', 'book_id', 'rating']], reader)"
   ]
  },
  {
   "cell_type": "code",
   "execution_count": 12,
   "id": "fatal-preview",
   "metadata": {},
   "outputs": [],
   "source": [
    "train,test = train_test_split(data, test_size=0.2, random_state=47)"
   ]
  },
  {
   "cell_type": "code",
   "execution_count": null,
   "id": "violent-behalf",
   "metadata": {},
   "outputs": [],
   "source": [
    "# Tested: n_epochs 12,18 and reg 0.02, 0.01. both had RMSE of 1.12, higher than standard params"
   ]
  },
  {
   "cell_type": "code",
   "execution_count": 75,
   "id": "functioning-portrait",
   "metadata": {},
   "outputs": [],
   "source": [
    "bsl_options = {'method': 'sgd',\n",
    "               'reg':0.5,\n",
    "               'learning_rate': .005,\n",
    "               'n_epochs': 25\n",
    "               }"
   ]
  },
  {
   "cell_type": "code",
   "execution_count": 76,
   "id": "healthy-prevention",
   "metadata": {},
   "outputs": [
    {
     "name": "stdout",
     "output_type": "stream",
     "text": [
      "Estimating biases using sgd...\n"
     ]
    }
   ],
   "source": [
    "model_sgd = BaselineOnly(bsl_options = bsl_options).fit(train)"
   ]
  },
  {
   "cell_type": "code",
   "execution_count": 77,
   "id": "married-jefferson",
   "metadata": {},
   "outputs": [],
   "source": [
    "preds = model_sgd.test(test)"
   ]
  },
  {
   "cell_type": "code",
   "execution_count": 78,
   "id": "northern-lloyd",
   "metadata": {},
   "outputs": [
    {
     "name": "stdout",
     "output_type": "stream",
     "text": [
      "RMSE: 1.1331\n"
     ]
    }
   ],
   "source": [
    "parms_500525 = accuracy.rmse(preds)"
   ]
  },
  {
   "cell_type": "code",
   "execution_count": 79,
   "id": "eleven-individual",
   "metadata": {},
   "outputs": [
    {
     "data": {
      "text/plain": [
       "1.1330510475375668"
      ]
     },
     "execution_count": 79,
     "metadata": {},
     "output_type": "execute_result"
    }
   ],
   "source": [
    "parms_500525"
   ]
  },
  {
   "cell_type": "code",
   "execution_count": null,
   "id": "attractive-continent",
   "metadata": {},
   "outputs": [],
   "source": []
  },
  {
   "cell_type": "code",
   "execution_count": null,
   "id": "stunning-illinois",
   "metadata": {},
   "outputs": [],
   "source": []
  },
  {
   "cell_type": "code",
   "execution_count": 38,
   "id": "universal-highlight",
   "metadata": {},
   "outputs": [
    {
     "name": "stdout",
     "output_type": "stream",
     "text": [
      "RMSE: 1.1219\n"
     ]
    }
   ],
   "source": [
    "Standard_params = accuracy.rmse(preds)"
   ]
  },
  {
   "cell_type": "code",
   "execution_count": 44,
   "id": "heavy-commission",
   "metadata": {},
   "outputs": [
    {
     "data": {
      "text/plain": [
       "1.1578101439212658"
      ]
     },
     "execution_count": 44,
     "metadata": {},
     "output_type": "execute_result"
    }
   ],
   "source": [
    "parms_010512"
   ]
  },
  {
   "cell_type": "code",
   "execution_count": 50,
   "id": "intellectual-gates",
   "metadata": {},
   "outputs": [
    {
     "data": {
      "text/plain": [
       "1.1888492258562413"
      ]
     },
     "execution_count": 50,
     "metadata": {},
     "output_type": "execute_result"
    }
   ],
   "source": [
    "parms_0100512"
   ]
  },
  {
   "cell_type": "code",
   "execution_count": 56,
   "id": "thermal-tractor",
   "metadata": {},
   "outputs": [
    {
     "data": {
      "text/plain": [
       "1.1200360449938294"
      ]
     },
     "execution_count": 56,
     "metadata": {},
     "output_type": "execute_result"
    }
   ],
   "source": [
    "parms_0100520"
   ]
  },
  {
   "cell_type": "code",
   "execution_count": 62,
   "id": "modular-ireland",
   "metadata": {},
   "outputs": [
    {
     "data": {
      "text/plain": [
       "1.1184975433756525"
      ]
     },
     "execution_count": 62,
     "metadata": {},
     "output_type": "execute_result"
    }
   ],
   "source": [
    "parms_0100525"
   ]
  },
  {
   "cell_type": "code",
   "execution_count": 68,
   "id": "retained-chaos",
   "metadata": {},
   "outputs": [
    {
     "data": {
      "text/plain": [
       "1.118403698114278"
      ]
     },
     "execution_count": 68,
     "metadata": {},
     "output_type": "execute_result"
    }
   ],
   "source": [
    "parms_0200525"
   ]
  },
  {
   "cell_type": "code",
   "execution_count": 74,
   "id": "specific-heater",
   "metadata": {},
   "outputs": [
    {
     "data": {
      "text/plain": [
       "1.1183417981586508"
      ]
     },
     "execution_count": 74,
     "metadata": {},
     "output_type": "execute_result"
    }
   ],
   "source": [
    "parms_0300525"
   ]
  },
  {
   "cell_type": "code",
   "execution_count": 80,
   "id": "artificial-citation",
   "metadata": {},
   "outputs": [
    {
     "data": {
      "text/plain": [
       "1.1330510475375668"
      ]
     },
     "execution_count": 80,
     "metadata": {},
     "output_type": "execute_result"
    }
   ],
   "source": [
    "parms_500525"
   ]
  },
  {
   "cell_type": "code",
   "execution_count": null,
   "id": "flying-coaching",
   "metadata": {},
   "outputs": [],
   "source": []
  },
  {
   "cell_type": "code",
   "execution_count": null,
   "id": "frozen-renewal",
   "metadata": {},
   "outputs": [],
   "source": []
  },
  {
   "cell_type": "code",
   "execution_count": 81,
   "id": "numerical-campus",
   "metadata": {},
   "outputs": [
    {
     "data": {
      "text/plain": [
       "1.1183417981586508"
      ]
     },
     "execution_count": 81,
     "metadata": {},
     "output_type": "execute_result"
    }
   ],
   "source": [
    "parms_0300525"
   ]
  },
  {
   "cell_type": "code",
   "execution_count": 6,
   "id": "preliminary-reconstruction",
   "metadata": {},
   "outputs": [],
   "source": [
    "bsl_best = {'method': 'sgd',\n",
    "               'reg':0.03,\n",
    "               'learning_rate': .005,\n",
    "               'n_epochs': 25\n",
    "               }"
   ]
  },
  {
   "cell_type": "code",
   "execution_count": 7,
   "id": "underlying-malawi",
   "metadata": {},
   "outputs": [],
   "source": [
    "train1,test1 = train_test_split(data, test_size=0.2, random_state=40)\n",
    "#train2,test2 = train_test_split(data, test_size=0.2, random_state=13)\n",
    "#train3,test3 = train_test_split(data, test_size=0.2, random_state=25)"
   ]
  },
  {
   "cell_type": "code",
   "execution_count": 8,
   "id": "controlled-elder",
   "metadata": {},
   "outputs": [],
   "source": [
    "algo_best = BaselineOnly(bsl_options = bsl_best)"
   ]
  },
  {
   "cell_type": "code",
   "execution_count": 9,
   "id": "detected-eagle",
   "metadata": {},
   "outputs": [
    {
     "name": "stdout",
     "output_type": "stream",
     "text": [
      "Estimating biases using sgd...\n"
     ]
    }
   ],
   "source": [
    "model = algo_best.fit(train1)"
   ]
  },
  {
   "cell_type": "code",
   "execution_count": null,
   "id": "million-delhi",
   "metadata": {},
   "outputs": [],
   "source": []
  },
  {
   "cell_type": "code",
   "execution_count": 10,
   "id": "prescription-overview",
   "metadata": {},
   "outputs": [],
   "source": [
    "predictions = model.test(test1)"
   ]
  },
  {
   "cell_type": "code",
   "execution_count": 11,
   "id": "palestinian-stereo",
   "metadata": {},
   "outputs": [],
   "source": [
    "pred_df = pd.DataFrame(predictions)"
   ]
  },
  {
   "cell_type": "code",
   "execution_count": null,
   "id": "hundred-portable",
   "metadata": {},
   "outputs": [],
   "source": [
    "pred_df.to_pickle('pred_df.pkl')"
   ]
  },
  {
   "cell_type": "code",
   "execution_count": null,
   "id": "plain-dispute",
   "metadata": {},
   "outputs": [],
   "source": [
    "rmse = accuracy.rmse(predictions)\n",
    "mse = accuracy.mse(predictions)\n",
    "mae = accuracy.mae(predictions)\n",
    "fcp = accuracy.fcp(predictions)"
   ]
  },
  {
   "cell_type": "code",
   "execution_count": null,
   "id": "fifty-comparison",
   "metadata": {},
   "outputs": [],
   "source": [
    "metrics_best = pd.DataFrame(index=['RMSE', 'MSE', 'MAE', 'FCP'])"
   ]
  },
  {
   "cell_type": "code",
   "execution_count": null,
   "id": "substantial-weekend",
   "metadata": {},
   "outputs": [],
   "source": [
    "metrics_best[0] = ([rmse,mse,mae,fcp])"
   ]
  },
  {
   "cell_type": "code",
   "execution_count": null,
   "id": "electoral-carbon",
   "metadata": {},
   "outputs": [],
   "source": [
    "metrics_best.columns = ['Measurement Value']\n",
    "metrics_best"
   ]
  },
  {
   "cell_type": "code",
   "execution_count": 22,
   "id": "handy-failing",
   "metadata": {},
   "outputs": [],
   "source": [
    "metrics_best.to_csv('metrics_best_model.csv')"
   ]
  },
  {
   "cell_type": "code",
   "execution_count": 13,
   "id": "flying-horse",
   "metadata": {},
   "outputs": [],
   "source": [
    "def get_Iu(uid):\n",
    "    \"\"\" return the number of items rated by given user\n",
    "    args: \n",
    "      uid: the id of the user\n",
    "    returns: \n",
    "      the number of items rated by the user\n",
    "    \"\"\"\n",
    "    try:\n",
    "        return len(train1.ur[train1.to_inner_uid(uid)])\n",
    "    except ValueError: # user was not part of the trainset\n",
    "        return 0\n",
    "    \n",
    "def get_Ui(iid):\n",
    "    \"\"\" return number of users that have rated given item\n",
    "    args:\n",
    "      iid: the raw id of the item\n",
    "    returns:\n",
    "      the number of users that have rated the item.\n",
    "    \"\"\"\n",
    "    try: \n",
    "        return len(train1.ir[train1.to_inner_iid(iid)])\n",
    "    except ValueError:\n",
    "        return 0\n",
    "    \n",
    "df = pd.DataFrame(predictions, columns=['user_id', 'book_id', 'user_rating', 'pred_rating', 'details'])\n",
    "df['NumberBooksRated'] = df.user_id.apply(get_Iu)\n",
    "df['NumberUsersRated'] = df.book_id.apply(get_Ui)\n",
    "df['err'] = abs(df.pred_rating - df.user_rating)\n",
    "df=df[['user_id','NumberBooksRated','book_id','NumberUsersRated','user_rating','pred_rating','err']]\n",
    "best_predictions = df.sort_values(by='err')[:10]\n",
    "worst_predictions = df.sort_values(by='err')[-10:]"
   ]
  },
  {
   "cell_type": "code",
   "execution_count": 18,
   "id": "international-appliance",
   "metadata": {},
   "outputs": [
    {
     "data": {
      "text/html": [
       "<div>\n",
       "<style scoped>\n",
       "    .dataframe tbody tr th:only-of-type {\n",
       "        vertical-align: middle;\n",
       "    }\n",
       "\n",
       "    .dataframe tbody tr th {\n",
       "        vertical-align: top;\n",
       "    }\n",
       "\n",
       "    .dataframe thead th {\n",
       "        text-align: right;\n",
       "    }\n",
       "</style>\n",
       "<table border=\"1\" class=\"dataframe\">\n",
       "  <thead>\n",
       "    <tr style=\"text-align: right;\">\n",
       "      <th></th>\n",
       "      <th>user_id</th>\n",
       "      <th>NumberBooksRated</th>\n",
       "      <th>book_id</th>\n",
       "      <th>NumberUsersRated</th>\n",
       "      <th>user_rating</th>\n",
       "      <th>pred_rating</th>\n",
       "      <th>err</th>\n",
       "    </tr>\n",
       "  </thead>\n",
       "  <tbody>\n",
       "    <tr>\n",
       "      <th>1376011</th>\n",
       "      <td>4fef3afa60ade8c236bc4df9becb9634</td>\n",
       "      <td>105</td>\n",
       "      <td>109367</td>\n",
       "      <td>2146</td>\n",
       "      <td>5.0</td>\n",
       "      <td>5.0</td>\n",
       "      <td>0.0</td>\n",
       "    </tr>\n",
       "    <tr>\n",
       "      <th>1210490</th>\n",
       "      <td>99dffbb50bd4b9fcd2def5e15892fd6b</td>\n",
       "      <td>644</td>\n",
       "      <td>102916</td>\n",
       "      <td>474</td>\n",
       "      <td>5.0</td>\n",
       "      <td>5.0</td>\n",
       "      <td>0.0</td>\n",
       "    </tr>\n",
       "    <tr>\n",
       "      <th>609069</th>\n",
       "      <td>2befe9e8779e20ecc25756c4442e0187</td>\n",
       "      <td>29</td>\n",
       "      <td>33816696</td>\n",
       "      <td>311</td>\n",
       "      <td>0.0</td>\n",
       "      <td>0.0</td>\n",
       "      <td>0.0</td>\n",
       "    </tr>\n",
       "    <tr>\n",
       "      <th>777233</th>\n",
       "      <td>fab365ded22c794af85618a6e85c2c41</td>\n",
       "      <td>364</td>\n",
       "      <td>291340</td>\n",
       "      <td>129</td>\n",
       "      <td>5.0</td>\n",
       "      <td>5.0</td>\n",
       "      <td>0.0</td>\n",
       "    </tr>\n",
       "    <tr>\n",
       "      <th>356809</th>\n",
       "      <td>e3bfa08e0060220527558a18d80ceefd</td>\n",
       "      <td>142</td>\n",
       "      <td>76867</td>\n",
       "      <td>1976</td>\n",
       "      <td>5.0</td>\n",
       "      <td>5.0</td>\n",
       "      <td>0.0</td>\n",
       "    </tr>\n",
       "    <tr>\n",
       "      <th>1041088</th>\n",
       "      <td>0cc9fa7d133b1f9aa821dad0b265cf3b</td>\n",
       "      <td>52</td>\n",
       "      <td>599957</td>\n",
       "      <td>652</td>\n",
       "      <td>5.0</td>\n",
       "      <td>5.0</td>\n",
       "      <td>0.0</td>\n",
       "    </tr>\n",
       "    <tr>\n",
       "      <th>687624</th>\n",
       "      <td>e7e3b0384e2faca2d563d90e68bc3354</td>\n",
       "      <td>35</td>\n",
       "      <td>2277444</td>\n",
       "      <td>1644</td>\n",
       "      <td>5.0</td>\n",
       "      <td>5.0</td>\n",
       "      <td>0.0</td>\n",
       "    </tr>\n",
       "    <tr>\n",
       "      <th>198367</th>\n",
       "      <td>be7f617080963fcd10fc3419ea35a26e</td>\n",
       "      <td>72</td>\n",
       "      <td>439092</td>\n",
       "      <td>438</td>\n",
       "      <td>5.0</td>\n",
       "      <td>5.0</td>\n",
       "      <td>0.0</td>\n",
       "    </tr>\n",
       "    <tr>\n",
       "      <th>382187</th>\n",
       "      <td>c610c52a15a312aeb73e4408ee0cb380</td>\n",
       "      <td>38</td>\n",
       "      <td>79885</td>\n",
       "      <td>7234</td>\n",
       "      <td>5.0</td>\n",
       "      <td>5.0</td>\n",
       "      <td>0.0</td>\n",
       "    </tr>\n",
       "    <tr>\n",
       "      <th>1772641</th>\n",
       "      <td>a7109a9fe1ea8d7bdcc6858209991a28</td>\n",
       "      <td>255</td>\n",
       "      <td>18331318</td>\n",
       "      <td>14</td>\n",
       "      <td>5.0</td>\n",
       "      <td>5.0</td>\n",
       "      <td>0.0</td>\n",
       "    </tr>\n",
       "  </tbody>\n",
       "</table>\n",
       "</div>"
      ],
      "text/plain": [
       "                                  user_id  NumberBooksRated   book_id  \\\n",
       "1376011  4fef3afa60ade8c236bc4df9becb9634               105    109367   \n",
       "1210490  99dffbb50bd4b9fcd2def5e15892fd6b               644    102916   \n",
       "609069   2befe9e8779e20ecc25756c4442e0187                29  33816696   \n",
       "777233   fab365ded22c794af85618a6e85c2c41               364    291340   \n",
       "356809   e3bfa08e0060220527558a18d80ceefd               142     76867   \n",
       "1041088  0cc9fa7d133b1f9aa821dad0b265cf3b                52    599957   \n",
       "687624   e7e3b0384e2faca2d563d90e68bc3354                35   2277444   \n",
       "198367   be7f617080963fcd10fc3419ea35a26e                72    439092   \n",
       "382187   c610c52a15a312aeb73e4408ee0cb380                38     79885   \n",
       "1772641  a7109a9fe1ea8d7bdcc6858209991a28               255  18331318   \n",
       "\n",
       "         NumberUsersRated  user_rating  pred_rating  err  \n",
       "1376011              2146          5.0          5.0  0.0  \n",
       "1210490               474          5.0          5.0  0.0  \n",
       "609069                311          0.0          0.0  0.0  \n",
       "777233                129          5.0          5.0  0.0  \n",
       "356809               1976          5.0          5.0  0.0  \n",
       "1041088               652          5.0          5.0  0.0  \n",
       "687624               1644          5.0          5.0  0.0  \n",
       "198367                438          5.0          5.0  0.0  \n",
       "382187               7234          5.0          5.0  0.0  \n",
       "1772641                14          5.0          5.0  0.0  "
      ]
     },
     "execution_count": 18,
     "metadata": {},
     "output_type": "execute_result"
    }
   ],
   "source": [
    "best_predictions"
   ]
  },
  {
   "cell_type": "code",
   "execution_count": 19,
   "id": "vital-binding",
   "metadata": {},
   "outputs": [
    {
     "data": {
      "text/html": [
       "<div>\n",
       "<style scoped>\n",
       "    .dataframe tbody tr th:only-of-type {\n",
       "        vertical-align: middle;\n",
       "    }\n",
       "\n",
       "    .dataframe tbody tr th {\n",
       "        vertical-align: top;\n",
       "    }\n",
       "\n",
       "    .dataframe thead th {\n",
       "        text-align: right;\n",
       "    }\n",
       "</style>\n",
       "<table border=\"1\" class=\"dataframe\">\n",
       "  <thead>\n",
       "    <tr style=\"text-align: right;\">\n",
       "      <th></th>\n",
       "      <th>user_id</th>\n",
       "      <th>NumberBooksRated</th>\n",
       "      <th>book_id</th>\n",
       "      <th>NumberUsersRated</th>\n",
       "      <th>user_rating</th>\n",
       "      <th>pred_rating</th>\n",
       "      <th>err</th>\n",
       "    </tr>\n",
       "  </thead>\n",
       "  <tbody>\n",
       "    <tr>\n",
       "      <th>1246894</th>\n",
       "      <td>200ca22eb70cd0edb565b7c773d1111f</td>\n",
       "      <td>118</td>\n",
       "      <td>830502</td>\n",
       "      <td>9140</td>\n",
       "      <td>5.0</td>\n",
       "      <td>0.0</td>\n",
       "      <td>5.0</td>\n",
       "    </tr>\n",
       "    <tr>\n",
       "      <th>1011850</th>\n",
       "      <td>59993e76e7f9608cfb1f25e408bd300c</td>\n",
       "      <td>35</td>\n",
       "      <td>36049900</td>\n",
       "      <td>26</td>\n",
       "      <td>0.0</td>\n",
       "      <td>5.0</td>\n",
       "      <td>5.0</td>\n",
       "    </tr>\n",
       "    <tr>\n",
       "      <th>2003772</th>\n",
       "      <td>14b8db41331404b6baea2f8d443067b8</td>\n",
       "      <td>477</td>\n",
       "      <td>17465443</td>\n",
       "      <td>325</td>\n",
       "      <td>0.0</td>\n",
       "      <td>5.0</td>\n",
       "      <td>5.0</td>\n",
       "    </tr>\n",
       "    <tr>\n",
       "      <th>155518</th>\n",
       "      <td>2cc9f0371074a92ff67ea3b6c2ec38fe</td>\n",
       "      <td>214</td>\n",
       "      <td>9925913</td>\n",
       "      <td>661</td>\n",
       "      <td>0.0</td>\n",
       "      <td>5.0</td>\n",
       "      <td>5.0</td>\n",
       "    </tr>\n",
       "    <tr>\n",
       "      <th>1498764</th>\n",
       "      <td>fa1b5c9dbc318d9cf640f00827199737</td>\n",
       "      <td>33</td>\n",
       "      <td>138683</td>\n",
       "      <td>1157</td>\n",
       "      <td>0.0</td>\n",
       "      <td>5.0</td>\n",
       "      <td>5.0</td>\n",
       "    </tr>\n",
       "    <tr>\n",
       "      <th>1781361</th>\n",
       "      <td>5439786704dc1c6e3138752815ed9439</td>\n",
       "      <td>29</td>\n",
       "      <td>27067091</td>\n",
       "      <td>38</td>\n",
       "      <td>0.0</td>\n",
       "      <td>5.0</td>\n",
       "      <td>5.0</td>\n",
       "    </tr>\n",
       "    <tr>\n",
       "      <th>434753</th>\n",
       "      <td>626ac05dfbf6998216c8d2465249f9c6</td>\n",
       "      <td>41</td>\n",
       "      <td>775346</td>\n",
       "      <td>3081</td>\n",
       "      <td>5.0</td>\n",
       "      <td>0.0</td>\n",
       "      <td>5.0</td>\n",
       "    </tr>\n",
       "    <tr>\n",
       "      <th>1602459</th>\n",
       "      <td>4dafd362fec9f65bdc2716a213483049</td>\n",
       "      <td>82</td>\n",
       "      <td>27206481</td>\n",
       "      <td>88</td>\n",
       "      <td>5.0</td>\n",
       "      <td>0.0</td>\n",
       "      <td>5.0</td>\n",
       "    </tr>\n",
       "    <tr>\n",
       "      <th>2015105</th>\n",
       "      <td>33758e6e89fc5e55a53babbbf18c78eb</td>\n",
       "      <td>15</td>\n",
       "      <td>28186363</td>\n",
       "      <td>952</td>\n",
       "      <td>0.0</td>\n",
       "      <td>5.0</td>\n",
       "      <td>5.0</td>\n",
       "    </tr>\n",
       "    <tr>\n",
       "      <th>737069</th>\n",
       "      <td>39c62913421731d26384be04da7fddab</td>\n",
       "      <td>55</td>\n",
       "      <td>175244</td>\n",
       "      <td>536</td>\n",
       "      <td>0.0</td>\n",
       "      <td>5.0</td>\n",
       "      <td>5.0</td>\n",
       "    </tr>\n",
       "  </tbody>\n",
       "</table>\n",
       "</div>"
      ],
      "text/plain": [
       "                                  user_id  NumberBooksRated   book_id  \\\n",
       "1246894  200ca22eb70cd0edb565b7c773d1111f               118    830502   \n",
       "1011850  59993e76e7f9608cfb1f25e408bd300c                35  36049900   \n",
       "2003772  14b8db41331404b6baea2f8d443067b8               477  17465443   \n",
       "155518   2cc9f0371074a92ff67ea3b6c2ec38fe               214   9925913   \n",
       "1498764  fa1b5c9dbc318d9cf640f00827199737                33    138683   \n",
       "1781361  5439786704dc1c6e3138752815ed9439                29  27067091   \n",
       "434753   626ac05dfbf6998216c8d2465249f9c6                41    775346   \n",
       "1602459  4dafd362fec9f65bdc2716a213483049                82  27206481   \n",
       "2015105  33758e6e89fc5e55a53babbbf18c78eb                15  28186363   \n",
       "737069   39c62913421731d26384be04da7fddab                55    175244   \n",
       "\n",
       "         NumberUsersRated  user_rating  pred_rating  err  \n",
       "1246894              9140          5.0          0.0  5.0  \n",
       "1011850                26          0.0          5.0  5.0  \n",
       "2003772               325          0.0          5.0  5.0  \n",
       "155518                661          0.0          5.0  5.0  \n",
       "1498764              1157          0.0          5.0  5.0  \n",
       "1781361                38          0.0          5.0  5.0  \n",
       "434753               3081          5.0          0.0  5.0  \n",
       "1602459                88          5.0          0.0  5.0  \n",
       "2015105               952          0.0          5.0  5.0  \n",
       "737069                536          0.0          5.0  5.0  "
      ]
     },
     "execution_count": 19,
     "metadata": {},
     "output_type": "execute_result"
    }
   ],
   "source": [
    "worst_predictions"
   ]
  },
  {
   "cell_type": "code",
   "execution_count": null,
   "id": "aboriginal-affect",
   "metadata": {},
   "outputs": [],
   "source": []
  },
  {
   "cell_type": "code",
   "execution_count": null,
   "id": "hydraulic-chancellor",
   "metadata": {},
   "outputs": [],
   "source": [
    "df_2 = pd.read_pickle('df_rats.pkl')"
   ]
  },
  {
   "cell_type": "code",
   "execution_count": null,
   "id": "historical-eugene",
   "metadata": {},
   "outputs": [],
   "source": [
    "df_2.drop(columns=['best_book_id'],inplace = True)"
   ]
  },
  {
   "cell_type": "code",
   "execution_count": 42,
   "id": "removable-handle",
   "metadata": {},
   "outputs": [
    {
     "data": {
      "image/png": "[encoded data removed]",
      "text/plain": [
       "<Figure size 432x288 with 1 Axes>"
      ]
     },
     "metadata": {
      "needs_background": "light"
     },
     "output_type": "display_data"
    }
   ],
   "source": [
    "for i in worst_predictions.book_id:\n",
    "    df_2.rating[df_2.book_id == i].hist()"
   ]
  },
  {
   "cell_type": "code",
   "execution_count": 43,
   "id": "ignored-wilderness",
   "metadata": {},
   "outputs": [
    {
     "data": {
      "image/png": "[encoded data removed]",
      "text/plain": [
       "<Figure size 432x288 with 1 Axes>"
      ]
     },
     "metadata": {
      "needs_background": "light"
     },
     "output_type": "display_data"
    }
   ],
   "source": [
    "for i in best_predictions.book_id:\n",
    "    df_2.rating[df_2.book_id == i].hist()"
   ]
  },
  {
   "cell_type": "code",
   "execution_count": 46,
   "id": "reduced-reggae",
   "metadata": {},
   "outputs": [
    {
     "data": {
      "text/plain": [
       "count    2.101164e+06\n",
       "mean     8.173523e-01\n",
       "std      7.632741e-01\n",
       "min      0.000000e+00\n",
       "25%      2.886449e-01\n",
       "50%      6.109919e-01\n",
       "75%      1.093019e+00\n",
       "max      5.000000e+00\n",
       "Name: err, dtype: float64"
      ]
     },
     "execution_count": 46,
     "metadata": {},
     "output_type": "execute_result"
    }
   ],
   "source": [
    "df.err.describe()"
   ]
  },
  {
   "cell_type": "code",
   "execution_count": 47,
   "id": "gentle-addiction",
   "metadata": {},
   "outputs": [
    {
     "data": {
      "text/plain": [
       "<AxesSubplot:xlabel='err', ylabel='Count'>"
      ]
     },
     "execution_count": 47,
     "metadata": {},
     "output_type": "execute_result"
    },
    {
     "data": {
      "image/png": "[encoded data removed]",
      "text/plain": [
       "<Figure size 432x288 with 1 Axes>"
      ]
     },
     "metadata": {
      "needs_background": "light"
     },
     "output_type": "display_data"
    }
   ],
   "source": [
    "sns.histplot(data=df, x = 'err')"
   ]
  },
  {
   "cell_type": "code",
   "execution_count": 48,
   "id": "occasional-renaissance",
   "metadata": {},
   "outputs": [],
   "source": [
    "#Looking at error for actual rating > 4"
   ]
  },
  {
   "cell_type": "code",
   "execution_count": 65,
   "id": "theoretical-disco",
   "metadata": {},
   "outputs": [
    {
     "data": {
      "text/plain": [
       "<AxesSubplot:xlabel='err', ylabel='Count'>"
      ]
     },
     "execution_count": 65,
     "metadata": {},
     "output_type": "execute_result"
    },
    {
     "data": {
      "image/png": "[encoded data removed]",
      "text/plain": [
       "<Figure size 432x288 with 1 Axes>"
      ]
     },
     "metadata": {
      "needs_background": "light"
     },
     "output_type": "display_data"
    }
   ],
   "source": [
    "sns.histplot(data = df[df.user_rating >3], x = 'err', hue='Sign')"
   ]
  },
  {
   "cell_type": "code",
   "execution_count": 66,
   "id": "compact-english",
   "metadata": {},
   "outputs": [
    {
     "data": {
      "text/plain": [
       "<AxesSubplot:xlabel='err', ylabel='Count'>"
      ]
     },
     "execution_count": 66,
     "metadata": {},
     "output_type": "execute_result"
    },
    {
     "data": {
      "image/png": "[encoded data removed]",
      "text/plain": [
       "<Figure size 432x288 with 1 Axes>"
      ]
     },
     "metadata": {
      "needs_background": "light"
     },
     "output_type": "display_data"
    }
   ],
   "source": [
    "sns.histplot(data = df[df.user_rating <3], x = 'err', hue='Sign')"
   ]
  },
  {
   "cell_type": "code",
   "execution_count": null,
   "id": "helpful-numbers",
   "metadata": {},
   "outputs": [],
   "source": [
    "df['Sign'] = 'Over Estimated'"
   ]
  },
  {
   "cell_type": "code",
   "execution_count": null,
   "id": "endangered-nickname",
   "metadata": {},
   "outputs": [],
   "source": [
    "df.Sign[(df.user_rating-df.pred_rating) == 0] = 'Exact'"
   ]
  },
  {
   "cell_type": "code",
   "execution_count": null,
   "id": "russian-crime",
   "metadata": {},
   "outputs": [],
   "source": [
    "df.Sign[(df.user_rating-df.pred_rating) > 0] = 'Under Estimated'"
   ]
  },
  {
   "cell_type": "code",
   "execution_count": null,
   "id": "invalid-chart",
   "metadata": {},
   "outputs": [],
   "source": []
  },
  {
   "cell_type": "code",
   "execution_count": 70,
   "id": "academic-float",
   "metadata": {},
   "outputs": [
    {
     "data": {
      "text/plain": [
       "<AxesSubplot:xlabel='user_rating', ylabel='NumberBooksRated'>"
      ]
     },
     "execution_count": 70,
     "metadata": {},
     "output_type": "execute_result"
    },
    {
     "name": "stderr",
     "output_type": "stream",
     "text": [
      "/Users/jensensj/miniconda3/lib/python3.8/site-packages/IPython/core/pylabtools.py:132: UserWarning: Creating legend with loc=\"best\" can be slow with large amounts of data.\n",
      "  fig.canvas.print_figure(bytes_io, **kw)\n"
     ]
    },
    {
     "data": {
      "image/png": "[encoded data removed]",
      "text/plain": [
       "<Figure size 432x288 with 1 Axes>"
      ]
     },
     "metadata": {
      "needs_background": "light"
     },
     "output_type": "display_data"
    }
   ],
   "source": [
    "sns.scatterplot(data=df, x='user_rating',y='NumberBooksRated',hue='Sign')"
   ]
  },
  {
   "cell_type": "code",
   "execution_count": 73,
   "id": "passing-testimony",
   "metadata": {},
   "outputs": [
    {
     "data": {
      "text/plain": [
       "<matplotlib.legend.Legend at 0x2d90f25b0>"
      ]
     },
     "execution_count": 73,
     "metadata": {},
     "output_type": "execute_result"
    },
    {
     "data": {
      "image/png": "[encoded data removed]",
      "text/plain": [
       "<Figure size 432x288 with 1 Axes>"
      ]
     },
     "metadata": {
      "needs_background": "light"
     },
     "output_type": "display_data"
    }
   ],
   "source": [
    "sns.scatterplot(data=df, x='user_rating',y='NumberBooksRated',hue='err', size='err')\n",
    "plt.legend(bbox_to_anchor = (1.05,1),loc=2,borderaxespad =0.)"
   ]
  },
  {
   "cell_type": "code",
   "execution_count": null,
   "id": "joint-anatomy",
   "metadata": {},
   "outputs": [],
   "source": []
  },
  {
   "cell_type": "code",
   "execution_count": 20,
   "id": "minute-creator",
   "metadata": {},
   "outputs": [
    {
     "data": {
      "text/plain": [
       "<matplotlib.legend.Legend at 0x26dbdc700>"
      ]
     },
     "execution_count": 20,
     "metadata": {},
     "output_type": "execute_result"
    },
    {
     "data": {
      "image/png": "[encoded data removed]",
      "text/plain": [
       "<Figure size 432x288 with 1 Axes>"
      ]
     },
     "metadata": {
      "needs_background": "light"
     },
     "output_type": "display_data"
    }
   ],
   "source": [
    "sns.scatterplot(data=df, x='user_rating',y='NumberUsersRated',hue='err', size='err')\n",
    "plt.legend(bbox_to_anchor = (1.05,1),loc=2,borderaxespad =0.)"
   ]
  },
  {
   "cell_type": "code",
   "execution_count": 81,
   "id": "suitable-satin",
   "metadata": {},
   "outputs": [],
   "source": [
    "df_just0 = df[df.user_rating == 0]"
   ]
  },
  {
   "cell_type": "code",
   "execution_count": null,
   "id": "cleared-quantum",
   "metadata": {},
   "outputs": [],
   "source": [
    "sns.histplot(data=df_just0, x = 'err', hue='pred_rating')"
   ]
  },
  {
   "cell_type": "code",
   "execution_count": null,
   "id": "promotional-tennessee",
   "metadata": {},
   "outputs": [],
   "source": []
  },
  {
   "cell_type": "code",
   "execution_count": 18,
   "id": "precise-found",
   "metadata": {},
   "outputs": [],
   "source": [
    "df.to_pickle('model_results.pkl')"
   ]
  },
  {
   "cell_type": "code",
   "execution_count": 17,
   "id": "designed-vertex",
   "metadata": {},
   "outputs": [
    {
     "data": {
      "text/html": [
       "<div>\n",
       "<style scoped>\n",
       "    .dataframe tbody tr th:only-of-type {\n",
       "        vertical-align: middle;\n",
       "    }\n",
       "\n",
       "    .dataframe tbody tr th {\n",
       "        vertical-align: top;\n",
       "    }\n",
       "\n",
       "    .dataframe thead th {\n",
       "        text-align: right;\n",
       "    }\n",
       "</style>\n",
       "<table border=\"1\" class=\"dataframe\">\n",
       "  <thead>\n",
       "    <tr style=\"text-align: right;\">\n",
       "      <th></th>\n",
       "      <th>user_id</th>\n",
       "      <th>NumberBooksRated</th>\n",
       "      <th>book_id</th>\n",
       "      <th>NumberUsersRated</th>\n",
       "      <th>user_rating</th>\n",
       "      <th>pred_rating</th>\n",
       "      <th>err</th>\n",
       "    </tr>\n",
       "  </thead>\n",
       "  <tbody>\n",
       "    <tr>\n",
       "      <th>0</th>\n",
       "      <td>648679c737b4ec5e759b9b0bc0852fc7</td>\n",
       "      <td>282</td>\n",
       "      <td>19486439</td>\n",
       "      <td>123</td>\n",
       "      <td>3.0</td>\n",
       "      <td>3.163132</td>\n",
       "      <td>0.163132</td>\n",
       "    </tr>\n",
       "    <tr>\n",
       "      <th>1</th>\n",
       "      <td>449ae20f62d03f46e2b4487fa4c8abdf</td>\n",
       "      <td>1043</td>\n",
       "      <td>16244754</td>\n",
       "      <td>385</td>\n",
       "      <td>3.0</td>\n",
       "      <td>3.273710</td>\n",
       "      <td>0.273710</td>\n",
       "    </tr>\n",
       "    <tr>\n",
       "      <th>2</th>\n",
       "      <td>501209dbf1919c8bb0a32351385fc883</td>\n",
       "      <td>87</td>\n",
       "      <td>48811</td>\n",
       "      <td>1323</td>\n",
       "      <td>4.0</td>\n",
       "      <td>4.479266</td>\n",
       "      <td>0.479266</td>\n",
       "    </tr>\n",
       "    <tr>\n",
       "      <th>3</th>\n",
       "      <td>d5cc645051a5c5f1bd3e09c87de101e8</td>\n",
       "      <td>68</td>\n",
       "      <td>93570</td>\n",
       "      <td>557</td>\n",
       "      <td>4.0</td>\n",
       "      <td>4.423145</td>\n",
       "      <td>0.423145</td>\n",
       "    </tr>\n",
       "    <tr>\n",
       "      <th>4</th>\n",
       "      <td>e99bb6c07448bc12d206f8c61c2c3815</td>\n",
       "      <td>16</td>\n",
       "      <td>35432690</td>\n",
       "      <td>24</td>\n",
       "      <td>0.0</td>\n",
       "      <td>0.996197</td>\n",
       "      <td>0.996197</td>\n",
       "    </tr>\n",
       "  </tbody>\n",
       "</table>\n",
       "</div>"
      ],
      "text/plain": [
       "                            user_id  NumberBooksRated   book_id  \\\n",
       "0  648679c737b4ec5e759b9b0bc0852fc7               282  19486439   \n",
       "1  449ae20f62d03f46e2b4487fa4c8abdf              1043  16244754   \n",
       "2  501209dbf1919c8bb0a32351385fc883                87     48811   \n",
       "3  d5cc645051a5c5f1bd3e09c87de101e8                68     93570   \n",
       "4  e99bb6c07448bc12d206f8c61c2c3815                16  35432690   \n",
       "\n",
       "   NumberUsersRated  user_rating  pred_rating       err  \n",
       "0               123          3.0     3.163132  0.163132  \n",
       "1               385          3.0     3.273710  0.273710  \n",
       "2              1323          4.0     4.479266  0.479266  \n",
       "3               557          4.0     4.423145  0.423145  \n",
       "4                24          0.0     0.996197  0.996197  "
      ]
     },
     "execution_count": 17,
     "metadata": {},
     "output_type": "execute_result"
    }
   ],
   "source": [
    "df.head()"
   ]
  },
  {
   "cell_type": "code",
   "execution_count": 21,
   "id": "sapphire-ghana",
   "metadata": {},
   "outputs": [],
   "source": [
    "df['pred_round'] = df.pred_rating.round()"
   ]
  },
  {
   "cell_type": "code",
   "execution_count": 22,
   "id": "environmental-gothic",
   "metadata": {},
   "outputs": [
    {
     "data": {
      "text/html": [
       "<div>\n",
       "<style scoped>\n",
       "    .dataframe tbody tr th:only-of-type {\n",
       "        vertical-align: middle;\n",
       "    }\n",
       "\n",
       "    .dataframe tbody tr th {\n",
       "        vertical-align: top;\n",
       "    }\n",
       "\n",
       "    .dataframe thead th {\n",
       "        text-align: right;\n",
       "    }\n",
       "</style>\n",
       "<table border=\"1\" class=\"dataframe\">\n",
       "  <thead>\n",
       "    <tr style=\"text-align: right;\">\n",
       "      <th></th>\n",
       "      <th>user_id</th>\n",
       "      <th>NumberBooksRated</th>\n",
       "      <th>book_id</th>\n",
       "      <th>NumberUsersRated</th>\n",
       "      <th>user_rating</th>\n",
       "      <th>pred_rating</th>\n",
       "      <th>err</th>\n",
       "      <th>pred_round</th>\n",
       "    </tr>\n",
       "  </thead>\n",
       "  <tbody>\n",
       "    <tr>\n",
       "      <th>0</th>\n",
       "      <td>648679c737b4ec5e759b9b0bc0852fc7</td>\n",
       "      <td>282</td>\n",
       "      <td>19486439</td>\n",
       "      <td>123</td>\n",
       "      <td>3.0</td>\n",
       "      <td>3.163132</td>\n",
       "      <td>0.163132</td>\n",
       "      <td>3.0</td>\n",
       "    </tr>\n",
       "    <tr>\n",
       "      <th>1</th>\n",
       "      <td>449ae20f62d03f46e2b4487fa4c8abdf</td>\n",
       "      <td>1043</td>\n",
       "      <td>16244754</td>\n",
       "      <td>385</td>\n",
       "      <td>3.0</td>\n",
       "      <td>3.273710</td>\n",
       "      <td>0.273710</td>\n",
       "      <td>3.0</td>\n",
       "    </tr>\n",
       "    <tr>\n",
       "      <th>2</th>\n",
       "      <td>501209dbf1919c8bb0a32351385fc883</td>\n",
       "      <td>87</td>\n",
       "      <td>48811</td>\n",
       "      <td>1323</td>\n",
       "      <td>4.0</td>\n",
       "      <td>4.479266</td>\n",
       "      <td>0.479266</td>\n",
       "      <td>4.0</td>\n",
       "    </tr>\n",
       "    <tr>\n",
       "      <th>3</th>\n",
       "      <td>d5cc645051a5c5f1bd3e09c87de101e8</td>\n",
       "      <td>68</td>\n",
       "      <td>93570</td>\n",
       "      <td>557</td>\n",
       "      <td>4.0</td>\n",
       "      <td>4.423145</td>\n",
       "      <td>0.423145</td>\n",
       "      <td>4.0</td>\n",
       "    </tr>\n",
       "    <tr>\n",
       "      <th>4</th>\n",
       "      <td>e99bb6c07448bc12d206f8c61c2c3815</td>\n",
       "      <td>16</td>\n",
       "      <td>35432690</td>\n",
       "      <td>24</td>\n",
       "      <td>0.0</td>\n",
       "      <td>0.996197</td>\n",
       "      <td>0.996197</td>\n",
       "      <td>1.0</td>\n",
       "    </tr>\n",
       "  </tbody>\n",
       "</table>\n",
       "</div>"
      ],
      "text/plain": [
       "                            user_id  NumberBooksRated   book_id  \\\n",
       "0  648679c737b4ec5e759b9b0bc0852fc7               282  19486439   \n",
       "1  449ae20f62d03f46e2b4487fa4c8abdf              1043  16244754   \n",
       "2  501209dbf1919c8bb0a32351385fc883                87     48811   \n",
       "3  d5cc645051a5c5f1bd3e09c87de101e8                68     93570   \n",
       "4  e99bb6c07448bc12d206f8c61c2c3815                16  35432690   \n",
       "\n",
       "   NumberUsersRated  user_rating  pred_rating       err  pred_round  \n",
       "0               123          3.0     3.163132  0.163132         3.0  \n",
       "1               385          3.0     3.273710  0.273710         3.0  \n",
       "2              1323          4.0     4.479266  0.479266         4.0  \n",
       "3               557          4.0     4.423145  0.423145         4.0  \n",
       "4                24          0.0     0.996197  0.996197         1.0  "
      ]
     },
     "execution_count": 22,
     "metadata": {},
     "output_type": "execute_result"
    }
   ],
   "source": [
    "df.head()"
   ]
  },
  {
   "cell_type": "code",
   "execution_count": 28,
   "id": "plain-format",
   "metadata": {},
   "outputs": [
    {
     "data": {
      "image/png": "[encoded data removed]",
      "text/plain": [
       "<Figure size 432x288 with 1 Axes>"
      ]
     },
     "metadata": {
      "needs_background": "light"
     },
     "output_type": "display_data"
    }
   ],
   "source": [
    "from sklearn.metrics import confusion_matrix\n",
    "cm = confusion_matrix(df.user_rating, df.pred_round)\n",
    "plt.imshow(cm, interpolation='none', cmap='Blues')\n",
    "plt.xlabel('User Applied Rating')\n",
    "plt.ylabel('Model Predicted Rating')\n",
    "plt.show()"
   ]
  },
  {
   "cell_type": "code",
   "execution_count": 50,
   "id": "removable-gnome",
   "metadata": {},
   "outputs": [
    {
     "data": {
      "image/png": "[encoded data removed]",
      "text/plain": [
       "<Figure size 1080x504 with 2 Axes>"
      ]
     },
     "metadata": {},
     "output_type": "display_data"
    }
   ],
   "source": [
    "df_cm = pd.DataFrame(cm,range(6),range(6))\n",
    "plt.figure(figsize=(15,7))\n",
    "sns.set(font_scale=1.4)\n",
    "sns.heatmap(cm, annot=True,annot_kws={'size':16},cmap='Blues')\n",
    "plt.ylabel('Actual User Rating')\n",
    "plt.xlabel('Model Predicted Rating')\n",
    "plt.show()"
   ]
  },
  {
   "cell_type": "code",
   "execution_count": 38,
   "id": "competitive-biography",
   "metadata": {},
   "outputs": [
    {
     "data": {
      "text/plain": [
       "array([[  7268,  14443,  23127,  49623,  29200,   1412],\n",
       "       [    35,    462,   4273,  19440,   8199,    266],\n",
       "       [    85,    639,   9957,  75271,  29698,    513],\n",
       "       [   104,   1540,  18596, 289123, 192969,   3700],\n",
       "       [   209,   1976,  14935, 265749, 471364,  20493],\n",
       "       [   122,   1222,   6620,  90709, 343287, 104535]])"
      ]
     },
     "execution_count": 38,
     "metadata": {},
     "output_type": "execute_result"
    }
   ],
   "source": [
    "cm"
   ]
  },
  {
   "cell_type": "code",
   "execution_count": 39,
   "id": "round-converter",
   "metadata": {},
   "outputs": [
    {
     "data": {
      "text/plain": [
       "4.0    774726\n",
       "5.0    546495\n",
       "3.0    506032\n",
       "0.0    125073\n",
       "2.0    116163\n",
       "1.0     32675\n",
       "Name: user_rating, dtype: int64"
      ]
     },
     "execution_count": 39,
     "metadata": {},
     "output_type": "execute_result"
    }
   ],
   "source": [
    "df.user_rating.value_counts()"
   ]
  },
  {
   "cell_type": "code",
   "execution_count": 72,
   "id": "liked-twenty",
   "metadata": {},
   "outputs": [],
   "source": [
    "cm_0 = cm[0]/125073*100"
   ]
  },
  {
   "cell_type": "code",
   "execution_count": 73,
   "id": "hidden-soldier",
   "metadata": {},
   "outputs": [],
   "source": [
    "cm_1 = cm[1]/32675*100"
   ]
  },
  {
   "cell_type": "code",
   "execution_count": 74,
   "id": "portable-navigator",
   "metadata": {},
   "outputs": [],
   "source": [
    "cm_2 = cm[2]/116163*100"
   ]
  },
  {
   "cell_type": "code",
   "execution_count": 75,
   "id": "social-trout",
   "metadata": {},
   "outputs": [],
   "source": [
    "cm_3 = cm[3]/506032*100"
   ]
  },
  {
   "cell_type": "code",
   "execution_count": 76,
   "id": "falling-fleet",
   "metadata": {},
   "outputs": [],
   "source": [
    "cm_4 = cm[4]/774726*100"
   ]
  },
  {
   "cell_type": "code",
   "execution_count": 77,
   "id": "organized-program",
   "metadata": {},
   "outputs": [],
   "source": [
    "cm_5 = cm[5]/546495*100"
   ]
  },
  {
   "cell_type": "code",
   "execution_count": 78,
   "id": "balanced-conversion",
   "metadata": {},
   "outputs": [],
   "source": [
    "cm_p = np.append([cm_0,cm_1,cm_2,cm_3,cm_4], [cm_5],axis=0)"
   ]
  },
  {
   "cell_type": "code",
   "execution_count": 79,
   "id": "color-robin",
   "metadata": {},
   "outputs": [
    {
     "data": {
      "text/plain": [
       "array([[5.81100637e+00, 1.15476562e+01, 1.84908014e+01, 3.96752297e+01,\n",
       "        2.33463657e+01, 1.12894070e+00],\n",
       "       [1.07115532e-01, 1.41392502e+00, 1.30772762e+01, 5.94950268e+01,\n",
       "        2.50925784e+01, 8.14078041e-01],\n",
       "       [7.31730413e-02, 5.50089099e-01, 8.57157615e+00, 6.47977411e+01,\n",
       "        2.55657998e+01, 4.41620826e-01],\n",
       "       [2.05520599e-02, 3.04328580e-01, 3.67486641e+00, 5.71353195e+01,\n",
       "        3.81337544e+01, 7.31179056e-01],\n",
       "       [2.69772797e-02, 2.55057917e-01, 1.92777834e+00, 3.43023211e+01,\n",
       "        6.08426721e+01, 2.64519327e+00],\n",
       "       [2.23240835e-02, 2.23606803e-01, 1.21135601e+00, 1.65983220e+01,\n",
       "        6.28161282e+01, 1.91282628e+01]])"
      ]
     },
     "execution_count": 79,
     "metadata": {},
     "output_type": "execute_result"
    }
   ],
   "source": [
    "cm_p"
   ]
  },
  {
   "cell_type": "code",
   "execution_count": 80,
   "id": "reflected-stationery",
   "metadata": {},
   "outputs": [
    {
     "data": {
      "image/png": "[encoded data removed]",
      "text/plain": [
       "<Figure size 1080x504 with 2 Axes>"
      ]
     },
     "metadata": {},
     "output_type": "display_data"
    }
   ],
   "source": [
    "df_cm = pd.DataFrame(cm_p,range(6),range(6))\n",
    "plt.figure(figsize=(15,7))\n",
    "sns.set(font_scale=1.4)\n",
    "sns.heatmap(df_cm, annot=True,annot_kws={'size':16},cmap='Blues')\n",
    "plt.ylabel('Actual User Rating')\n",
    "plt.xlabel('Model Predicted Rating')\n",
    "plt.show()"
   ]
  },
  {
   "cell_type": "code",
   "execution_count": null,
   "id": "deadly-minutes",
   "metadata": {},
   "outputs": [],
   "source": []
  }
 ],
 "metadata": {
  "kernelspec": {
   "display_name": "Python 3",
   "language": "python",
   "name": "python3"
  },
  "language_info": {
   "codemirror_mode": {
    "name": "ipython",
    "version": 3
   },
   "file_extension": ".py",
   "mimetype": "text/x-python",
   "name": "python",
   "nbconvert_exporter": "python",
   "pygments_lexer": "ipython3",
   "version": "3.8.5"
  }
 },
 "nbformat": 4,
 "nbformat_minor": 5
}
