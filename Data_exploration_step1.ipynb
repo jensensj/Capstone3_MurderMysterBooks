{
 "cells": [
  {
   "cell_type": "code",
   "execution_count": 671,
   "metadata": {},
   "outputs": [],
   "source": [
    "import pandas as pd\n",
    "import numpy as np\n",
    "import json\n",
    "import matplotlib.pyplot as plt"
   ]
  },
  {
   "cell_type": "code",
   "execution_count": 672,
   "metadata": {},
   "outputs": [],
   "source": [
    "f = open('goodreads_books_mystery_thriller_crime.json')"
   ]
  },
  {
   "cell_type": "code",
   "execution_count": 673,
   "metadata": {},
   "outputs": [],
   "source": [
    "#data = json.load(f)"
   ]
  },
  {
   "cell_type": "code",
   "execution_count": 674,
   "metadata": {},
   "outputs": [],
   "source": [
    "#data[0:2]"
   ]
  },
  {
   "cell_type": "markdown",
   "metadata": {},
   "source": []
  },
  {
   "cell_type": "code",
   "execution_count": 675,
   "metadata": {},
   "outputs": [],
   "source": [
    "df_full = pd.read_json('goodreads_books_mystery_thriller_crime.json')"
   ]
  },
  {
   "cell_type": "code",
   "execution_count": 676,
   "metadata": {},
   "outputs": [
    {
     "data": {
      "text/html": [
       "<div>\n",
       "<style scoped>\n",
       "    .dataframe tbody tr th:only-of-type {\n",
       "        vertical-align: middle;\n",
       "    }\n",
       "\n",
       "    .dataframe tbody tr th {\n",
       "        vertical-align: top;\n",
       "    }\n",
       "\n",
       "    .dataframe thead th {\n",
       "        text-align: right;\n",
       "    }\n",
       "</style>\n",
       "<table border=\"1\" class=\"dataframe\">\n",
       "  <thead>\n",
       "    <tr style=\"text-align: right;\">\n",
       "      <th></th>\n",
       "      <th>isbn</th>\n",
       "      <th>text_reviews_count</th>\n",
       "      <th>series</th>\n",
       "      <th>country_code</th>\n",
       "      <th>language_code</th>\n",
       "      <th>popular_shelves</th>\n",
       "      <th>asin</th>\n",
       "      <th>is_ebook</th>\n",
       "      <th>average_rating</th>\n",
       "      <th>kindle_asin</th>\n",
       "      <th>...</th>\n",
       "      <th>publication_month</th>\n",
       "      <th>edition_information</th>\n",
       "      <th>publication_year</th>\n",
       "      <th>url</th>\n",
       "      <th>image_url</th>\n",
       "      <th>book_id</th>\n",
       "      <th>ratings_count</th>\n",
       "      <th>work_id</th>\n",
       "      <th>title</th>\n",
       "      <th>title_without_series</th>\n",
       "    </tr>\n",
       "  </thead>\n",
       "  <tbody>\n",
       "    <tr>\n",
       "      <th>0</th>\n",
       "      <td>184737297X</td>\n",
       "      <td>15</td>\n",
       "      <td>[169353]</td>\n",
       "      <td>US</td>\n",
       "      <td></td>\n",
       "      <td>[{'count': '159', 'name': 'to-read'}, {'count'...</td>\n",
       "      <td></td>\n",
       "      <td>false</td>\n",
       "      <td>3.93</td>\n",
       "      <td>B007YLTG5I</td>\n",
       "      <td>...</td>\n",
       "      <td>4</td>\n",
       "      <td></td>\n",
       "      <td>2009</td>\n",
       "      <td>https://www.goodreads.com/book/show/6066814-cr...</td>\n",
       "      <td>https://images.gr-assets.com/books/1328724803m...</td>\n",
       "      <td>6066814</td>\n",
       "      <td>186</td>\n",
       "      <td>6243149</td>\n",
       "      <td>Crowner Royal (Crowner John Mystery, #13)</td>\n",
       "      <td>Crowner Royal (Crowner John Mystery, #13)</td>\n",
       "    </tr>\n",
       "    <tr>\n",
       "      <th>1</th>\n",
       "      <td></td>\n",
       "      <td>60</td>\n",
       "      <td>[1052227]</td>\n",
       "      <td>US</td>\n",
       "      <td>eng</td>\n",
       "      <td>[{'count': '54', 'name': 'currently-reading'},...</td>\n",
       "      <td>B01NCIKAQX</td>\n",
       "      <td>true</td>\n",
       "      <td>4.33</td>\n",
       "      <td>B01NCIKAQX</td>\n",
       "      <td>...</td>\n",
       "      <td></td>\n",
       "      <td></td>\n",
       "      <td></td>\n",
       "      <td>https://www.goodreads.com/book/show/33394837-t...</td>\n",
       "      <td>https://images.gr-assets.com/books/1493114742m...</td>\n",
       "      <td>33394837</td>\n",
       "      <td>269</td>\n",
       "      <td>54143148</td>\n",
       "      <td>The House of Memory (Pluto's Snitch #2)</td>\n",
       "      <td>The House of Memory (Pluto's Snitch #2)</td>\n",
       "    </tr>\n",
       "    <tr>\n",
       "      <th>2</th>\n",
       "      <td></td>\n",
       "      <td>23</td>\n",
       "      <td>[953679]</td>\n",
       "      <td>US</td>\n",
       "      <td>eng</td>\n",
       "      <td>[{'count': '90', 'name': 'to-read'}, {'count':...</td>\n",
       "      <td>B01ALOWJN0</td>\n",
       "      <td>true</td>\n",
       "      <td>3.49</td>\n",
       "      <td>B01ALOWJN0</td>\n",
       "      <td>...</td>\n",
       "      <td></td>\n",
       "      <td></td>\n",
       "      <td></td>\n",
       "      <td>https://www.goodreads.com/book/show/29074697-t...</td>\n",
       "      <td>https://s.gr-assets.com/assets/nophoto/book/11...</td>\n",
       "      <td>29074697</td>\n",
       "      <td>192</td>\n",
       "      <td>49305010</td>\n",
       "      <td>The Slaughtered Virgin of Zenopolis (Inspector...</td>\n",
       "      <td>The Slaughtered Virgin of Zenopolis (Inspector...</td>\n",
       "    </tr>\n",
       "    <tr>\n",
       "      <th>3</th>\n",
       "      <td>0854563903</td>\n",
       "      <td>8</td>\n",
       "      <td>[408775]</td>\n",
       "      <td>US</td>\n",
       "      <td></td>\n",
       "      <td>[{'count': '51', 'name': 'to-read'}, {'count':...</td>\n",
       "      <td></td>\n",
       "      <td>false</td>\n",
       "      <td>3.30</td>\n",
       "      <td></td>\n",
       "      <td>...</td>\n",
       "      <td>12</td>\n",
       "      <td>Large Print</td>\n",
       "      <td>1975</td>\n",
       "      <td>https://www.goodreads.com/book/show/1902202.De...</td>\n",
       "      <td>https://s.gr-assets.com/assets/nophoto/book/11...</td>\n",
       "      <td>1902202</td>\n",
       "      <td>52</td>\n",
       "      <td>1903897</td>\n",
       "      <td>Dead in the Morning (Patrick Grant, #1)</td>\n",
       "      <td>Dead in the Morning (Patrick Grant, #1)</td>\n",
       "    </tr>\n",
       "    <tr>\n",
       "      <th>4</th>\n",
       "      <td>8838920931</td>\n",
       "      <td>3</td>\n",
       "      <td>[274410]</td>\n",
       "      <td>US</td>\n",
       "      <td>ita</td>\n",
       "      <td>[{'count': '48', 'name': 'to-read'}, {'count':...</td>\n",
       "      <td></td>\n",
       "      <td>false</td>\n",
       "      <td>3.54</td>\n",
       "      <td></td>\n",
       "      <td>...</td>\n",
       "      <td></td>\n",
       "      <td></td>\n",
       "      <td>2006</td>\n",
       "      <td>https://www.goodreads.com/book/show/9671977-ar...</td>\n",
       "      <td>https://images.gr-assets.com/books/1474788304m...</td>\n",
       "      <td>9671977</td>\n",
       "      <td>22</td>\n",
       "      <td>2152906</td>\n",
       "      <td>Aristotele e i misteri di Eleusi</td>\n",
       "      <td>Aristotele e i misteri di Eleusi</td>\n",
       "    </tr>\n",
       "  </tbody>\n",
       "</table>\n",
       "<p>5 rows × 29 columns</p>\n",
       "</div>"
      ],
      "text/plain": [
       "         isbn  text_reviews_count     series country_code language_code  \\\n",
       "0  184737297X                  15   [169353]           US                 \n",
       "1                              60  [1052227]           US           eng   \n",
       "2                              23   [953679]           US           eng   \n",
       "3  0854563903                   8   [408775]           US                 \n",
       "4  8838920931                   3   [274410]           US           ita   \n",
       "\n",
       "                                     popular_shelves        asin is_ebook  \\\n",
       "0  [{'count': '159', 'name': 'to-read'}, {'count'...                false   \n",
       "1  [{'count': '54', 'name': 'currently-reading'},...  B01NCIKAQX     true   \n",
       "2  [{'count': '90', 'name': 'to-read'}, {'count':...  B01ALOWJN0     true   \n",
       "3  [{'count': '51', 'name': 'to-read'}, {'count':...                false   \n",
       "4  [{'count': '48', 'name': 'to-read'}, {'count':...                false   \n",
       "\n",
       "   average_rating kindle_asin  ... publication_month edition_information  \\\n",
       "0            3.93  B007YLTG5I  ...                 4                       \n",
       "1            4.33  B01NCIKAQX  ...                                         \n",
       "2            3.49  B01ALOWJN0  ...                                         \n",
       "3            3.30              ...                12         Large Print   \n",
       "4            3.54              ...                                         \n",
       "\n",
       "  publication_year                                                url  \\\n",
       "0             2009  https://www.goodreads.com/book/show/6066814-cr...   \n",
       "1                   https://www.goodreads.com/book/show/33394837-t...   \n",
       "2                   https://www.goodreads.com/book/show/29074697-t...   \n",
       "3             1975  https://www.goodreads.com/book/show/1902202.De...   \n",
       "4             2006  https://www.goodreads.com/book/show/9671977-ar...   \n",
       "\n",
       "                                           image_url   book_id ratings_count  \\\n",
       "0  https://images.gr-assets.com/books/1328724803m...   6066814           186   \n",
       "1  https://images.gr-assets.com/books/1493114742m...  33394837           269   \n",
       "2  https://s.gr-assets.com/assets/nophoto/book/11...  29074697           192   \n",
       "3  https://s.gr-assets.com/assets/nophoto/book/11...   1902202            52   \n",
       "4  https://images.gr-assets.com/books/1474788304m...   9671977            22   \n",
       "\n",
       "    work_id                                              title  \\\n",
       "0   6243149          Crowner Royal (Crowner John Mystery, #13)   \n",
       "1  54143148            The House of Memory (Pluto's Snitch #2)   \n",
       "2  49305010  The Slaughtered Virgin of Zenopolis (Inspector...   \n",
       "3   1903897            Dead in the Morning (Patrick Grant, #1)   \n",
       "4   2152906                   Aristotele e i misteri di Eleusi   \n",
       "\n",
       "                                title_without_series  \n",
       "0          Crowner Royal (Crowner John Mystery, #13)  \n",
       "1            The House of Memory (Pluto's Snitch #2)  \n",
       "2  The Slaughtered Virgin of Zenopolis (Inspector...  \n",
       "3            Dead in the Morning (Patrick Grant, #1)  \n",
       "4                   Aristotele e i misteri di Eleusi  \n",
       "\n",
       "[5 rows x 29 columns]"
      ]
     },
     "execution_count": 676,
     "metadata": {},
     "output_type": "execute_result"
    }
   ],
   "source": [
    "df_full.head()"
   ]
  },
  {
   "cell_type": "code",
   "execution_count": 677,
   "metadata": {},
   "outputs": [],
   "source": [
    "df = df_full"
   ]
  },
  {
   "cell_type": "code",
   "execution_count": 678,
   "metadata": {},
   "outputs": [
    {
     "data": {
      "text/plain": [
       "Index(['isbn', 'text_reviews_count', 'series', 'country_code', 'language_code',\n",
       "       'popular_shelves', 'asin', 'is_ebook', 'average_rating', 'kindle_asin',\n",
       "       'similar_books', 'description', 'format', 'link', 'authors',\n",
       "       'publisher', 'num_pages', 'publication_day', 'isbn13',\n",
       "       'publication_month', 'edition_information', 'publication_year', 'url',\n",
       "       'image_url', 'book_id', 'ratings_count', 'work_id', 'title',\n",
       "       'title_without_series'],\n",
       "      dtype='object')"
      ]
     },
     "execution_count": 678,
     "metadata": {},
     "output_type": "execute_result"
    }
   ],
   "source": [
    "df.columns"
   ]
  },
  {
   "cell_type": "code",
   "execution_count": 679,
   "metadata": {},
   "outputs": [
    {
     "name": "stdout",
     "output_type": "stream",
     "text": [
      "<class 'pandas.core.frame.DataFrame'>\n",
      "RangeIndex: 219235 entries, 0 to 219234\n",
      "Data columns (total 29 columns):\n",
      " #   Column                Non-Null Count   Dtype  \n",
      "---  ------                --------------   -----  \n",
      " 0   isbn                  219235 non-null  object \n",
      " 1   text_reviews_count    219235 non-null  int64  \n",
      " 2   series                219235 non-null  object \n",
      " 3   country_code          219235 non-null  object \n",
      " 4   language_code         219235 non-null  object \n",
      " 5   popular_shelves       219235 non-null  object \n",
      " 6   asin                  219235 non-null  object \n",
      " 7   is_ebook              219235 non-null  object \n",
      " 8   average_rating        219235 non-null  float64\n",
      " 9   kindle_asin           219235 non-null  object \n",
      " 10  similar_books         219235 non-null  object \n",
      " 11  description           219235 non-null  object \n",
      " 12  format                219235 non-null  object \n",
      " 13  link                  219235 non-null  object \n",
      " 14  authors               219235 non-null  object \n",
      " 15  publisher             219235 non-null  object \n",
      " 16  num_pages             219235 non-null  object \n",
      " 17  publication_day       219235 non-null  object \n",
      " 18  isbn13                219235 non-null  object \n",
      " 19  publication_month     219235 non-null  object \n",
      " 20  edition_information   219235 non-null  object \n",
      " 21  publication_year      219235 non-null  object \n",
      " 22  url                   219235 non-null  object \n",
      " 23  image_url             219235 non-null  object \n",
      " 24  book_id               219235 non-null  int64  \n",
      " 25  ratings_count         219235 non-null  int64  \n",
      " 26  work_id               219235 non-null  int64  \n",
      " 27  title                 219235 non-null  object \n",
      " 28  title_without_series  219235 non-null  object \n",
      "dtypes: float64(1), int64(4), object(24)\n",
      "memory usage: 48.5+ MB\n"
     ]
    }
   ],
   "source": [
    "df.info()"
   ]
  },
  {
   "cell_type": "markdown",
   "metadata": {},
   "source": []
  },
  {
   "cell_type": "code",
   "execution_count": 680,
   "metadata": {},
   "outputs": [
    {
     "data": {
      "text/plain": [
       "0          6066814\n",
       "1         33394837\n",
       "2         29074697\n",
       "3          1902202\n",
       "4          9671977\n",
       "            ...   \n",
       "219230     9877072\n",
       "219231    26591045\n",
       "219232    25727303\n",
       "219233    23252156\n",
       "219234    26168430\n",
       "Name: book_id, Length: 219235, dtype: int64"
      ]
     },
     "execution_count": 680,
     "metadata": {},
     "output_type": "execute_result"
    }
   ],
   "source": [
    "df.book_id"
   ]
  },
  {
   "cell_type": "code",
   "execution_count": 681,
   "metadata": {},
   "outputs": [],
   "source": [
    "#Potential drops\n",
    "drop_otherid = ['isbn','isbn13', 'asin', 'kindle_asin']\n",
    "drop_links = ['url','image_url', 'link']\n",
    "drop_othertimes = ['publication_day']\n",
    "drop_words = ['description']"
   ]
  },
  {
   "cell_type": "code",
   "execution_count": 682,
   "metadata": {},
   "outputs": [
    {
     "data": {
      "text/plain": [
       "(136843, 219235, 134719)"
      ]
     },
     "execution_count": 682,
     "metadata": {},
     "output_type": "execute_result"
    }
   ],
   "source": [
    "df.title.nunique(), df.book_id.nunique(), df.isbn.nunique()"
   ]
  },
  {
   "cell_type": "code",
   "execution_count": 683,
   "metadata": {},
   "outputs": [],
   "source": [
    "#Replace blanks with null values"
   ]
  },
  {
   "cell_type": "code",
   "execution_count": 684,
   "metadata": {},
   "outputs": [],
   "source": [
    "df = df.replace(r'^\\s*$', np.nan, regex=True)"
   ]
  },
  {
   "cell_type": "code",
   "execution_count": 685,
   "metadata": {},
   "outputs": [
    {
     "data": {
      "text/plain": [
       "isbn                     84517\n",
       "text_reviews_count           0\n",
       "series                       0\n",
       "country_code                 0\n",
       "language_code            82451\n",
       "popular_shelves              0\n",
       "asin                    170799\n",
       "is_ebook                     0\n",
       "average_rating               0\n",
       "kindle_asin              99160\n",
       "similar_books                0\n",
       "description              20747\n",
       "format                   56845\n",
       "link                         0\n",
       "authors                      0\n",
       "publisher                57932\n",
       "num_pages                69828\n",
       "publication_day          89035\n",
       "isbn13                   67288\n",
       "publication_month        77064\n",
       "edition_information     197401\n",
       "publication_year         54494\n",
       "url                          0\n",
       "image_url                    0\n",
       "book_id                      0\n",
       "ratings_count                0\n",
       "work_id                      0\n",
       "title                        0\n",
       "title_without_series         0\n",
       "dtype: int64"
      ]
     },
     "execution_count": 685,
     "metadata": {},
     "output_type": "execute_result"
    }
   ],
   "source": [
    "df.isna().sum()"
   ]
  },
  {
   "cell_type": "markdown",
   "metadata": {},
   "source": [
    "Note, the null+nunique for isbn comes to the total for book id. Therefore, we will use book id as our id information and drop the other id columns"
   ]
  },
  {
   "cell_type": "code",
   "execution_count": 686,
   "metadata": {},
   "outputs": [],
   "source": [
    "df = df.drop(drop_otherid, axis=1)"
   ]
  },
  {
   "cell_type": "code",
   "execution_count": 687,
   "metadata": {},
   "outputs": [],
   "source": [
    "#Drop links\n",
    "df = df.drop(drop_links, axis=1)"
   ]
  },
  {
   "cell_type": "code",
   "execution_count": 688,
   "metadata": {},
   "outputs": [],
   "source": [
    "#Drop Description\n",
    "df = df.drop(drop_words, axis=1)"
   ]
  },
  {
   "cell_type": "code",
   "execution_count": 689,
   "metadata": {},
   "outputs": [],
   "source": [
    "#Drop day published\n",
    "df = df.drop(drop_othertimes, axis=1)"
   ]
  },
  {
   "cell_type": "markdown",
   "metadata": {},
   "source": [
    "--Need code below this point--"
   ]
  },
  {
   "cell_type": "markdown",
   "metadata": {},
   "source": [
    "I want to limit to english language, but becaue of high number of missing language, we will also keep english language speaking country codes when not present"
   ]
  },
  {
   "cell_type": "code",
   "execution_count": 690,
   "metadata": {},
   "outputs": [
    {
     "data": {
      "text/plain": [
       "array([nan, 'eng', 'ita', 'en-GB', 'en-CA', 'gre', 'lit', 'fin', 'en-US',\n",
       "       'per', 'bul', 'nl', 'spa', 'ger', 'swe', 'pes', 'cze', 'en', 'por',\n",
       "       'fre', 'nor', 'zho', 'ind', 'rum', 'slo', 'lav', 'hun', 'afr',\n",
       "       'heb', 'dan', 'pol', 'srp', 'tur', 'kat', 'jpn', 'ben', 'tha',\n",
       "       'nob', 'vie', 'rus', 'ara', 'cat', 'es-MX', 'ukr', 'kan', 'scr',\n",
       "       'msa', 'est', 'isl', 'pra', 'urd', 'mal', 'tam', 'glg', 'hin',\n",
       "       'vls', 'din', 'pt-BR', 'slv', 'aze', 'nld', 'mkd', 'aus', 'mul',\n",
       "       'eus', 'guj', 'mon', 'hye', 'fil', 'tgl', 'mus', 'abk', 'nno',\n",
       "       'kor', 'frs', '--', 'mlt', 'grc', 'egy', 'jbo', 'mar', 'sin',\n",
       "       'peo', 'sqi', 'bos', 'tel', 'ady'], dtype=object)"
      ]
     },
     "execution_count": 690,
     "metadata": {},
     "output_type": "execute_result"
    }
   ],
   "source": [
    "df.language_code.unique()"
   ]
  },
  {
   "cell_type": "code",
   "execution_count": 691,
   "metadata": {},
   "outputs": [],
   "source": [
    "english = ['eng', 'en-GB', 'en-CA','en-US','en',np.nan, '--']"
   ]
  },
  {
   "cell_type": "code",
   "execution_count": 692,
   "metadata": {},
   "outputs": [],
   "source": [
    "df = df.loc[df['language_code'].isin(english)]"
   ]
  },
  {
   "cell_type": "code",
   "execution_count": 693,
   "metadata": {},
   "outputs": [
    {
     "data": {
      "text/plain": [
       "array(['US'], dtype=object)"
      ]
     },
     "execution_count": 693,
     "metadata": {},
     "output_type": "execute_result"
    }
   ],
   "source": [
    "df.country_code.unique()"
   ]
  },
  {
   "cell_type": "code",
   "execution_count": 694,
   "metadata": {},
   "outputs": [
    {
     "data": {
      "text/html": [
       "<div>\n",
       "<style scoped>\n",
       "    .dataframe tbody tr th:only-of-type {\n",
       "        vertical-align: middle;\n",
       "    }\n",
       "\n",
       "    .dataframe tbody tr th {\n",
       "        vertical-align: top;\n",
       "    }\n",
       "\n",
       "    .dataframe thead th {\n",
       "        text-align: right;\n",
       "    }\n",
       "</style>\n",
       "<table border=\"1\" class=\"dataframe\">\n",
       "  <thead>\n",
       "    <tr style=\"text-align: right;\">\n",
       "      <th></th>\n",
       "      <th>text_reviews_count</th>\n",
       "      <th>series</th>\n",
       "      <th>country_code</th>\n",
       "      <th>language_code</th>\n",
       "      <th>popular_shelves</th>\n",
       "      <th>is_ebook</th>\n",
       "      <th>average_rating</th>\n",
       "      <th>similar_books</th>\n",
       "      <th>format</th>\n",
       "      <th>authors</th>\n",
       "      <th>publisher</th>\n",
       "      <th>num_pages</th>\n",
       "      <th>publication_month</th>\n",
       "      <th>edition_information</th>\n",
       "      <th>publication_year</th>\n",
       "      <th>book_id</th>\n",
       "      <th>ratings_count</th>\n",
       "      <th>work_id</th>\n",
       "      <th>title</th>\n",
       "      <th>title_without_series</th>\n",
       "    </tr>\n",
       "  </thead>\n",
       "  <tbody>\n",
       "    <tr>\n",
       "      <th>0</th>\n",
       "      <td>15</td>\n",
       "      <td>[169353]</td>\n",
       "      <td>US</td>\n",
       "      <td>NaN</td>\n",
       "      <td>[{'count': '159', 'name': 'to-read'}, {'count'...</td>\n",
       "      <td>false</td>\n",
       "      <td>3.93</td>\n",
       "      <td>[439108, 522621, 116770, 1275927, 6202655, 840...</td>\n",
       "      <td>Hardcover</td>\n",
       "      <td>[{'author_id': '37778', 'role': ''}]</td>\n",
       "      <td>Simon &amp; Schuster UK</td>\n",
       "      <td>400</td>\n",
       "      <td>4</td>\n",
       "      <td>NaN</td>\n",
       "      <td>2009</td>\n",
       "      <td>6066814</td>\n",
       "      <td>186</td>\n",
       "      <td>6243149</td>\n",
       "      <td>Crowner Royal (Crowner John Mystery, #13)</td>\n",
       "      <td>Crowner Royal (Crowner John Mystery, #13)</td>\n",
       "    </tr>\n",
       "    <tr>\n",
       "      <th>1</th>\n",
       "      <td>60</td>\n",
       "      <td>[1052227]</td>\n",
       "      <td>US</td>\n",
       "      <td>eng</td>\n",
       "      <td>[{'count': '54', 'name': 'currently-reading'},...</td>\n",
       "      <td>true</td>\n",
       "      <td>4.33</td>\n",
       "      <td>[]</td>\n",
       "      <td>NaN</td>\n",
       "      <td>[{'author_id': '242185', 'role': ''}]</td>\n",
       "      <td>NaN</td>\n",
       "      <td>318</td>\n",
       "      <td>NaN</td>\n",
       "      <td>NaN</td>\n",
       "      <td>NaN</td>\n",
       "      <td>33394837</td>\n",
       "      <td>269</td>\n",
       "      <td>54143148</td>\n",
       "      <td>The House of Memory (Pluto's Snitch #2)</td>\n",
       "      <td>The House of Memory (Pluto's Snitch #2)</td>\n",
       "    </tr>\n",
       "    <tr>\n",
       "      <th>2</th>\n",
       "      <td>23</td>\n",
       "      <td>[953679]</td>\n",
       "      <td>US</td>\n",
       "      <td>eng</td>\n",
       "      <td>[{'count': '90', 'name': 'to-read'}, {'count':...</td>\n",
       "      <td>true</td>\n",
       "      <td>3.49</td>\n",
       "      <td>[]</td>\n",
       "      <td>NaN</td>\n",
       "      <td>[{'author_id': '15104629', 'role': ''}, {'auth...</td>\n",
       "      <td>Amazon Digital Services</td>\n",
       "      <td>NaN</td>\n",
       "      <td>NaN</td>\n",
       "      <td>NaN</td>\n",
       "      <td>NaN</td>\n",
       "      <td>29074697</td>\n",
       "      <td>192</td>\n",
       "      <td>49305010</td>\n",
       "      <td>The Slaughtered Virgin of Zenopolis (Inspector...</td>\n",
       "      <td>The Slaughtered Virgin of Zenopolis (Inspector...</td>\n",
       "    </tr>\n",
       "    <tr>\n",
       "      <th>3</th>\n",
       "      <td>8</td>\n",
       "      <td>[408775]</td>\n",
       "      <td>US</td>\n",
       "      <td>NaN</td>\n",
       "      <td>[{'count': '51', 'name': 'to-read'}, {'count':...</td>\n",
       "      <td>false</td>\n",
       "      <td>3.30</td>\n",
       "      <td>[]</td>\n",
       "      <td>Hardcover</td>\n",
       "      <td>[{'author_id': '190988', 'role': ''}]</td>\n",
       "      <td>Ulverscroft</td>\n",
       "      <td>NaN</td>\n",
       "      <td>12</td>\n",
       "      <td>Large Print</td>\n",
       "      <td>1975</td>\n",
       "      <td>1902202</td>\n",
       "      <td>52</td>\n",
       "      <td>1903897</td>\n",
       "      <td>Dead in the Morning (Patrick Grant, #1)</td>\n",
       "      <td>Dead in the Morning (Patrick Grant, #1)</td>\n",
       "    </tr>\n",
       "    <tr>\n",
       "      <th>5</th>\n",
       "      <td>3</td>\n",
       "      <td>[199039]</td>\n",
       "      <td>US</td>\n",
       "      <td>eng</td>\n",
       "      <td>[{'count': '1694', 'name': 'mystery'}, {'count...</td>\n",
       "      <td>false</td>\n",
       "      <td>3.96</td>\n",
       "      <td>[93575, 280849, 243401, 77617]</td>\n",
       "      <td>Audio</td>\n",
       "      <td>[{'author_id': '123715', 'role': ''}, {'author...</td>\n",
       "      <td>HarperAudio</td>\n",
       "      <td>NaN</td>\n",
       "      <td>3</td>\n",
       "      <td>NaN</td>\n",
       "      <td>2013</td>\n",
       "      <td>16158998</td>\n",
       "      <td>5</td>\n",
       "      <td>2288775</td>\n",
       "      <td>A Murder is Announced</td>\n",
       "      <td>A Murder is Announced</td>\n",
       "    </tr>\n",
       "    <tr>\n",
       "      <th>6</th>\n",
       "      <td>5</td>\n",
       "      <td>[]</td>\n",
       "      <td>US</td>\n",
       "      <td>en-GB</td>\n",
       "      <td>[{'count': '27', 'name': 'to-read'}, {'count':...</td>\n",
       "      <td>true</td>\n",
       "      <td>3.80</td>\n",
       "      <td>[]</td>\n",
       "      <td>NaN</td>\n",
       "      <td>[{'author_id': '13658169', 'role': ''}]</td>\n",
       "      <td>NaN</td>\n",
       "      <td>NaN</td>\n",
       "      <td>NaN</td>\n",
       "      <td>NaN</td>\n",
       "      <td>NaN</td>\n",
       "      <td>25162836</td>\n",
       "      <td>8</td>\n",
       "      <td>44866515</td>\n",
       "      <td>Dark Flames Rising</td>\n",
       "      <td>Dark Flames Rising</td>\n",
       "    </tr>\n",
       "    <tr>\n",
       "      <th>7</th>\n",
       "      <td>8</td>\n",
       "      <td>[326237]</td>\n",
       "      <td>US</td>\n",
       "      <td>NaN</td>\n",
       "      <td>[{'count': '38', 'name': 'to-read'}, {'count':...</td>\n",
       "      <td>false</td>\n",
       "      <td>3.61</td>\n",
       "      <td>[]</td>\n",
       "      <td>Paperback</td>\n",
       "      <td>[{'author_id': '1533165', 'role': ''}]</td>\n",
       "      <td>Orion</td>\n",
       "      <td>320</td>\n",
       "      <td>8</td>\n",
       "      <td>NaN</td>\n",
       "      <td>2001</td>\n",
       "      <td>2805495</td>\n",
       "      <td>58</td>\n",
       "      <td>2831381</td>\n",
       "      <td>Wycliffe and the Cycle of Death</td>\n",
       "      <td>Wycliffe and the Cycle of Death</td>\n",
       "    </tr>\n",
       "    <tr>\n",
       "      <th>8</th>\n",
       "      <td>6</td>\n",
       "      <td>[]</td>\n",
       "      <td>US</td>\n",
       "      <td>eng</td>\n",
       "      <td>[{'count': '171', 'name': 'to-read'}, {'count'...</td>\n",
       "      <td>false</td>\n",
       "      <td>4.14</td>\n",
       "      <td>[]</td>\n",
       "      <td>Paperback</td>\n",
       "      <td>[{'author_id': '4577517', 'role': ''}]</td>\n",
       "      <td>280 Steps</td>\n",
       "      <td>228</td>\n",
       "      <td>11</td>\n",
       "      <td>NaN</td>\n",
       "      <td>2014</td>\n",
       "      <td>22722787</td>\n",
       "      <td>18</td>\n",
       "      <td>42251489</td>\n",
       "      <td>The Cost of Doing Business</td>\n",
       "      <td>The Cost of Doing Business</td>\n",
       "    </tr>\n",
       "    <tr>\n",
       "      <th>9</th>\n",
       "      <td>2</td>\n",
       "      <td>[199041]</td>\n",
       "      <td>US</td>\n",
       "      <td>eng</td>\n",
       "      <td>[{'count': '1642', 'name': 'mystery'}, {'count...</td>\n",
       "      <td>false</td>\n",
       "      <td>3.93</td>\n",
       "      <td>[126675, 280990, 660268, 77615, 909334, 243398]</td>\n",
       "      <td>Audiobook</td>\n",
       "      <td>[{'author_id': '123715', 'role': ''}, {'author...</td>\n",
       "      <td>HarperAudio</td>\n",
       "      <td>NaN</td>\n",
       "      <td>3</td>\n",
       "      <td>NaN</td>\n",
       "      <td>2013</td>\n",
       "      <td>16158996</td>\n",
       "      <td>5</td>\n",
       "      <td>6490729</td>\n",
       "      <td>4:50 From Paddington</td>\n",
       "      <td>4:50 From Paddington</td>\n",
       "    </tr>\n",
       "    <tr>\n",
       "      <th>10</th>\n",
       "      <td>46</td>\n",
       "      <td>[510553]</td>\n",
       "      <td>US</td>\n",
       "      <td>eng</td>\n",
       "      <td>[{'count': '328', 'name': 'mystery'}, {'count'...</td>\n",
       "      <td>false</td>\n",
       "      <td>4.07</td>\n",
       "      <td>[11007668, 16065538, 15841850, 13539179, 16045...</td>\n",
       "      <td>Audiobook</td>\n",
       "      <td>[{'author_id': '12577', 'role': ''}, {'author_...</td>\n",
       "      <td>Grand Central Publishing</td>\n",
       "      <td>13</td>\n",
       "      <td>11</td>\n",
       "      <td>eAudiobook</td>\n",
       "      <td>2013</td>\n",
       "      <td>17368265</td>\n",
       "      <td>250</td>\n",
       "      <td>24152432</td>\n",
       "      <td>White Fire (Pendergast, #13)</td>\n",
       "      <td>White Fire (Pendergast, #13)</td>\n",
       "    </tr>\n",
       "  </tbody>\n",
       "</table>\n",
       "</div>"
      ],
      "text/plain": [
       "    text_reviews_count     series country_code language_code  \\\n",
       "0                   15   [169353]           US           NaN   \n",
       "1                   60  [1052227]           US           eng   \n",
       "2                   23   [953679]           US           eng   \n",
       "3                    8   [408775]           US           NaN   \n",
       "5                    3   [199039]           US           eng   \n",
       "6                    5         []           US         en-GB   \n",
       "7                    8   [326237]           US           NaN   \n",
       "8                    6         []           US           eng   \n",
       "9                    2   [199041]           US           eng   \n",
       "10                  46   [510553]           US           eng   \n",
       "\n",
       "                                      popular_shelves is_ebook  \\\n",
       "0   [{'count': '159', 'name': 'to-read'}, {'count'...    false   \n",
       "1   [{'count': '54', 'name': 'currently-reading'},...     true   \n",
       "2   [{'count': '90', 'name': 'to-read'}, {'count':...     true   \n",
       "3   [{'count': '51', 'name': 'to-read'}, {'count':...    false   \n",
       "5   [{'count': '1694', 'name': 'mystery'}, {'count...    false   \n",
       "6   [{'count': '27', 'name': 'to-read'}, {'count':...     true   \n",
       "7   [{'count': '38', 'name': 'to-read'}, {'count':...    false   \n",
       "8   [{'count': '171', 'name': 'to-read'}, {'count'...    false   \n",
       "9   [{'count': '1642', 'name': 'mystery'}, {'count...    false   \n",
       "10  [{'count': '328', 'name': 'mystery'}, {'count'...    false   \n",
       "\n",
       "    average_rating                                      similar_books  \\\n",
       "0             3.93  [439108, 522621, 116770, 1275927, 6202655, 840...   \n",
       "1             4.33                                                 []   \n",
       "2             3.49                                                 []   \n",
       "3             3.30                                                 []   \n",
       "5             3.96                     [93575, 280849, 243401, 77617]   \n",
       "6             3.80                                                 []   \n",
       "7             3.61                                                 []   \n",
       "8             4.14                                                 []   \n",
       "9             3.93    [126675, 280990, 660268, 77615, 909334, 243398]   \n",
       "10            4.07  [11007668, 16065538, 15841850, 13539179, 16045...   \n",
       "\n",
       "       format                                            authors  \\\n",
       "0   Hardcover               [{'author_id': '37778', 'role': ''}]   \n",
       "1         NaN              [{'author_id': '242185', 'role': ''}]   \n",
       "2         NaN  [{'author_id': '15104629', 'role': ''}, {'auth...   \n",
       "3   Hardcover              [{'author_id': '190988', 'role': ''}]   \n",
       "5       Audio  [{'author_id': '123715', 'role': ''}, {'author...   \n",
       "6         NaN            [{'author_id': '13658169', 'role': ''}]   \n",
       "7   Paperback             [{'author_id': '1533165', 'role': ''}]   \n",
       "8   Paperback             [{'author_id': '4577517', 'role': ''}]   \n",
       "9   Audiobook  [{'author_id': '123715', 'role': ''}, {'author...   \n",
       "10  Audiobook  [{'author_id': '12577', 'role': ''}, {'author_...   \n",
       "\n",
       "                   publisher num_pages publication_month edition_information  \\\n",
       "0        Simon & Schuster UK       400                 4                 NaN   \n",
       "1                        NaN       318               NaN                 NaN   \n",
       "2    Amazon Digital Services       NaN               NaN                 NaN   \n",
       "3                Ulverscroft       NaN                12         Large Print   \n",
       "5                HarperAudio       NaN                 3                 NaN   \n",
       "6                        NaN       NaN               NaN                 NaN   \n",
       "7                      Orion       320                 8                 NaN   \n",
       "8                  280 Steps       228                11                 NaN   \n",
       "9                HarperAudio       NaN                 3                 NaN   \n",
       "10  Grand Central Publishing        13                11          eAudiobook   \n",
       "\n",
       "   publication_year   book_id  ratings_count   work_id  \\\n",
       "0              2009   6066814            186   6243149   \n",
       "1               NaN  33394837            269  54143148   \n",
       "2               NaN  29074697            192  49305010   \n",
       "3              1975   1902202             52   1903897   \n",
       "5              2013  16158998              5   2288775   \n",
       "6               NaN  25162836              8  44866515   \n",
       "7              2001   2805495             58   2831381   \n",
       "8              2014  22722787             18  42251489   \n",
       "9              2013  16158996              5   6490729   \n",
       "10             2013  17368265            250  24152432   \n",
       "\n",
       "                                                title  \\\n",
       "0           Crowner Royal (Crowner John Mystery, #13)   \n",
       "1             The House of Memory (Pluto's Snitch #2)   \n",
       "2   The Slaughtered Virgin of Zenopolis (Inspector...   \n",
       "3             Dead in the Morning (Patrick Grant, #1)   \n",
       "5                               A Murder is Announced   \n",
       "6                                  Dark Flames Rising   \n",
       "7                     Wycliffe and the Cycle of Death   \n",
       "8                          The Cost of Doing Business   \n",
       "9                                4:50 From Paddington   \n",
       "10                       White Fire (Pendergast, #13)   \n",
       "\n",
       "                                 title_without_series  \n",
       "0           Crowner Royal (Crowner John Mystery, #13)  \n",
       "1             The House of Memory (Pluto's Snitch #2)  \n",
       "2   The Slaughtered Virgin of Zenopolis (Inspector...  \n",
       "3             Dead in the Morning (Patrick Grant, #1)  \n",
       "5                               A Murder is Announced  \n",
       "6                                  Dark Flames Rising  \n",
       "7                     Wycliffe and the Cycle of Death  \n",
       "8                          The Cost of Doing Business  \n",
       "9                                4:50 From Paddington  \n",
       "10                       White Fire (Pendergast, #13)  "
      ]
     },
     "execution_count": 694,
     "metadata": {},
     "output_type": "execute_result"
    }
   ],
   "source": [
    "df.head(10)"
   ]
  },
  {
   "cell_type": "code",
   "execution_count": 695,
   "metadata": {},
   "outputs": [
    {
     "data": {
      "text/plain": [
       "<bound method Series.isnull of 0         US\n",
       "1         US\n",
       "2         US\n",
       "3         US\n",
       "5         US\n",
       "          ..\n",
       "219229    US\n",
       "219231    US\n",
       "219232    US\n",
       "219233    US\n",
       "219234    US\n",
       "Name: country_code, Length: 182907, dtype: object>"
      ]
     },
     "execution_count": 695,
     "metadata": {},
     "output_type": "execute_result"
    }
   ],
   "source": [
    "df.country_code.isnull"
   ]
  },
  {
   "cell_type": "markdown",
   "metadata": {},
   "source": [
    "All books left are in US. An okay assumption would be to assume these books are english language for the language_code null values"
   ]
  },
  {
   "cell_type": "code",
   "execution_count": 696,
   "metadata": {},
   "outputs": [
    {
     "data": {
      "text/plain": [
       "82451"
      ]
     },
     "execution_count": 696,
     "metadata": {},
     "output_type": "execute_result"
    }
   ],
   "source": [
    "df.language_code.isnull().sum()"
   ]
  },
  {
   "cell_type": "markdown",
   "metadata": {},
   "source": [
    "# Basic cleaning is complete. Now looking at unique values or value counts (for things like title) to see distributions and attempt to eliminate duplicates."
   ]
  },
  {
   "cell_type": "markdown",
   "metadata": {},
   "source": [
    "Note: Decision on null values will be made later on after joining with other data sets. "
   ]
  },
  {
   "cell_type": "code",
   "execution_count": 697,
   "metadata": {},
   "outputs": [
    {
     "data": {
      "text/plain": [
       "Index(['text_reviews_count', 'series', 'country_code', 'language_code',\n",
       "       'popular_shelves', 'is_ebook', 'average_rating', 'similar_books',\n",
       "       'format', 'authors', 'publisher', 'num_pages', 'publication_month',\n",
       "       'edition_information', 'publication_year', 'book_id', 'ratings_count',\n",
       "       'work_id', 'title', 'title_without_series'],\n",
       "      dtype='object')"
      ]
     },
     "execution_count": 697,
     "metadata": {},
     "output_type": "execute_result"
    }
   ],
   "source": [
    "df.columns"
   ]
  },
  {
   "cell_type": "code",
   "execution_count": 698,
   "metadata": {},
   "outputs": [],
   "source": [
    "review_info = ['text_reviews_count','average_rating','ratings_count']\n",
    "book_info = ['format','is_ebook','series', 'num_pages']\n",
    "pub_info = ['edition_information','publication_year', 'publisher', 'publication_month']\n",
    "id_info = ['book_id','work_id']\n",
    "title_info = ['title', 'title_without_series']\n",
    "author_info = ['authors'] #needs separated\n",
    "shelves_info = ['popular_shelves'] #needs separated\n",
    "similar_info = ['similar_books'] # needs separated\n"
   ]
  },
  {
   "cell_type": "code",
   "execution_count": 699,
   "metadata": {},
   "outputs": [],
   "source": [
    "#starting with review information"
   ]
  },
  {
   "cell_type": "code",
   "execution_count": 700,
   "metadata": {},
   "outputs": [
    {
     "name": "stdout",
     "output_type": "stream",
     "text": [
      "<class 'pandas.core.frame.DataFrame'>\n",
      "Int64Index: 182907 entries, 0 to 219234\n",
      "Data columns (total 3 columns):\n",
      " #   Column              Non-Null Count   Dtype  \n",
      "---  ------              --------------   -----  \n",
      " 0   text_reviews_count  182907 non-null  int64  \n",
      " 1   average_rating      182907 non-null  float64\n",
      " 2   ratings_count       182907 non-null  int64  \n",
      "dtypes: float64(1), int64(2)\n",
      "memory usage: 5.6 MB\n"
     ]
    }
   ],
   "source": [
    "df[review_info].info()"
   ]
  },
  {
   "cell_type": "code",
   "execution_count": 701,
   "metadata": {},
   "outputs": [
    {
     "data": {
      "text/html": [
       "<div>\n",
       "<style scoped>\n",
       "    .dataframe tbody tr th:only-of-type {\n",
       "        vertical-align: middle;\n",
       "    }\n",
       "\n",
       "    .dataframe tbody tr th {\n",
       "        vertical-align: top;\n",
       "    }\n",
       "\n",
       "    .dataframe thead th {\n",
       "        text-align: right;\n",
       "    }\n",
       "</style>\n",
       "<table border=\"1\" class=\"dataframe\">\n",
       "  <thead>\n",
       "    <tr style=\"text-align: right;\">\n",
       "      <th></th>\n",
       "      <th>text_reviews_count</th>\n",
       "      <th>average_rating</th>\n",
       "      <th>ratings_count</th>\n",
       "    </tr>\n",
       "  </thead>\n",
       "  <tbody>\n",
       "    <tr>\n",
       "      <th>count</th>\n",
       "      <td>182907.000000</td>\n",
       "      <td>182907.000000</td>\n",
       "      <td>1.829070e+05</td>\n",
       "    </tr>\n",
       "    <tr>\n",
       "      <th>mean</th>\n",
       "      <td>42.302405</td>\n",
       "      <td>3.840558</td>\n",
       "      <td>6.088153e+02</td>\n",
       "    </tr>\n",
       "    <tr>\n",
       "      <th>std</th>\n",
       "      <td>405.180453</td>\n",
       "      <td>0.334366</td>\n",
       "      <td>9.973166e+03</td>\n",
       "    </tr>\n",
       "    <tr>\n",
       "      <th>min</th>\n",
       "      <td>0.000000</td>\n",
       "      <td>0.000000</td>\n",
       "      <td>0.000000e+00</td>\n",
       "    </tr>\n",
       "    <tr>\n",
       "      <th>25%</th>\n",
       "      <td>3.000000</td>\n",
       "      <td>3.660000</td>\n",
       "      <td>1.200000e+01</td>\n",
       "    </tr>\n",
       "    <tr>\n",
       "      <th>50%</th>\n",
       "      <td>7.000000</td>\n",
       "      <td>3.860000</td>\n",
       "      <td>4.000000e+01</td>\n",
       "    </tr>\n",
       "    <tr>\n",
       "      <th>75%</th>\n",
       "      <td>20.000000</td>\n",
       "      <td>4.050000</td>\n",
       "      <td>1.540000e+02</td>\n",
       "    </tr>\n",
       "    <tr>\n",
       "      <th>max</th>\n",
       "      <td>78438.000000</td>\n",
       "      <td>5.000000</td>\n",
       "      <td>2.046499e+06</td>\n",
       "    </tr>\n",
       "  </tbody>\n",
       "</table>\n",
       "</div>"
      ],
      "text/plain": [
       "       text_reviews_count  average_rating  ratings_count\n",
       "count       182907.000000   182907.000000   1.829070e+05\n",
       "mean            42.302405        3.840558   6.088153e+02\n",
       "std            405.180453        0.334366   9.973166e+03\n",
       "min              0.000000        0.000000   0.000000e+00\n",
       "25%              3.000000        3.660000   1.200000e+01\n",
       "50%              7.000000        3.860000   4.000000e+01\n",
       "75%             20.000000        4.050000   1.540000e+02\n",
       "max          78438.000000        5.000000   2.046499e+06"
      ]
     },
     "execution_count": 701,
     "metadata": {},
     "output_type": "execute_result"
    }
   ],
   "source": [
    "df[review_info].describe()"
   ]
  },
  {
   "cell_type": "code",
   "execution_count": 702,
   "metadata": {},
   "outputs": [
    {
     "data": {
      "text/plain": [
       "array([[<matplotlib.axes._subplots.AxesSubplot object at 0x13560e760>,\n",
       "        <matplotlib.axes._subplots.AxesSubplot object at 0x132df6d00>],\n",
       "       [<matplotlib.axes._subplots.AxesSubplot object at 0x12b0f4040>,\n",
       "        <matplotlib.axes._subplots.AxesSubplot object at 0x132e3c280>]],\n",
       "      dtype=object)"
      ]
     },
     "execution_count": 702,
     "metadata": {},
     "output_type": "execute_result"
    },
    {
     "data": {
      "image/png": "[encoded data removed]",
      "text/plain": [
       "<Figure size 432x288 with 4 Axes>"
      ]
     },
     "metadata": {
      "needs_background": "light"
     },
     "output_type": "display_data"
    }
   ],
   "source": [
    "df[review_info].hist()"
   ]
  },
  {
   "cell_type": "markdown",
   "metadata": {},
   "source": [
    " A few books have a large number of text reviews and ratings, throwing off the histograms. Let's remove the highly skewed values and look at the plots again. "
   ]
  },
  {
   "cell_type": "code",
   "execution_count": 703,
   "metadata": {},
   "outputs": [
    {
     "data": {
      "text/plain": [
       "{'whiskers': [<matplotlib.lines.Line2D at 0x12b13a190>,\n",
       "  <matplotlib.lines.Line2D at 0x12b13a8e0>],\n",
       " 'caps': [<matplotlib.lines.Line2D at 0x12b13a430>,\n",
       "  <matplotlib.lines.Line2D at 0x12b137610>],\n",
       " 'boxes': [<matplotlib.lines.Line2D at 0x12b13a070>],\n",
       " 'medians': [<matplotlib.lines.Line2D at 0x12b137310>],\n",
       " 'fliers': [<matplotlib.lines.Line2D at 0x12b137490>],\n",
       " 'means': []}"
      ]
     },
     "execution_count": 703,
     "metadata": {},
     "output_type": "execute_result"
    },
    {
     "data": {
      "image/png": "[encoded data removed]",
      "text/plain": [
       "<Figure size 432x288 with 1 Axes>"
      ]
     },
     "metadata": {
      "needs_background": "light"
     },
     "output_type": "display_data"
    }
   ],
   "source": [
    "plt.boxplot(df.text_reviews_count)"
   ]
  },
  {
   "cell_type": "code",
   "execution_count": 704,
   "metadata": {},
   "outputs": [
    {
     "data": {
      "text/plain": [
       "<matplotlib.axes._subplots.AxesSubplot at 0x12b135c70>"
      ]
     },
     "execution_count": 704,
     "metadata": {},
     "output_type": "execute_result"
    },
    {
     "data": {
      "image/png": "[encoded data removed]",
      "text/plain": [
       "<Figure size 432x288 with 1 Axes>"
      ]
     },
     "metadata": {
      "needs_background": "light"
     },
     "output_type": "display_data"
    }
   ],
   "source": [
    "df.text_reviews_count.loc[df['text_reviews_count'] < 400].hist(bins=20)"
   ]
  },
  {
   "cell_type": "code",
   "execution_count": 705,
   "metadata": {},
   "outputs": [
    {
     "data": {
      "text/plain": [
       "{'whiskers': [<matplotlib.lines.Line2D at 0x12d0d5970>,\n",
       "  <matplotlib.lines.Line2D at 0x12d0d58b0>],\n",
       " 'caps': [<matplotlib.lines.Line2D at 0x12d0d54f0>,\n",
       "  <matplotlib.lines.Line2D at 0x12d0be4f0>],\n",
       " 'boxes': [<matplotlib.lines.Line2D at 0x12d0d5a00>],\n",
       " 'medians': [<matplotlib.lines.Line2D at 0x12d0be5b0>],\n",
       " 'fliers': [<matplotlib.lines.Line2D at 0x12d0be070>],\n",
       " 'means': []}"
      ]
     },
     "execution_count": 705,
     "metadata": {},
     "output_type": "execute_result"
    },
    {
     "data": {
      "image/png": "[encoded data removed]",
      "text/plain": [
       "<Figure size 432x288 with 1 Axes>"
      ]
     },
     "metadata": {
      "needs_background": "light"
     },
     "output_type": "display_data"
    }
   ],
   "source": [
    "plt.boxplot(df.ratings_count)"
   ]
  },
  {
   "cell_type": "code",
   "execution_count": 706,
   "metadata": {},
   "outputs": [
    {
     "data": {
      "text/plain": [
       "<matplotlib.axes._subplots.AxesSubplot at 0x12d0c31c0>"
      ]
     },
     "execution_count": 706,
     "metadata": {},
     "output_type": "execute_result"
    },
    {
     "data": {
      "image/png": "[encoded data removed]",
      "text/plain": [
       "<Figure size 432x288 with 1 Axes>"
      ]
     },
     "metadata": {
      "needs_background": "light"
     },
     "output_type": "display_data"
    }
   ],
   "source": [
    "df.ratings_count.loc[df['ratings_count'] < 1600].hist(bins=25)"
   ]
  },
  {
   "cell_type": "markdown",
   "metadata": {},
   "source": [
    "Most books have few reviews and ratings, with a few having almost outlier level numbers. May want to be careful in the weighting of # of reviews if the goal is to provide a wider variety of suggestions. \n",
    "\n",
    "Current plan for null values is to take the mean for text reviews count, average rating will be the avg. of the \"similar books\" column, and ratings count will be either 0 or an average. "
   ]
  },
  {
   "cell_type": "code",
   "execution_count": 707,
   "metadata": {},
   "outputs": [],
   "source": [
    "#Moving on to book information"
   ]
  },
  {
   "cell_type": "code",
   "execution_count": 708,
   "metadata": {},
   "outputs": [
    {
     "data": {
      "text/html": [
       "<div>\n",
       "<style scoped>\n",
       "    .dataframe tbody tr th:only-of-type {\n",
       "        vertical-align: middle;\n",
       "    }\n",
       "\n",
       "    .dataframe tbody tr th {\n",
       "        vertical-align: top;\n",
       "    }\n",
       "\n",
       "    .dataframe thead th {\n",
       "        text-align: right;\n",
       "    }\n",
       "</style>\n",
       "<table border=\"1\" class=\"dataframe\">\n",
       "  <thead>\n",
       "    <tr style=\"text-align: right;\">\n",
       "      <th></th>\n",
       "      <th>format</th>\n",
       "      <th>is_ebook</th>\n",
       "      <th>series</th>\n",
       "      <th>num_pages</th>\n",
       "    </tr>\n",
       "  </thead>\n",
       "  <tbody>\n",
       "    <tr>\n",
       "      <th>0</th>\n",
       "      <td>Hardcover</td>\n",
       "      <td>false</td>\n",
       "      <td>[169353]</td>\n",
       "      <td>400</td>\n",
       "    </tr>\n",
       "    <tr>\n",
       "      <th>1</th>\n",
       "      <td>NaN</td>\n",
       "      <td>true</td>\n",
       "      <td>[1052227]</td>\n",
       "      <td>318</td>\n",
       "    </tr>\n",
       "    <tr>\n",
       "      <th>2</th>\n",
       "      <td>NaN</td>\n",
       "      <td>true</td>\n",
       "      <td>[953679]</td>\n",
       "      <td>NaN</td>\n",
       "    </tr>\n",
       "    <tr>\n",
       "      <th>3</th>\n",
       "      <td>Hardcover</td>\n",
       "      <td>false</td>\n",
       "      <td>[408775]</td>\n",
       "      <td>NaN</td>\n",
       "    </tr>\n",
       "    <tr>\n",
       "      <th>5</th>\n",
       "      <td>Audio</td>\n",
       "      <td>false</td>\n",
       "      <td>[199039]</td>\n",
       "      <td>NaN</td>\n",
       "    </tr>\n",
       "    <tr>\n",
       "      <th>...</th>\n",
       "      <td>...</td>\n",
       "      <td>...</td>\n",
       "      <td>...</td>\n",
       "      <td>...</td>\n",
       "    </tr>\n",
       "    <tr>\n",
       "      <th>219229</th>\n",
       "      <td>NaN</td>\n",
       "      <td>true</td>\n",
       "      <td>[1035852]</td>\n",
       "      <td>NaN</td>\n",
       "    </tr>\n",
       "    <tr>\n",
       "      <th>219231</th>\n",
       "      <td>Paperback</td>\n",
       "      <td>false</td>\n",
       "      <td>[]</td>\n",
       "      <td>208</td>\n",
       "    </tr>\n",
       "    <tr>\n",
       "      <th>219232</th>\n",
       "      <td>Paperback</td>\n",
       "      <td>false</td>\n",
       "      <td>[]</td>\n",
       "      <td>288</td>\n",
       "    </tr>\n",
       "    <tr>\n",
       "      <th>219233</th>\n",
       "      <td>ebook</td>\n",
       "      <td>true</td>\n",
       "      <td>[]</td>\n",
       "      <td>NaN</td>\n",
       "    </tr>\n",
       "    <tr>\n",
       "      <th>219234</th>\n",
       "      <td>Paperback</td>\n",
       "      <td>false</td>\n",
       "      <td>[]</td>\n",
       "      <td>148</td>\n",
       "    </tr>\n",
       "  </tbody>\n",
       "</table>\n",
       "<p>182907 rows × 4 columns</p>\n",
       "</div>"
      ],
      "text/plain": [
       "           format is_ebook     series num_pages\n",
       "0       Hardcover    false   [169353]       400\n",
       "1             NaN     true  [1052227]       318\n",
       "2             NaN     true   [953679]       NaN\n",
       "3       Hardcover    false   [408775]       NaN\n",
       "5           Audio    false   [199039]       NaN\n",
       "...           ...      ...        ...       ...\n",
       "219229        NaN     true  [1035852]       NaN\n",
       "219231  Paperback    false         []       208\n",
       "219232  Paperback    false         []       288\n",
       "219233      ebook     true         []       NaN\n",
       "219234  Paperback    false         []       148\n",
       "\n",
       "[182907 rows x 4 columns]"
      ]
     },
     "execution_count": 708,
     "metadata": {},
     "output_type": "execute_result"
    }
   ],
   "source": [
    "df[book_info]"
   ]
  },
  {
   "cell_type": "code",
   "execution_count": 709,
   "metadata": {},
   "outputs": [
    {
     "data": {
      "text/plain": [
       "array(['Hardcover', nan, 'Audio', 'Paperback', 'Audiobook', 'Audio CD',\n",
       "       'ebook', 'Audible Audio', 'Kindle Edition',\n",
       "       'Mass Market Paperback', 'Unknown Binding', 'Library Binding',\n",
       "       'Audio Cassette', 'CD-ROM', 'Leather Bound', 'MP3 CD',\n",
       "       'Trade Paperback', 'mass market paperback', 'Proof',\n",
       "       'ebook &amp; paperback', 'Sony Reader', 'Paperback - Large Print',\n",
       "       'paper', 'Leatherbound', 'paperback', 'Soft Cover',\n",
       "       'trade paperback', 'HARDCOVER', 'webtoon', 'hardback',\n",
       "       'Tradepaperback', 'Unbound', 'Nook',\n",
       "       'Mass Market Paperback - Reissue', 'softcover', 'Board Book',\n",
       "       'Radio drama', 'Kindle, Paperback', 'large print', 'Large Print',\n",
       "       'ebook&amp;paperback', 'Paperback and ebook', 'ebook, paperback',\n",
       "       'Softcover', 'MP3 Audio', 'Digital Audio', 'Playaway',\n",
       "       'true first ed HC, re-bound by library', 'audio', 'hardcover',\n",
       "       'Graphic Novel', 'ARC', 'Kindle Edition, Paperback', 'Paper',\n",
       "       'MP3 Book', 'Export Trade Paperback', 'Hardback', 'Hard Cover',\n",
       "       'Online Freebie', 'Inbunden', 'Audio Cassette - Abridged',\n",
       "       'Fictional Novel', '10 Compact Discs', 'Chapbook',\n",
       "       'Digital Audio (Unabridged)', 'Paperback, eBook',\n",
       "       'Multiple Formats', 'Capa Mole', 'eBook', 'Paperback, ebook',\n",
       "       'Leatherette Bound', '(Paperback)', 'Poche',\n",
       "       'Kindle and Paperback', 'Kindle', 'ebook and paperback',\n",
       "       'Kindle Edition and Paperback', 'Capa Dura',\n",
       "       'Hardcover (Large Print)', 'Bookpaper', 'Periodical', 'Comic Book',\n",
       "       'Paperback and Kindle', 'Trade Paper back', 'MP3 Audible',\n",
       "       'Podiobook', 'eAudiobook', 'Book', 'Limited Edition Hardcover',\n",
       "       'Hardcover - Large Print', 'pb', 'Podcast',\n",
       "       'Boxed Set (paperback)', 'Diskette',\n",
       "       'Preloaded Digital Audio Player', 'Playaway Audio', 'Novelty Book',\n",
       "       'Seeds Of Civilization', 'Perfect Paperback', 'MIRA',\n",
       "       'Paperback, e-Book', 'epub', 'Paperback and e-book', 'Board book',\n",
       "       'Online post', 'Large Print Hardcover', 'Open Market Paperback',\n",
       "       'Textbook Binding', 'PDB', 'Trade paperback', 'iBook',\n",
       "       'Paperback/Kindle', 'mp3 Audiobook', 'Trade Paperbck',\n",
       "       'Paperback Manga', 'Vook', 'Hardcover-LP', 'ebook and print',\n",
       "       'Box Set', 'Preloaded Digital Player', 'Soft cover',\n",
       "       'MP3 Audio Download', 'Comic', 'MP3 Download',\n",
       "       'Paperback and EBook', 'Digital Chapbook', 'S', 'cloth',\n",
       "       'Capa Mole (Livro de Bolso)', 'Mass-Market', 'Web Serial Novel',\n",
       "       'Library Edition', 'Online', 'Audiobook - Audible Download',\n",
       "       'Part-In-Omnibus', 'VHS Tape', 'CD', 'Kindle eBook',\n",
       "       'Kindel Edition', 'UK paperback', 'audible audio', 'Audiocassette',\n",
       "       'Paperback &amp; PDF', 'Print and ebook', 'Audio Book',\n",
       "       'Livro de Bolso', 'audiobook', 'Ebook and paperback',\n",
       "       'Paperback, Kindle', 'online fiction', 'Faux leather hardcover',\n",
       "       'box set', 'Audiocassette (unabridged)', 'Original Online Fiction',\n",
       "       'hard cover', 'audio cassette', 'Free Online Fiction',\n",
       "       'Paperback - C Format', 'audio CD', 'Ebook &amp; Paperback',\n",
       "       'Audio Playaway', 'Uncorrected Proof', 'kindle',\n",
       "       'Adobe Digital Edition', 'Podio book',\n",
       "       'Paperback; Digital (epub, mobi)', \"Advance Reader's Copy\", 'Kobo',\n",
       "       'E-book &amp; Paperback', 'Pocket Book', 'Crime and Investigation',\n",
       "       'Audio CD (Unabr.)', 'Capa mole', 'Mobi', 'ebook (Version Kindle)',\n",
       "       'podcast/podiobooks', 'MP3', 'audiocassette',\n",
       "       'ebook, paperback, Audible audio', 'paperback and ebook',\n",
       "       'Hardcover, Book Club Edition', 'mass market Paperback', 'Mystery',\n",
       "       'ebook, print', 'Pocket Paperback', 'Advance Review Copy',\n",
       "       'Podcast / Audiobook', 'Original UK Hardback', 'Kindle/Paperback',\n",
       "       'Audio Cassette (Libr.) (Unabr.)', 'Audio Cassette - Unabridged',\n",
       "       'Hard cover', 'Broche', 'audio cd', 'Internet Platform',\n",
       "       'Audible MP3 Download', 'Print', 'UK Paperback', 'Harcover',\n",
       "       'mass market', 'Abriged Unknown Binding', 'Mass-market paperback',\n",
       "       'print/Kindle', 'Abriged Audio CD', 'Tankobon', 'Hardover',\n",
       "       'Audio cd', 'Online Fiction - Complete', 'Print and Download',\n",
       "       'Online Publication', 'Unknown', 'electronic &amp; print',\n",
       "       'Paperback, eBook, Audible', 'Large Print Paperback',\n",
       "       'ebook and trade paperback', 'Paperback &amp; Kindle',\n",
       "       'Audible, USA Download', 'Audiobook Unabridged', 'ebook, kindle',\n",
       "       'Unabriged Audio CD'], dtype=object)"
      ]
     },
     "execution_count": 709,
     "metadata": {},
     "output_type": "execute_result"
    }
   ],
   "source": [
    "df.format.unique()"
   ]
  },
  {
   "cell_type": "code",
   "execution_count": 710,
   "metadata": {},
   "outputs": [
    {
     "data": {
      "text/plain": [
       "219"
      ]
     },
     "execution_count": 710,
     "metadata": {},
     "output_type": "execute_result"
    }
   ],
   "source": [
    "df.format.nunique()"
   ]
  },
  {
   "cell_type": "code",
   "execution_count": 711,
   "metadata": {},
   "outputs": [],
   "source": [
    "#Making all formats lower case\n",
    "df.format = df.format.str.lower()"
   ]
  },
  {
   "cell_type": "code",
   "execution_count": 712,
   "metadata": {},
   "outputs": [
    {
     "data": {
      "text/plain": [
       "186"
      ]
     },
     "execution_count": 712,
     "metadata": {},
     "output_type": "execute_result"
    }
   ],
   "source": [
    "df.format.nunique()"
   ]
  },
  {
   "cell_type": "code",
   "execution_count": 713,
   "metadata": {},
   "outputs": [
    {
     "data": {
      "text/plain": [
       "array(['hardcover', nan, 'audio', 'paperback', 'audiobook', 'audio cd',\n",
       "       'ebook', 'audible audio', 'kindle edition',\n",
       "       'mass market paperback', 'unknown binding', 'library binding',\n",
       "       'audio cassette', 'cd-rom', 'leather bound', 'mp3 cd',\n",
       "       'trade paperback', 'proof', 'ebook &amp; paperback', 'sony reader',\n",
       "       'paperback - large print', 'paper', 'leatherbound', 'soft cover',\n",
       "       'webtoon', 'hardback', 'tradepaperback', 'unbound', 'nook',\n",
       "       'mass market paperback - reissue', 'softcover', 'board book',\n",
       "       'radio drama', 'kindle, paperback', 'large print',\n",
       "       'ebook&amp;paperback', 'paperback and ebook', 'ebook, paperback',\n",
       "       'mp3 audio', 'digital audio', 'playaway',\n",
       "       'true first ed hc, re-bound by library', 'graphic novel', 'arc',\n",
       "       'kindle edition, paperback', 'mp3 book', 'export trade paperback',\n",
       "       'hard cover', 'online freebie', 'inbunden',\n",
       "       'audio cassette - abridged', 'fictional novel', '10 compact discs',\n",
       "       'chapbook', 'digital audio (unabridged)', 'paperback, ebook',\n",
       "       'multiple formats', 'capa mole', 'leatherette bound',\n",
       "       '(paperback)', 'poche', 'kindle and paperback', 'kindle',\n",
       "       'ebook and paperback', 'kindle edition and paperback', 'capa dura',\n",
       "       'hardcover (large print)', 'bookpaper', 'periodical', 'comic book',\n",
       "       'paperback and kindle', 'trade paper back', 'mp3 audible',\n",
       "       'podiobook', 'eaudiobook', 'book', 'limited edition hardcover',\n",
       "       'hardcover - large print', 'pb', 'podcast',\n",
       "       'boxed set (paperback)', 'diskette',\n",
       "       'preloaded digital audio player', 'playaway audio', 'novelty book',\n",
       "       'seeds of civilization', 'perfect paperback', 'mira',\n",
       "       'paperback, e-book', 'epub', 'paperback and e-book', 'online post',\n",
       "       'large print hardcover', 'open market paperback',\n",
       "       'textbook binding', 'pdb', 'ibook', 'paperback/kindle',\n",
       "       'mp3 audiobook', 'trade paperbck', 'paperback manga', 'vook',\n",
       "       'hardcover-lp', 'ebook and print', 'box set',\n",
       "       'preloaded digital player', 'mp3 audio download', 'comic',\n",
       "       'mp3 download', 'digital chapbook', 's', 'cloth',\n",
       "       'capa mole (livro de bolso)', 'mass-market', 'web serial novel',\n",
       "       'library edition', 'online', 'audiobook - audible download',\n",
       "       'part-in-omnibus', 'vhs tape', 'cd', 'kindle ebook',\n",
       "       'kindel edition', 'uk paperback', 'audiocassette',\n",
       "       'paperback &amp; pdf', 'print and ebook', 'audio book',\n",
       "       'livro de bolso', 'paperback, kindle', 'online fiction',\n",
       "       'faux leather hardcover', 'audiocassette (unabridged)',\n",
       "       'original online fiction', 'free online fiction',\n",
       "       'paperback - c format', 'audio playaway', 'uncorrected proof',\n",
       "       'adobe digital edition', 'podio book',\n",
       "       'paperback; digital (epub, mobi)', \"advance reader's copy\", 'kobo',\n",
       "       'e-book &amp; paperback', 'pocket book', 'crime and investigation',\n",
       "       'audio cd (unabr.)', 'mobi', 'ebook (version kindle)',\n",
       "       'podcast/podiobooks', 'mp3', 'ebook, paperback, audible audio',\n",
       "       'hardcover, book club edition', 'mystery', 'ebook, print',\n",
       "       'pocket paperback', 'advance review copy', 'podcast / audiobook',\n",
       "       'original uk hardback', 'kindle/paperback',\n",
       "       'audio cassette (libr.) (unabr.)', 'audio cassette - unabridged',\n",
       "       'broche', 'internet platform', 'audible mp3 download', 'print',\n",
       "       'harcover', 'mass market', 'abriged unknown binding',\n",
       "       'mass-market paperback', 'print/kindle', 'abriged audio cd',\n",
       "       'tankobon', 'hardover', 'online fiction - complete',\n",
       "       'print and download', 'online publication', 'unknown',\n",
       "       'electronic &amp; print', 'paperback, ebook, audible',\n",
       "       'large print paperback', 'ebook and trade paperback',\n",
       "       'paperback &amp; kindle', 'audible, usa download',\n",
       "       'audiobook unabridged', 'ebook, kindle', 'unabriged audio cd'],\n",
       "      dtype=object)"
      ]
     },
     "execution_count": 713,
     "metadata": {},
     "output_type": "execute_result"
    }
   ],
   "source": [
    "df.format.unique()"
   ]
  },
  {
   "cell_type": "code",
   "execution_count": 714,
   "metadata": {},
   "outputs": [
    {
     "data": {
      "text/plain": [
       "text_reviews_count        int64\n",
       "series                   object\n",
       "country_code             object\n",
       "language_code            object\n",
       "popular_shelves          object\n",
       "is_ebook                 object\n",
       "average_rating          float64\n",
       "similar_books            object\n",
       "format                   object\n",
       "authors                  object\n",
       "publisher                object\n",
       "num_pages                object\n",
       "publication_month        object\n",
       "edition_information      object\n",
       "publication_year         object\n",
       "book_id                   int64\n",
       "ratings_count             int64\n",
       "work_id                   int64\n",
       "title                    object\n",
       "title_without_series     object\n",
       "dtype: object"
      ]
     },
     "execution_count": 714,
     "metadata": {},
     "output_type": "execute_result"
    }
   ],
   "source": [
    "df.dtypes"
   ]
  },
  {
   "cell_type": "code",
   "execution_count": 715,
   "metadata": {},
   "outputs": [
    {
     "data": {
      "text/plain": [
       "paperback                58259\n",
       "hardcover                23816\n",
       "ebook                    14979\n",
       "kindle edition           12819\n",
       "audio cd                  6669\n",
       "mass market paperback     5079\n",
       "audiobook                 3050\n",
       "audible audio             2025\n",
       "audio                     1828\n",
       "unknown binding            518\n",
       "audio cassette             233\n",
       "mp3 cd                     193\n",
       "trade paperback             96\n",
       "library binding             92\n",
       "nook                        56\n",
       "hardback                    27\n",
       "leather bound               25\n",
       "large print                 16\n",
       "digital audio               10\n",
       "capa mole                    9\n",
       "Name: format, dtype: int64"
      ]
     },
     "execution_count": 715,
     "metadata": {},
     "output_type": "execute_result"
    }
   ],
   "source": [
    "df.format.value_counts().head(20)"
   ]
  },
  {
   "cell_type": "code",
   "execution_count": 716,
   "metadata": {},
   "outputs": [
    {
     "data": {
      "text/plain": [
       "The Adventures of Sherlock Holmes                                      93\n",
       "Rebecca                                                                81\n",
       "The Hound of the Baskervilles                                          71\n",
       "The Woman in White                                                     68\n",
       "And Then There Were None                                               67\n",
       "                                                                       ..\n",
       "The Girl Who Kicked the Hornets' Nest: Wiki content for your Kindle     1\n",
       "Sunspot                                                                 1\n",
       "Tenth Justice                                                           1\n",
       "The Hanged Man: A Tarot Card Mystery                                    1\n",
       "The Beggar's Opera (Inspector Ramírez, #1)                              1\n",
       "Name: title, Length: 107563, dtype: int64"
      ]
     },
     "execution_count": 716,
     "metadata": {},
     "output_type": "execute_result"
    }
   ],
   "source": [
    "#Looking for duplicates due to paperback, hardcover, & audio separation \n",
    "df.title.value_counts()"
   ]
  },
  {
   "cell_type": "code",
   "execution_count": 717,
   "metadata": {},
   "outputs": [
    {
     "data": {
      "text/plain": [
       "The Adventures of Sherlock Holmes                                      93\n",
       "Rebecca                                                                81\n",
       "The Hound of the Baskervilles                                          71\n",
       "The Woman in White                                                     68\n",
       "And Then There Were None                                               67\n",
       "                                                                       ..\n",
       "The Girl Who Kicked the Hornets' Nest: Wiki content for your Kindle     1\n",
       "Sunspot                                                                 1\n",
       "Tenth Justice                                                           1\n",
       "The Hanged Man: A Tarot Card Mystery                                    1\n",
       "The Beggar's Opera (Inspector Ramírez, #1)                              1\n",
       "Name: title_without_series, Length: 107563, dtype: int64"
      ]
     },
     "execution_count": 717,
     "metadata": {},
     "output_type": "execute_result"
    }
   ],
   "source": [
    "df.title_without_series.value_counts()"
   ]
  },
  {
   "cell_type": "code",
   "execution_count": 718,
   "metadata": {},
   "outputs": [
    {
     "data": {
      "text/plain": [
       "<matplotlib.axes._subplots.AxesSubplot at 0x12fdf2940>"
      ]
     },
     "execution_count": 718,
     "metadata": {},
     "output_type": "execute_result"
    },
    {
     "data": {
      "image/png": "[encoded data removed]",
      "text/plain": [
       "<Figure size 432x288 with 1 Axes>"
      ]
     },
     "metadata": {
      "needs_background": "light"
     },
     "output_type": "display_data"
    }
   ],
   "source": [
    "df.title.value_counts().hist(bins=100)"
   ]
  },
  {
   "cell_type": "code",
   "execution_count": 719,
   "metadata": {},
   "outputs": [
    {
     "data": {
      "text/plain": [
       "<matplotlib.axes._subplots.AxesSubplot at 0x126d38580>"
      ]
     },
     "execution_count": 719,
     "metadata": {},
     "output_type": "execute_result"
    },
    {
     "data": {
      "image/png": "[encoded data removed]",
      "text/plain": [
       "<Figure size 432x288 with 1 Axes>"
      ]
     },
     "metadata": {
      "needs_background": "light"
     },
     "output_type": "display_data"
    }
   ],
   "source": [
    "#Looking at books with value_counts > 20\n",
    "df.title.value_counts().loc[df.title.value_counts() >= 20].hist(bins=25)"
   ]
  },
  {
   "cell_type": "code",
   "execution_count": 720,
   "metadata": {},
   "outputs": [
    {
     "data": {
      "text/plain": [
       "<matplotlib.axes._subplots.AxesSubplot at 0x12ac07a30>"
      ]
     },
     "execution_count": 720,
     "metadata": {},
     "output_type": "execute_result"
    },
    {
     "data": {
      "image/png": "[encoded data removed]",
      "text/plain": [
       "<Figure size 432x288 with 1 Axes>"
      ]
     },
     "metadata": {
      "needs_background": "light"
     },
     "output_type": "display_data"
    }
   ],
   "source": [
    "df.title.value_counts().loc[df.title.value_counts() < 20].hist(bins=20)"
   ]
  },
  {
   "cell_type": "code",
   "execution_count": 721,
   "metadata": {},
   "outputs": [
    {
     "data": {
      "text/plain": [
       "106887"
      ]
     },
     "execution_count": 721,
     "metadata": {},
     "output_type": "execute_result"
    }
   ],
   "source": [
    "df.title.value_counts().loc[df.title.value_counts() > 1].sum()"
   ]
  },
  {
   "cell_type": "code",
   "execution_count": 722,
   "metadata": {},
   "outputs": [
    {
     "data": {
      "text/plain": [
       "array([93, 81, 71, 68, 67, 61, 60, 53, 44, 43, 41, 40, 39, 38, 37, 36, 35,\n",
       "       32, 31, 30, 29, 28, 27, 26, 25, 24, 23, 22, 21, 20, 19, 18, 17, 16,\n",
       "       15, 14, 13, 12, 11, 10,  9,  8,  7,  6,  5,  4,  3,  2])"
      ]
     },
     "execution_count": 722,
     "metadata": {},
     "output_type": "execute_result"
    }
   ],
   "source": [
    "df.title.value_counts().loc[df.title.value_counts() > 1].unique()"
   ]
  },
  {
   "cell_type": "code",
   "execution_count": 723,
   "metadata": {},
   "outputs": [
    {
     "data": {
      "text/plain": [
       "48"
      ]
     },
     "execution_count": 723,
     "metadata": {},
     "output_type": "execute_result"
    }
   ],
   "source": [
    "df.title.value_counts().loc[df.title.value_counts() > 1].nunique()"
   ]
  },
  {
   "cell_type": "markdown",
   "metadata": {},
   "source": [
    "Only 48 books have duplicate titles. "
   ]
  },
  {
   "cell_type": "code",
   "execution_count": 724,
   "metadata": {},
   "outputs": [
    {
     "data": {
      "text/plain": [
       "The Adventures of Sherlock Holmes                       93\n",
       "Rebecca                                                 81\n",
       "The Hound of the Baskervilles                           71\n",
       "The Woman in White                                      68\n",
       "And Then There Were None                                67\n",
       "                                                        ..\n",
       "Ash (Asher Benson #1)                                    2\n",
       "Killer's Payoff (87th Precinct #6)                       2\n",
       "Detective Camp (A to Z Mysteries: Super Edition, #1)     2\n",
       "Buried Dreams: Inside the Mind of a Serial Killer        2\n",
       "The Curse of Crow Hollow                                 2\n",
       "Name: title, Length: 31543, dtype: int64"
      ]
     },
     "execution_count": 724,
     "metadata": {},
     "output_type": "execute_result"
    }
   ],
   "source": [
    "df.title.value_counts().loc[df.title.value_counts() > 1]"
   ]
  },
  {
   "cell_type": "code",
   "execution_count": 725,
   "metadata": {},
   "outputs": [
    {
     "data": {
      "text/html": [
       "<div>\n",
       "<style scoped>\n",
       "    .dataframe tbody tr th:only-of-type {\n",
       "        vertical-align: middle;\n",
       "    }\n",
       "\n",
       "    .dataframe tbody tr th {\n",
       "        vertical-align: top;\n",
       "    }\n",
       "\n",
       "    .dataframe thead th {\n",
       "        text-align: right;\n",
       "    }\n",
       "</style>\n",
       "<table border=\"1\" class=\"dataframe\">\n",
       "  <thead>\n",
       "    <tr style=\"text-align: right;\">\n",
       "      <th></th>\n",
       "      <th>text_reviews_count</th>\n",
       "      <th>series</th>\n",
       "      <th>country_code</th>\n",
       "      <th>language_code</th>\n",
       "      <th>popular_shelves</th>\n",
       "      <th>is_ebook</th>\n",
       "      <th>average_rating</th>\n",
       "      <th>similar_books</th>\n",
       "      <th>format</th>\n",
       "      <th>authors</th>\n",
       "      <th>publisher</th>\n",
       "      <th>num_pages</th>\n",
       "      <th>publication_month</th>\n",
       "      <th>edition_information</th>\n",
       "      <th>publication_year</th>\n",
       "      <th>book_id</th>\n",
       "      <th>ratings_count</th>\n",
       "      <th>work_id</th>\n",
       "      <th>title</th>\n",
       "      <th>title_without_series</th>\n",
       "    </tr>\n",
       "  </thead>\n",
       "  <tbody>\n",
       "    <tr>\n",
       "      <th>99</th>\n",
       "      <td>28</td>\n",
       "      <td>[]</td>\n",
       "      <td>US</td>\n",
       "      <td>NaN</td>\n",
       "      <td>[{'count': '95', 'name': 'to-read'}, {'count':...</td>\n",
       "      <td>true</td>\n",
       "      <td>3.57</td>\n",
       "      <td>[6650065, 394154, 12398221, 232396, 4945903, 6...</td>\n",
       "      <td>ebook</td>\n",
       "      <td>[{'author_id': '822613', 'role': ''}]</td>\n",
       "      <td>Maclehose Press Quercus</td>\n",
       "      <td>NaN</td>\n",
       "      <td>11</td>\n",
       "      <td>NaN</td>\n",
       "      <td>2017</td>\n",
       "      <td>35593693</td>\n",
       "      <td>50</td>\n",
       "      <td>48544183</td>\n",
       "      <td>Three Days and a Life</td>\n",
       "      <td>Three Days and a Life</td>\n",
       "    </tr>\n",
       "    <tr>\n",
       "      <th>379</th>\n",
       "      <td>32</td>\n",
       "      <td>[]</td>\n",
       "      <td>US</td>\n",
       "      <td>eng</td>\n",
       "      <td>[{'count': '1878', 'name': 'non-fiction'}, {'c...</td>\n",
       "      <td>false</td>\n",
       "      <td>4.00</td>\n",
       "      <td>[333907, 487445, 231585, 691023, 135892, 75076...</td>\n",
       "      <td>NaN</td>\n",
       "      <td>[{'author_id': '28828', 'role': ''}, {'author_...</td>\n",
       "      <td>W.W. Norton &amp; Company</td>\n",
       "      <td>736</td>\n",
       "      <td>NaN</td>\n",
       "      <td>25th Anniversary Edition</td>\n",
       "      <td>NaN</td>\n",
       "      <td>907604</td>\n",
       "      <td>196</td>\n",
       "      <td>1077715</td>\n",
       "      <td>Helter Skelter: The True Story of the Manson M...</td>\n",
       "      <td>Helter Skelter: The True Story of the Manson M...</td>\n",
       "    </tr>\n",
       "    <tr>\n",
       "      <th>465</th>\n",
       "      <td>2</td>\n",
       "      <td>[189322]</td>\n",
       "      <td>US</td>\n",
       "      <td>eng</td>\n",
       "      <td>[{'count': '451', 'name': 'to-read'}, {'count'...</td>\n",
       "      <td>false</td>\n",
       "      <td>3.92</td>\n",
       "      <td>[7924829, 10808013, 6353455, 522367, 6332280, ...</td>\n",
       "      <td>audio cd</td>\n",
       "      <td>[{'author_id': '5922', 'role': ''}, {'author_i...</td>\n",
       "      <td>NaN</td>\n",
       "      <td>NaN</td>\n",
       "      <td>NaN</td>\n",
       "      <td>NaN</td>\n",
       "      <td>NaN</td>\n",
       "      <td>8939980</td>\n",
       "      <td>2</td>\n",
       "      <td>13063448</td>\n",
       "      <td>Bad Boy (Inspector Banks, #19)</td>\n",
       "      <td>Bad Boy (Inspector Banks, #19)</td>\n",
       "    </tr>\n",
       "    <tr>\n",
       "      <th>593</th>\n",
       "      <td>5</td>\n",
       "      <td>[144847]</td>\n",
       "      <td>US</td>\n",
       "      <td>NaN</td>\n",
       "      <td>[{'count': '8094', 'name': 'to-read'}, {'count...</td>\n",
       "      <td>false</td>\n",
       "      <td>4.04</td>\n",
       "      <td>[70087, 34993, 109510, 3224566, 177193, 957374...</td>\n",
       "      <td>hardcover</td>\n",
       "      <td>[{'author_id': '5293', 'role': ''}]</td>\n",
       "      <td>NaN</td>\n",
       "      <td>0</td>\n",
       "      <td>3</td>\n",
       "      <td>NaN</td>\n",
       "      <td>1992</td>\n",
       "      <td>993217</td>\n",
       "      <td>17</td>\n",
       "      <td>31538</td>\n",
       "      <td>The Bourne Ultimatum (Jason Bourne, #3)</td>\n",
       "      <td>The Bourne Ultimatum (Jason Bourne, #3)</td>\n",
       "    </tr>\n",
       "    <tr>\n",
       "      <th>649</th>\n",
       "      <td>1</td>\n",
       "      <td>[169353]</td>\n",
       "      <td>US</td>\n",
       "      <td>eng</td>\n",
       "      <td>[{'count': '159', 'name': 'to-read'}, {'count'...</td>\n",
       "      <td>false</td>\n",
       "      <td>3.93</td>\n",
       "      <td>[439108, 522621, 116770, 1275927, 6202655, 840...</td>\n",
       "      <td>audiobook</td>\n",
       "      <td>[{'author_id': '37778', 'role': 'author'}]</td>\n",
       "      <td>Whole Story Audiobooks</td>\n",
       "      <td>NaN</td>\n",
       "      <td>11</td>\n",
       "      <td>NaN</td>\n",
       "      <td>2009</td>\n",
       "      <td>13076084</td>\n",
       "      <td>3</td>\n",
       "      <td>6243149</td>\n",
       "      <td>Crowner Royal (Crowner John Mystery, #13)</td>\n",
       "      <td>Crowner Royal (Crowner John Mystery, #13)</td>\n",
       "    </tr>\n",
       "    <tr>\n",
       "      <th>...</th>\n",
       "      <td>...</td>\n",
       "      <td>...</td>\n",
       "      <td>...</td>\n",
       "      <td>...</td>\n",
       "      <td>...</td>\n",
       "      <td>...</td>\n",
       "      <td>...</td>\n",
       "      <td>...</td>\n",
       "      <td>...</td>\n",
       "      <td>...</td>\n",
       "      <td>...</td>\n",
       "      <td>...</td>\n",
       "      <td>...</td>\n",
       "      <td>...</td>\n",
       "      <td>...</td>\n",
       "      <td>...</td>\n",
       "      <td>...</td>\n",
       "      <td>...</td>\n",
       "      <td>...</td>\n",
       "      <td>...</td>\n",
       "    </tr>\n",
       "    <tr>\n",
       "      <th>219221</th>\n",
       "      <td>1</td>\n",
       "      <td>[]</td>\n",
       "      <td>US</td>\n",
       "      <td>NaN</td>\n",
       "      <td>[{'count': '231', 'name': 'to-read'}, {'count'...</td>\n",
       "      <td>false</td>\n",
       "      <td>3.78</td>\n",
       "      <td>[1207540, 1118874, 1098095, 876822, 1458480, 8...</td>\n",
       "      <td>NaN</td>\n",
       "      <td>[{'author_id': '39467', 'role': ''}]</td>\n",
       "      <td>NaN</td>\n",
       "      <td>NaN</td>\n",
       "      <td>NaN</td>\n",
       "      <td>NaN</td>\n",
       "      <td>NaN</td>\n",
       "      <td>2247090</td>\n",
       "      <td>7</td>\n",
       "      <td>775122</td>\n",
       "      <td>Black Heart</td>\n",
       "      <td>Black Heart</td>\n",
       "    </tr>\n",
       "    <tr>\n",
       "      <th>219222</th>\n",
       "      <td>2</td>\n",
       "      <td>[789875]</td>\n",
       "      <td>US</td>\n",
       "      <td>eng</td>\n",
       "      <td>[{'count': '443', 'name': 'to-read'}, {'count'...</td>\n",
       "      <td>false</td>\n",
       "      <td>4.09</td>\n",
       "      <td>[]</td>\n",
       "      <td>hardcover</td>\n",
       "      <td>[{'author_id': '7011369', 'role': ''}]</td>\n",
       "      <td>Quercus Publishing Ltd</td>\n",
       "      <td>416</td>\n",
       "      <td>9</td>\n",
       "      <td>NaN</td>\n",
       "      <td>2015</td>\n",
       "      <td>27637705</td>\n",
       "      <td>9</td>\n",
       "      <td>44871703</td>\n",
       "      <td>Blood and Bone (Alice Madison, #3)</td>\n",
       "      <td>Blood and Bone (Alice Madison, #3)</td>\n",
       "    </tr>\n",
       "    <tr>\n",
       "      <th>219225</th>\n",
       "      <td>21</td>\n",
       "      <td>[]</td>\n",
       "      <td>US</td>\n",
       "      <td>eng</td>\n",
       "      <td>[{'count': '574', 'name': 'to-read'}, {'count'...</td>\n",
       "      <td>true</td>\n",
       "      <td>4.32</td>\n",
       "      <td>[27391087, 25253442, 23441596, 28182084, 27255...</td>\n",
       "      <td>NaN</td>\n",
       "      <td>[{'author_id': '13786119', 'role': ''}]</td>\n",
       "      <td>NaN</td>\n",
       "      <td>526</td>\n",
       "      <td>NaN</td>\n",
       "      <td>NaN</td>\n",
       "      <td>NaN</td>\n",
       "      <td>25308738</td>\n",
       "      <td>31</td>\n",
       "      <td>45039224</td>\n",
       "      <td>The SHIVA Syndrome</td>\n",
       "      <td>The SHIVA Syndrome</td>\n",
       "    </tr>\n",
       "    <tr>\n",
       "      <th>219227</th>\n",
       "      <td>4</td>\n",
       "      <td>[]</td>\n",
       "      <td>US</td>\n",
       "      <td>eng</td>\n",
       "      <td>[{'count': '604', 'name': 'to-read'}, {'count'...</td>\n",
       "      <td>true</td>\n",
       "      <td>4.24</td>\n",
       "      <td>[]</td>\n",
       "      <td>kindle edition</td>\n",
       "      <td>[{'author_id': '7741497', 'role': ''}, {'autho...</td>\n",
       "      <td>Chromatic Press</td>\n",
       "      <td>219</td>\n",
       "      <td>9</td>\n",
       "      <td>NaN</td>\n",
       "      <td>2014</td>\n",
       "      <td>23363286</td>\n",
       "      <td>15</td>\n",
       "      <td>42919549</td>\n",
       "      <td>Dead Endings</td>\n",
       "      <td>Dead Endings</td>\n",
       "    </tr>\n",
       "    <tr>\n",
       "      <th>219233</th>\n",
       "      <td>7</td>\n",
       "      <td>[]</td>\n",
       "      <td>US</td>\n",
       "      <td>eng</td>\n",
       "      <td>[{'count': '36', 'name': 'to-read'}, {'count':...</td>\n",
       "      <td>true</td>\n",
       "      <td>4.00</td>\n",
       "      <td>[]</td>\n",
       "      <td>ebook</td>\n",
       "      <td>[{'author_id': '4590885', 'role': ''}]</td>\n",
       "      <td>NaN</td>\n",
       "      <td>NaN</td>\n",
       "      <td>9</td>\n",
       "      <td>NaN</td>\n",
       "      <td>2014</td>\n",
       "      <td>23252156</td>\n",
       "      <td>16</td>\n",
       "      <td>42794368</td>\n",
       "      <td>Wicked Reflection</td>\n",
       "      <td>Wicked Reflection</td>\n",
       "    </tr>\n",
       "  </tbody>\n",
       "</table>\n",
       "<p>75344 rows × 20 columns</p>\n",
       "</div>"
      ],
      "text/plain": [
       "        text_reviews_count    series country_code language_code  \\\n",
       "99                      28        []           US           NaN   \n",
       "379                     32        []           US           eng   \n",
       "465                      2  [189322]           US           eng   \n",
       "593                      5  [144847]           US           NaN   \n",
       "649                      1  [169353]           US           eng   \n",
       "...                    ...       ...          ...           ...   \n",
       "219221                   1        []           US           NaN   \n",
       "219222                   2  [789875]           US           eng   \n",
       "219225                  21        []           US           eng   \n",
       "219227                   4        []           US           eng   \n",
       "219233                   7        []           US           eng   \n",
       "\n",
       "                                          popular_shelves is_ebook  \\\n",
       "99      [{'count': '95', 'name': 'to-read'}, {'count':...     true   \n",
       "379     [{'count': '1878', 'name': 'non-fiction'}, {'c...    false   \n",
       "465     [{'count': '451', 'name': 'to-read'}, {'count'...    false   \n",
       "593     [{'count': '8094', 'name': 'to-read'}, {'count...    false   \n",
       "649     [{'count': '159', 'name': 'to-read'}, {'count'...    false   \n",
       "...                                                   ...      ...   \n",
       "219221  [{'count': '231', 'name': 'to-read'}, {'count'...    false   \n",
       "219222  [{'count': '443', 'name': 'to-read'}, {'count'...    false   \n",
       "219225  [{'count': '574', 'name': 'to-read'}, {'count'...     true   \n",
       "219227  [{'count': '604', 'name': 'to-read'}, {'count'...     true   \n",
       "219233  [{'count': '36', 'name': 'to-read'}, {'count':...     true   \n",
       "\n",
       "        average_rating                                      similar_books  \\\n",
       "99                3.57  [6650065, 394154, 12398221, 232396, 4945903, 6...   \n",
       "379               4.00  [333907, 487445, 231585, 691023, 135892, 75076...   \n",
       "465               3.92  [7924829, 10808013, 6353455, 522367, 6332280, ...   \n",
       "593               4.04  [70087, 34993, 109510, 3224566, 177193, 957374...   \n",
       "649               3.93  [439108, 522621, 116770, 1275927, 6202655, 840...   \n",
       "...                ...                                                ...   \n",
       "219221            3.78  [1207540, 1118874, 1098095, 876822, 1458480, 8...   \n",
       "219222            4.09                                                 []   \n",
       "219225            4.32  [27391087, 25253442, 23441596, 28182084, 27255...   \n",
       "219227            4.24                                                 []   \n",
       "219233            4.00                                                 []   \n",
       "\n",
       "                format                                            authors  \\\n",
       "99               ebook              [{'author_id': '822613', 'role': ''}]   \n",
       "379                NaN  [{'author_id': '28828', 'role': ''}, {'author_...   \n",
       "465           audio cd  [{'author_id': '5922', 'role': ''}, {'author_i...   \n",
       "593          hardcover                [{'author_id': '5293', 'role': ''}]   \n",
       "649          audiobook         [{'author_id': '37778', 'role': 'author'}]   \n",
       "...                ...                                                ...   \n",
       "219221             NaN               [{'author_id': '39467', 'role': ''}]   \n",
       "219222       hardcover             [{'author_id': '7011369', 'role': ''}]   \n",
       "219225             NaN            [{'author_id': '13786119', 'role': ''}]   \n",
       "219227  kindle edition  [{'author_id': '7741497', 'role': ''}, {'autho...   \n",
       "219233           ebook             [{'author_id': '4590885', 'role': ''}]   \n",
       "\n",
       "                      publisher num_pages publication_month  \\\n",
       "99      Maclehose Press Quercus       NaN                11   \n",
       "379       W.W. Norton & Company       736               NaN   \n",
       "465                         NaN       NaN               NaN   \n",
       "593                         NaN         0                 3   \n",
       "649      Whole Story Audiobooks       NaN                11   \n",
       "...                         ...       ...               ...   \n",
       "219221                      NaN       NaN               NaN   \n",
       "219222   Quercus Publishing Ltd       416                 9   \n",
       "219225                      NaN       526               NaN   \n",
       "219227          Chromatic Press       219                 9   \n",
       "219233                      NaN       NaN                 9   \n",
       "\n",
       "             edition_information publication_year   book_id  ratings_count  \\\n",
       "99                           NaN             2017  35593693             50   \n",
       "379     25th Anniversary Edition              NaN    907604            196   \n",
       "465                          NaN              NaN   8939980              2   \n",
       "593                          NaN             1992    993217             17   \n",
       "649                          NaN             2009  13076084              3   \n",
       "...                          ...              ...       ...            ...   \n",
       "219221                       NaN              NaN   2247090              7   \n",
       "219222                       NaN             2015  27637705              9   \n",
       "219225                       NaN              NaN  25308738             31   \n",
       "219227                       NaN             2014  23363286             15   \n",
       "219233                       NaN             2014  23252156             16   \n",
       "\n",
       "         work_id                                              title  \\\n",
       "99      48544183                              Three Days and a Life   \n",
       "379      1077715  Helter Skelter: The True Story of the Manson M...   \n",
       "465     13063448                     Bad Boy (Inspector Banks, #19)   \n",
       "593        31538            The Bourne Ultimatum (Jason Bourne, #3)   \n",
       "649      6243149          Crowner Royal (Crowner John Mystery, #13)   \n",
       "...          ...                                                ...   \n",
       "219221    775122                                        Black Heart   \n",
       "219222  44871703                 Blood and Bone (Alice Madison, #3)   \n",
       "219225  45039224                                 The SHIVA Syndrome   \n",
       "219227  42919549                                       Dead Endings   \n",
       "219233  42794368                                  Wicked Reflection   \n",
       "\n",
       "                                     title_without_series  \n",
       "99                                  Three Days and a Life  \n",
       "379     Helter Skelter: The True Story of the Manson M...  \n",
       "465                        Bad Boy (Inspector Banks, #19)  \n",
       "593               The Bourne Ultimatum (Jason Bourne, #3)  \n",
       "649             Crowner Royal (Crowner John Mystery, #13)  \n",
       "...                                                   ...  \n",
       "219221                                        Black Heart  \n",
       "219222                 Blood and Bone (Alice Madison, #3)  \n",
       "219225                                 The SHIVA Syndrome  \n",
       "219227                                       Dead Endings  \n",
       "219233                                  Wicked Reflection  \n",
       "\n",
       "[75344 rows x 20 columns]"
      ]
     },
     "execution_count": 725,
     "metadata": {},
     "output_type": "execute_result"
    }
   ],
   "source": [
    "df.loc[df.duplicated(subset=['title'])]"
   ]
  },
  {
   "cell_type": "code",
   "execution_count": 726,
   "metadata": {},
   "outputs": [
    {
     "data": {
      "text/html": [
       "<div>\n",
       "<style scoped>\n",
       "    .dataframe tbody tr th:only-of-type {\n",
       "        vertical-align: middle;\n",
       "    }\n",
       "\n",
       "    .dataframe tbody tr th {\n",
       "        vertical-align: top;\n",
       "    }\n",
       "\n",
       "    .dataframe thead th {\n",
       "        text-align: right;\n",
       "    }\n",
       "</style>\n",
       "<table border=\"1\" class=\"dataframe\">\n",
       "  <thead>\n",
       "    <tr style=\"text-align: right;\">\n",
       "      <th></th>\n",
       "      <th>text_reviews_count</th>\n",
       "      <th>series</th>\n",
       "      <th>country_code</th>\n",
       "      <th>language_code</th>\n",
       "      <th>popular_shelves</th>\n",
       "      <th>is_ebook</th>\n",
       "      <th>average_rating</th>\n",
       "      <th>similar_books</th>\n",
       "      <th>format</th>\n",
       "      <th>authors</th>\n",
       "      <th>publisher</th>\n",
       "      <th>num_pages</th>\n",
       "      <th>publication_month</th>\n",
       "      <th>edition_information</th>\n",
       "      <th>publication_year</th>\n",
       "      <th>book_id</th>\n",
       "      <th>ratings_count</th>\n",
       "      <th>work_id</th>\n",
       "      <th>title</th>\n",
       "      <th>title_without_series</th>\n",
       "    </tr>\n",
       "  </thead>\n",
       "  <tbody>\n",
       "    <tr>\n",
       "      <th>1478</th>\n",
       "      <td>1</td>\n",
       "      <td>[185867, 381924]</td>\n",
       "      <td>US</td>\n",
       "      <td>NaN</td>\n",
       "      <td>[{'count': '15025', 'name': 'to-read'}, {'coun...</td>\n",
       "      <td>false</td>\n",
       "      <td>4.30</td>\n",
       "      <td>[184594, 359251, 1474865, 192887, 141270, 5675...</td>\n",
       "      <td>paperback</td>\n",
       "      <td>[{'author_id': '2448', 'role': ''}]</td>\n",
       "      <td>Tribeca Books</td>\n",
       "      <td>236</td>\n",
       "      <td>7</td>\n",
       "      <td>NaN</td>\n",
       "      <td>2011</td>\n",
       "      <td>12639858</td>\n",
       "      <td>29</td>\n",
       "      <td>1222101</td>\n",
       "      <td>The Adventures of Sherlock Holmes</td>\n",
       "      <td>The Adventures of Sherlock Holmes</td>\n",
       "    </tr>\n",
       "    <tr>\n",
       "      <th>1654</th>\n",
       "      <td>1</td>\n",
       "      <td>[185867, 381924]</td>\n",
       "      <td>US</td>\n",
       "      <td>eng</td>\n",
       "      <td>[{'count': '15025', 'name': 'to-read'}, {'coun...</td>\n",
       "      <td>false</td>\n",
       "      <td>4.30</td>\n",
       "      <td>[184594, 359251, 1474865, 192887, 141270, 5675...</td>\n",
       "      <td>paperback</td>\n",
       "      <td>[{'author_id': '2448', 'role': ''}]</td>\n",
       "      <td>Penguin Group</td>\n",
       "      <td>302</td>\n",
       "      <td>NaN</td>\n",
       "      <td>NaN</td>\n",
       "      <td>1994</td>\n",
       "      <td>24564118</td>\n",
       "      <td>1</td>\n",
       "      <td>1222101</td>\n",
       "      <td>The Adventures of Sherlock Holmes</td>\n",
       "      <td>The Adventures of Sherlock Holmes</td>\n",
       "    </tr>\n",
       "    <tr>\n",
       "      <th>2827</th>\n",
       "      <td>2</td>\n",
       "      <td>[185867, 381924]</td>\n",
       "      <td>US</td>\n",
       "      <td>NaN</td>\n",
       "      <td>[{'count': '15025', 'name': 'to-read'}, {'coun...</td>\n",
       "      <td>false</td>\n",
       "      <td>4.30</td>\n",
       "      <td>[184594, 359251, 1474865, 192887, 141270, 5675...</td>\n",
       "      <td>audio</td>\n",
       "      <td>[{'author_id': '2448', 'role': ''}, {'author_i...</td>\n",
       "      <td>Blackstone Audiobooks</td>\n",
       "      <td>10</td>\n",
       "      <td>12</td>\n",
       "      <td>NaN</td>\n",
       "      <td>1980</td>\n",
       "      <td>11196320</td>\n",
       "      <td>6</td>\n",
       "      <td>1222101</td>\n",
       "      <td>The Adventures of Sherlock Holmes</td>\n",
       "      <td>The Adventures of Sherlock Holmes</td>\n",
       "    </tr>\n",
       "    <tr>\n",
       "      <th>4358</th>\n",
       "      <td>60</td>\n",
       "      <td>[1042242, 381922]</td>\n",
       "      <td>US</td>\n",
       "      <td>NaN</td>\n",
       "      <td>[{'count': '1342', 'name': 'to-read'}, {'count...</td>\n",
       "      <td>false</td>\n",
       "      <td>3.85</td>\n",
       "      <td>[7544946, 909870, 6691895, 12959148, 23475666,...</td>\n",
       "      <td>paperback</td>\n",
       "      <td>[{'author_id': '2448', 'role': ''}, {'author_i...</td>\n",
       "      <td>Kessinger Publishing</td>\n",
       "      <td>48</td>\n",
       "      <td>12</td>\n",
       "      <td>NaN</td>\n",
       "      <td>2005</td>\n",
       "      <td>6943892</td>\n",
       "      <td>1389</td>\n",
       "      <td>7177245</td>\n",
       "      <td>The Adventure of the Beryl Coronet (The Advent...</td>\n",
       "      <td>The Adventure of the Beryl Coronet (The Advent...</td>\n",
       "    </tr>\n",
       "    <tr>\n",
       "      <th>4876</th>\n",
       "      <td>1</td>\n",
       "      <td>[745678]</td>\n",
       "      <td>US</td>\n",
       "      <td>NaN</td>\n",
       "      <td>[{'count': '227', 'name': 'to-read'}, {'count'...</td>\n",
       "      <td>true</td>\n",
       "      <td>4.24</td>\n",
       "      <td>[1561597, 6431104, 6696924, 3010030, 920651, 3...</td>\n",
       "      <td>NaN</td>\n",
       "      <td>[{'author_id': '2448', 'role': ''}]</td>\n",
       "      <td>NaN</td>\n",
       "      <td>NaN</td>\n",
       "      <td>NaN</td>\n",
       "      <td>NaN</td>\n",
       "      <td>NaN</td>\n",
       "      <td>35059873</td>\n",
       "      <td>2</td>\n",
       "      <td>32923877</td>\n",
       "      <td>Arthur Conan Doyle: The Adventures of Sherlock...</td>\n",
       "      <td>Arthur Conan Doyle: The Adventures of Sherlock...</td>\n",
       "    </tr>\n",
       "    <tr>\n",
       "      <th>...</th>\n",
       "      <td>...</td>\n",
       "      <td>...</td>\n",
       "      <td>...</td>\n",
       "      <td>...</td>\n",
       "      <td>...</td>\n",
       "      <td>...</td>\n",
       "      <td>...</td>\n",
       "      <td>...</td>\n",
       "      <td>...</td>\n",
       "      <td>...</td>\n",
       "      <td>...</td>\n",
       "      <td>...</td>\n",
       "      <td>...</td>\n",
       "      <td>...</td>\n",
       "      <td>...</td>\n",
       "      <td>...</td>\n",
       "      <td>...</td>\n",
       "      <td>...</td>\n",
       "      <td>...</td>\n",
       "      <td>...</td>\n",
       "    </tr>\n",
       "    <tr>\n",
       "      <th>215762</th>\n",
       "      <td>16</td>\n",
       "      <td>[185867, 381924]</td>\n",
       "      <td>US</td>\n",
       "      <td>NaN</td>\n",
       "      <td>[{'count': '15176', 'name': 'to-read'}, {'coun...</td>\n",
       "      <td>false</td>\n",
       "      <td>4.30</td>\n",
       "      <td>[184594, 359251, 1474865, 192887, 141270, 5675...</td>\n",
       "      <td>mass market paperback</td>\n",
       "      <td>[{'author_id': '2448', 'role': ''}, {'author_i...</td>\n",
       "      <td>Wordsworth Editions</td>\n",
       "      <td>NaN</td>\n",
       "      <td>NaN</td>\n",
       "      <td>Wordsworth Classics</td>\n",
       "      <td>NaN</td>\n",
       "      <td>962730</td>\n",
       "      <td>597</td>\n",
       "      <td>1222101</td>\n",
       "      <td>The Adventures of Sherlock Holmes</td>\n",
       "      <td>The Adventures of Sherlock Holmes</td>\n",
       "    </tr>\n",
       "    <tr>\n",
       "      <th>215960</th>\n",
       "      <td>7</td>\n",
       "      <td>[745781]</td>\n",
       "      <td>US</td>\n",
       "      <td>NaN</td>\n",
       "      <td>[{'count': '109', 'name': 'currently-reading'}...</td>\n",
       "      <td>false</td>\n",
       "      <td>4.48</td>\n",
       "      <td>[]</td>\n",
       "      <td>audio cd</td>\n",
       "      <td>[{'author_id': '2448', 'role': ''}, {'author_i...</td>\n",
       "      <td>Naxos Audiobooks</td>\n",
       "      <td>0</td>\n",
       "      <td>2</td>\n",
       "      <td>NaN</td>\n",
       "      <td>2005</td>\n",
       "      <td>76243</td>\n",
       "      <td>43</td>\n",
       "      <td>21482542</td>\n",
       "      <td>The Adventures of Sherlock Holmes, Vols 1-6</td>\n",
       "      <td>The Adventures of Sherlock Holmes, Vols 1-6</td>\n",
       "    </tr>\n",
       "    <tr>\n",
       "      <th>216362</th>\n",
       "      <td>7</td>\n",
       "      <td>[185867, 381924]</td>\n",
       "      <td>US</td>\n",
       "      <td>eng</td>\n",
       "      <td>[{'count': '15176', 'name': 'to-read'}, {'coun...</td>\n",
       "      <td>true</td>\n",
       "      <td>4.30</td>\n",
       "      <td>[184594, 359251, 1474865, 192887, 141270, 5675...</td>\n",
       "      <td>NaN</td>\n",
       "      <td>[{'author_id': '2448', 'role': ''}]</td>\n",
       "      <td>Arthur Conan Doyle</td>\n",
       "      <td>NaN</td>\n",
       "      <td>NaN</td>\n",
       "      <td>NaN</td>\n",
       "      <td>NaN</td>\n",
       "      <td>22620243</td>\n",
       "      <td>1488</td>\n",
       "      <td>1222101</td>\n",
       "      <td>The Adventures of Sherlock Holmes</td>\n",
       "      <td>The Adventures of Sherlock Holmes</td>\n",
       "    </tr>\n",
       "    <tr>\n",
       "      <th>217873</th>\n",
       "      <td>5</td>\n",
       "      <td>[185867, 381924]</td>\n",
       "      <td>US</td>\n",
       "      <td>eng</td>\n",
       "      <td>[{'count': '15525', 'name': 'to-read'}, {'coun...</td>\n",
       "      <td>false</td>\n",
       "      <td>4.30</td>\n",
       "      <td>[184594, 359251, 1474865, 192887, 141270, 5675...</td>\n",
       "      <td>paperback</td>\n",
       "      <td>[{'author_id': '2448', 'role': ''}]</td>\n",
       "      <td>Wordsworth Classics</td>\n",
       "      <td>450</td>\n",
       "      <td>NaN</td>\n",
       "      <td>NaN</td>\n",
       "      <td>1992</td>\n",
       "      <td>13635969</td>\n",
       "      <td>29</td>\n",
       "      <td>1222101</td>\n",
       "      <td>The Adventures of Sherlock Holmes</td>\n",
       "      <td>The Adventures of Sherlock Holmes</td>\n",
       "    </tr>\n",
       "    <tr>\n",
       "      <th>218916</th>\n",
       "      <td>1</td>\n",
       "      <td>[745781]</td>\n",
       "      <td>US</td>\n",
       "      <td>eng</td>\n",
       "      <td>[{'count': '109', 'name': 'currently-reading'}...</td>\n",
       "      <td>true</td>\n",
       "      <td>4.48</td>\n",
       "      <td>[]</td>\n",
       "      <td>NaN</td>\n",
       "      <td>[{'author_id': '2448', 'role': ''}, {'author_i...</td>\n",
       "      <td>NaN</td>\n",
       "      <td>NaN</td>\n",
       "      <td>NaN</td>\n",
       "      <td>Illustrated, Unabridged</td>\n",
       "      <td>NaN</td>\n",
       "      <td>28288045</td>\n",
       "      <td>1</td>\n",
       "      <td>21482542</td>\n",
       "      <td>The Adventures of Sherlock Holmes</td>\n",
       "      <td>The Adventures of Sherlock Holmes</td>\n",
       "    </tr>\n",
       "  </tbody>\n",
       "</table>\n",
       "<p>158 rows × 20 columns</p>\n",
       "</div>"
      ],
      "text/plain": [
       "        text_reviews_count             series country_code language_code  \\\n",
       "1478                     1   [185867, 381924]           US           NaN   \n",
       "1654                     1   [185867, 381924]           US           eng   \n",
       "2827                     2   [185867, 381924]           US           NaN   \n",
       "4358                    60  [1042242, 381922]           US           NaN   \n",
       "4876                     1           [745678]           US           NaN   \n",
       "...                    ...                ...          ...           ...   \n",
       "215762                  16   [185867, 381924]           US           NaN   \n",
       "215960                   7           [745781]           US           NaN   \n",
       "216362                   7   [185867, 381924]           US           eng   \n",
       "217873                   5   [185867, 381924]           US           eng   \n",
       "218916                   1           [745781]           US           eng   \n",
       "\n",
       "                                          popular_shelves is_ebook  \\\n",
       "1478    [{'count': '15025', 'name': 'to-read'}, {'coun...    false   \n",
       "1654    [{'count': '15025', 'name': 'to-read'}, {'coun...    false   \n",
       "2827    [{'count': '15025', 'name': 'to-read'}, {'coun...    false   \n",
       "4358    [{'count': '1342', 'name': 'to-read'}, {'count...    false   \n",
       "4876    [{'count': '227', 'name': 'to-read'}, {'count'...     true   \n",
       "...                                                   ...      ...   \n",
       "215762  [{'count': '15176', 'name': 'to-read'}, {'coun...    false   \n",
       "215960  [{'count': '109', 'name': 'currently-reading'}...    false   \n",
       "216362  [{'count': '15176', 'name': 'to-read'}, {'coun...     true   \n",
       "217873  [{'count': '15525', 'name': 'to-read'}, {'coun...    false   \n",
       "218916  [{'count': '109', 'name': 'currently-reading'}...     true   \n",
       "\n",
       "        average_rating                                      similar_books  \\\n",
       "1478              4.30  [184594, 359251, 1474865, 192887, 141270, 5675...   \n",
       "1654              4.30  [184594, 359251, 1474865, 192887, 141270, 5675...   \n",
       "2827              4.30  [184594, 359251, 1474865, 192887, 141270, 5675...   \n",
       "4358              3.85  [7544946, 909870, 6691895, 12959148, 23475666,...   \n",
       "4876              4.24  [1561597, 6431104, 6696924, 3010030, 920651, 3...   \n",
       "...                ...                                                ...   \n",
       "215762            4.30  [184594, 359251, 1474865, 192887, 141270, 5675...   \n",
       "215960            4.48                                                 []   \n",
       "216362            4.30  [184594, 359251, 1474865, 192887, 141270, 5675...   \n",
       "217873            4.30  [184594, 359251, 1474865, 192887, 141270, 5675...   \n",
       "218916            4.48                                                 []   \n",
       "\n",
       "                       format  \\\n",
       "1478                paperback   \n",
       "1654                paperback   \n",
       "2827                    audio   \n",
       "4358                paperback   \n",
       "4876                      NaN   \n",
       "...                       ...   \n",
       "215762  mass market paperback   \n",
       "215960               audio cd   \n",
       "216362                    NaN   \n",
       "217873              paperback   \n",
       "218916                    NaN   \n",
       "\n",
       "                                                  authors  \\\n",
       "1478                  [{'author_id': '2448', 'role': ''}]   \n",
       "1654                  [{'author_id': '2448', 'role': ''}]   \n",
       "2827    [{'author_id': '2448', 'role': ''}, {'author_i...   \n",
       "4358    [{'author_id': '2448', 'role': ''}, {'author_i...   \n",
       "4876                  [{'author_id': '2448', 'role': ''}]   \n",
       "...                                                   ...   \n",
       "215762  [{'author_id': '2448', 'role': ''}, {'author_i...   \n",
       "215960  [{'author_id': '2448', 'role': ''}, {'author_i...   \n",
       "216362                [{'author_id': '2448', 'role': ''}]   \n",
       "217873                [{'author_id': '2448', 'role': ''}]   \n",
       "218916  [{'author_id': '2448', 'role': ''}, {'author_i...   \n",
       "\n",
       "                    publisher num_pages publication_month  \\\n",
       "1478            Tribeca Books       236                 7   \n",
       "1654            Penguin Group       302               NaN   \n",
       "2827    Blackstone Audiobooks        10                12   \n",
       "4358     Kessinger Publishing        48                12   \n",
       "4876                      NaN       NaN               NaN   \n",
       "...                       ...       ...               ...   \n",
       "215762    Wordsworth Editions       NaN               NaN   \n",
       "215960       Naxos Audiobooks         0                 2   \n",
       "216362     Arthur Conan Doyle       NaN               NaN   \n",
       "217873    Wordsworth Classics       450               NaN   \n",
       "218916                    NaN       NaN               NaN   \n",
       "\n",
       "            edition_information publication_year   book_id  ratings_count  \\\n",
       "1478                        NaN             2011  12639858             29   \n",
       "1654                        NaN             1994  24564118              1   \n",
       "2827                        NaN             1980  11196320              6   \n",
       "4358                        NaN             2005   6943892           1389   \n",
       "4876                        NaN              NaN  35059873              2   \n",
       "...                         ...              ...       ...            ...   \n",
       "215762      Wordsworth Classics              NaN    962730            597   \n",
       "215960                      NaN             2005     76243             43   \n",
       "216362                      NaN              NaN  22620243           1488   \n",
       "217873                      NaN             1992  13635969             29   \n",
       "218916  Illustrated, Unabridged              NaN  28288045              1   \n",
       "\n",
       "         work_id                                              title  \\\n",
       "1478     1222101                  The Adventures of Sherlock Holmes   \n",
       "1654     1222101                  The Adventures of Sherlock Holmes   \n",
       "2827     1222101                  The Adventures of Sherlock Holmes   \n",
       "4358     7177245  The Adventure of the Beryl Coronet (The Advent...   \n",
       "4876    32923877  Arthur Conan Doyle: The Adventures of Sherlock...   \n",
       "...          ...                                                ...   \n",
       "215762   1222101                  The Adventures of Sherlock Holmes   \n",
       "215960  21482542        The Adventures of Sherlock Holmes, Vols 1-6   \n",
       "216362   1222101                  The Adventures of Sherlock Holmes   \n",
       "217873   1222101                  The Adventures of Sherlock Holmes   \n",
       "218916  21482542                  The Adventures of Sherlock Holmes   \n",
       "\n",
       "                                     title_without_series  \n",
       "1478                    The Adventures of Sherlock Holmes  \n",
       "1654                    The Adventures of Sherlock Holmes  \n",
       "2827                    The Adventures of Sherlock Holmes  \n",
       "4358    The Adventure of the Beryl Coronet (The Advent...  \n",
       "4876    Arthur Conan Doyle: The Adventures of Sherlock...  \n",
       "...                                                   ...  \n",
       "215762                  The Adventures of Sherlock Holmes  \n",
       "215960        The Adventures of Sherlock Holmes, Vols 1-6  \n",
       "216362                  The Adventures of Sherlock Holmes  \n",
       "217873                  The Adventures of Sherlock Holmes  \n",
       "218916                  The Adventures of Sherlock Holmes  \n",
       "\n",
       "[158 rows x 20 columns]"
      ]
     },
     "execution_count": 726,
     "metadata": {},
     "output_type": "execute_result"
    }
   ],
   "source": [
    "df[df['title'].str.contains(\"The Adventures of Sherlock Holmes\")]"
   ]
  },
  {
   "cell_type": "markdown",
   "metadata": {},
   "source": [
    "Keeping duplicates for now due to differences in pulbihers, format, page number, reviews, ratings, years, etc. If publisher does not deem important during EDA, merging is a possibility."
   ]
  },
  {
   "cell_type": "code",
   "execution_count": 727,
   "metadata": {},
   "outputs": [
    {
     "data": {
      "text/plain": [
       "paperback                58259\n",
       "hardcover                23816\n",
       "ebook                    14979\n",
       "kindle edition           12819\n",
       "audio cd                  6669\n",
       "mass market paperback     5079\n",
       "audiobook                 3050\n",
       "audible audio             2025\n",
       "audio                     1828\n",
       "unknown binding            518\n",
       "audio cassette             233\n",
       "mp3 cd                     193\n",
       "trade paperback             96\n",
       "library binding             92\n",
       "nook                        56\n",
       "hardback                    27\n",
       "leather bound               25\n",
       "large print                 16\n",
       "digital audio               10\n",
       "capa mole                    9\n",
       "Name: format, dtype: int64"
      ]
     },
     "execution_count": 727,
     "metadata": {},
     "output_type": "execute_result"
    }
   ],
   "source": [
    "#Back to formats\n",
    "\n",
    "df.format.value_counts().head(20)"
   ]
  },
  {
   "cell_type": "markdown",
   "metadata": {},
   "source": [
    "Keeping formats: paperback, hardcover, ebook, kindle, audio, audible, unknown, and multiple\n",
    "\n",
    "like formats will be rolled into main list (ie hardback --> hardcover)\n",
    "\n",
    "cassette alone will be dropped due to technological challenges actually listening to that version."
   ]
  },
  {
   "cell_type": "markdown",
   "metadata": {},
   "source": [
    "pb = ['paperback','trade paperback', 'paper','softcover','mass market paperback', 'soft cover','paperback manga']\n",
    "hc = ['hardcover','hardback','hard cover','hardcover, book club edition']\n",
    "au = ['audio','audio cd','mp3','mp3 cd','digital audio', 'mp3 book','eaudiobook','audio book']\n",
    "eb = ['ebook','nook']\n",
    "kindle = ['kindle edition','kindle']\n",
    "audible = ['audible audio','audible, usa download']\n",
    "podiobook = ['podiobook']\n",
    "\n",
    "large = ['large print','hardcover - large print','softcover - large print','paperback - large print']\n",
    "allformats = df.format.unique()\n",
    "\n",
    "drop = ['cassette']"
   ]
  },
  {
   "cell_type": "code",
   "execution_count": 728,
   "metadata": {},
   "outputs": [],
   "source": [
    "#df.format.loc[df.format.isin(pb)] = 'paperback'"
   ]
  },
  {
   "cell_type": "code",
   "execution_count": 729,
   "metadata": {},
   "outputs": [],
   "source": [
    "#df.format.loc[df.format.isin(hc)] = 'hardcover'"
   ]
  },
  {
   "cell_type": "code",
   "execution_count": 730,
   "metadata": {},
   "outputs": [],
   "source": [
    "#df.format.loc[df.format.isin(au)] = 'audiobook'"
   ]
  },
  {
   "cell_type": "code",
   "execution_count": 731,
   "metadata": {},
   "outputs": [],
   "source": [
    "#df.format.loc[df.format.isin(eb)] = 'ebook'"
   ]
  },
  {
   "cell_type": "code",
   "execution_count": 732,
   "metadata": {},
   "outputs": [],
   "source": [
    "#df.format.loc[df.format.isin(podiobook)] = 'podiobook'"
   ]
  },
  {
   "cell_type": "code",
   "execution_count": 733,
   "metadata": {},
   "outputs": [],
   "source": [
    "#df.format.loc[df.format.isin(large)] = 'large_print'"
   ]
  },
  {
   "cell_type": "code",
   "execution_count": 734,
   "metadata": {},
   "outputs": [],
   "source": [
    "#df.format.value_counts().head(20)"
   ]
  },
  {
   "cell_type": "code",
   "execution_count": 735,
   "metadata": {},
   "outputs": [],
   "source": [
    "#df.format.loc[df['format'].str.contains(\"and\",na=False)] = 'multiple'"
   ]
  },
  {
   "cell_type": "code",
   "execution_count": 736,
   "metadata": {},
   "outputs": [],
   "source": [
    "#df.format.value_counts().head(20)"
   ]
  },
  {
   "cell_type": "code",
   "execution_count": 737,
   "metadata": {},
   "outputs": [],
   "source": [
    "#df.format.loc[df['format'].str.contains(\",\",na=False)] = 'multiple'"
   ]
  },
  {
   "cell_type": "code",
   "execution_count": 738,
   "metadata": {},
   "outputs": [],
   "source": [
    "#df.format.value_counts().head(20)"
   ]
  },
  {
   "cell_type": "code",
   "execution_count": 739,
   "metadata": {},
   "outputs": [],
   "source": [
    "#df.format.value_counts().head(30)"
   ]
  },
  {
   "cell_type": "code",
   "execution_count": 740,
   "metadata": {},
   "outputs": [],
   "source": [
    "#df.format.loc[df['format'].str.contains(\"online\",na=False)] = 'ebook'\n"
   ]
  },
  {
   "cell_type": "code",
   "execution_count": 741,
   "metadata": {},
   "outputs": [],
   "source": [
    "#df.format.loc[df['format'].str.contains(\"online\",na=False)] = 'ebook'"
   ]
  },
  {
   "cell_type": "code",
   "execution_count": 742,
   "metadata": {},
   "outputs": [],
   "source": [
    "#df.format.loc[df['format'].str.contains(\"audio\",na=False)].value_counts()"
   ]
  },
  {
   "cell_type": "code",
   "execution_count": 743,
   "metadata": {},
   "outputs": [],
   "source": [
    "#df.format.loc[df['format'].str.contains(\"hard\",na=False)].value_counts()"
   ]
  },
  {
   "cell_type": "code",
   "execution_count": 744,
   "metadata": {},
   "outputs": [],
   "source": [
    "def find_formats(dataframe,col,strings):\n",
    "    res = dataframe[col].loc[dataframe[col].str.contains(strings,na=False)].value_counts()\n",
    "    print(strings,'results are:\\n',res)\n",
    "    "
   ]
  },
  {
   "cell_type": "code",
   "execution_count": 745,
   "metadata": {},
   "outputs": [],
   "source": [
    "def change_formats(dataframe,col,strings,new_name):\n",
    "    dataframe[col].loc[dataframe[col].str.contains(strings,na=False)] = new_name\n",
    "    dataframe[col].loc[dataframe[col].str.contains(strings,na=False)].value_counts()"
   ]
  },
  {
   "cell_type": "code",
   "execution_count": 746,
   "metadata": {},
   "outputs": [
    {
     "name": "stdout",
     "output_type": "stream",
     "text": [
      "large results are:\n",
      " large print                16\n",
      "paperback - large print     3\n",
      "hardcover - large print     3\n",
      "hardcover (large print)     2\n",
      "large print hardcover       1\n",
      "large print paperback       1\n",
      "Name: format, dtype: int64\n"
     ]
    }
   ],
   "source": [
    "find_formats(df,\"format\",\"large\")"
   ]
  },
  {
   "cell_type": "code",
   "execution_count": 747,
   "metadata": {},
   "outputs": [
    {
     "name": "stderr",
     "output_type": "stream",
     "text": [
      "/Users/jensensj/opt/anaconda3/lib/python3.8/site-packages/pandas/core/indexing.py:670: SettingWithCopyWarning: \n",
      "A value is trying to be set on a copy of a slice from a DataFrame\n",
      "\n",
      "See the caveats in the documentation: https://pandas.pydata.org/pandas-docs/stable/user_guide/indexing.html#returning-a-view-versus-a-copy\n",
      "  iloc._setitem_with_indexer(indexer, value)\n"
     ]
    }
   ],
   "source": [
    "change_formats(df,\"format\",\"large\",\"large_print\")"
   ]
  },
  {
   "cell_type": "code",
   "execution_count": 748,
   "metadata": {},
   "outputs": [
    {
     "name": "stdout",
     "output_type": "stream",
     "text": [
      "large results are:\n",
      " large_print    26\n",
      "Name: format, dtype: int64\n"
     ]
    }
   ],
   "source": [
    "find_formats(df,\"format\",\"large\")"
   ]
  },
  {
   "cell_type": "code",
   "execution_count": 749,
   "metadata": {},
   "outputs": [
    {
     "name": "stdout",
     "output_type": "stream",
     "text": [
      "lp results are:\n",
      " hardcover-lp    2\n",
      "Name: format, dtype: int64\n"
     ]
    }
   ],
   "source": [
    "find_formats(df,\"format\",\"lp\")\n",
    "change_formats(df,\"format\",\"lp\",\"large_print\")"
   ]
  },
  {
   "cell_type": "code",
   "execution_count": 750,
   "metadata": {},
   "outputs": [
    {
     "name": "stdout",
     "output_type": "stream",
     "text": [
      "hard results are:\n",
      " hardcover                       23816\n",
      "hardback                           27\n",
      "hard cover                          3\n",
      "hardover                            1\n",
      "original uk hardback                1\n",
      "limited edition hardcover           1\n",
      "faux leather hardcover              1\n",
      "hardcover, book club edition        1\n",
      "Name: format, dtype: int64\n"
     ]
    }
   ],
   "source": [
    "find_formats(df,\"format\",\"hard\")"
   ]
  },
  {
   "cell_type": "code",
   "execution_count": 751,
   "metadata": {},
   "outputs": [],
   "source": [
    "change_formats(df,\"format\",\"hard\",\"hardcover\")"
   ]
  },
  {
   "cell_type": "code",
   "execution_count": 752,
   "metadata": {},
   "outputs": [
    {
     "name": "stdout",
     "output_type": "stream",
     "text": [
      "and results are:\n",
      " paperback and ebook             4\n",
      "kindle edition and paperback    4\n",
      "paperback and kindle            3\n",
      "ebook and paperback             3\n",
      "crime and investigation         1\n",
      "paperback and e-book            1\n",
      "kindle and paperback            1\n",
      "print and ebook                 1\n",
      "ebook and trade paperback       1\n",
      "print and download              1\n",
      "ebook and print                 1\n",
      "Name: format, dtype: int64\n"
     ]
    }
   ],
   "source": [
    "find_formats(df,\"format\",\"and\")"
   ]
  },
  {
   "cell_type": "code",
   "execution_count": 753,
   "metadata": {},
   "outputs": [],
   "source": [
    "change_formats(df,\"format\",\"and\",\"multiple\")"
   ]
  },
  {
   "cell_type": "code",
   "execution_count": 754,
   "metadata": {},
   "outputs": [
    {
     "name": "stdout",
     "output_type": "stream",
     "text": [
      "/ results are:\n",
      " paperback/kindle       1\n",
      "print/kindle           1\n",
      "podcast/podiobooks     1\n",
      "kindle/paperback       1\n",
      "podcast / audiobook    1\n",
      "Name: format, dtype: int64\n"
     ]
    }
   ],
   "source": [
    "find_formats(df,\"format\",\"/\")"
   ]
  },
  {
   "cell_type": "code",
   "execution_count": 755,
   "metadata": {},
   "outputs": [],
   "source": [
    "change_formats(df,\"format\",\"/\",\"multiple\")"
   ]
  },
  {
   "cell_type": "code",
   "execution_count": 756,
   "metadata": {},
   "outputs": [
    {
     "name": "stdout",
     "output_type": "stream",
     "text": [
      "; results are:\n",
      " ebook &amp; paperback              2\n",
      "paperback; digital (epub, mobi)    1\n",
      "paperback &amp; pdf                1\n",
      "e-book &amp; paperback             1\n",
      "ebook&amp;paperback                1\n",
      "electronic &amp; print             1\n",
      "paperback &amp; kindle             1\n",
      "Name: format, dtype: int64\n"
     ]
    }
   ],
   "source": [
    "find_formats(df,\"format\",\";\")"
   ]
  },
  {
   "cell_type": "code",
   "execution_count": 757,
   "metadata": {},
   "outputs": [],
   "source": [
    "change_formats(df,\"format\",\";\",\"multiple\")"
   ]
  },
  {
   "cell_type": "code",
   "execution_count": 758,
   "metadata": {},
   "outputs": [
    {
     "name": "stdout",
     "output_type": "stream",
     "text": [
      ", results are:\n",
      " paperback, ebook                         4\n",
      "ebook, paperback                         2\n",
      "kindle edition, paperback                1\n",
      "paperback, e-book                        1\n",
      "audible, usa download                    1\n",
      "ebook, kindle                            1\n",
      "ebook, print                             1\n",
      "ebook, paperback, audible audio          1\n",
      "kindle, paperback                        1\n",
      "paperback, kindle                        1\n",
      "paperback, ebook, audible                1\n",
      "true first ed hc, re-bound by library    1\n",
      "Name: format, dtype: int64\n"
     ]
    }
   ],
   "source": [
    "find_formats(df,\"format\",\",\")"
   ]
  },
  {
   "cell_type": "code",
   "execution_count": 759,
   "metadata": {},
   "outputs": [],
   "source": [
    "change_formats(df,\"format\",\"audible, usa\",\"audible\")\n",
    "change_formats(df,\"format\",\"true first ed hc, re-bound by library\",\"unknown_other\")"
   ]
  },
  {
   "cell_type": "code",
   "execution_count": 760,
   "metadata": {},
   "outputs": [
    {
     "name": "stdout",
     "output_type": "stream",
     "text": [
      ", results are:\n",
      " paperback, ebook                   4\n",
      "ebook, paperback                   2\n",
      "kindle edition, paperback          1\n",
      "paperback, e-book                  1\n",
      "ebook, kindle                      1\n",
      "ebook, print                       1\n",
      "ebook, paperback, audible audio    1\n",
      "kindle, paperback                  1\n",
      "paperback, kindle                  1\n",
      "paperback, ebook, audible          1\n",
      "Name: format, dtype: int64\n"
     ]
    }
   ],
   "source": [
    "find_formats(df,\"format\",\",\")"
   ]
  },
  {
   "cell_type": "code",
   "execution_count": 761,
   "metadata": {},
   "outputs": [],
   "source": [
    "change_formats(df,\"format\",\",\",\"multiple\")"
   ]
  },
  {
   "cell_type": "code",
   "execution_count": 762,
   "metadata": {},
   "outputs": [
    {
     "name": "stdout",
     "output_type": "stream",
     "text": [
      "paper results are:\n",
      " paperback                          58259\n",
      "mass market paperback               5079\n",
      "trade paperback                       96\n",
      "paper                                  6\n",
      "paperback manga                        4\n",
      "perfect paperback                      2\n",
      "uk paperback                           2\n",
      "tradepaperback                         2\n",
      "(paperback)                            1\n",
      "mass-market paperback                  1\n",
      "bookpaper                              1\n",
      "export trade paperback                 1\n",
      "boxed set (paperback)                  1\n",
      "pocket paperback                       1\n",
      "trade paper back                       1\n",
      "trade paperbck                         1\n",
      "paperback - c format                   1\n",
      "mass market paperback - reissue        1\n",
      "open market paperback                  1\n",
      "Name: format, dtype: int64\n"
     ]
    }
   ],
   "source": [
    "find_formats(df,\"format\",\"paper\")"
   ]
  },
  {
   "cell_type": "code",
   "execution_count": 763,
   "metadata": {},
   "outputs": [],
   "source": [
    "change_formats(df,\"format\",\"paper\",\"softcover\")"
   ]
  },
  {
   "cell_type": "code",
   "execution_count": 764,
   "metadata": {},
   "outputs": [
    {
     "name": "stdout",
     "output_type": "stream",
     "text": [
      "soft results are:\n",
      " softcover     63468\n",
      "soft cover        4\n",
      "Name: format, dtype: int64\n"
     ]
    }
   ],
   "source": [
    "find_formats(df,\"format\",\"soft\")"
   ]
  },
  {
   "cell_type": "code",
   "execution_count": 765,
   "metadata": {},
   "outputs": [],
   "source": [
    "change_formats(df,\"format\",\"soft\",\"softcover\")"
   ]
  },
  {
   "cell_type": "code",
   "execution_count": 766,
   "metadata": {},
   "outputs": [
    {
     "name": "stdout",
     "output_type": "stream",
     "text": [
      "audible results are:\n",
      " audible audio                   2025\n",
      "mp3 audible                        1\n",
      "audible                            1\n",
      "audible mp3 download               1\n",
      "audiobook - audible download       1\n",
      "Name: format, dtype: int64\n"
     ]
    }
   ],
   "source": [
    "find_formats(df,\"format\",\"audible\")"
   ]
  },
  {
   "cell_type": "code",
   "execution_count": 767,
   "metadata": {},
   "outputs": [],
   "source": [
    "change_formats(df,\"format\",\"audible\",\"audible\")"
   ]
  },
  {
   "cell_type": "code",
   "execution_count": 768,
   "metadata": {},
   "outputs": [
    {
     "name": "stdout",
     "output_type": "stream",
     "text": [
      "kindle results are:\n",
      " kindle edition            12819\n",
      "kindle                        3\n",
      "ebook (version kindle)        1\n",
      "kindle ebook                  1\n",
      "Name: format, dtype: int64\n"
     ]
    }
   ],
   "source": [
    "find_formats(df,\"format\",\"kindle\")"
   ]
  },
  {
   "cell_type": "code",
   "execution_count": 769,
   "metadata": {},
   "outputs": [],
   "source": [
    "change_formats(df,\"format\",\"kindle\",\"kindle\")"
   ]
  },
  {
   "cell_type": "code",
   "execution_count": 770,
   "metadata": {},
   "outputs": [
    {
     "name": "stdout",
     "output_type": "stream",
     "text": [
      "eb results are:\n",
      " ebook               14979\n",
      "web serial novel        1\n",
      "online freebie          1\n",
      "webtoon                 1\n",
      "Name: format, dtype: int64\n"
     ]
    }
   ],
   "source": [
    "find_formats(df,\"format\",\"eb\")"
   ]
  },
  {
   "cell_type": "code",
   "execution_count": 771,
   "metadata": {},
   "outputs": [
    {
     "name": "stdout",
     "output_type": "stream",
     "text": [
      "online results are:\n",
      " online fiction               2\n",
      "online post                  1\n",
      "free online fiction          1\n",
      "online publication           1\n",
      "online                       1\n",
      "online fiction - complete    1\n",
      "online freebie               1\n",
      "original online fiction      1\n",
      "Name: format, dtype: int64\n"
     ]
    }
   ],
   "source": [
    "find_formats(df,\"format\",\"online\")"
   ]
  },
  {
   "cell_type": "code",
   "execution_count": 772,
   "metadata": {},
   "outputs": [
    {
     "name": "stdout",
     "output_type": "stream",
     "text": [
      "nook results are:\n",
      " nook    56\n",
      "Name: format, dtype: int64\n"
     ]
    }
   ],
   "source": [
    "find_formats(df,\"format\",\"nook\")"
   ]
  },
  {
   "cell_type": "code",
   "execution_count": 773,
   "metadata": {},
   "outputs": [],
   "source": [
    "change_formats(df,\"format\",\"eb\",\"ebook\")\n",
    "change_formats(df,\"format\",\"online\",\"ebook\")\n",
    "change_formats(df,\"format\",\"nook\",\"ebook\")"
   ]
  },
  {
   "cell_type": "code",
   "execution_count": 774,
   "metadata": {},
   "outputs": [
    {
     "name": "stdout",
     "output_type": "stream",
     "text": [
      "cassette results are:\n",
      " audio cassette                     233\n",
      "audiocassette                        2\n",
      "audio cassette (libr.) (unabr.)      1\n",
      "audiocassette (unabridged)           1\n",
      "audio cassette - abridged            1\n",
      "audio cassette - unabridged          1\n",
      "Name: format, dtype: int64\n"
     ]
    }
   ],
   "source": [
    "find_formats(df,\"format\",\"cassette\")"
   ]
  },
  {
   "cell_type": "code",
   "execution_count": 775,
   "metadata": {},
   "outputs": [],
   "source": [
    "change_formats(df,\"format\",\"cassette\",\"cassette\")"
   ]
  },
  {
   "cell_type": "code",
   "execution_count": 776,
   "metadata": {},
   "outputs": [
    {
     "name": "stdout",
     "output_type": "stream",
     "text": [
      "audio results are:\n",
      " audio cd                          6669\n",
      "audiobook                         3050\n",
      "audio                             1828\n",
      "digital audio                       10\n",
      "eaudiobook                           3\n",
      "digital audio (unabridged)           2\n",
      "audio book                           2\n",
      "abriged audio cd                     1\n",
      "audio playaway                       1\n",
      "unabriged audio cd                   1\n",
      "playaway audio                       1\n",
      "audiobook unabridged                 1\n",
      "mp3 audio download                   1\n",
      "mp3 audiobook                        1\n",
      "mp3 audio                            1\n",
      "preloaded digital audio player       1\n",
      "audio cd (unabr.)                    1\n",
      "Name: format, dtype: int64\n"
     ]
    }
   ],
   "source": [
    "find_formats(df,\"format\",\"audio\")"
   ]
  },
  {
   "cell_type": "code",
   "execution_count": 777,
   "metadata": {},
   "outputs": [],
   "source": [
    "change_formats(df,\"format\",\"audio\",\"audio\")"
   ]
  },
  {
   "cell_type": "code",
   "execution_count": 778,
   "metadata": {},
   "outputs": [
    {
     "data": {
      "text/plain": [
       "softcover            63472\n",
       "hardcover            23851\n",
       "ebook                15046\n",
       "kindle               12824\n",
       "audio                11574\n",
       "audible               2029\n",
       "unknown binding        518\n",
       "cassette               239\n",
       "mp3 cd                 193\n",
       "library binding         92\n",
       "multiple                48\n",
       "large_print             28\n",
       "leather bound           25\n",
       "capa mole                9\n",
       "unbound                  8\n",
       "leatherette bound        7\n",
       "podiobook                5\n",
       "mp3 book                 5\n",
       "cloth                    4\n",
       "board book               4\n",
       "Name: format, dtype: int64"
      ]
     },
     "execution_count": 778,
     "metadata": {},
     "output_type": "execute_result"
    }
   ],
   "source": [
    "df.format.value_counts().head(20)"
   ]
  },
  {
   "cell_type": "code",
   "execution_count": 779,
   "metadata": {},
   "outputs": [
    {
     "name": "stdout",
     "output_type": "stream",
     "text": [
      "mp3 results are:\n",
      " mp3 cd          193\n",
      "mp3 book          5\n",
      "mp3               2\n",
      "mp3 download      1\n",
      "Name: format, dtype: int64\n"
     ]
    }
   ],
   "source": [
    "find_formats(df,\"format\",\"mp3\")"
   ]
  },
  {
   "cell_type": "code",
   "execution_count": 780,
   "metadata": {},
   "outputs": [],
   "source": [
    "change_formats(df,\"format\",\"mp3\",\"audio\")"
   ]
  },
  {
   "cell_type": "code",
   "execution_count": 781,
   "metadata": {},
   "outputs": [
    {
     "name": "stdout",
     "output_type": "stream",
     "text": [
      "binding results are:\n",
      " unknown binding            518\n",
      "library binding             92\n",
      "textbook binding             1\n",
      "abriged unknown binding      1\n",
      "Name: format, dtype: int64\n"
     ]
    }
   ],
   "source": [
    "find_formats(df,\"format\",\"binding\")"
   ]
  },
  {
   "cell_type": "code",
   "execution_count": 782,
   "metadata": {},
   "outputs": [],
   "source": [
    "change_formats(df,\"format\",\"binding\",\"unknown_other\")"
   ]
  },
  {
   "cell_type": "code",
   "execution_count": 783,
   "metadata": {},
   "outputs": [
    {
     "data": {
      "text/plain": [
       "softcover            63472\n",
       "hardcover            23851\n",
       "ebook                15046\n",
       "kindle               12824\n",
       "audio                11775\n",
       "audible               2029\n",
       "unknown_other          613\n",
       "cassette               239\n",
       "multiple                48\n",
       "large_print             28\n",
       "leather bound           25\n",
       "capa mole                9\n",
       "unbound                  8\n",
       "leatherette bound        7\n",
       "podiobook                5\n",
       "cloth                    4\n",
       "board book               4\n",
       "playaway                 3\n",
       "leatherbound             3\n",
       "broche                   3\n",
       "Name: format, dtype: int64"
      ]
     },
     "execution_count": 783,
     "metadata": {},
     "output_type": "execute_result"
    }
   ],
   "source": [
    "df.format.value_counts().head(20)"
   ]
  },
  {
   "cell_type": "code",
   "execution_count": 784,
   "metadata": {},
   "outputs": [
    {
     "name": "stdout",
     "output_type": "stream",
     "text": [
      "leather results are:\n",
      " leather bound        25\n",
      "leatherette bound     7\n",
      "leatherbound          3\n",
      "Name: format, dtype: int64\n"
     ]
    }
   ],
   "source": [
    "find_formats(df,\"format\",\"leather\")"
   ]
  },
  {
   "cell_type": "code",
   "execution_count": 785,
   "metadata": {},
   "outputs": [],
   "source": [
    "change_formats(df,\"format\",\"leather\",\"unknown_other\")"
   ]
  },
  {
   "cell_type": "code",
   "execution_count": 786,
   "metadata": {},
   "outputs": [
    {
     "data": {
      "text/plain": [
       "softcover        63472\n",
       "hardcover        23851\n",
       "ebook            15046\n",
       "kindle           12824\n",
       "audio            11775\n",
       "audible           2029\n",
       "unknown_other      648\n",
       "cassette           239\n",
       "multiple            48\n",
       "large_print         28\n",
       "Name: format, dtype: int64"
      ]
     },
     "execution_count": 786,
     "metadata": {},
     "output_type": "execute_result"
    }
   ],
   "source": [
    "df.format.value_counts().head(10)"
   ]
  },
  {
   "cell_type": "code",
   "execution_count": 787,
   "metadata": {},
   "outputs": [
    {
     "name": "stdout",
     "output_type": "stream",
     "text": [
      "dig results are:\n",
      " preloaded digital player    2\n",
      "digital chapbook            1\n",
      "adobe digital edition       1\n",
      "Name: format, dtype: int64\n"
     ]
    }
   ],
   "source": [
    "find_formats(df,\"format\",\"dig\")"
   ]
  },
  {
   "cell_type": "code",
   "execution_count": 788,
   "metadata": {},
   "outputs": [],
   "source": [
    "change_formats(df,\"format\",\"dig\",\"audio\")"
   ]
  },
  {
   "cell_type": "code",
   "execution_count": 789,
   "metadata": {},
   "outputs": [
    {
     "name": "stdout",
     "output_type": "stream",
     "text": [
      "pod results are:\n",
      " podiobook     5\n",
      "podcast       2\n",
      "podio book    1\n",
      "Name: format, dtype: int64\n"
     ]
    }
   ],
   "source": [
    "find_formats(df,\"format\",\"pod\")"
   ]
  },
  {
   "cell_type": "code",
   "execution_count": 790,
   "metadata": {},
   "outputs": [],
   "source": [
    "change_formats(df,\"format\",\"pod\",\"podiobook\")"
   ]
  },
  {
   "cell_type": "code",
   "execution_count": 791,
   "metadata": {},
   "outputs": [
    {
     "data": {
      "text/plain": [
       "softcover        63472\n",
       "hardcover        23851\n",
       "ebook            15046\n",
       "kindle           12824\n",
       "audio            11779\n",
       "audible           2029\n",
       "unknown_other      648\n",
       "cassette           239\n",
       "multiple            48\n",
       "large_print         28\n",
       "capa mole            9\n",
       "unbound              8\n",
       "podiobook            8\n",
       "board book           4\n",
       "cloth                4\n",
       "broche               3\n",
       "inbunden             3\n",
       "playaway             3\n",
       "box set              3\n",
       "graphic novel        2\n",
       "Name: format, dtype: int64"
      ]
     },
     "execution_count": 791,
     "metadata": {},
     "output_type": "execute_result"
    }
   ],
   "source": [
    "df.format.value_counts().head(20)"
   ]
  },
  {
   "cell_type": "code",
   "execution_count": 792,
   "metadata": {},
   "outputs": [],
   "source": [
    "main_formats = ['softcover', 'hardcover', 'ebook', 'kindle', 'audio', 'audible', 'unknown_other', 'multiple', 'large_print','podiobook']\n"
   ]
  },
  {
   "cell_type": "code",
   "execution_count": 793,
   "metadata": {},
   "outputs": [
    {
     "data": {
      "text/plain": [
       "array(['hardcover', nan, 'audio', 'softcover', 'ebook', 'audible',\n",
       "       'kindle', 'unknown_other', 'cassette', 'cd-rom', 'proof',\n",
       "       'multiple', 'sony reader', 'large_print', 'unbound', 'board book',\n",
       "       'radio drama', 'playaway', 'graphic novel', 'arc', 'inbunden',\n",
       "       'fictional novel', '10 compact discs', 'chapbook',\n",
       "       'multiple formats', 'capa mole', 'poche', 'capa dura',\n",
       "       'periodical', 'comic book', 'podiobook', 'book', 'pb', 'diskette',\n",
       "       'novelty book', 'seeds of civilization', 'mira', 'epub', 'pdb',\n",
       "       'ibook', 'vook', 'box set', 'comic', 's', 'cloth',\n",
       "       'capa mole (livro de bolso)', 'mass-market', 'library edition',\n",
       "       'part-in-omnibus', 'vhs tape', 'cd', 'kindel edition',\n",
       "       'livro de bolso', 'uncorrected proof', \"advance reader's copy\",\n",
       "       'kobo', 'pocket book', 'mobi', 'mystery', 'advance review copy',\n",
       "       'broche', 'internet platform', 'print', 'harcover', 'mass market',\n",
       "       'tankobon', 'unknown'], dtype=object)"
      ]
     },
     "execution_count": 793,
     "metadata": {},
     "output_type": "execute_result"
    }
   ],
   "source": [
    "df.format.unique()"
   ]
  },
  {
   "cell_type": "code",
   "execution_count": 794,
   "metadata": {},
   "outputs": [],
   "source": [
    "change_formats(df,\"format\",\"pb\",\"podiobook\")\n",
    "change_formats(df,\"format\",\"pdb\",\"podiobook\")"
   ]
  },
  {
   "cell_type": "code",
   "execution_count": 795,
   "metadata": {},
   "outputs": [],
   "source": [
    "#changing all outdated technology to cassette to drop \n",
    "change_formats(df,\"format\",\"diskette\",\"cassette\")\n",
    "change_formats(df,\"format\",\"vhs tape\",\"cassette\")"
   ]
  },
  {
   "cell_type": "code",
   "execution_count": 796,
   "metadata": {},
   "outputs": [],
   "source": [
    "change_formats(df,\"format\",\"internet platform\",\"ebook\")\n",
    "change_formats(df,\"format\",\"ibook\",\"ebook\")"
   ]
  },
  {
   "cell_type": "code",
   "execution_count": 797,
   "metadata": {},
   "outputs": [],
   "source": [
    "change_formats(df,\"format\",\"harcover\",\"hardcover\")"
   ]
  },
  {
   "cell_type": "code",
   "execution_count": 798,
   "metadata": {},
   "outputs": [],
   "source": [
    "change_formats(df,\"format\",\"pocket book\",\"softcover\")\n",
    "change_formats(df,\"format\",\"mass market\",\"softcover\")\n",
    "change_formats(df,\"format\",\"mass-market\",\"softcover\")"
   ]
  },
  {
   "cell_type": "code",
   "execution_count": 799,
   "metadata": {},
   "outputs": [],
   "source": [
    "change_formats(df,\"format\",\"cd\",\"audiobook\")\n",
    "change_formats(df,\"format\",\"compact\",\"audiobook\")"
   ]
  },
  {
   "cell_type": "code",
   "execution_count": 800,
   "metadata": {},
   "outputs": [],
   "source": [
    "change_formats(df,\"format\",\"kindel\",\"kindle\")"
   ]
  },
  {
   "cell_type": "code",
   "execution_count": 801,
   "metadata": {},
   "outputs": [
    {
     "data": {
      "text/plain": [
       "array(['hardcover', nan, 'audio', 'softcover', 'ebook', 'audible',\n",
       "       'kindle', 'unknown_other', 'cassette', 'audiobook', 'proof',\n",
       "       'multiple', 'sony reader', 'large_print', 'unbound', 'board book',\n",
       "       'radio drama', 'playaway', 'graphic novel', 'arc', 'inbunden',\n",
       "       'fictional novel', 'podiobook', 'multiple formats', 'capa mole',\n",
       "       'poche', 'capa dura', 'periodical', 'comic book', 'book',\n",
       "       'novelty book', 'seeds of civilization', 'mira', 'epub', 'vook',\n",
       "       'box set', 'comic', 's', 'cloth', 'capa mole (livro de bolso)',\n",
       "       'library edition', 'part-in-omnibus', 'livro de bolso',\n",
       "       'uncorrected proof', \"advance reader's copy\", 'kobo', 'mobi',\n",
       "       'mystery', 'advance review copy', 'broche', 'print', 'tankobon',\n",
       "       'unknown'], dtype=object)"
      ]
     },
     "execution_count": 801,
     "metadata": {},
     "output_type": "execute_result"
    }
   ],
   "source": [
    "df.format.unique()"
   ]
  },
  {
   "cell_type": "code",
   "execution_count": 802,
   "metadata": {},
   "outputs": [],
   "source": [
    "change_formats(df,\"format\",\"multiple\",\"multiple\")"
   ]
  },
  {
   "cell_type": "code",
   "execution_count": 803,
   "metadata": {},
   "outputs": [],
   "source": [
    "change_formats(df,\"format\",\"unknown\",\"unknown_other\")"
   ]
  },
  {
   "cell_type": "code",
   "execution_count": 804,
   "metadata": {},
   "outputs": [],
   "source": [
    "change_formats(df,\"format\",\"audiobook\",\"audio\")"
   ]
  },
  {
   "cell_type": "code",
   "execution_count": 805,
   "metadata": {},
   "outputs": [
    {
     "data": {
      "text/plain": [
       "softcover                     63475\n",
       "hardcover                     23852\n",
       "ebook                         15048\n",
       "kindle                        12825\n",
       "audio                         11783\n",
       "audible                        2029\n",
       "unknown_other                   649\n",
       "cassette                        241\n",
       "multiple                         49\n",
       "large_print                      28\n",
       "podiobook                        12\n",
       "capa mole                         9\n",
       "unbound                           8\n",
       "cloth                             4\n",
       "board book                        4\n",
       "playaway                          3\n",
       "inbunden                          3\n",
       "broche                            3\n",
       "box set                           3\n",
       "graphic novel                     2\n",
       "poche                             2\n",
       "kobo                              1\n",
       "vook                              1\n",
       "tankobon                          1\n",
       "livro de bolso                    1\n",
       "capa dura                         1\n",
       "mystery                           1\n",
       "radio drama                       1\n",
       "periodical                        1\n",
       "mira                              1\n",
       "capa mole (livro de bolso)        1\n",
       "print                             1\n",
       "mobi                              1\n",
       "s                                 1\n",
       "arc                               1\n",
       "novelty book                      1\n",
       "uncorrected proof                 1\n",
       "sony reader                       1\n",
       "library edition                   1\n",
       "book                              1\n",
       "comic book                        1\n",
       "fictional novel                   1\n",
       "comic                             1\n",
       "advance reader's copy             1\n",
       "advance review copy               1\n",
       "part-in-omnibus                   1\n",
       "seeds of civilization             1\n",
       "proof                             1\n",
       "epub                              1\n",
       "Name: format, dtype: int64"
      ]
     },
     "execution_count": 805,
     "metadata": {},
     "output_type": "execute_result"
    }
   ],
   "source": [
    "df.format.value_counts()"
   ]
  },
  {
   "cell_type": "code",
   "execution_count": 806,
   "metadata": {},
   "outputs": [
    {
     "data": {
      "text/html": [
       "<div>\n",
       "<style scoped>\n",
       "    .dataframe tbody tr th:only-of-type {\n",
       "        vertical-align: middle;\n",
       "    }\n",
       "\n",
       "    .dataframe tbody tr th {\n",
       "        vertical-align: top;\n",
       "    }\n",
       "\n",
       "    .dataframe thead th {\n",
       "        text-align: right;\n",
       "    }\n",
       "</style>\n",
       "<table border=\"1\" class=\"dataframe\">\n",
       "  <thead>\n",
       "    <tr style=\"text-align: right;\">\n",
       "      <th></th>\n",
       "      <th>text_reviews_count</th>\n",
       "      <th>series</th>\n",
       "      <th>country_code</th>\n",
       "      <th>language_code</th>\n",
       "      <th>popular_shelves</th>\n",
       "      <th>is_ebook</th>\n",
       "      <th>average_rating</th>\n",
       "      <th>similar_books</th>\n",
       "      <th>format</th>\n",
       "      <th>authors</th>\n",
       "      <th>publisher</th>\n",
       "      <th>num_pages</th>\n",
       "      <th>publication_month</th>\n",
       "      <th>edition_information</th>\n",
       "      <th>publication_year</th>\n",
       "      <th>book_id</th>\n",
       "      <th>ratings_count</th>\n",
       "      <th>work_id</th>\n",
       "      <th>title</th>\n",
       "      <th>title_without_series</th>\n",
       "    </tr>\n",
       "  </thead>\n",
       "  <tbody>\n",
       "    <tr>\n",
       "      <th>0</th>\n",
       "      <td>15</td>\n",
       "      <td>[169353]</td>\n",
       "      <td>US</td>\n",
       "      <td>NaN</td>\n",
       "      <td>[{'count': '159', 'name': 'to-read'}, {'count'...</td>\n",
       "      <td>false</td>\n",
       "      <td>3.93</td>\n",
       "      <td>[439108, 522621, 116770, 1275927, 6202655, 840...</td>\n",
       "      <td>hardcover</td>\n",
       "      <td>[{'author_id': '37778', 'role': ''}]</td>\n",
       "      <td>Simon &amp; Schuster UK</td>\n",
       "      <td>400</td>\n",
       "      <td>4</td>\n",
       "      <td>NaN</td>\n",
       "      <td>2009</td>\n",
       "      <td>6066814</td>\n",
       "      <td>186</td>\n",
       "      <td>6243149</td>\n",
       "      <td>Crowner Royal (Crowner John Mystery, #13)</td>\n",
       "      <td>Crowner Royal (Crowner John Mystery, #13)</td>\n",
       "    </tr>\n",
       "    <tr>\n",
       "      <th>3</th>\n",
       "      <td>8</td>\n",
       "      <td>[408775]</td>\n",
       "      <td>US</td>\n",
       "      <td>NaN</td>\n",
       "      <td>[{'count': '51', 'name': 'to-read'}, {'count':...</td>\n",
       "      <td>false</td>\n",
       "      <td>3.30</td>\n",
       "      <td>[]</td>\n",
       "      <td>hardcover</td>\n",
       "      <td>[{'author_id': '190988', 'role': ''}]</td>\n",
       "      <td>Ulverscroft</td>\n",
       "      <td>NaN</td>\n",
       "      <td>12</td>\n",
       "      <td>Large Print</td>\n",
       "      <td>1975</td>\n",
       "      <td>1902202</td>\n",
       "      <td>52</td>\n",
       "      <td>1903897</td>\n",
       "      <td>Dead in the Morning (Patrick Grant, #1)</td>\n",
       "      <td>Dead in the Morning (Patrick Grant, #1)</td>\n",
       "    </tr>\n",
       "    <tr>\n",
       "      <th>5</th>\n",
       "      <td>3</td>\n",
       "      <td>[199039]</td>\n",
       "      <td>US</td>\n",
       "      <td>eng</td>\n",
       "      <td>[{'count': '1694', 'name': 'mystery'}, {'count...</td>\n",
       "      <td>false</td>\n",
       "      <td>3.96</td>\n",
       "      <td>[93575, 280849, 243401, 77617]</td>\n",
       "      <td>audio</td>\n",
       "      <td>[{'author_id': '123715', 'role': ''}, {'author...</td>\n",
       "      <td>HarperAudio</td>\n",
       "      <td>NaN</td>\n",
       "      <td>3</td>\n",
       "      <td>NaN</td>\n",
       "      <td>2013</td>\n",
       "      <td>16158998</td>\n",
       "      <td>5</td>\n",
       "      <td>2288775</td>\n",
       "      <td>A Murder is Announced</td>\n",
       "      <td>A Murder is Announced</td>\n",
       "    </tr>\n",
       "    <tr>\n",
       "      <th>7</th>\n",
       "      <td>8</td>\n",
       "      <td>[326237]</td>\n",
       "      <td>US</td>\n",
       "      <td>NaN</td>\n",
       "      <td>[{'count': '38', 'name': 'to-read'}, {'count':...</td>\n",
       "      <td>false</td>\n",
       "      <td>3.61</td>\n",
       "      <td>[]</td>\n",
       "      <td>softcover</td>\n",
       "      <td>[{'author_id': '1533165', 'role': ''}]</td>\n",
       "      <td>Orion</td>\n",
       "      <td>320</td>\n",
       "      <td>8</td>\n",
       "      <td>NaN</td>\n",
       "      <td>2001</td>\n",
       "      <td>2805495</td>\n",
       "      <td>58</td>\n",
       "      <td>2831381</td>\n",
       "      <td>Wycliffe and the Cycle of Death</td>\n",
       "      <td>Wycliffe and the Cycle of Death</td>\n",
       "    </tr>\n",
       "    <tr>\n",
       "      <th>8</th>\n",
       "      <td>6</td>\n",
       "      <td>[]</td>\n",
       "      <td>US</td>\n",
       "      <td>eng</td>\n",
       "      <td>[{'count': '171', 'name': 'to-read'}, {'count'...</td>\n",
       "      <td>false</td>\n",
       "      <td>4.14</td>\n",
       "      <td>[]</td>\n",
       "      <td>softcover</td>\n",
       "      <td>[{'author_id': '4577517', 'role': ''}]</td>\n",
       "      <td>280 Steps</td>\n",
       "      <td>228</td>\n",
       "      <td>11</td>\n",
       "      <td>NaN</td>\n",
       "      <td>2014</td>\n",
       "      <td>22722787</td>\n",
       "      <td>18</td>\n",
       "      <td>42251489</td>\n",
       "      <td>The Cost of Doing Business</td>\n",
       "      <td>The Cost of Doing Business</td>\n",
       "    </tr>\n",
       "    <tr>\n",
       "      <th>...</th>\n",
       "      <td>...</td>\n",
       "      <td>...</td>\n",
       "      <td>...</td>\n",
       "      <td>...</td>\n",
       "      <td>...</td>\n",
       "      <td>...</td>\n",
       "      <td>...</td>\n",
       "      <td>...</td>\n",
       "      <td>...</td>\n",
       "      <td>...</td>\n",
       "      <td>...</td>\n",
       "      <td>...</td>\n",
       "      <td>...</td>\n",
       "      <td>...</td>\n",
       "      <td>...</td>\n",
       "      <td>...</td>\n",
       "      <td>...</td>\n",
       "      <td>...</td>\n",
       "      <td>...</td>\n",
       "      <td>...</td>\n",
       "    </tr>\n",
       "    <tr>\n",
       "      <th>219228</th>\n",
       "      <td>6</td>\n",
       "      <td>[678804]</td>\n",
       "      <td>US</td>\n",
       "      <td>NaN</td>\n",
       "      <td>[{'count': '21', 'name': 'to-read'}, {'count':...</td>\n",
       "      <td>true</td>\n",
       "      <td>4.04</td>\n",
       "      <td>[]</td>\n",
       "      <td>kindle</td>\n",
       "      <td>[{'author_id': '6877250', 'role': ''}]</td>\n",
       "      <td>NaN</td>\n",
       "      <td>233</td>\n",
       "      <td>10</td>\n",
       "      <td>NaN</td>\n",
       "      <td>2014</td>\n",
       "      <td>23124272</td>\n",
       "      <td>75</td>\n",
       "      <td>42672906</td>\n",
       "      <td>Stacked to Death (Jamie Brodie Mystery, #7)</td>\n",
       "      <td>Stacked to Death (Jamie Brodie Mystery, #7)</td>\n",
       "    </tr>\n",
       "    <tr>\n",
       "      <th>219231</th>\n",
       "      <td>6</td>\n",
       "      <td>[]</td>\n",
       "      <td>US</td>\n",
       "      <td>NaN</td>\n",
       "      <td>[{'count': '497', 'name': 'to-read'}, {'count'...</td>\n",
       "      <td>false</td>\n",
       "      <td>3.81</td>\n",
       "      <td>[23012660, 13763625, 18079894, 21432940, 17343...</td>\n",
       "      <td>softcover</td>\n",
       "      <td>[{'author_id': '16176417', 'role': ''}]</td>\n",
       "      <td>MX Publishing</td>\n",
       "      <td>208</td>\n",
       "      <td>10</td>\n",
       "      <td>NaN</td>\n",
       "      <td>2015</td>\n",
       "      <td>26591045</td>\n",
       "      <td>16</td>\n",
       "      <td>46613239</td>\n",
       "      <td>The Sensible Necktie and Other Stories of Sher...</td>\n",
       "      <td>The Sensible Necktie and Other Stories of Sher...</td>\n",
       "    </tr>\n",
       "    <tr>\n",
       "      <th>219232</th>\n",
       "      <td>3</td>\n",
       "      <td>[]</td>\n",
       "      <td>US</td>\n",
       "      <td>eng</td>\n",
       "      <td>[{'count': '735', 'name': 'to-read'}, {'count'...</td>\n",
       "      <td>false</td>\n",
       "      <td>4.11</td>\n",
       "      <td>[24808217, 17620517, 13496536, 21947925, 18079...</td>\n",
       "      <td>softcover</td>\n",
       "      <td>[{'author_id': '5401342', 'role': ''}]</td>\n",
       "      <td>MX Publishing</td>\n",
       "      <td>288</td>\n",
       "      <td>7</td>\n",
       "      <td>NaN</td>\n",
       "      <td>2015</td>\n",
       "      <td>25727303</td>\n",
       "      <td>6</td>\n",
       "      <td>45563843</td>\n",
       "      <td>Mrs. Hudson in New York</td>\n",
       "      <td>Mrs. Hudson in New York</td>\n",
       "    </tr>\n",
       "    <tr>\n",
       "      <th>219233</th>\n",
       "      <td>7</td>\n",
       "      <td>[]</td>\n",
       "      <td>US</td>\n",
       "      <td>eng</td>\n",
       "      <td>[{'count': '36', 'name': 'to-read'}, {'count':...</td>\n",
       "      <td>true</td>\n",
       "      <td>4.00</td>\n",
       "      <td>[]</td>\n",
       "      <td>ebook</td>\n",
       "      <td>[{'author_id': '4590885', 'role': ''}]</td>\n",
       "      <td>NaN</td>\n",
       "      <td>NaN</td>\n",
       "      <td>9</td>\n",
       "      <td>NaN</td>\n",
       "      <td>2014</td>\n",
       "      <td>23252156</td>\n",
       "      <td>16</td>\n",
       "      <td>42794368</td>\n",
       "      <td>Wicked Reflection</td>\n",
       "      <td>Wicked Reflection</td>\n",
       "    </tr>\n",
       "    <tr>\n",
       "      <th>219234</th>\n",
       "      <td>2</td>\n",
       "      <td>[]</td>\n",
       "      <td>US</td>\n",
       "      <td>eng</td>\n",
       "      <td>[{'count': '702', 'name': 'to-read'}, {'count'...</td>\n",
       "      <td>false</td>\n",
       "      <td>3.50</td>\n",
       "      <td>[12064253, 25017213, 571796, 27306126, 2146669...</td>\n",
       "      <td>softcover</td>\n",
       "      <td>[{'author_id': '2448', 'role': ''}, {'author_i...</td>\n",
       "      <td>MX Publishing</td>\n",
       "      <td>148</td>\n",
       "      <td>8</td>\n",
       "      <td>2nd Edition</td>\n",
       "      <td>2015</td>\n",
       "      <td>26168430</td>\n",
       "      <td>6</td>\n",
       "      <td>46130263</td>\n",
       "      <td>Sherlock Holmes and the July Crisis</td>\n",
       "      <td>Sherlock Holmes and the July Crisis</td>\n",
       "    </tr>\n",
       "  </tbody>\n",
       "</table>\n",
       "<p>129750 rows × 20 columns</p>\n",
       "</div>"
      ],
      "text/plain": [
       "        text_reviews_count    series country_code language_code  \\\n",
       "0                       15  [169353]           US           NaN   \n",
       "3                        8  [408775]           US           NaN   \n",
       "5                        3  [199039]           US           eng   \n",
       "7                        8  [326237]           US           NaN   \n",
       "8                        6        []           US           eng   \n",
       "...                    ...       ...          ...           ...   \n",
       "219228                   6  [678804]           US           NaN   \n",
       "219231                   6        []           US           NaN   \n",
       "219232                   3        []           US           eng   \n",
       "219233                   7        []           US           eng   \n",
       "219234                   2        []           US           eng   \n",
       "\n",
       "                                          popular_shelves is_ebook  \\\n",
       "0       [{'count': '159', 'name': 'to-read'}, {'count'...    false   \n",
       "3       [{'count': '51', 'name': 'to-read'}, {'count':...    false   \n",
       "5       [{'count': '1694', 'name': 'mystery'}, {'count...    false   \n",
       "7       [{'count': '38', 'name': 'to-read'}, {'count':...    false   \n",
       "8       [{'count': '171', 'name': 'to-read'}, {'count'...    false   \n",
       "...                                                   ...      ...   \n",
       "219228  [{'count': '21', 'name': 'to-read'}, {'count':...     true   \n",
       "219231  [{'count': '497', 'name': 'to-read'}, {'count'...    false   \n",
       "219232  [{'count': '735', 'name': 'to-read'}, {'count'...    false   \n",
       "219233  [{'count': '36', 'name': 'to-read'}, {'count':...     true   \n",
       "219234  [{'count': '702', 'name': 'to-read'}, {'count'...    false   \n",
       "\n",
       "        average_rating                                      similar_books  \\\n",
       "0                 3.93  [439108, 522621, 116770, 1275927, 6202655, 840...   \n",
       "3                 3.30                                                 []   \n",
       "5                 3.96                     [93575, 280849, 243401, 77617]   \n",
       "7                 3.61                                                 []   \n",
       "8                 4.14                                                 []   \n",
       "...                ...                                                ...   \n",
       "219228            4.04                                                 []   \n",
       "219231            3.81  [23012660, 13763625, 18079894, 21432940, 17343...   \n",
       "219232            4.11  [24808217, 17620517, 13496536, 21947925, 18079...   \n",
       "219233            4.00                                                 []   \n",
       "219234            3.50  [12064253, 25017213, 571796, 27306126, 2146669...   \n",
       "\n",
       "           format                                            authors  \\\n",
       "0       hardcover               [{'author_id': '37778', 'role': ''}]   \n",
       "3       hardcover              [{'author_id': '190988', 'role': ''}]   \n",
       "5           audio  [{'author_id': '123715', 'role': ''}, {'author...   \n",
       "7       softcover             [{'author_id': '1533165', 'role': ''}]   \n",
       "8       softcover             [{'author_id': '4577517', 'role': ''}]   \n",
       "...           ...                                                ...   \n",
       "219228     kindle             [{'author_id': '6877250', 'role': ''}]   \n",
       "219231  softcover            [{'author_id': '16176417', 'role': ''}]   \n",
       "219232  softcover             [{'author_id': '5401342', 'role': ''}]   \n",
       "219233      ebook             [{'author_id': '4590885', 'role': ''}]   \n",
       "219234  softcover  [{'author_id': '2448', 'role': ''}, {'author_i...   \n",
       "\n",
       "                  publisher num_pages publication_month edition_information  \\\n",
       "0       Simon & Schuster UK       400                 4                 NaN   \n",
       "3               Ulverscroft       NaN                12         Large Print   \n",
       "5               HarperAudio       NaN                 3                 NaN   \n",
       "7                     Orion       320                 8                 NaN   \n",
       "8                 280 Steps       228                11                 NaN   \n",
       "...                     ...       ...               ...                 ...   \n",
       "219228                  NaN       233                10                 NaN   \n",
       "219231        MX Publishing       208                10                 NaN   \n",
       "219232        MX Publishing       288                 7                 NaN   \n",
       "219233                  NaN       NaN                 9                 NaN   \n",
       "219234        MX Publishing       148                 8         2nd Edition   \n",
       "\n",
       "       publication_year   book_id  ratings_count   work_id  \\\n",
       "0                  2009   6066814            186   6243149   \n",
       "3                  1975   1902202             52   1903897   \n",
       "5                  2013  16158998              5   2288775   \n",
       "7                  2001   2805495             58   2831381   \n",
       "8                  2014  22722787             18  42251489   \n",
       "...                 ...       ...            ...       ...   \n",
       "219228             2014  23124272             75  42672906   \n",
       "219231             2015  26591045             16  46613239   \n",
       "219232             2015  25727303              6  45563843   \n",
       "219233             2014  23252156             16  42794368   \n",
       "219234             2015  26168430              6  46130263   \n",
       "\n",
       "                                                    title  \\\n",
       "0               Crowner Royal (Crowner John Mystery, #13)   \n",
       "3                 Dead in the Morning (Patrick Grant, #1)   \n",
       "5                                   A Murder is Announced   \n",
       "7                         Wycliffe and the Cycle of Death   \n",
       "8                              The Cost of Doing Business   \n",
       "...                                                   ...   \n",
       "219228        Stacked to Death (Jamie Brodie Mystery, #7)   \n",
       "219231  The Sensible Necktie and Other Stories of Sher...   \n",
       "219232                            Mrs. Hudson in New York   \n",
       "219233                                  Wicked Reflection   \n",
       "219234                Sherlock Holmes and the July Crisis   \n",
       "\n",
       "                                     title_without_series  \n",
       "0               Crowner Royal (Crowner John Mystery, #13)  \n",
       "3                 Dead in the Morning (Patrick Grant, #1)  \n",
       "5                                   A Murder is Announced  \n",
       "7                         Wycliffe and the Cycle of Death  \n",
       "8                              The Cost of Doing Business  \n",
       "...                                                   ...  \n",
       "219228        Stacked to Death (Jamie Brodie Mystery, #7)  \n",
       "219231  The Sensible Necktie and Other Stories of Sher...  \n",
       "219232                            Mrs. Hudson in New York  \n",
       "219233                                  Wicked Reflection  \n",
       "219234                Sherlock Holmes and the July Crisis  \n",
       "\n",
       "[129750 rows x 20 columns]"
      ]
     },
     "execution_count": 806,
     "metadata": {},
     "output_type": "execute_result"
    }
   ],
   "source": [
    "#Dropping cassette and other outdated technology\n",
    "df[df.format.isin(main_formats)]"
   ]
  },
  {
   "cell_type": "code",
   "execution_count": 807,
   "metadata": {},
   "outputs": [],
   "source": [
    "df.format = df.format.fillna('unknown_other')"
   ]
  },
  {
   "cell_type": "code",
   "execution_count": 808,
   "metadata": {},
   "outputs": [
    {
     "data": {
      "text/plain": [
       "softcover                     63475\n",
       "unknown_other                 53496\n",
       "hardcover                     23852\n",
       "ebook                         15048\n",
       "kindle                        12825\n",
       "audio                         11783\n",
       "audible                        2029\n",
       "cassette                        241\n",
       "multiple                         49\n",
       "large_print                      28\n",
       "podiobook                        12\n",
       "capa mole                         9\n",
       "unbound                           8\n",
       "cloth                             4\n",
       "board book                        4\n",
       "playaway                          3\n",
       "inbunden                          3\n",
       "broche                            3\n",
       "box set                           3\n",
       "graphic novel                     2\n",
       "poche                             2\n",
       "kobo                              1\n",
       "vook                              1\n",
       "tankobon                          1\n",
       "livro de bolso                    1\n",
       "capa dura                         1\n",
       "mystery                           1\n",
       "radio drama                       1\n",
       "periodical                        1\n",
       "mira                              1\n",
       "capa mole (livro de bolso)        1\n",
       "print                             1\n",
       "mobi                              1\n",
       "s                                 1\n",
       "arc                               1\n",
       "novelty book                      1\n",
       "uncorrected proof                 1\n",
       "sony reader                       1\n",
       "library edition                   1\n",
       "book                              1\n",
       "comic book                        1\n",
       "fictional novel                   1\n",
       "comic                             1\n",
       "advance reader's copy             1\n",
       "advance review copy               1\n",
       "part-in-omnibus                   1\n",
       "seeds of civilization             1\n",
       "proof                             1\n",
       "epub                              1\n",
       "Name: format, dtype: int64"
      ]
     },
     "execution_count": 808,
     "metadata": {},
     "output_type": "execute_result"
    }
   ],
   "source": [
    "df.format.value_counts()"
   ]
  },
  {
   "cell_type": "code",
   "execution_count": 809,
   "metadata": {},
   "outputs": [
    {
     "data": {
      "text/plain": [
       "softcover        63475\n",
       "unknown_other    53496\n",
       "hardcover        23852\n",
       "ebook            15048\n",
       "kindle           12825\n",
       "audio            11783\n",
       "audible           2029\n",
       "multiple            49\n",
       "large_print         28\n",
       "podiobook           12\n",
       "Name: format, dtype: int64"
      ]
     },
     "execution_count": 809,
     "metadata": {},
     "output_type": "execute_result"
    }
   ],
   "source": [
    "df.format[df.format.isin(main_formats)].value_counts()"
   ]
  },
  {
   "cell_type": "code",
   "execution_count": 810,
   "metadata": {},
   "outputs": [],
   "source": [
    "df.format = df.format[df.format.isin(main_formats)]"
   ]
  },
  {
   "cell_type": "code",
   "execution_count": 811,
   "metadata": {},
   "outputs": [
    {
     "data": {
      "text/plain": [
       "softcover        63475\n",
       "unknown_other    53496\n",
       "hardcover        23852\n",
       "ebook            15048\n",
       "kindle           12825\n",
       "audio            11783\n",
       "audible           2029\n",
       "multiple            49\n",
       "large_print         28\n",
       "podiobook           12\n",
       "Name: format, dtype: int64"
      ]
     },
     "execution_count": 811,
     "metadata": {},
     "output_type": "execute_result"
    }
   ],
   "source": [
    "df.format.value_counts()"
   ]
  },
  {
   "cell_type": "code",
   "execution_count": 812,
   "metadata": {},
   "outputs": [
    {
     "name": "stdout",
     "output_type": "stream",
     "text": [
      "<class 'pandas.core.frame.DataFrame'>\n",
      "Int64Index: 182907 entries, 0 to 219234\n",
      "Data columns (total 20 columns):\n",
      " #   Column                Non-Null Count   Dtype  \n",
      "---  ------                --------------   -----  \n",
      " 0   text_reviews_count    182907 non-null  int64  \n",
      " 1   series                182907 non-null  object \n",
      " 2   country_code          182907 non-null  object \n",
      " 3   language_code         100456 non-null  object \n",
      " 4   popular_shelves       182907 non-null  object \n",
      " 5   is_ebook              182907 non-null  object \n",
      " 6   average_rating        182907 non-null  float64\n",
      " 7   similar_books         182907 non-null  object \n",
      " 8   format                182597 non-null  object \n",
      " 9   authors               182907 non-null  object \n",
      " 10  publisher             128492 non-null  object \n",
      " 11  num_pages             117646 non-null  object \n",
      " 12  publication_month     121286 non-null  object \n",
      " 13  edition_information   15389 non-null   object \n",
      " 14  publication_year      132323 non-null  object \n",
      " 15  book_id               182907 non-null  int64  \n",
      " 16  ratings_count         182907 non-null  int64  \n",
      " 17  work_id               182907 non-null  int64  \n",
      " 18  title                 182907 non-null  object \n",
      " 19  title_without_series  182907 non-null  object \n",
      "dtypes: float64(1), int64(4), object(15)\n",
      "memory usage: 29.3+ MB\n"
     ]
    }
   ],
   "source": [
    "df.info()"
   ]
  },
  {
   "cell_type": "code",
   "execution_count": 813,
   "metadata": {},
   "outputs": [
    {
     "data": {
      "text/html": [
       "<div>\n",
       "<style scoped>\n",
       "    .dataframe tbody tr th:only-of-type {\n",
       "        vertical-align: middle;\n",
       "    }\n",
       "\n",
       "    .dataframe tbody tr th {\n",
       "        vertical-align: top;\n",
       "    }\n",
       "\n",
       "    .dataframe thead th {\n",
       "        text-align: right;\n",
       "    }\n",
       "</style>\n",
       "<table border=\"1\" class=\"dataframe\">\n",
       "  <thead>\n",
       "    <tr style=\"text-align: right;\">\n",
       "      <th></th>\n",
       "      <th>text_reviews_count</th>\n",
       "      <th>series</th>\n",
       "      <th>country_code</th>\n",
       "      <th>language_code</th>\n",
       "      <th>popular_shelves</th>\n",
       "      <th>is_ebook</th>\n",
       "      <th>average_rating</th>\n",
       "      <th>similar_books</th>\n",
       "      <th>format</th>\n",
       "      <th>authors</th>\n",
       "      <th>publisher</th>\n",
       "      <th>num_pages</th>\n",
       "      <th>publication_month</th>\n",
       "      <th>edition_information</th>\n",
       "      <th>publication_year</th>\n",
       "      <th>book_id</th>\n",
       "      <th>ratings_count</th>\n",
       "      <th>work_id</th>\n",
       "      <th>title</th>\n",
       "      <th>title_without_series</th>\n",
       "    </tr>\n",
       "  </thead>\n",
       "  <tbody>\n",
       "    <tr>\n",
       "      <th>0</th>\n",
       "      <td>15</td>\n",
       "      <td>[169353]</td>\n",
       "      <td>US</td>\n",
       "      <td>NaN</td>\n",
       "      <td>[{'count': '159', 'name': 'to-read'}, {'count'...</td>\n",
       "      <td>false</td>\n",
       "      <td>3.93</td>\n",
       "      <td>[439108, 522621, 116770, 1275927, 6202655, 840...</td>\n",
       "      <td>hardcover</td>\n",
       "      <td>[{'author_id': '37778', 'role': ''}]</td>\n",
       "      <td>Simon &amp; Schuster UK</td>\n",
       "      <td>400</td>\n",
       "      <td>4</td>\n",
       "      <td>NaN</td>\n",
       "      <td>2009</td>\n",
       "      <td>6066814</td>\n",
       "      <td>186</td>\n",
       "      <td>6243149</td>\n",
       "      <td>Crowner Royal (Crowner John Mystery, #13)</td>\n",
       "      <td>Crowner Royal (Crowner John Mystery, #13)</td>\n",
       "    </tr>\n",
       "    <tr>\n",
       "      <th>1</th>\n",
       "      <td>60</td>\n",
       "      <td>[1052227]</td>\n",
       "      <td>US</td>\n",
       "      <td>eng</td>\n",
       "      <td>[{'count': '54', 'name': 'currently-reading'},...</td>\n",
       "      <td>true</td>\n",
       "      <td>4.33</td>\n",
       "      <td>[]</td>\n",
       "      <td>unknown_other</td>\n",
       "      <td>[{'author_id': '242185', 'role': ''}]</td>\n",
       "      <td>NaN</td>\n",
       "      <td>318</td>\n",
       "      <td>NaN</td>\n",
       "      <td>NaN</td>\n",
       "      <td>NaN</td>\n",
       "      <td>33394837</td>\n",
       "      <td>269</td>\n",
       "      <td>54143148</td>\n",
       "      <td>The House of Memory (Pluto's Snitch #2)</td>\n",
       "      <td>The House of Memory (Pluto's Snitch #2)</td>\n",
       "    </tr>\n",
       "    <tr>\n",
       "      <th>2</th>\n",
       "      <td>23</td>\n",
       "      <td>[953679]</td>\n",
       "      <td>US</td>\n",
       "      <td>eng</td>\n",
       "      <td>[{'count': '90', 'name': 'to-read'}, {'count':...</td>\n",
       "      <td>true</td>\n",
       "      <td>3.49</td>\n",
       "      <td>[]</td>\n",
       "      <td>unknown_other</td>\n",
       "      <td>[{'author_id': '15104629', 'role': ''}, {'auth...</td>\n",
       "      <td>Amazon Digital Services</td>\n",
       "      <td>NaN</td>\n",
       "      <td>NaN</td>\n",
       "      <td>NaN</td>\n",
       "      <td>NaN</td>\n",
       "      <td>29074697</td>\n",
       "      <td>192</td>\n",
       "      <td>49305010</td>\n",
       "      <td>The Slaughtered Virgin of Zenopolis (Inspector...</td>\n",
       "      <td>The Slaughtered Virgin of Zenopolis (Inspector...</td>\n",
       "    </tr>\n",
       "    <tr>\n",
       "      <th>3</th>\n",
       "      <td>8</td>\n",
       "      <td>[408775]</td>\n",
       "      <td>US</td>\n",
       "      <td>NaN</td>\n",
       "      <td>[{'count': '51', 'name': 'to-read'}, {'count':...</td>\n",
       "      <td>false</td>\n",
       "      <td>3.30</td>\n",
       "      <td>[]</td>\n",
       "      <td>hardcover</td>\n",
       "      <td>[{'author_id': '190988', 'role': ''}]</td>\n",
       "      <td>Ulverscroft</td>\n",
       "      <td>NaN</td>\n",
       "      <td>12</td>\n",
       "      <td>Large Print</td>\n",
       "      <td>1975</td>\n",
       "      <td>1902202</td>\n",
       "      <td>52</td>\n",
       "      <td>1903897</td>\n",
       "      <td>Dead in the Morning (Patrick Grant, #1)</td>\n",
       "      <td>Dead in the Morning (Patrick Grant, #1)</td>\n",
       "    </tr>\n",
       "    <tr>\n",
       "      <th>5</th>\n",
       "      <td>3</td>\n",
       "      <td>[199039]</td>\n",
       "      <td>US</td>\n",
       "      <td>eng</td>\n",
       "      <td>[{'count': '1694', 'name': 'mystery'}, {'count...</td>\n",
       "      <td>false</td>\n",
       "      <td>3.96</td>\n",
       "      <td>[93575, 280849, 243401, 77617]</td>\n",
       "      <td>audio</td>\n",
       "      <td>[{'author_id': '123715', 'role': ''}, {'author...</td>\n",
       "      <td>HarperAudio</td>\n",
       "      <td>NaN</td>\n",
       "      <td>3</td>\n",
       "      <td>NaN</td>\n",
       "      <td>2013</td>\n",
       "      <td>16158998</td>\n",
       "      <td>5</td>\n",
       "      <td>2288775</td>\n",
       "      <td>A Murder is Announced</td>\n",
       "      <td>A Murder is Announced</td>\n",
       "    </tr>\n",
       "  </tbody>\n",
       "</table>\n",
       "</div>"
      ],
      "text/plain": [
       "   text_reviews_count     series country_code language_code  \\\n",
       "0                  15   [169353]           US           NaN   \n",
       "1                  60  [1052227]           US           eng   \n",
       "2                  23   [953679]           US           eng   \n",
       "3                   8   [408775]           US           NaN   \n",
       "5                   3   [199039]           US           eng   \n",
       "\n",
       "                                     popular_shelves is_ebook  average_rating  \\\n",
       "0  [{'count': '159', 'name': 'to-read'}, {'count'...    false            3.93   \n",
       "1  [{'count': '54', 'name': 'currently-reading'},...     true            4.33   \n",
       "2  [{'count': '90', 'name': 'to-read'}, {'count':...     true            3.49   \n",
       "3  [{'count': '51', 'name': 'to-read'}, {'count':...    false            3.30   \n",
       "5  [{'count': '1694', 'name': 'mystery'}, {'count...    false            3.96   \n",
       "\n",
       "                                       similar_books         format  \\\n",
       "0  [439108, 522621, 116770, 1275927, 6202655, 840...      hardcover   \n",
       "1                                                 []  unknown_other   \n",
       "2                                                 []  unknown_other   \n",
       "3                                                 []      hardcover   \n",
       "5                     [93575, 280849, 243401, 77617]          audio   \n",
       "\n",
       "                                             authors                publisher  \\\n",
       "0               [{'author_id': '37778', 'role': ''}]      Simon & Schuster UK   \n",
       "1              [{'author_id': '242185', 'role': ''}]                      NaN   \n",
       "2  [{'author_id': '15104629', 'role': ''}, {'auth...  Amazon Digital Services   \n",
       "3              [{'author_id': '190988', 'role': ''}]              Ulverscroft   \n",
       "5  [{'author_id': '123715', 'role': ''}, {'author...              HarperAudio   \n",
       "\n",
       "  num_pages publication_month edition_information publication_year   book_id  \\\n",
       "0       400                 4                 NaN             2009   6066814   \n",
       "1       318               NaN                 NaN              NaN  33394837   \n",
       "2       NaN               NaN                 NaN              NaN  29074697   \n",
       "3       NaN                12         Large Print             1975   1902202   \n",
       "5       NaN                 3                 NaN             2013  16158998   \n",
       "\n",
       "   ratings_count   work_id                                              title  \\\n",
       "0            186   6243149          Crowner Royal (Crowner John Mystery, #13)   \n",
       "1            269  54143148            The House of Memory (Pluto's Snitch #2)   \n",
       "2            192  49305010  The Slaughtered Virgin of Zenopolis (Inspector...   \n",
       "3             52   1903897            Dead in the Morning (Patrick Grant, #1)   \n",
       "5              5   2288775                              A Murder is Announced   \n",
       "\n",
       "                                title_without_series  \n",
       "0          Crowner Royal (Crowner John Mystery, #13)  \n",
       "1            The House of Memory (Pluto's Snitch #2)  \n",
       "2  The Slaughtered Virgin of Zenopolis (Inspector...  \n",
       "3            Dead in the Morning (Patrick Grant, #1)  \n",
       "5                              A Murder is Announced  "
      ]
     },
     "execution_count": 813,
     "metadata": {},
     "output_type": "execute_result"
    }
   ],
   "source": [
    "df.head()"
   ]
  },
  {
   "cell_type": "code",
   "execution_count": 814,
   "metadata": {},
   "outputs": [
    {
     "name": "stderr",
     "output_type": "stream",
     "text": [
      "<ipython-input-814-8ceff1ceeed7>:1: SettingWithCopyWarning: \n",
      "A value is trying to be set on a copy of a slice from a DataFrame\n",
      "\n",
      "See the caveats in the documentation: https://pandas.pydata.org/pandas-docs/stable/user_guide/indexing.html#returning-a-view-versus-a-copy\n",
      "  df.format[df['is_ebook'].str.contains('true') & df['format'].str.contains('unknown')] = 'ebook'\n"
     ]
    }
   ],
   "source": [
    "df.format[df['is_ebook'].str.contains('true') & df['format'].str.contains('unknown')] = 'ebook'"
   ]
  },
  {
   "cell_type": "code",
   "execution_count": 815,
   "metadata": {},
   "outputs": [
    {
     "data": {
      "text/html": [
       "<div>\n",
       "<style scoped>\n",
       "    .dataframe tbody tr th:only-of-type {\n",
       "        vertical-align: middle;\n",
       "    }\n",
       "\n",
       "    .dataframe tbody tr th {\n",
       "        vertical-align: top;\n",
       "    }\n",
       "\n",
       "    .dataframe thead th {\n",
       "        text-align: right;\n",
       "    }\n",
       "</style>\n",
       "<table border=\"1\" class=\"dataframe\">\n",
       "  <thead>\n",
       "    <tr style=\"text-align: right;\">\n",
       "      <th></th>\n",
       "      <th>text_reviews_count</th>\n",
       "      <th>series</th>\n",
       "      <th>country_code</th>\n",
       "      <th>language_code</th>\n",
       "      <th>popular_shelves</th>\n",
       "      <th>is_ebook</th>\n",
       "      <th>average_rating</th>\n",
       "      <th>similar_books</th>\n",
       "      <th>format</th>\n",
       "      <th>authors</th>\n",
       "      <th>publisher</th>\n",
       "      <th>num_pages</th>\n",
       "      <th>publication_month</th>\n",
       "      <th>edition_information</th>\n",
       "      <th>publication_year</th>\n",
       "      <th>book_id</th>\n",
       "      <th>ratings_count</th>\n",
       "      <th>work_id</th>\n",
       "      <th>title</th>\n",
       "      <th>title_without_series</th>\n",
       "    </tr>\n",
       "  </thead>\n",
       "  <tbody>\n",
       "    <tr>\n",
       "      <th>7658</th>\n",
       "      <td>6</td>\n",
       "      <td>[]</td>\n",
       "      <td>US</td>\n",
       "      <td>eng</td>\n",
       "      <td>[{'count': '13', 'name': 'to-read'}, {'count':...</td>\n",
       "      <td>false</td>\n",
       "      <td>4.56</td>\n",
       "      <td>[]</td>\n",
       "      <td>ebook</td>\n",
       "      <td>[{'author_id': '14552980', 'role': ''}, {'auth...</td>\n",
       "      <td>NaN</td>\n",
       "      <td>NaN</td>\n",
       "      <td>NaN</td>\n",
       "      <td>NaN</td>\n",
       "      <td>2015</td>\n",
       "      <td>33987008</td>\n",
       "      <td>38</td>\n",
       "      <td>47299893</td>\n",
       "      <td>Bastard</td>\n",
       "      <td>Bastard</td>\n",
       "    </tr>\n",
       "    <tr>\n",
       "      <th>27595</th>\n",
       "      <td>27</td>\n",
       "      <td>[1014467]</td>\n",
       "      <td>US</td>\n",
       "      <td>NaN</td>\n",
       "      <td>[{'count': '114', 'name': 'to-read'}, {'count'...</td>\n",
       "      <td>false</td>\n",
       "      <td>3.82</td>\n",
       "      <td>[]</td>\n",
       "      <td>ebook</td>\n",
       "      <td>[{'author_id': '8037520', 'role': ''}]</td>\n",
       "      <td>NaN</td>\n",
       "      <td>30</td>\n",
       "      <td>9</td>\n",
       "      <td>NaN</td>\n",
       "      <td>2016</td>\n",
       "      <td>34039846</td>\n",
       "      <td>158</td>\n",
       "      <td>55043726</td>\n",
       "      <td>Fatal Reaction (Curl Up and Dye Mysteries, #0.5)</td>\n",
       "      <td>Fatal Reaction (Curl Up and Dye Mysteries, #0.5)</td>\n",
       "    </tr>\n",
       "    <tr>\n",
       "      <th>71755</th>\n",
       "      <td>55</td>\n",
       "      <td>[]</td>\n",
       "      <td>US</td>\n",
       "      <td>eng</td>\n",
       "      <td>[{'count': '231', 'name': 'to-read'}, {'count'...</td>\n",
       "      <td>false</td>\n",
       "      <td>3.62</td>\n",
       "      <td>[18478997, 17340536, 28098281, 11437369, 17413...</td>\n",
       "      <td>ebook</td>\n",
       "      <td>[{'author_id': '6984726', 'role': ''}]</td>\n",
       "      <td>reddit</td>\n",
       "      <td>2</td>\n",
       "      <td>6</td>\n",
       "      <td>NaN</td>\n",
       "      <td>2011</td>\n",
       "      <td>28107695</td>\n",
       "      <td>186</td>\n",
       "      <td>48114686</td>\n",
       "      <td>Cologne</td>\n",
       "      <td>Cologne</td>\n",
       "    </tr>\n",
       "    <tr>\n",
       "      <th>77500</th>\n",
       "      <td>1</td>\n",
       "      <td>[]</td>\n",
       "      <td>US</td>\n",
       "      <td>eng</td>\n",
       "      <td>[{'count': '13', 'name': 'to-read'}, {'count':...</td>\n",
       "      <td>false</td>\n",
       "      <td>3.63</td>\n",
       "      <td>[]</td>\n",
       "      <td>ebook</td>\n",
       "      <td>[{'author_id': '5621935', 'role': ''}]</td>\n",
       "      <td>NaN</td>\n",
       "      <td>NaN</td>\n",
       "      <td>NaN</td>\n",
       "      <td>NaN</td>\n",
       "      <td>2014</td>\n",
       "      <td>24925157</td>\n",
       "      <td>1</td>\n",
       "      <td>25685308</td>\n",
       "      <td>Going Gray</td>\n",
       "      <td>Going Gray</td>\n",
       "    </tr>\n",
       "    <tr>\n",
       "      <th>105231</th>\n",
       "      <td>59</td>\n",
       "      <td>[]</td>\n",
       "      <td>US</td>\n",
       "      <td>eng</td>\n",
       "      <td>[{'count': '718', 'name': 'to-read'}, {'count'...</td>\n",
       "      <td>false</td>\n",
       "      <td>3.71</td>\n",
       "      <td>[6856865, 94984, 263464, 6867962, 11022544, 10...</td>\n",
       "      <td>ebook</td>\n",
       "      <td>[{'author_id': '24827', 'role': ''}]</td>\n",
       "      <td>NaN</td>\n",
       "      <td>239</td>\n",
       "      <td>NaN</td>\n",
       "      <td>NaN</td>\n",
       "      <td>2007</td>\n",
       "      <td>2590477</td>\n",
       "      <td>822</td>\n",
       "      <td>2610066</td>\n",
       "      <td>Plague Zone</td>\n",
       "      <td>Plague Zone</td>\n",
       "    </tr>\n",
       "    <tr>\n",
       "      <th>105317</th>\n",
       "      <td>88</td>\n",
       "      <td>[]</td>\n",
       "      <td>US</td>\n",
       "      <td>eng</td>\n",
       "      <td>[{'count': '1409', 'name': 'to-read'}, {'count...</td>\n",
       "      <td>false</td>\n",
       "      <td>4.08</td>\n",
       "      <td>[13484064, 22598022, 18109544, 25111205, 12388...</td>\n",
       "      <td>ebook</td>\n",
       "      <td>[{'author_id': '6455353', 'role': ''}]</td>\n",
       "      <td>adult-fanfiction.org</td>\n",
       "      <td>800</td>\n",
       "      <td>3</td>\n",
       "      <td>NaN</td>\n",
       "      <td>2014</td>\n",
       "      <td>15784986</td>\n",
       "      <td>524</td>\n",
       "      <td>21503114</td>\n",
       "      <td>Waiting in the Throes</td>\n",
       "      <td>Waiting in the Throes</td>\n",
       "    </tr>\n",
       "    <tr>\n",
       "      <th>124637</th>\n",
       "      <td>131</td>\n",
       "      <td>[]</td>\n",
       "      <td>US</td>\n",
       "      <td>eng</td>\n",
       "      <td>[{'count': '1704', 'name': 'to-read'}, {'count...</td>\n",
       "      <td>false</td>\n",
       "      <td>4.14</td>\n",
       "      <td>[18403506, 15834395, 7812058, 10506860, 120722...</td>\n",
       "      <td>ebook</td>\n",
       "      <td>[{'author_id': '5781497', 'role': ''}]</td>\n",
       "      <td>Fictionpress</td>\n",
       "      <td>502</td>\n",
       "      <td>7</td>\n",
       "      <td>Free</td>\n",
       "      <td>2014</td>\n",
       "      <td>18488996</td>\n",
       "      <td>755</td>\n",
       "      <td>26171416</td>\n",
       "      <td>Control</td>\n",
       "      <td>Control</td>\n",
       "    </tr>\n",
       "    <tr>\n",
       "      <th>128019</th>\n",
       "      <td>26</td>\n",
       "      <td>[]</td>\n",
       "      <td>US</td>\n",
       "      <td>eng</td>\n",
       "      <td>[{'count': '65', 'name': 'to-read'}, {'count':...</td>\n",
       "      <td>false</td>\n",
       "      <td>3.28</td>\n",
       "      <td>[]</td>\n",
       "      <td>ebook</td>\n",
       "      <td>[{'author_id': '6553431', 'role': ''}]</td>\n",
       "      <td>Author</td>\n",
       "      <td>42</td>\n",
       "      <td>NaN</td>\n",
       "      <td>NaN</td>\n",
       "      <td>NaN</td>\n",
       "      <td>18666338</td>\n",
       "      <td>43</td>\n",
       "      <td>26490450</td>\n",
       "      <td>Object D'Art</td>\n",
       "      <td>Object D'Art</td>\n",
       "    </tr>\n",
       "    <tr>\n",
       "      <th>131595</th>\n",
       "      <td>7</td>\n",
       "      <td>[347754]</td>\n",
       "      <td>US</td>\n",
       "      <td>eng</td>\n",
       "      <td>[{'count': '33', 'name': 'to-read'}, {'count':...</td>\n",
       "      <td>false</td>\n",
       "      <td>3.95</td>\n",
       "      <td>[]</td>\n",
       "      <td>ebook</td>\n",
       "      <td>[{'author_id': '332067', 'role': ''}, {'author...</td>\n",
       "      <td>FictionPress</td>\n",
       "      <td>26</td>\n",
       "      <td>8</td>\n",
       "      <td>NaN</td>\n",
       "      <td>2009</td>\n",
       "      <td>13497680</td>\n",
       "      <td>76</td>\n",
       "      <td>19042056</td>\n",
       "      <td>Just Drive The Car (Just Drive The Car, #1)</td>\n",
       "      <td>Just Drive The Car (Just Drive The Car, #1)</td>\n",
       "    </tr>\n",
       "    <tr>\n",
       "      <th>179735</th>\n",
       "      <td>7</td>\n",
       "      <td>[]</td>\n",
       "      <td>US</td>\n",
       "      <td>eng</td>\n",
       "      <td>[{'count': '68', 'name': 'to-read'}, {'count':...</td>\n",
       "      <td>false</td>\n",
       "      <td>3.80</td>\n",
       "      <td>[]</td>\n",
       "      <td>ebook</td>\n",
       "      <td>[{'author_id': '4817434', 'role': ''}]</td>\n",
       "      <td>FictionPress</td>\n",
       "      <td>263</td>\n",
       "      <td>6</td>\n",
       "      <td>NaN</td>\n",
       "      <td>2009</td>\n",
       "      <td>11225687</td>\n",
       "      <td>55</td>\n",
       "      <td>16151537</td>\n",
       "      <td>Fiend By the Bay</td>\n",
       "      <td>Fiend By the Bay</td>\n",
       "    </tr>\n",
       "    <tr>\n",
       "      <th>185808</th>\n",
       "      <td>10</td>\n",
       "      <td>[1001093]</td>\n",
       "      <td>US</td>\n",
       "      <td>eng</td>\n",
       "      <td>[{'count': '739', 'name': 'to-read'}, {'count'...</td>\n",
       "      <td>false</td>\n",
       "      <td>4.55</td>\n",
       "      <td>[]</td>\n",
       "      <td>ebook</td>\n",
       "      <td>[{'author_id': '15059754', 'role': ''}]</td>\n",
       "      <td>Wattpad</td>\n",
       "      <td>352</td>\n",
       "      <td>5</td>\n",
       "      <td>NaN</td>\n",
       "      <td>2015</td>\n",
       "      <td>29424404</td>\n",
       "      <td>30</td>\n",
       "      <td>50551546</td>\n",
       "      <td>Trapped (Hide &amp; Seek, #1)</td>\n",
       "      <td>Trapped (Hide &amp; Seek, #1)</td>\n",
       "    </tr>\n",
       "    <tr>\n",
       "      <th>203214</th>\n",
       "      <td>8</td>\n",
       "      <td>[]</td>\n",
       "      <td>US</td>\n",
       "      <td>eng</td>\n",
       "      <td>[{'count': '61', 'name': 'to-read'}, {'count':...</td>\n",
       "      <td>false</td>\n",
       "      <td>3.91</td>\n",
       "      <td>[]</td>\n",
       "      <td>ebook</td>\n",
       "      <td>[{'author_id': '5760609', 'role': ''}]</td>\n",
       "      <td>FictionPress</td>\n",
       "      <td>185</td>\n",
       "      <td>8</td>\n",
       "      <td>NaN</td>\n",
       "      <td>2011</td>\n",
       "      <td>13501798</td>\n",
       "      <td>57</td>\n",
       "      <td>19049395</td>\n",
       "      <td>Put Out the Light</td>\n",
       "      <td>Put Out the Light</td>\n",
       "    </tr>\n",
       "    <tr>\n",
       "      <th>204945</th>\n",
       "      <td>31</td>\n",
       "      <td>[192774]</td>\n",
       "      <td>US</td>\n",
       "      <td>eng</td>\n",
       "      <td>[{'count': '5987', 'name': 'to-read'}, {'count...</td>\n",
       "      <td>false</td>\n",
       "      <td>3.97</td>\n",
       "      <td>[8164593, 7909618, 17258881, 5958281, 7811993,...</td>\n",
       "      <td>ebook</td>\n",
       "      <td>[{'author_id': '962319', 'role': ''}]</td>\n",
       "      <td>Manna Francis</td>\n",
       "      <td>264</td>\n",
       "      <td>NaN</td>\n",
       "      <td>NaN</td>\n",
       "      <td>NaN</td>\n",
       "      <td>11512404</td>\n",
       "      <td>69</td>\n",
       "      <td>2118233</td>\n",
       "      <td>Mind Fuck (The Administration, #1)</td>\n",
       "      <td>Mind Fuck (The Administration, #1)</td>\n",
       "    </tr>\n",
       "  </tbody>\n",
       "</table>\n",
       "</div>"
      ],
      "text/plain": [
       "        text_reviews_count     series country_code language_code  \\\n",
       "7658                     6         []           US           eng   \n",
       "27595                   27  [1014467]           US           NaN   \n",
       "71755                   55         []           US           eng   \n",
       "77500                    1         []           US           eng   \n",
       "105231                  59         []           US           eng   \n",
       "105317                  88         []           US           eng   \n",
       "124637                 131         []           US           eng   \n",
       "128019                  26         []           US           eng   \n",
       "131595                   7   [347754]           US           eng   \n",
       "179735                   7         []           US           eng   \n",
       "185808                  10  [1001093]           US           eng   \n",
       "203214                   8         []           US           eng   \n",
       "204945                  31   [192774]           US           eng   \n",
       "\n",
       "                                          popular_shelves is_ebook  \\\n",
       "7658    [{'count': '13', 'name': 'to-read'}, {'count':...    false   \n",
       "27595   [{'count': '114', 'name': 'to-read'}, {'count'...    false   \n",
       "71755   [{'count': '231', 'name': 'to-read'}, {'count'...    false   \n",
       "77500   [{'count': '13', 'name': 'to-read'}, {'count':...    false   \n",
       "105231  [{'count': '718', 'name': 'to-read'}, {'count'...    false   \n",
       "105317  [{'count': '1409', 'name': 'to-read'}, {'count...    false   \n",
       "124637  [{'count': '1704', 'name': 'to-read'}, {'count...    false   \n",
       "128019  [{'count': '65', 'name': 'to-read'}, {'count':...    false   \n",
       "131595  [{'count': '33', 'name': 'to-read'}, {'count':...    false   \n",
       "179735  [{'count': '68', 'name': 'to-read'}, {'count':...    false   \n",
       "185808  [{'count': '739', 'name': 'to-read'}, {'count'...    false   \n",
       "203214  [{'count': '61', 'name': 'to-read'}, {'count':...    false   \n",
       "204945  [{'count': '5987', 'name': 'to-read'}, {'count...    false   \n",
       "\n",
       "        average_rating                                      similar_books  \\\n",
       "7658              4.56                                                 []   \n",
       "27595             3.82                                                 []   \n",
       "71755             3.62  [18478997, 17340536, 28098281, 11437369, 17413...   \n",
       "77500             3.63                                                 []   \n",
       "105231            3.71  [6856865, 94984, 263464, 6867962, 11022544, 10...   \n",
       "105317            4.08  [13484064, 22598022, 18109544, 25111205, 12388...   \n",
       "124637            4.14  [18403506, 15834395, 7812058, 10506860, 120722...   \n",
       "128019            3.28                                                 []   \n",
       "131595            3.95                                                 []   \n",
       "179735            3.80                                                 []   \n",
       "185808            4.55                                                 []   \n",
       "203214            3.91                                                 []   \n",
       "204945            3.97  [8164593, 7909618, 17258881, 5958281, 7811993,...   \n",
       "\n",
       "       format                                            authors  \\\n",
       "7658    ebook  [{'author_id': '14552980', 'role': ''}, {'auth...   \n",
       "27595   ebook             [{'author_id': '8037520', 'role': ''}]   \n",
       "71755   ebook             [{'author_id': '6984726', 'role': ''}]   \n",
       "77500   ebook             [{'author_id': '5621935', 'role': ''}]   \n",
       "105231  ebook               [{'author_id': '24827', 'role': ''}]   \n",
       "105317  ebook             [{'author_id': '6455353', 'role': ''}]   \n",
       "124637  ebook             [{'author_id': '5781497', 'role': ''}]   \n",
       "128019  ebook             [{'author_id': '6553431', 'role': ''}]   \n",
       "131595  ebook  [{'author_id': '332067', 'role': ''}, {'author...   \n",
       "179735  ebook             [{'author_id': '4817434', 'role': ''}]   \n",
       "185808  ebook            [{'author_id': '15059754', 'role': ''}]   \n",
       "203214  ebook             [{'author_id': '5760609', 'role': ''}]   \n",
       "204945  ebook              [{'author_id': '962319', 'role': ''}]   \n",
       "\n",
       "                   publisher num_pages publication_month edition_information  \\\n",
       "7658                     NaN       NaN               NaN                 NaN   \n",
       "27595                    NaN        30                 9                 NaN   \n",
       "71755                 reddit         2                 6                 NaN   \n",
       "77500                    NaN       NaN               NaN                 NaN   \n",
       "105231                   NaN       239               NaN                 NaN   \n",
       "105317  adult-fanfiction.org       800                 3                 NaN   \n",
       "124637          Fictionpress       502                 7                Free   \n",
       "128019                Author        42               NaN                 NaN   \n",
       "131595          FictionPress        26                 8                 NaN   \n",
       "179735          FictionPress       263                 6                 NaN   \n",
       "185808               Wattpad       352                 5                 NaN   \n",
       "203214          FictionPress       185                 8                 NaN   \n",
       "204945         Manna Francis       264               NaN                 NaN   \n",
       "\n",
       "       publication_year   book_id  ratings_count   work_id  \\\n",
       "7658               2015  33987008             38  47299893   \n",
       "27595              2016  34039846            158  55043726   \n",
       "71755              2011  28107695            186  48114686   \n",
       "77500              2014  24925157              1  25685308   \n",
       "105231             2007   2590477            822   2610066   \n",
       "105317             2014  15784986            524  21503114   \n",
       "124637             2014  18488996            755  26171416   \n",
       "128019              NaN  18666338             43  26490450   \n",
       "131595             2009  13497680             76  19042056   \n",
       "179735             2009  11225687             55  16151537   \n",
       "185808             2015  29424404             30  50551546   \n",
       "203214             2011  13501798             57  19049395   \n",
       "204945              NaN  11512404             69   2118233   \n",
       "\n",
       "                                                   title  \\\n",
       "7658                                             Bastard   \n",
       "27595   Fatal Reaction (Curl Up and Dye Mysteries, #0.5)   \n",
       "71755                                            Cologne   \n",
       "77500                                         Going Gray   \n",
       "105231                                       Plague Zone   \n",
       "105317                             Waiting in the Throes   \n",
       "124637                                           Control   \n",
       "128019                                      Object D'Art   \n",
       "131595       Just Drive The Car (Just Drive The Car, #1)   \n",
       "179735                                  Fiend By the Bay   \n",
       "185808                         Trapped (Hide & Seek, #1)   \n",
       "203214                                 Put Out the Light   \n",
       "204945                Mind Fuck (The Administration, #1)   \n",
       "\n",
       "                                    title_without_series  \n",
       "7658                                             Bastard  \n",
       "27595   Fatal Reaction (Curl Up and Dye Mysteries, #0.5)  \n",
       "71755                                            Cologne  \n",
       "77500                                         Going Gray  \n",
       "105231                                       Plague Zone  \n",
       "105317                             Waiting in the Throes  \n",
       "124637                                           Control  \n",
       "128019                                      Object D'Art  \n",
       "131595       Just Drive The Car (Just Drive The Car, #1)  \n",
       "179735                                  Fiend By the Bay  \n",
       "185808                         Trapped (Hide & Seek, #1)  \n",
       "203214                                 Put Out the Light  \n",
       "204945                Mind Fuck (The Administration, #1)  "
      ]
     },
     "execution_count": 815,
     "metadata": {},
     "output_type": "execute_result"
    }
   ],
   "source": [
    "df[df['is_ebook'].str.contains('false')& df['format'].str.contains('ebook')]"
   ]
  },
  {
   "cell_type": "code",
   "execution_count": 816,
   "metadata": {},
   "outputs": [
    {
     "data": {
      "text/plain": [
       "text_reviews_count      13\n",
       "series                  13\n",
       "country_code            13\n",
       "language_code           12\n",
       "popular_shelves         13\n",
       "is_ebook                13\n",
       "average_rating          13\n",
       "similar_books           13\n",
       "format                  13\n",
       "authors                 13\n",
       "publisher                9\n",
       "num_pages               11\n",
       "publication_month        8\n",
       "edition_information      1\n",
       "publication_year        11\n",
       "book_id                 13\n",
       "ratings_count           13\n",
       "work_id                 13\n",
       "title                   13\n",
       "title_without_series    13\n",
       "dtype: int64"
      ]
     },
     "execution_count": 816,
     "metadata": {},
     "output_type": "execute_result"
    }
   ],
   "source": [
    "df[df['is_ebook'].str.contains('false')& df['format'].str.contains('ebook')].count()"
   ]
  },
  {
   "cell_type": "code",
   "execution_count": 817,
   "metadata": {},
   "outputs": [],
   "source": [
    "index_names = df[df['is_ebook'].str.contains('false')& df['format'].str.contains('ebook')].index"
   ]
  },
  {
   "cell_type": "code",
   "execution_count": 818,
   "metadata": {},
   "outputs": [],
   "source": [
    "#df.drop(index_names, inplace = True)"
   ]
  },
  {
   "cell_type": "code",
   "execution_count": 819,
   "metadata": {},
   "outputs": [],
   "source": [
    "#df.info()"
   ]
  },
  {
   "cell_type": "markdown",
   "metadata": {},
   "source": [
    "Filled those unknowns with ebook = \"true\" as ebook, leaving contradictory for now as my ebook defnition includes online books. "
   ]
  },
  {
   "cell_type": "markdown",
   "metadata": {},
   "source": [
    "## Now we start addressing missing values"
   ]
  },
  {
   "cell_type": "code",
   "execution_count": 820,
   "metadata": {},
   "outputs": [
    {
     "data": {
      "text/plain": [
       "text_reviews_count           0\n",
       "series                       0\n",
       "country_code                 0\n",
       "language_code            82451\n",
       "popular_shelves              0\n",
       "is_ebook                     0\n",
       "average_rating               0\n",
       "similar_books                0\n",
       "format                     310\n",
       "authors                      0\n",
       "publisher                54415\n",
       "num_pages                65261\n",
       "publication_month        61621\n",
       "edition_information     167518\n",
       "publication_year         50584\n",
       "book_id                      0\n",
       "ratings_count                0\n",
       "work_id                      0\n",
       "title                        0\n",
       "title_without_series         0\n",
       "dtype: int64"
      ]
     },
     "execution_count": 820,
     "metadata": {},
     "output_type": "execute_result"
    }
   ],
   "source": [
    "df.isnull().sum()"
   ]
  },
  {
   "cell_type": "code",
   "execution_count": 821,
   "metadata": {},
   "outputs": [
    {
     "name": "stderr",
     "output_type": "stream",
     "text": [
      "<ipython-input-821-e2ad67585472>:1: SettingWithCopyWarning: \n",
      "A value is trying to be set on a copy of a slice from a DataFrame\n",
      "\n",
      "See the caveats in the documentation: https://pandas.pydata.org/pandas-docs/stable/user_guide/indexing.html#returning-a-view-versus-a-copy\n",
      "  df.format[df.format.isnull()] = 'unknown_other'\n"
     ]
    }
   ],
   "source": [
    "df.format[df.format.isnull()] = 'unknown_other'"
   ]
  },
  {
   "cell_type": "code",
   "execution_count": 822,
   "metadata": {},
   "outputs": [
    {
     "data": {
      "text/plain": [
       "0"
      ]
     },
     "execution_count": 822,
     "metadata": {},
     "output_type": "execute_result"
    }
   ],
   "source": [
    "df.format.isnull().sum()"
   ]
  },
  {
   "cell_type": "code",
   "execution_count": 823,
   "metadata": {},
   "outputs": [
    {
     "data": {
      "text/plain": [
       "text_reviews_count           0\n",
       "series                       0\n",
       "country_code                 0\n",
       "language_code            82451\n",
       "popular_shelves              0\n",
       "is_ebook                     0\n",
       "average_rating               0\n",
       "similar_books                0\n",
       "format                       0\n",
       "authors                      0\n",
       "publisher                54415\n",
       "num_pages                65261\n",
       "publication_month        61621\n",
       "edition_information     167518\n",
       "publication_year         50584\n",
       "book_id                      0\n",
       "ratings_count                0\n",
       "work_id                      0\n",
       "title                        0\n",
       "title_without_series         0\n",
       "dtype: int64"
      ]
     },
     "execution_count": 823,
     "metadata": {},
     "output_type": "execute_result"
    }
   ],
   "source": [
    "df.isnull().sum()"
   ]
  },
  {
   "cell_type": "code",
   "execution_count": 824,
   "metadata": {},
   "outputs": [
    {
     "data": {
      "text/plain": [
       "1"
      ]
     },
     "execution_count": 824,
     "metadata": {},
     "output_type": "execute_result"
    }
   ],
   "source": [
    "#language code next\n",
    "df.country_code.nunique()"
   ]
  },
  {
   "cell_type": "code",
   "execution_count": 825,
   "metadata": {},
   "outputs": [
    {
     "data": {
      "text/plain": [
       "array(['US'], dtype=object)"
      ]
     },
     "execution_count": 825,
     "metadata": {},
     "output_type": "execute_result"
    }
   ],
   "source": [
    "df.country_code.unique()"
   ]
  },
  {
   "cell_type": "code",
   "execution_count": 826,
   "metadata": {},
   "outputs": [
    {
     "name": "stderr",
     "output_type": "stream",
     "text": [
      "<ipython-input-826-cc7cc1126f65>:2: SettingWithCopyWarning: \n",
      "A value is trying to be set on a copy of a slice from a DataFrame\n",
      "\n",
      "See the caveats in the documentation: https://pandas.pydata.org/pandas-docs/stable/user_guide/indexing.html#returning-a-view-versus-a-copy\n",
      "  df.language_code[df.language_code.isnull()] = 'eng'\n"
     ]
    }
   ],
   "source": [
    "#Changing all null language to eng as all country codes left are US\n",
    "df.language_code[df.language_code.isnull()] = 'eng'"
   ]
  },
  {
   "cell_type": "code",
   "execution_count": 827,
   "metadata": {},
   "outputs": [
    {
     "data": {
      "text/plain": [
       "array(['eng', 'en-GB', 'en-CA', 'en-US', 'en', '--'], dtype=object)"
      ]
     },
     "execution_count": 827,
     "metadata": {},
     "output_type": "execute_result"
    }
   ],
   "source": [
    "df.language_code.unique()"
   ]
  },
  {
   "cell_type": "code",
   "execution_count": 828,
   "metadata": {},
   "outputs": [
    {
     "data": {
      "text/html": [
       "<div>\n",
       "<style scoped>\n",
       "    .dataframe tbody tr th:only-of-type {\n",
       "        vertical-align: middle;\n",
       "    }\n",
       "\n",
       "    .dataframe tbody tr th {\n",
       "        vertical-align: top;\n",
       "    }\n",
       "\n",
       "    .dataframe thead th {\n",
       "        text-align: right;\n",
       "    }\n",
       "</style>\n",
       "<table border=\"1\" class=\"dataframe\">\n",
       "  <thead>\n",
       "    <tr style=\"text-align: right;\">\n",
       "      <th></th>\n",
       "      <th>text_reviews_count</th>\n",
       "      <th>series</th>\n",
       "      <th>country_code</th>\n",
       "      <th>language_code</th>\n",
       "      <th>popular_shelves</th>\n",
       "      <th>is_ebook</th>\n",
       "      <th>average_rating</th>\n",
       "      <th>similar_books</th>\n",
       "      <th>format</th>\n",
       "      <th>authors</th>\n",
       "      <th>publisher</th>\n",
       "      <th>num_pages</th>\n",
       "      <th>publication_month</th>\n",
       "      <th>edition_information</th>\n",
       "      <th>publication_year</th>\n",
       "      <th>book_id</th>\n",
       "      <th>ratings_count</th>\n",
       "      <th>work_id</th>\n",
       "      <th>title</th>\n",
       "      <th>title_without_series</th>\n",
       "    </tr>\n",
       "  </thead>\n",
       "  <tbody>\n",
       "    <tr>\n",
       "      <th>85197</th>\n",
       "      <td>13</td>\n",
       "      <td>[]</td>\n",
       "      <td>US</td>\n",
       "      <td>--</td>\n",
       "      <td>[{'count': '211', 'name': 'to-read'}, {'count'...</td>\n",
       "      <td>false</td>\n",
       "      <td>3.91</td>\n",
       "      <td>[917491, 96037, 1759043, 644009, 59455, 69510,...</td>\n",
       "      <td>softcover</td>\n",
       "      <td>[{'author_id': '40398', 'role': ''}]</td>\n",
       "      <td>Alfaguara</td>\n",
       "      <td>544</td>\n",
       "      <td>11</td>\n",
       "      <td>NaN</td>\n",
       "      <td>2010</td>\n",
       "      <td>9678323</td>\n",
       "      <td>143</td>\n",
       "      <td>2302976</td>\n",
       "      <td>La reina del sur</td>\n",
       "      <td>La reina del sur</td>\n",
       "    </tr>\n",
       "    <tr>\n",
       "      <th>192814</th>\n",
       "      <td>1</td>\n",
       "      <td>[343793, 632686]</td>\n",
       "      <td>US</td>\n",
       "      <td>--</td>\n",
       "      <td>[{'count': '74', 'name': 'to-read'}, {'count':...</td>\n",
       "      <td>false</td>\n",
       "      <td>3.75</td>\n",
       "      <td>[]</td>\n",
       "      <td>softcover</td>\n",
       "      <td>[{'author_id': '36260', 'role': ''}]</td>\n",
       "      <td>Hodder and Stoughton</td>\n",
       "      <td>256</td>\n",
       "      <td>NaN</td>\n",
       "      <td>NaN</td>\n",
       "      <td>1967</td>\n",
       "      <td>12778524</td>\n",
       "      <td>1</td>\n",
       "      <td>2275111</td>\n",
       "      <td>The Saint Bids Diamonds</td>\n",
       "      <td>The Saint Bids Diamonds</td>\n",
       "    </tr>\n",
       "    <tr>\n",
       "      <th>210543</th>\n",
       "      <td>3</td>\n",
       "      <td>[]</td>\n",
       "      <td>US</td>\n",
       "      <td>--</td>\n",
       "      <td>[{'count': '3358', 'name': 'to-read'}, {'count...</td>\n",
       "      <td>false</td>\n",
       "      <td>3.90</td>\n",
       "      <td>[21457489, 6085158, 17730046, 17285362, 128516...</td>\n",
       "      <td>softcover</td>\n",
       "      <td>[{'author_id': '282080', 'role': ''}, {'author...</td>\n",
       "      <td>Nova knjiga</td>\n",
       "      <td>268</td>\n",
       "      <td>NaN</td>\n",
       "      <td>NaN</td>\n",
       "      <td>2014</td>\n",
       "      <td>23259041</td>\n",
       "      <td>13</td>\n",
       "      <td>40783433</td>\n",
       "      <td>Central park</td>\n",
       "      <td>Central park</td>\n",
       "    </tr>\n",
       "  </tbody>\n",
       "</table>\n",
       "</div>"
      ],
      "text/plain": [
       "        text_reviews_count            series country_code language_code  \\\n",
       "85197                   13                []           US            --   \n",
       "192814                   1  [343793, 632686]           US            --   \n",
       "210543                   3                []           US            --   \n",
       "\n",
       "                                          popular_shelves is_ebook  \\\n",
       "85197   [{'count': '211', 'name': 'to-read'}, {'count'...    false   \n",
       "192814  [{'count': '74', 'name': 'to-read'}, {'count':...    false   \n",
       "210543  [{'count': '3358', 'name': 'to-read'}, {'count...    false   \n",
       "\n",
       "        average_rating                                      similar_books  \\\n",
       "85197             3.91  [917491, 96037, 1759043, 644009, 59455, 69510,...   \n",
       "192814            3.75                                                 []   \n",
       "210543            3.90  [21457489, 6085158, 17730046, 17285362, 128516...   \n",
       "\n",
       "           format                                            authors  \\\n",
       "85197   softcover               [{'author_id': '40398', 'role': ''}]   \n",
       "192814  softcover               [{'author_id': '36260', 'role': ''}]   \n",
       "210543  softcover  [{'author_id': '282080', 'role': ''}, {'author...   \n",
       "\n",
       "                   publisher num_pages publication_month edition_information  \\\n",
       "85197              Alfaguara       544                11                 NaN   \n",
       "192814  Hodder and Stoughton       256               NaN                 NaN   \n",
       "210543           Nova knjiga       268               NaN                 NaN   \n",
       "\n",
       "       publication_year   book_id  ratings_count   work_id  \\\n",
       "85197              2010   9678323            143   2302976   \n",
       "192814             1967  12778524              1   2275111   \n",
       "210543             2014  23259041             13  40783433   \n",
       "\n",
       "                          title     title_without_series  \n",
       "85197          La reina del sur         La reina del sur  \n",
       "192814  The Saint Bids Diamonds  The Saint Bids Diamonds  \n",
       "210543             Central park             Central park  "
      ]
     },
     "execution_count": 828,
     "metadata": {},
     "output_type": "execute_result"
    }
   ],
   "source": [
    "df[df.language_code == '--']"
   ]
  },
  {
   "cell_type": "code",
   "execution_count": 837,
   "metadata": {},
   "outputs": [],
   "source": [
    "df.drop(df[df['book_id'] == 9678323].index, inplace=True)"
   ]
  },
  {
   "cell_type": "code",
   "execution_count": 838,
   "metadata": {},
   "outputs": [
    {
     "data": {
      "text/html": [
       "<div>\n",
       "<style scoped>\n",
       "    .dataframe tbody tr th:only-of-type {\n",
       "        vertical-align: middle;\n",
       "    }\n",
       "\n",
       "    .dataframe tbody tr th {\n",
       "        vertical-align: top;\n",
       "    }\n",
       "\n",
       "    .dataframe thead th {\n",
       "        text-align: right;\n",
       "    }\n",
       "</style>\n",
       "<table border=\"1\" class=\"dataframe\">\n",
       "  <thead>\n",
       "    <tr style=\"text-align: right;\">\n",
       "      <th></th>\n",
       "      <th>text_reviews_count</th>\n",
       "      <th>series</th>\n",
       "      <th>country_code</th>\n",
       "      <th>language_code</th>\n",
       "      <th>popular_shelves</th>\n",
       "      <th>is_ebook</th>\n",
       "      <th>average_rating</th>\n",
       "      <th>similar_books</th>\n",
       "      <th>format</th>\n",
       "      <th>authors</th>\n",
       "      <th>publisher</th>\n",
       "      <th>num_pages</th>\n",
       "      <th>publication_month</th>\n",
       "      <th>edition_information</th>\n",
       "      <th>publication_year</th>\n",
       "      <th>book_id</th>\n",
       "      <th>ratings_count</th>\n",
       "      <th>work_id</th>\n",
       "      <th>title</th>\n",
       "      <th>title_without_series</th>\n",
       "    </tr>\n",
       "  </thead>\n",
       "  <tbody>\n",
       "    <tr>\n",
       "      <th>192814</th>\n",
       "      <td>1</td>\n",
       "      <td>[343793, 632686]</td>\n",
       "      <td>US</td>\n",
       "      <td>--</td>\n",
       "      <td>[{'count': '74', 'name': 'to-read'}, {'count':...</td>\n",
       "      <td>false</td>\n",
       "      <td>3.75</td>\n",
       "      <td>[]</td>\n",
       "      <td>softcover</td>\n",
       "      <td>[{'author_id': '36260', 'role': ''}]</td>\n",
       "      <td>Hodder and Stoughton</td>\n",
       "      <td>256</td>\n",
       "      <td>NaN</td>\n",
       "      <td>NaN</td>\n",
       "      <td>1967</td>\n",
       "      <td>12778524</td>\n",
       "      <td>1</td>\n",
       "      <td>2275111</td>\n",
       "      <td>The Saint Bids Diamonds</td>\n",
       "      <td>The Saint Bids Diamonds</td>\n",
       "    </tr>\n",
       "    <tr>\n",
       "      <th>210543</th>\n",
       "      <td>3</td>\n",
       "      <td>[]</td>\n",
       "      <td>US</td>\n",
       "      <td>--</td>\n",
       "      <td>[{'count': '3358', 'name': 'to-read'}, {'count...</td>\n",
       "      <td>false</td>\n",
       "      <td>3.90</td>\n",
       "      <td>[21457489, 6085158, 17730046, 17285362, 128516...</td>\n",
       "      <td>softcover</td>\n",
       "      <td>[{'author_id': '282080', 'role': ''}, {'author...</td>\n",
       "      <td>Nova knjiga</td>\n",
       "      <td>268</td>\n",
       "      <td>NaN</td>\n",
       "      <td>NaN</td>\n",
       "      <td>2014</td>\n",
       "      <td>23259041</td>\n",
       "      <td>13</td>\n",
       "      <td>40783433</td>\n",
       "      <td>Central park</td>\n",
       "      <td>Central park</td>\n",
       "    </tr>\n",
       "  </tbody>\n",
       "</table>\n",
       "</div>"
      ],
      "text/plain": [
       "        text_reviews_count            series country_code language_code  \\\n",
       "192814                   1  [343793, 632686]           US            --   \n",
       "210543                   3                []           US            --   \n",
       "\n",
       "                                          popular_shelves is_ebook  \\\n",
       "192814  [{'count': '74', 'name': 'to-read'}, {'count':...    false   \n",
       "210543  [{'count': '3358', 'name': 'to-read'}, {'count...    false   \n",
       "\n",
       "        average_rating                                      similar_books  \\\n",
       "192814            3.75                                                 []   \n",
       "210543            3.90  [21457489, 6085158, 17730046, 17285362, 128516...   \n",
       "\n",
       "           format                                            authors  \\\n",
       "192814  softcover               [{'author_id': '36260', 'role': ''}]   \n",
       "210543  softcover  [{'author_id': '282080', 'role': ''}, {'author...   \n",
       "\n",
       "                   publisher num_pages publication_month edition_information  \\\n",
       "192814  Hodder and Stoughton       256               NaN                 NaN   \n",
       "210543           Nova knjiga       268               NaN                 NaN   \n",
       "\n",
       "       publication_year   book_id  ratings_count   work_id  \\\n",
       "192814             1967  12778524              1   2275111   \n",
       "210543             2014  23259041             13  40783433   \n",
       "\n",
       "                          title     title_without_series  \n",
       "192814  The Saint Bids Diamonds  The Saint Bids Diamonds  \n",
       "210543             Central park             Central park  "
      ]
     },
     "execution_count": 838,
     "metadata": {},
     "output_type": "execute_result"
    }
   ],
   "source": [
    "df[df.language_code == '--']"
   ]
  },
  {
   "cell_type": "code",
   "execution_count": 840,
   "metadata": {},
   "outputs": [],
   "source": [
    "#changing all language code to english\n",
    "df.language_code = 'eng'"
   ]
  },
  {
   "cell_type": "code",
   "execution_count": 841,
   "metadata": {},
   "outputs": [
    {
     "data": {
      "text/plain": [
       "text_reviews_count           0\n",
       "series                       0\n",
       "country_code                 0\n",
       "language_code                0\n",
       "popular_shelves              0\n",
       "is_ebook                     0\n",
       "average_rating               0\n",
       "similar_books                0\n",
       "format                       0\n",
       "authors                      0\n",
       "publisher                54415\n",
       "num_pages                65261\n",
       "publication_month        61621\n",
       "edition_information     167517\n",
       "publication_year         50584\n",
       "book_id                      0\n",
       "ratings_count                0\n",
       "work_id                      0\n",
       "title                        0\n",
       "title_without_series         0\n",
       "dtype: int64"
      ]
     },
     "execution_count": 841,
     "metadata": {},
     "output_type": "execute_result"
    }
   ],
   "source": [
    "df.isnull().sum()"
   ]
  },
  {
   "cell_type": "code",
   "execution_count": 842,
   "metadata": {},
   "outputs": [
    {
     "data": {
      "text/plain": [
       "15352"
      ]
     },
     "execution_count": 842,
     "metadata": {},
     "output_type": "execute_result"
    }
   ],
   "source": [
    "df.publisher.nunique()"
   ]
  },
  {
   "cell_type": "code",
   "execution_count": 847,
   "metadata": {},
   "outputs": [
    {
     "data": {
      "text/plain": [
       "Berkley                                        2427\n",
       "Minotaur Books                                 2256\n",
       "Brilliance Audio                               1981\n",
       "Bantam                                         1488\n",
       "Grand Central Publishing                       1318\n",
       "Createspace Independent Publishing Platform    1306\n",
       "Pocket Books                                   1201\n",
       "Ballantine Books                               1200\n",
       "Blackstone Audiobooks                          1079\n",
       "St. Martin's Press                             1000\n",
       "Thorndike Press                                 989\n",
       "Signet                                          986\n",
       "Headline                                        962\n",
       "Harper                                          951\n",
       "Random House Audio                              946\n",
       "Penguin Books                                   937\n",
       "Kensington                                      903\n",
       "William Morrow                                  856\n",
       "Poisoned Pen Press                              838\n",
       "Hodder & Stoughton                              798\n",
       "Name: publisher, dtype: int64"
      ]
     },
     "execution_count": 847,
     "metadata": {},
     "output_type": "execute_result"
    }
   ],
   "source": [
    "df.publisher.value_counts().head(20)"
   ]
  },
  {
   "cell_type": "markdown",
   "metadata": {},
   "source": [
    "I'm not sure we can use this due to the number of publishers. Let's look at a histogram"
   ]
  },
  {
   "cell_type": "code",
   "execution_count": 852,
   "metadata": {},
   "outputs": [
    {
     "data": {
      "text/plain": [
       "<matplotlib.axes._subplots.AxesSubplot at 0x125a51400>"
      ]
     },
     "execution_count": 852,
     "metadata": {},
     "output_type": "execute_result"
    },
    {
     "data": {
      "image/png": "[encoded data removed]",
      "text/plain": [
       "<Figure size 432x288 with 1 Axes>"
      ]
     },
     "metadata": {
      "needs_background": "light"
     },
     "output_type": "display_data"
    }
   ],
   "source": [
    "df.publisher.value_counts().loc[df.publisher.value_counts() <200].hist()"
   ]
  },
  {
   "cell_type": "code",
   "execution_count": 856,
   "metadata": {},
   "outputs": [
    {
     "data": {
      "text/plain": [
       "<matplotlib.axes._subplots.AxesSubplot at 0x157486e80>"
      ]
     },
     "execution_count": 856,
     "metadata": {},
     "output_type": "execute_result"
    },
    {
     "data": {
      "image/png": "[encoded data removed]",
      "text/plain": [
       "<Figure size 432x288 with 1 Axes>"
      ]
     },
     "metadata": {
      "needs_background": "light"
     },
     "output_type": "display_data"
    }
   ],
   "source": [
    "df.publisher.value_counts().loc[df.publisher.value_counts() >=200].hist()"
   ]
  },
  {
   "cell_type": "markdown",
   "metadata": {},
   "source": [
    "A large number of publishers have published less than 25 books in this subsection and a few publishers have published 100s or 1000s. For now changing Nulls to Unknown and will decide how to deal with publishers after EDA. "
   ]
  },
  {
   "cell_type": "code",
   "execution_count": 857,
   "metadata": {},
   "outputs": [
    {
     "name": "stderr",
     "output_type": "stream",
     "text": [
      "<ipython-input-857-33f1b95d3d8b>:1: SettingWithCopyWarning: \n",
      "A value is trying to be set on a copy of a slice from a DataFrame\n",
      "\n",
      "See the caveats in the documentation: https://pandas.pydata.org/pandas-docs/stable/user_guide/indexing.html#returning-a-view-versus-a-copy\n",
      "  df.publisher[df.publisher.isnull()] = 'unknown'\n"
     ]
    }
   ],
   "source": [
    "df.publisher[df.publisher.isnull()] = 'unknown'"
   ]
  },
  {
   "cell_type": "code",
   "execution_count": 859,
   "metadata": {},
   "outputs": [
    {
     "data": {
      "text/plain": [
       "text_reviews_count           0\n",
       "series                       0\n",
       "country_code                 0\n",
       "language_code                0\n",
       "popular_shelves              0\n",
       "is_ebook                     0\n",
       "average_rating               0\n",
       "similar_books                0\n",
       "format                       0\n",
       "authors                      0\n",
       "publisher                    0\n",
       "num_pages                65261\n",
       "publication_month        61621\n",
       "edition_information     167517\n",
       "publication_year         50584\n",
       "book_id                      0\n",
       "ratings_count                0\n",
       "work_id                      0\n",
       "title                        0\n",
       "title_without_series         0\n",
       "dtype: int64"
      ]
     },
     "execution_count": 859,
     "metadata": {},
     "output_type": "execute_result"
    }
   ],
   "source": [
    "df.isnull().sum()"
   ]
  },
  {
   "cell_type": "code",
   "execution_count": 861,
   "metadata": {},
   "outputs": [
    {
     "data": {
      "text/plain": [
       "count     117645\n",
       "unique      1071\n",
       "top          320\n",
       "freq        3983\n",
       "Name: num_pages, dtype: object"
      ]
     },
     "execution_count": 861,
     "metadata": {},
     "output_type": "execute_result"
    }
   ],
   "source": [
    "df.num_pages.describe()"
   ]
  },
  {
   "cell_type": "code",
   "execution_count": 868,
   "metadata": {},
   "outputs": [
    {
     "name": "stdout",
     "output_type": "stream",
     "text": [
      "<class 'pandas.core.frame.DataFrame'>\n",
      "Int64Index: 182906 entries, 0 to 219234\n",
      "Data columns (total 20 columns):\n",
      " #   Column                Non-Null Count   Dtype  \n",
      "---  ------                --------------   -----  \n",
      " 0   text_reviews_count    182906 non-null  int64  \n",
      " 1   series                182906 non-null  object \n",
      " 2   country_code          182906 non-null  object \n",
      " 3   language_code         182906 non-null  object \n",
      " 4   popular_shelves       182906 non-null  object \n",
      " 5   is_ebook              182906 non-null  object \n",
      " 6   average_rating        182906 non-null  float64\n",
      " 7   similar_books         182906 non-null  object \n",
      " 8   format                182906 non-null  object \n",
      " 9   authors               182906 non-null  object \n",
      " 10  publisher             182906 non-null  object \n",
      " 11  num_pages             117645 non-null  object \n",
      " 12  publication_month     121285 non-null  object \n",
      " 13  edition_information   15389 non-null   object \n",
      " 14  publication_year      132322 non-null  object \n",
      " 15  book_id               182906 non-null  int64  \n",
      " 16  ratings_count         182906 non-null  int64  \n",
      " 17  work_id               182906 non-null  int64  \n",
      " 18  title                 182906 non-null  object \n",
      " 19  title_without_series  182906 non-null  object \n",
      "dtypes: float64(1), int64(4), object(15)\n",
      "memory usage: 34.3+ MB\n"
     ]
    }
   ],
   "source": [
    "df.info()"
   ]
  },
  {
   "cell_type": "code",
   "execution_count": 870,
   "metadata": {},
   "outputs": [
    {
     "data": {
      "text/plain": [
       "text_reviews_count        int64\n",
       "series                   object\n",
       "country_code             object\n",
       "language_code            object\n",
       "popular_shelves          object\n",
       "is_ebook                 object\n",
       "average_rating          float64\n",
       "similar_books            object\n",
       "format                   object\n",
       "authors                  object\n",
       "publisher                object\n",
       "num_pages                object\n",
       "publication_month        object\n",
       "edition_information      object\n",
       "publication_year         object\n",
       "book_id                   int64\n",
       "ratings_count             int64\n",
       "work_id                   int64\n",
       "title                    object\n",
       "title_without_series     object\n",
       "dtype: object"
      ]
     },
     "execution_count": 870,
     "metadata": {},
     "output_type": "execute_result"
    }
   ],
   "source": [
    "df.dtypes"
   ]
  },
  {
   "cell_type": "code",
   "execution_count": 982,
   "metadata": {},
   "outputs": [],
   "source": [
    "df.num_pages = pd.to_numeric(df.num_pages)"
   ]
  },
  {
   "cell_type": "code",
   "execution_count": 983,
   "metadata": {},
   "outputs": [
    {
     "data": {
      "text/plain": [
       "text_reviews_count        int64\n",
       "series                   object\n",
       "country_code             object\n",
       "language_code            object\n",
       "popular_shelves          object\n",
       "is_ebook                 object\n",
       "average_rating          float64\n",
       "similar_books            object\n",
       "format                   object\n",
       "authors                  object\n",
       "publisher                object\n",
       "num_pages               float64\n",
       "publication_month        object\n",
       "edition_information      object\n",
       "publication_year         object\n",
       "book_id                   int64\n",
       "ratings_count             int64\n",
       "work_id                   int64\n",
       "title                    object\n",
       "title_without_series     object\n",
       "dtype: object"
      ]
     },
     "execution_count": 983,
     "metadata": {},
     "output_type": "execute_result"
    }
   ],
   "source": [
    "df.dtypes"
   ]
  },
  {
   "cell_type": "code",
   "execution_count": 984,
   "metadata": {},
   "outputs": [
    {
     "data": {
      "text/html": [
       "<div>\n",
       "<style scoped>\n",
       "    .dataframe tbody tr th:only-of-type {\n",
       "        vertical-align: middle;\n",
       "    }\n",
       "\n",
       "    .dataframe tbody tr th {\n",
       "        vertical-align: top;\n",
       "    }\n",
       "\n",
       "    .dataframe thead th {\n",
       "        text-align: right;\n",
       "    }\n",
       "</style>\n",
       "<table border=\"1\" class=\"dataframe\">\n",
       "  <thead>\n",
       "    <tr style=\"text-align: right;\">\n",
       "      <th></th>\n",
       "      <th>text_reviews_count</th>\n",
       "      <th>average_rating</th>\n",
       "      <th>num_pages</th>\n",
       "      <th>book_id</th>\n",
       "      <th>ratings_count</th>\n",
       "      <th>work_id</th>\n",
       "    </tr>\n",
       "  </thead>\n",
       "  <tbody>\n",
       "    <tr>\n",
       "      <th>count</th>\n",
       "      <td>182906.000000</td>\n",
       "      <td>182906.000000</td>\n",
       "      <td>163162.000000</td>\n",
       "      <td>1.829060e+05</td>\n",
       "      <td>1.829060e+05</td>\n",
       "      <td>1.829060e+05</td>\n",
       "    </tr>\n",
       "    <tr>\n",
       "      <th>mean</th>\n",
       "      <td>42.302565</td>\n",
       "      <td>3.840558</td>\n",
       "      <td>220.613047</td>\n",
       "      <td>1.462701e+07</td>\n",
       "      <td>6.088179e+02</td>\n",
       "      <td>1.866813e+07</td>\n",
       "    </tr>\n",
       "    <tr>\n",
       "      <th>std</th>\n",
       "      <td>405.181554</td>\n",
       "      <td>0.334367</td>\n",
       "      <td>240.253348</td>\n",
       "      <td>1.069201e+07</td>\n",
       "      <td>9.973194e+03</td>\n",
       "      <td>1.864386e+07</td>\n",
       "    </tr>\n",
       "    <tr>\n",
       "      <th>min</th>\n",
       "      <td>0.000000</td>\n",
       "      <td>0.000000</td>\n",
       "      <td>0.000000</td>\n",
       "      <td>1.640000e+02</td>\n",
       "      <td>0.000000e+00</td>\n",
       "      <td>1.370000e+02</td>\n",
       "    </tr>\n",
       "    <tr>\n",
       "      <th>25%</th>\n",
       "      <td>3.000000</td>\n",
       "      <td>3.660000</td>\n",
       "      <td>0.000000</td>\n",
       "      <td>3.979980e+06</td>\n",
       "      <td>1.200000e+01</td>\n",
       "      <td>1.780595e+06</td>\n",
       "    </tr>\n",
       "    <tr>\n",
       "      <th>50%</th>\n",
       "      <td>7.000000</td>\n",
       "      <td>3.860000</td>\n",
       "      <td>250.000000</td>\n",
       "      <td>1.358465e+07</td>\n",
       "      <td>4.000000e+01</td>\n",
       "      <td>1.431100e+07</td>\n",
       "    </tr>\n",
       "    <tr>\n",
       "      <th>75%</th>\n",
       "      <td>20.000000</td>\n",
       "      <td>4.050000</td>\n",
       "      <td>347.000000</td>\n",
       "      <td>2.335827e+07</td>\n",
       "      <td>1.540000e+02</td>\n",
       "      <td>4.003166e+07</td>\n",
       "    </tr>\n",
       "    <tr>\n",
       "      <th>max</th>\n",
       "      <td>78438.000000</td>\n",
       "      <td>5.000000</td>\n",
       "      <td>52015.000000</td>\n",
       "      <td>3.651716e+07</td>\n",
       "      <td>2.046499e+06</td>\n",
       "      <td>5.837010e+07</td>\n",
       "    </tr>\n",
       "  </tbody>\n",
       "</table>\n",
       "</div>"
      ],
      "text/plain": [
       "       text_reviews_count  average_rating      num_pages       book_id  \\\n",
       "count       182906.000000   182906.000000  163162.000000  1.829060e+05   \n",
       "mean            42.302565        3.840558     220.613047  1.462701e+07   \n",
       "std            405.181554        0.334367     240.253348  1.069201e+07   \n",
       "min              0.000000        0.000000       0.000000  1.640000e+02   \n",
       "25%              3.000000        3.660000       0.000000  3.979980e+06   \n",
       "50%              7.000000        3.860000     250.000000  1.358465e+07   \n",
       "75%             20.000000        4.050000     347.000000  2.335827e+07   \n",
       "max          78438.000000        5.000000   52015.000000  3.651716e+07   \n",
       "\n",
       "       ratings_count       work_id  \n",
       "count   1.829060e+05  1.829060e+05  \n",
       "mean    6.088179e+02  1.866813e+07  \n",
       "std     9.973194e+03  1.864386e+07  \n",
       "min     0.000000e+00  1.370000e+02  \n",
       "25%     1.200000e+01  1.780595e+06  \n",
       "50%     4.000000e+01  1.431100e+07  \n",
       "75%     1.540000e+02  4.003166e+07  \n",
       "max     2.046499e+06  5.837010e+07  "
      ]
     },
     "execution_count": 984,
     "metadata": {},
     "output_type": "execute_result"
    }
   ],
   "source": [
    "df.describe()"
   ]
  },
  {
   "cell_type": "code",
   "execution_count": 985,
   "metadata": {},
   "outputs": [
    {
     "data": {
      "text/plain": [
       "<matplotlib.axes._subplots.AxesSubplot at 0x15eb25dc0>"
      ]
     },
     "execution_count": 985,
     "metadata": {},
     "output_type": "execute_result"
    },
    {
     "data": {
      "image/png": "[encoded data removed]",
      "text/plain": [
       "<Figure size 432x288 with 1 Axes>"
      ]
     },
     "metadata": {
      "needs_background": "light"
     },
     "output_type": "display_data"
    }
   ],
   "source": [
    "df.num_pages[df.num_pages>5000].hist()"
   ]
  },
  {
   "cell_type": "code",
   "execution_count": 986,
   "metadata": {},
   "outputs": [
    {
     "data": {
      "text/plain": [
       "<matplotlib.axes._subplots.AxesSubplot at 0x15eb04700>"
      ]
     },
     "execution_count": 986,
     "metadata": {},
     "output_type": "execute_result"
    },
    {
     "data": {
      "image/png": "[encoded data removed]",
      "text/plain": [
       "<Figure size 432x288 with 1 Axes>"
      ]
     },
     "metadata": {
      "needs_background": "light"
     },
     "output_type": "display_data"
    }
   ],
   "source": [
    "df.num_pages[(df.num_pages >= 1500) & (df.num_pages <= 5000)].hist()"
   ]
  },
  {
   "cell_type": "code",
   "execution_count": 987,
   "metadata": {},
   "outputs": [
    {
     "data": {
      "text/plain": [
       "<matplotlib.axes._subplots.AxesSubplot at 0x15eb030d0>"
      ]
     },
     "execution_count": 987,
     "metadata": {},
     "output_type": "execute_result"
    },
    {
     "data": {
      "image/png": "[encoded data removed]",
      "text/plain": [
       "<Figure size 432x288 with 1 Axes>"
      ]
     },
     "metadata": {
      "needs_background": "light"
     },
     "output_type": "display_data"
    }
   ],
   "source": [
    "df.num_pages[df.num_pages<1500].hist(bins=20)"
   ]
  },
  {
   "cell_type": "code",
   "execution_count": 988,
   "metadata": {},
   "outputs": [
    {
     "data": {
      "text/plain": [
       "19744"
      ]
     },
     "execution_count": 988,
     "metadata": {},
     "output_type": "execute_result"
    }
   ],
   "source": [
    "df.num_pages.isnull().sum()"
   ]
  },
  {
   "cell_type": "code",
   "execution_count": 989,
   "metadata": {},
   "outputs": [],
   "source": [
    "#How many mising pages for duplicate books? \n",
    "dups = df.title.value_counts().loc[df.title.value_counts() > 1].index"
   ]
  },
  {
   "cell_type": "code",
   "execution_count": 990,
   "metadata": {},
   "outputs": [
    {
     "data": {
      "text/plain": [
       "31543"
      ]
     },
     "execution_count": 990,
     "metadata": {},
     "output_type": "execute_result"
    }
   ],
   "source": [
    "len(dups)"
   ]
  },
  {
   "cell_type": "code",
   "execution_count": null,
   "metadata": {},
   "outputs": [],
   "source": []
  },
  {
   "cell_type": "code",
   "execution_count": 991,
   "metadata": {},
   "outputs": [
    {
     "data": {
      "text/html": [
       "<div>\n",
       "<style scoped>\n",
       "    .dataframe tbody tr th:only-of-type {\n",
       "        vertical-align: middle;\n",
       "    }\n",
       "\n",
       "    .dataframe tbody tr th {\n",
       "        vertical-align: top;\n",
       "    }\n",
       "\n",
       "    .dataframe thead th {\n",
       "        text-align: right;\n",
       "    }\n",
       "</style>\n",
       "<table border=\"1\" class=\"dataframe\">\n",
       "  <thead>\n",
       "    <tr style=\"text-align: right;\">\n",
       "      <th></th>\n",
       "      <th>text_reviews_count</th>\n",
       "      <th>series</th>\n",
       "      <th>country_code</th>\n",
       "      <th>language_code</th>\n",
       "      <th>popular_shelves</th>\n",
       "      <th>is_ebook</th>\n",
       "      <th>average_rating</th>\n",
       "      <th>similar_books</th>\n",
       "      <th>format</th>\n",
       "      <th>authors</th>\n",
       "      <th>publisher</th>\n",
       "      <th>num_pages</th>\n",
       "      <th>publication_month</th>\n",
       "      <th>edition_information</th>\n",
       "      <th>publication_year</th>\n",
       "      <th>book_id</th>\n",
       "      <th>ratings_count</th>\n",
       "      <th>work_id</th>\n",
       "      <th>title</th>\n",
       "      <th>title_without_series</th>\n",
       "    </tr>\n",
       "  </thead>\n",
       "  <tbody>\n",
       "    <tr>\n",
       "      <th>3</th>\n",
       "      <td>8</td>\n",
       "      <td>[408775]</td>\n",
       "      <td>US</td>\n",
       "      <td>eng</td>\n",
       "      <td>[{'count': '51', 'name': 'to-read'}, {'count':...</td>\n",
       "      <td>false</td>\n",
       "      <td>3.30</td>\n",
       "      <td>[]</td>\n",
       "      <td>hardcover</td>\n",
       "      <td>[{'author_id': '190988', 'role': ''}]</td>\n",
       "      <td>Ulverscroft</td>\n",
       "      <td>NaN</td>\n",
       "      <td>12</td>\n",
       "      <td>Large Print</td>\n",
       "      <td>1975</td>\n",
       "      <td>1902202</td>\n",
       "      <td>52</td>\n",
       "      <td>1903897</td>\n",
       "      <td>Dead in the Morning (Patrick Grant, #1)</td>\n",
       "      <td>Dead in the Morning (Patrick Grant, #1)</td>\n",
       "    </tr>\n",
       "    <tr>\n",
       "      <th>13</th>\n",
       "      <td>1</td>\n",
       "      <td>[]</td>\n",
       "      <td>US</td>\n",
       "      <td>eng</td>\n",
       "      <td>[{'count': '2314', 'name': 'to-read'}, {'count...</td>\n",
       "      <td>false</td>\n",
       "      <td>3.79</td>\n",
       "      <td>[311983, 704268, 710698, 2421615, 10900316, 68...</td>\n",
       "      <td>unknown_other</td>\n",
       "      <td>[{'author_id': '19697', 'role': ''}]</td>\n",
       "      <td>unknown</td>\n",
       "      <td>NaN</td>\n",
       "      <td>NaN</td>\n",
       "      <td>NaN</td>\n",
       "      <td>NaN</td>\n",
       "      <td>353523</td>\n",
       "      <td>1</td>\n",
       "      <td>764462</td>\n",
       "      <td>Toxin</td>\n",
       "      <td>Toxin</td>\n",
       "    </tr>\n",
       "    <tr>\n",
       "      <th>36</th>\n",
       "      <td>2</td>\n",
       "      <td>[]</td>\n",
       "      <td>US</td>\n",
       "      <td>eng</td>\n",
       "      <td>[{'count': '88', 'name': 'to-read'}, {'count':...</td>\n",
       "      <td>false</td>\n",
       "      <td>3.69</td>\n",
       "      <td>[]</td>\n",
       "      <td>softcover</td>\n",
       "      <td>[{'author_id': '71096', 'role': ''}]</td>\n",
       "      <td>Little Brown and Company</td>\n",
       "      <td>NaN</td>\n",
       "      <td>5</td>\n",
       "      <td>NaN</td>\n",
       "      <td>1996</td>\n",
       "      <td>1650286</td>\n",
       "      <td>11</td>\n",
       "      <td>1644802</td>\n",
       "      <td>Fair Game</td>\n",
       "      <td>Fair Game</td>\n",
       "    </tr>\n",
       "    <tr>\n",
       "      <th>59</th>\n",
       "      <td>17</td>\n",
       "      <td>[]</td>\n",
       "      <td>US</td>\n",
       "      <td>eng</td>\n",
       "      <td>[{'count': '88', 'name': 'to-read'}, {'count':...</td>\n",
       "      <td>false</td>\n",
       "      <td>4.45</td>\n",
       "      <td>[]</td>\n",
       "      <td>unknown_other</td>\n",
       "      <td>[{'author_id': '4538804', 'role': ''}]</td>\n",
       "      <td>unknown</td>\n",
       "      <td>NaN</td>\n",
       "      <td>NaN</td>\n",
       "      <td>NaN</td>\n",
       "      <td>NaN</td>\n",
       "      <td>10313894</td>\n",
       "      <td>21</td>\n",
       "      <td>15216156</td>\n",
       "      <td>Just.Another.Common.Killer</td>\n",
       "      <td>Just.Another.Common.Killer</td>\n",
       "    </tr>\n",
       "    <tr>\n",
       "      <th>76</th>\n",
       "      <td>261</td>\n",
       "      <td>[746844, 495652]</td>\n",
       "      <td>US</td>\n",
       "      <td>eng</td>\n",
       "      <td>[{'count': '3887', 'name': 'to-read'}, {'count...</td>\n",
       "      <td>false</td>\n",
       "      <td>3.88</td>\n",
       "      <td>[275470, 420307, 8038401, 9367664, 17286698, 3...</td>\n",
       "      <td>unknown_other</td>\n",
       "      <td>[{'author_id': '38951', 'role': ''}]</td>\n",
       "      <td>unknown</td>\n",
       "      <td>NaN</td>\n",
       "      <td>NaN</td>\n",
       "      <td>NaN</td>\n",
       "      <td>NaN</td>\n",
       "      <td>175248</td>\n",
       "      <td>3396</td>\n",
       "      <td>2919130</td>\n",
       "      <td>Nocturnes</td>\n",
       "      <td>Nocturnes</td>\n",
       "    </tr>\n",
       "    <tr>\n",
       "      <th>...</th>\n",
       "      <td>...</td>\n",
       "      <td>...</td>\n",
       "      <td>...</td>\n",
       "      <td>...</td>\n",
       "      <td>...</td>\n",
       "      <td>...</td>\n",
       "      <td>...</td>\n",
       "      <td>...</td>\n",
       "      <td>...</td>\n",
       "      <td>...</td>\n",
       "      <td>...</td>\n",
       "      <td>...</td>\n",
       "      <td>...</td>\n",
       "      <td>...</td>\n",
       "      <td>...</td>\n",
       "      <td>...</td>\n",
       "      <td>...</td>\n",
       "      <td>...</td>\n",
       "      <td>...</td>\n",
       "      <td>...</td>\n",
       "    </tr>\n",
       "    <tr>\n",
       "      <th>219129</th>\n",
       "      <td>2</td>\n",
       "      <td>[800194]</td>\n",
       "      <td>US</td>\n",
       "      <td>eng</td>\n",
       "      <td>[{'count': '65', 'name': 'to-read'}, {'count':...</td>\n",
       "      <td>false</td>\n",
       "      <td>4.35</td>\n",
       "      <td>[]</td>\n",
       "      <td>unknown_other</td>\n",
       "      <td>[{'author_id': '4811623', 'role': ''}]</td>\n",
       "      <td>unknown</td>\n",
       "      <td>NaN</td>\n",
       "      <td>NaN</td>\n",
       "      <td>NaN</td>\n",
       "      <td>NaN</td>\n",
       "      <td>25595755</td>\n",
       "      <td>4</td>\n",
       "      <td>16128459</td>\n",
       "      <td>The River and the Roses (Veronica Barry, #1)</td>\n",
       "      <td>The River and the Roses (Veronica Barry, #1)</td>\n",
       "    </tr>\n",
       "    <tr>\n",
       "      <th>219131</th>\n",
       "      <td>7</td>\n",
       "      <td>[]</td>\n",
       "      <td>US</td>\n",
       "      <td>eng</td>\n",
       "      <td>[{'count': '113', 'name': 'to-read'}, {'count'...</td>\n",
       "      <td>false</td>\n",
       "      <td>3.72</td>\n",
       "      <td>[1619917, 3002400, 5941054, 7740, 556766, 8865...</td>\n",
       "      <td>unknown_other</td>\n",
       "      <td>[{'author_id': '48497', 'role': ''}, {'author_...</td>\n",
       "      <td>unknown</td>\n",
       "      <td>NaN</td>\n",
       "      <td>NaN</td>\n",
       "      <td>NaN</td>\n",
       "      <td>NaN</td>\n",
       "      <td>2904863</td>\n",
       "      <td>33</td>\n",
       "      <td>21940042</td>\n",
       "      <td>Dr. Jekyll and Mr. Hyde (Oxford Bookworms Libr...</td>\n",
       "      <td>Dr. Jekyll and Mr. Hyde (Oxford Bookworms Libr...</td>\n",
       "    </tr>\n",
       "    <tr>\n",
       "      <th>219156</th>\n",
       "      <td>7</td>\n",
       "      <td>[491039, 920121]</td>\n",
       "      <td>US</td>\n",
       "      <td>eng</td>\n",
       "      <td>[{'count': '13313', 'name': 'to-read'}, {'coun...</td>\n",
       "      <td>false</td>\n",
       "      <td>4.04</td>\n",
       "      <td>[386252, 406575, 46432, 12806802, 253556, 6510...</td>\n",
       "      <td>softcover</td>\n",
       "      <td>[{'author_id': '1411964', 'role': ''}]</td>\n",
       "      <td>unknown</td>\n",
       "      <td>NaN</td>\n",
       "      <td>NaN</td>\n",
       "      <td>NaN</td>\n",
       "      <td>NaN</td>\n",
       "      <td>6420106</td>\n",
       "      <td>90</td>\n",
       "      <td>2491780</td>\n",
       "      <td>Tinker Tailor Soldier Spy</td>\n",
       "      <td>Tinker Tailor Soldier Spy</td>\n",
       "    </tr>\n",
       "    <tr>\n",
       "      <th>219191</th>\n",
       "      <td>12</td>\n",
       "      <td>[944935]</td>\n",
       "      <td>US</td>\n",
       "      <td>eng</td>\n",
       "      <td>[{'count': '20', 'name': 'to-read'}, {'count':...</td>\n",
       "      <td>false</td>\n",
       "      <td>4.54</td>\n",
       "      <td>[]</td>\n",
       "      <td>unknown_other</td>\n",
       "      <td>[{'author_id': '943544', 'role': ''}]</td>\n",
       "      <td>unknown</td>\n",
       "      <td>NaN</td>\n",
       "      <td>NaN</td>\n",
       "      <td>NaN</td>\n",
       "      <td>NaN</td>\n",
       "      <td>33130814</td>\n",
       "      <td>27</td>\n",
       "      <td>51434842</td>\n",
       "      <td>Blood Mother (Flesh and Blood Trilogy #2)</td>\n",
       "      <td>Blood Mother (Flesh and Blood Trilogy #2)</td>\n",
       "    </tr>\n",
       "    <tr>\n",
       "      <th>219221</th>\n",
       "      <td>1</td>\n",
       "      <td>[]</td>\n",
       "      <td>US</td>\n",
       "      <td>eng</td>\n",
       "      <td>[{'count': '231', 'name': 'to-read'}, {'count'...</td>\n",
       "      <td>false</td>\n",
       "      <td>3.78</td>\n",
       "      <td>[1207540, 1118874, 1098095, 876822, 1458480, 8...</td>\n",
       "      <td>unknown_other</td>\n",
       "      <td>[{'author_id': '39467', 'role': ''}]</td>\n",
       "      <td>unknown</td>\n",
       "      <td>NaN</td>\n",
       "      <td>NaN</td>\n",
       "      <td>NaN</td>\n",
       "      <td>NaN</td>\n",
       "      <td>2247090</td>\n",
       "      <td>7</td>\n",
       "      <td>775122</td>\n",
       "      <td>Black Heart</td>\n",
       "      <td>Black Heart</td>\n",
       "    </tr>\n",
       "  </tbody>\n",
       "</table>\n",
       "<p>10569 rows × 20 columns</p>\n",
       "</div>"
      ],
      "text/plain": [
       "        text_reviews_count            series country_code language_code  \\\n",
       "3                        8          [408775]           US           eng   \n",
       "13                       1                []           US           eng   \n",
       "36                       2                []           US           eng   \n",
       "59                      17                []           US           eng   \n",
       "76                     261  [746844, 495652]           US           eng   \n",
       "...                    ...               ...          ...           ...   \n",
       "219129                   2          [800194]           US           eng   \n",
       "219131                   7                []           US           eng   \n",
       "219156                   7  [491039, 920121]           US           eng   \n",
       "219191                  12          [944935]           US           eng   \n",
       "219221                   1                []           US           eng   \n",
       "\n",
       "                                          popular_shelves is_ebook  \\\n",
       "3       [{'count': '51', 'name': 'to-read'}, {'count':...    false   \n",
       "13      [{'count': '2314', 'name': 'to-read'}, {'count...    false   \n",
       "36      [{'count': '88', 'name': 'to-read'}, {'count':...    false   \n",
       "59      [{'count': '88', 'name': 'to-read'}, {'count':...    false   \n",
       "76      [{'count': '3887', 'name': 'to-read'}, {'count...    false   \n",
       "...                                                   ...      ...   \n",
       "219129  [{'count': '65', 'name': 'to-read'}, {'count':...    false   \n",
       "219131  [{'count': '113', 'name': 'to-read'}, {'count'...    false   \n",
       "219156  [{'count': '13313', 'name': 'to-read'}, {'coun...    false   \n",
       "219191  [{'count': '20', 'name': 'to-read'}, {'count':...    false   \n",
       "219221  [{'count': '231', 'name': 'to-read'}, {'count'...    false   \n",
       "\n",
       "        average_rating                                      similar_books  \\\n",
       "3                 3.30                                                 []   \n",
       "13                3.79  [311983, 704268, 710698, 2421615, 10900316, 68...   \n",
       "36                3.69                                                 []   \n",
       "59                4.45                                                 []   \n",
       "76                3.88  [275470, 420307, 8038401, 9367664, 17286698, 3...   \n",
       "...                ...                                                ...   \n",
       "219129            4.35                                                 []   \n",
       "219131            3.72  [1619917, 3002400, 5941054, 7740, 556766, 8865...   \n",
       "219156            4.04  [386252, 406575, 46432, 12806802, 253556, 6510...   \n",
       "219191            4.54                                                 []   \n",
       "219221            3.78  [1207540, 1118874, 1098095, 876822, 1458480, 8...   \n",
       "\n",
       "               format                                            authors  \\\n",
       "3           hardcover              [{'author_id': '190988', 'role': ''}]   \n",
       "13      unknown_other               [{'author_id': '19697', 'role': ''}]   \n",
       "36          softcover               [{'author_id': '71096', 'role': ''}]   \n",
       "59      unknown_other             [{'author_id': '4538804', 'role': ''}]   \n",
       "76      unknown_other               [{'author_id': '38951', 'role': ''}]   \n",
       "...               ...                                                ...   \n",
       "219129  unknown_other             [{'author_id': '4811623', 'role': ''}]   \n",
       "219131  unknown_other  [{'author_id': '48497', 'role': ''}, {'author_...   \n",
       "219156      softcover             [{'author_id': '1411964', 'role': ''}]   \n",
       "219191  unknown_other              [{'author_id': '943544', 'role': ''}]   \n",
       "219221  unknown_other               [{'author_id': '39467', 'role': ''}]   \n",
       "\n",
       "                       publisher  num_pages publication_month  \\\n",
       "3                    Ulverscroft        NaN                12   \n",
       "13                       unknown        NaN               NaN   \n",
       "36      Little Brown and Company        NaN                 5   \n",
       "59                       unknown        NaN               NaN   \n",
       "76                       unknown        NaN               NaN   \n",
       "...                          ...        ...               ...   \n",
       "219129                   unknown        NaN               NaN   \n",
       "219131                   unknown        NaN               NaN   \n",
       "219156                   unknown        NaN               NaN   \n",
       "219191                   unknown        NaN               NaN   \n",
       "219221                   unknown        NaN               NaN   \n",
       "\n",
       "       edition_information publication_year   book_id  ratings_count  \\\n",
       "3              Large Print             1975   1902202             52   \n",
       "13                     NaN              NaN    353523              1   \n",
       "36                     NaN             1996   1650286             11   \n",
       "59                     NaN              NaN  10313894             21   \n",
       "76                     NaN              NaN    175248           3396   \n",
       "...                    ...              ...       ...            ...   \n",
       "219129                 NaN              NaN  25595755              4   \n",
       "219131                 NaN              NaN   2904863             33   \n",
       "219156                 NaN              NaN   6420106             90   \n",
       "219191                 NaN              NaN  33130814             27   \n",
       "219221                 NaN              NaN   2247090              7   \n",
       "\n",
       "         work_id                                              title  \\\n",
       "3        1903897            Dead in the Morning (Patrick Grant, #1)   \n",
       "13        764462                                              Toxin   \n",
       "36       1644802                                          Fair Game   \n",
       "59      15216156                         Just.Another.Common.Killer   \n",
       "76       2919130                                          Nocturnes   \n",
       "...          ...                                                ...   \n",
       "219129  16128459       The River and the Roses (Veronica Barry, #1)   \n",
       "219131  21940042  Dr. Jekyll and Mr. Hyde (Oxford Bookworms Libr...   \n",
       "219156   2491780                          Tinker Tailor Soldier Spy   \n",
       "219191  51434842          Blood Mother (Flesh and Blood Trilogy #2)   \n",
       "219221    775122                                        Black Heart   \n",
       "\n",
       "                                     title_without_series  \n",
       "3                 Dead in the Morning (Patrick Grant, #1)  \n",
       "13                                                  Toxin  \n",
       "36                                              Fair Game  \n",
       "59                             Just.Another.Common.Killer  \n",
       "76                                              Nocturnes  \n",
       "...                                                   ...  \n",
       "219129       The River and the Roses (Veronica Barry, #1)  \n",
       "219131  Dr. Jekyll and Mr. Hyde (Oxford Bookworms Libr...  \n",
       "219156                          Tinker Tailor Soldier Spy  \n",
       "219191          Blood Mother (Flesh and Blood Trilogy #2)  \n",
       "219221                                        Black Heart  \n",
       "\n",
       "[10569 rows x 20 columns]"
      ]
     },
     "execution_count": 991,
     "metadata": {},
     "output_type": "execute_result"
    }
   ],
   "source": [
    "df[(df.title.isin(dups)) & (df.num_pages.isnull())]"
   ]
  },
  {
   "cell_type": "markdown",
   "metadata": {},
   "source": [
    "There's 35000+ entries that are duplicats and without page numbers. "
   ]
  },
  {
   "cell_type": "code",
   "execution_count": 992,
   "metadata": {},
   "outputs": [
    {
     "data": {
      "text/plain": [
       "unknown_other    7211\n",
       "softcover        2495\n",
       "hardcover         862\n",
       "large_print         1\n",
       "Name: format, dtype: int64"
      ]
     },
     "execution_count": 992,
     "metadata": {},
     "output_type": "execute_result"
    }
   ],
   "source": [
    "df.format[(df.title.isin(dups)) & (df.num_pages.isnull())].value_counts()"
   ]
  },
  {
   "cell_type": "code",
   "execution_count": 993,
   "metadata": {},
   "outputs": [
    {
     "data": {
      "text/plain": [
       "<matplotlib.axes._subplots.AxesSubplot at 0x157d896d0>"
      ]
     },
     "execution_count": 993,
     "metadata": {},
     "output_type": "execute_result"
    },
    {
     "data": {
      "image/png": "[encoded data removed]",
      "text/plain": [
       "<Figure size 432x288 with 1 Axes>"
      ]
     },
     "metadata": {
      "needs_background": "light"
     },
     "output_type": "display_data"
    }
   ],
   "source": [
    "df.format[(df.title.isin(dups)) & (df.num_pages.isnull())].hist()"
   ]
  },
  {
   "cell_type": "markdown",
   "metadata": {},
   "source": [
    "The majority of these are ebooks, unknown, or audio. Therefore, by nature, they do not have page numbers in the traditonal sense. We will leave them. "
   ]
  },
  {
   "cell_type": "code",
   "execution_count": 994,
   "metadata": {},
   "outputs": [
    {
     "data": {
      "text/plain": [
       "ebook            33932\n",
       "audio             8591\n",
       "kindle            2898\n",
       "audible           1220\n",
       "unknown_other      122\n",
       "softcover          105\n",
       "hardcover           25\n",
       "multiple             6\n",
       "podiobook            5\n",
       "Name: format, dtype: int64"
      ]
     },
     "execution_count": 994,
     "metadata": {},
     "output_type": "execute_result"
    }
   ],
   "source": [
    "df.format[(df.num_pages == 0)].value_counts()"
   ]
  },
  {
   "cell_type": "code",
   "execution_count": 995,
   "metadata": {},
   "outputs": [
    {
     "data": {
      "text/plain": [
       "softcover        63369\n",
       "hardcover        23827\n",
       "unknown_other    18830\n",
       "ebook            15970\n",
       "kindle            9927\n",
       "audio             3192\n",
       "audible            809\n",
       "multiple            43\n",
       "large_print         28\n",
       "podiobook            7\n",
       "Name: format, dtype: int64"
      ]
     },
     "execution_count": 995,
     "metadata": {},
     "output_type": "execute_result"
    }
   ],
   "source": [
    "df.format[(df.num_pages != 0)].value_counts()"
   ]
  },
  {
   "cell_type": "markdown",
   "metadata": {},
   "source": [
    "There's more null values than 0 page numbers, with the most 0 values being audio books. "
   ]
  },
  {
   "cell_type": "code",
   "execution_count": 996,
   "metadata": {},
   "outputs": [
    {
     "data": {
      "text/plain": [
       "unknown_other    13333\n",
       "softcover         4815\n",
       "hardcover         1595\n",
       "large_print          1\n",
       "Name: format, dtype: int64"
      ]
     },
     "execution_count": 996,
     "metadata": {},
     "output_type": "execute_result"
    }
   ],
   "source": [
    "df.format[(df.num_pages.isnull())].value_counts()"
   ]
  },
  {
   "cell_type": "code",
   "execution_count": 997,
   "metadata": {},
   "outputs": [
    {
     "name": "stderr",
     "output_type": "stream",
     "text": [
      "<ipython-input-997-38f7f3fba0d9>:3: SettingWithCopyWarning: \n",
      "A value is trying to be set on a copy of a slice from a DataFrame\n",
      "\n",
      "See the caveats in the documentation: https://pandas.pydata.org/pandas-docs/stable/user_guide/indexing.html#returning-a-view-versus-a-copy\n",
      "  df.num_pages[(df.format.isin(page_form_list) & df.num_pages.isnull())] = 0.0\n"
     ]
    }
   ],
   "source": [
    "#Setting ebook, audio, kindle, audible, podiobook, and multiple to 0\n",
    "page_form_list = ['ebook', 'audio', 'kindle', 'audible','multiple','podiobook']\n",
    "df.num_pages[(df.format.isin(page_form_list) & df.num_pages.isnull())] = 0.0"
   ]
  },
  {
   "cell_type": "code",
   "execution_count": 998,
   "metadata": {},
   "outputs": [
    {
     "data": {
      "text/plain": [
       "unknown_other    13333\n",
       "softcover         4815\n",
       "hardcover         1595\n",
       "large_print          1\n",
       "Name: format, dtype: int64"
      ]
     },
     "execution_count": 998,
     "metadata": {},
     "output_type": "execute_result"
    }
   ],
   "source": [
    "df.format[(df.num_pages.isnull())].value_counts()"
   ]
  },
  {
   "cell_type": "code",
   "execution_count": 999,
   "metadata": {},
   "outputs": [
    {
     "data": {
      "text/plain": [
       "unknown_other    7211\n",
       "softcover        2495\n",
       "hardcover         862\n",
       "large_print         1\n",
       "Name: format, dtype: int64"
      ]
     },
     "execution_count": 999,
     "metadata": {},
     "output_type": "execute_result"
    }
   ],
   "source": [
    "df.format[(df.num_pages.isnull()) & (df.title.isin(dups))].value_counts()"
   ]
  },
  {
   "cell_type": "code",
   "execution_count": 1013,
   "metadata": {},
   "outputs": [],
   "source": [
    "test_group = df[df.title.isin(dups)]"
   ]
  },
  {
   "cell_type": "code",
   "execution_count": 1016,
   "metadata": {},
   "outputs": [
    {
     "data": {
      "text/html": [
       "<div>\n",
       "<style scoped>\n",
       "    .dataframe tbody tr th:only-of-type {\n",
       "        vertical-align: middle;\n",
       "    }\n",
       "\n",
       "    .dataframe tbody tr th {\n",
       "        vertical-align: top;\n",
       "    }\n",
       "\n",
       "    .dataframe thead th {\n",
       "        text-align: right;\n",
       "    }\n",
       "</style>\n",
       "<table border=\"1\" class=\"dataframe\">\n",
       "  <thead>\n",
       "    <tr style=\"text-align: right;\">\n",
       "      <th></th>\n",
       "      <th>text_reviews_count</th>\n",
       "      <th>series</th>\n",
       "      <th>country_code</th>\n",
       "      <th>language_code</th>\n",
       "      <th>popular_shelves</th>\n",
       "      <th>is_ebook</th>\n",
       "      <th>average_rating</th>\n",
       "      <th>similar_books</th>\n",
       "      <th>format</th>\n",
       "      <th>authors</th>\n",
       "      <th>publisher</th>\n",
       "      <th>num_pages</th>\n",
       "      <th>publication_month</th>\n",
       "      <th>edition_information</th>\n",
       "      <th>publication_year</th>\n",
       "      <th>book_id</th>\n",
       "      <th>ratings_count</th>\n",
       "      <th>work_id</th>\n",
       "      <th>title</th>\n",
       "      <th>title_without_series</th>\n",
       "    </tr>\n",
       "  </thead>\n",
       "  <tbody>\n",
       "    <tr>\n",
       "      <th>41762</th>\n",
       "      <td>11</td>\n",
       "      <td>[547176]</td>\n",
       "      <td>US</td>\n",
       "      <td>eng</td>\n",
       "      <td>[{'count': '55', 'name': 'to-read'}, {'count':...</td>\n",
       "      <td>false</td>\n",
       "      <td>3.84</td>\n",
       "      <td>[]</td>\n",
       "      <td>softcover</td>\n",
       "      <td>[{'author_id': '576663', 'role': ''}]</td>\n",
       "      <td>unknown</td>\n",
       "      <td>NaN</td>\n",
       "      <td>NaN</td>\n",
       "      <td>NaN</td>\n",
       "      <td>NaN</td>\n",
       "      <td>11807299</td>\n",
       "      <td>57</td>\n",
       "      <td>16760733</td>\n",
       "      <td>Black Heart</td>\n",
       "      <td>Black Heart</td>\n",
       "    </tr>\n",
       "    <tr>\n",
       "      <th>97024</th>\n",
       "      <td>16</td>\n",
       "      <td>[]</td>\n",
       "      <td>US</td>\n",
       "      <td>eng</td>\n",
       "      <td>[{'count': '231', 'name': 'to-read'}, {'count'...</td>\n",
       "      <td>false</td>\n",
       "      <td>3.78</td>\n",
       "      <td>[1207540, 1118874, 1098095, 876822, 1458480, 8...</td>\n",
       "      <td>softcover</td>\n",
       "      <td>[{'author_id': '39467', 'role': ''}]</td>\n",
       "      <td>Fawcett</td>\n",
       "      <td>704.0</td>\n",
       "      <td>3</td>\n",
       "      <td>NaN</td>\n",
       "      <td>1995</td>\n",
       "      <td>212346</td>\n",
       "      <td>788</td>\n",
       "      <td>775122</td>\n",
       "      <td>Black Heart</td>\n",
       "      <td>Black Heart</td>\n",
       "    </tr>\n",
       "    <tr>\n",
       "      <th>219221</th>\n",
       "      <td>1</td>\n",
       "      <td>[]</td>\n",
       "      <td>US</td>\n",
       "      <td>eng</td>\n",
       "      <td>[{'count': '231', 'name': 'to-read'}, {'count'...</td>\n",
       "      <td>false</td>\n",
       "      <td>3.78</td>\n",
       "      <td>[1207540, 1118874, 1098095, 876822, 1458480, 8...</td>\n",
       "      <td>unknown_other</td>\n",
       "      <td>[{'author_id': '39467', 'role': ''}]</td>\n",
       "      <td>unknown</td>\n",
       "      <td>NaN</td>\n",
       "      <td>NaN</td>\n",
       "      <td>NaN</td>\n",
       "      <td>NaN</td>\n",
       "      <td>2247090</td>\n",
       "      <td>7</td>\n",
       "      <td>775122</td>\n",
       "      <td>Black Heart</td>\n",
       "      <td>Black Heart</td>\n",
       "    </tr>\n",
       "  </tbody>\n",
       "</table>\n",
       "</div>"
      ],
      "text/plain": [
       "        text_reviews_count    series country_code language_code  \\\n",
       "41762                   11  [547176]           US           eng   \n",
       "97024                   16        []           US           eng   \n",
       "219221                   1        []           US           eng   \n",
       "\n",
       "                                          popular_shelves is_ebook  \\\n",
       "41762   [{'count': '55', 'name': 'to-read'}, {'count':...    false   \n",
       "97024   [{'count': '231', 'name': 'to-read'}, {'count'...    false   \n",
       "219221  [{'count': '231', 'name': 'to-read'}, {'count'...    false   \n",
       "\n",
       "        average_rating                                      similar_books  \\\n",
       "41762             3.84                                                 []   \n",
       "97024             3.78  [1207540, 1118874, 1098095, 876822, 1458480, 8...   \n",
       "219221            3.78  [1207540, 1118874, 1098095, 876822, 1458480, 8...   \n",
       "\n",
       "               format                                authors publisher  \\\n",
       "41762       softcover  [{'author_id': '576663', 'role': ''}]   unknown   \n",
       "97024       softcover   [{'author_id': '39467', 'role': ''}]   Fawcett   \n",
       "219221  unknown_other   [{'author_id': '39467', 'role': ''}]   unknown   \n",
       "\n",
       "        num_pages publication_month edition_information publication_year  \\\n",
       "41762         NaN               NaN                 NaN              NaN   \n",
       "97024       704.0                 3                 NaN             1995   \n",
       "219221        NaN               NaN                 NaN              NaN   \n",
       "\n",
       "         book_id  ratings_count   work_id        title title_without_series  \n",
       "41762   11807299             57  16760733  Black Heart          Black Heart  \n",
       "97024     212346            788    775122  Black Heart          Black Heart  \n",
       "219221   2247090              7    775122  Black Heart          Black Heart  "
      ]
     },
     "execution_count": 1016,
     "metadata": {},
     "output_type": "execute_result"
    }
   ],
   "source": [
    "test_group[test_group.title == 'Black Heart']"
   ]
  },
  {
   "cell_type": "code",
   "execution_count": 1019,
   "metadata": {},
   "outputs": [
    {
     "data": {
      "text/html": [
       "<div>\n",
       "<style scoped>\n",
       "    .dataframe tbody tr th:only-of-type {\n",
       "        vertical-align: middle;\n",
       "    }\n",
       "\n",
       "    .dataframe tbody tr th {\n",
       "        vertical-align: top;\n",
       "    }\n",
       "\n",
       "    .dataframe thead th {\n",
       "        text-align: right;\n",
       "    }\n",
       "</style>\n",
       "<table border=\"1\" class=\"dataframe\">\n",
       "  <thead>\n",
       "    <tr style=\"text-align: right;\">\n",
       "      <th></th>\n",
       "      <th>text_reviews_count</th>\n",
       "      <th>average_rating</th>\n",
       "      <th>num_pages</th>\n",
       "      <th>book_id</th>\n",
       "      <th>ratings_count</th>\n",
       "      <th>work_id</th>\n",
       "    </tr>\n",
       "  </thead>\n",
       "  <tbody>\n",
       "    <tr>\n",
       "      <th>count</th>\n",
       "      <td>106886.000000</td>\n",
       "      <td>106886.000000</td>\n",
       "      <td>96317.000000</td>\n",
       "      <td>1.068860e+05</td>\n",
       "      <td>1.068860e+05</td>\n",
       "      <td>1.068860e+05</td>\n",
       "    </tr>\n",
       "    <tr>\n",
       "      <th>mean</th>\n",
       "      <td>57.073555</td>\n",
       "      <td>3.838145</td>\n",
       "      <td>234.665957</td>\n",
       "      <td>1.424318e+07</td>\n",
       "      <td>8.711462e+02</td>\n",
       "      <td>1.678872e+07</td>\n",
       "    </tr>\n",
       "    <tr>\n",
       "      <th>std</th>\n",
       "      <td>525.058105</td>\n",
       "      <td>0.295660</td>\n",
       "      <td>252.417281</td>\n",
       "      <td>1.040316e+07</td>\n",
       "      <td>1.288502e+04</td>\n",
       "      <td>1.780163e+07</td>\n",
       "    </tr>\n",
       "    <tr>\n",
       "      <th>min</th>\n",
       "      <td>0.000000</td>\n",
       "      <td>0.000000</td>\n",
       "      <td>0.000000</td>\n",
       "      <td>1.640000e+02</td>\n",
       "      <td>0.000000e+00</td>\n",
       "      <td>4.340000e+02</td>\n",
       "    </tr>\n",
       "    <tr>\n",
       "      <th>25%</th>\n",
       "      <td>3.000000</td>\n",
       "      <td>3.670000</td>\n",
       "      <td>0.000000</td>\n",
       "      <td>5.216116e+06</td>\n",
       "      <td>1.100000e+01</td>\n",
       "      <td>1.603174e+06</td>\n",
       "    </tr>\n",
       "    <tr>\n",
       "      <th>50%</th>\n",
       "      <td>7.000000</td>\n",
       "      <td>3.860000</td>\n",
       "      <td>272.000000</td>\n",
       "      <td>1.316131e+07</td>\n",
       "      <td>4.000000e+01</td>\n",
       "      <td>8.586623e+06</td>\n",
       "    </tr>\n",
       "    <tr>\n",
       "      <th>75%</th>\n",
       "      <td>22.000000</td>\n",
       "      <td>4.030000</td>\n",
       "      <td>368.000000</td>\n",
       "      <td>2.273269e+07</td>\n",
       "      <td>1.740000e+02</td>\n",
       "      <td>2.595723e+07</td>\n",
       "    </tr>\n",
       "    <tr>\n",
       "      <th>max</th>\n",
       "      <td>78438.000000</td>\n",
       "      <td>5.000000</td>\n",
       "      <td>52015.000000</td>\n",
       "      <td>3.651716e+07</td>\n",
       "      <td>2.046499e+06</td>\n",
       "      <td>5.836634e+07</td>\n",
       "    </tr>\n",
       "  </tbody>\n",
       "</table>\n",
       "</div>"
      ],
      "text/plain": [
       "       text_reviews_count  average_rating     num_pages       book_id  \\\n",
       "count       106886.000000   106886.000000  96317.000000  1.068860e+05   \n",
       "mean            57.073555        3.838145    234.665957  1.424318e+07   \n",
       "std            525.058105        0.295660    252.417281  1.040316e+07   \n",
       "min              0.000000        0.000000      0.000000  1.640000e+02   \n",
       "25%              3.000000        3.670000      0.000000  5.216116e+06   \n",
       "50%              7.000000        3.860000    272.000000  1.316131e+07   \n",
       "75%             22.000000        4.030000    368.000000  2.273269e+07   \n",
       "max          78438.000000        5.000000  52015.000000  3.651716e+07   \n",
       "\n",
       "       ratings_count       work_id  \n",
       "count   1.068860e+05  1.068860e+05  \n",
       "mean    8.711462e+02  1.678872e+07  \n",
       "std     1.288502e+04  1.780163e+07  \n",
       "min     0.000000e+00  4.340000e+02  \n",
       "25%     1.100000e+01  1.603174e+06  \n",
       "50%     4.000000e+01  8.586623e+06  \n",
       "75%     1.740000e+02  2.595723e+07  \n",
       "max     2.046499e+06  5.836634e+07  "
      ]
     },
     "execution_count": 1019,
     "metadata": {},
     "output_type": "execute_result"
    }
   ],
   "source": [
    "test_group.describe()"
   ]
  },
  {
   "cell_type": "code",
   "execution_count": 1021,
   "metadata": {},
   "outputs": [
    {
     "data": {
      "text/html": [
       "<div>\n",
       "<style scoped>\n",
       "    .dataframe tbody tr th:only-of-type {\n",
       "        vertical-align: middle;\n",
       "    }\n",
       "\n",
       "    .dataframe tbody tr th {\n",
       "        vertical-align: top;\n",
       "    }\n",
       "\n",
       "    .dataframe thead th {\n",
       "        text-align: right;\n",
       "    }\n",
       "</style>\n",
       "<table border=\"1\" class=\"dataframe\">\n",
       "  <thead>\n",
       "    <tr style=\"text-align: right;\">\n",
       "      <th></th>\n",
       "      <th>text_reviews_count</th>\n",
       "      <th>series</th>\n",
       "      <th>country_code</th>\n",
       "      <th>language_code</th>\n",
       "      <th>popular_shelves</th>\n",
       "      <th>is_ebook</th>\n",
       "      <th>average_rating</th>\n",
       "      <th>similar_books</th>\n",
       "      <th>format</th>\n",
       "      <th>authors</th>\n",
       "      <th>publisher</th>\n",
       "      <th>num_pages</th>\n",
       "      <th>publication_month</th>\n",
       "      <th>edition_information</th>\n",
       "      <th>publication_year</th>\n",
       "      <th>book_id</th>\n",
       "      <th>ratings_count</th>\n",
       "      <th>work_id</th>\n",
       "      <th>title</th>\n",
       "      <th>title_without_series</th>\n",
       "    </tr>\n",
       "  </thead>\n",
       "  <tbody>\n",
       "    <tr>\n",
       "      <th>3</th>\n",
       "      <td>8</td>\n",
       "      <td>[408775]</td>\n",
       "      <td>US</td>\n",
       "      <td>eng</td>\n",
       "      <td>[{'count': '51', 'name': 'to-read'}, {'count':...</td>\n",
       "      <td>false</td>\n",
       "      <td>3.30</td>\n",
       "      <td>[]</td>\n",
       "      <td>hardcover</td>\n",
       "      <td>[{'author_id': '190988', 'role': ''}]</td>\n",
       "      <td>Ulverscroft</td>\n",
       "      <td>NaN</td>\n",
       "      <td>12</td>\n",
       "      <td>Large Print</td>\n",
       "      <td>1975</td>\n",
       "      <td>1902202</td>\n",
       "      <td>52</td>\n",
       "      <td>1903897</td>\n",
       "      <td>Dead in the Morning (Patrick Grant, #1)</td>\n",
       "      <td>Dead in the Morning (Patrick Grant, #1)</td>\n",
       "    </tr>\n",
       "    <tr>\n",
       "      <th>5</th>\n",
       "      <td>3</td>\n",
       "      <td>[199039]</td>\n",
       "      <td>US</td>\n",
       "      <td>eng</td>\n",
       "      <td>[{'count': '1694', 'name': 'mystery'}, {'count...</td>\n",
       "      <td>false</td>\n",
       "      <td>3.96</td>\n",
       "      <td>[93575, 280849, 243401, 77617]</td>\n",
       "      <td>audio</td>\n",
       "      <td>[{'author_id': '123715', 'role': ''}, {'author...</td>\n",
       "      <td>HarperAudio</td>\n",
       "      <td>0.0</td>\n",
       "      <td>3</td>\n",
       "      <td>NaN</td>\n",
       "      <td>2013</td>\n",
       "      <td>16158998</td>\n",
       "      <td>5</td>\n",
       "      <td>2288775</td>\n",
       "      <td>A Murder is Announced</td>\n",
       "      <td>A Murder is Announced</td>\n",
       "    </tr>\n",
       "    <tr>\n",
       "      <th>6</th>\n",
       "      <td>5</td>\n",
       "      <td>[]</td>\n",
       "      <td>US</td>\n",
       "      <td>eng</td>\n",
       "      <td>[{'count': '27', 'name': 'to-read'}, {'count':...</td>\n",
       "      <td>true</td>\n",
       "      <td>3.80</td>\n",
       "      <td>[]</td>\n",
       "      <td>ebook</td>\n",
       "      <td>[{'author_id': '13658169', 'role': ''}]</td>\n",
       "      <td>unknown</td>\n",
       "      <td>0.0</td>\n",
       "      <td>NaN</td>\n",
       "      <td>NaN</td>\n",
       "      <td>NaN</td>\n",
       "      <td>25162836</td>\n",
       "      <td>8</td>\n",
       "      <td>44866515</td>\n",
       "      <td>Dark Flames Rising</td>\n",
       "      <td>Dark Flames Rising</td>\n",
       "    </tr>\n",
       "    <tr>\n",
       "      <th>8</th>\n",
       "      <td>6</td>\n",
       "      <td>[]</td>\n",
       "      <td>US</td>\n",
       "      <td>eng</td>\n",
       "      <td>[{'count': '171', 'name': 'to-read'}, {'count'...</td>\n",
       "      <td>false</td>\n",
       "      <td>4.14</td>\n",
       "      <td>[]</td>\n",
       "      <td>softcover</td>\n",
       "      <td>[{'author_id': '4577517', 'role': ''}]</td>\n",
       "      <td>280 Steps</td>\n",
       "      <td>228.0</td>\n",
       "      <td>11</td>\n",
       "      <td>NaN</td>\n",
       "      <td>2014</td>\n",
       "      <td>22722787</td>\n",
       "      <td>18</td>\n",
       "      <td>42251489</td>\n",
       "      <td>The Cost of Doing Business</td>\n",
       "      <td>The Cost of Doing Business</td>\n",
       "    </tr>\n",
       "    <tr>\n",
       "      <th>9</th>\n",
       "      <td>2</td>\n",
       "      <td>[199041]</td>\n",
       "      <td>US</td>\n",
       "      <td>eng</td>\n",
       "      <td>[{'count': '1642', 'name': 'mystery'}, {'count...</td>\n",
       "      <td>false</td>\n",
       "      <td>3.93</td>\n",
       "      <td>[126675, 280990, 660268, 77615, 909334, 243398]</td>\n",
       "      <td>audio</td>\n",
       "      <td>[{'author_id': '123715', 'role': ''}, {'author...</td>\n",
       "      <td>HarperAudio</td>\n",
       "      <td>0.0</td>\n",
       "      <td>3</td>\n",
       "      <td>NaN</td>\n",
       "      <td>2013</td>\n",
       "      <td>16158996</td>\n",
       "      <td>5</td>\n",
       "      <td>6490729</td>\n",
       "      <td>4:50 From Paddington</td>\n",
       "      <td>4:50 From Paddington</td>\n",
       "    </tr>\n",
       "    <tr>\n",
       "      <th>...</th>\n",
       "      <td>...</td>\n",
       "      <td>...</td>\n",
       "      <td>...</td>\n",
       "      <td>...</td>\n",
       "      <td>...</td>\n",
       "      <td>...</td>\n",
       "      <td>...</td>\n",
       "      <td>...</td>\n",
       "      <td>...</td>\n",
       "      <td>...</td>\n",
       "      <td>...</td>\n",
       "      <td>...</td>\n",
       "      <td>...</td>\n",
       "      <td>...</td>\n",
       "      <td>...</td>\n",
       "      <td>...</td>\n",
       "      <td>...</td>\n",
       "      <td>...</td>\n",
       "      <td>...</td>\n",
       "      <td>...</td>\n",
       "    </tr>\n",
       "    <tr>\n",
       "      <th>219219</th>\n",
       "      <td>3</td>\n",
       "      <td>[]</td>\n",
       "      <td>US</td>\n",
       "      <td>eng</td>\n",
       "      <td>[{'count': '779', 'name': 'currently-reading'}...</td>\n",
       "      <td>false</td>\n",
       "      <td>3.94</td>\n",
       "      <td>[1227734, 482639, 4774462, 244474, 3991890, 51...</td>\n",
       "      <td>unknown_other</td>\n",
       "      <td>[{'author_id': '24689', 'role': ''}, {'author_...</td>\n",
       "      <td>Orion</td>\n",
       "      <td>5.0</td>\n",
       "      <td>NaN</td>\n",
       "      <td>NaN</td>\n",
       "      <td>NaN</td>\n",
       "      <td>2751632</td>\n",
       "      <td>6</td>\n",
       "      <td>14592071</td>\n",
       "      <td>Hold Tight</td>\n",
       "      <td>Hold Tight</td>\n",
       "    </tr>\n",
       "    <tr>\n",
       "      <th>219221</th>\n",
       "      <td>1</td>\n",
       "      <td>[]</td>\n",
       "      <td>US</td>\n",
       "      <td>eng</td>\n",
       "      <td>[{'count': '231', 'name': 'to-read'}, {'count'...</td>\n",
       "      <td>false</td>\n",
       "      <td>3.78</td>\n",
       "      <td>[1207540, 1118874, 1098095, 876822, 1458480, 8...</td>\n",
       "      <td>unknown_other</td>\n",
       "      <td>[{'author_id': '39467', 'role': ''}]</td>\n",
       "      <td>unknown</td>\n",
       "      <td>NaN</td>\n",
       "      <td>NaN</td>\n",
       "      <td>NaN</td>\n",
       "      <td>NaN</td>\n",
       "      <td>2247090</td>\n",
       "      <td>7</td>\n",
       "      <td>775122</td>\n",
       "      <td>Black Heart</td>\n",
       "      <td>Black Heart</td>\n",
       "    </tr>\n",
       "    <tr>\n",
       "      <th>219222</th>\n",
       "      <td>2</td>\n",
       "      <td>[789875]</td>\n",
       "      <td>US</td>\n",
       "      <td>eng</td>\n",
       "      <td>[{'count': '443', 'name': 'to-read'}, {'count'...</td>\n",
       "      <td>false</td>\n",
       "      <td>4.09</td>\n",
       "      <td>[]</td>\n",
       "      <td>hardcover</td>\n",
       "      <td>[{'author_id': '7011369', 'role': ''}]</td>\n",
       "      <td>Quercus Publishing Ltd</td>\n",
       "      <td>416.0</td>\n",
       "      <td>9</td>\n",
       "      <td>NaN</td>\n",
       "      <td>2015</td>\n",
       "      <td>27637705</td>\n",
       "      <td>9</td>\n",
       "      <td>44871703</td>\n",
       "      <td>Blood and Bone (Alice Madison, #3)</td>\n",
       "      <td>Blood and Bone (Alice Madison, #3)</td>\n",
       "    </tr>\n",
       "    <tr>\n",
       "      <th>219227</th>\n",
       "      <td>4</td>\n",
       "      <td>[]</td>\n",
       "      <td>US</td>\n",
       "      <td>eng</td>\n",
       "      <td>[{'count': '604', 'name': 'to-read'}, {'count'...</td>\n",
       "      <td>true</td>\n",
       "      <td>4.24</td>\n",
       "      <td>[]</td>\n",
       "      <td>kindle</td>\n",
       "      <td>[{'author_id': '7741497', 'role': ''}, {'autho...</td>\n",
       "      <td>Chromatic Press</td>\n",
       "      <td>219.0</td>\n",
       "      <td>9</td>\n",
       "      <td>NaN</td>\n",
       "      <td>2014</td>\n",
       "      <td>23363286</td>\n",
       "      <td>15</td>\n",
       "      <td>42919549</td>\n",
       "      <td>Dead Endings</td>\n",
       "      <td>Dead Endings</td>\n",
       "    </tr>\n",
       "    <tr>\n",
       "      <th>219233</th>\n",
       "      <td>7</td>\n",
       "      <td>[]</td>\n",
       "      <td>US</td>\n",
       "      <td>eng</td>\n",
       "      <td>[{'count': '36', 'name': 'to-read'}, {'count':...</td>\n",
       "      <td>true</td>\n",
       "      <td>4.00</td>\n",
       "      <td>[]</td>\n",
       "      <td>ebook</td>\n",
       "      <td>[{'author_id': '4590885', 'role': ''}]</td>\n",
       "      <td>unknown</td>\n",
       "      <td>0.0</td>\n",
       "      <td>9</td>\n",
       "      <td>NaN</td>\n",
       "      <td>2014</td>\n",
       "      <td>23252156</td>\n",
       "      <td>16</td>\n",
       "      <td>42794368</td>\n",
       "      <td>Wicked Reflection</td>\n",
       "      <td>Wicked Reflection</td>\n",
       "    </tr>\n",
       "  </tbody>\n",
       "</table>\n",
       "<p>58251 rows × 20 columns</p>\n",
       "</div>"
      ],
      "text/plain": [
       "        text_reviews_count    series country_code language_code  \\\n",
       "3                        8  [408775]           US           eng   \n",
       "5                        3  [199039]           US           eng   \n",
       "6                        5        []           US           eng   \n",
       "8                        6        []           US           eng   \n",
       "9                        2  [199041]           US           eng   \n",
       "...                    ...       ...          ...           ...   \n",
       "219219                   3        []           US           eng   \n",
       "219221                   1        []           US           eng   \n",
       "219222                   2  [789875]           US           eng   \n",
       "219227                   4        []           US           eng   \n",
       "219233                   7        []           US           eng   \n",
       "\n",
       "                                          popular_shelves is_ebook  \\\n",
       "3       [{'count': '51', 'name': 'to-read'}, {'count':...    false   \n",
       "5       [{'count': '1694', 'name': 'mystery'}, {'count...    false   \n",
       "6       [{'count': '27', 'name': 'to-read'}, {'count':...     true   \n",
       "8       [{'count': '171', 'name': 'to-read'}, {'count'...    false   \n",
       "9       [{'count': '1642', 'name': 'mystery'}, {'count...    false   \n",
       "...                                                   ...      ...   \n",
       "219219  [{'count': '779', 'name': 'currently-reading'}...    false   \n",
       "219221  [{'count': '231', 'name': 'to-read'}, {'count'...    false   \n",
       "219222  [{'count': '443', 'name': 'to-read'}, {'count'...    false   \n",
       "219227  [{'count': '604', 'name': 'to-read'}, {'count'...     true   \n",
       "219233  [{'count': '36', 'name': 'to-read'}, {'count':...     true   \n",
       "\n",
       "        average_rating                                      similar_books  \\\n",
       "3                 3.30                                                 []   \n",
       "5                 3.96                     [93575, 280849, 243401, 77617]   \n",
       "6                 3.80                                                 []   \n",
       "8                 4.14                                                 []   \n",
       "9                 3.93    [126675, 280990, 660268, 77615, 909334, 243398]   \n",
       "...                ...                                                ...   \n",
       "219219            3.94  [1227734, 482639, 4774462, 244474, 3991890, 51...   \n",
       "219221            3.78  [1207540, 1118874, 1098095, 876822, 1458480, 8...   \n",
       "219222            4.09                                                 []   \n",
       "219227            4.24                                                 []   \n",
       "219233            4.00                                                 []   \n",
       "\n",
       "               format                                            authors  \\\n",
       "3           hardcover              [{'author_id': '190988', 'role': ''}]   \n",
       "5               audio  [{'author_id': '123715', 'role': ''}, {'author...   \n",
       "6               ebook            [{'author_id': '13658169', 'role': ''}]   \n",
       "8           softcover             [{'author_id': '4577517', 'role': ''}]   \n",
       "9               audio  [{'author_id': '123715', 'role': ''}, {'author...   \n",
       "...               ...                                                ...   \n",
       "219219  unknown_other  [{'author_id': '24689', 'role': ''}, {'author_...   \n",
       "219221  unknown_other               [{'author_id': '39467', 'role': ''}]   \n",
       "219222      hardcover             [{'author_id': '7011369', 'role': ''}]   \n",
       "219227         kindle  [{'author_id': '7741497', 'role': ''}, {'autho...   \n",
       "219233          ebook             [{'author_id': '4590885', 'role': ''}]   \n",
       "\n",
       "                     publisher  num_pages publication_month  \\\n",
       "3                  Ulverscroft        NaN                12   \n",
       "5                  HarperAudio        0.0                 3   \n",
       "6                      unknown        0.0               NaN   \n",
       "8                    280 Steps      228.0                11   \n",
       "9                  HarperAudio        0.0                 3   \n",
       "...                        ...        ...               ...   \n",
       "219219                   Orion        5.0               NaN   \n",
       "219221                 unknown        NaN               NaN   \n",
       "219222  Quercus Publishing Ltd      416.0                 9   \n",
       "219227         Chromatic Press      219.0                 9   \n",
       "219233                 unknown        0.0                 9   \n",
       "\n",
       "       edition_information publication_year   book_id  ratings_count  \\\n",
       "3              Large Print             1975   1902202             52   \n",
       "5                      NaN             2013  16158998              5   \n",
       "6                      NaN              NaN  25162836              8   \n",
       "8                      NaN             2014  22722787             18   \n",
       "9                      NaN             2013  16158996              5   \n",
       "...                    ...              ...       ...            ...   \n",
       "219219                 NaN              NaN   2751632              6   \n",
       "219221                 NaN              NaN   2247090              7   \n",
       "219222                 NaN             2015  27637705              9   \n",
       "219227                 NaN             2014  23363286             15   \n",
       "219233                 NaN             2014  23252156             16   \n",
       "\n",
       "         work_id                                    title  \\\n",
       "3        1903897  Dead in the Morning (Patrick Grant, #1)   \n",
       "5        2288775                    A Murder is Announced   \n",
       "6       44866515                       Dark Flames Rising   \n",
       "8       42251489               The Cost of Doing Business   \n",
       "9        6490729                     4:50 From Paddington   \n",
       "...          ...                                      ...   \n",
       "219219  14592071                               Hold Tight   \n",
       "219221    775122                              Black Heart   \n",
       "219222  44871703       Blood and Bone (Alice Madison, #3)   \n",
       "219227  42919549                             Dead Endings   \n",
       "219233  42794368                        Wicked Reflection   \n",
       "\n",
       "                           title_without_series  \n",
       "3       Dead in the Morning (Patrick Grant, #1)  \n",
       "5                         A Murder is Announced  \n",
       "6                            Dark Flames Rising  \n",
       "8                    The Cost of Doing Business  \n",
       "9                          4:50 From Paddington  \n",
       "...                                         ...  \n",
       "219219                               Hold Tight  \n",
       "219221                              Black Heart  \n",
       "219222       Blood and Bone (Alice Madison, #3)  \n",
       "219227                             Dead Endings  \n",
       "219233                        Wicked Reflection  \n",
       "\n",
       "[58251 rows x 20 columns]"
      ]
     },
     "execution_count": 1021,
     "metadata": {},
     "output_type": "execute_result"
    }
   ],
   "source": [
    "test_group[(test_group.text_reviews_count <10) & (test_group.ratings_count<100)].dropna(thresh=3)"
   ]
  },
  {
   "cell_type": "code",
   "execution_count": 1022,
   "metadata": {},
   "outputs": [],
   "source": [
    "#Come back here"
   ]
  },
  {
   "cell_type": "code",
   "execution_count": null,
   "metadata": {},
   "outputs": [],
   "source": []
  },
  {
   "cell_type": "code",
   "execution_count": 1024,
   "metadata": {},
   "outputs": [
    {
     "data": {
      "text/plain": [
       "3057"
      ]
     },
     "execution_count": 1024,
     "metadata": {},
     "output_type": "execute_result"
    }
   ],
   "source": [
    "df.edition_information.nunique()"
   ]
  },
  {
   "cell_type": "code",
   "execution_count": 1026,
   "metadata": {},
   "outputs": [
    {
     "data": {
      "text/plain": [
       "Unabridged               2238\n",
       "Large Print              2196\n",
       "Abridged                  966\n",
       "First                     637\n",
       "First Edition             616\n",
       "                         ... \n",
       "Visual Novel                1\n",
       "Gold Medal 341              1\n",
       "Abridged; 2 cassettes       1\n",
       "PerfectBound(tm) v1         1\n",
       "Dominoes Two                1\n",
       "Name: edition_information, Length: 3057, dtype: int64"
      ]
     },
     "execution_count": 1026,
     "metadata": {},
     "output_type": "execute_result"
    }
   ],
   "source": [
    "df.edition_information.value_counts()"
   ]
  },
  {
   "cell_type": "code",
   "execution_count": 1030,
   "metadata": {},
   "outputs": [
    {
     "name": "stdout",
     "output_type": "stream",
     "text": [
      "nabridg results are:\n",
      " Unabridged                          2238\n",
      "Unabridged download                   62\n",
      "unabridged                            55\n",
      "Unabridged Audiobook                  38\n",
      "Unabridged - Audible Edition          33\n",
      "                                    ... \n",
      "Unabridged/eAudiobook                  1\n",
      "Unabridged; Playaway                   1\n",
      "Unabridged - US Digital Download       1\n",
      "unabridged: 9h 19min                   1\n",
      "unabridged on 8 cds                    1\n",
      "Name: edition_information, Length: 186, dtype: int64\n"
     ]
    }
   ],
   "source": [
    "find_formats(df,\"edition_information\", \"nabridg\")"
   ]
  },
  {
   "cell_type": "code",
   "execution_count": null,
   "metadata": {},
   "outputs": [],
   "source": []
  },
  {
   "cell_type": "code",
   "execution_count": 1031,
   "metadata": {},
   "outputs": [
    {
     "name": "stdout",
     "output_type": "stream",
     "text": [
      "casse results are:\n",
      " cassette                                                 2\n",
      "Six 1-hour cassettes                                     1\n",
      "7 sound cassettes (9.75 hr.) : analog                    1\n",
      "11 cassettes, 15.5  hours                                1\n",
      "Unabridged 5 sound cassette                              1\n",
      "unabridged 8 sound cassettes (8 hrs., 18 min.)           1\n",
      "Abridged, 4 audio cassettes, approximately 4.5 hours.    1\n",
      "Abridged; 2 cassettes                                    1\n",
      "10 cassettes                                             1\n",
      "Abridged; 2 sound cassettes (176 min.)                   1\n",
      "Name: edition_information, dtype: int64\n"
     ]
    }
   ],
   "source": [
    "find_formats(df,\"edition_information\", \"casse\")"
   ]
  },
  {
   "cell_type": "code",
   "execution_count": 1032,
   "metadata": {},
   "outputs": [
    {
     "name": "stdout",
     "output_type": "stream",
     "text": [
      "irst results are:\n",
      " First                                    637\n",
      "First Edition                            616\n",
      "first                                     96\n",
      "First edition                             85\n",
      "Facsimile of first edition                57\n",
      "                                        ... \n",
      "First eBook                                1\n",
      "reprint/first paperpack                    1\n",
      "First Corgi edition                        1\n",
      "Crossroad Press First Digital Edition      1\n",
      "Five Star First Edition                    1\n",
      "Name: edition_information, Length: 205, dtype: int64\n"
     ]
    }
   ],
   "source": [
    "find_formats(df,\"edition_information\", \"irst\")"
   ]
  },
  {
   "cell_type": "code",
   "execution_count": 1037,
   "metadata": {},
   "outputs": [
    {
     "name": "stdout",
     "output_type": "stream",
     "text": [
      "Large results are:\n",
      " Large Print                                       2196\n",
      "Large print                                         82\n",
      "Large Print Edition                                 36\n",
      "Large print edition                                  8\n",
      "Larger Print                                         6\n",
      "Ulverscroft Large Print                              4\n",
      "Large Print, Famous Authors Series                   3\n",
      "Large Print edition                                  3\n",
      "Large print book                                     2\n",
      "Thorndike Large Print                                2\n",
      "Thorndike Press Large Print Mystery Series           2\n",
      "Chivers Large Print Mystery                          2\n",
      "Harlequin Intrigue #1322 Larger Print                1\n",
      "Harlequin Intrigue #886 Larger Print                 1\n",
      "Charnwood Large Print                                1\n",
      "16 Point Large Print                                 1\n",
      "Large Print, Film Tie-in Edition                     1\n",
      "Wheeler Large Print                                  1\n",
      "First  Edition, Large Print                          1\n",
      "Large prints                                         1\n",
      "Large Print, Harlequin Intrigue #1063                1\n",
      "(Transaction Large Print Books)                      1\n",
      "Large Paperback (UK)                                 1\n",
      "Large Print, Abridged                                1\n",
      "Chivers Large Print                                  1\n",
      "Large print basic series                             1\n",
      "Large Print edition, First Edition                   1\n",
      "Thomson Large Print                                  1\n",
      "Large Print Home Library Edition                     1\n",
      "Thorndike Chivers Large Print                        1\n",
      "Paragon Large Print                                  1\n",
      "Berkley Large-Type Edition                           1\n",
      "Doubleday Large Print Home Library Edition           1\n",
      "Large Print Book Club Edition                        1\n",
      "Large  print edition                                 1\n",
      "Harlequin Intrigue #1339 Large Print, Thriller       1\n",
      "Curley Large Print                                   1\n",
      "Large Print Crime Scene                              1\n",
      "(Large Print)                                        1\n",
      "Large Edition                                        1\n",
      "Name: edition_information, dtype: int64\n"
     ]
    }
   ],
   "source": [
    "find_formats(df,\"edition_information\", \"Large\")"
   ]
  },
  {
   "cell_type": "code",
   "execution_count": 1038,
   "metadata": {},
   "outputs": [
    {
     "name": "stderr",
     "output_type": "stream",
     "text": [
      "/Users/jensensj/opt/anaconda3/lib/python3.8/site-packages/pandas/core/indexing.py:670: SettingWithCopyWarning: \n",
      "A value is trying to be set on a copy of a slice from a DataFrame\n",
      "\n",
      "See the caveats in the documentation: https://pandas.pydata.org/pandas-docs/stable/user_guide/indexing.html#returning-a-view-versus-a-copy\n",
      "  iloc._setitem_with_indexer(indexer, value)\n"
     ]
    }
   ],
   "source": [
    "change_formats(df,\"edition_information\", \"Large\", \"Large Print\")\n",
    "change_formats(df,\"edition_information\", \"large\", \"Large Print\")"
   ]
  },
  {
   "cell_type": "code",
   "execution_count": 1039,
   "metadata": {},
   "outputs": [
    {
     "name": "stderr",
     "output_type": "stream",
     "text": [
      "/Users/jensensj/opt/anaconda3/lib/python3.8/site-packages/pandas/core/indexing.py:670: SettingWithCopyWarning: \n",
      "A value is trying to be set on a copy of a slice from a DataFrame\n",
      "\n",
      "See the caveats in the documentation: https://pandas.pydata.org/pandas-docs/stable/user_guide/indexing.html#returning-a-view-versus-a-copy\n",
      "  iloc._setitem_with_indexer(indexer, value)\n"
     ]
    }
   ],
   "source": [
    "change_formats(df,\"edition_information\", \"casse\", \"Cassette\")"
   ]
  },
  {
   "cell_type": "code",
   "execution_count": 1040,
   "metadata": {},
   "outputs": [
    {
     "name": "stdout",
     "output_type": "stream",
     "text": [
      "Unabridg results are:\n",
      " Unabridged                                        2238\n",
      "Unabridged download                                 62\n",
      "Unabridged Audiobook                                38\n",
      "Unabridged - Audible Edition                        33\n",
      "Unabridged edition                                  22\n",
      "                                                  ... \n",
      "Audible Audio Edition Unabridged 10 hrs 59 min       1\n",
      "Audible Audio Edition Unabridged 4 hrs 31 min        1\n",
      "Unabridged, 7 hours and 26 minutes                   1\n",
      "Audiobook, Unabridged                                1\n",
      "Unabridged 10 Hours, 37 Minutes                      1\n",
      "Name: edition_information, Length: 161, dtype: int64\n"
     ]
    }
   ],
   "source": [
    "find_formats(df,\"edition_information\", \"Unabridg\")"
   ]
  },
  {
   "cell_type": "code",
   "execution_count": 1041,
   "metadata": {},
   "outputs": [
    {
     "name": "stdout",
     "output_type": "stream",
     "text": [
      "unabridg results are:\n",
      " unabridged                                                  55\n",
      "Audible - unabridged                                         8\n",
      "unabridged Audible download                                  6\n",
      "unabridged Aubible download                                  2\n",
      "unabridged selection                                         1\n",
      "Complete and unabridged                                      1\n",
      "eAudiobook/unabridged                                        1\n",
      "unabridged: 7h 35min                                         1\n",
      "unabridged audio                                             1\n",
      "Library Edition; unabridged                                  1\n",
      "unabridged on 8 cds                                          1\n",
      "MP3, unabridged                                              1\n",
      "1st unabridged edition                                       1\n",
      "Downloadable unabridged                                      1\n",
      "Complete and unabridged (6 sound discs (5 hr., 35 min.))     1\n",
      "unabridged audiobook                                         1\n",
      "unabridged playaway                                          1\n",
      "unabridged audio Library edition                             1\n",
      "only first episode - unabridged Audible download             1\n",
      "Audible, unabridged                                          1\n",
      "Complete and unabridged (10 discs)                           1\n",
      "unabridged: 9h 19min                                         1\n",
      "Kindle edition, unabridged                                   1\n",
      "Name: edition_information, dtype: int64\n"
     ]
    }
   ],
   "source": [
    "find_formats(df,\"edition_information\", \"unabridg\")"
   ]
  },
  {
   "cell_type": "code",
   "execution_count": 1042,
   "metadata": {},
   "outputs": [
    {
     "name": "stderr",
     "output_type": "stream",
     "text": [
      "/Users/jensensj/opt/anaconda3/lib/python3.8/site-packages/pandas/core/indexing.py:670: SettingWithCopyWarning: \n",
      "A value is trying to be set on a copy of a slice from a DataFrame\n",
      "\n",
      "See the caveats in the documentation: https://pandas.pydata.org/pandas-docs/stable/user_guide/indexing.html#returning-a-view-versus-a-copy\n",
      "  iloc._setitem_with_indexer(indexer, value)\n"
     ]
    }
   ],
   "source": [
    "change_formats(df,\"edition_information\", \"Unabridg\", \"Unabridged\")\n",
    "change_formats(df,\"edition_information\", \"unabridg\", \"Unabridged\")"
   ]
  },
  {
   "cell_type": "code",
   "execution_count": 1044,
   "metadata": {},
   "outputs": [
    {
     "data": {
      "text/plain": [
       "2824"
      ]
     },
     "execution_count": 1044,
     "metadata": {},
     "output_type": "execute_result"
    }
   ],
   "source": [
    "df.edition_information.nunique()"
   ]
  },
  {
   "cell_type": "code",
   "execution_count": 1048,
   "metadata": {},
   "outputs": [
    {
     "name": "stdout",
     "output_type": "stream",
     "text": [
      "First edition results are:\n",
      " First edition                                 85\n",
      "First edition. Jonathan Press Mystery J17.     1\n",
      "William Morrow First edition                   1\n",
      "Name: edition_information, dtype: int64\n"
     ]
    }
   ],
   "source": [
    "find_formats(df,\"edition_information\", \"First edition\")"
   ]
  },
  {
   "cell_type": "code",
   "execution_count": 1052,
   "metadata": {},
   "outputs": [
    {
     "data": {
      "text/plain": [
       "Unabridged                        2823\n",
       "Large Print                       2386\n",
       "Abridged                           966\n",
       "First                              637\n",
       "First Edition                      616\n",
       "1                                  480\n",
       "1st                                381\n",
       "1st Edition                        358\n",
       "eAudiobook                         183\n",
       "1st edition                        159\n",
       "2nd Edition                        123\n",
       "UK                                 121\n",
       "Second Edition                     112\n",
       "first                               96\n",
       "2nd edition                         92\n",
       "2nd                                 86\n",
       "First edition                       85\n",
       "British Library Crime Classics      79\n",
       "Audible Audio Edition               71\n",
       "2                                   67\n",
       "Second                              65\n",
       "Facsimile of first edition          57\n",
       "Reprint Edition                     56\n",
       "Name: edition_information, dtype: int64"
      ]
     },
     "execution_count": 1052,
     "metadata": {},
     "output_type": "execute_result"
    }
   ],
   "source": [
    "df.edition_information.value_counts().loc[df.edition_information.value_counts() >50]"
   ]
  },
  {
   "cell_type": "code",
   "execution_count": 1053,
   "metadata": {},
   "outputs": [
    {
     "name": "stderr",
     "output_type": "stream",
     "text": [
      "/Users/jensensj/opt/anaconda3/lib/python3.8/site-packages/pandas/core/indexing.py:670: SettingWithCopyWarning: \n",
      "A value is trying to be set on a copy of a slice from a DataFrame\n",
      "\n",
      "See the caveats in the documentation: https://pandas.pydata.org/pandas-docs/stable/user_guide/indexing.html#returning-a-view-versus-a-copy\n",
      "  iloc._setitem_with_indexer(indexer, value)\n"
     ]
    }
   ],
   "source": [
    "change_formats(df,'edition_information',\"First\", \"First Edition\")\n",
    "change_formats(df,'edition_information',\"1\", \"First Edition\")\n",
    "change_formats(df,'edition_information',\"1st\", \"First Edition\")\n",
    "change_formats(df,'edition_information',\"1st Edition\", \"First Edition\")\n",
    "change_formats(df,'edition_information',\"first\", \"First Edition\")\n",
    "change_formats(df,'edition_information',\"First edition\", \"First Edition\")\n",
    "change_formats(df,'edition_information',\"First\", \"First Edition\")"
   ]
  },
  {
   "cell_type": "code",
   "execution_count": 1202,
   "metadata": {},
   "outputs": [
    {
     "name": "stderr",
     "output_type": "stream",
     "text": [
      "/Users/jensensj/opt/anaconda3/lib/python3.8/site-packages/pandas/core/indexing.py:670: SettingWithCopyWarning: \n",
      "A value is trying to be set on a copy of a slice from a DataFrame\n",
      "\n",
      "See the caveats in the documentation: https://pandas.pydata.org/pandas-docs/stable/user_guide/indexing.html#returning-a-view-versus-a-copy\n",
      "  iloc._setitem_with_indexer(indexer, value)\n"
     ]
    }
   ],
   "source": [
    "change_formats(df,'edition_information',\"2nd Edition\", \"Second Edition\")\n",
    "change_formats(df,'edition_information',\"2nd edition\", \"Second Edition\")\n",
    "change_formats(df,'edition_information',\"2nd\", \"Second Edition\")\n",
    "change_formats(df,'edition_information',\"2\", \"Second Edition\")\n",
    "change_formats(df,'edition_information',\"Second\", \"Second Edition\")\n",
    "change_formats(df,'edition_information',\"second\", \"Second Edition\")"
   ]
  },
  {
   "cell_type": "code",
   "execution_count": 1056,
   "metadata": {},
   "outputs": [
    {
     "data": {
      "text/plain": [
       "First Edition                             3992\n",
       "Unabridged                                2823\n",
       "Large Print                               2386\n",
       "Abridged                                   966\n",
       "Second Edition                             844\n",
       "eAudiobook                                 183\n",
       "UK                                         121\n",
       "British Library Crime Classics              79\n",
       "Audible Audio Edition                       71\n",
       "Reprint Edition                             56\n",
       "Reprint                                     48\n",
       "Book Club Edition                           47\n",
       "Reprint edition                             45\n",
       "The Agatha Christie Mystery Collection      39\n",
       "UK Edition                                  38\n",
       "Oxford World's Classics                     37\n",
       "Kobo                                        36\n",
       "Digital                                     35\n",
       "U.K.                                        35\n",
       "Revised Edition                             34\n",
       "Kindle Edition                              31\n",
       "Kindle                                      30\n",
       "Penguin Modern Classics                     29\n",
       "Library Edition                             29\n",
       "Limited Edition                             28\n",
       "Omnibus                                     27\n",
       "UK edition                                  25\n",
       "Library                                     24\n",
       "Revised text                                24\n",
       "Agatha Christie Signature Edition           24\n",
       "Preloaded Digital Audio Player              23\n",
       "preloaded digital audio player              22\n",
       "Agatha Christie Mystery Collection          21\n",
       "Name: edition_information, dtype: int64"
      ]
     },
     "execution_count": 1056,
     "metadata": {},
     "output_type": "execute_result"
    }
   ],
   "source": [
    "df.edition_information.value_counts().loc[df.edition_information.value_counts() >20]"
   ]
  },
  {
   "cell_type": "code",
   "execution_count": 1061,
   "metadata": {},
   "outputs": [
    {
     "name": "stdout",
     "output_type": "stream",
     "text": [
      "lub results are:\n",
      " Book Club Edition                     47\n",
      "Book Club                              9\n",
      "Crime Club                             4\n",
      "book club edition                      3\n",
      "Detective Book Club                    3\n",
      "Crime Club edition                     2\n",
      "Book club                              2\n",
      "The Detective Club                     2\n",
      "Detective Book Club Edition            2\n",
      "Book club edition                      2\n",
      "Science Fiction Book Club              2\n",
      "The Detective Club edition             1\n",
      "Thriller Book Club Edition             1\n",
      "British book club edition              1\n",
      "Book club ed.                          1\n",
      "Target Book Club Pick                  1\n",
      "Book Club (BCE/BOMC) edition           1\n",
      "Exclusive Book Club Edition            1\n",
      "Pub. for The Crime Club                1\n",
      "Crime Club Edition                     1\n",
      "Book-of-the-Month-Club                 1\n",
      "Book of the Month Club                 1\n",
      "Expanded Book-Club Edition             1\n",
      "Book Club edition.                     1\n",
      "The Detective Book Club Edition        1\n",
      "Waterstones Book Club Edition          1\n",
      "Book-of-the-Month Club Compilation     1\n",
      "Trumpet Club special edition           1\n",
      "Book Club edition                      1\n",
      "Crime Club Selection SP345             1\n",
      "Mystery Book Club ed.                  1\n",
      "Name: edition_information, dtype: int64\n"
     ]
    }
   ],
   "source": [
    "find_formats(df,\"edition_information\", \"lub\")"
   ]
  },
  {
   "cell_type": "code",
   "execution_count": 1062,
   "metadata": {},
   "outputs": [
    {
     "name": "stderr",
     "output_type": "stream",
     "text": [
      "/Users/jensensj/opt/anaconda3/lib/python3.8/site-packages/pandas/core/indexing.py:670: SettingWithCopyWarning: \n",
      "A value is trying to be set on a copy of a slice from a DataFrame\n",
      "\n",
      "See the caveats in the documentation: https://pandas.pydata.org/pandas-docs/stable/user_guide/indexing.html#returning-a-view-versus-a-copy\n",
      "  iloc._setitem_with_indexer(indexer, value)\n"
     ]
    }
   ],
   "source": [
    "change_formats(df,\"edition_information\", \"lub\", \"Book Club Edition\")"
   ]
  },
  {
   "cell_type": "code",
   "execution_count": 1064,
   "metadata": {},
   "outputs": [
    {
     "name": "stdout",
     "output_type": "stream",
     "text": [
      "preloaded results are:\n",
      " preloaded digital audio player    22\n",
      "preloaded digital audio            2\n",
      "preloaded digital media player     1\n",
      "Playaway preloaded audiobook       1\n",
      "Name: edition_information, dtype: int64\n"
     ]
    }
   ],
   "source": [
    "find_formats(df,\"edition_information\", \"preloaded\")"
   ]
  },
  {
   "cell_type": "code",
   "execution_count": 1065,
   "metadata": {},
   "outputs": [
    {
     "name": "stderr",
     "output_type": "stream",
     "text": [
      "/Users/jensensj/opt/anaconda3/lib/python3.8/site-packages/pandas/core/indexing.py:670: SettingWithCopyWarning: \n",
      "A value is trying to be set on a copy of a slice from a DataFrame\n",
      "\n",
      "See the caveats in the documentation: https://pandas.pydata.org/pandas-docs/stable/user_guide/indexing.html#returning-a-view-versus-a-copy\n",
      "  iloc._setitem_with_indexer(indexer, value)\n"
     ]
    }
   ],
   "source": [
    "change_formats(df,\"edition_information\", \"preloaded\", \"Preloaded Audio Player\")"
   ]
  },
  {
   "cell_type": "code",
   "execution_count": 1066,
   "metadata": {},
   "outputs": [
    {
     "name": "stdout",
     "output_type": "stream",
     "text": [
      "UK results are:\n",
      " UK                                        121\n",
      "UK Edition                                 38\n",
      "UK edition                                 25\n",
      "UK Ed.                                      4\n",
      "UK Paperback                                3\n",
      "UK Trade Paperback                          3\n",
      "UK paperback edition                        2\n",
      "UK Airports edition                         2\n",
      "UK edition: Hardy Boys #34                  1\n",
      "UK Hardback                                 1\n",
      "Paperback UK                                1\n",
      "UK trade paperback                          1\n",
      "UK/Australia edition                        1\n",
      "UK Kindle Edition                           1\n",
      "Movie Tie-in UK / Australia / NZ            1\n",
      "Fifteenth Impression, UK                    1\n",
      "UK &amp; Commonwealth                       1\n",
      "UK hardback edition                         1\n",
      "UK Edition (Hardy Boys, #30)                1\n",
      "UK Eidtion                                  1\n",
      "UK Deluxe Limited Edition                   1\n",
      "UK Edition (Hardy Boys, #36)                1\n",
      "Penguin Modern Classics UK                  1\n",
      "UK / AU / NZ, 40th Anniversary Edition      1\n",
      "UK edition: Hardy Boys #33                  1\n",
      "UK Audio Edition                            1\n",
      "UK Title Edition                            1\n",
      "UK Airports                                 1\n",
      "UK Paperback Edition                        1\n",
      "UK / AUS                                    1\n",
      "Random House Group Ltd UK                   1\n",
      "Name: edition_information, dtype: int64\n"
     ]
    }
   ],
   "source": [
    "find_formats(df,\"edition_information\", \"UK\")"
   ]
  },
  {
   "cell_type": "code",
   "execution_count": 1067,
   "metadata": {},
   "outputs": [
    {
     "name": "stderr",
     "output_type": "stream",
     "text": [
      "/Users/jensensj/opt/anaconda3/lib/python3.8/site-packages/pandas/core/indexing.py:670: SettingWithCopyWarning: \n",
      "A value is trying to be set on a copy of a slice from a DataFrame\n",
      "\n",
      "See the caveats in the documentation: https://pandas.pydata.org/pandas-docs/stable/user_guide/indexing.html#returning-a-view-versus-a-copy\n",
      "  iloc._setitem_with_indexer(indexer, value)\n"
     ]
    }
   ],
   "source": [
    "change_formats_formats(df,\"edition_information\", \"UK\", \"UK Edition\")"
   ]
  },
  {
   "cell_type": "code",
   "execution_count": 1069,
   "metadata": {},
   "outputs": [
    {
     "name": "stdout",
     "output_type": "stream",
     "text": [
      "3rd results are:\n",
      " 3rd edition                      19\n",
      "3rd                              13\n",
      "3rd Edition                      10\n",
      "3rd printing edition              2\n",
      "3rd Reprint                       1\n",
      "3rd Edition, revised              1\n",
      "3rd Paperback Printing            1\n",
      "3rd Impression                    1\n",
      "3rd pocket size printing, 346     1\n",
      "3rd Edition, Revised Edition      1\n",
      "3rd edition Special edition       1\n",
      "3rd printing                      1\n",
      "Name: edition_information, dtype: int64\n"
     ]
    }
   ],
   "source": [
    "find_formats(df,\"edition_information\", \"3rd\")"
   ]
  },
  {
   "cell_type": "code",
   "execution_count": 1070,
   "metadata": {},
   "outputs": [
    {
     "name": "stdout",
     "output_type": "stream",
     "text": [
      "ird results are:\n",
      " Third Edition                               14\n",
      "Third                                        8\n",
      "Third Printing                               3\n",
      "Third edition                                2\n",
      "Third Dell Printing                          1\n",
      "Third Crest Printing                         1\n",
      "Third Printing Before Publication            1\n",
      "Third Edition- Author's Prefered Edition     1\n",
      "REVISED-Third Edition                        1\n",
      "REVISED/Third Edition                        1\n",
      "Name: edition_information, dtype: int64\n"
     ]
    }
   ],
   "source": [
    "find_formats(df,\"edition_information\", \"ird\")"
   ]
  },
  {
   "cell_type": "code",
   "execution_count": 1078,
   "metadata": {},
   "outputs": [],
   "source": [
    "change_formats(df,\"edition_information\", \"3rd\", \"Third Edition\")\n",
    "change_formats(df,\"edition_information\", \"ird\", \"Third Edition\")\n",
    "change_formats(df,\"edition_information\", \"3\", \"Third Edition\")"
   ]
  },
  {
   "cell_type": "code",
   "execution_count": 1079,
   "metadata": {},
   "outputs": [
    {
     "name": "stdout",
     "output_type": "stream",
     "text": [
      "ourt results are:\n",
      " Fourth Edition    25\n",
      "Name: edition_information, dtype: int64\n"
     ]
    }
   ],
   "source": [
    "find_formats(df,\"edition_information\", \"ourt\")"
   ]
  },
  {
   "cell_type": "code",
   "execution_count": 1080,
   "metadata": {},
   "outputs": [],
   "source": [
    "change_formats(df,\"edition_information\", \"ourt\", \"Fourth Edition\")\n",
    "change_formats(df,\"edition_information\", \"4th\", \"Fourth Edition\")"
   ]
  },
  {
   "cell_type": "code",
   "execution_count": 1081,
   "metadata": {},
   "outputs": [
    {
     "name": "stdout",
     "output_type": "stream",
     "text": [
      "limi results are:\n",
      " signed limited to 500 numbered copies                          5\n",
      "signed limited to 750 numbered copies                          4\n",
      "signed limited to 450 numbered copies                          2\n",
      "limited edition hardcover                                      1\n",
      "signed limited to 400 numbered copies                          1\n",
      "signed limited to 90 numbered copies                           1\n",
      "signed limited to 85 numbered copies                           1\n",
      "signed limited to 750 unnumbered copies                        1\n",
      "special limited print edition                                  1\n",
      "Black Voltage Edition, signed limited to 75 numbered copies    1\n",
      "signed limited to 500 numbered copies (slipcase optional)      1\n",
      "limited Edition                                                1\n",
      "signed limited to 57 numbered copies                           1\n",
      "signed slipcased edition limited to 750 numbered copies        1\n",
      "Name: edition_information, dtype: int64\n"
     ]
    }
   ],
   "source": [
    "find_formats(df,\"edition_information\", \"limi\")"
   ]
  },
  {
   "cell_type": "code",
   "execution_count": 1082,
   "metadata": {},
   "outputs": [
    {
     "name": "stderr",
     "output_type": "stream",
     "text": [
      "/Users/jensensj/opt/anaconda3/lib/python3.8/site-packages/pandas/core/indexing.py:670: SettingWithCopyWarning: \n",
      "A value is trying to be set on a copy of a slice from a DataFrame\n",
      "\n",
      "See the caveats in the documentation: https://pandas.pydata.org/pandas-docs/stable/user_guide/indexing.html#returning-a-view-versus-a-copy\n",
      "  iloc._setitem_with_indexer(indexer, value)\n"
     ]
    }
   ],
   "source": [
    "change_formats(df,\"edition_information\", \"limi\", \"Limited Edition\")"
   ]
  },
  {
   "cell_type": "code",
   "execution_count": 1086,
   "metadata": {},
   "outputs": [
    {
     "name": "stdout",
     "output_type": "stream",
     "text": [
      "evise results are:\n",
      " Revised Edition                              34\n",
      "Revised text                                 24\n",
      "Revised                                      13\n",
      "revised edition                               5\n",
      "Revised &amp; Updated Edition                 4\n",
      "Revised edition                               3\n",
      "Revised Cover                                 2\n",
      "revised                                       2\n",
      "Revised and Updated                           2\n",
      "New revised and updated paperback edition     1\n",
      "Revised Author's Edition                      1\n",
      "Revised and Updated Edition                   1\n",
      "Anniversary Edition - Revised Version         1\n",
      "Revised second edition                        1\n",
      "revised cover                                 1\n",
      "Name: edition_information, dtype: int64\n"
     ]
    }
   ],
   "source": [
    "find_formats(df,\"edition_information\", \"evise\")"
   ]
  },
  {
   "cell_type": "code",
   "execution_count": 1088,
   "metadata": {},
   "outputs": [
    {
     "name": "stdout",
     "output_type": "stream",
     "text": [
      "revisio results are:\n",
      " revision    1\n",
      "Name: edition_information, dtype: int64\n"
     ]
    }
   ],
   "source": [
    "find_formats(df,\"edition_information\", \"revisio\")"
   ]
  },
  {
   "cell_type": "code",
   "execution_count": 1090,
   "metadata": {},
   "outputs": [
    {
     "name": "stderr",
     "output_type": "stream",
     "text": [
      "/Users/jensensj/opt/anaconda3/lib/python3.8/site-packages/pandas/core/indexing.py:670: SettingWithCopyWarning: \n",
      "A value is trying to be set on a copy of a slice from a DataFrame\n",
      "\n",
      "See the caveats in the documentation: https://pandas.pydata.org/pandas-docs/stable/user_guide/indexing.html#returning-a-view-versus-a-copy\n",
      "  iloc._setitem_with_indexer(indexer, value)\n"
     ]
    }
   ],
   "source": [
    "change_formats(df,\"edition_information\", \"evise\", \"Revised Edition\")\n",
    "change_formats(df,\"edition_information\", \"revisio\", \"Revised Edition\")"
   ]
  },
  {
   "cell_type": "code",
   "execution_count": 1091,
   "metadata": {},
   "outputs": [
    {
     "data": {
      "text/plain": [
       "First Edition                             3992\n",
       "Unabridged                                2823\n",
       "Large Print                               2386\n",
       "Abridged                                   966\n",
       "Second Edition                             844\n",
       "UK Edition                                 221\n",
       "Third Edition                              215\n",
       "eAudiobook                                 183\n",
       "Book Club Edition                           98\n",
       "Revised Edition                             96\n",
       "British Library Crime Classics              79\n",
       "Audible Audio Edition                       71\n",
       "Reprint Edition                             56\n",
       "Limited Edition                             50\n",
       "Reprint                                     48\n",
       "Reprint edition                             45\n",
       "The Agatha Christie Mystery Collection      39\n",
       "Oxford World's Classics                     37\n",
       "Kobo                                        36\n",
       "Digital                                     35\n",
       "U.K.                                        35\n",
       "Kindle Edition                              31\n",
       "Kindle                                      30\n",
       "Library Edition                             29\n",
       "Penguin Modern Classics                     29\n",
       "Omnibus                                     27\n",
       "Preloaded Audio Player                      26\n",
       "Fourth Edition                              25\n",
       "Agatha Christie Signature Edition           24\n",
       "Library                                     24\n",
       "Preloaded Digital Audio Player              23\n",
       "Agatha Christie Mystery Collection          21\n",
       "Name: edition_information, dtype: int64"
      ]
     },
     "execution_count": 1091,
     "metadata": {},
     "output_type": "execute_result"
    }
   ],
   "source": [
    "df.edition_information.value_counts().loc[df.edition_information.value_counts() >20]"
   ]
  },
  {
   "cell_type": "code",
   "execution_count": 1092,
   "metadata": {},
   "outputs": [
    {
     "name": "stdout",
     "output_type": "stream",
     "text": [
      "eprint results are:\n",
      " Reprint Edition                                56\n",
      "Reprint                                        48\n",
      "Reprint edition                                45\n",
      "Reprint; U.S. paperback Edition                17\n",
      "reprint                                         8\n",
      "Collier Reprint                                 1\n",
      "Reprints Le Dahlia Noir                         1\n",
      "reprint under Grossett &amp; Dunlap imprint     1\n",
      "S5896; Reprint Edition edition                  1\n",
      "Reprint. U.S. Paperback                         1\n",
      "Crime Classic Reprint                           1\n",
      "Short Story Index Reprint Series                1\n",
      "Reprint of the Pantheon Books ed.               1\n",
      "Name: edition_information, dtype: int64\n"
     ]
    }
   ],
   "source": [
    "find_formats(df,\"edition_information\", \"eprint\")"
   ]
  },
  {
   "cell_type": "code",
   "execution_count": 1093,
   "metadata": {},
   "outputs": [
    {
     "name": "stderr",
     "output_type": "stream",
     "text": [
      "/Users/jensensj/opt/anaconda3/lib/python3.8/site-packages/pandas/core/indexing.py:670: SettingWithCopyWarning: \n",
      "A value is trying to be set on a copy of a slice from a DataFrame\n",
      "\n",
      "See the caveats in the documentation: https://pandas.pydata.org/pandas-docs/stable/user_guide/indexing.html#returning-a-view-versus-a-copy\n",
      "  iloc._setitem_with_indexer(indexer, value)\n"
     ]
    }
   ],
   "source": [
    "change_formats(df,\"edition_information\", \"eprint\", \"Reprint Edition\")"
   ]
  },
  {
   "cell_type": "code",
   "execution_count": 1097,
   "metadata": {},
   "outputs": [
    {
     "name": "stdout",
     "output_type": "stream",
     "text": [
      "ibrary Ed results are:\n",
      " Library Edition                        29\n",
      "Popular Library Edition                 1\n",
      "(Library Edition)                       1\n",
      "School &amp; Library Edition            1\n",
      "Scholastic Library Edition              1\n",
      "Library Ed.                             1\n",
      "Audio Library Edition                   1\n",
      "Wordsworth Classics Library Edition     1\n",
      "Special Library Edition                 1\n",
      "Name: edition_information, dtype: int64\n"
     ]
    }
   ],
   "source": [
    "find_formats(df,\"edition_information\", \"ibrary Ed\")"
   ]
  },
  {
   "cell_type": "code",
   "execution_count": 1123,
   "metadata": {},
   "outputs": [
    {
     "name": "stdout",
     "output_type": "stream",
     "text": [
      "Library results are:\n",
      " British Library Crime Classics                         79\n",
      "Library Edition                                        63\n",
      "Library                                                24\n",
      "Penguin English Library                                 5\n",
      "Library Binding                                         3\n",
      "True Crime Library                                      2\n",
      "British Library Classics                                2\n",
      "Popular Library                                         1\n",
      "Neversink Library                                       1\n",
      "Listening Library                                       1\n",
      "Perennial Library P456                                  1\n",
      "Wordsworth Library Collection                           1\n",
      "Perennial Library, P644                                 1\n",
      "Perennial Library                                       1\n",
      "Library of Contemporary Americana                       1\n",
      "The Barnes &amp; Noble Library of Essential Reading     1\n",
      "The Mystery Library                                     1\n",
      "Library of crime classics                               1\n",
      "Charmwood Library series                                1\n",
      "Rex Stout Library                                       1\n",
      "Otto Penzler's Sherlock Holmes Library                  1\n",
      "US, New American Library Essential Editions             1\n",
      "Whitman Classics Library                                1\n",
      "International Collectors Library                        1\n",
      "Educator Classic Library, #7                            1\n",
      "New American Library Obsidian                           1\n",
      "Modern Library                                          1\n",
      "Library of Crime Classics                               1\n",
      "(Perennial Library, P675)                               1\n",
      "Perennial Library P455                                  1\n",
      "New American Library Essential Editions                 1\n",
      "Popular Library #478                                    1\n",
      "Library Cd                                              1\n",
      "Ipl Library of Crime Classics                           1\n",
      "Turtleback School &amp; Library Binding Edition         1\n",
      "New American Library                                    1\n",
      "Library of America #94                                  1\n",
      "Barnes &amp; Noble Library of Essential Reading         1\n",
      "Name: edition_information, dtype: int64\n"
     ]
    }
   ],
   "source": [
    "find_formats(df,\"edition_information\", \"Library\")"
   ]
  },
  {
   "cell_type": "code",
   "execution_count": 1099,
   "metadata": {},
   "outputs": [
    {
     "name": "stderr",
     "output_type": "stream",
     "text": [
      "/Users/jensensj/opt/anaconda3/lib/python3.8/site-packages/pandas/core/indexing.py:670: SettingWithCopyWarning: \n",
      "A value is trying to be set on a copy of a slice from a DataFrame\n",
      "\n",
      "See the caveats in the documentation: https://pandas.pydata.org/pandas-docs/stable/user_guide/indexing.html#returning-a-view-versus-a-copy\n",
      "  iloc._setitem_with_indexer(indexer, value)\n"
     ]
    }
   ],
   "source": [
    "change_formats(df,\"edition_information\", \"ibrary Ed\", \"Library Edition\")\n",
    "change_formats(df,\"edition_information\", \"ibrary ed\", \"Library Edition\")"
   ]
  },
  {
   "cell_type": "code",
   "execution_count": 1103,
   "metadata": {},
   "outputs": [
    {
     "name": "stderr",
     "output_type": "stream",
     "text": [
      "/Users/jensensj/opt/anaconda3/lib/python3.8/site-packages/pandas/core/indexing.py:670: SettingWithCopyWarning: \n",
      "A value is trying to be set on a copy of a slice from a DataFrame\n",
      "\n",
      "See the caveats in the documentation: https://pandas.pydata.org/pandas-docs/stable/user_guide/indexing.html#returning-a-view-versus-a-copy\n",
      "  iloc._setitem_with_indexer(indexer, value)\n"
     ]
    }
   ],
   "source": [
    "change_formats(df,\"edition_information\", \"indle\", \"Kindle Edition\")"
   ]
  },
  {
   "cell_type": "code",
   "execution_count": 1125,
   "metadata": {},
   "outputs": [
    {
     "name": "stdout",
     "output_type": "stream",
     "text": [
      "player results are:\n",
      " Portable Digital Audioplayer    1\n",
      "Name: edition_information, dtype: int64\n"
     ]
    }
   ],
   "source": [
    "find_formats(df,\"edition_information\", \"player\")"
   ]
  },
  {
   "cell_type": "code",
   "execution_count": 1126,
   "metadata": {},
   "outputs": [
    {
     "name": "stderr",
     "output_type": "stream",
     "text": [
      "/Users/jensensj/opt/anaconda3/lib/python3.8/site-packages/pandas/core/indexing.py:670: SettingWithCopyWarning: \n",
      "A value is trying to be set on a copy of a slice from a DataFrame\n",
      "\n",
      "See the caveats in the documentation: https://pandas.pydata.org/pandas-docs/stable/user_guide/indexing.html#returning-a-view-versus-a-copy\n",
      "  iloc._setitem_with_indexer(indexer, value)\n"
     ]
    }
   ],
   "source": [
    "change_formats(df,\"edition_information\", \"loaded\", \"Preloaded Audio Player\")\n",
    "change_formats(df,\"edition_information\", \"player\", \"Preloaded Audio Player\")\n"
   ]
  },
  {
   "cell_type": "code",
   "execution_count": 1127,
   "metadata": {},
   "outputs": [
    {
     "data": {
      "text/plain": [
       "First Edition                             3992\n",
       "Unabridged                                2823\n",
       "Large Print                               2386\n",
       "Abridged Edition                           994\n",
       "Second Edition                             844\n",
       "UK Edition                                 265\n",
       "Third Edition                              215\n",
       "eAudiobook                                 183\n",
       "Reprint Edition                            182\n",
       "Book Club Edition                           98\n",
       "Revised Edition                             96\n",
       "Kindle Edition                              92\n",
       "British Library Crime Classics              79\n",
       "Audible Audio Edition                       71\n",
       "Library Edition                             63\n",
       "Preloaded Audio Player                      53\n",
       "Limited Edition                             50\n",
       "The Agatha Christie Mystery Collection      39\n",
       "Oxford World's Classics                     37\n",
       "Kobo                                        36\n",
       "Digital                                     35\n",
       "Penguin Modern Classics                     29\n",
       "Omnibus                                     27\n",
       "Fourth Edition                              25\n",
       "Agatha Christie Signature Edition           24\n",
       "Library                                     24\n",
       "Agatha Christie Mystery Collection          21\n",
       "Name: edition_information, dtype: int64"
      ]
     },
     "execution_count": 1127,
     "metadata": {},
     "output_type": "execute_result"
    }
   ],
   "source": [
    "df.edition_information.value_counts().loc[df.edition_information.value_counts() >20]"
   ]
  },
  {
   "cell_type": "code",
   "execution_count": 1128,
   "metadata": {},
   "outputs": [
    {
     "name": "stderr",
     "output_type": "stream",
     "text": [
      "/Users/jensensj/opt/anaconda3/lib/python3.8/site-packages/pandas/core/indexing.py:670: SettingWithCopyWarning: \n",
      "A value is trying to be set on a copy of a slice from a DataFrame\n",
      "\n",
      "See the caveats in the documentation: https://pandas.pydata.org/pandas-docs/stable/user_guide/indexing.html#returning-a-view-versus-a-copy\n",
      "  iloc._setitem_with_indexer(indexer, value)\n"
     ]
    }
   ],
   "source": [
    "change_formats(df,\"edition_information\", \"Abridged\", \"Abridged Edition\")"
   ]
  },
  {
   "cell_type": "code",
   "execution_count": 1129,
   "metadata": {},
   "outputs": [
    {
     "data": {
      "text/plain": [
       "First Edition                             3992\n",
       "Unabridged                                2823\n",
       "Large Print                               2386\n",
       "Abridged Edition                           994\n",
       "Second Edition                             844\n",
       "UK Edition                                 265\n",
       "Third Edition                              215\n",
       "eAudiobook                                 183\n",
       "Reprint Edition                            182\n",
       "Book Club Edition                           98\n",
       "Revised Edition                             96\n",
       "Kindle Edition                              92\n",
       "British Library Crime Classics              79\n",
       "Audible Audio Edition                       71\n",
       "Library Edition                             63\n",
       "Preloaded Audio Player                      53\n",
       "Limited Edition                             50\n",
       "The Agatha Christie Mystery Collection      39\n",
       "Oxford World's Classics                     37\n",
       "Kobo                                        36\n",
       "Digital                                     35\n",
       "Penguin Modern Classics                     29\n",
       "Omnibus                                     27\n",
       "Fourth Edition                              25\n",
       "Agatha Christie Signature Edition           24\n",
       "Library                                     24\n",
       "Agatha Christie Mystery Collection          21\n",
       "Name: edition_information, dtype: int64"
      ]
     },
     "execution_count": 1129,
     "metadata": {},
     "output_type": "execute_result"
    }
   ],
   "source": [
    "df.edition_information.value_counts().loc[df.edition_information.value_counts() >20]"
   ]
  },
  {
   "cell_type": "code",
   "execution_count": null,
   "metadata": {},
   "outputs": [],
   "source": []
  },
  {
   "cell_type": "code",
   "execution_count": 1162,
   "metadata": {},
   "outputs": [],
   "source": [
    "change_formats(df,\"edition_information\", \"ovie\", \"Movie Tie-in Edition\")"
   ]
  },
  {
   "cell_type": "code",
   "execution_count": 1131,
   "metadata": {},
   "outputs": [
    {
     "data": {
      "text/plain": [
       "First Edition                             3992\n",
       "Unabridged                                2823\n",
       "Large Print                               2386\n",
       "Abridged Edition                           994\n",
       "Second Edition                             844\n",
       "UK Edition                                 265\n",
       "Third Edition                              215\n",
       "eAudiobook                                 183\n",
       "Reprint Edition                            182\n",
       "Book Club Edition                           98\n",
       "Revised Edition                             96\n",
       "Kindle Edition                              92\n",
       "British Library Crime Classics              79\n",
       "Audible Audio Edition                       71\n",
       "Library Edition                             63\n",
       "Preloaded Audio Player                      53\n",
       "Limited Edition                             50\n",
       "The Agatha Christie Mystery Collection      39\n",
       "Oxford World's Classics                     37\n",
       "Kobo                                        36\n",
       "Digital                                     35\n",
       "Penguin Modern Classics                     29\n",
       "Omnibus                                     27\n",
       "Fourth Edition                              25\n",
       "Agatha Christie Signature Edition           24\n",
       "Library                                     24\n",
       "Agatha Christie Mystery Collection          21\n",
       "Masterpieces in Miniature                   20\n",
       "Alternate Cover Edition                     20\n",
       "WMA                                         19\n",
       "Penguin Popular Classics                    18\n",
       "Illustrated Edition                         18\n",
       "ARC                                         18\n",
       "Paperback Original                          17\n",
       "New Edition                                 17\n",
       "Movie Tie-In Edition                        17\n",
       "Akashic Noir                                16\n",
       "US Edition                                  16\n",
       "epub                                        16\n",
       "Anniversary Edition                         14\n",
       "Golden Press Oval Edition                   14\n",
       "Nook                                        14\n",
       "Illustrated                                 14\n",
       "Paperback                                   14\n",
       "Nook Edition                                13\n",
       "Smashwords Edition                          13\n",
       "Trade Paperback                             13\n",
       "International Edition                       13\n",
       "Movie Tie-In                                13\n",
       "US                                          12\n",
       "Audiobook                                   12\n",
       "ACE                                         11\n",
       "Short story                                 11\n",
       "Canadian                                    11\n",
       "Cassette                                    11\n",
       "Original text                               11\n",
       "Smashwords                                  11\n",
       "Epub                                        11\n",
       "Name: edition_information, dtype: int64"
      ]
     },
     "execution_count": 1131,
     "metadata": {},
     "output_type": "execute_result"
    }
   ],
   "source": [
    "df.edition_information.value_counts().loc[df.edition_information.value_counts() >10]"
   ]
  },
  {
   "cell_type": "code",
   "execution_count": 1132,
   "metadata": {},
   "outputs": [
    {
     "name": "stdout",
     "output_type": "stream",
     "text": [
      "igital results are:\n",
      " Digital                                    35\n",
      "Digital Download Edition                    6\n",
      "Digital Download                            5\n",
      "Digital Edition                             3\n",
      "Downloadable digital audio                  2\n",
      "Digital sound file                          1\n",
      "Digital edition                             1\n",
      "Crossroad Press Digital Edition edition     1\n",
      "Amazon Digital Services, Inc.               1\n",
      "Digital dowload                             1\n",
      "digital                                     1\n",
      "Digital Book                                1\n",
      "Playaway Digital Audio Player               1\n",
      "Crossroad Press Digital Edition             1\n",
      "Digital original                            1\n",
      "Digital download                            1\n",
      "Digital epub                                1\n",
      "Name: edition_information, dtype: int64\n"
     ]
    }
   ],
   "source": [
    "find_formats(df,\"edition_information\", \"igital\")"
   ]
  },
  {
   "cell_type": "code",
   "execution_count": 1133,
   "metadata": {},
   "outputs": [
    {
     "name": "stderr",
     "output_type": "stream",
     "text": [
      "/Users/jensensj/opt/anaconda3/lib/python3.8/site-packages/pandas/core/indexing.py:670: SettingWithCopyWarning: \n",
      "A value is trying to be set on a copy of a slice from a DataFrame\n",
      "\n",
      "See the caveats in the documentation: https://pandas.pydata.org/pandas-docs/stable/user_guide/indexing.html#returning-a-view-versus-a-copy\n",
      "  iloc._setitem_with_indexer(indexer, value)\n"
     ]
    }
   ],
   "source": [
    "change_formats(df,\"edition_information\", \"igital\", \"Digital Edition\")"
   ]
  },
  {
   "cell_type": "code",
   "execution_count": 1136,
   "metadata": {},
   "outputs": [
    {
     "name": "stderr",
     "output_type": "stream",
     "text": [
      "/Users/jensensj/opt/anaconda3/lib/python3.8/site-packages/pandas/core/indexing.py:670: SettingWithCopyWarning: \n",
      "A value is trying to be set on a copy of a slice from a DataFrame\n",
      "\n",
      "See the caveats in the documentation: https://pandas.pydata.org/pandas-docs/stable/user_guide/indexing.html#returning-a-view-versus-a-copy\n",
      "  iloc._setitem_with_indexer(indexer, value)\n"
     ]
    }
   ],
   "source": [
    "change_formats(df,\"edition_information\", \"Audible\", \"Audible Edition\")"
   ]
  },
  {
   "cell_type": "code",
   "execution_count": 1138,
   "metadata": {},
   "outputs": [
    {
     "name": "stderr",
     "output_type": "stream",
     "text": [
      "/Users/jensensj/opt/anaconda3/lib/python3.8/site-packages/pandas/core/indexing.py:670: SettingWithCopyWarning: \n",
      "A value is trying to be set on a copy of a slice from a DataFrame\n",
      "\n",
      "See the caveats in the documentation: https://pandas.pydata.org/pandas-docs/stable/user_guide/indexing.html#returning-a-view-versus-a-copy\n",
      "  iloc._setitem_with_indexer(indexer, value)\n"
     ]
    }
   ],
   "source": [
    "change_formats(df,\"edition_information\", \"Audio\", \"Audio Edition\")"
   ]
  },
  {
   "cell_type": "code",
   "execution_count": 1139,
   "metadata": {},
   "outputs": [
    {
     "data": {
      "text/plain": [
       "First Edition                             3992\n",
       "Unabridged                                2823\n",
       "Large Print                               2386\n",
       "Abridged Edition                           994\n",
       "Second Edition                             844\n",
       "Audio Edition                              283\n",
       "UK Edition                                 265\n",
       "Third Edition                              215\n",
       "Reprint Edition                            182\n",
       "Audible Edition                            120\n",
       "Book Club Edition                           98\n",
       "Revised Edition                             96\n",
       "Kindle Edition                              92\n",
       "British Library Crime Classics              79\n",
       "Library Edition                             63\n",
       "Digital Edition                             63\n",
       "Limited Edition                             50\n",
       "The Agatha Christie Mystery Collection      39\n",
       "Oxford World's Classics                     37\n",
       "Kobo                                        36\n",
       "Penguin Modern Classics                     29\n",
       "Omnibus                                     27\n",
       "Fourth Edition                              25\n",
       "Library                                     24\n",
       "Agatha Christie Signature Edition           24\n",
       "Agatha Christie Mystery Collection          21\n",
       "Alternate Cover Edition                     20\n",
       "Masterpieces in Miniature                   20\n",
       "WMA                                         19\n",
       "Illustrated Edition                         18\n",
       "Penguin Popular Classics                    18\n",
       "ARC                                         18\n",
       "New Edition                                 17\n",
       "Paperback Original                          17\n",
       "Movie Tie-In Edition                        17\n",
       "US Edition                                  16\n",
       "Akashic Noir                                16\n",
       "epub                                        16\n",
       "Nook                                        14\n",
       "Illustrated                                 14\n",
       "Paperback                                   14\n",
       "Anniversary Edition                         14\n",
       "Golden Press Oval Edition                   14\n",
       "Smashwords Edition                          13\n",
       "Movie Tie-In                                13\n",
       "Nook Edition                                13\n",
       "International Edition                       13\n",
       "Trade Paperback                             13\n",
       "US                                          12\n",
       "Short story                                 11\n",
       "Original text                               11\n",
       "Smashwords                                  11\n",
       "Epub                                        11\n",
       "ACE                                         11\n",
       "Canadian                                    11\n",
       "Cassette                                    11\n",
       "Name: edition_information, dtype: int64"
      ]
     },
     "execution_count": 1139,
     "metadata": {},
     "output_type": "execute_result"
    }
   ],
   "source": [
    "df.edition_information.value_counts().loc[df.edition_information.value_counts() >10]"
   ]
  },
  {
   "cell_type": "code",
   "execution_count": 1163,
   "metadata": {},
   "outputs": [],
   "source": [
    "change_formats(df,\"edition_information\", \"U.K\", \"UK Edition\")"
   ]
  },
  {
   "cell_type": "code",
   "execution_count": 1164,
   "metadata": {},
   "outputs": [],
   "source": [
    "change_formats(df,\"edition_information\", \"Canadi\", \"CA Edition\")"
   ]
  },
  {
   "cell_type": "code",
   "execution_count": 1165,
   "metadata": {},
   "outputs": [],
   "source": [
    "change_formats(df,\"edition_information\", \"AUS\", \"Australia Edition\")"
   ]
  },
  {
   "cell_type": "code",
   "execution_count": 1166,
   "metadata": {},
   "outputs": [],
   "source": [
    "change_formats(df,\"edition_information\", \"US\", \"USA Edition\")"
   ]
  },
  {
   "cell_type": "code",
   "execution_count": 1167,
   "metadata": {},
   "outputs": [
    {
     "data": {
      "text/plain": [
       "First Edition                             3992\n",
       "Unabridged                                2823\n",
       "Large Print                               2386\n",
       "Abridged Edition                           994\n",
       "Second Edition                             844\n",
       "Audio Edition                              283\n",
       "UK Edition                                 265\n",
       "Third Edition                              215\n",
       "Reprint Edition                            182\n",
       "Audible Edition                            120\n",
       "Book Club Edition                           98\n",
       "Revised Edition                             96\n",
       "Kindle Edition                              92\n",
       "British Library Crime Classics              79\n",
       "Movie Tie-in Edition                        78\n",
       "Digital Edition                             63\n",
       "Library Edition                             63\n",
       "USA Edition                                 61\n",
       "Limited Edition                             50\n",
       "The Agatha Christie Mystery Collection      39\n",
       "Oxford World's Classics                     37\n",
       "Kobo                                        36\n",
       "Penguin Modern Classics                     29\n",
       "Omnibus                                     27\n",
       "CA Edition                                  25\n",
       "Fourth Edition                              25\n",
       "Agatha Christie Signature Edition           24\n",
       "Library                                     24\n",
       "Agatha Christie Mystery Collection          21\n",
       "Alternate Cover Edition                     20\n",
       "Masterpieces in Miniature                   20\n",
       "WMA                                         19\n",
       "ARC                                         18\n",
       "Illustrated Edition                         18\n",
       "Penguin Popular Classics                    18\n",
       "Paperback Original                          17\n",
       "New Edition                                 17\n",
       "Akashic Noir                                16\n",
       "epub                                        16\n",
       "Nook                                        14\n",
       "Illustrated                                 14\n",
       "Paperback                                   14\n",
       "Anniversary Edition                         14\n",
       "Golden Press Oval Edition                   14\n",
       "Trade Paperback                             13\n",
       "Smashwords Edition                          13\n",
       "International Edition                       13\n",
       "Nook Edition                                13\n",
       "ACE                                         11\n",
       "Smashwords                                  11\n",
       "Epub                                        11\n",
       "Original text                               11\n",
       "Cassette                                    11\n",
       "Short story                                 11\n",
       "Name: edition_information, dtype: int64"
      ]
     },
     "execution_count": 1167,
     "metadata": {},
     "output_type": "execute_result"
    }
   ],
   "source": [
    "df.edition_information.value_counts().loc[df.edition_information.value_counts() >10]"
   ]
  },
  {
   "cell_type": "code",
   "execution_count": 1178,
   "metadata": {},
   "outputs": [
    {
     "name": "stderr",
     "output_type": "stream",
     "text": [
      "/Users/jensensj/opt/anaconda3/lib/python3.8/site-packages/pandas/core/indexing.py:670: SettingWithCopyWarning: \n",
      "A value is trying to be set on a copy of a slice from a DataFrame\n",
      "\n",
      "See the caveats in the documentation: https://pandas.pydata.org/pandas-docs/stable/user_guide/indexing.html#returning-a-view-versus-a-copy\n",
      "  iloc._setitem_with_indexer(indexer, value)\n"
     ]
    }
   ],
   "source": [
    "change_formats(df,\"edition_information\", \"ernation\", \"International Edition\")"
   ]
  },
  {
   "cell_type": "code",
   "execution_count": 1186,
   "metadata": {},
   "outputs": [
    {
     "name": "stdout",
     "output_type": "stream",
     "text": [
      "iB results are:\n",
      " iBook                                                                                 3\n",
      "iBooks                                                                                2\n",
      "iBooks Epub                                                                           1\n",
      "Download for iPhone, iPad, or iPod touch with iBooks and on a computer with iTunes    1\n",
      "Name: edition_information, dtype: int64\n"
     ]
    }
   ],
   "source": [
    "find_formats(df,\"edition_information\", \"iB\")"
   ]
  },
  {
   "cell_type": "code",
   "execution_count": 1187,
   "metadata": {},
   "outputs": [
    {
     "name": "stderr",
     "output_type": "stream",
     "text": [
      "/Users/jensensj/opt/anaconda3/lib/python3.8/site-packages/pandas/core/indexing.py:670: SettingWithCopyWarning: \n",
      "A value is trying to be set on a copy of a slice from a DataFrame\n",
      "\n",
      "See the caveats in the documentation: https://pandas.pydata.org/pandas-docs/stable/user_guide/indexing.html#returning-a-view-versus-a-copy\n",
      "  iloc._setitem_with_indexer(indexer, value)\n"
     ]
    }
   ],
   "source": [
    "change_formats(df,\"edition_information\", \"epub\", \"Epub Edition\")\n",
    "change_formats(df,\"edition_information\", \"Epub\", \"Epub Edition\")\n",
    "change_formats(df,\"edition_information\", \"nline\", \"Epub Edition\")\n",
    "change_formats(df,\"edition_information\", \"iB\", \"Epub Edition\")\n"
   ]
  },
  {
   "cell_type": "code",
   "execution_count": 1189,
   "metadata": {},
   "outputs": [
    {
     "name": "stdout",
     "output_type": "stream",
     "text": [
      "llust results are:\n",
      " Illustrated Edition                         18\n",
      "Illustrated                                 14\n",
      "Special Illustrated Edition                  8\n",
      "Special Illustrated Collector's Edition      2\n",
      "Illustrated Edition with Map                 1\n",
      "Illustrated 6th Edition                      1\n",
      "Full Color Illustrated Edition               1\n",
      "illustrated                                  1\n",
      "Crave Illustrated Edition                    1\n",
      "complete, illustrated                        1\n",
      "Limited Edition, Author Illustrated Copy     1\n",
      "Golden Illustrated Classic                   1\n",
      "(Illustrated Edition                         1\n",
      "Illustrated Classic Editions                 1\n",
      "Illustrated Colour Plate edition             1\n",
      "llustrated                                   1\n",
      "Classics Illustrated                         1\n",
      "Name: edition_information, dtype: int64\n"
     ]
    }
   ],
   "source": [
    "find_formats(df,\"edition_information\", \"llust\")"
   ]
  },
  {
   "cell_type": "code",
   "execution_count": 1192,
   "metadata": {},
   "outputs": [
    {
     "name": "stderr",
     "output_type": "stream",
     "text": [
      "/Users/jensensj/opt/anaconda3/lib/python3.8/site-packages/pandas/core/indexing.py:670: SettingWithCopyWarning: \n",
      "A value is trying to be set on a copy of a slice from a DataFrame\n",
      "\n",
      "See the caveats in the documentation: https://pandas.pydata.org/pandas-docs/stable/user_guide/indexing.html#returning-a-view-versus-a-copy\n",
      "  iloc._setitem_with_indexer(indexer, value)\n"
     ]
    }
   ],
   "source": [
    "change_formats(df,\"edition_information\", \"llust\", \"Illlustrated Edition\")"
   ]
  },
  {
   "cell_type": "code",
   "execution_count": 1193,
   "metadata": {},
   "outputs": [],
   "source": [
    "change_formats(df,\"edition_information\", \"pecia\", \"Special Edition\")"
   ]
  },
  {
   "cell_type": "code",
   "execution_count": 1195,
   "metadata": {},
   "outputs": [
    {
     "name": "stdout",
     "output_type": "stream",
     "text": [
      "rigina results are:\n",
      " Paperback Original                       17\n",
      "Original text                            11\n",
      "Original edition                          4\n",
      "Original Edition                          2\n",
      "Hard Cover Original Fiction               2\n",
      "Original                                  2\n",
      "A Tor.Com Original                        2\n",
      "Original recording                        1\n",
      "original cover edition for B00IOY7FJ8     1\n",
      "Vintage Crime/Black Lizard Original       1\n",
      "original cover                            1\n",
      "standard print original fiction           1\n",
      "Original Direct-to-Ebook                  1\n",
      "An original publication                   1\n",
      "Original Trade Paperback                  1\n",
      "original edition                          1\n",
      "Original Classic Edition                  1\n",
      "Name: edition_information, dtype: int64\n"
     ]
    }
   ],
   "source": [
    "find_formats(df,\"edition_information\", \"rigina\")"
   ]
  },
  {
   "cell_type": "code",
   "execution_count": 1197,
   "metadata": {},
   "outputs": [],
   "source": [
    "change_formats(df,\"edition_information\", \"rigina\", \"Original Edition\")"
   ]
  },
  {
   "cell_type": "code",
   "execution_count": 1203,
   "metadata": {},
   "outputs": [
    {
     "data": {
      "text/plain": [
       "First Edition                             3992\n",
       "Unabridged                                2823\n",
       "Large Print                               2386\n",
       "Abridged Edition                           994\n",
       "Second Edition                             862\n",
       "Audio Edition                              283\n",
       "UK Edition                                 265\n",
       "Third Edition                              215\n",
       "Reprint Edition                            182\n",
       "Audible Edition                            120\n",
       "Book Club Edition                           98\n",
       "Revised Edition                             96\n",
       "Kindle Edition                              92\n",
       "British Library Crime Classics              79\n",
       "Movie Tie-in Edition                        78\n",
       "Digital Edition                             63\n",
       "Library Edition                             63\n",
       "USA Edition                                 61\n",
       "Original Edition                            50\n",
       "Limited Edition                             50\n",
       "Special Edition                             50\n",
       "Illlustrated Edition                        45\n",
       "Epub Edition                                45\n",
       "The Agatha Christie Mystery Collection      39\n",
       "Oxford World's Classics                     37\n",
       "Kobo                                        36\n",
       "International Edition                       30\n",
       "Penguin Modern Classics                     29\n",
       "Omnibus                                     27\n",
       "Fourth Edition                              25\n",
       "CA Edition                                  25\n",
       "Library                                     24\n",
       "Agatha Christie Signature Edition           24\n",
       "Agatha Christie Mystery Collection          21\n",
       "Masterpieces in Miniature                   20\n",
       "Alternate Cover Edition                     20\n",
       "WMA                                         19\n",
       "Penguin Popular Classics                    18\n",
       "ARC                                         18\n",
       "New Edition                                 17\n",
       "Akashic Noir                                16\n",
       "Golden Press Oval Edition                   14\n",
       "Nook                                        14\n",
       "Paperback                                   14\n",
       "Anniversary Edition                         14\n",
       "Trade Paperback                             13\n",
       "Smashwords Edition                          13\n",
       "Nook Edition                                13\n",
       "Smashwords                                  11\n",
       "Short story                                 11\n",
       "ACE                                         11\n",
       "Cassette                                    11\n",
       "Signature Edition                           10\n",
       "BBC Radio Collection                        10\n",
       "Point Horror                                10\n",
       "Name: edition_information, dtype: int64"
      ]
     },
     "execution_count": 1203,
     "metadata": {},
     "output_type": "execute_result"
    }
   ],
   "source": [
    "df.edition_information.value_counts().loc[df.edition_information.value_counts() >9]"
   ]
  },
  {
   "cell_type": "code",
   "execution_count": 1207,
   "metadata": {},
   "outputs": [],
   "source": [
    "change_formats(df,\"edition_information\", \"Nook\", \"Nook Edition\")\n",
    "change_formats(df,\"edition_information\", \"nook\", \"Nook Edition\")"
   ]
  },
  {
   "cell_type": "code",
   "execution_count": 1213,
   "metadata": {},
   "outputs": [
    {
     "name": "stdout",
     "output_type": "stream",
     "text": [
      "New ed results are:\n",
      " New edition    4\n",
      "Name: edition_information, dtype: int64\n"
     ]
    }
   ],
   "source": [
    "find_formats(df,\"edition_information\", \"New ed\")"
   ]
  },
  {
   "cell_type": "code",
   "execution_count": 1214,
   "metadata": {},
   "outputs": [
    {
     "name": "stderr",
     "output_type": "stream",
     "text": [
      "/Users/jensensj/opt/anaconda3/lib/python3.8/site-packages/pandas/core/indexing.py:670: SettingWithCopyWarning: \n",
      "A value is trying to be set on a copy of a slice from a DataFrame\n",
      "\n",
      "See the caveats in the documentation: https://pandas.pydata.org/pandas-docs/stable/user_guide/indexing.html#returning-a-view-versus-a-copy\n",
      "  iloc._setitem_with_indexer(indexer, value)\n"
     ]
    }
   ],
   "source": [
    "change_formats(df,\"edition_information\", \"New Ed\", \"New Edition\")\n",
    "change_formats(df,\"edition_information\", \"New Ed\", \"New edition\")"
   ]
  },
  {
   "cell_type": "code",
   "execution_count": 1215,
   "metadata": {},
   "outputs": [
    {
     "name": "stdout",
     "output_type": "stream",
     "text": [
      "new results are:\n",
      " Series([], Name: edition_information, dtype: int64)\n"
     ]
    }
   ],
   "source": [
    "find_formats(df,\"edition_information\", \"new\")"
   ]
  },
  {
   "cell_type": "code",
   "execution_count": null,
   "metadata": {},
   "outputs": [],
   "source": []
  },
  {
   "cell_type": "code",
   "execution_count": 1221,
   "metadata": {},
   "outputs": [],
   "source": [
    "#Replacing NaN with \"none\"\n",
    "df.edition_information.fillna('none', inplace=True)"
   ]
  },
  {
   "cell_type": "code",
   "execution_count": 1222,
   "metadata": {},
   "outputs": [
    {
     "data": {
      "text/html": [
       "<div>\n",
       "<style scoped>\n",
       "    .dataframe tbody tr th:only-of-type {\n",
       "        vertical-align: middle;\n",
       "    }\n",
       "\n",
       "    .dataframe tbody tr th {\n",
       "        vertical-align: top;\n",
       "    }\n",
       "\n",
       "    .dataframe thead th {\n",
       "        text-align: right;\n",
       "    }\n",
       "</style>\n",
       "<table border=\"1\" class=\"dataframe\">\n",
       "  <thead>\n",
       "    <tr style=\"text-align: right;\">\n",
       "      <th></th>\n",
       "      <th>text_reviews_count</th>\n",
       "      <th>series</th>\n",
       "      <th>country_code</th>\n",
       "      <th>language_code</th>\n",
       "      <th>popular_shelves</th>\n",
       "      <th>is_ebook</th>\n",
       "      <th>average_rating</th>\n",
       "      <th>similar_books</th>\n",
       "      <th>format</th>\n",
       "      <th>authors</th>\n",
       "      <th>publisher</th>\n",
       "      <th>num_pages</th>\n",
       "      <th>publication_month</th>\n",
       "      <th>edition_information</th>\n",
       "      <th>publication_year</th>\n",
       "      <th>book_id</th>\n",
       "      <th>ratings_count</th>\n",
       "      <th>work_id</th>\n",
       "      <th>title</th>\n",
       "      <th>title_without_series</th>\n",
       "    </tr>\n",
       "  </thead>\n",
       "  <tbody>\n",
       "    <tr>\n",
       "      <th>0</th>\n",
       "      <td>15</td>\n",
       "      <td>[169353]</td>\n",
       "      <td>US</td>\n",
       "      <td>eng</td>\n",
       "      <td>[{'count': '159', 'name': 'to-read'}, {'count'...</td>\n",
       "      <td>false</td>\n",
       "      <td>3.93</td>\n",
       "      <td>[439108, 522621, 116770, 1275927, 6202655, 840...</td>\n",
       "      <td>hardcover</td>\n",
       "      <td>[{'author_id': '37778', 'role': ''}]</td>\n",
       "      <td>Simon &amp; Schuster UK</td>\n",
       "      <td>400.0</td>\n",
       "      <td>4</td>\n",
       "      <td>none</td>\n",
       "      <td>2009</td>\n",
       "      <td>6066814</td>\n",
       "      <td>186</td>\n",
       "      <td>6243149</td>\n",
       "      <td>Crowner Royal (Crowner John Mystery, #13)</td>\n",
       "      <td>Crowner Royal (Crowner John Mystery, #13)</td>\n",
       "    </tr>\n",
       "    <tr>\n",
       "      <th>1</th>\n",
       "      <td>60</td>\n",
       "      <td>[1052227]</td>\n",
       "      <td>US</td>\n",
       "      <td>eng</td>\n",
       "      <td>[{'count': '54', 'name': 'currently-reading'},...</td>\n",
       "      <td>true</td>\n",
       "      <td>4.33</td>\n",
       "      <td>[]</td>\n",
       "      <td>ebook</td>\n",
       "      <td>[{'author_id': '242185', 'role': ''}]</td>\n",
       "      <td>unknown</td>\n",
       "      <td>318.0</td>\n",
       "      <td>NaN</td>\n",
       "      <td>none</td>\n",
       "      <td>NaN</td>\n",
       "      <td>33394837</td>\n",
       "      <td>269</td>\n",
       "      <td>54143148</td>\n",
       "      <td>The House of Memory (Pluto's Snitch #2)</td>\n",
       "      <td>The House of Memory (Pluto's Snitch #2)</td>\n",
       "    </tr>\n",
       "    <tr>\n",
       "      <th>2</th>\n",
       "      <td>23</td>\n",
       "      <td>[953679]</td>\n",
       "      <td>US</td>\n",
       "      <td>eng</td>\n",
       "      <td>[{'count': '90', 'name': 'to-read'}, {'count':...</td>\n",
       "      <td>true</td>\n",
       "      <td>3.49</td>\n",
       "      <td>[]</td>\n",
       "      <td>ebook</td>\n",
       "      <td>[{'author_id': '15104629', 'role': ''}, {'auth...</td>\n",
       "      <td>Amazon Digital Services</td>\n",
       "      <td>0.0</td>\n",
       "      <td>NaN</td>\n",
       "      <td>none</td>\n",
       "      <td>NaN</td>\n",
       "      <td>29074697</td>\n",
       "      <td>192</td>\n",
       "      <td>49305010</td>\n",
       "      <td>The Slaughtered Virgin of Zenopolis (Inspector...</td>\n",
       "      <td>The Slaughtered Virgin of Zenopolis (Inspector...</td>\n",
       "    </tr>\n",
       "    <tr>\n",
       "      <th>3</th>\n",
       "      <td>8</td>\n",
       "      <td>[408775]</td>\n",
       "      <td>US</td>\n",
       "      <td>eng</td>\n",
       "      <td>[{'count': '51', 'name': 'to-read'}, {'count':...</td>\n",
       "      <td>false</td>\n",
       "      <td>3.30</td>\n",
       "      <td>[]</td>\n",
       "      <td>hardcover</td>\n",
       "      <td>[{'author_id': '190988', 'role': ''}]</td>\n",
       "      <td>Ulverscroft</td>\n",
       "      <td>NaN</td>\n",
       "      <td>12</td>\n",
       "      <td>Large Print</td>\n",
       "      <td>1975</td>\n",
       "      <td>1902202</td>\n",
       "      <td>52</td>\n",
       "      <td>1903897</td>\n",
       "      <td>Dead in the Morning (Patrick Grant, #1)</td>\n",
       "      <td>Dead in the Morning (Patrick Grant, #1)</td>\n",
       "    </tr>\n",
       "    <tr>\n",
       "      <th>5</th>\n",
       "      <td>3</td>\n",
       "      <td>[199039]</td>\n",
       "      <td>US</td>\n",
       "      <td>eng</td>\n",
       "      <td>[{'count': '1694', 'name': 'mystery'}, {'count...</td>\n",
       "      <td>false</td>\n",
       "      <td>3.96</td>\n",
       "      <td>[93575, 280849, 243401, 77617]</td>\n",
       "      <td>audio</td>\n",
       "      <td>[{'author_id': '123715', 'role': ''}, {'author...</td>\n",
       "      <td>HarperAudio</td>\n",
       "      <td>0.0</td>\n",
       "      <td>3</td>\n",
       "      <td>none</td>\n",
       "      <td>2013</td>\n",
       "      <td>16158998</td>\n",
       "      <td>5</td>\n",
       "      <td>2288775</td>\n",
       "      <td>A Murder is Announced</td>\n",
       "      <td>A Murder is Announced</td>\n",
       "    </tr>\n",
       "  </tbody>\n",
       "</table>\n",
       "</div>"
      ],
      "text/plain": [
       "   text_reviews_count     series country_code language_code  \\\n",
       "0                  15   [169353]           US           eng   \n",
       "1                  60  [1052227]           US           eng   \n",
       "2                  23   [953679]           US           eng   \n",
       "3                   8   [408775]           US           eng   \n",
       "5                   3   [199039]           US           eng   \n",
       "\n",
       "                                     popular_shelves is_ebook  average_rating  \\\n",
       "0  [{'count': '159', 'name': 'to-read'}, {'count'...    false            3.93   \n",
       "1  [{'count': '54', 'name': 'currently-reading'},...     true            4.33   \n",
       "2  [{'count': '90', 'name': 'to-read'}, {'count':...     true            3.49   \n",
       "3  [{'count': '51', 'name': 'to-read'}, {'count':...    false            3.30   \n",
       "5  [{'count': '1694', 'name': 'mystery'}, {'count...    false            3.96   \n",
       "\n",
       "                                       similar_books     format  \\\n",
       "0  [439108, 522621, 116770, 1275927, 6202655, 840...  hardcover   \n",
       "1                                                 []      ebook   \n",
       "2                                                 []      ebook   \n",
       "3                                                 []  hardcover   \n",
       "5                     [93575, 280849, 243401, 77617]      audio   \n",
       "\n",
       "                                             authors                publisher  \\\n",
       "0               [{'author_id': '37778', 'role': ''}]      Simon & Schuster UK   \n",
       "1              [{'author_id': '242185', 'role': ''}]                  unknown   \n",
       "2  [{'author_id': '15104629', 'role': ''}, {'auth...  Amazon Digital Services   \n",
       "3              [{'author_id': '190988', 'role': ''}]              Ulverscroft   \n",
       "5  [{'author_id': '123715', 'role': ''}, {'author...              HarperAudio   \n",
       "\n",
       "   num_pages publication_month edition_information publication_year   book_id  \\\n",
       "0      400.0                 4                none             2009   6066814   \n",
       "1      318.0               NaN                none              NaN  33394837   \n",
       "2        0.0               NaN                none              NaN  29074697   \n",
       "3        NaN                12         Large Print             1975   1902202   \n",
       "5        0.0                 3                none             2013  16158998   \n",
       "\n",
       "   ratings_count   work_id                                              title  \\\n",
       "0            186   6243149          Crowner Royal (Crowner John Mystery, #13)   \n",
       "1            269  54143148            The House of Memory (Pluto's Snitch #2)   \n",
       "2            192  49305010  The Slaughtered Virgin of Zenopolis (Inspector...   \n",
       "3             52   1903897            Dead in the Morning (Patrick Grant, #1)   \n",
       "5              5   2288775                              A Murder is Announced   \n",
       "\n",
       "                                title_without_series  \n",
       "0          Crowner Royal (Crowner John Mystery, #13)  \n",
       "1            The House of Memory (Pluto's Snitch #2)  \n",
       "2  The Slaughtered Virgin of Zenopolis (Inspector...  \n",
       "3            Dead in the Morning (Patrick Grant, #1)  \n",
       "5                              A Murder is Announced  "
      ]
     },
     "execution_count": 1222,
     "metadata": {},
     "output_type": "execute_result"
    }
   ],
   "source": [
    "df.head()"
   ]
  },
  {
   "cell_type": "code",
   "execution_count": 1230,
   "metadata": {},
   "outputs": [
    {
     "data": {
      "text/plain": [
       "text_reviews_count      28\n",
       "series                  28\n",
       "country_code            28\n",
       "language_code           28\n",
       "popular_shelves         28\n",
       "is_ebook                28\n",
       "average_rating          28\n",
       "similar_books           28\n",
       "format                  28\n",
       "authors                 28\n",
       "publisher               28\n",
       "num_pages               27\n",
       "publication_month       15\n",
       "edition_information     28\n",
       "publication_year        16\n",
       "book_id                 28\n",
       "ratings_count           28\n",
       "work_id                 28\n",
       "title                   28\n",
       "title_without_series    28\n",
       "dtype: int64"
      ]
     },
     "execution_count": 1230,
     "metadata": {},
     "output_type": "execute_result"
    }
   ],
   "source": [
    "df[(df.format == \"large_print\")].count()"
   ]
  },
  {
   "cell_type": "markdown",
   "metadata": {},
   "source": [
    "Need to go back and set none edition to large print and then do the formatting to go to hardcover, softcover, etc. "
   ]
  },
  {
   "cell_type": "code",
   "execution_count": 1231,
   "metadata": {},
   "outputs": [
    {
     "name": "stdout",
     "output_type": "stream",
     "text": [
      "<class 'pandas.core.frame.DataFrame'>\n",
      "Int64Index: 182906 entries, 0 to 219234\n",
      "Data columns (total 20 columns):\n",
      " #   Column                Non-Null Count   Dtype  \n",
      "---  ------                --------------   -----  \n",
      " 0   text_reviews_count    182906 non-null  int64  \n",
      " 1   series                182906 non-null  object \n",
      " 2   country_code          182906 non-null  object \n",
      " 3   language_code         182906 non-null  object \n",
      " 4   popular_shelves       182906 non-null  object \n",
      " 5   is_ebook              182906 non-null  object \n",
      " 6   average_rating        182906 non-null  float64\n",
      " 7   similar_books         182906 non-null  object \n",
      " 8   format                182906 non-null  object \n",
      " 9   authors               182906 non-null  object \n",
      " 10  publisher             182906 non-null  object \n",
      " 11  num_pages             163162 non-null  float64\n",
      " 12  publication_month     121285 non-null  object \n",
      " 13  edition_information   182906 non-null  object \n",
      " 14  publication_year      132322 non-null  object \n",
      " 15  book_id               182906 non-null  int64  \n",
      " 16  ratings_count         182906 non-null  int64  \n",
      " 17  work_id               182906 non-null  int64  \n",
      " 18  title                 182906 non-null  object \n",
      " 19  title_without_series  182906 non-null  object \n",
      "dtypes: float64(2), int64(4), object(14)\n",
      "memory usage: 34.3+ MB\n"
     ]
    }
   ],
   "source": [
    "df.info()"
   ]
  },
  {
   "cell_type": "code",
   "execution_count": 1232,
   "metadata": {},
   "outputs": [
    {
     "data": {
      "text/plain": [
       "0             Simon & Schuster UK\n",
       "1                         unknown\n",
       "2         Amazon Digital Services\n",
       "3                     Ulverscroft\n",
       "5                     HarperAudio\n",
       "                   ...           \n",
       "219229                    unknown\n",
       "219231              MX Publishing\n",
       "219232              MX Publishing\n",
       "219233                    unknown\n",
       "219234              MX Publishing\n",
       "Name: publisher, Length: 182906, dtype: object"
      ]
     },
     "execution_count": 1232,
     "metadata": {},
     "output_type": "execute_result"
    }
   ],
   "source": [
    "df.publisher"
   ]
  },
  {
   "cell_type": "markdown",
   "metadata": {},
   "source": [
    "## Now we will look at separating out the author information, cleaning up series #'s, and look at popular shelves and similar books columns"
   ]
  },
  {
   "cell_type": "code",
   "execution_count": 1234,
   "metadata": {},
   "outputs": [
    {
     "data": {
      "text/plain": [
       "0                 [{'author_id': '37778', 'role': ''}]\n",
       "1                [{'author_id': '242185', 'role': ''}]\n",
       "2    [{'author_id': '15104629', 'role': ''}, {'auth...\n",
       "3                [{'author_id': '190988', 'role': ''}]\n",
       "5    [{'author_id': '123715', 'role': ''}, {'author...\n",
       "Name: authors, dtype: object"
      ]
     },
     "execution_count": 1234,
     "metadata": {},
     "output_type": "execute_result"
    }
   ],
   "source": [
    "df.authors.head()"
   ]
  },
  {
   "cell_type": "code",
   "execution_count": 1236,
   "metadata": {},
   "outputs": [],
   "source": [
    "auths = df.authors.apply(pd.Series)"
   ]
  },
  {
   "cell_type": "code",
   "execution_count": 1276,
   "metadata": {},
   "outputs": [
    {
     "name": "stdout",
     "output_type": "stream",
     "text": [
      "<class 'pandas.core.frame.DataFrame'>\n",
      "Int64Index: 182906 entries, 0 to 219234\n",
      "Data columns (total 51 columns):\n",
      " #   Column  Non-Null Count   Dtype \n",
      "---  ------  --------------   ----- \n",
      " 0   0       182906 non-null  object\n",
      " 1   1       27600 non-null   object\n",
      " 2   2       4132 non-null    object\n",
      " 3   3       1597 non-null    object\n",
      " 4   4       1097 non-null    object\n",
      " 5   5       909 non-null     object\n",
      " 6   6       817 non-null     object\n",
      " 7   7       743 non-null     object\n",
      " 8   8       687 non-null     object\n",
      " 9   9       614 non-null     object\n",
      " 10  10      546 non-null     object\n",
      " 11  11      502 non-null     object\n",
      " 12  12      460 non-null     object\n",
      " 13  13      416 non-null     object\n",
      " 14  14      367 non-null     object\n",
      " 15  15      305 non-null     object\n",
      " 16  16      272 non-null     object\n",
      " 17  17      239 non-null     object\n",
      " 18  18      217 non-null     object\n",
      " 19  19      196 non-null     object\n",
      " 20  20      162 non-null     object\n",
      " 21  21      131 non-null     object\n",
      " 22  22      112 non-null     object\n",
      " 23  23      98 non-null      object\n",
      " 24  24      88 non-null      object\n",
      " 25  25      77 non-null      object\n",
      " 26  26      65 non-null      object\n",
      " 27  27      60 non-null      object\n",
      " 28  28      59 non-null      object\n",
      " 29  29      54 non-null      object\n",
      " 30  30      50 non-null      object\n",
      " 31  31      45 non-null      object\n",
      " 32  32      42 non-null      object\n",
      " 33  33      40 non-null      object\n",
      " 34  34      38 non-null      object\n",
      " 35  35      38 non-null      object\n",
      " 36  36      33 non-null      object\n",
      " 37  37      29 non-null      object\n",
      " 38  38      23 non-null      object\n",
      " 39  39      22 non-null      object\n",
      " 40  40      18 non-null      object\n",
      " 41  41      14 non-null      object\n",
      " 42  42      13 non-null      object\n",
      " 43  43      12 non-null      object\n",
      " 44  44      9 non-null       object\n",
      " 45  45      9 non-null       object\n",
      " 46  46      9 non-null       object\n",
      " 47  47      9 non-null       object\n",
      " 48  48      6 non-null       object\n",
      " 49  49      6 non-null       object\n",
      " 50  50      4 non-null       object\n",
      "dtypes: object(51)\n",
      "memory usage: 77.6+ MB\n"
     ]
    }
   ],
   "source": [
    "auths.info()"
   ]
  },
  {
   "cell_type": "code",
   "execution_count": 1242,
   "metadata": {},
   "outputs": [],
   "source": [
    "drops = auths.dropna(thresh=3).index"
   ]
  },
  {
   "cell_type": "code",
   "execution_count": 1244,
   "metadata": {},
   "outputs": [
    {
     "data": {
      "text/html": [
       "<div>\n",
       "<style scoped>\n",
       "    .dataframe tbody tr th:only-of-type {\n",
       "        vertical-align: middle;\n",
       "    }\n",
       "\n",
       "    .dataframe tbody tr th {\n",
       "        vertical-align: top;\n",
       "    }\n",
       "\n",
       "    .dataframe thead th {\n",
       "        text-align: right;\n",
       "    }\n",
       "</style>\n",
       "<table border=\"1\" class=\"dataframe\">\n",
       "  <thead>\n",
       "    <tr style=\"text-align: right;\">\n",
       "      <th></th>\n",
       "      <th>text_reviews_count</th>\n",
       "      <th>series</th>\n",
       "      <th>country_code</th>\n",
       "      <th>language_code</th>\n",
       "      <th>popular_shelves</th>\n",
       "      <th>is_ebook</th>\n",
       "      <th>average_rating</th>\n",
       "      <th>similar_books</th>\n",
       "      <th>format</th>\n",
       "      <th>authors</th>\n",
       "      <th>publisher</th>\n",
       "      <th>num_pages</th>\n",
       "      <th>publication_month</th>\n",
       "      <th>edition_information</th>\n",
       "      <th>publication_year</th>\n",
       "      <th>book_id</th>\n",
       "      <th>ratings_count</th>\n",
       "      <th>work_id</th>\n",
       "      <th>title</th>\n",
       "      <th>title_without_series</th>\n",
       "    </tr>\n",
       "  </thead>\n",
       "  <tbody>\n",
       "    <tr>\n",
       "      <th>0</th>\n",
       "      <td>15</td>\n",
       "      <td>[169353]</td>\n",
       "      <td>US</td>\n",
       "      <td>eng</td>\n",
       "      <td>[{'count': '159', 'name': 'to-read'}, {'count'...</td>\n",
       "      <td>false</td>\n",
       "      <td>3.93</td>\n",
       "      <td>[439108, 522621, 116770, 1275927, 6202655, 840...</td>\n",
       "      <td>hardcover</td>\n",
       "      <td>[{'author_id': '37778', 'role': ''}]</td>\n",
       "      <td>Simon &amp; Schuster UK</td>\n",
       "      <td>400.0</td>\n",
       "      <td>4</td>\n",
       "      <td>none</td>\n",
       "      <td>2009</td>\n",
       "      <td>6066814</td>\n",
       "      <td>186</td>\n",
       "      <td>6243149</td>\n",
       "      <td>Crowner Royal (Crowner John Mystery, #13)</td>\n",
       "      <td>Crowner Royal (Crowner John Mystery, #13)</td>\n",
       "    </tr>\n",
       "    <tr>\n",
       "      <th>1</th>\n",
       "      <td>60</td>\n",
       "      <td>[1052227]</td>\n",
       "      <td>US</td>\n",
       "      <td>eng</td>\n",
       "      <td>[{'count': '54', 'name': 'currently-reading'},...</td>\n",
       "      <td>true</td>\n",
       "      <td>4.33</td>\n",
       "      <td>[]</td>\n",
       "      <td>ebook</td>\n",
       "      <td>[{'author_id': '242185', 'role': ''}]</td>\n",
       "      <td>unknown</td>\n",
       "      <td>318.0</td>\n",
       "      <td>NaN</td>\n",
       "      <td>none</td>\n",
       "      <td>NaN</td>\n",
       "      <td>33394837</td>\n",
       "      <td>269</td>\n",
       "      <td>54143148</td>\n",
       "      <td>The House of Memory (Pluto's Snitch #2)</td>\n",
       "      <td>The House of Memory (Pluto's Snitch #2)</td>\n",
       "    </tr>\n",
       "    <tr>\n",
       "      <th>2</th>\n",
       "      <td>23</td>\n",
       "      <td>[953679]</td>\n",
       "      <td>US</td>\n",
       "      <td>eng</td>\n",
       "      <td>[{'count': '90', 'name': 'to-read'}, {'count':...</td>\n",
       "      <td>true</td>\n",
       "      <td>3.49</td>\n",
       "      <td>[]</td>\n",
       "      <td>ebook</td>\n",
       "      <td>[{'author_id': '15104629', 'role': ''}, {'auth...</td>\n",
       "      <td>Amazon Digital Services</td>\n",
       "      <td>0.0</td>\n",
       "      <td>NaN</td>\n",
       "      <td>none</td>\n",
       "      <td>NaN</td>\n",
       "      <td>29074697</td>\n",
       "      <td>192</td>\n",
       "      <td>49305010</td>\n",
       "      <td>The Slaughtered Virgin of Zenopolis (Inspector...</td>\n",
       "      <td>The Slaughtered Virgin of Zenopolis (Inspector...</td>\n",
       "    </tr>\n",
       "    <tr>\n",
       "      <th>3</th>\n",
       "      <td>8</td>\n",
       "      <td>[408775]</td>\n",
       "      <td>US</td>\n",
       "      <td>eng</td>\n",
       "      <td>[{'count': '51', 'name': 'to-read'}, {'count':...</td>\n",
       "      <td>false</td>\n",
       "      <td>3.30</td>\n",
       "      <td>[]</td>\n",
       "      <td>hardcover</td>\n",
       "      <td>[{'author_id': '190988', 'role': ''}]</td>\n",
       "      <td>Ulverscroft</td>\n",
       "      <td>NaN</td>\n",
       "      <td>12</td>\n",
       "      <td>Large Print</td>\n",
       "      <td>1975</td>\n",
       "      <td>1902202</td>\n",
       "      <td>52</td>\n",
       "      <td>1903897</td>\n",
       "      <td>Dead in the Morning (Patrick Grant, #1)</td>\n",
       "      <td>Dead in the Morning (Patrick Grant, #1)</td>\n",
       "    </tr>\n",
       "    <tr>\n",
       "      <th>5</th>\n",
       "      <td>3</td>\n",
       "      <td>[199039]</td>\n",
       "      <td>US</td>\n",
       "      <td>eng</td>\n",
       "      <td>[{'count': '1694', 'name': 'mystery'}, {'count...</td>\n",
       "      <td>false</td>\n",
       "      <td>3.96</td>\n",
       "      <td>[93575, 280849, 243401, 77617]</td>\n",
       "      <td>audio</td>\n",
       "      <td>[{'author_id': '123715', 'role': ''}, {'author...</td>\n",
       "      <td>HarperAudio</td>\n",
       "      <td>0.0</td>\n",
       "      <td>3</td>\n",
       "      <td>none</td>\n",
       "      <td>2013</td>\n",
       "      <td>16158998</td>\n",
       "      <td>5</td>\n",
       "      <td>2288775</td>\n",
       "      <td>A Murder is Announced</td>\n",
       "      <td>A Murder is Announced</td>\n",
       "    </tr>\n",
       "    <tr>\n",
       "      <th>...</th>\n",
       "      <td>...</td>\n",
       "      <td>...</td>\n",
       "      <td>...</td>\n",
       "      <td>...</td>\n",
       "      <td>...</td>\n",
       "      <td>...</td>\n",
       "      <td>...</td>\n",
       "      <td>...</td>\n",
       "      <td>...</td>\n",
       "      <td>...</td>\n",
       "      <td>...</td>\n",
       "      <td>...</td>\n",
       "      <td>...</td>\n",
       "      <td>...</td>\n",
       "      <td>...</td>\n",
       "      <td>...</td>\n",
       "      <td>...</td>\n",
       "      <td>...</td>\n",
       "      <td>...</td>\n",
       "      <td>...</td>\n",
       "    </tr>\n",
       "    <tr>\n",
       "      <th>219229</th>\n",
       "      <td>58</td>\n",
       "      <td>[1035852]</td>\n",
       "      <td>US</td>\n",
       "      <td>eng</td>\n",
       "      <td>[{'count': '49', 'name': 'to-read'}, {'count':...</td>\n",
       "      <td>true</td>\n",
       "      <td>3.55</td>\n",
       "      <td>[]</td>\n",
       "      <td>ebook</td>\n",
       "      <td>[{'author_id': '4278425', 'role': ''}]</td>\n",
       "      <td>unknown</td>\n",
       "      <td>0.0</td>\n",
       "      <td>NaN</td>\n",
       "      <td>none</td>\n",
       "      <td>NaN</td>\n",
       "      <td>31522515</td>\n",
       "      <td>340</td>\n",
       "      <td>52207636</td>\n",
       "      <td>Walking on My Grave</td>\n",
       "      <td>Walking on My Grave</td>\n",
       "    </tr>\n",
       "    <tr>\n",
       "      <th>219231</th>\n",
       "      <td>6</td>\n",
       "      <td>[]</td>\n",
       "      <td>US</td>\n",
       "      <td>eng</td>\n",
       "      <td>[{'count': '497', 'name': 'to-read'}, {'count'...</td>\n",
       "      <td>false</td>\n",
       "      <td>3.81</td>\n",
       "      <td>[23012660, 13763625, 18079894, 21432940, 17343...</td>\n",
       "      <td>softcover</td>\n",
       "      <td>[{'author_id': '16176417', 'role': ''}]</td>\n",
       "      <td>MX Publishing</td>\n",
       "      <td>208.0</td>\n",
       "      <td>10</td>\n",
       "      <td>none</td>\n",
       "      <td>2015</td>\n",
       "      <td>26591045</td>\n",
       "      <td>16</td>\n",
       "      <td>46613239</td>\n",
       "      <td>The Sensible Necktie and Other Stories of Sher...</td>\n",
       "      <td>The Sensible Necktie and Other Stories of Sher...</td>\n",
       "    </tr>\n",
       "    <tr>\n",
       "      <th>219232</th>\n",
       "      <td>3</td>\n",
       "      <td>[]</td>\n",
       "      <td>US</td>\n",
       "      <td>eng</td>\n",
       "      <td>[{'count': '735', 'name': 'to-read'}, {'count'...</td>\n",
       "      <td>false</td>\n",
       "      <td>4.11</td>\n",
       "      <td>[24808217, 17620517, 13496536, 21947925, 18079...</td>\n",
       "      <td>softcover</td>\n",
       "      <td>[{'author_id': '5401342', 'role': ''}]</td>\n",
       "      <td>MX Publishing</td>\n",
       "      <td>288.0</td>\n",
       "      <td>7</td>\n",
       "      <td>none</td>\n",
       "      <td>2015</td>\n",
       "      <td>25727303</td>\n",
       "      <td>6</td>\n",
       "      <td>45563843</td>\n",
       "      <td>Mrs. Hudson in New York</td>\n",
       "      <td>Mrs. Hudson in New York</td>\n",
       "    </tr>\n",
       "    <tr>\n",
       "      <th>219233</th>\n",
       "      <td>7</td>\n",
       "      <td>[]</td>\n",
       "      <td>US</td>\n",
       "      <td>eng</td>\n",
       "      <td>[{'count': '36', 'name': 'to-read'}, {'count':...</td>\n",
       "      <td>true</td>\n",
       "      <td>4.00</td>\n",
       "      <td>[]</td>\n",
       "      <td>ebook</td>\n",
       "      <td>[{'author_id': '4590885', 'role': ''}]</td>\n",
       "      <td>unknown</td>\n",
       "      <td>0.0</td>\n",
       "      <td>9</td>\n",
       "      <td>none</td>\n",
       "      <td>2014</td>\n",
       "      <td>23252156</td>\n",
       "      <td>16</td>\n",
       "      <td>42794368</td>\n",
       "      <td>Wicked Reflection</td>\n",
       "      <td>Wicked Reflection</td>\n",
       "    </tr>\n",
       "    <tr>\n",
       "      <th>219234</th>\n",
       "      <td>2</td>\n",
       "      <td>[]</td>\n",
       "      <td>US</td>\n",
       "      <td>eng</td>\n",
       "      <td>[{'count': '702', 'name': 'to-read'}, {'count'...</td>\n",
       "      <td>false</td>\n",
       "      <td>3.50</td>\n",
       "      <td>[12064253, 25017213, 571796, 27306126, 2146669...</td>\n",
       "      <td>softcover</td>\n",
       "      <td>[{'author_id': '2448', 'role': ''}, {'author_i...</td>\n",
       "      <td>MX Publishing</td>\n",
       "      <td>148.0</td>\n",
       "      <td>8</td>\n",
       "      <td>Second Edition</td>\n",
       "      <td>2015</td>\n",
       "      <td>26168430</td>\n",
       "      <td>6</td>\n",
       "      <td>46130263</td>\n",
       "      <td>Sherlock Holmes and the July Crisis</td>\n",
       "      <td>Sherlock Holmes and the July Crisis</td>\n",
       "    </tr>\n",
       "  </tbody>\n",
       "</table>\n",
       "<p>178774 rows × 20 columns</p>\n",
       "</div>"
      ],
      "text/plain": [
       "        text_reviews_count     series country_code language_code  \\\n",
       "0                       15   [169353]           US           eng   \n",
       "1                       60  [1052227]           US           eng   \n",
       "2                       23   [953679]           US           eng   \n",
       "3                        8   [408775]           US           eng   \n",
       "5                        3   [199039]           US           eng   \n",
       "...                    ...        ...          ...           ...   \n",
       "219229                  58  [1035852]           US           eng   \n",
       "219231                   6         []           US           eng   \n",
       "219232                   3         []           US           eng   \n",
       "219233                   7         []           US           eng   \n",
       "219234                   2         []           US           eng   \n",
       "\n",
       "                                          popular_shelves is_ebook  \\\n",
       "0       [{'count': '159', 'name': 'to-read'}, {'count'...    false   \n",
       "1       [{'count': '54', 'name': 'currently-reading'},...     true   \n",
       "2       [{'count': '90', 'name': 'to-read'}, {'count':...     true   \n",
       "3       [{'count': '51', 'name': 'to-read'}, {'count':...    false   \n",
       "5       [{'count': '1694', 'name': 'mystery'}, {'count...    false   \n",
       "...                                                   ...      ...   \n",
       "219229  [{'count': '49', 'name': 'to-read'}, {'count':...     true   \n",
       "219231  [{'count': '497', 'name': 'to-read'}, {'count'...    false   \n",
       "219232  [{'count': '735', 'name': 'to-read'}, {'count'...    false   \n",
       "219233  [{'count': '36', 'name': 'to-read'}, {'count':...     true   \n",
       "219234  [{'count': '702', 'name': 'to-read'}, {'count'...    false   \n",
       "\n",
       "        average_rating                                      similar_books  \\\n",
       "0                 3.93  [439108, 522621, 116770, 1275927, 6202655, 840...   \n",
       "1                 4.33                                                 []   \n",
       "2                 3.49                                                 []   \n",
       "3                 3.30                                                 []   \n",
       "5                 3.96                     [93575, 280849, 243401, 77617]   \n",
       "...                ...                                                ...   \n",
       "219229            3.55                                                 []   \n",
       "219231            3.81  [23012660, 13763625, 18079894, 21432940, 17343...   \n",
       "219232            4.11  [24808217, 17620517, 13496536, 21947925, 18079...   \n",
       "219233            4.00                                                 []   \n",
       "219234            3.50  [12064253, 25017213, 571796, 27306126, 2146669...   \n",
       "\n",
       "           format                                            authors  \\\n",
       "0       hardcover               [{'author_id': '37778', 'role': ''}]   \n",
       "1           ebook              [{'author_id': '242185', 'role': ''}]   \n",
       "2           ebook  [{'author_id': '15104629', 'role': ''}, {'auth...   \n",
       "3       hardcover              [{'author_id': '190988', 'role': ''}]   \n",
       "5           audio  [{'author_id': '123715', 'role': ''}, {'author...   \n",
       "...           ...                                                ...   \n",
       "219229      ebook             [{'author_id': '4278425', 'role': ''}]   \n",
       "219231  softcover            [{'author_id': '16176417', 'role': ''}]   \n",
       "219232  softcover             [{'author_id': '5401342', 'role': ''}]   \n",
       "219233      ebook             [{'author_id': '4590885', 'role': ''}]   \n",
       "219234  softcover  [{'author_id': '2448', 'role': ''}, {'author_i...   \n",
       "\n",
       "                      publisher  num_pages publication_month  \\\n",
       "0           Simon & Schuster UK      400.0                 4   \n",
       "1                       unknown      318.0               NaN   \n",
       "2       Amazon Digital Services        0.0               NaN   \n",
       "3                   Ulverscroft        NaN                12   \n",
       "5                   HarperAudio        0.0                 3   \n",
       "...                         ...        ...               ...   \n",
       "219229                  unknown        0.0               NaN   \n",
       "219231            MX Publishing      208.0                10   \n",
       "219232            MX Publishing      288.0                 7   \n",
       "219233                  unknown        0.0                 9   \n",
       "219234            MX Publishing      148.0                 8   \n",
       "\n",
       "       edition_information publication_year   book_id  ratings_count  \\\n",
       "0                     none             2009   6066814            186   \n",
       "1                     none              NaN  33394837            269   \n",
       "2                     none              NaN  29074697            192   \n",
       "3              Large Print             1975   1902202             52   \n",
       "5                     none             2013  16158998              5   \n",
       "...                    ...              ...       ...            ...   \n",
       "219229                none              NaN  31522515            340   \n",
       "219231                none             2015  26591045             16   \n",
       "219232                none             2015  25727303              6   \n",
       "219233                none             2014  23252156             16   \n",
       "219234      Second Edition             2015  26168430              6   \n",
       "\n",
       "         work_id                                              title  \\\n",
       "0        6243149          Crowner Royal (Crowner John Mystery, #13)   \n",
       "1       54143148            The House of Memory (Pluto's Snitch #2)   \n",
       "2       49305010  The Slaughtered Virgin of Zenopolis (Inspector...   \n",
       "3        1903897            Dead in the Morning (Patrick Grant, #1)   \n",
       "5        2288775                              A Murder is Announced   \n",
       "...          ...                                                ...   \n",
       "219229  52207636                                Walking on My Grave   \n",
       "219231  46613239  The Sensible Necktie and Other Stories of Sher...   \n",
       "219232  45563843                            Mrs. Hudson in New York   \n",
       "219233  42794368                                  Wicked Reflection   \n",
       "219234  46130263                Sherlock Holmes and the July Crisis   \n",
       "\n",
       "                                     title_without_series  \n",
       "0               Crowner Royal (Crowner John Mystery, #13)  \n",
       "1                 The House of Memory (Pluto's Snitch #2)  \n",
       "2       The Slaughtered Virgin of Zenopolis (Inspector...  \n",
       "3                 Dead in the Morning (Patrick Grant, #1)  \n",
       "5                                   A Murder is Announced  \n",
       "...                                                   ...  \n",
       "219229                                Walking on My Grave  \n",
       "219231  The Sensible Necktie and Other Stories of Sher...  \n",
       "219232                            Mrs. Hudson in New York  \n",
       "219233                                  Wicked Reflection  \n",
       "219234                Sherlock Holmes and the July Crisis  \n",
       "\n",
       "[178774 rows x 20 columns]"
      ]
     },
     "execution_count": 1244,
     "metadata": {},
     "output_type": "execute_result"
    }
   ],
   "source": [
    "df.drop(drops)"
   ]
  },
  {
   "cell_type": "code",
   "execution_count": 1258,
   "metadata": {},
   "outputs": [],
   "source": [
    "au1 = auths[0].apply(pd.Series)\n",
    "au2 = auths[1].apply(pd.Series)\n",
    "au3 = auths[2].apply(pd.Series)"
   ]
  },
  {
   "cell_type": "code",
   "execution_count": 1259,
   "metadata": {},
   "outputs": [
    {
     "data": {
      "text/html": [
       "<div>\n",
       "<style scoped>\n",
       "    .dataframe tbody tr th:only-of-type {\n",
       "        vertical-align: middle;\n",
       "    }\n",
       "\n",
       "    .dataframe tbody tr th {\n",
       "        vertical-align: top;\n",
       "    }\n",
       "\n",
       "    .dataframe thead th {\n",
       "        text-align: right;\n",
       "    }\n",
       "</style>\n",
       "<table border=\"1\" class=\"dataframe\">\n",
       "  <thead>\n",
       "    <tr style=\"text-align: right;\">\n",
       "      <th></th>\n",
       "      <th>author_id</th>\n",
       "      <th>role</th>\n",
       "    </tr>\n",
       "  </thead>\n",
       "  <tbody>\n",
       "    <tr>\n",
       "      <th>0</th>\n",
       "      <td>37778</td>\n",
       "      <td></td>\n",
       "    </tr>\n",
       "    <tr>\n",
       "      <th>1</th>\n",
       "      <td>242185</td>\n",
       "      <td></td>\n",
       "    </tr>\n",
       "    <tr>\n",
       "      <th>2</th>\n",
       "      <td>15104629</td>\n",
       "      <td></td>\n",
       "    </tr>\n",
       "    <tr>\n",
       "      <th>3</th>\n",
       "      <td>190988</td>\n",
       "      <td></td>\n",
       "    </tr>\n",
       "    <tr>\n",
       "      <th>5</th>\n",
       "      <td>123715</td>\n",
       "      <td></td>\n",
       "    </tr>\n",
       "    <tr>\n",
       "      <th>...</th>\n",
       "      <td>...</td>\n",
       "      <td>...</td>\n",
       "    </tr>\n",
       "    <tr>\n",
       "      <th>219229</th>\n",
       "      <td>4278425</td>\n",
       "      <td></td>\n",
       "    </tr>\n",
       "    <tr>\n",
       "      <th>219231</th>\n",
       "      <td>16176417</td>\n",
       "      <td></td>\n",
       "    </tr>\n",
       "    <tr>\n",
       "      <th>219232</th>\n",
       "      <td>5401342</td>\n",
       "      <td></td>\n",
       "    </tr>\n",
       "    <tr>\n",
       "      <th>219233</th>\n",
       "      <td>4590885</td>\n",
       "      <td></td>\n",
       "    </tr>\n",
       "    <tr>\n",
       "      <th>219234</th>\n",
       "      <td>2448</td>\n",
       "      <td></td>\n",
       "    </tr>\n",
       "  </tbody>\n",
       "</table>\n",
       "<p>182906 rows × 2 columns</p>\n",
       "</div>"
      ],
      "text/plain": [
       "       author_id role\n",
       "0          37778     \n",
       "1         242185     \n",
       "2       15104629     \n",
       "3         190988     \n",
       "5         123715     \n",
       "...          ...  ...\n",
       "219229   4278425     \n",
       "219231  16176417     \n",
       "219232   5401342     \n",
       "219233   4590885     \n",
       "219234      2448     \n",
       "\n",
       "[182906 rows x 2 columns]"
      ]
     },
     "execution_count": 1259,
     "metadata": {},
     "output_type": "execute_result"
    }
   ],
   "source": [
    "au1"
   ]
  },
  {
   "cell_type": "markdown",
   "metadata": {},
   "source": [
    "---Code below need added---"
   ]
  },
  {
   "cell_type": "code",
   "execution_count": 1260,
   "metadata": {
    "scrolled": true
   },
   "outputs": [
    {
     "data": {
      "text/plain": [
       "                                   180718\n",
       "Editor                                957\n",
       "Pseudonym                             425\n",
       "Creator                                54\n",
       "Author                                 49\n",
       "                                    ...  \n",
       "Original author                         1\n",
       "Narrated by:Jasmine Blackborow          1\n",
       "Translator                              1\n",
       "Editor, and Narrator                    1\n",
       "Nick Podehl, Teri Schnaubelt            1\n",
       "Name: role, Length: 157, dtype: int64"
      ]
     },
     "execution_count": 1260,
     "metadata": {},
     "output_type": "execute_result"
    }
   ],
   "source": [
    "au1.role.value_counts()"
   ]
  },
  {
   "cell_type": "code",
   "execution_count": 1261,
   "metadata": {},
   "outputs": [
    {
     "data": {
      "text/plain": [
       "                         10933\n",
       "Narrator                  6838\n",
       "Translator                2201\n",
       "Reading                   1105\n",
       "Illustrator               1073\n",
       "                         ...  \n",
       "creator                      1\n",
       "mrj`@                        1\n",
       "director                     1\n",
       "preface                      1\n",
       "Narrator / Production        1\n",
       "Name: role, Length: 227, dtype: int64"
      ]
     },
     "execution_count": 1261,
     "metadata": {},
     "output_type": "execute_result"
    }
   ],
   "source": [
    "au2.role.value_counts()"
   ]
  },
  {
   "cell_type": "code",
   "execution_count": 1262,
   "metadata": {},
   "outputs": [
    {
     "data": {
      "text/plain": [
       "                        1375\n",
       "Narrator                 818\n",
       "Translator               281\n",
       "Contributor              267\n",
       "Reading                  220\n",
       "                        ... \n",
       "tbsyT                      1\n",
       "Writing as                 1\n",
       "Graphic Cover Design       1\n",
       "English Adaptation         1\n",
       "Adapted By                 1\n",
       "Name: role, Length: 113, dtype: int64"
      ]
     },
     "execution_count": 1262,
     "metadata": {},
     "output_type": "execute_result"
    }
   ],
   "source": [
    "au3.role.value_counts()"
   ]
  },
  {
   "cell_type": "markdown",
   "metadata": {},
   "source": [
    "For the sake of space, we will only look at books with 2 or less authors"
   ]
  },
  {
   "cell_type": "code",
   "execution_count": 1264,
   "metadata": {},
   "outputs": [
    {
     "data": {
      "text/plain": [
       "author_id    0\n",
       "role         0\n",
       "dtype: int64"
      ]
     },
     "execution_count": 1264,
     "metadata": {},
     "output_type": "execute_result"
    }
   ],
   "source": [
    "au1.isnull().sum()"
   ]
  },
  {
   "cell_type": "code",
   "execution_count": 1265,
   "metadata": {},
   "outputs": [
    {
     "data": {
      "text/plain": [
       "0            182906\n",
       "author_id    155306\n",
       "role         155306\n",
       "dtype: int64"
      ]
     },
     "execution_count": 1265,
     "metadata": {},
     "output_type": "execute_result"
    }
   ],
   "source": [
    "au2.isnull().sum()"
   ]
  },
  {
   "cell_type": "code",
   "execution_count": 1267,
   "metadata": {},
   "outputs": [
    {
     "data": {
      "text/html": [
       "<div>\n",
       "<style scoped>\n",
       "    .dataframe tbody tr th:only-of-type {\n",
       "        vertical-align: middle;\n",
       "    }\n",
       "\n",
       "    .dataframe tbody tr th {\n",
       "        vertical-align: top;\n",
       "    }\n",
       "\n",
       "    .dataframe thead th {\n",
       "        text-align: right;\n",
       "    }\n",
       "</style>\n",
       "<table border=\"1\" class=\"dataframe\">\n",
       "  <thead>\n",
       "    <tr style=\"text-align: right;\">\n",
       "      <th></th>\n",
       "      <th>0</th>\n",
       "      <th>author_id</th>\n",
       "      <th>role</th>\n",
       "    </tr>\n",
       "  </thead>\n",
       "  <tbody>\n",
       "    <tr>\n",
       "      <th>0</th>\n",
       "      <td>NaN</td>\n",
       "      <td>NaN</td>\n",
       "      <td>NaN</td>\n",
       "    </tr>\n",
       "    <tr>\n",
       "      <th>1</th>\n",
       "      <td>NaN</td>\n",
       "      <td>NaN</td>\n",
       "      <td>NaN</td>\n",
       "    </tr>\n",
       "    <tr>\n",
       "      <th>2</th>\n",
       "      <td>NaN</td>\n",
       "      <td>14425713</td>\n",
       "      <td></td>\n",
       "    </tr>\n",
       "    <tr>\n",
       "      <th>3</th>\n",
       "      <td>NaN</td>\n",
       "      <td>NaN</td>\n",
       "      <td>NaN</td>\n",
       "    </tr>\n",
       "    <tr>\n",
       "      <th>5</th>\n",
       "      <td>NaN</td>\n",
       "      <td>552417</td>\n",
       "      <td>Narrator</td>\n",
       "    </tr>\n",
       "  </tbody>\n",
       "</table>\n",
       "</div>"
      ],
      "text/plain": [
       "    0 author_id      role\n",
       "0 NaN       NaN       NaN\n",
       "1 NaN       NaN       NaN\n",
       "2 NaN  14425713          \n",
       "3 NaN       NaN       NaN\n",
       "5 NaN    552417  Narrator"
      ]
     },
     "execution_count": 1267,
     "metadata": {},
     "output_type": "execute_result"
    }
   ],
   "source": [
    "au2.head()"
   ]
  },
  {
   "cell_type": "code",
   "execution_count": 1269,
   "metadata": {},
   "outputs": [],
   "source": [
    "au2.drop(columns=0, inplace=True)"
   ]
  },
  {
   "cell_type": "code",
   "execution_count": 1266,
   "metadata": {},
   "outputs": [
    {
     "data": {
      "text/plain": [
       "0            182906\n",
       "author_id    178774\n",
       "role         178774\n",
       "dtype: int64"
      ]
     },
     "execution_count": 1266,
     "metadata": {},
     "output_type": "execute_result"
    }
   ],
   "source": [
    "au3.isnull().sum()"
   ]
  },
  {
   "cell_type": "markdown",
   "metadata": {},
   "source": [
    "Joining au1 and au2 to df"
   ]
  },
  {
   "cell_type": "code",
   "execution_count": 1284,
   "metadata": {},
   "outputs": [
    {
     "name": "stdout",
     "output_type": "stream",
     "text": [
      "<class 'pandas.core.frame.DataFrame'>\n",
      "Int64Index: 182906 entries, 0 to 219234\n",
      "Data columns (total 2 columns):\n",
      " #   Column     Non-Null Count   Dtype \n",
      "---  ------     --------------   ----- \n",
      " 0   author_id  182906 non-null  object\n",
      " 1   role       182906 non-null  object\n",
      "dtypes: object(2)\n",
      "memory usage: 9.2+ MB\n"
     ]
    }
   ],
   "source": [
    "au1.info()"
   ]
  },
  {
   "cell_type": "code",
   "execution_count": 1285,
   "metadata": {},
   "outputs": [
    {
     "name": "stdout",
     "output_type": "stream",
     "text": [
      "<class 'pandas.core.frame.DataFrame'>\n",
      "Int64Index: 182906 entries, 0 to 219234\n",
      "Data columns (total 20 columns):\n",
      " #   Column                Non-Null Count   Dtype  \n",
      "---  ------                --------------   -----  \n",
      " 0   text_reviews_count    182906 non-null  int64  \n",
      " 1   series                182906 non-null  object \n",
      " 2   country_code          182906 non-null  object \n",
      " 3   language_code         182906 non-null  object \n",
      " 4   popular_shelves       182906 non-null  object \n",
      " 5   is_ebook              182906 non-null  object \n",
      " 6   average_rating        182906 non-null  float64\n",
      " 7   similar_books         182906 non-null  object \n",
      " 8   format                182906 non-null  object \n",
      " 9   authors               182906 non-null  object \n",
      " 10  publisher             182906 non-null  object \n",
      " 11  num_pages             163162 non-null  float64\n",
      " 12  publication_month     121285 non-null  object \n",
      " 13  edition_information   182906 non-null  object \n",
      " 14  publication_year      132322 non-null  object \n",
      " 15  book_id               182906 non-null  int64  \n",
      " 16  ratings_count         182906 non-null  int64  \n",
      " 17  work_id               182906 non-null  int64  \n",
      " 18  title                 182906 non-null  object \n",
      " 19  title_without_series  182906 non-null  object \n",
      "dtypes: float64(2), int64(4), object(14)\n",
      "memory usage: 34.3+ MB\n"
     ]
    }
   ],
   "source": [
    "df.info()"
   ]
  },
  {
   "cell_type": "code",
   "execution_count": 1286,
   "metadata": {},
   "outputs": [
    {
     "name": "stdout",
     "output_type": "stream",
     "text": [
      "<class 'pandas.core.frame.DataFrame'>\n",
      "Int64Index: 182906 entries, 0 to 219234\n",
      "Data columns (total 2 columns):\n",
      " #   Column     Non-Null Count  Dtype \n",
      "---  ------     --------------  ----- \n",
      " 0   author_id  27600 non-null  object\n",
      " 1   role       27600 non-null  object\n",
      "dtypes: object(2)\n",
      "memory usage: 9.2+ MB\n"
     ]
    }
   ],
   "source": [
    "au2.info()"
   ]
  },
  {
   "cell_type": "code",
   "execution_count": 1287,
   "metadata": {},
   "outputs": [],
   "source": [
    "au1.columns = ['First_Author_ID', 'First_Author_Role']"
   ]
  },
  {
   "cell_type": "code",
   "execution_count": 1288,
   "metadata": {},
   "outputs": [
    {
     "data": {
      "text/html": [
       "<div>\n",
       "<style scoped>\n",
       "    .dataframe tbody tr th:only-of-type {\n",
       "        vertical-align: middle;\n",
       "    }\n",
       "\n",
       "    .dataframe tbody tr th {\n",
       "        vertical-align: top;\n",
       "    }\n",
       "\n",
       "    .dataframe thead th {\n",
       "        text-align: right;\n",
       "    }\n",
       "</style>\n",
       "<table border=\"1\" class=\"dataframe\">\n",
       "  <thead>\n",
       "    <tr style=\"text-align: right;\">\n",
       "      <th></th>\n",
       "      <th>First_Author_ID</th>\n",
       "      <th>First_Author_Role</th>\n",
       "    </tr>\n",
       "  </thead>\n",
       "  <tbody>\n",
       "    <tr>\n",
       "      <th>0</th>\n",
       "      <td>37778</td>\n",
       "      <td></td>\n",
       "    </tr>\n",
       "    <tr>\n",
       "      <th>1</th>\n",
       "      <td>242185</td>\n",
       "      <td></td>\n",
       "    </tr>\n",
       "    <tr>\n",
       "      <th>2</th>\n",
       "      <td>15104629</td>\n",
       "      <td></td>\n",
       "    </tr>\n",
       "    <tr>\n",
       "      <th>3</th>\n",
       "      <td>190988</td>\n",
       "      <td></td>\n",
       "    </tr>\n",
       "    <tr>\n",
       "      <th>5</th>\n",
       "      <td>123715</td>\n",
       "      <td></td>\n",
       "    </tr>\n",
       "  </tbody>\n",
       "</table>\n",
       "</div>"
      ],
      "text/plain": [
       "  First_Author_ID First_Author_Role\n",
       "0           37778                  \n",
       "1          242185                  \n",
       "2        15104629                  \n",
       "3          190988                  \n",
       "5          123715                  "
      ]
     },
     "execution_count": 1288,
     "metadata": {},
     "output_type": "execute_result"
    }
   ],
   "source": [
    "au1.head()"
   ]
  },
  {
   "cell_type": "code",
   "execution_count": 1289,
   "metadata": {},
   "outputs": [],
   "source": [
    "au2.columns = ['Second_Author_ID', 'Second_Author_Role']"
   ]
  },
  {
   "cell_type": "code",
   "execution_count": 1290,
   "metadata": {},
   "outputs": [
    {
     "data": {
      "text/html": [
       "<div>\n",
       "<style scoped>\n",
       "    .dataframe tbody tr th:only-of-type {\n",
       "        vertical-align: middle;\n",
       "    }\n",
       "\n",
       "    .dataframe tbody tr th {\n",
       "        vertical-align: top;\n",
       "    }\n",
       "\n",
       "    .dataframe thead th {\n",
       "        text-align: right;\n",
       "    }\n",
       "</style>\n",
       "<table border=\"1\" class=\"dataframe\">\n",
       "  <thead>\n",
       "    <tr style=\"text-align: right;\">\n",
       "      <th></th>\n",
       "      <th>Second_Author_ID</th>\n",
       "      <th>Second_Author_Role</th>\n",
       "    </tr>\n",
       "  </thead>\n",
       "  <tbody>\n",
       "    <tr>\n",
       "      <th>0</th>\n",
       "      <td>NaN</td>\n",
       "      <td>NaN</td>\n",
       "    </tr>\n",
       "    <tr>\n",
       "      <th>1</th>\n",
       "      <td>NaN</td>\n",
       "      <td>NaN</td>\n",
       "    </tr>\n",
       "    <tr>\n",
       "      <th>2</th>\n",
       "      <td>14425713</td>\n",
       "      <td></td>\n",
       "    </tr>\n",
       "    <tr>\n",
       "      <th>3</th>\n",
       "      <td>NaN</td>\n",
       "      <td>NaN</td>\n",
       "    </tr>\n",
       "    <tr>\n",
       "      <th>5</th>\n",
       "      <td>552417</td>\n",
       "      <td>Narrator</td>\n",
       "    </tr>\n",
       "  </tbody>\n",
       "</table>\n",
       "</div>"
      ],
      "text/plain": [
       "  Second_Author_ID Second_Author_Role\n",
       "0              NaN                NaN\n",
       "1              NaN                NaN\n",
       "2         14425713                   \n",
       "3              NaN                NaN\n",
       "5           552417           Narrator"
      ]
     },
     "execution_count": 1290,
     "metadata": {},
     "output_type": "execute_result"
    }
   ],
   "source": [
    "au2.head()"
   ]
  },
  {
   "cell_type": "code",
   "execution_count": 1300,
   "metadata": {},
   "outputs": [],
   "source": [
    "df['first_author_id'] = au1.First_Author_ID\n",
    "df['first_author_role'] = au1.First_Author_Role\n",
    "df['second_author_id'] = au2.Second_Author_ID\n",
    "df['second_author_role'] = au2.Second_Author_Role"
   ]
  },
  {
   "cell_type": "code",
   "execution_count": 1301,
   "metadata": {},
   "outputs": [
    {
     "data": {
      "text/html": [
       "<div>\n",
       "<style scoped>\n",
       "    .dataframe tbody tr th:only-of-type {\n",
       "        vertical-align: middle;\n",
       "    }\n",
       "\n",
       "    .dataframe tbody tr th {\n",
       "        vertical-align: top;\n",
       "    }\n",
       "\n",
       "    .dataframe thead th {\n",
       "        text-align: right;\n",
       "    }\n",
       "</style>\n",
       "<table border=\"1\" class=\"dataframe\">\n",
       "  <thead>\n",
       "    <tr style=\"text-align: right;\">\n",
       "      <th></th>\n",
       "      <th>text_reviews_count</th>\n",
       "      <th>series</th>\n",
       "      <th>country_code</th>\n",
       "      <th>language_code</th>\n",
       "      <th>popular_shelves</th>\n",
       "      <th>is_ebook</th>\n",
       "      <th>average_rating</th>\n",
       "      <th>similar_books</th>\n",
       "      <th>format</th>\n",
       "      <th>authors</th>\n",
       "      <th>...</th>\n",
       "      <th>book_id</th>\n",
       "      <th>ratings_count</th>\n",
       "      <th>work_id</th>\n",
       "      <th>title</th>\n",
       "      <th>title_without_series</th>\n",
       "      <th>First_Author_ID</th>\n",
       "      <th>first_author_id</th>\n",
       "      <th>first_author_role</th>\n",
       "      <th>second_author_id</th>\n",
       "      <th>second_author_role</th>\n",
       "    </tr>\n",
       "  </thead>\n",
       "  <tbody>\n",
       "    <tr>\n",
       "      <th>0</th>\n",
       "      <td>15</td>\n",
       "      <td>[169353]</td>\n",
       "      <td>US</td>\n",
       "      <td>eng</td>\n",
       "      <td>[{'count': '159', 'name': 'to-read'}, {'count'...</td>\n",
       "      <td>false</td>\n",
       "      <td>3.93</td>\n",
       "      <td>[439108, 522621, 116770, 1275927, 6202655, 840...</td>\n",
       "      <td>hardcover</td>\n",
       "      <td>[{'author_id': '37778', 'role': ''}]</td>\n",
       "      <td>...</td>\n",
       "      <td>6066814</td>\n",
       "      <td>186</td>\n",
       "      <td>6243149</td>\n",
       "      <td>Crowner Royal (Crowner John Mystery, #13)</td>\n",
       "      <td>Crowner Royal (Crowner John Mystery, #13)</td>\n",
       "      <td>37778</td>\n",
       "      <td>37778</td>\n",
       "      <td></td>\n",
       "      <td>NaN</td>\n",
       "      <td>NaN</td>\n",
       "    </tr>\n",
       "    <tr>\n",
       "      <th>1</th>\n",
       "      <td>60</td>\n",
       "      <td>[1052227]</td>\n",
       "      <td>US</td>\n",
       "      <td>eng</td>\n",
       "      <td>[{'count': '54', 'name': 'currently-reading'},...</td>\n",
       "      <td>true</td>\n",
       "      <td>4.33</td>\n",
       "      <td>[]</td>\n",
       "      <td>ebook</td>\n",
       "      <td>[{'author_id': '242185', 'role': ''}]</td>\n",
       "      <td>...</td>\n",
       "      <td>33394837</td>\n",
       "      <td>269</td>\n",
       "      <td>54143148</td>\n",
       "      <td>The House of Memory (Pluto's Snitch #2)</td>\n",
       "      <td>The House of Memory (Pluto's Snitch #2)</td>\n",
       "      <td>242185</td>\n",
       "      <td>242185</td>\n",
       "      <td></td>\n",
       "      <td>NaN</td>\n",
       "      <td>NaN</td>\n",
       "    </tr>\n",
       "    <tr>\n",
       "      <th>2</th>\n",
       "      <td>23</td>\n",
       "      <td>[953679]</td>\n",
       "      <td>US</td>\n",
       "      <td>eng</td>\n",
       "      <td>[{'count': '90', 'name': 'to-read'}, {'count':...</td>\n",
       "      <td>true</td>\n",
       "      <td>3.49</td>\n",
       "      <td>[]</td>\n",
       "      <td>ebook</td>\n",
       "      <td>[{'author_id': '15104629', 'role': ''}, {'auth...</td>\n",
       "      <td>...</td>\n",
       "      <td>29074697</td>\n",
       "      <td>192</td>\n",
       "      <td>49305010</td>\n",
       "      <td>The Slaughtered Virgin of Zenopolis (Inspector...</td>\n",
       "      <td>The Slaughtered Virgin of Zenopolis (Inspector...</td>\n",
       "      <td>15104629</td>\n",
       "      <td>15104629</td>\n",
       "      <td></td>\n",
       "      <td>14425713</td>\n",
       "      <td></td>\n",
       "    </tr>\n",
       "    <tr>\n",
       "      <th>3</th>\n",
       "      <td>8</td>\n",
       "      <td>[408775]</td>\n",
       "      <td>US</td>\n",
       "      <td>eng</td>\n",
       "      <td>[{'count': '51', 'name': 'to-read'}, {'count':...</td>\n",
       "      <td>false</td>\n",
       "      <td>3.30</td>\n",
       "      <td>[]</td>\n",
       "      <td>hardcover</td>\n",
       "      <td>[{'author_id': '190988', 'role': ''}]</td>\n",
       "      <td>...</td>\n",
       "      <td>1902202</td>\n",
       "      <td>52</td>\n",
       "      <td>1903897</td>\n",
       "      <td>Dead in the Morning (Patrick Grant, #1)</td>\n",
       "      <td>Dead in the Morning (Patrick Grant, #1)</td>\n",
       "      <td>190988</td>\n",
       "      <td>190988</td>\n",
       "      <td></td>\n",
       "      <td>NaN</td>\n",
       "      <td>NaN</td>\n",
       "    </tr>\n",
       "    <tr>\n",
       "      <th>5</th>\n",
       "      <td>3</td>\n",
       "      <td>[199039]</td>\n",
       "      <td>US</td>\n",
       "      <td>eng</td>\n",
       "      <td>[{'count': '1694', 'name': 'mystery'}, {'count...</td>\n",
       "      <td>false</td>\n",
       "      <td>3.96</td>\n",
       "      <td>[93575, 280849, 243401, 77617]</td>\n",
       "      <td>audio</td>\n",
       "      <td>[{'author_id': '123715', 'role': ''}, {'author...</td>\n",
       "      <td>...</td>\n",
       "      <td>16158998</td>\n",
       "      <td>5</td>\n",
       "      <td>2288775</td>\n",
       "      <td>A Murder is Announced</td>\n",
       "      <td>A Murder is Announced</td>\n",
       "      <td>123715</td>\n",
       "      <td>123715</td>\n",
       "      <td></td>\n",
       "      <td>552417</td>\n",
       "      <td>Narrator</td>\n",
       "    </tr>\n",
       "  </tbody>\n",
       "</table>\n",
       "<p>5 rows × 25 columns</p>\n",
       "</div>"
      ],
      "text/plain": [
       "   text_reviews_count     series country_code language_code  \\\n",
       "0                  15   [169353]           US           eng   \n",
       "1                  60  [1052227]           US           eng   \n",
       "2                  23   [953679]           US           eng   \n",
       "3                   8   [408775]           US           eng   \n",
       "5                   3   [199039]           US           eng   \n",
       "\n",
       "                                     popular_shelves is_ebook  average_rating  \\\n",
       "0  [{'count': '159', 'name': 'to-read'}, {'count'...    false            3.93   \n",
       "1  [{'count': '54', 'name': 'currently-reading'},...     true            4.33   \n",
       "2  [{'count': '90', 'name': 'to-read'}, {'count':...     true            3.49   \n",
       "3  [{'count': '51', 'name': 'to-read'}, {'count':...    false            3.30   \n",
       "5  [{'count': '1694', 'name': 'mystery'}, {'count...    false            3.96   \n",
       "\n",
       "                                       similar_books     format  \\\n",
       "0  [439108, 522621, 116770, 1275927, 6202655, 840...  hardcover   \n",
       "1                                                 []      ebook   \n",
       "2                                                 []      ebook   \n",
       "3                                                 []  hardcover   \n",
       "5                     [93575, 280849, 243401, 77617]      audio   \n",
       "\n",
       "                                             authors  ...   book_id  \\\n",
       "0               [{'author_id': '37778', 'role': ''}]  ...   6066814   \n",
       "1              [{'author_id': '242185', 'role': ''}]  ...  33394837   \n",
       "2  [{'author_id': '15104629', 'role': ''}, {'auth...  ...  29074697   \n",
       "3              [{'author_id': '190988', 'role': ''}]  ...   1902202   \n",
       "5  [{'author_id': '123715', 'role': ''}, {'author...  ...  16158998   \n",
       "\n",
       "   ratings_count   work_id                                              title  \\\n",
       "0            186   6243149          Crowner Royal (Crowner John Mystery, #13)   \n",
       "1            269  54143148            The House of Memory (Pluto's Snitch #2)   \n",
       "2            192  49305010  The Slaughtered Virgin of Zenopolis (Inspector...   \n",
       "3             52   1903897            Dead in the Morning (Patrick Grant, #1)   \n",
       "5              5   2288775                              A Murder is Announced   \n",
       "\n",
       "                                title_without_series  First_Author_ID  \\\n",
       "0          Crowner Royal (Crowner John Mystery, #13)            37778   \n",
       "1            The House of Memory (Pluto's Snitch #2)           242185   \n",
       "2  The Slaughtered Virgin of Zenopolis (Inspector...         15104629   \n",
       "3            Dead in the Morning (Patrick Grant, #1)           190988   \n",
       "5                              A Murder is Announced           123715   \n",
       "\n",
       "   first_author_id  first_author_role second_author_id second_author_role  \n",
       "0            37778                                 NaN                NaN  \n",
       "1           242185                                 NaN                NaN  \n",
       "2         15104629                            14425713                     \n",
       "3           190988                                 NaN                NaN  \n",
       "5           123715                              552417           Narrator  \n",
       "\n",
       "[5 rows x 25 columns]"
      ]
     },
     "execution_count": 1301,
     "metadata": {},
     "output_type": "execute_result"
    }
   ],
   "source": [
    "df.head()"
   ]
  },
  {
   "cell_type": "code",
   "execution_count": 1304,
   "metadata": {},
   "outputs": [],
   "source": [
    "df.drop(columns=['authors'], inplace=True)"
   ]
  },
  {
   "cell_type": "code",
   "execution_count": 1305,
   "metadata": {},
   "outputs": [
    {
     "name": "stdout",
     "output_type": "stream",
     "text": [
      "utho results are:\n",
      " Author    155\n",
      "Name: first_author_role, dtype: int64\n"
     ]
    }
   ],
   "source": [
    "find_formats(df, \"first_author_role\", \"utho\")"
   ]
  },
  {
   "cell_type": "code",
   "execution_count": 1309,
   "metadata": {},
   "outputs": [
    {
     "name": "stderr",
     "output_type": "stream",
     "text": [
      "/Users/jensensj/opt/anaconda3/lib/python3.8/site-packages/pandas/core/indexing.py:670: SettingWithCopyWarning: \n",
      "A value is trying to be set on a copy of a slice from a DataFrame\n",
      "\n",
      "See the caveats in the documentation: https://pandas.pydata.org/pandas-docs/stable/user_guide/indexing.html#returning-a-view-versus-a-copy\n",
      "  iloc._setitem_with_indexer(indexer, value)\n"
     ]
    }
   ],
   "source": [
    "change_formats(df, \"first_author_role\", \"utho\", \"Author\")"
   ]
  },
  {
   "cell_type": "code",
   "execution_count": 1307,
   "metadata": {},
   "outputs": [
    {
     "name": "stdout",
     "output_type": "stream",
     "text": [
      "rit results are:\n",
      " Series([], Name: first_author_role, dtype: int64)\n"
     ]
    }
   ],
   "source": [
    "find_formats(df, \"first_author_role\", \"rit\")"
   ]
  },
  {
   "cell_type": "code",
   "execution_count": 1310,
   "metadata": {},
   "outputs": [],
   "source": [
    "change_formats(df, \"first_author_role\", \"rit\", \"Author\")"
   ]
  },
  {
   "cell_type": "code",
   "execution_count": 1311,
   "metadata": {},
   "outputs": [
    {
     "name": "stdout",
     "output_type": "stream",
     "text": [
      "rra results are:\n",
      " Narrator                            11\n",
      "Narrator Barry Eisler                2\n",
      "Stephanie Cole-Narrator              2\n",
      ":Avita Jay (narrator)                1\n",
      " Lucy Price-Lewis, narrator          1\n",
      "Narrator- Emily Beresford            1\n",
      " Tavia Gilbert (Narrator)            1\n",
      "  (Narrators) Elizabeth Knowelde     1\n",
      "Editor, and Narrator                 1\n",
      "Narrated by:Jasmine Blackborow       1\n",
      "Narrator Lorelei King                1\n",
      "- Narrator Simon Vance               1\n",
      "Narrated by: Alison Campbell         1\n",
      "Narrated ByAntonia Beamish           1\n",
      "Narrated by:Julia Barrie             1\n",
      "Narrated by Corey Gagne              1\n",
      "Mark Deakins narrator                1\n",
      "Narrated by: James Naughton          1\n",
      "Narrated by: Teri , Scott , Amy      1\n",
      "Narrator Beth Chalmers               1\n",
      "Narrated by: Lorna Raver             1\n",
      "Narrated by Jan Cramer               1\n",
      "Narrated by:John Telfer              1\n",
      "Narrated by: Hannah Murray           1\n",
      "Narrator Catherine Mills             1\n",
      "Narrated by: Liz Pearce              1\n",
      " Susan Duerden, Narrator             1\n",
      " Narrated By Orlagh Cassidy          1\n",
      "Name: first_author_role, dtype: int64\n"
     ]
    }
   ],
   "source": [
    "find_formats(df, \"first_author_role\", \"rra\")"
   ]
  },
  {
   "cell_type": "code",
   "execution_count": 1313,
   "metadata": {},
   "outputs": [
    {
     "data": {
      "text/html": [
       "<div>\n",
       "<style scoped>\n",
       "    .dataframe tbody tr th:only-of-type {\n",
       "        vertical-align: middle;\n",
       "    }\n",
       "\n",
       "    .dataframe tbody tr th {\n",
       "        vertical-align: top;\n",
       "    }\n",
       "\n",
       "    .dataframe thead th {\n",
       "        text-align: right;\n",
       "    }\n",
       "</style>\n",
       "<table border=\"1\" class=\"dataframe\">\n",
       "  <thead>\n",
       "    <tr style=\"text-align: right;\">\n",
       "      <th></th>\n",
       "      <th>text_reviews_count</th>\n",
       "      <th>series</th>\n",
       "      <th>country_code</th>\n",
       "      <th>language_code</th>\n",
       "      <th>popular_shelves</th>\n",
       "      <th>is_ebook</th>\n",
       "      <th>average_rating</th>\n",
       "      <th>similar_books</th>\n",
       "      <th>format</th>\n",
       "      <th>publisher</th>\n",
       "      <th>...</th>\n",
       "      <th>book_id</th>\n",
       "      <th>ratings_count</th>\n",
       "      <th>work_id</th>\n",
       "      <th>title</th>\n",
       "      <th>title_without_series</th>\n",
       "      <th>First_Author_ID</th>\n",
       "      <th>first_author_id</th>\n",
       "      <th>first_author_role</th>\n",
       "      <th>second_author_id</th>\n",
       "      <th>second_author_role</th>\n",
       "    </tr>\n",
       "  </thead>\n",
       "  <tbody>\n",
       "    <tr>\n",
       "      <th>126033</th>\n",
       "      <td>1</td>\n",
       "      <td>[]</td>\n",
       "      <td>US</td>\n",
       "      <td>eng</td>\n",
       "      <td>[{'count': '92', 'name': 'to-read'}, {'count':...</td>\n",
       "      <td>false</td>\n",
       "      <td>4.10</td>\n",
       "      <td>[21800211, 15997485, 13266465, 234337, 1362660...</td>\n",
       "      <td>audible</td>\n",
       "      <td>Brilliance Audio</td>\n",
       "      <td>...</td>\n",
       "      <td>30727399</td>\n",
       "      <td>4</td>\n",
       "      <td>19932288</td>\n",
       "      <td>The Khmer Kill</td>\n",
       "      <td>The Khmer Kill</td>\n",
       "      <td>603</td>\n",
       "      <td>603</td>\n",
       "      <td>Narrator Barry Eisler</td>\n",
       "      <td>NaN</td>\n",
       "      <td>NaN</td>\n",
       "    </tr>\n",
       "    <tr>\n",
       "      <th>216672</th>\n",
       "      <td>4</td>\n",
       "      <td>[]</td>\n",
       "      <td>US</td>\n",
       "      <td>eng</td>\n",
       "      <td>[{'count': '146', 'name': 'currently-reading'}...</td>\n",
       "      <td>false</td>\n",
       "      <td>3.85</td>\n",
       "      <td>[12988422, 29493393, 24611449, 22259773, 22522...</td>\n",
       "      <td>audible</td>\n",
       "      <td>Brilliance Audio</td>\n",
       "      <td>...</td>\n",
       "      <td>30726474</td>\n",
       "      <td>18</td>\n",
       "      <td>45688382</td>\n",
       "      <td>The God's Eye View</td>\n",
       "      <td>The God's Eye View</td>\n",
       "      <td>603</td>\n",
       "      <td>603</td>\n",
       "      <td>Narrator Barry Eisler</td>\n",
       "      <td>NaN</td>\n",
       "      <td>NaN</td>\n",
       "    </tr>\n",
       "  </tbody>\n",
       "</table>\n",
       "<p>2 rows × 24 columns</p>\n",
       "</div>"
      ],
      "text/plain": [
       "        text_reviews_count series country_code language_code  \\\n",
       "126033                   1     []           US           eng   \n",
       "216672                   4     []           US           eng   \n",
       "\n",
       "                                          popular_shelves is_ebook  \\\n",
       "126033  [{'count': '92', 'name': 'to-read'}, {'count':...    false   \n",
       "216672  [{'count': '146', 'name': 'currently-reading'}...    false   \n",
       "\n",
       "        average_rating                                      similar_books  \\\n",
       "126033            4.10  [21800211, 15997485, 13266465, 234337, 1362660...   \n",
       "216672            3.85  [12988422, 29493393, 24611449, 22259773, 22522...   \n",
       "\n",
       "         format         publisher  ...   book_id ratings_count   work_id  \\\n",
       "126033  audible  Brilliance Audio  ...  30727399             4  19932288   \n",
       "216672  audible  Brilliance Audio  ...  30726474            18  45688382   \n",
       "\n",
       "                     title  title_without_series  First_Author_ID  \\\n",
       "126033      The Khmer Kill        The Khmer Kill              603   \n",
       "216672  The God's Eye View    The God's Eye View              603   \n",
       "\n",
       "        first_author_id      first_author_role second_author_id  \\\n",
       "126033              603  Narrator Barry Eisler              NaN   \n",
       "216672              603  Narrator Barry Eisler              NaN   \n",
       "\n",
       "       second_author_role  \n",
       "126033                NaN  \n",
       "216672                NaN  \n",
       "\n",
       "[2 rows x 24 columns]"
      ]
     },
     "execution_count": 1313,
     "metadata": {},
     "output_type": "execute_result"
    }
   ],
   "source": [
    "df[df.first_author_role == \"Narrator Barry Eisler\"]"
   ]
  },
  {
   "cell_type": "code",
   "execution_count": 1314,
   "metadata": {},
   "outputs": [
    {
     "name": "stderr",
     "output_type": "stream",
     "text": [
      "/Users/jensensj/opt/anaconda3/lib/python3.8/site-packages/pandas/core/indexing.py:670: SettingWithCopyWarning: \n",
      "A value is trying to be set on a copy of a slice from a DataFrame\n",
      "\n",
      "See the caveats in the documentation: https://pandas.pydata.org/pandas-docs/stable/user_guide/indexing.html#returning-a-view-versus-a-copy\n",
      "  iloc._setitem_with_indexer(indexer, value)\n"
     ]
    }
   ],
   "source": [
    "# ID Corresponds to narrator name. Proceeding with Narrator\n",
    "change_formats(df, \"first_author_role\", \"rra\", \"Narrator\")"
   ]
  },
  {
   "cell_type": "code",
   "execution_count": 1317,
   "metadata": {},
   "outputs": [
    {
     "name": "stdout",
     "output_type": "stream",
     "text": [
      "itor results are:\n",
      " Editor                              957\n",
      "editor                               46\n",
      "Editor / Contributor                 28\n",
      "Editor/Contributor                   14\n",
      "Editor, Contributor                   5\n",
      "Editor, Introduction                  5\n",
      "Editor & Contributor                  4\n",
      "editor / contributor                  3\n",
      "Editor and Contributor                3\n",
      "editor/contributor                    3\n",
      "Series Editor                         2\n",
      "Editor/Introduction                   2\n",
      "Editor; Introduction                  2\n",
      "Editor, Foreword                      1\n",
      "Editor/Introduction/Afterword         1\n",
      "Editor, Introduction, Contributo      1\n",
      "(editor)                              1\n",
      "Name: first_author_role, dtype: int64\n"
     ]
    }
   ],
   "source": [
    "find_formats(df, \"first_author_role\", \"itor\")"
   ]
  },
  {
   "cell_type": "code",
   "execution_count": 1318,
   "metadata": {},
   "outputs": [
    {
     "name": "stderr",
     "output_type": "stream",
     "text": [
      "/Users/jensensj/opt/anaconda3/lib/python3.8/site-packages/pandas/core/indexing.py:670: SettingWithCopyWarning: \n",
      "A value is trying to be set on a copy of a slice from a DataFrame\n",
      "\n",
      "See the caveats in the documentation: https://pandas.pydata.org/pandas-docs/stable/user_guide/indexing.html#returning-a-view-versus-a-copy\n",
      "  iloc._setitem_with_indexer(indexer, value)\n"
     ]
    }
   ],
   "source": [
    "change_formats(df, \"first_author_role\", \"itor\", \"Editor\")"
   ]
  },
  {
   "cell_type": "code",
   "execution_count": 1319,
   "metadata": {},
   "outputs": [
    {
     "name": "stdout",
     "output_type": "stream",
     "text": [
      "ont results are:\n",
      " Contributor                  48\n",
      "contributor & redactional     2\n",
      "Contributor and Forward       1\n",
      "contributor                   1\n",
      "Translator & Contributor      1\n",
      "Name: first_author_role, dtype: int64\n"
     ]
    }
   ],
   "source": [
    "find_formats(df, \"first_author_role\", \"ont\")"
   ]
  },
  {
   "cell_type": "code",
   "execution_count": 1320,
   "metadata": {},
   "outputs": [
    {
     "name": "stderr",
     "output_type": "stream",
     "text": [
      "/Users/jensensj/opt/anaconda3/lib/python3.8/site-packages/pandas/core/indexing.py:670: SettingWithCopyWarning: \n",
      "A value is trying to be set on a copy of a slice from a DataFrame\n",
      "\n",
      "See the caveats in the documentation: https://pandas.pydata.org/pandas-docs/stable/user_guide/indexing.html#returning-a-view-versus-a-copy\n",
      "  iloc._setitem_with_indexer(indexer, value)\n"
     ]
    }
   ],
   "source": [
    "change_formats(df, \"first_author_role\", \"ont\", \"Contributor\")"
   ]
  },
  {
   "cell_type": "code",
   "execution_count": 1324,
   "metadata": {},
   "outputs": [
    {
     "data": {
      "text/plain": [
       "                       180718\n",
       "Editor                   1078\n",
       "Pseudonym                 425\n",
       "Author                    155\n",
       "Creator                    54\n",
       "                        ...  \n",
       "Translator                  1\n",
       "Photographs                 1\n",
       "a                           1\n",
       "Adapter                     1\n",
       "Translator, Adaptor         1\n",
       "Name: first_author_role, Length: 80, dtype: int64"
      ]
     },
     "execution_count": 1324,
     "metadata": {},
     "output_type": "execute_result"
    }
   ],
   "source": [
    "df.first_author_role.value_counts()"
   ]
  },
  {
   "cell_type": "code",
   "execution_count": 1327,
   "metadata": {},
   "outputs": [
    {
     "name": "stdout",
     "output_type": "stream",
     "text": [
      "apt results are:\n",
      " Adapter                 34\n",
      "Adapter/Novelization    30\n",
      "Adaptor                 17\n",
      "Adapted by               8\n",
      "Adapter, Illustrator     5\n",
      "Adapted By               5\n",
      "Text, Adapter            2\n",
      "Adaptation               1\n",
      "Adaptaition              1\n",
      "Adaption                 1\n",
      "Adaptor, Illustrator     1\n",
      "Adapter                  1\n",
      "Translator, Adaptor      1\n",
      "adaptor                  1\n",
      "Name: first_author_role, dtype: int64\n"
     ]
    }
   ],
   "source": [
    "find_formats(df, \"first_author_role\", \"apt\")"
   ]
  },
  {
   "cell_type": "code",
   "execution_count": 1328,
   "metadata": {},
   "outputs": [
    {
     "name": "stderr",
     "output_type": "stream",
     "text": [
      "/Users/jensensj/opt/anaconda3/lib/python3.8/site-packages/pandas/core/indexing.py:670: SettingWithCopyWarning: \n",
      "A value is trying to be set on a copy of a slice from a DataFrame\n",
      "\n",
      "See the caveats in the documentation: https://pandas.pydata.org/pandas-docs/stable/user_guide/indexing.html#returning-a-view-versus-a-copy\n",
      "  iloc._setitem_with_indexer(indexer, value)\n"
     ]
    }
   ],
   "source": [
    "change_formats(df, \"first_author_role\", \"apt\", \"Adapter\")"
   ]
  },
  {
   "cell_type": "code",
   "execution_count": 1331,
   "metadata": {},
   "outputs": [
    {
     "name": "stdout",
     "output_type": "stream",
     "text": [
      "eat results are:\n",
      " Creator                54\n",
      "Series Creator         12\n",
      "Creator,Foreword by     1\n",
      "creator                 1\n",
      "Name: first_author_role, dtype: int64\n"
     ]
    }
   ],
   "source": [
    "find_formats(df, \"first_author_role\", \"eat\")"
   ]
  },
  {
   "cell_type": "code",
   "execution_count": 1332,
   "metadata": {},
   "outputs": [
    {
     "name": "stderr",
     "output_type": "stream",
     "text": [
      "/Users/jensensj/opt/anaconda3/lib/python3.8/site-packages/pandas/core/indexing.py:670: SettingWithCopyWarning: \n",
      "A value is trying to be set on a copy of a slice from a DataFrame\n",
      "\n",
      "See the caveats in the documentation: https://pandas.pydata.org/pandas-docs/stable/user_guide/indexing.html#returning-a-view-versus-a-copy\n",
      "  iloc._setitem_with_indexer(indexer, value)\n"
     ]
    }
   ],
   "source": [
    "change_formats(df, \"first_author_role\", \"eat\", \"Creator\")"
   ]
  },
  {
   "cell_type": "code",
   "execution_count": 1343,
   "metadata": {},
   "outputs": [
    {
     "name": "stdout",
     "output_type": "stream",
     "text": [
      "ame results are:\n",
      " House Name    41\n",
      "Pen Name      11\n",
      "pen name       7\n",
      "Name: first_author_role, dtype: int64\n"
     ]
    }
   ],
   "source": [
    "find_formats(df, \"first_author_role\", \"ame\")"
   ]
  },
  {
   "cell_type": "code",
   "execution_count": 1348,
   "metadata": {},
   "outputs": [
    {
     "name": "stderr",
     "output_type": "stream",
     "text": [
      "/Users/jensensj/opt/anaconda3/lib/python3.8/site-packages/pandas/core/indexing.py:670: SettingWithCopyWarning: \n",
      "A value is trying to be set on a copy of a slice from a DataFrame\n",
      "\n",
      "See the caveats in the documentation: https://pandas.pydata.org/pandas-docs/stable/user_guide/indexing.html#returning-a-view-versus-a-copy\n",
      "  iloc._setitem_with_indexer(indexer, value)\n"
     ]
    }
   ],
   "source": [
    "change_formats(df, \"first_author_role\", \"seu\", \"Pseudonym\")\n",
    "change_formats(df, \"first_author_role\", \"Pen Name\", \"Pseudonym\")\n",
    "change_formats(df, \"first_author_role\", \"pen name\", \"Pseudonym\")\n",
    "change_formats(df, \"first_author_role\", \"Alias\", \"Pseudonym\")"
   ]
  },
  {
   "cell_type": "code",
   "execution_count": 1349,
   "metadata": {},
   "outputs": [
    {
     "data": {
      "text/plain": [
       "                 180718\n",
       "Editor             1078\n",
       "Pseudonym           497\n",
       "Author              155\n",
       "Adapter             108\n",
       "Creator              68\n",
       "Contributor          53\n",
       "House Name           41\n",
       "Narrator             40\n",
       "Reading              20\n",
       "Preface              14\n",
       "Introduction         12\n",
       "Illustrations         9\n",
       "Illustrator           7\n",
       "Translation           6\n",
       "Compilation           6\n",
       "Foreword              6\n",
       "Name: first_author_role, dtype: int64"
      ]
     },
     "execution_count": 1349,
     "metadata": {},
     "output_type": "execute_result"
    }
   ],
   "source": [
    "df.first_author_role.value_counts()[df.first_author_role.value_counts()>5]"
   ]
  },
  {
   "cell_type": "code",
   "execution_count": 1353,
   "metadata": {},
   "outputs": [
    {
     "name": "stdout",
     "output_type": "stream",
     "text": [
      "omp results are:\n",
      " Compilation    6\n",
      "Composer       2\n",
      "Compiler       1\n",
      "Name: first_author_role, dtype: int64\n"
     ]
    }
   ],
   "source": [
    "find_formats(df, \"first_author_role\", \"omp\")"
   ]
  },
  {
   "cell_type": "code",
   "execution_count": 1354,
   "metadata": {},
   "outputs": [
    {
     "name": "stderr",
     "output_type": "stream",
     "text": [
      "/Users/jensensj/opt/anaconda3/lib/python3.8/site-packages/pandas/core/indexing.py:670: SettingWithCopyWarning: \n",
      "A value is trying to be set on a copy of a slice from a DataFrame\n",
      "\n",
      "See the caveats in the documentation: https://pandas.pydata.org/pandas-docs/stable/user_guide/indexing.html#returning-a-view-versus-a-copy\n",
      "  iloc._setitem_with_indexer(indexer, value)\n"
     ]
    }
   ],
   "source": [
    "change_formats(df, \"first_author_role\", \"omp\", \"Compilation\")"
   ]
  },
  {
   "cell_type": "code",
   "execution_count": 1356,
   "metadata": {},
   "outputs": [
    {
     "name": "stdout",
     "output_type": "stream",
     "text": [
      "ans results are:\n",
      " Translation    6\n",
      "Translator     1\n",
      "Name: first_author_role, dtype: int64\n"
     ]
    }
   ],
   "source": [
    "find_formats(df, \"first_author_role\", \"ans\")"
   ]
  },
  {
   "cell_type": "code",
   "execution_count": 1357,
   "metadata": {},
   "outputs": [
    {
     "name": "stderr",
     "output_type": "stream",
     "text": [
      "/Users/jensensj/opt/anaconda3/lib/python3.8/site-packages/pandas/core/indexing.py:670: SettingWithCopyWarning: \n",
      "A value is trying to be set on a copy of a slice from a DataFrame\n",
      "\n",
      "See the caveats in the documentation: https://pandas.pydata.org/pandas-docs/stable/user_guide/indexing.html#returning-a-view-versus-a-copy\n",
      "  iloc._setitem_with_indexer(indexer, value)\n"
     ]
    }
   ],
   "source": [
    "change_formats(df, \"first_author_role\", \"ans\", \"Translation\")"
   ]
  },
  {
   "cell_type": "code",
   "execution_count": 1361,
   "metadata": {},
   "outputs": [
    {
     "data": {
      "text/plain": [
       "                                    180718\n",
       "Editor                                1078\n",
       "Pseudonym                              497\n",
       "Author                                 155\n",
       "Adapter                                108\n",
       "Creator                                 68\n",
       "Contributor                             53\n",
       "House Name                              41\n",
       "Narrator                                40\n",
       "Reading                                 20\n",
       "Preface                                 14\n",
       "Introduction                            12\n",
       "Compilation                              9\n",
       "Illustrations                            9\n",
       "Translation                              7\n",
       "Illustrator                              7\n",
       "Foreword                                 6\n",
       "Atributed to                             5\n",
       "With                                     4\n",
       "Novelization                             4\n",
       "Producer                                 4\n",
       "Screenplay                               3\n",
       "as Diane Miller                          3\n",
       "Retold by                                3\n",
       "Selections                               3\n",
       "Story                                    3\n",
       "Performance                              2\n",
       "Manufacturer                             2\n",
       "Abridged by                              2\n",
       "Sir                                      1\n",
       "Editro                                   1\n",
       "P. Rawlins,  S. Duncan,  A. King         1\n",
       "Original Screenplay                      1\n",
       "Text, Illustrator                        1\n",
       "Proposed Concept                         1\n",
       "As told to                               1\n",
       "Chosen By                                1\n",
       "characters                               1\n",
       "Memoir                                   1\n",
       "Selector/Introduction                    1\n",
       "fd~ brk@                                 1\n",
       "a                                        1\n",
       "Simon Vance                              1\n",
       "Photographer                             1\n",
       "Idea                                     1\n",
       "Designed by                              1\n",
       "myself                                   1\n",
       "designer                                 1\n",
       "Suzanne Toren                            1\n",
       "As told by                               1\n",
       "Producer/Director                        1\n",
       "Actor                                    1\n",
       "Auhor                                    1\n",
       "Photographs                              1\n",
       "Nick Podehl, Teri Schnaubelt             1\n",
       "Name: first_author_role, dtype: int64"
      ]
     },
     "execution_count": 1361,
     "metadata": {},
     "output_type": "execute_result"
    }
   ],
   "source": [
    "df.first_author_role.value_counts()#[df.first_author_role.value_counts()>1]"
   ]
  },
  {
   "cell_type": "code",
   "execution_count": 1365,
   "metadata": {},
   "outputs": [
    {
     "data": {
      "text/plain": [
       "<matplotlib.axes._subplots.AxesSubplot at 0x1737910a0>"
      ]
     },
     "execution_count": 1365,
     "metadata": {},
     "output_type": "execute_result"
    },
    {
     "data": {
      "image/png": "[encoded data removed]",
      "text/plain": [
       "<Figure size 432x288 with 1 Axes>"
      ]
     },
     "metadata": {
      "needs_background": "light"
     },
     "output_type": "display_data"
    }
   ],
   "source": [
    "df.format[df.first_author_role == \"\"].hist()"
   ]
  },
  {
   "cell_type": "code",
   "execution_count": 1366,
   "metadata": {},
   "outputs": [
    {
     "name": "stdout",
     "output_type": "stream",
     "text": [
      "lust results are:\n",
      " Illustrations        9\n",
      "Illustrator          7\n",
      "Text, Illustrator    1\n",
      "Name: first_author_role, dtype: int64\n"
     ]
    }
   ],
   "source": [
    "find_formats(df, \"first_author_role\", \"lust\")"
   ]
  },
  {
   "cell_type": "code",
   "execution_count": 1367,
   "metadata": {},
   "outputs": [
    {
     "name": "stderr",
     "output_type": "stream",
     "text": [
      "/Users/jensensj/opt/anaconda3/lib/python3.8/site-packages/pandas/core/indexing.py:670: SettingWithCopyWarning: \n",
      "A value is trying to be set on a copy of a slice from a DataFrame\n",
      "\n",
      "See the caveats in the documentation: https://pandas.pydata.org/pandas-docs/stable/user_guide/indexing.html#returning-a-view-versus-a-copy\n",
      "  iloc._setitem_with_indexer(indexer, value)\n"
     ]
    }
   ],
   "source": [
    "change_formats(df, \"first_author_role\", \"lust\", \"Illustrator\")"
   ]
  },
  {
   "cell_type": "code",
   "execution_count": 1368,
   "metadata": {},
   "outputs": [],
   "source": [
    "change_formats(df, \"first_author_role\", \"Editro\", \"Editor\")\n",
    "change_formats(df, \"first_author_role\", \"Auhor\", \"Author\")"
   ]
  },
  {
   "cell_type": "code",
   "execution_count": null,
   "metadata": {},
   "outputs": [],
   "source": []
  },
  {
   "cell_type": "code",
   "execution_count": null,
   "metadata": {},
   "outputs": [],
   "source": []
  },
  {
   "cell_type": "code",
   "execution_count": 1371,
   "metadata": {},
   "outputs": [
    {
     "data": {
      "text/plain": [
       "                  10933\n",
       "Narrator           6838\n",
       "Translator         2201\n",
       "Reading            1105\n",
       "Illustrator        1073\n",
       "Editor              817\n",
       "Translation         628\n",
       "Introduction        588\n",
       "narrator            498\n",
       "Read by             481\n",
       "Contributor         289\n",
       "Illustrations       265\n",
       "Reader              256\n",
       "Foreword            150\n",
       "translator          149\n",
       "Series Creator      132\n",
       "Narrator             84\n",
       "Creator              78\n",
       "With                 78\n",
       "Narrated by          74\n",
       "Traduction           47\n",
       "Pseudonym            43\n",
       "Series Editor        40\n",
       "Ubersetzer           39\n",
       "Foreword by          37\n",
       "Afterword            34\n",
       "Ghostwriter          34\n",
       "contributor          23\n",
       "Performance          23\n",
       "Name: second_author_role, dtype: int64"
      ]
     },
     "execution_count": 1371,
     "metadata": {},
     "output_type": "execute_result"
    }
   ],
   "source": [
    "df.second_author_role.value_counts()[df.second_author_role.value_counts()>20]"
   ]
  },
  {
   "cell_type": "code",
   "execution_count": 1372,
   "metadata": {},
   "outputs": [
    {
     "name": "stdout",
     "output_type": "stream",
     "text": [
      "rrat results are:\n",
      " Narrator                 6838\n",
      "narrator                  498\n",
      "Narrator                   84\n",
      "Narrated by                74\n",
      "Narrrator                   3\n",
      "Narrators                   2\n",
      "-Narrator                   2\n",
      " Narrator                   2\n",
      "narrato                     1\n",
      "narrataor                   1\n",
      "Narratator                  1\n",
      "Narrator / Production       1\n",
      "narrator                    1\n",
      "narrator(s                  1\n",
      "Narrator\\t                  1\n",
      "Actress/Narrator            1\n",
      "narratot                    1\n",
      "Name: second_author_role, dtype: int64\n"
     ]
    }
   ],
   "source": [
    "find_formats(df,\"second_author_role\",\"rrat\")"
   ]
  },
  {
   "cell_type": "code",
   "execution_count": 1373,
   "metadata": {},
   "outputs": [
    {
     "name": "stderr",
     "output_type": "stream",
     "text": [
      "/Users/jensensj/opt/anaconda3/lib/python3.8/site-packages/pandas/core/indexing.py:670: SettingWithCopyWarning: \n",
      "A value is trying to be set on a copy of a slice from a DataFrame\n",
      "\n",
      "See the caveats in the documentation: https://pandas.pydata.org/pandas-docs/stable/user_guide/indexing.html#returning-a-view-versus-a-copy\n",
      "  iloc._setitem_with_indexer(indexer, value)\n"
     ]
    }
   ],
   "source": [
    "change_formats(df,\"second_author_role\",\"rrat\",\"Narrator\")"
   ]
  },
  {
   "cell_type": "code",
   "execution_count": 1375,
   "metadata": {},
   "outputs": [
    {
     "name": "stdout",
     "output_type": "stream",
     "text": [
      "ead results are:\n",
      " Reading    1105\n",
      "Read by     481\n",
      "Reader      256\n",
      "Read By       5\n",
      "reader        4\n",
      "read by       2\n",
      "Read          1\n",
      "Name: second_author_role, dtype: int64\n"
     ]
    }
   ],
   "source": [
    "find_formats(df,\"second_author_role\",\"ead\")"
   ]
  },
  {
   "cell_type": "code",
   "execution_count": 1376,
   "metadata": {},
   "outputs": [],
   "source": [
    "change_formats(df,\"second_author_role\",\"ead\",\"Narrator\")"
   ]
  },
  {
   "cell_type": "code",
   "execution_count": 1380,
   "metadata": {},
   "outputs": [
    {
     "name": "stdout",
     "output_type": "stream",
     "text": [
      "host results are:\n",
      " Ghostwriter      34\n",
      "Ghost Writer      7\n",
      "ghost author      1\n",
      "Ghost Writer      1\n",
      "Name: second_author_role, dtype: int64\n"
     ]
    }
   ],
   "source": [
    "find_formats(df, \"second_author_role\", \"host\")"
   ]
  },
  {
   "cell_type": "code",
   "execution_count": 1381,
   "metadata": {},
   "outputs": [
    {
     "name": "stderr",
     "output_type": "stream",
     "text": [
      "/Users/jensensj/opt/anaconda3/lib/python3.8/site-packages/pandas/core/indexing.py:670: SettingWithCopyWarning: \n",
      "A value is trying to be set on a copy of a slice from a DataFrame\n",
      "\n",
      "See the caveats in the documentation: https://pandas.pydata.org/pandas-docs/stable/user_guide/indexing.html#returning-a-view-versus-a-copy\n",
      "  iloc._setitem_with_indexer(indexer, value)\n"
     ]
    }
   ],
   "source": [
    "change_formats(df, \"second_author_role\", \"host\", \"Ghost Writer\")"
   ]
  },
  {
   "cell_type": "code",
   "execution_count": 1387,
   "metadata": {},
   "outputs": [
    {
     "name": "stdout",
     "output_type": "stream",
     "text": [
      "Afterword results are:\n",
      " Afterword                       34\n",
      "Editor/Afterword                 1\n",
      "Afterword / Author Interview     1\n",
      "Name: second_author_role, dtype: int64\n"
     ]
    }
   ],
   "source": [
    "find_formats(df, \"second_author_role\", \"Afterword\")"
   ]
  },
  {
   "cell_type": "code",
   "execution_count": 1388,
   "metadata": {},
   "outputs": [
    {
     "name": "stderr",
     "output_type": "stream",
     "text": [
      "/Users/jensensj/opt/anaconda3/lib/python3.8/site-packages/pandas/core/indexing.py:670: SettingWithCopyWarning: \n",
      "A value is trying to be set on a copy of a slice from a DataFrame\n",
      "\n",
      "See the caveats in the documentation: https://pandas.pydata.org/pandas-docs/stable/user_guide/indexing.html#returning-a-view-versus-a-copy\n",
      "  iloc._setitem_with_indexer(indexer, value)\n"
     ]
    }
   ],
   "source": [
    "change_formats(df, \"second_author_role\", \"Afterword\", \"Afterword\")"
   ]
  },
  {
   "cell_type": "code",
   "execution_count": 1389,
   "metadata": {},
   "outputs": [
    {
     "name": "stdout",
     "output_type": "stream",
     "text": [
      "uth results are:\n",
      " Author's True Name    9\n",
      "co-author             8\n",
      "Editor/Author         5\n",
      "Co-Author             3\n",
      "Joint Author          2\n",
      "Original Author       1\n",
      "Editor, Author        1\n",
      "Co-author             1\n",
      "House Author          1\n",
      "author/illustrator    1\n",
      "Original_author       1\n",
      "author, artist        1\n",
      "Co- Author            1\n",
      "Original author       1\n",
      "Name: second_author_role, dtype: int64\n"
     ]
    }
   ],
   "source": [
    "find_formats(df, \"second_author_role\", \"uth\")"
   ]
  },
  {
   "cell_type": "code",
   "execution_count": 1390,
   "metadata": {},
   "outputs": [
    {
     "name": "stderr",
     "output_type": "stream",
     "text": [
      "/Users/jensensj/opt/anaconda3/lib/python3.8/site-packages/pandas/core/indexing.py:670: SettingWithCopyWarning: \n",
      "A value is trying to be set on a copy of a slice from a DataFrame\n",
      "\n",
      "See the caveats in the documentation: https://pandas.pydata.org/pandas-docs/stable/user_guide/indexing.html#returning-a-view-versus-a-copy\n",
      "  iloc._setitem_with_indexer(indexer, value)\n"
     ]
    }
   ],
   "source": [
    "change_formats(df, \"second_author_role\", \"uth\", \"Author\")"
   ]
  },
  {
   "cell_type": "code",
   "execution_count": 1392,
   "metadata": {},
   "outputs": [
    {
     "name": "stdout",
     "output_type": "stream",
     "text": [
      "itor results are:\n",
      " Editor                     817\n",
      "Series Editor               40\n",
      "editor                      17\n",
      "Editor / Contributor        12\n",
      "Editor, Introduction         5\n",
      "Editor/Introduction          3\n",
      "Editor                       1\n",
      "editor, foreword             1\n",
      "Editor / Introduction        1\n",
      "editor/introduction          1\n",
      "Series editor                1\n",
      "Editor/Contributor           1\n",
      "Editor, Introduction by      1\n",
      "editor/contributor           1\n",
      "Founding Editor              1\n",
      "Editor, Contributor          1\n",
      "Editor, Translator           1\n",
      "Consulting Editor            1\n",
      "Contributor, Editor          1\n",
      "Name: second_author_role, dtype: int64\n"
     ]
    }
   ],
   "source": [
    "find_formats(df, \"second_author_role\", \"itor\")"
   ]
  },
  {
   "cell_type": "code",
   "execution_count": 1393,
   "metadata": {},
   "outputs": [
    {
     "name": "stderr",
     "output_type": "stream",
     "text": [
      "/Users/jensensj/opt/anaconda3/lib/python3.8/site-packages/pandas/core/indexing.py:670: SettingWithCopyWarning: \n",
      "A value is trying to be set on a copy of a slice from a DataFrame\n",
      "\n",
      "See the caveats in the documentation: https://pandas.pydata.org/pandas-docs/stable/user_guide/indexing.html#returning-a-view-versus-a-copy\n",
      "  iloc._setitem_with_indexer(indexer, value)\n"
     ]
    }
   ],
   "source": [
    "change_formats(df, \"second_author_role\", \"itor\", \"Editor\")"
   ]
  },
  {
   "cell_type": "code",
   "execution_count": 1394,
   "metadata": {},
   "outputs": [
    {
     "name": "stdout",
     "output_type": "stream",
     "text": [
      "trib results are:\n",
      " Contributor        289\n",
      "contributor         23\n",
      "Contribution by      3\n",
      "Contriburor          1\n",
      "Contributer          1\n",
      "Name: second_author_role, dtype: int64\n"
     ]
    }
   ],
   "source": [
    "find_formats(df, \"second_author_role\", \"trib\")"
   ]
  },
  {
   "cell_type": "code",
   "execution_count": 1395,
   "metadata": {},
   "outputs": [
    {
     "name": "stderr",
     "output_type": "stream",
     "text": [
      "/Users/jensensj/opt/anaconda3/lib/python3.8/site-packages/pandas/core/indexing.py:670: SettingWithCopyWarning: \n",
      "A value is trying to be set on a copy of a slice from a DataFrame\n",
      "\n",
      "See the caveats in the documentation: https://pandas.pydata.org/pandas-docs/stable/user_guide/indexing.html#returning-a-view-versus-a-copy\n",
      "  iloc._setitem_with_indexer(indexer, value)\n"
     ]
    }
   ],
   "source": [
    "change_formats(df, \"second_author_role\", \"trib\", \"Contributor\")"
   ]
  },
  {
   "cell_type": "code",
   "execution_count": 1396,
   "metadata": {},
   "outputs": [
    {
     "name": "stdout",
     "output_type": "stream",
     "text": [
      "eat results are:\n",
      " Series Creator        132\n",
      "Creator                78\n",
      "Created by              9\n",
      "Series Co-creator       4\n",
      "Series Creator          1\n",
      "creator                 1\n",
      "Series creator          1\n",
      "creator and extras      1\n",
      "Name: second_author_role, dtype: int64\n"
     ]
    }
   ],
   "source": [
    "find_formats(df, \"second_author_role\", \"eat\")"
   ]
  },
  {
   "cell_type": "code",
   "execution_count": 1397,
   "metadata": {},
   "outputs": [
    {
     "name": "stderr",
     "output_type": "stream",
     "text": [
      "/Users/jensensj/opt/anaconda3/lib/python3.8/site-packages/pandas/core/indexing.py:670: SettingWithCopyWarning: \n",
      "A value is trying to be set on a copy of a slice from a DataFrame\n",
      "\n",
      "See the caveats in the documentation: https://pandas.pydata.org/pandas-docs/stable/user_guide/indexing.html#returning-a-view-versus-a-copy\n",
      "  iloc._setitem_with_indexer(indexer, value)\n"
     ]
    }
   ],
   "source": [
    "change_formats(df, \"second_author_role\", \"eat\", \"Creator\")"
   ]
  },
  {
   "cell_type": "code",
   "execution_count": 1398,
   "metadata": {},
   "outputs": [
    {
     "name": "stdout",
     "output_type": "stream",
     "text": [
      "ith results are:\n",
      " With                         78\n",
      "with original material by     6\n",
      "Name: second_author_role, dtype: int64\n"
     ]
    }
   ],
   "source": [
    "find_formats(df, \"second_author_role\", \"ith\")"
   ]
  },
  {
   "cell_type": "code",
   "execution_count": 1399,
   "metadata": {},
   "outputs": [
    {
     "name": "stdout",
     "output_type": "stream",
     "text": [
      "rig results are:\n",
      " with original material by    6\n",
      "Original Screenplay          1\n",
      "Name: second_author_role, dtype: int64\n"
     ]
    }
   ],
   "source": [
    "find_formats(df, \"second_author_role\", \"ith\")"
   ]
  },
  {
   "cell_type": "code",
   "execution_count": 1401,
   "metadata": {},
   "outputs": [
    {
     "data": {
      "text/plain": [
       "                   10933\n",
       "Narrator            9366\n",
       "Translator          2201\n",
       "Illustrator         1073\n",
       "Editor               907\n",
       "Translation          628\n",
       "Introduction         588\n",
       "Contributor          317\n",
       "Illustrations        265\n",
       "Creator              227\n",
       "Foreword             150\n",
       "translator           149\n",
       "With                  78\n",
       "Traduction            47\n",
       "Pseudonym             43\n",
       "Ghost Writer          43\n",
       "Ubersetzer            39\n",
       "Foreword by           37\n",
       "Afterword             36\n",
       "Author                36\n",
       "Performance           23\n",
       "illustrator           18\n",
       "Visual Art            17\n",
       "Performer             16\n",
       "Writing As            16\n",
       "Artist                15\n",
       "Photographer          15\n",
       "Cover                 14\n",
       "Performed by          13\n",
       "pseud.                11\n",
       "Pseudonym             11\n",
       "also writing as       11\n",
       "Name: second_author_role, dtype: int64"
      ]
     },
     "execution_count": 1401,
     "metadata": {},
     "output_type": "execute_result"
    }
   ],
   "source": [
    "df.second_author_role.value_counts()[df.second_author_role.value_counts()>10]"
   ]
  },
  {
   "cell_type": "code",
   "execution_count": 1403,
   "metadata": {},
   "outputs": [
    {
     "name": "stdout",
     "output_type": "stream",
     "text": [
      "eu results are:\n",
      " Pseudonym     43\n",
      "Pseudonym     11\n",
      "pseud.        11\n",
      "pseudonym      6\n",
      "pseudonym      1\n",
      "Name: second_author_role, dtype: int64\n",
      "iting results are:\n",
      " Writing As         16\n",
      "also writing as    11\n",
      "writing as          3\n",
      "Writing as          1\n",
      "Name: second_author_role, dtype: int64\n"
     ]
    }
   ],
   "source": [
    "find_formats(df, \"second_author_role\", \"eu\")\n",
    "find_formats(df, \"second_author_role\", \"iting\")"
   ]
  },
  {
   "cell_type": "code",
   "execution_count": 1404,
   "metadata": {},
   "outputs": [
    {
     "name": "stderr",
     "output_type": "stream",
     "text": [
      "/Users/jensensj/opt/anaconda3/lib/python3.8/site-packages/pandas/core/indexing.py:670: SettingWithCopyWarning: \n",
      "A value is trying to be set on a copy of a slice from a DataFrame\n",
      "\n",
      "See the caveats in the documentation: https://pandas.pydata.org/pandas-docs/stable/user_guide/indexing.html#returning-a-view-versus-a-copy\n",
      "  iloc._setitem_with_indexer(indexer, value)\n"
     ]
    }
   ],
   "source": [
    "change_formats(df, \"second_author_role\", \"eu\", \"Pseudonym\")\n",
    "change_formats(df, \"second_author_role\", \"iting\", \"Pseudonym\")"
   ]
  },
  {
   "cell_type": "code",
   "execution_count": 1405,
   "metadata": {},
   "outputs": [
    {
     "name": "stdout",
     "output_type": "stream",
     "text": [
      "erfo results are:\n",
      " Performance     23\n",
      "Performer       16\n",
      "Performed by    13\n",
      "Performed        3\n",
      "Name: second_author_role, dtype: int64\n"
     ]
    }
   ],
   "source": [
    "find_formats(df, \"second_author_role\", \"erfo\")"
   ]
  },
  {
   "cell_type": "code",
   "execution_count": 1406,
   "metadata": {},
   "outputs": [
    {
     "name": "stderr",
     "output_type": "stream",
     "text": [
      "/Users/jensensj/opt/anaconda3/lib/python3.8/site-packages/pandas/core/indexing.py:670: SettingWithCopyWarning: \n",
      "A value is trying to be set on a copy of a slice from a DataFrame\n",
      "\n",
      "See the caveats in the documentation: https://pandas.pydata.org/pandas-docs/stable/user_guide/indexing.html#returning-a-view-versus-a-copy\n",
      "  iloc._setitem_with_indexer(indexer, value)\n"
     ]
    }
   ],
   "source": [
    "change_formats(df, \"second_author_role\", \"erfo\", \"Perform\")"
   ]
  },
  {
   "cell_type": "code",
   "execution_count": 1407,
   "metadata": {},
   "outputs": [
    {
     "name": "stdout",
     "output_type": "stream",
     "text": [
      "lust results are:\n",
      " Illustrator            1073\n",
      "Illustrations           265\n",
      "illustrator              18\n",
      "Cover Illustrator         4\n",
      "Ilustrator                2\n",
      "Illustrator               2\n",
      "Cover Illustrator         1\n",
      "Illustrator (Cover)       1\n",
      "Cover Illustration        1\n",
      "illustrations             1\n",
      "Name: second_author_role, dtype: int64\n"
     ]
    }
   ],
   "source": [
    "find_formats(df, \"second_author_role\", \"lust\")"
   ]
  },
  {
   "cell_type": "code",
   "execution_count": 1408,
   "metadata": {},
   "outputs": [
    {
     "name": "stderr",
     "output_type": "stream",
     "text": [
      "/Users/jensensj/opt/anaconda3/lib/python3.8/site-packages/pandas/core/indexing.py:670: SettingWithCopyWarning: \n",
      "A value is trying to be set on a copy of a slice from a DataFrame\n",
      "\n",
      "See the caveats in the documentation: https://pandas.pydata.org/pandas-docs/stable/user_guide/indexing.html#returning-a-view-versus-a-copy\n",
      "  iloc._setitem_with_indexer(indexer, value)\n"
     ]
    }
   ],
   "source": [
    "change_formats(df, \"second_author_role\", \"lust\", \"Illustrator\")"
   ]
  },
  {
   "cell_type": "code",
   "execution_count": null,
   "metadata": {},
   "outputs": [],
   "source": []
  },
  {
   "cell_type": "code",
   "execution_count": null,
   "metadata": {},
   "outputs": [],
   "source": []
  },
  {
   "cell_type": "code",
   "execution_count": 1409,
   "metadata": {},
   "outputs": [
    {
     "data": {
      "text/plain": [
       "                10933\n",
       "Narrator         9366\n",
       "Translator       2201\n",
       "Illustrator      1368\n",
       "Editor            907\n",
       "Translation       628\n",
       "Introduction      588\n",
       "Contributor       317\n",
       "Creator           227\n",
       "Foreword          150\n",
       "translator        149\n",
       "Pseudonym         103\n",
       "With               78\n",
       "Perform            55\n",
       "Traduction         47\n",
       "Ghost Writer       43\n",
       "Ubersetzer         39\n",
       "Foreword by        37\n",
       "Author             36\n",
       "Afterword          36\n",
       "Visual Art         17\n",
       "Photographer       15\n",
       "Artist             15\n",
       "Cover              14\n",
       "Name: second_author_role, dtype: int64"
      ]
     },
     "execution_count": 1409,
     "metadata": {},
     "output_type": "execute_result"
    }
   ],
   "source": [
    "df.second_author_role.value_counts()[df.second_author_role.value_counts()>10]"
   ]
  },
  {
   "cell_type": "code",
   "execution_count": 1410,
   "metadata": {},
   "outputs": [
    {
     "name": "stdout",
     "output_type": "stream",
     "text": [
      "rans results are:\n",
      " Translator               2201\n",
      "Translation               628\n",
      "translator                149\n",
      "Translator                  2\n",
      "TranslatorMy                1\n",
      "Transcriber                 1\n",
      "Translators                 1\n",
      "Translator/Adaptation       1\n",
      "Trans.                      1\n",
      "Name: second_author_role, dtype: int64\n"
     ]
    }
   ],
   "source": [
    "find_formats(df, \"second_author_role\", \"rans\")"
   ]
  },
  {
   "cell_type": "code",
   "execution_count": 1411,
   "metadata": {},
   "outputs": [
    {
     "name": "stderr",
     "output_type": "stream",
     "text": [
      "/Users/jensensj/opt/anaconda3/lib/python3.8/site-packages/pandas/core/indexing.py:670: SettingWithCopyWarning: \n",
      "A value is trying to be set on a copy of a slice from a DataFrame\n",
      "\n",
      "See the caveats in the documentation: https://pandas.pydata.org/pandas-docs/stable/user_guide/indexing.html#returning-a-view-versus-a-copy\n",
      "  iloc._setitem_with_indexer(indexer, value)\n"
     ]
    }
   ],
   "source": [
    "change_formats(df, \"second_author_role\", \"rans\", \"Translator\")"
   ]
  },
  {
   "cell_type": "code",
   "execution_count": 1415,
   "metadata": {},
   "outputs": [
    {
     "data": {
      "text/plain": [
       "                10933\n",
       "Narrator         9366\n",
       "Translator       2985\n",
       "Illustrator      1368\n",
       "Editor            907\n",
       "Introduction      588\n",
       "Contributor       317\n",
       "Creator           227\n",
       "Foreword          150\n",
       "Pseudonym         103\n",
       "With               78\n",
       "Perform            55\n",
       "Traduction         47\n",
       "Ghost Writer       43\n",
       "Ubersetzer         39\n",
       "Foreword by        37\n",
       "Afterword          36\n",
       "Author             36\n",
       "Visual Art         17\n",
       "Name: second_author_role, dtype: int64"
      ]
     },
     "execution_count": 1415,
     "metadata": {},
     "output_type": "execute_result"
    }
   ],
   "source": [
    "df.second_author_role.value_counts()[df.second_author_role.value_counts()>15]"
   ]
  },
  {
   "cell_type": "code",
   "execution_count": 1417,
   "metadata": {},
   "outputs": [
    {
     "data": {
      "text/plain": [
       "                180718\n",
       "Editor            1079\n",
       "Pseudonym          497\n",
       "Author             156\n",
       "Adapter            108\n",
       "Creator             68\n",
       "Contributor         53\n",
       "House Name          41\n",
       "Narrator            40\n",
       "Reading             20\n",
       "Illustrator         17\n",
       "Preface             14\n",
       "Introduction        12\n",
       "Name: first_author_role, dtype: int64"
      ]
     },
     "execution_count": 1417,
     "metadata": {},
     "output_type": "execute_result"
    }
   ],
   "source": [
    "df.first_author_role.value_counts()[df.first_author_role.value_counts()>10]"
   ]
  },
  {
   "cell_type": "code",
   "execution_count": 1418,
   "metadata": {},
   "outputs": [
    {
     "data": {
      "text/html": [
       "<div>\n",
       "<style scoped>\n",
       "    .dataframe tbody tr th:only-of-type {\n",
       "        vertical-align: middle;\n",
       "    }\n",
       "\n",
       "    .dataframe tbody tr th {\n",
       "        vertical-align: top;\n",
       "    }\n",
       "\n",
       "    .dataframe thead th {\n",
       "        text-align: right;\n",
       "    }\n",
       "</style>\n",
       "<table border=\"1\" class=\"dataframe\">\n",
       "  <thead>\n",
       "    <tr style=\"text-align: right;\">\n",
       "      <th></th>\n",
       "      <th>text_reviews_count</th>\n",
       "      <th>series</th>\n",
       "      <th>country_code</th>\n",
       "      <th>language_code</th>\n",
       "      <th>popular_shelves</th>\n",
       "      <th>is_ebook</th>\n",
       "      <th>average_rating</th>\n",
       "      <th>similar_books</th>\n",
       "      <th>format</th>\n",
       "      <th>publisher</th>\n",
       "      <th>...</th>\n",
       "      <th>book_id</th>\n",
       "      <th>ratings_count</th>\n",
       "      <th>work_id</th>\n",
       "      <th>title</th>\n",
       "      <th>title_without_series</th>\n",
       "      <th>First_Author_ID</th>\n",
       "      <th>first_author_id</th>\n",
       "      <th>first_author_role</th>\n",
       "      <th>second_author_id</th>\n",
       "      <th>second_author_role</th>\n",
       "    </tr>\n",
       "  </thead>\n",
       "  <tbody>\n",
       "    <tr>\n",
       "      <th>0</th>\n",
       "      <td>15</td>\n",
       "      <td>[169353]</td>\n",
       "      <td>US</td>\n",
       "      <td>eng</td>\n",
       "      <td>[{'count': '159', 'name': 'to-read'}, {'count'...</td>\n",
       "      <td>false</td>\n",
       "      <td>3.93</td>\n",
       "      <td>[439108, 522621, 116770, 1275927, 6202655, 840...</td>\n",
       "      <td>hardcover</td>\n",
       "      <td>Simon &amp; Schuster UK</td>\n",
       "      <td>...</td>\n",
       "      <td>6066814</td>\n",
       "      <td>186</td>\n",
       "      <td>6243149</td>\n",
       "      <td>Crowner Royal (Crowner John Mystery, #13)</td>\n",
       "      <td>Crowner Royal (Crowner John Mystery, #13)</td>\n",
       "      <td>37778</td>\n",
       "      <td>37778</td>\n",
       "      <td></td>\n",
       "      <td>NaN</td>\n",
       "      <td>NaN</td>\n",
       "    </tr>\n",
       "    <tr>\n",
       "      <th>1</th>\n",
       "      <td>60</td>\n",
       "      <td>[1052227]</td>\n",
       "      <td>US</td>\n",
       "      <td>eng</td>\n",
       "      <td>[{'count': '54', 'name': 'currently-reading'},...</td>\n",
       "      <td>true</td>\n",
       "      <td>4.33</td>\n",
       "      <td>[]</td>\n",
       "      <td>ebook</td>\n",
       "      <td>unknown</td>\n",
       "      <td>...</td>\n",
       "      <td>33394837</td>\n",
       "      <td>269</td>\n",
       "      <td>54143148</td>\n",
       "      <td>The House of Memory (Pluto's Snitch #2)</td>\n",
       "      <td>The House of Memory (Pluto's Snitch #2)</td>\n",
       "      <td>242185</td>\n",
       "      <td>242185</td>\n",
       "      <td></td>\n",
       "      <td>NaN</td>\n",
       "      <td>NaN</td>\n",
       "    </tr>\n",
       "    <tr>\n",
       "      <th>2</th>\n",
       "      <td>23</td>\n",
       "      <td>[953679]</td>\n",
       "      <td>US</td>\n",
       "      <td>eng</td>\n",
       "      <td>[{'count': '90', 'name': 'to-read'}, {'count':...</td>\n",
       "      <td>true</td>\n",
       "      <td>3.49</td>\n",
       "      <td>[]</td>\n",
       "      <td>ebook</td>\n",
       "      <td>Amazon Digital Services</td>\n",
       "      <td>...</td>\n",
       "      <td>29074697</td>\n",
       "      <td>192</td>\n",
       "      <td>49305010</td>\n",
       "      <td>The Slaughtered Virgin of Zenopolis (Inspector...</td>\n",
       "      <td>The Slaughtered Virgin of Zenopolis (Inspector...</td>\n",
       "      <td>15104629</td>\n",
       "      <td>15104629</td>\n",
       "      <td></td>\n",
       "      <td>14425713</td>\n",
       "      <td></td>\n",
       "    </tr>\n",
       "    <tr>\n",
       "      <th>3</th>\n",
       "      <td>8</td>\n",
       "      <td>[408775]</td>\n",
       "      <td>US</td>\n",
       "      <td>eng</td>\n",
       "      <td>[{'count': '51', 'name': 'to-read'}, {'count':...</td>\n",
       "      <td>false</td>\n",
       "      <td>3.30</td>\n",
       "      <td>[]</td>\n",
       "      <td>hardcover</td>\n",
       "      <td>Ulverscroft</td>\n",
       "      <td>...</td>\n",
       "      <td>1902202</td>\n",
       "      <td>52</td>\n",
       "      <td>1903897</td>\n",
       "      <td>Dead in the Morning (Patrick Grant, #1)</td>\n",
       "      <td>Dead in the Morning (Patrick Grant, #1)</td>\n",
       "      <td>190988</td>\n",
       "      <td>190988</td>\n",
       "      <td></td>\n",
       "      <td>NaN</td>\n",
       "      <td>NaN</td>\n",
       "    </tr>\n",
       "    <tr>\n",
       "      <th>5</th>\n",
       "      <td>3</td>\n",
       "      <td>[199039]</td>\n",
       "      <td>US</td>\n",
       "      <td>eng</td>\n",
       "      <td>[{'count': '1694', 'name': 'mystery'}, {'count...</td>\n",
       "      <td>false</td>\n",
       "      <td>3.96</td>\n",
       "      <td>[93575, 280849, 243401, 77617]</td>\n",
       "      <td>audio</td>\n",
       "      <td>HarperAudio</td>\n",
       "      <td>...</td>\n",
       "      <td>16158998</td>\n",
       "      <td>5</td>\n",
       "      <td>2288775</td>\n",
       "      <td>A Murder is Announced</td>\n",
       "      <td>A Murder is Announced</td>\n",
       "      <td>123715</td>\n",
       "      <td>123715</td>\n",
       "      <td></td>\n",
       "      <td>552417</td>\n",
       "      <td>Narrator</td>\n",
       "    </tr>\n",
       "  </tbody>\n",
       "</table>\n",
       "<p>5 rows × 24 columns</p>\n",
       "</div>"
      ],
      "text/plain": [
       "   text_reviews_count     series country_code language_code  \\\n",
       "0                  15   [169353]           US           eng   \n",
       "1                  60  [1052227]           US           eng   \n",
       "2                  23   [953679]           US           eng   \n",
       "3                   8   [408775]           US           eng   \n",
       "5                   3   [199039]           US           eng   \n",
       "\n",
       "                                     popular_shelves is_ebook  average_rating  \\\n",
       "0  [{'count': '159', 'name': 'to-read'}, {'count'...    false            3.93   \n",
       "1  [{'count': '54', 'name': 'currently-reading'},...     true            4.33   \n",
       "2  [{'count': '90', 'name': 'to-read'}, {'count':...     true            3.49   \n",
       "3  [{'count': '51', 'name': 'to-read'}, {'count':...    false            3.30   \n",
       "5  [{'count': '1694', 'name': 'mystery'}, {'count...    false            3.96   \n",
       "\n",
       "                                       similar_books     format  \\\n",
       "0  [439108, 522621, 116770, 1275927, 6202655, 840...  hardcover   \n",
       "1                                                 []      ebook   \n",
       "2                                                 []      ebook   \n",
       "3                                                 []  hardcover   \n",
       "5                     [93575, 280849, 243401, 77617]      audio   \n",
       "\n",
       "                 publisher  ...   book_id ratings_count   work_id  \\\n",
       "0      Simon & Schuster UK  ...   6066814           186   6243149   \n",
       "1                  unknown  ...  33394837           269  54143148   \n",
       "2  Amazon Digital Services  ...  29074697           192  49305010   \n",
       "3              Ulverscroft  ...   1902202            52   1903897   \n",
       "5              HarperAudio  ...  16158998             5   2288775   \n",
       "\n",
       "                                               title  \\\n",
       "0          Crowner Royal (Crowner John Mystery, #13)   \n",
       "1            The House of Memory (Pluto's Snitch #2)   \n",
       "2  The Slaughtered Virgin of Zenopolis (Inspector...   \n",
       "3            Dead in the Morning (Patrick Grant, #1)   \n",
       "5                              A Murder is Announced   \n",
       "\n",
       "                                title_without_series  First_Author_ID  \\\n",
       "0          Crowner Royal (Crowner John Mystery, #13)            37778   \n",
       "1            The House of Memory (Pluto's Snitch #2)           242185   \n",
       "2  The Slaughtered Virgin of Zenopolis (Inspector...         15104629   \n",
       "3            Dead in the Morning (Patrick Grant, #1)           190988   \n",
       "5                              A Murder is Announced           123715   \n",
       "\n",
       "   first_author_id first_author_role second_author_id second_author_role  \n",
       "0            37778                                NaN                NaN  \n",
       "1           242185                                NaN                NaN  \n",
       "2         15104629                           14425713                     \n",
       "3           190988                                NaN                NaN  \n",
       "5           123715                             552417           Narrator  \n",
       "\n",
       "[5 rows x 24 columns]"
      ]
     },
     "execution_count": 1418,
     "metadata": {},
     "output_type": "execute_result"
    }
   ],
   "source": [
    "df.head()"
   ]
  },
  {
   "cell_type": "markdown",
   "metadata": {},
   "source": [
    "--Need Code above--"
   ]
  },
  {
   "cell_type": "code",
   "execution_count": 1429,
   "metadata": {},
   "outputs": [],
   "source": [
    "df.series = df.series.str[0]"
   ]
  },
  {
   "cell_type": "code",
   "execution_count": 1430,
   "metadata": {},
   "outputs": [
    {
     "data": {
      "text/html": [
       "<div>\n",
       "<style scoped>\n",
       "    .dataframe tbody tr th:only-of-type {\n",
       "        vertical-align: middle;\n",
       "    }\n",
       "\n",
       "    .dataframe tbody tr th {\n",
       "        vertical-align: top;\n",
       "    }\n",
       "\n",
       "    .dataframe thead th {\n",
       "        text-align: right;\n",
       "    }\n",
       "</style>\n",
       "<table border=\"1\" class=\"dataframe\">\n",
       "  <thead>\n",
       "    <tr style=\"text-align: right;\">\n",
       "      <th></th>\n",
       "      <th>text_reviews_count</th>\n",
       "      <th>series</th>\n",
       "      <th>country_code</th>\n",
       "      <th>language_code</th>\n",
       "      <th>popular_shelves</th>\n",
       "      <th>is_ebook</th>\n",
       "      <th>average_rating</th>\n",
       "      <th>similar_books</th>\n",
       "      <th>format</th>\n",
       "      <th>publisher</th>\n",
       "      <th>...</th>\n",
       "      <th>book_id</th>\n",
       "      <th>ratings_count</th>\n",
       "      <th>work_id</th>\n",
       "      <th>title</th>\n",
       "      <th>title_without_series</th>\n",
       "      <th>First_Author_ID</th>\n",
       "      <th>first_author_id</th>\n",
       "      <th>first_author_role</th>\n",
       "      <th>second_author_id</th>\n",
       "      <th>second_author_role</th>\n",
       "    </tr>\n",
       "  </thead>\n",
       "  <tbody>\n",
       "    <tr>\n",
       "      <th>0</th>\n",
       "      <td>15</td>\n",
       "      <td>169353</td>\n",
       "      <td>US</td>\n",
       "      <td>eng</td>\n",
       "      <td>[{'count': '159', 'name': 'to-read'}, {'count'...</td>\n",
       "      <td>false</td>\n",
       "      <td>3.93</td>\n",
       "      <td>[439108, 522621, 116770, 1275927, 6202655, 840...</td>\n",
       "      <td>hardcover</td>\n",
       "      <td>Simon &amp; Schuster UK</td>\n",
       "      <td>...</td>\n",
       "      <td>6066814</td>\n",
       "      <td>186</td>\n",
       "      <td>6243149</td>\n",
       "      <td>Crowner Royal (Crowner John Mystery, #13)</td>\n",
       "      <td>Crowner Royal (Crowner John Mystery, #13)</td>\n",
       "      <td>37778</td>\n",
       "      <td>37778</td>\n",
       "      <td></td>\n",
       "      <td>NaN</td>\n",
       "      <td>NaN</td>\n",
       "    </tr>\n",
       "    <tr>\n",
       "      <th>1</th>\n",
       "      <td>60</td>\n",
       "      <td>1052227</td>\n",
       "      <td>US</td>\n",
       "      <td>eng</td>\n",
       "      <td>[{'count': '54', 'name': 'currently-reading'},...</td>\n",
       "      <td>true</td>\n",
       "      <td>4.33</td>\n",
       "      <td>[]</td>\n",
       "      <td>ebook</td>\n",
       "      <td>unknown</td>\n",
       "      <td>...</td>\n",
       "      <td>33394837</td>\n",
       "      <td>269</td>\n",
       "      <td>54143148</td>\n",
       "      <td>The House of Memory (Pluto's Snitch #2)</td>\n",
       "      <td>The House of Memory (Pluto's Snitch #2)</td>\n",
       "      <td>242185</td>\n",
       "      <td>242185</td>\n",
       "      <td></td>\n",
       "      <td>NaN</td>\n",
       "      <td>NaN</td>\n",
       "    </tr>\n",
       "    <tr>\n",
       "      <th>2</th>\n",
       "      <td>23</td>\n",
       "      <td>953679</td>\n",
       "      <td>US</td>\n",
       "      <td>eng</td>\n",
       "      <td>[{'count': '90', 'name': 'to-read'}, {'count':...</td>\n",
       "      <td>true</td>\n",
       "      <td>3.49</td>\n",
       "      <td>[]</td>\n",
       "      <td>ebook</td>\n",
       "      <td>Amazon Digital Services</td>\n",
       "      <td>...</td>\n",
       "      <td>29074697</td>\n",
       "      <td>192</td>\n",
       "      <td>49305010</td>\n",
       "      <td>The Slaughtered Virgin of Zenopolis (Inspector...</td>\n",
       "      <td>The Slaughtered Virgin of Zenopolis (Inspector...</td>\n",
       "      <td>15104629</td>\n",
       "      <td>15104629</td>\n",
       "      <td></td>\n",
       "      <td>14425713</td>\n",
       "      <td></td>\n",
       "    </tr>\n",
       "    <tr>\n",
       "      <th>3</th>\n",
       "      <td>8</td>\n",
       "      <td>408775</td>\n",
       "      <td>US</td>\n",
       "      <td>eng</td>\n",
       "      <td>[{'count': '51', 'name': 'to-read'}, {'count':...</td>\n",
       "      <td>false</td>\n",
       "      <td>3.30</td>\n",
       "      <td>[]</td>\n",
       "      <td>hardcover</td>\n",
       "      <td>Ulverscroft</td>\n",
       "      <td>...</td>\n",
       "      <td>1902202</td>\n",
       "      <td>52</td>\n",
       "      <td>1903897</td>\n",
       "      <td>Dead in the Morning (Patrick Grant, #1)</td>\n",
       "      <td>Dead in the Morning (Patrick Grant, #1)</td>\n",
       "      <td>190988</td>\n",
       "      <td>190988</td>\n",
       "      <td></td>\n",
       "      <td>NaN</td>\n",
       "      <td>NaN</td>\n",
       "    </tr>\n",
       "    <tr>\n",
       "      <th>5</th>\n",
       "      <td>3</td>\n",
       "      <td>199039</td>\n",
       "      <td>US</td>\n",
       "      <td>eng</td>\n",
       "      <td>[{'count': '1694', 'name': 'mystery'}, {'count...</td>\n",
       "      <td>false</td>\n",
       "      <td>3.96</td>\n",
       "      <td>[93575, 280849, 243401, 77617]</td>\n",
       "      <td>audio</td>\n",
       "      <td>HarperAudio</td>\n",
       "      <td>...</td>\n",
       "      <td>16158998</td>\n",
       "      <td>5</td>\n",
       "      <td>2288775</td>\n",
       "      <td>A Murder is Announced</td>\n",
       "      <td>A Murder is Announced</td>\n",
       "      <td>123715</td>\n",
       "      <td>123715</td>\n",
       "      <td></td>\n",
       "      <td>552417</td>\n",
       "      <td>Narrator</td>\n",
       "    </tr>\n",
       "  </tbody>\n",
       "</table>\n",
       "<p>5 rows × 24 columns</p>\n",
       "</div>"
      ],
      "text/plain": [
       "   text_reviews_count   series country_code language_code  \\\n",
       "0                  15   169353           US           eng   \n",
       "1                  60  1052227           US           eng   \n",
       "2                  23   953679           US           eng   \n",
       "3                   8   408775           US           eng   \n",
       "5                   3   199039           US           eng   \n",
       "\n",
       "                                     popular_shelves is_ebook  average_rating  \\\n",
       "0  [{'count': '159', 'name': 'to-read'}, {'count'...    false            3.93   \n",
       "1  [{'count': '54', 'name': 'currently-reading'},...     true            4.33   \n",
       "2  [{'count': '90', 'name': 'to-read'}, {'count':...     true            3.49   \n",
       "3  [{'count': '51', 'name': 'to-read'}, {'count':...    false            3.30   \n",
       "5  [{'count': '1694', 'name': 'mystery'}, {'count...    false            3.96   \n",
       "\n",
       "                                       similar_books     format  \\\n",
       "0  [439108, 522621, 116770, 1275927, 6202655, 840...  hardcover   \n",
       "1                                                 []      ebook   \n",
       "2                                                 []      ebook   \n",
       "3                                                 []  hardcover   \n",
       "5                     [93575, 280849, 243401, 77617]      audio   \n",
       "\n",
       "                 publisher  ...   book_id ratings_count   work_id  \\\n",
       "0      Simon & Schuster UK  ...   6066814           186   6243149   \n",
       "1                  unknown  ...  33394837           269  54143148   \n",
       "2  Amazon Digital Services  ...  29074697           192  49305010   \n",
       "3              Ulverscroft  ...   1902202            52   1903897   \n",
       "5              HarperAudio  ...  16158998             5   2288775   \n",
       "\n",
       "                                               title  \\\n",
       "0          Crowner Royal (Crowner John Mystery, #13)   \n",
       "1            The House of Memory (Pluto's Snitch #2)   \n",
       "2  The Slaughtered Virgin of Zenopolis (Inspector...   \n",
       "3            Dead in the Morning (Patrick Grant, #1)   \n",
       "5                              A Murder is Announced   \n",
       "\n",
       "                                title_without_series  First_Author_ID  \\\n",
       "0          Crowner Royal (Crowner John Mystery, #13)            37778   \n",
       "1            The House of Memory (Pluto's Snitch #2)           242185   \n",
       "2  The Slaughtered Virgin of Zenopolis (Inspector...         15104629   \n",
       "3            Dead in the Morning (Patrick Grant, #1)           190988   \n",
       "5                              A Murder is Announced           123715   \n",
       "\n",
       "   first_author_id first_author_role second_author_id second_author_role  \n",
       "0            37778                                NaN                NaN  \n",
       "1           242185                                NaN                NaN  \n",
       "2         15104629                           14425713                     \n",
       "3           190988                                NaN                NaN  \n",
       "5           123715                             552417           Narrator  \n",
       "\n",
       "[5 rows x 24 columns]"
      ]
     },
     "execution_count": 1430,
     "metadata": {},
     "output_type": "execute_result"
    }
   ],
   "source": [
    "df.head()"
   ]
  },
  {
   "cell_type": "markdown",
   "metadata": {},
   "source": [
    "--Need code below--"
   ]
  },
  {
   "cell_type": "code",
   "execution_count": 1439,
   "metadata": {},
   "outputs": [],
   "source": [
    "ps = df.popular_shelves.apply(pd.Series)"
   ]
  },
  {
   "cell_type": "code",
   "execution_count": 1440,
   "metadata": {},
   "outputs": [
    {
     "data": {
      "text/html": [
       "<div>\n",
       "<style scoped>\n",
       "    .dataframe tbody tr th:only-of-type {\n",
       "        vertical-align: middle;\n",
       "    }\n",
       "\n",
       "    .dataframe tbody tr th {\n",
       "        vertical-align: top;\n",
       "    }\n",
       "\n",
       "    .dataframe thead th {\n",
       "        text-align: right;\n",
       "    }\n",
       "</style>\n",
       "<table border=\"1\" class=\"dataframe\">\n",
       "  <thead>\n",
       "    <tr style=\"text-align: right;\">\n",
       "      <th></th>\n",
       "      <th>0</th>\n",
       "      <th>1</th>\n",
       "      <th>2</th>\n",
       "      <th>3</th>\n",
       "      <th>4</th>\n",
       "      <th>5</th>\n",
       "      <th>6</th>\n",
       "      <th>7</th>\n",
       "      <th>8</th>\n",
       "      <th>9</th>\n",
       "      <th>...</th>\n",
       "      <th>90</th>\n",
       "      <th>91</th>\n",
       "      <th>92</th>\n",
       "      <th>93</th>\n",
       "      <th>94</th>\n",
       "      <th>95</th>\n",
       "      <th>96</th>\n",
       "      <th>97</th>\n",
       "      <th>98</th>\n",
       "      <th>99</th>\n",
       "    </tr>\n",
       "  </thead>\n",
       "  <tbody>\n",
       "    <tr>\n",
       "      <th>0</th>\n",
       "      <td>{'count': '159', 'name': 'to-read'}</td>\n",
       "      <td>{'count': '12', 'name': 'historical-fiction'}</td>\n",
       "      <td>{'count': '11', 'name': 'mystery'}</td>\n",
       "      <td>{'count': '10', 'name': 'historical-mystery'}</td>\n",
       "      <td>{'count': '7', 'name': 'medieval'}</td>\n",
       "      <td>{'count': '6', 'name': 'historical'}</td>\n",
       "      <td>{'count': '5', 'name': 'crime'}</td>\n",
       "      <td>{'count': '3', 'name': 'series'}</td>\n",
       "      <td>{'count': '3', 'name': 'ebook'}</td>\n",
       "      <td>{'count': '3', 'name': 'fiction'}</td>\n",
       "      <td>...</td>\n",
       "      <td>{'count': '1', 'name': 'books-to-get-list'}</td>\n",
       "      <td>{'count': '1', 'name': 'knight-bernard'}</td>\n",
       "      <td>{'count': '1', 'name': 'mp3'}</td>\n",
       "      <td>{'count': '1', 'name': 'needed-mysteries'}</td>\n",
       "      <td>{'count': '1', 'name': 'historical-hoodunits'}</td>\n",
       "      <td>{'count': '1', 'name': 'detective-crowner-john'}</td>\n",
       "      <td>{'count': '1', 'name': 'books-in-english'}</td>\n",
       "      <td>{'count': '1', 'name': 'to'}</td>\n",
       "      <td>{'count': '1', 'name': 'need'}</td>\n",
       "      <td>{'count': '1', 'name': '1100s-ad'}</td>\n",
       "    </tr>\n",
       "    <tr>\n",
       "      <th>1</th>\n",
       "      <td>{'count': '54', 'name': 'currently-reading'}</td>\n",
       "      <td>{'count': '8', 'name': 'netgalley'}</td>\n",
       "      <td>{'count': '5', 'name': 'kindle'}</td>\n",
       "      <td>{'count': '3', 'name': 'read-2017'}</td>\n",
       "      <td>{'count': '3', 'name': 'read-in-2017'}</td>\n",
       "      <td>{'count': '3', 'name': 'paranormal'}</td>\n",
       "      <td>{'count': '2', 'name': 'ghost'}</td>\n",
       "      <td>{'count': '2', 'name': 'next-in-a-series'}</td>\n",
       "      <td>{'count': '2', 'name': 'mystery-pi'}</td>\n",
       "      <td>{'count': '2', 'name': 'ebook'}</td>\n",
       "      <td>...</td>\n",
       "      <td>{'count': '1', 'name': 'giveaways-entered'}</td>\n",
       "      <td>{'count': '1', 'name': 'need'}</td>\n",
       "      <td>{'count': '1', 'name': 'ghosts'}</td>\n",
       "      <td>NaN</td>\n",
       "      <td>NaN</td>\n",
       "      <td>NaN</td>\n",
       "      <td>NaN</td>\n",
       "      <td>NaN</td>\n",
       "      <td>NaN</td>\n",
       "      <td>NaN</td>\n",
       "    </tr>\n",
       "    <tr>\n",
       "      <th>2</th>\n",
       "      <td>{'count': '90', 'name': 'to-read'}</td>\n",
       "      <td>{'count': '53', 'name': 'currently-reading'}</td>\n",
       "      <td>{'count': '5', 'name': 'humor'}</td>\n",
       "      <td>{'count': '3', 'name': 'kindle'}</td>\n",
       "      <td>{'count': '2', 'name': 'on-my-kindle'}</td>\n",
       "      <td>{'count': '2', 'name': 'kindle-books'}</td>\n",
       "      <td>{'count': '2', 'name': 'series'}</td>\n",
       "      <td>{'count': '2', 'name': 'free-reads'}</td>\n",
       "      <td>{'count': '1', 'name': 'series-first'}</td>\n",
       "      <td>{'count': '1', 'name': 'labeled-2016'}</td>\n",
       "      <td>...</td>\n",
       "      <td>NaN</td>\n",
       "      <td>NaN</td>\n",
       "      <td>NaN</td>\n",
       "      <td>NaN</td>\n",
       "      <td>NaN</td>\n",
       "      <td>NaN</td>\n",
       "      <td>NaN</td>\n",
       "      <td>NaN</td>\n",
       "      <td>NaN</td>\n",
       "      <td>NaN</td>\n",
       "    </tr>\n",
       "    <tr>\n",
       "      <th>3</th>\n",
       "      <td>{'count': '51', 'name': 'to-read'}</td>\n",
       "      <td>{'count': '9', 'name': 'mystery'}</td>\n",
       "      <td>{'count': '3', 'name': 'england'}</td>\n",
       "      <td>{'count': '3', 'name': 'mysteries'}</td>\n",
       "      <td>{'count': '2', 'name': 'currently-reading'}</td>\n",
       "      <td>{'count': '1', 'name': 'year-2017'}</td>\n",
       "      <td>{'count': '1', 'name': 'mood-comforting'}</td>\n",
       "      <td>{'count': '1', 'name': 'milieu-small-town'}</td>\n",
       "      <td>{'count': '1', 'name': 'milieu-british'}</td>\n",
       "      <td>{'count': '1', 'name': 'milieu-1960s-70s'}</td>\n",
       "      <td>...</td>\n",
       "      <td>NaN</td>\n",
       "      <td>NaN</td>\n",
       "      <td>NaN</td>\n",
       "      <td>NaN</td>\n",
       "      <td>NaN</td>\n",
       "      <td>NaN</td>\n",
       "      <td>NaN</td>\n",
       "      <td>NaN</td>\n",
       "      <td>NaN</td>\n",
       "      <td>NaN</td>\n",
       "    </tr>\n",
       "    <tr>\n",
       "      <th>5</th>\n",
       "      <td>{'count': '1694', 'name': 'mystery'}</td>\n",
       "      <td>{'count': '553', 'name': 'to-read'}</td>\n",
       "      <td>{'count': '411', 'name': 'fiction'}</td>\n",
       "      <td>{'count': '370', 'name': 'crime'}</td>\n",
       "      <td>{'count': '223', 'name': 'mysteries'}</td>\n",
       "      <td>{'count': '198', 'name': 'classics'}</td>\n",
       "      <td>{'count': '151', 'name': 'favorites'}</td>\n",
       "      <td>{'count': '146', 'name': 'owned'}</td>\n",
       "      <td>{'count': '123', 'name': 'detective'}</td>\n",
       "      <td>{'count': '117', 'name': 'books-i-own'}</td>\n",
       "      <td>...</td>\n",
       "      <td>{'count': '10', 'name': 'mystery-crime-thriller'}</td>\n",
       "      <td>{'count': '10', 'name': 'classic-mystery'}</td>\n",
       "      <td>{'count': '10', 'name': 'listened-to'}</td>\n",
       "      <td>{'count': '10', 'name': 'paperback'}</td>\n",
       "      <td>{'count': '10', 'name': 'whodunit'}</td>\n",
       "      <td>{'count': '10', 'name': 'mystery-and-crime'}</td>\n",
       "      <td>{'count': '10', 'name': 'britain'}</td>\n",
       "      <td>{'count': '10', 'name': 'policier'}</td>\n",
       "      <td>{'count': '10', 'name': 'cozy'}</td>\n",
       "      <td>{'count': '10', 'name': 'murder-mysteries'}</td>\n",
       "    </tr>\n",
       "    <tr>\n",
       "      <th>...</th>\n",
       "      <td>...</td>\n",
       "      <td>...</td>\n",
       "      <td>...</td>\n",
       "      <td>...</td>\n",
       "      <td>...</td>\n",
       "      <td>...</td>\n",
       "      <td>...</td>\n",
       "      <td>...</td>\n",
       "      <td>...</td>\n",
       "      <td>...</td>\n",
       "      <td>...</td>\n",
       "      <td>...</td>\n",
       "      <td>...</td>\n",
       "      <td>...</td>\n",
       "      <td>...</td>\n",
       "      <td>...</td>\n",
       "      <td>...</td>\n",
       "      <td>...</td>\n",
       "      <td>...</td>\n",
       "      <td>...</td>\n",
       "      <td>...</td>\n",
       "    </tr>\n",
       "    <tr>\n",
       "      <th>219229</th>\n",
       "      <td>{'count': '49', 'name': 'to-read'}</td>\n",
       "      <td>{'count': '36', 'name': 'currently-reading'}</td>\n",
       "      <td>{'count': '24', 'name': 'mystery'}</td>\n",
       "      <td>{'count': '9', 'name': 'fiction'}</td>\n",
       "      <td>{'count': '5', 'name': 'mysteries'}</td>\n",
       "      <td>{'count': '5', 'name': 'cozy-mysteries'}</td>\n",
       "      <td>{'count': '5', 'name': 'cozy-mystery'}</td>\n",
       "      <td>{'count': '4', 'name': 'mystery-cozy'}</td>\n",
       "      <td>{'count': '4', 'name': 'carolyn-hart'}</td>\n",
       "      <td>{'count': '3', 'name': 'audio'}</td>\n",
       "      <td>...</td>\n",
       "      <td>{'count': '1', 'name': 'crime-fiction'}</td>\n",
       "      <td>{'count': '1', 'name': 'bookstores'}</td>\n",
       "      <td>{'count': '1', 'name': 'amateur-sleuth'}</td>\n",
       "      <td>{'count': '1', 'name': 'mysteries2017'}</td>\n",
       "      <td>{'count': '1', 'name': 'ebooks'}</td>\n",
       "      <td>{'count': '1', 'name': '2017-challenge'}</td>\n",
       "      <td>{'count': '1', 'name': 'next-in-series'}</td>\n",
       "      <td>{'count': '1', 'name': 'adult'}</td>\n",
       "      <td>{'count': '1', 'name': 'myst'}</td>\n",
       "      <td>{'count': '1', 'name': 'mystery-crime'}</td>\n",
       "    </tr>\n",
       "    <tr>\n",
       "      <th>219231</th>\n",
       "      <td>{'count': '497', 'name': 'to-read'}</td>\n",
       "      <td>{'count': '5', 'name': 'sherlock-holmes'}</td>\n",
       "      <td>{'count': '4', 'name': 'mystery'}</td>\n",
       "      <td>{'count': '2', 'name': 'owned'}</td>\n",
       "      <td>{'count': '1', 'name': 'adult'}</td>\n",
       "      <td>{'count': '1', 'name': 'anthology'}</td>\n",
       "      <td>{'count': '1', 'name': '21st-century'}</td>\n",
       "      <td>{'count': '1', 'name': 'kindle'}</td>\n",
       "      <td>{'count': '1', 'name': 'aa-holmes-have'}</td>\n",
       "      <td>{'count': '1', 'name': 'vault'}</td>\n",
       "      <td>...</td>\n",
       "      <td>NaN</td>\n",
       "      <td>NaN</td>\n",
       "      <td>NaN</td>\n",
       "      <td>NaN</td>\n",
       "      <td>NaN</td>\n",
       "      <td>NaN</td>\n",
       "      <td>NaN</td>\n",
       "      <td>NaN</td>\n",
       "      <td>NaN</td>\n",
       "      <td>NaN</td>\n",
       "    </tr>\n",
       "    <tr>\n",
       "      <th>219232</th>\n",
       "      <td>{'count': '735', 'name': 'to-read'}</td>\n",
       "      <td>{'count': '2', 'name': 'sherlock-holmes'}</td>\n",
       "      <td>{'count': '2', 'name': 'currently-reading'}</td>\n",
       "      <td>{'count': '1', 'name': 'mystery'}</td>\n",
       "      <td>{'count': '1', 'name': 'historical-mysterys'}</td>\n",
       "      <td>{'count': '1', 'name': '19th-century'}</td>\n",
       "      <td>{'count': '1', 'name': 'hoopla-to-reads'}</td>\n",
       "      <td>{'count': '1', 'name': 'sherlock'}</td>\n",
       "      <td>{'count': '1', 'name': 'mystery-crime-sherlock...</td>\n",
       "      <td>{'count': '1', 'name': 'giveaway'}</td>\n",
       "      <td>...</td>\n",
       "      <td>NaN</td>\n",
       "      <td>NaN</td>\n",
       "      <td>NaN</td>\n",
       "      <td>NaN</td>\n",
       "      <td>NaN</td>\n",
       "      <td>NaN</td>\n",
       "      <td>NaN</td>\n",
       "      <td>NaN</td>\n",
       "      <td>NaN</td>\n",
       "      <td>NaN</td>\n",
       "    </tr>\n",
       "    <tr>\n",
       "      <th>219233</th>\n",
       "      <td>{'count': '36', 'name': 'to-read'}</td>\n",
       "      <td>{'count': '6', 'name': 'mystery'}</td>\n",
       "      <td>{'count': '5', 'name': 'm-m'}</td>\n",
       "      <td>{'count': '3', 'name': 'mm'}</td>\n",
       "      <td>{'count': '2', 'name': 'paranormal'}</td>\n",
       "      <td>{'count': '2', 'name': 'mm-tbr'}</td>\n",
       "      <td>{'count': '2', 'name': 'maybe'}</td>\n",
       "      <td>{'count': '2', 'name': 'thriller'}</td>\n",
       "      <td>{'count': '1', 'name': 'spooky'}</td>\n",
       "      <td>{'count': '1', 'name': 'romance'}</td>\n",
       "      <td>...</td>\n",
       "      <td>NaN</td>\n",
       "      <td>NaN</td>\n",
       "      <td>NaN</td>\n",
       "      <td>NaN</td>\n",
       "      <td>NaN</td>\n",
       "      <td>NaN</td>\n",
       "      <td>NaN</td>\n",
       "      <td>NaN</td>\n",
       "      <td>NaN</td>\n",
       "      <td>NaN</td>\n",
       "    </tr>\n",
       "    <tr>\n",
       "      <th>219234</th>\n",
       "      <td>{'count': '702', 'name': 'to-read'}</td>\n",
       "      <td>{'count': '2', 'name': 'mystery'}</td>\n",
       "      <td>{'count': '2', 'name': 'giveaways'}</td>\n",
       "      <td>{'count': '1', 'name': 'baker-street'}</td>\n",
       "      <td>{'count': '1', 'name': 'sherlock'}</td>\n",
       "      <td>{'count': '1', 'name': 'thinking-about-reading'}</td>\n",
       "      <td>{'count': '1', 'name': 's'}</td>\n",
       "      <td>{'count': '1', 'name': 'mystery-crime-sherlock...</td>\n",
       "      <td>{'count': '1', 'name': 'children-s-books'}</td>\n",
       "      <td>{'count': '1', 'name': 'not-owned'}</td>\n",
       "      <td>...</td>\n",
       "      <td>NaN</td>\n",
       "      <td>NaN</td>\n",
       "      <td>NaN</td>\n",
       "      <td>NaN</td>\n",
       "      <td>NaN</td>\n",
       "      <td>NaN</td>\n",
       "      <td>NaN</td>\n",
       "      <td>NaN</td>\n",
       "      <td>NaN</td>\n",
       "      <td>NaN</td>\n",
       "    </tr>\n",
       "  </tbody>\n",
       "</table>\n",
       "<p>182906 rows × 100 columns</p>\n",
       "</div>"
      ],
      "text/plain": [
       "                                                  0   \\\n",
       "0                {'count': '159', 'name': 'to-read'}   \n",
       "1       {'count': '54', 'name': 'currently-reading'}   \n",
       "2                 {'count': '90', 'name': 'to-read'}   \n",
       "3                 {'count': '51', 'name': 'to-read'}   \n",
       "5               {'count': '1694', 'name': 'mystery'}   \n",
       "...                                              ...   \n",
       "219229            {'count': '49', 'name': 'to-read'}   \n",
       "219231           {'count': '497', 'name': 'to-read'}   \n",
       "219232           {'count': '735', 'name': 'to-read'}   \n",
       "219233            {'count': '36', 'name': 'to-read'}   \n",
       "219234           {'count': '702', 'name': 'to-read'}   \n",
       "\n",
       "                                                   1   \\\n",
       "0       {'count': '12', 'name': 'historical-fiction'}   \n",
       "1                 {'count': '8', 'name': 'netgalley'}   \n",
       "2        {'count': '53', 'name': 'currently-reading'}   \n",
       "3                   {'count': '9', 'name': 'mystery'}   \n",
       "5                 {'count': '553', 'name': 'to-read'}   \n",
       "...                                               ...   \n",
       "219229   {'count': '36', 'name': 'currently-reading'}   \n",
       "219231      {'count': '5', 'name': 'sherlock-holmes'}   \n",
       "219232      {'count': '2', 'name': 'sherlock-holmes'}   \n",
       "219233              {'count': '6', 'name': 'mystery'}   \n",
       "219234              {'count': '2', 'name': 'mystery'}   \n",
       "\n",
       "                                                 2   \\\n",
       "0                {'count': '11', 'name': 'mystery'}   \n",
       "1                  {'count': '5', 'name': 'kindle'}   \n",
       "2                   {'count': '5', 'name': 'humor'}   \n",
       "3                 {'count': '3', 'name': 'england'}   \n",
       "5               {'count': '411', 'name': 'fiction'}   \n",
       "...                                             ...   \n",
       "219229           {'count': '24', 'name': 'mystery'}   \n",
       "219231            {'count': '4', 'name': 'mystery'}   \n",
       "219232  {'count': '2', 'name': 'currently-reading'}   \n",
       "219233                {'count': '5', 'name': 'm-m'}   \n",
       "219234          {'count': '2', 'name': 'giveaways'}   \n",
       "\n",
       "                                                   3   \\\n",
       "0       {'count': '10', 'name': 'historical-mystery'}   \n",
       "1                 {'count': '3', 'name': 'read-2017'}   \n",
       "2                    {'count': '3', 'name': 'kindle'}   \n",
       "3                 {'count': '3', 'name': 'mysteries'}   \n",
       "5                   {'count': '370', 'name': 'crime'}   \n",
       "...                                               ...   \n",
       "219229              {'count': '9', 'name': 'fiction'}   \n",
       "219231                {'count': '2', 'name': 'owned'}   \n",
       "219232              {'count': '1', 'name': 'mystery'}   \n",
       "219233                   {'count': '3', 'name': 'mm'}   \n",
       "219234         {'count': '1', 'name': 'baker-street'}   \n",
       "\n",
       "                                                   4   \\\n",
       "0                  {'count': '7', 'name': 'medieval'}   \n",
       "1              {'count': '3', 'name': 'read-in-2017'}   \n",
       "2              {'count': '2', 'name': 'on-my-kindle'}   \n",
       "3         {'count': '2', 'name': 'currently-reading'}   \n",
       "5               {'count': '223', 'name': 'mysteries'}   \n",
       "...                                               ...   \n",
       "219229            {'count': '5', 'name': 'mysteries'}   \n",
       "219231                {'count': '1', 'name': 'adult'}   \n",
       "219232  {'count': '1', 'name': 'historical-mysterys'}   \n",
       "219233           {'count': '2', 'name': 'paranormal'}   \n",
       "219234             {'count': '1', 'name': 'sherlock'}   \n",
       "\n",
       "                                                      5   \\\n",
       "0                   {'count': '6', 'name': 'historical'}   \n",
       "1                   {'count': '3', 'name': 'paranormal'}   \n",
       "2                 {'count': '2', 'name': 'kindle-books'}   \n",
       "3                    {'count': '1', 'name': 'year-2017'}   \n",
       "5                   {'count': '198', 'name': 'classics'}   \n",
       "...                                                  ...   \n",
       "219229          {'count': '5', 'name': 'cozy-mysteries'}   \n",
       "219231               {'count': '1', 'name': 'anthology'}   \n",
       "219232            {'count': '1', 'name': '19th-century'}   \n",
       "219233                  {'count': '2', 'name': 'mm-tbr'}   \n",
       "219234  {'count': '1', 'name': 'thinking-about-reading'}   \n",
       "\n",
       "                                               6   \\\n",
       "0                 {'count': '5', 'name': 'crime'}   \n",
       "1                 {'count': '2', 'name': 'ghost'}   \n",
       "2                {'count': '2', 'name': 'series'}   \n",
       "3       {'count': '1', 'name': 'mood-comforting'}   \n",
       "5           {'count': '151', 'name': 'favorites'}   \n",
       "...                                           ...   \n",
       "219229     {'count': '5', 'name': 'cozy-mystery'}   \n",
       "219231     {'count': '1', 'name': '21st-century'}   \n",
       "219232  {'count': '1', 'name': 'hoopla-to-reads'}   \n",
       "219233            {'count': '2', 'name': 'maybe'}   \n",
       "219234                {'count': '1', 'name': 's'}   \n",
       "\n",
       "                                                       7   \\\n",
       "0                        {'count': '3', 'name': 'series'}   \n",
       "1              {'count': '2', 'name': 'next-in-a-series'}   \n",
       "2                    {'count': '2', 'name': 'free-reads'}   \n",
       "3             {'count': '1', 'name': 'milieu-small-town'}   \n",
       "5                       {'count': '146', 'name': 'owned'}   \n",
       "...                                                   ...   \n",
       "219229             {'count': '4', 'name': 'mystery-cozy'}   \n",
       "219231                   {'count': '1', 'name': 'kindle'}   \n",
       "219232                 {'count': '1', 'name': 'sherlock'}   \n",
       "219233                 {'count': '2', 'name': 'thriller'}   \n",
       "219234  {'count': '1', 'name': 'mystery-crime-sherlock...   \n",
       "\n",
       "                                                       8   \\\n",
       "0                         {'count': '3', 'name': 'ebook'}   \n",
       "1                    {'count': '2', 'name': 'mystery-pi'}   \n",
       "2                  {'count': '1', 'name': 'series-first'}   \n",
       "3                {'count': '1', 'name': 'milieu-british'}   \n",
       "5                   {'count': '123', 'name': 'detective'}   \n",
       "...                                                   ...   \n",
       "219229             {'count': '4', 'name': 'carolyn-hart'}   \n",
       "219231           {'count': '1', 'name': 'aa-holmes-have'}   \n",
       "219232  {'count': '1', 'name': 'mystery-crime-sherlock...   \n",
       "219233                   {'count': '1', 'name': 'spooky'}   \n",
       "219234         {'count': '1', 'name': 'children-s-books'}   \n",
       "\n",
       "                                                9   ...  \\\n",
       "0                {'count': '3', 'name': 'fiction'}  ...   \n",
       "1                  {'count': '2', 'name': 'ebook'}  ...   \n",
       "2           {'count': '1', 'name': 'labeled-2016'}  ...   \n",
       "3       {'count': '1', 'name': 'milieu-1960s-70s'}  ...   \n",
       "5          {'count': '117', 'name': 'books-i-own'}  ...   \n",
       "...                                            ...  ...   \n",
       "219229             {'count': '3', 'name': 'audio'}  ...   \n",
       "219231             {'count': '1', 'name': 'vault'}  ...   \n",
       "219232          {'count': '1', 'name': 'giveaway'}  ...   \n",
       "219233           {'count': '1', 'name': 'romance'}  ...   \n",
       "219234         {'count': '1', 'name': 'not-owned'}  ...   \n",
       "\n",
       "                                                       90  \\\n",
       "0             {'count': '1', 'name': 'books-to-get-list'}   \n",
       "1             {'count': '1', 'name': 'giveaways-entered'}   \n",
       "2                                                     NaN   \n",
       "3                                                     NaN   \n",
       "5       {'count': '10', 'name': 'mystery-crime-thriller'}   \n",
       "...                                                   ...   \n",
       "219229            {'count': '1', 'name': 'crime-fiction'}   \n",
       "219231                                                NaN   \n",
       "219232                                                NaN   \n",
       "219233                                                NaN   \n",
       "219234                                                NaN   \n",
       "\n",
       "                                                91  \\\n",
       "0         {'count': '1', 'name': 'knight-bernard'}   \n",
       "1                   {'count': '1', 'name': 'need'}   \n",
       "2                                              NaN   \n",
       "3                                              NaN   \n",
       "5       {'count': '10', 'name': 'classic-mystery'}   \n",
       "...                                            ...   \n",
       "219229        {'count': '1', 'name': 'bookstores'}   \n",
       "219231                                         NaN   \n",
       "219232                                         NaN   \n",
       "219233                                         NaN   \n",
       "219234                                         NaN   \n",
       "\n",
       "                                              92  \\\n",
       "0                  {'count': '1', 'name': 'mp3'}   \n",
       "1               {'count': '1', 'name': 'ghosts'}   \n",
       "2                                            NaN   \n",
       "3                                            NaN   \n",
       "5         {'count': '10', 'name': 'listened-to'}   \n",
       "...                                          ...   \n",
       "219229  {'count': '1', 'name': 'amateur-sleuth'}   \n",
       "219231                                       NaN   \n",
       "219232                                       NaN   \n",
       "219233                                       NaN   \n",
       "219234                                       NaN   \n",
       "\n",
       "                                                93  \\\n",
       "0       {'count': '1', 'name': 'needed-mysteries'}   \n",
       "1                                              NaN   \n",
       "2                                              NaN   \n",
       "3                                              NaN   \n",
       "5             {'count': '10', 'name': 'paperback'}   \n",
       "...                                            ...   \n",
       "219229     {'count': '1', 'name': 'mysteries2017'}   \n",
       "219231                                         NaN   \n",
       "219232                                         NaN   \n",
       "219233                                         NaN   \n",
       "219234                                         NaN   \n",
       "\n",
       "                                                    94  \\\n",
       "0       {'count': '1', 'name': 'historical-hoodunits'}   \n",
       "1                                                  NaN   \n",
       "2                                                  NaN   \n",
       "3                                                  NaN   \n",
       "5                  {'count': '10', 'name': 'whodunit'}   \n",
       "...                                                ...   \n",
       "219229                {'count': '1', 'name': 'ebooks'}   \n",
       "219231                                             NaN   \n",
       "219232                                             NaN   \n",
       "219233                                             NaN   \n",
       "219234                                             NaN   \n",
       "\n",
       "                                                      95  \\\n",
       "0       {'count': '1', 'name': 'detective-crowner-john'}   \n",
       "1                                                    NaN   \n",
       "2                                                    NaN   \n",
       "3                                                    NaN   \n",
       "5           {'count': '10', 'name': 'mystery-and-crime'}   \n",
       "...                                                  ...   \n",
       "219229          {'count': '1', 'name': '2017-challenge'}   \n",
       "219231                                               NaN   \n",
       "219232                                               NaN   \n",
       "219233                                               NaN   \n",
       "219234                                               NaN   \n",
       "\n",
       "                                                96  \\\n",
       "0       {'count': '1', 'name': 'books-in-english'}   \n",
       "1                                              NaN   \n",
       "2                                              NaN   \n",
       "3                                              NaN   \n",
       "5               {'count': '10', 'name': 'britain'}   \n",
       "...                                            ...   \n",
       "219229    {'count': '1', 'name': 'next-in-series'}   \n",
       "219231                                         NaN   \n",
       "219232                                         NaN   \n",
       "219233                                         NaN   \n",
       "219234                                         NaN   \n",
       "\n",
       "                                         97                               98  \\\n",
       "0              {'count': '1', 'name': 'to'}   {'count': '1', 'name': 'need'}   \n",
       "1                                       NaN                              NaN   \n",
       "2                                       NaN                              NaN   \n",
       "3                                       NaN                              NaN   \n",
       "5       {'count': '10', 'name': 'policier'}  {'count': '10', 'name': 'cozy'}   \n",
       "...                                     ...                              ...   \n",
       "219229      {'count': '1', 'name': 'adult'}   {'count': '1', 'name': 'myst'}   \n",
       "219231                                  NaN                              NaN   \n",
       "219232                                  NaN                              NaN   \n",
       "219233                                  NaN                              NaN   \n",
       "219234                                  NaN                              NaN   \n",
       "\n",
       "                                                 99  \n",
       "0                {'count': '1', 'name': '1100s-ad'}  \n",
       "1                                               NaN  \n",
       "2                                               NaN  \n",
       "3                                               NaN  \n",
       "5       {'count': '10', 'name': 'murder-mysteries'}  \n",
       "...                                             ...  \n",
       "219229      {'count': '1', 'name': 'mystery-crime'}  \n",
       "219231                                          NaN  \n",
       "219232                                          NaN  \n",
       "219233                                          NaN  \n",
       "219234                                          NaN  \n",
       "\n",
       "[182906 rows x 100 columns]"
      ]
     },
     "execution_count": 1440,
     "metadata": {},
     "output_type": "execute_result"
    }
   ],
   "source": [
    "ps"
   ]
  },
  {
   "cell_type": "code",
   "execution_count": 1442,
   "metadata": {},
   "outputs": [
    {
     "data": {
      "text/html": [
       "<div>\n",
       "<style scoped>\n",
       "    .dataframe tbody tr th:only-of-type {\n",
       "        vertical-align: middle;\n",
       "    }\n",
       "\n",
       "    .dataframe tbody tr th {\n",
       "        vertical-align: top;\n",
       "    }\n",
       "\n",
       "    .dataframe thead th {\n",
       "        text-align: right;\n",
       "    }\n",
       "</style>\n",
       "<table border=\"1\" class=\"dataframe\">\n",
       "  <thead>\n",
       "    <tr style=\"text-align: right;\">\n",
       "      <th></th>\n",
       "      <th>count</th>\n",
       "      <th>name</th>\n",
       "    </tr>\n",
       "  </thead>\n",
       "  <tbody>\n",
       "    <tr>\n",
       "      <th>0</th>\n",
       "      <td>159</td>\n",
       "      <td>to-read</td>\n",
       "    </tr>\n",
       "    <tr>\n",
       "      <th>1</th>\n",
       "      <td>54</td>\n",
       "      <td>currently-reading</td>\n",
       "    </tr>\n",
       "    <tr>\n",
       "      <th>2</th>\n",
       "      <td>90</td>\n",
       "      <td>to-read</td>\n",
       "    </tr>\n",
       "    <tr>\n",
       "      <th>3</th>\n",
       "      <td>51</td>\n",
       "      <td>to-read</td>\n",
       "    </tr>\n",
       "    <tr>\n",
       "      <th>5</th>\n",
       "      <td>1694</td>\n",
       "      <td>mystery</td>\n",
       "    </tr>\n",
       "    <tr>\n",
       "      <th>...</th>\n",
       "      <td>...</td>\n",
       "      <td>...</td>\n",
       "    </tr>\n",
       "    <tr>\n",
       "      <th>219229</th>\n",
       "      <td>49</td>\n",
       "      <td>to-read</td>\n",
       "    </tr>\n",
       "    <tr>\n",
       "      <th>219231</th>\n",
       "      <td>497</td>\n",
       "      <td>to-read</td>\n",
       "    </tr>\n",
       "    <tr>\n",
       "      <th>219232</th>\n",
       "      <td>735</td>\n",
       "      <td>to-read</td>\n",
       "    </tr>\n",
       "    <tr>\n",
       "      <th>219233</th>\n",
       "      <td>36</td>\n",
       "      <td>to-read</td>\n",
       "    </tr>\n",
       "    <tr>\n",
       "      <th>219234</th>\n",
       "      <td>702</td>\n",
       "      <td>to-read</td>\n",
       "    </tr>\n",
       "  </tbody>\n",
       "</table>\n",
       "<p>182906 rows × 2 columns</p>\n",
       "</div>"
      ],
      "text/plain": [
       "       count               name\n",
       "0        159            to-read\n",
       "1         54  currently-reading\n",
       "2         90            to-read\n",
       "3         51            to-read\n",
       "5       1694            mystery\n",
       "...      ...                ...\n",
       "219229    49            to-read\n",
       "219231   497            to-read\n",
       "219232   735            to-read\n",
       "219233    36            to-read\n",
       "219234   702            to-read\n",
       "\n",
       "[182906 rows x 2 columns]"
      ]
     },
     "execution_count": 1442,
     "metadata": {},
     "output_type": "execute_result"
    }
   ],
   "source": [
    "ps[0].apply(pd.Series)"
   ]
  },
  {
   "cell_type": "code",
   "execution_count": 1443,
   "metadata": {},
   "outputs": [
    {
     "data": {
      "text/html": [
       "<div>\n",
       "<style scoped>\n",
       "    .dataframe tbody tr th:only-of-type {\n",
       "        vertical-align: middle;\n",
       "    }\n",
       "\n",
       "    .dataframe tbody tr th {\n",
       "        vertical-align: top;\n",
       "    }\n",
       "\n",
       "    .dataframe thead th {\n",
       "        text-align: right;\n",
       "    }\n",
       "</style>\n",
       "<table border=\"1\" class=\"dataframe\">\n",
       "  <thead>\n",
       "    <tr style=\"text-align: right;\">\n",
       "      <th></th>\n",
       "      <th>0</th>\n",
       "      <th>1</th>\n",
       "      <th>2</th>\n",
       "      <th>3</th>\n",
       "      <th>4</th>\n",
       "      <th>5</th>\n",
       "      <th>6</th>\n",
       "      <th>7</th>\n",
       "      <th>8</th>\n",
       "      <th>9</th>\n",
       "      <th>...</th>\n",
       "      <th>90</th>\n",
       "      <th>91</th>\n",
       "      <th>92</th>\n",
       "      <th>93</th>\n",
       "      <th>94</th>\n",
       "      <th>95</th>\n",
       "      <th>96</th>\n",
       "      <th>97</th>\n",
       "      <th>98</th>\n",
       "      <th>99</th>\n",
       "    </tr>\n",
       "  </thead>\n",
       "  <tbody>\n",
       "    <tr>\n",
       "      <th>0</th>\n",
       "      <td>{'count': '159', 'name': 'to-read'}</td>\n",
       "      <td>{'count': '12', 'name': 'historical-fiction'}</td>\n",
       "      <td>{'count': '11', 'name': 'mystery'}</td>\n",
       "      <td>{'count': '10', 'name': 'historical-mystery'}</td>\n",
       "      <td>{'count': '7', 'name': 'medieval'}</td>\n",
       "      <td>{'count': '6', 'name': 'historical'}</td>\n",
       "      <td>{'count': '5', 'name': 'crime'}</td>\n",
       "      <td>{'count': '3', 'name': 'series'}</td>\n",
       "      <td>{'count': '3', 'name': 'ebook'}</td>\n",
       "      <td>{'count': '3', 'name': 'fiction'}</td>\n",
       "      <td>...</td>\n",
       "      <td>{'count': '1', 'name': 'books-to-get-list'}</td>\n",
       "      <td>{'count': '1', 'name': 'knight-bernard'}</td>\n",
       "      <td>{'count': '1', 'name': 'mp3'}</td>\n",
       "      <td>{'count': '1', 'name': 'needed-mysteries'}</td>\n",
       "      <td>{'count': '1', 'name': 'historical-hoodunits'}</td>\n",
       "      <td>{'count': '1', 'name': 'detective-crowner-john'}</td>\n",
       "      <td>{'count': '1', 'name': 'books-in-english'}</td>\n",
       "      <td>{'count': '1', 'name': 'to'}</td>\n",
       "      <td>{'count': '1', 'name': 'need'}</td>\n",
       "      <td>{'count': '1', 'name': '1100s-ad'}</td>\n",
       "    </tr>\n",
       "    <tr>\n",
       "      <th>1</th>\n",
       "      <td>{'count': '54', 'name': 'currently-reading'}</td>\n",
       "      <td>{'count': '8', 'name': 'netgalley'}</td>\n",
       "      <td>{'count': '5', 'name': 'kindle'}</td>\n",
       "      <td>{'count': '3', 'name': 'read-2017'}</td>\n",
       "      <td>{'count': '3', 'name': 'read-in-2017'}</td>\n",
       "      <td>{'count': '3', 'name': 'paranormal'}</td>\n",
       "      <td>{'count': '2', 'name': 'ghost'}</td>\n",
       "      <td>{'count': '2', 'name': 'next-in-a-series'}</td>\n",
       "      <td>{'count': '2', 'name': 'mystery-pi'}</td>\n",
       "      <td>{'count': '2', 'name': 'ebook'}</td>\n",
       "      <td>...</td>\n",
       "      <td>{'count': '1', 'name': 'giveaways-entered'}</td>\n",
       "      <td>{'count': '1', 'name': 'need'}</td>\n",
       "      <td>{'count': '1', 'name': 'ghosts'}</td>\n",
       "      <td>None</td>\n",
       "      <td>None</td>\n",
       "      <td>None</td>\n",
       "      <td>None</td>\n",
       "      <td>None</td>\n",
       "      <td>None</td>\n",
       "      <td>None</td>\n",
       "    </tr>\n",
       "    <tr>\n",
       "      <th>2</th>\n",
       "      <td>{'count': '90', 'name': 'to-read'}</td>\n",
       "      <td>{'count': '53', 'name': 'currently-reading'}</td>\n",
       "      <td>{'count': '5', 'name': 'humor'}</td>\n",
       "      <td>{'count': '3', 'name': 'kindle'}</td>\n",
       "      <td>{'count': '2', 'name': 'on-my-kindle'}</td>\n",
       "      <td>{'count': '2', 'name': 'kindle-books'}</td>\n",
       "      <td>{'count': '2', 'name': 'series'}</td>\n",
       "      <td>{'count': '2', 'name': 'free-reads'}</td>\n",
       "      <td>{'count': '1', 'name': 'series-first'}</td>\n",
       "      <td>{'count': '1', 'name': 'labeled-2016'}</td>\n",
       "      <td>...</td>\n",
       "      <td>None</td>\n",
       "      <td>None</td>\n",
       "      <td>None</td>\n",
       "      <td>None</td>\n",
       "      <td>None</td>\n",
       "      <td>None</td>\n",
       "      <td>None</td>\n",
       "      <td>None</td>\n",
       "      <td>None</td>\n",
       "      <td>None</td>\n",
       "    </tr>\n",
       "    <tr>\n",
       "      <th>3</th>\n",
       "      <td>{'count': '51', 'name': 'to-read'}</td>\n",
       "      <td>{'count': '9', 'name': 'mystery'}</td>\n",
       "      <td>{'count': '3', 'name': 'england'}</td>\n",
       "      <td>{'count': '3', 'name': 'mysteries'}</td>\n",
       "      <td>{'count': '2', 'name': 'currently-reading'}</td>\n",
       "      <td>{'count': '1', 'name': 'year-2017'}</td>\n",
       "      <td>{'count': '1', 'name': 'mood-comforting'}</td>\n",
       "      <td>{'count': '1', 'name': 'milieu-small-town'}</td>\n",
       "      <td>{'count': '1', 'name': 'milieu-british'}</td>\n",
       "      <td>{'count': '1', 'name': 'milieu-1960s-70s'}</td>\n",
       "      <td>...</td>\n",
       "      <td>None</td>\n",
       "      <td>None</td>\n",
       "      <td>None</td>\n",
       "      <td>None</td>\n",
       "      <td>None</td>\n",
       "      <td>None</td>\n",
       "      <td>None</td>\n",
       "      <td>None</td>\n",
       "      <td>None</td>\n",
       "      <td>None</td>\n",
       "    </tr>\n",
       "    <tr>\n",
       "      <th>4</th>\n",
       "      <td>{'count': '1694', 'name': 'mystery'}</td>\n",
       "      <td>{'count': '553', 'name': 'to-read'}</td>\n",
       "      <td>{'count': '411', 'name': 'fiction'}</td>\n",
       "      <td>{'count': '370', 'name': 'crime'}</td>\n",
       "      <td>{'count': '223', 'name': 'mysteries'}</td>\n",
       "      <td>{'count': '198', 'name': 'classics'}</td>\n",
       "      <td>{'count': '151', 'name': 'favorites'}</td>\n",
       "      <td>{'count': '146', 'name': 'owned'}</td>\n",
       "      <td>{'count': '123', 'name': 'detective'}</td>\n",
       "      <td>{'count': '117', 'name': 'books-i-own'}</td>\n",
       "      <td>...</td>\n",
       "      <td>{'count': '10', 'name': 'mystery-crime-thriller'}</td>\n",
       "      <td>{'count': '10', 'name': 'classic-mystery'}</td>\n",
       "      <td>{'count': '10', 'name': 'listened-to'}</td>\n",
       "      <td>{'count': '10', 'name': 'paperback'}</td>\n",
       "      <td>{'count': '10', 'name': 'whodunit'}</td>\n",
       "      <td>{'count': '10', 'name': 'mystery-and-crime'}</td>\n",
       "      <td>{'count': '10', 'name': 'britain'}</td>\n",
       "      <td>{'count': '10', 'name': 'policier'}</td>\n",
       "      <td>{'count': '10', 'name': 'cozy'}</td>\n",
       "      <td>{'count': '10', 'name': 'murder-mysteries'}</td>\n",
       "    </tr>\n",
       "    <tr>\n",
       "      <th>...</th>\n",
       "      <td>...</td>\n",
       "      <td>...</td>\n",
       "      <td>...</td>\n",
       "      <td>...</td>\n",
       "      <td>...</td>\n",
       "      <td>...</td>\n",
       "      <td>...</td>\n",
       "      <td>...</td>\n",
       "      <td>...</td>\n",
       "      <td>...</td>\n",
       "      <td>...</td>\n",
       "      <td>...</td>\n",
       "      <td>...</td>\n",
       "      <td>...</td>\n",
       "      <td>...</td>\n",
       "      <td>...</td>\n",
       "      <td>...</td>\n",
       "      <td>...</td>\n",
       "      <td>...</td>\n",
       "      <td>...</td>\n",
       "      <td>...</td>\n",
       "    </tr>\n",
       "    <tr>\n",
       "      <th>182901</th>\n",
       "      <td>{'count': '49', 'name': 'to-read'}</td>\n",
       "      <td>{'count': '36', 'name': 'currently-reading'}</td>\n",
       "      <td>{'count': '24', 'name': 'mystery'}</td>\n",
       "      <td>{'count': '9', 'name': 'fiction'}</td>\n",
       "      <td>{'count': '5', 'name': 'mysteries'}</td>\n",
       "      <td>{'count': '5', 'name': 'cozy-mysteries'}</td>\n",
       "      <td>{'count': '5', 'name': 'cozy-mystery'}</td>\n",
       "      <td>{'count': '4', 'name': 'mystery-cozy'}</td>\n",
       "      <td>{'count': '4', 'name': 'carolyn-hart'}</td>\n",
       "      <td>{'count': '3', 'name': 'audio'}</td>\n",
       "      <td>...</td>\n",
       "      <td>{'count': '1', 'name': 'crime-fiction'}</td>\n",
       "      <td>{'count': '1', 'name': 'bookstores'}</td>\n",
       "      <td>{'count': '1', 'name': 'amateur-sleuth'}</td>\n",
       "      <td>{'count': '1', 'name': 'mysteries2017'}</td>\n",
       "      <td>{'count': '1', 'name': 'ebooks'}</td>\n",
       "      <td>{'count': '1', 'name': '2017-challenge'}</td>\n",
       "      <td>{'count': '1', 'name': 'next-in-series'}</td>\n",
       "      <td>{'count': '1', 'name': 'adult'}</td>\n",
       "      <td>{'count': '1', 'name': 'myst'}</td>\n",
       "      <td>{'count': '1', 'name': 'mystery-crime'}</td>\n",
       "    </tr>\n",
       "    <tr>\n",
       "      <th>182902</th>\n",
       "      <td>{'count': '497', 'name': 'to-read'}</td>\n",
       "      <td>{'count': '5', 'name': 'sherlock-holmes'}</td>\n",
       "      <td>{'count': '4', 'name': 'mystery'}</td>\n",
       "      <td>{'count': '2', 'name': 'owned'}</td>\n",
       "      <td>{'count': '1', 'name': 'adult'}</td>\n",
       "      <td>{'count': '1', 'name': 'anthology'}</td>\n",
       "      <td>{'count': '1', 'name': '21st-century'}</td>\n",
       "      <td>{'count': '1', 'name': 'kindle'}</td>\n",
       "      <td>{'count': '1', 'name': 'aa-holmes-have'}</td>\n",
       "      <td>{'count': '1', 'name': 'vault'}</td>\n",
       "      <td>...</td>\n",
       "      <td>None</td>\n",
       "      <td>None</td>\n",
       "      <td>None</td>\n",
       "      <td>None</td>\n",
       "      <td>None</td>\n",
       "      <td>None</td>\n",
       "      <td>None</td>\n",
       "      <td>None</td>\n",
       "      <td>None</td>\n",
       "      <td>None</td>\n",
       "    </tr>\n",
       "    <tr>\n",
       "      <th>182903</th>\n",
       "      <td>{'count': '735', 'name': 'to-read'}</td>\n",
       "      <td>{'count': '2', 'name': 'sherlock-holmes'}</td>\n",
       "      <td>{'count': '2', 'name': 'currently-reading'}</td>\n",
       "      <td>{'count': '1', 'name': 'mystery'}</td>\n",
       "      <td>{'count': '1', 'name': 'historical-mysterys'}</td>\n",
       "      <td>{'count': '1', 'name': '19th-century'}</td>\n",
       "      <td>{'count': '1', 'name': 'hoopla-to-reads'}</td>\n",
       "      <td>{'count': '1', 'name': 'sherlock'}</td>\n",
       "      <td>{'count': '1', 'name': 'mystery-crime-sherlock...</td>\n",
       "      <td>{'count': '1', 'name': 'giveaway'}</td>\n",
       "      <td>...</td>\n",
       "      <td>None</td>\n",
       "      <td>None</td>\n",
       "      <td>None</td>\n",
       "      <td>None</td>\n",
       "      <td>None</td>\n",
       "      <td>None</td>\n",
       "      <td>None</td>\n",
       "      <td>None</td>\n",
       "      <td>None</td>\n",
       "      <td>None</td>\n",
       "    </tr>\n",
       "    <tr>\n",
       "      <th>182904</th>\n",
       "      <td>{'count': '36', 'name': 'to-read'}</td>\n",
       "      <td>{'count': '6', 'name': 'mystery'}</td>\n",
       "      <td>{'count': '5', 'name': 'm-m'}</td>\n",
       "      <td>{'count': '3', 'name': 'mm'}</td>\n",
       "      <td>{'count': '2', 'name': 'paranormal'}</td>\n",
       "      <td>{'count': '2', 'name': 'mm-tbr'}</td>\n",
       "      <td>{'count': '2', 'name': 'maybe'}</td>\n",
       "      <td>{'count': '2', 'name': 'thriller'}</td>\n",
       "      <td>{'count': '1', 'name': 'spooky'}</td>\n",
       "      <td>{'count': '1', 'name': 'romance'}</td>\n",
       "      <td>...</td>\n",
       "      <td>None</td>\n",
       "      <td>None</td>\n",
       "      <td>None</td>\n",
       "      <td>None</td>\n",
       "      <td>None</td>\n",
       "      <td>None</td>\n",
       "      <td>None</td>\n",
       "      <td>None</td>\n",
       "      <td>None</td>\n",
       "      <td>None</td>\n",
       "    </tr>\n",
       "    <tr>\n",
       "      <th>182905</th>\n",
       "      <td>{'count': '702', 'name': 'to-read'}</td>\n",
       "      <td>{'count': '2', 'name': 'mystery'}</td>\n",
       "      <td>{'count': '2', 'name': 'giveaways'}</td>\n",
       "      <td>{'count': '1', 'name': 'baker-street'}</td>\n",
       "      <td>{'count': '1', 'name': 'sherlock'}</td>\n",
       "      <td>{'count': '1', 'name': 'thinking-about-reading'}</td>\n",
       "      <td>{'count': '1', 'name': 's'}</td>\n",
       "      <td>{'count': '1', 'name': 'mystery-crime-sherlock...</td>\n",
       "      <td>{'count': '1', 'name': 'children-s-books'}</td>\n",
       "      <td>{'count': '1', 'name': 'not-owned'}</td>\n",
       "      <td>...</td>\n",
       "      <td>None</td>\n",
       "      <td>None</td>\n",
       "      <td>None</td>\n",
       "      <td>None</td>\n",
       "      <td>None</td>\n",
       "      <td>None</td>\n",
       "      <td>None</td>\n",
       "      <td>None</td>\n",
       "      <td>None</td>\n",
       "      <td>None</td>\n",
       "    </tr>\n",
       "  </tbody>\n",
       "</table>\n",
       "<p>182906 rows × 100 columns</p>\n",
       "</div>"
      ],
      "text/plain": [
       "                                                  0   \\\n",
       "0                {'count': '159', 'name': 'to-read'}   \n",
       "1       {'count': '54', 'name': 'currently-reading'}   \n",
       "2                 {'count': '90', 'name': 'to-read'}   \n",
       "3                 {'count': '51', 'name': 'to-read'}   \n",
       "4               {'count': '1694', 'name': 'mystery'}   \n",
       "...                                              ...   \n",
       "182901            {'count': '49', 'name': 'to-read'}   \n",
       "182902           {'count': '497', 'name': 'to-read'}   \n",
       "182903           {'count': '735', 'name': 'to-read'}   \n",
       "182904            {'count': '36', 'name': 'to-read'}   \n",
       "182905           {'count': '702', 'name': 'to-read'}   \n",
       "\n",
       "                                                   1   \\\n",
       "0       {'count': '12', 'name': 'historical-fiction'}   \n",
       "1                 {'count': '8', 'name': 'netgalley'}   \n",
       "2        {'count': '53', 'name': 'currently-reading'}   \n",
       "3                   {'count': '9', 'name': 'mystery'}   \n",
       "4                 {'count': '553', 'name': 'to-read'}   \n",
       "...                                               ...   \n",
       "182901   {'count': '36', 'name': 'currently-reading'}   \n",
       "182902      {'count': '5', 'name': 'sherlock-holmes'}   \n",
       "182903      {'count': '2', 'name': 'sherlock-holmes'}   \n",
       "182904              {'count': '6', 'name': 'mystery'}   \n",
       "182905              {'count': '2', 'name': 'mystery'}   \n",
       "\n",
       "                                                 2   \\\n",
       "0                {'count': '11', 'name': 'mystery'}   \n",
       "1                  {'count': '5', 'name': 'kindle'}   \n",
       "2                   {'count': '5', 'name': 'humor'}   \n",
       "3                 {'count': '3', 'name': 'england'}   \n",
       "4               {'count': '411', 'name': 'fiction'}   \n",
       "...                                             ...   \n",
       "182901           {'count': '24', 'name': 'mystery'}   \n",
       "182902            {'count': '4', 'name': 'mystery'}   \n",
       "182903  {'count': '2', 'name': 'currently-reading'}   \n",
       "182904                {'count': '5', 'name': 'm-m'}   \n",
       "182905          {'count': '2', 'name': 'giveaways'}   \n",
       "\n",
       "                                                   3   \\\n",
       "0       {'count': '10', 'name': 'historical-mystery'}   \n",
       "1                 {'count': '3', 'name': 'read-2017'}   \n",
       "2                    {'count': '3', 'name': 'kindle'}   \n",
       "3                 {'count': '3', 'name': 'mysteries'}   \n",
       "4                   {'count': '370', 'name': 'crime'}   \n",
       "...                                               ...   \n",
       "182901              {'count': '9', 'name': 'fiction'}   \n",
       "182902                {'count': '2', 'name': 'owned'}   \n",
       "182903              {'count': '1', 'name': 'mystery'}   \n",
       "182904                   {'count': '3', 'name': 'mm'}   \n",
       "182905         {'count': '1', 'name': 'baker-street'}   \n",
       "\n",
       "                                                   4   \\\n",
       "0                  {'count': '7', 'name': 'medieval'}   \n",
       "1              {'count': '3', 'name': 'read-in-2017'}   \n",
       "2              {'count': '2', 'name': 'on-my-kindle'}   \n",
       "3         {'count': '2', 'name': 'currently-reading'}   \n",
       "4               {'count': '223', 'name': 'mysteries'}   \n",
       "...                                               ...   \n",
       "182901            {'count': '5', 'name': 'mysteries'}   \n",
       "182902                {'count': '1', 'name': 'adult'}   \n",
       "182903  {'count': '1', 'name': 'historical-mysterys'}   \n",
       "182904           {'count': '2', 'name': 'paranormal'}   \n",
       "182905             {'count': '1', 'name': 'sherlock'}   \n",
       "\n",
       "                                                      5   \\\n",
       "0                   {'count': '6', 'name': 'historical'}   \n",
       "1                   {'count': '3', 'name': 'paranormal'}   \n",
       "2                 {'count': '2', 'name': 'kindle-books'}   \n",
       "3                    {'count': '1', 'name': 'year-2017'}   \n",
       "4                   {'count': '198', 'name': 'classics'}   \n",
       "...                                                  ...   \n",
       "182901          {'count': '5', 'name': 'cozy-mysteries'}   \n",
       "182902               {'count': '1', 'name': 'anthology'}   \n",
       "182903            {'count': '1', 'name': '19th-century'}   \n",
       "182904                  {'count': '2', 'name': 'mm-tbr'}   \n",
       "182905  {'count': '1', 'name': 'thinking-about-reading'}   \n",
       "\n",
       "                                               6   \\\n",
       "0                 {'count': '5', 'name': 'crime'}   \n",
       "1                 {'count': '2', 'name': 'ghost'}   \n",
       "2                {'count': '2', 'name': 'series'}   \n",
       "3       {'count': '1', 'name': 'mood-comforting'}   \n",
       "4           {'count': '151', 'name': 'favorites'}   \n",
       "...                                           ...   \n",
       "182901     {'count': '5', 'name': 'cozy-mystery'}   \n",
       "182902     {'count': '1', 'name': '21st-century'}   \n",
       "182903  {'count': '1', 'name': 'hoopla-to-reads'}   \n",
       "182904            {'count': '2', 'name': 'maybe'}   \n",
       "182905                {'count': '1', 'name': 's'}   \n",
       "\n",
       "                                                       7   \\\n",
       "0                        {'count': '3', 'name': 'series'}   \n",
       "1              {'count': '2', 'name': 'next-in-a-series'}   \n",
       "2                    {'count': '2', 'name': 'free-reads'}   \n",
       "3             {'count': '1', 'name': 'milieu-small-town'}   \n",
       "4                       {'count': '146', 'name': 'owned'}   \n",
       "...                                                   ...   \n",
       "182901             {'count': '4', 'name': 'mystery-cozy'}   \n",
       "182902                   {'count': '1', 'name': 'kindle'}   \n",
       "182903                 {'count': '1', 'name': 'sherlock'}   \n",
       "182904                 {'count': '2', 'name': 'thriller'}   \n",
       "182905  {'count': '1', 'name': 'mystery-crime-sherlock...   \n",
       "\n",
       "                                                       8   \\\n",
       "0                         {'count': '3', 'name': 'ebook'}   \n",
       "1                    {'count': '2', 'name': 'mystery-pi'}   \n",
       "2                  {'count': '1', 'name': 'series-first'}   \n",
       "3                {'count': '1', 'name': 'milieu-british'}   \n",
       "4                   {'count': '123', 'name': 'detective'}   \n",
       "...                                                   ...   \n",
       "182901             {'count': '4', 'name': 'carolyn-hart'}   \n",
       "182902           {'count': '1', 'name': 'aa-holmes-have'}   \n",
       "182903  {'count': '1', 'name': 'mystery-crime-sherlock...   \n",
       "182904                   {'count': '1', 'name': 'spooky'}   \n",
       "182905         {'count': '1', 'name': 'children-s-books'}   \n",
       "\n",
       "                                                9   ...  \\\n",
       "0                {'count': '3', 'name': 'fiction'}  ...   \n",
       "1                  {'count': '2', 'name': 'ebook'}  ...   \n",
       "2           {'count': '1', 'name': 'labeled-2016'}  ...   \n",
       "3       {'count': '1', 'name': 'milieu-1960s-70s'}  ...   \n",
       "4          {'count': '117', 'name': 'books-i-own'}  ...   \n",
       "...                                            ...  ...   \n",
       "182901             {'count': '3', 'name': 'audio'}  ...   \n",
       "182902             {'count': '1', 'name': 'vault'}  ...   \n",
       "182903          {'count': '1', 'name': 'giveaway'}  ...   \n",
       "182904           {'count': '1', 'name': 'romance'}  ...   \n",
       "182905         {'count': '1', 'name': 'not-owned'}  ...   \n",
       "\n",
       "                                                       90  \\\n",
       "0             {'count': '1', 'name': 'books-to-get-list'}   \n",
       "1             {'count': '1', 'name': 'giveaways-entered'}   \n",
       "2                                                    None   \n",
       "3                                                    None   \n",
       "4       {'count': '10', 'name': 'mystery-crime-thriller'}   \n",
       "...                                                   ...   \n",
       "182901            {'count': '1', 'name': 'crime-fiction'}   \n",
       "182902                                               None   \n",
       "182903                                               None   \n",
       "182904                                               None   \n",
       "182905                                               None   \n",
       "\n",
       "                                                91  \\\n",
       "0         {'count': '1', 'name': 'knight-bernard'}   \n",
       "1                   {'count': '1', 'name': 'need'}   \n",
       "2                                             None   \n",
       "3                                             None   \n",
       "4       {'count': '10', 'name': 'classic-mystery'}   \n",
       "...                                            ...   \n",
       "182901        {'count': '1', 'name': 'bookstores'}   \n",
       "182902                                        None   \n",
       "182903                                        None   \n",
       "182904                                        None   \n",
       "182905                                        None   \n",
       "\n",
       "                                              92  \\\n",
       "0                  {'count': '1', 'name': 'mp3'}   \n",
       "1               {'count': '1', 'name': 'ghosts'}   \n",
       "2                                           None   \n",
       "3                                           None   \n",
       "4         {'count': '10', 'name': 'listened-to'}   \n",
       "...                                          ...   \n",
       "182901  {'count': '1', 'name': 'amateur-sleuth'}   \n",
       "182902                                      None   \n",
       "182903                                      None   \n",
       "182904                                      None   \n",
       "182905                                      None   \n",
       "\n",
       "                                                93  \\\n",
       "0       {'count': '1', 'name': 'needed-mysteries'}   \n",
       "1                                             None   \n",
       "2                                             None   \n",
       "3                                             None   \n",
       "4             {'count': '10', 'name': 'paperback'}   \n",
       "...                                            ...   \n",
       "182901     {'count': '1', 'name': 'mysteries2017'}   \n",
       "182902                                        None   \n",
       "182903                                        None   \n",
       "182904                                        None   \n",
       "182905                                        None   \n",
       "\n",
       "                                                    94  \\\n",
       "0       {'count': '1', 'name': 'historical-hoodunits'}   \n",
       "1                                                 None   \n",
       "2                                                 None   \n",
       "3                                                 None   \n",
       "4                  {'count': '10', 'name': 'whodunit'}   \n",
       "...                                                ...   \n",
       "182901                {'count': '1', 'name': 'ebooks'}   \n",
       "182902                                            None   \n",
       "182903                                            None   \n",
       "182904                                            None   \n",
       "182905                                            None   \n",
       "\n",
       "                                                      95  \\\n",
       "0       {'count': '1', 'name': 'detective-crowner-john'}   \n",
       "1                                                   None   \n",
       "2                                                   None   \n",
       "3                                                   None   \n",
       "4           {'count': '10', 'name': 'mystery-and-crime'}   \n",
       "...                                                  ...   \n",
       "182901          {'count': '1', 'name': '2017-challenge'}   \n",
       "182902                                              None   \n",
       "182903                                              None   \n",
       "182904                                              None   \n",
       "182905                                              None   \n",
       "\n",
       "                                                96  \\\n",
       "0       {'count': '1', 'name': 'books-in-english'}   \n",
       "1                                             None   \n",
       "2                                             None   \n",
       "3                                             None   \n",
       "4               {'count': '10', 'name': 'britain'}   \n",
       "...                                            ...   \n",
       "182901    {'count': '1', 'name': 'next-in-series'}   \n",
       "182902                                        None   \n",
       "182903                                        None   \n",
       "182904                                        None   \n",
       "182905                                        None   \n",
       "\n",
       "                                         97                               98  \\\n",
       "0              {'count': '1', 'name': 'to'}   {'count': '1', 'name': 'need'}   \n",
       "1                                      None                             None   \n",
       "2                                      None                             None   \n",
       "3                                      None                             None   \n",
       "4       {'count': '10', 'name': 'policier'}  {'count': '10', 'name': 'cozy'}   \n",
       "...                                     ...                              ...   \n",
       "182901      {'count': '1', 'name': 'adult'}   {'count': '1', 'name': 'myst'}   \n",
       "182902                                 None                             None   \n",
       "182903                                 None                             None   \n",
       "182904                                 None                             None   \n",
       "182905                                 None                             None   \n",
       "\n",
       "                                                 99  \n",
       "0                {'count': '1', 'name': '1100s-ad'}  \n",
       "1                                              None  \n",
       "2                                              None  \n",
       "3                                              None  \n",
       "4       {'count': '10', 'name': 'murder-mysteries'}  \n",
       "...                                             ...  \n",
       "182901      {'count': '1', 'name': 'mystery-crime'}  \n",
       "182902                                         None  \n",
       "182903                                         None  \n",
       "182904                                         None  \n",
       "182905                                         None  \n",
       "\n",
       "[182906 rows x 100 columns]"
      ]
     },
     "execution_count": 1443,
     "metadata": {},
     "output_type": "execute_result"
    }
   ],
   "source": [
    "pd.DataFrame(df['popular_shelves'].tolist())"
   ]
  },
  {
   "cell_type": "code",
   "execution_count": 1451,
   "metadata": {},
   "outputs": [
    {
     "data": {
      "text/plain": [
       "Index(['text_reviews_count', 'series', 'country_code', 'language_code',\n",
       "       'is_ebook', 'average_rating', 'similar_books', 'format', 'publisher',\n",
       "       'num_pages', 'publication_month', 'edition_information',\n",
       "       'publication_year', 'book_id', 'ratings_count', 'work_id', 'title',\n",
       "       'title_without_series', 'First_Author_ID', 'first_author_id',\n",
       "       'first_author_role', 'second_author_id', 'second_author_role'],\n",
       "      dtype='object')"
      ]
     },
     "execution_count": 1451,
     "metadata": {},
     "output_type": "execute_result"
    }
   ],
   "source": [
    "df.columns"
   ]
  },
  {
   "cell_type": "code",
   "execution_count": null,
   "metadata": {},
   "outputs": [],
   "source": []
  }
 ],
 "metadata": {
  "kernelspec": {
   "display_name": "Python 3",
   "language": "python",
   "name": "python3"
  },
  "language_info": {
   "codemirror_mode": {
    "name": "ipython",
    "version": 3
   },
   "file_extension": ".py",
   "mimetype": "text/x-python",
   "name": "python",
   "nbconvert_exporter": "python",
   "pygments_lexer": "ipython3",
   "version": "3.8.3"
  },
  "widgets": {
   "application/vnd.jupyter.widget-state+json": {
    "state": {},
    "version_major": 2,
    "version_minor": 0
   }
  }
 },
 "nbformat": 4,
 "nbformat_minor": 4
}
