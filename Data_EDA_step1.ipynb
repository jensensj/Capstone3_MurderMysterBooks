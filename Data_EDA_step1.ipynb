{
 "cells": [
  {
   "cell_type": "code",
   "execution_count": 1,
   "metadata": {},
   "outputs": [],
   "source": [
    "import pandas as pd\n",
    "import numpy as np\n",
    "import matplotlib.pyplot as plt\n",
    "import seaborn as sns"
   ]
  },
  {
   "cell_type": "markdown",
   "metadata": {},
   "source": [
    "### Starting with books and works"
   ]
  },
  {
   "cell_type": "code",
   "execution_count": 3,
   "metadata": {},
   "outputs": [],
   "source": [
    "df_works = pd.read_pickle('Works_wrangled.pkl')"
   ]
  },
  {
   "cell_type": "code",
   "execution_count": 4,
   "metadata": {},
   "outputs": [
    {
     "data": {
      "text/html": [
       "<div>\n",
       "<style scoped>\n",
       "    .dataframe tbody tr th:only-of-type {\n",
       "        vertical-align: middle;\n",
       "    }\n",
       "\n",
       "    .dataframe tbody tr th {\n",
       "        vertical-align: top;\n",
       "    }\n",
       "\n",
       "    .dataframe thead th {\n",
       "        text-align: right;\n",
       "    }\n",
       "</style>\n",
       "<table border=\"1\" class=\"dataframe\">\n",
       "  <thead>\n",
       "    <tr style=\"text-align: right;\">\n",
       "      <th></th>\n",
       "      <th>books_count</th>\n",
       "      <th>reviews_count</th>\n",
       "      <th>original_publication_month</th>\n",
       "      <th>text_reviews_count</th>\n",
       "      <th>best_book_id</th>\n",
       "      <th>original_publication_year</th>\n",
       "      <th>original_title</th>\n",
       "      <th>rating_dist</th>\n",
       "      <th>ratings_count</th>\n",
       "      <th>media_type</th>\n",
       "      <th>ratings_sum</th>\n",
       "      <th>work_id</th>\n",
       "    </tr>\n",
       "  </thead>\n",
       "  <tbody>\n",
       "    <tr>\n",
       "      <th>0</th>\n",
       "      <td>1</td>\n",
       "      <td>6</td>\n",
       "      <td>8</td>\n",
       "      <td>1</td>\n",
       "      <td>5333265</td>\n",
       "      <td>1984</td>\n",
       "      <td>W. C. Fields: A Life on Film</td>\n",
       "      <td>5:1|4:1|3:1|2:0|1:0|total:3</td>\n",
       "      <td>3</td>\n",
       "      <td>book</td>\n",
       "      <td>12</td>\n",
       "      <td>5400751</td>\n",
       "    </tr>\n",
       "    <tr>\n",
       "      <th>1</th>\n",
       "      <td>22</td>\n",
       "      <td>10162</td>\n",
       "      <td></td>\n",
       "      <td>741</td>\n",
       "      <td>25717</td>\n",
       "      <td>2001</td>\n",
       "      <td>Good Harbor</td>\n",
       "      <td>5:517|4:1787|3:2763|2:966|1:196|total:6229</td>\n",
       "      <td>6229</td>\n",
       "      <td>book</td>\n",
       "      <td>20150</td>\n",
       "      <td>1323437</td>\n",
       "    </tr>\n",
       "    <tr>\n",
       "      <th>2</th>\n",
       "      <td>2</td>\n",
       "      <td>268</td>\n",
       "      <td></td>\n",
       "      <td>7</td>\n",
       "      <td>7327624</td>\n",
       "      <td>1987</td>\n",
       "      <td></td>\n",
       "      <td>5:49|4:58|3:26|2:5|1:3|total:141</td>\n",
       "      <td>141</td>\n",
       "      <td>book</td>\n",
       "      <td>568</td>\n",
       "      <td>8948723</td>\n",
       "    </tr>\n",
       "    <tr>\n",
       "      <th>3</th>\n",
       "      <td>38</td>\n",
       "      <td>89252</td>\n",
       "      <td>7</td>\n",
       "      <td>3504</td>\n",
       "      <td>6066819</td>\n",
       "      <td>2009</td>\n",
       "      <td>Best Friends Forever</td>\n",
       "      <td>5:9152|4:16855|3:19507|2:6210|1:1549|total:53273</td>\n",
       "      <td>53273</td>\n",
       "      <td>book</td>\n",
       "      <td>185670</td>\n",
       "      <td>6243154</td>\n",
       "    </tr>\n",
       "    <tr>\n",
       "      <th>4</th>\n",
       "      <td>2</td>\n",
       "      <td>49</td>\n",
       "      <td></td>\n",
       "      <td>5</td>\n",
       "      <td>287140</td>\n",
       "      <td>1990</td>\n",
       "      <td>Runic Astrology: Starcraft and Timekeeping in ...</td>\n",
       "      <td>5:6|4:1|3:3|2:3|1:2|total:15</td>\n",
       "      <td>15</td>\n",
       "      <td>book</td>\n",
       "      <td>51</td>\n",
       "      <td>278577</td>\n",
       "    </tr>\n",
       "  </tbody>\n",
       "</table>\n",
       "</div>"
      ],
      "text/plain": [
       "   books_count  reviews_count original_publication_month  text_reviews_count  \\\n",
       "0            1              6                          8                   1   \n",
       "1           22          10162                                            741   \n",
       "2            2            268                                              7   \n",
       "3           38          89252                          7                3504   \n",
       "4            2             49                                              5   \n",
       "\n",
       "   best_book_id original_publication_year  \\\n",
       "0       5333265                      1984   \n",
       "1         25717                      2001   \n",
       "2       7327624                      1987   \n",
       "3       6066819                      2009   \n",
       "4        287140                      1990   \n",
       "\n",
       "                                      original_title  \\\n",
       "0                       W. C. Fields: A Life on Film   \n",
       "1                                        Good Harbor   \n",
       "2                                                      \n",
       "3                               Best Friends Forever   \n",
       "4  Runic Astrology: Starcraft and Timekeeping in ...   \n",
       "\n",
       "                                        rating_dist  ratings_count media_type  \\\n",
       "0                       5:1|4:1|3:1|2:0|1:0|total:3              3       book   \n",
       "1        5:517|4:1787|3:2763|2:966|1:196|total:6229           6229       book   \n",
       "2                  5:49|4:58|3:26|2:5|1:3|total:141            141       book   \n",
       "3  5:9152|4:16855|3:19507|2:6210|1:1549|total:53273          53273       book   \n",
       "4                      5:6|4:1|3:3|2:3|1:2|total:15             15       book   \n",
       "\n",
       "   ratings_sum  work_id  \n",
       "0           12  5400751  \n",
       "1        20150  1323437  \n",
       "2          568  8948723  \n",
       "3       185670  6243154  \n",
       "4           51   278577  "
      ]
     },
     "execution_count": 4,
     "metadata": {},
     "output_type": "execute_result"
    }
   ],
   "source": [
    "df_works.head()"
   ]
  },
  {
   "cell_type": "code",
   "execution_count": 5,
   "metadata": {},
   "outputs": [
    {
     "name": "stdout",
     "output_type": "stream",
     "text": [
      "<class 'pandas.core.frame.DataFrame'>\n",
      "RangeIndex: 1521962 entries, 0 to 1521961\n",
      "Data columns (total 12 columns):\n",
      " #   Column                      Non-Null Count    Dtype \n",
      "---  ------                      --------------    ----- \n",
      " 0   books_count                 1521962 non-null  int64 \n",
      " 1   reviews_count               1521962 non-null  int64 \n",
      " 2   original_publication_month  1521962 non-null  object\n",
      " 3   text_reviews_count          1521962 non-null  int64 \n",
      " 4   best_book_id                1521962 non-null  int64 \n",
      " 5   original_publication_year   1521962 non-null  object\n",
      " 6   original_title              1521962 non-null  object\n",
      " 7   rating_dist                 1521962 non-null  object\n",
      " 8   ratings_count               1521962 non-null  int64 \n",
      " 9   media_type                  1521962 non-null  object\n",
      " 10  ratings_sum                 1521962 non-null  int64 \n",
      " 11  work_id                     1521962 non-null  int64 \n",
      "dtypes: int64(7), object(5)\n",
      "memory usage: 139.3+ MB\n"
     ]
    }
   ],
   "source": [
    "df_works.info()"
   ]
  },
  {
   "cell_type": "code",
   "execution_count": 7,
   "metadata": {},
   "outputs": [
    {
     "data": {
      "text/plain": [
       "books_count                       628\n",
       "reviews_count                   27553\n",
       "original_publication_month         13\n",
       "text_reviews_count               4794\n",
       "best_book_id                  1521962\n",
       "original_publication_year        1264\n",
       "original_title                 611914\n",
       "rating_dist                    691714\n",
       "ratings_count                   19463\n",
       "media_type                          5\n",
       "ratings_sum                     37952\n",
       "work_id                       1521962\n",
       "dtype: int64"
      ]
     },
     "execution_count": 7,
     "metadata": {},
     "output_type": "execute_result"
    }
   ],
   "source": [
    "df_works.nunique()"
   ]
  },
  {
   "cell_type": "code",
   "execution_count": 8,
   "metadata": {},
   "outputs": [
    {
     "data": {
      "text/plain": [
       "array(['book', '', 'not a book', 'periodical', 'article'], dtype=object)"
      ]
     },
     "execution_count": 8,
     "metadata": {},
     "output_type": "execute_result"
    }
   ],
   "source": [
    "df_works.media_type.unique()"
   ]
  },
  {
   "cell_type": "code",
   "execution_count": 9,
   "metadata": {},
   "outputs": [
    {
     "data": {
      "text/plain": [
       "book          1102395\n",
       "               414096\n",
       "periodical       3472\n",
       "not a book       1668\n",
       "article           331\n",
       "Name: media_type, dtype: int64"
      ]
     },
     "execution_count": 9,
     "metadata": {},
     "output_type": "execute_result"
    }
   ],
   "source": [
    "df_works.media_type.value_counts()"
   ]
  },
  {
   "cell_type": "code",
   "execution_count": 18,
   "metadata": {},
   "outputs": [],
   "source": [
    "#keeping book and \"\". \n",
    "dr = ['periodical', 'not a book', 'article']\n",
    "dr_in = df_works[df_works.media_type.isin(dr)].index\n",
    "df_works.drop(dr_in,inplace=True)"
   ]
  },
  {
   "cell_type": "code",
   "execution_count": 19,
   "metadata": {},
   "outputs": [
    {
     "data": {
      "text/plain": [
       "array(['book', ''], dtype=object)"
      ]
     },
     "execution_count": 19,
     "metadata": {},
     "output_type": "execute_result"
    }
   ],
   "source": [
    "df_works.media_type.unique()"
   ]
  },
  {
   "cell_type": "code",
   "execution_count": 22,
   "metadata": {},
   "outputs": [],
   "source": [
    "df_works.work_id = df_works.work_id.astype(\"object\")"
   ]
  },
  {
   "cell_type": "code",
   "execution_count": 23,
   "metadata": {},
   "outputs": [
    {
     "name": "stdout",
     "output_type": "stream",
     "text": [
      "<class 'pandas.core.frame.DataFrame'>\n",
      "Int64Index: 1516491 entries, 0 to 1521961\n",
      "Data columns (total 12 columns):\n",
      " #   Column                      Non-Null Count    Dtype \n",
      "---  ------                      --------------    ----- \n",
      " 0   books_count                 1516491 non-null  int64 \n",
      " 1   reviews_count               1516491 non-null  int64 \n",
      " 2   original_publication_month  1516491 non-null  object\n",
      " 3   text_reviews_count          1516491 non-null  int64 \n",
      " 4   best_book_id                1516491 non-null  int64 \n",
      " 5   original_publication_year   1516491 non-null  object\n",
      " 6   original_title              1516491 non-null  object\n",
      " 7   rating_dist                 1516491 non-null  object\n",
      " 8   ratings_count               1516491 non-null  int64 \n",
      " 9   media_type                  1516491 non-null  object\n",
      " 10  ratings_sum                 1516491 non-null  int64 \n",
      " 11  work_id                     1516491 non-null  object\n",
      "dtypes: int64(6), object(6)\n",
      "memory usage: 150.4+ MB\n"
     ]
    }
   ],
   "source": [
    "df_works.info()"
   ]
  },
  {
   "cell_type": "code",
   "execution_count": 24,
   "metadata": {},
   "outputs": [],
   "source": [
    "df_works.best_book_id = df_works.best_book_id.astype(\"object\")"
   ]
  },
  {
   "cell_type": "code",
   "execution_count": 27,
   "metadata": {},
   "outputs": [],
   "source": [
    "df_works = df_works.replace(r'^\\s*$', np.nan, regex=True)"
   ]
  },
  {
   "cell_type": "code",
   "execution_count": 29,
   "metadata": {},
   "outputs": [
    {
     "name": "stdout",
     "output_type": "stream",
     "text": [
      "<class 'pandas.core.frame.DataFrame'>\n",
      "Int64Index: 1516491 entries, 0 to 1521961\n",
      "Data columns (total 12 columns):\n",
      " #   Column                      Non-Null Count    Dtype \n",
      "---  ------                      --------------    ----- \n",
      " 0   books_count                 1516491 non-null  int64 \n",
      " 1   reviews_count               1516491 non-null  int64 \n",
      " 2   original_publication_month  1031685 non-null  object\n",
      " 3   text_reviews_count          1516491 non-null  int64 \n",
      " 4   best_book_id                1516491 non-null  int64 \n",
      " 5   original_publication_year   1264760 non-null  object\n",
      " 6   original_title              644126 non-null   object\n",
      " 7   rating_dist                 1516491 non-null  object\n",
      " 8   ratings_count               1516491 non-null  int64 \n",
      " 9   media_type                  1102395 non-null  object\n",
      " 10  ratings_sum                 1516491 non-null  int64 \n",
      " 11  work_id                     1516491 non-null  int64 \n",
      "dtypes: int64(7), object(5)\n",
      "memory usage: 150.4+ MB\n"
     ]
    }
   ],
   "source": [
    "df_works.info()"
   ]
  },
  {
   "cell_type": "code",
   "execution_count": 30,
   "metadata": {},
   "outputs": [],
   "source": [
    "df_works.work_id = df_works.work_id.astype(\"object\")"
   ]
  },
  {
   "cell_type": "code",
   "execution_count": 31,
   "metadata": {},
   "outputs": [],
   "source": [
    "df_works.best_book_id = df_works.best_book_id.astype(\"object\")"
   ]
  },
  {
   "cell_type": "code",
   "execution_count": 32,
   "metadata": {},
   "outputs": [
    {
     "name": "stdout",
     "output_type": "stream",
     "text": [
      "<class 'pandas.core.frame.DataFrame'>\n",
      "Int64Index: 1516491 entries, 0 to 1521961\n",
      "Data columns (total 12 columns):\n",
      " #   Column                      Non-Null Count    Dtype \n",
      "---  ------                      --------------    ----- \n",
      " 0   books_count                 1516491 non-null  int64 \n",
      " 1   reviews_count               1516491 non-null  int64 \n",
      " 2   original_publication_month  1031685 non-null  object\n",
      " 3   text_reviews_count          1516491 non-null  int64 \n",
      " 4   best_book_id                1516491 non-null  object\n",
      " 5   original_publication_year   1264760 non-null  object\n",
      " 6   original_title              644126 non-null   object\n",
      " 7   rating_dist                 1516491 non-null  object\n",
      " 8   ratings_count               1516491 non-null  int64 \n",
      " 9   media_type                  1102395 non-null  object\n",
      " 10  ratings_sum                 1516491 non-null  int64 \n",
      " 11  work_id                     1516491 non-null  object\n",
      "dtypes: int64(5), object(7)\n",
      "memory usage: 150.4+ MB\n"
     ]
    }
   ],
   "source": [
    "df_works.info()"
   ]
  },
  {
   "cell_type": "code",
   "execution_count": 33,
   "metadata": {},
   "outputs": [
    {
     "data": {
      "text/plain": [
       "0                               5:1|4:1|3:1|2:0|1:0|total:3\n",
       "1                5:517|4:1787|3:2763|2:966|1:196|total:6229\n",
       "2                          5:49|4:58|3:26|2:5|1:3|total:141\n",
       "3          5:9152|4:16855|3:19507|2:6210|1:1549|total:53273\n",
       "4                              5:6|4:1|3:3|2:3|1:2|total:15\n",
       "                                 ...                       \n",
       "1521957                       5:13|4:5|3:3|2:1|1:0|total:22\n",
       "1521958                         5:0|4:0|3:0|2:2|1:0|total:2\n",
       "1521959                       5:5|4:10|3:4|2:0|1:0|total:19\n",
       "1521960                         5:1|4:2|3:2|2:1|1:0|total:6\n",
       "1521961                      5:12|4:18|3:8|2:2|1:0|total:40\n",
       "Name: rating_dist, Length: 1516491, dtype: object"
      ]
     },
     "execution_count": 33,
     "metadata": {},
     "output_type": "execute_result"
    }
   ],
   "source": [
    "df_works.rating_dist"
   ]
  },
  {
   "cell_type": "code",
   "execution_count": null,
   "metadata": {},
   "outputs": [],
   "source": []
  },
  {
   "cell_type": "code",
   "execution_count": 34,
   "metadata": {},
   "outputs": [
    {
     "data": {
      "text/plain": [
       "0              3\n",
       "1           6229\n",
       "2            141\n",
       "3          53273\n",
       "4             15\n",
       "           ...  \n",
       "1521957       22\n",
       "1521958        2\n",
       "1521959       19\n",
       "1521960        6\n",
       "1521961       40\n",
       "Name: ratings_count, Length: 1516491, dtype: int64"
      ]
     },
     "execution_count": 34,
     "metadata": {},
     "output_type": "execute_result"
    }
   ],
   "source": [
    "df_works.ratings_count"
   ]
  },
  {
   "cell_type": "code",
   "execution_count": 37,
   "metadata": {},
   "outputs": [
    {
     "data": {
      "text/html": [
       "<div>\n",
       "<style scoped>\n",
       "    .dataframe tbody tr th:only-of-type {\n",
       "        vertical-align: middle;\n",
       "    }\n",
       "\n",
       "    .dataframe tbody tr th {\n",
       "        vertical-align: top;\n",
       "    }\n",
       "\n",
       "    .dataframe thead th {\n",
       "        text-align: right;\n",
       "    }\n",
       "</style>\n",
       "<table border=\"1\" class=\"dataframe\">\n",
       "  <thead>\n",
       "    <tr style=\"text-align: right;\">\n",
       "      <th></th>\n",
       "      <th>books_count</th>\n",
       "      <th>reviews_count</th>\n",
       "      <th>original_publication_month</th>\n",
       "      <th>text_reviews_count</th>\n",
       "      <th>best_book_id</th>\n",
       "      <th>original_publication_year</th>\n",
       "      <th>original_title</th>\n",
       "      <th>rating_dist</th>\n",
       "      <th>ratings_count</th>\n",
       "      <th>media_type</th>\n",
       "      <th>ratings_sum</th>\n",
       "      <th>work_id</th>\n",
       "    </tr>\n",
       "  </thead>\n",
       "  <tbody>\n",
       "    <tr>\n",
       "      <th>0</th>\n",
       "      <td>1</td>\n",
       "      <td>6</td>\n",
       "      <td>8</td>\n",
       "      <td>1</td>\n",
       "      <td>5333265</td>\n",
       "      <td>1984</td>\n",
       "      <td>W. C. Fields: A Life on Film</td>\n",
       "      <td>5:1|4:1|3:1|2:0|1:0|total:3</td>\n",
       "      <td>3</td>\n",
       "      <td>book</td>\n",
       "      <td>12</td>\n",
       "      <td>5400751</td>\n",
       "    </tr>\n",
       "    <tr>\n",
       "      <th>1</th>\n",
       "      <td>22</td>\n",
       "      <td>10162</td>\n",
       "      <td>NaN</td>\n",
       "      <td>741</td>\n",
       "      <td>25717</td>\n",
       "      <td>2001</td>\n",
       "      <td>Good Harbor</td>\n",
       "      <td>5:517|4:1787|3:2763|2:966|1:196|total:6229</td>\n",
       "      <td>6229</td>\n",
       "      <td>book</td>\n",
       "      <td>20150</td>\n",
       "      <td>1323437</td>\n",
       "    </tr>\n",
       "    <tr>\n",
       "      <th>2</th>\n",
       "      <td>2</td>\n",
       "      <td>268</td>\n",
       "      <td>NaN</td>\n",
       "      <td>7</td>\n",
       "      <td>7327624</td>\n",
       "      <td>1987</td>\n",
       "      <td>NaN</td>\n",
       "      <td>5:49|4:58|3:26|2:5|1:3|total:141</td>\n",
       "      <td>141</td>\n",
       "      <td>book</td>\n",
       "      <td>568</td>\n",
       "      <td>8948723</td>\n",
       "    </tr>\n",
       "    <tr>\n",
       "      <th>3</th>\n",
       "      <td>38</td>\n",
       "      <td>89252</td>\n",
       "      <td>7</td>\n",
       "      <td>3504</td>\n",
       "      <td>6066819</td>\n",
       "      <td>2009</td>\n",
       "      <td>Best Friends Forever</td>\n",
       "      <td>5:9152|4:16855|3:19507|2:6210|1:1549|total:53273</td>\n",
       "      <td>53273</td>\n",
       "      <td>book</td>\n",
       "      <td>185670</td>\n",
       "      <td>6243154</td>\n",
       "    </tr>\n",
       "    <tr>\n",
       "      <th>4</th>\n",
       "      <td>2</td>\n",
       "      <td>49</td>\n",
       "      <td>NaN</td>\n",
       "      <td>5</td>\n",
       "      <td>287140</td>\n",
       "      <td>1990</td>\n",
       "      <td>Runic Astrology: Starcraft and Timekeeping in ...</td>\n",
       "      <td>5:6|4:1|3:3|2:3|1:2|total:15</td>\n",
       "      <td>15</td>\n",
       "      <td>book</td>\n",
       "      <td>51</td>\n",
       "      <td>278577</td>\n",
       "    </tr>\n",
       "    <tr>\n",
       "      <th>...</th>\n",
       "      <td>...</td>\n",
       "      <td>...</td>\n",
       "      <td>...</td>\n",
       "      <td>...</td>\n",
       "      <td>...</td>\n",
       "      <td>...</td>\n",
       "      <td>...</td>\n",
       "      <td>...</td>\n",
       "      <td>...</td>\n",
       "      <td>...</td>\n",
       "      <td>...</td>\n",
       "      <td>...</td>\n",
       "    </tr>\n",
       "    <tr>\n",
       "      <th>1521957</th>\n",
       "      <td>5</td>\n",
       "      <td>55</td>\n",
       "      <td>9</td>\n",
       "      <td>1</td>\n",
       "      <td>331839</td>\n",
       "      <td>2002</td>\n",
       "      <td>NaN</td>\n",
       "      <td>5:13|4:5|3:3|2:1|1:0|total:22</td>\n",
       "      <td>22</td>\n",
       "      <td>NaN</td>\n",
       "      <td>96</td>\n",
       "      <td>25313618</td>\n",
       "    </tr>\n",
       "    <tr>\n",
       "      <th>1521958</th>\n",
       "      <td>1</td>\n",
       "      <td>8</td>\n",
       "      <td>5</td>\n",
       "      <td>3</td>\n",
       "      <td>18069148</td>\n",
       "      <td>2013</td>\n",
       "      <td>NaN</td>\n",
       "      <td>5:0|4:0|3:0|2:2|1:0|total:2</td>\n",
       "      <td>2</td>\n",
       "      <td>book</td>\n",
       "      <td>4</td>\n",
       "      <td>25365816</td>\n",
       "    </tr>\n",
       "    <tr>\n",
       "      <th>1521959</th>\n",
       "      <td>4</td>\n",
       "      <td>34</td>\n",
       "      <td>7</td>\n",
       "      <td>3</td>\n",
       "      <td>3084038</td>\n",
       "      <td>1996</td>\n",
       "      <td>This Sceptred Isle:  1837-1901</td>\n",
       "      <td>5:5|4:10|3:4|2:0|1:0|total:19</td>\n",
       "      <td>19</td>\n",
       "      <td>book</td>\n",
       "      <td>77</td>\n",
       "      <td>3115103</td>\n",
       "    </tr>\n",
       "    <tr>\n",
       "      <th>1521960</th>\n",
       "      <td>4</td>\n",
       "      <td>709</td>\n",
       "      <td>8</td>\n",
       "      <td>2</td>\n",
       "      <td>26168430</td>\n",
       "      <td>2015</td>\n",
       "      <td>NaN</td>\n",
       "      <td>5:1|4:2|3:2|2:1|1:0|total:6</td>\n",
       "      <td>6</td>\n",
       "      <td>book</td>\n",
       "      <td>21</td>\n",
       "      <td>46130263</td>\n",
       "    </tr>\n",
       "    <tr>\n",
       "      <th>1521961</th>\n",
       "      <td>5</td>\n",
       "      <td>110</td>\n",
       "      <td>8</td>\n",
       "      <td>6</td>\n",
       "      <td>2342551</td>\n",
       "      <td>1996</td>\n",
       "      <td>The Children's Classic Poetry Collection</td>\n",
       "      <td>5:12|4:18|3:8|2:2|1:0|total:40</td>\n",
       "      <td>40</td>\n",
       "      <td>book</td>\n",
       "      <td>160</td>\n",
       "      <td>2349247</td>\n",
       "    </tr>\n",
       "  </tbody>\n",
       "</table>\n",
       "<p>1516491 rows × 12 columns</p>\n",
       "</div>"
      ],
      "text/plain": [
       "         books_count  reviews_count original_publication_month  \\\n",
       "0                  1              6                          8   \n",
       "1                 22          10162                        NaN   \n",
       "2                  2            268                        NaN   \n",
       "3                 38          89252                          7   \n",
       "4                  2             49                        NaN   \n",
       "...              ...            ...                        ...   \n",
       "1521957            5             55                          9   \n",
       "1521958            1              8                          5   \n",
       "1521959            4             34                          7   \n",
       "1521960            4            709                          8   \n",
       "1521961            5            110                          8   \n",
       "\n",
       "         text_reviews_count best_book_id original_publication_year  \\\n",
       "0                         1      5333265                      1984   \n",
       "1                       741        25717                      2001   \n",
       "2                         7      7327624                      1987   \n",
       "3                      3504      6066819                      2009   \n",
       "4                         5       287140                      1990   \n",
       "...                     ...          ...                       ...   \n",
       "1521957                   1       331839                      2002   \n",
       "1521958                   3     18069148                      2013   \n",
       "1521959                   3      3084038                      1996   \n",
       "1521960                   2     26168430                      2015   \n",
       "1521961                   6      2342551                      1996   \n",
       "\n",
       "                                            original_title  \\\n",
       "0                             W. C. Fields: A Life on Film   \n",
       "1                                              Good Harbor   \n",
       "2                                                      NaN   \n",
       "3                                     Best Friends Forever   \n",
       "4        Runic Astrology: Starcraft and Timekeeping in ...   \n",
       "...                                                    ...   \n",
       "1521957                                                NaN   \n",
       "1521958                                                NaN   \n",
       "1521959                     This Sceptred Isle:  1837-1901   \n",
       "1521960                                                NaN   \n",
       "1521961           The Children's Classic Poetry Collection   \n",
       "\n",
       "                                              rating_dist  ratings_count  \\\n",
       "0                             5:1|4:1|3:1|2:0|1:0|total:3              3   \n",
       "1              5:517|4:1787|3:2763|2:966|1:196|total:6229           6229   \n",
       "2                        5:49|4:58|3:26|2:5|1:3|total:141            141   \n",
       "3        5:9152|4:16855|3:19507|2:6210|1:1549|total:53273          53273   \n",
       "4                            5:6|4:1|3:3|2:3|1:2|total:15             15   \n",
       "...                                                   ...            ...   \n",
       "1521957                     5:13|4:5|3:3|2:1|1:0|total:22             22   \n",
       "1521958                       5:0|4:0|3:0|2:2|1:0|total:2              2   \n",
       "1521959                     5:5|4:10|3:4|2:0|1:0|total:19             19   \n",
       "1521960                       5:1|4:2|3:2|2:1|1:0|total:6              6   \n",
       "1521961                    5:12|4:18|3:8|2:2|1:0|total:40             40   \n",
       "\n",
       "        media_type  ratings_sum   work_id  \n",
       "0             book           12   5400751  \n",
       "1             book        20150   1323437  \n",
       "2             book          568   8948723  \n",
       "3             book       185670   6243154  \n",
       "4             book           51    278577  \n",
       "...            ...          ...       ...  \n",
       "1521957        NaN           96  25313618  \n",
       "1521958       book            4  25365816  \n",
       "1521959       book           77   3115103  \n",
       "1521960       book           21  46130263  \n",
       "1521961       book          160   2349247  \n",
       "\n",
       "[1516491 rows x 12 columns]"
      ]
     },
     "execution_count": 37,
     "metadata": {},
     "output_type": "execute_result"
    }
   ],
   "source": [
    "#We have the total. Just need to extract dist. \n",
    "#df_works.explode('rating_dist')"
   ]
  },
  {
   "cell_type": "code",
   "execution_count": 54,
   "metadata": {},
   "outputs": [
    {
     "data": {
      "text/plain": [
       "2311821     1\n",
       "2762389     1\n",
       "6956682     1\n",
       "1451900     1\n",
       "21906749    1\n",
       "           ..\n",
       "36011411    1\n",
       "26525887    1\n",
       "41205954    1\n",
       "13942979    1\n",
       "48854202    1\n",
       "Name: work_id, Length: 1516491, dtype: int64"
      ]
     },
     "execution_count": 54,
     "metadata": {},
     "output_type": "execute_result"
    }
   ],
   "source": [
    "df_works.work_id.value_counts()"
   ]
  },
  {
   "cell_type": "code",
   "execution_count": 60,
   "metadata": {},
   "outputs": [
    {
     "data": {
      "text/plain": [
       "18037"
      ]
     },
     "execution_count": 60,
     "metadata": {},
     "output_type": "execute_result"
    }
   ],
   "source": [
    "df_works.original_title.value_counts()[df_works.original_title.value_counts()>1].count()"
   ]
  },
  {
   "cell_type": "code",
   "execution_count": null,
   "metadata": {},
   "outputs": [],
   "source": []
  },
  {
   "cell_type": "code",
   "execution_count": 82,
   "metadata": {},
   "outputs": [],
   "source": [
    "cols_nums = ['books_count','reviews_count','original_publication_month','text_reviews_count','ratings_count','original_publication_year','ratings_sum']"
   ]
  },
  {
   "cell_type": "code",
   "execution_count": 88,
   "metadata": {},
   "outputs": [
    {
     "data": {
      "text/plain": [
       "'books_count'"
      ]
     },
     "execution_count": 88,
     "metadata": {},
     "output_type": "execute_result"
    }
   ],
   "source": [
    "cols_nums[0]"
   ]
  },
  {
   "cell_type": "code",
   "execution_count": 85,
   "metadata": {},
   "outputs": [
    {
     "data": {
      "text/plain": [
       "count    1.516491e+06\n",
       "mean     4.557627e+00\n",
       "std      1.710136e+01\n",
       "min      1.000000e+00\n",
       "25%      1.000000e+00\n",
       "50%      2.000000e+00\n",
       "75%      4.000000e+00\n",
       "max      3.676000e+03\n",
       "Name: books_count, dtype: float64"
      ]
     },
     "execution_count": 85,
     "metadata": {},
     "output_type": "execute_result"
    }
   ],
   "source": [
    "df_works[cols_nums[0]].describe()"
   ]
  },
  {
   "cell_type": "code",
   "execution_count": 79,
   "metadata": {},
   "outputs": [
    {
     "data": {
      "text/plain": [
       "<matplotlib.axes._subplots.AxesSubplot at 0x1738b79a0>"
      ]
     },
     "execution_count": 79,
     "metadata": {},
     "output_type": "execute_result"
    },
    {
     "data": {
      "image/png": "[encoded data removed]",
      "text/plain": [
       "<Figure size 432x288 with 1 Axes>"
      ]
     },
     "metadata": {
      "needs_background": "light"
     },
     "output_type": "display_data"
    }
   ],
   "source": [
    "df_works.books_count[df_works.books_count<60].hist(bins=20)"
   ]
  },
  {
   "cell_type": "code",
   "execution_count": 80,
   "metadata": {},
   "outputs": [
    {
     "data": {
      "text/plain": [
       "{'whiskers': [<matplotlib.lines.Line2D at 0x19159ad00>,\n",
       "  <matplotlib.lines.Line2D at 0x1915ff130>],\n",
       " 'caps': [<matplotlib.lines.Line2D at 0x1916375b0>,\n",
       "  <matplotlib.lines.Line2D at 0x19167eb50>],\n",
       " 'boxes': [<matplotlib.lines.Line2D at 0x1915709a0>],\n",
       " 'medians': [<matplotlib.lines.Line2D at 0x1916c6e20>],\n",
       " 'fliers': [<matplotlib.lines.Line2D at 0x1916fcd00>],\n",
       " 'means': []}"
      ]
     },
     "execution_count": 80,
     "metadata": {},
     "output_type": "execute_result"
    },
    {
     "data": {
      "image/png": "[encoded data removed]",
      "text/plain": [
       "<Figure size 432x288 with 1 Axes>"
      ]
     },
     "metadata": {
      "needs_background": "light"
     },
     "output_type": "display_data"
    }
   ],
   "source": [
    "plt.boxplot(df_works.books_count)"
   ]
  },
  {
   "cell_type": "code",
   "execution_count": 89,
   "metadata": {},
   "outputs": [
    {
     "data": {
      "text/plain": [
       "'reviews_count'"
      ]
     },
     "execution_count": 89,
     "metadata": {},
     "output_type": "execute_result"
    }
   ],
   "source": [
    "cols_nums[1]"
   ]
  },
  {
   "cell_type": "code",
   "execution_count": 90,
   "metadata": {},
   "outputs": [
    {
     "data": {
      "text/plain": [
       "count    1.516491e+06\n",
       "mean     1.229762e+03\n",
       "std      2.074381e+04\n",
       "min     -6.069000e+03\n",
       "25%      1.800000e+01\n",
       "50%      7.600000e+01\n",
       "75%      3.280000e+02\n",
       "max      6.057595e+06\n",
       "Name: reviews_count, dtype: float64"
      ]
     },
     "execution_count": 90,
     "metadata": {},
     "output_type": "execute_result"
    }
   ],
   "source": [
    "df_works[cols_nums[1]].describe()"
   ]
  },
  {
   "cell_type": "code",
   "execution_count": 91,
   "metadata": {},
   "outputs": [
    {
     "data": {
      "text/plain": [
       "{'whiskers': [<matplotlib.lines.Line2D at 0x19e39a910>,\n",
       "  <matplotlib.lines.Line2D at 0x1918c4400>],\n",
       " 'caps': [<matplotlib.lines.Line2D at 0x19e6bb670>,\n",
       "  <matplotlib.lines.Line2D at 0x19e68d3d0>],\n",
       " 'boxes': [<matplotlib.lines.Line2D at 0x17362be20>],\n",
       " 'medians': [<matplotlib.lines.Line2D at 0x19e1a73d0>],\n",
       " 'fliers': [<matplotlib.lines.Line2D at 0x19e1f2670>],\n",
       " 'means': []}"
      ]
     },
     "execution_count": 91,
     "metadata": {},
     "output_type": "execute_result"
    },
    {
     "data": {
      "image/png": "[encoded data removed]",
      "text/plain": [
       "<Figure size 432x288 with 1 Axes>"
      ]
     },
     "metadata": {
      "needs_background": "light"
     },
     "output_type": "display_data"
    }
   ],
   "source": [
    "plt.boxplot(df_works[cols_nums[1]])"
   ]
  },
  {
   "cell_type": "code",
   "execution_count": 95,
   "metadata": {},
   "outputs": [
    {
     "data": {
      "text/plain": [
       "<matplotlib.axes._subplots.AxesSubplot at 0x1a81dbd60>"
      ]
     },
     "execution_count": 95,
     "metadata": {},
     "output_type": "execute_result"
    },
    {
     "data": {
      "image/png": "[encoded data removed]",
      "text/plain": [
       "<Figure size 432x288 with 1 Axes>"
      ]
     },
     "metadata": {
      "needs_background": "light"
     },
     "output_type": "display_data"
    }
   ],
   "source": [
    "df_works[cols_nums[1]][df_works[cols_nums[1]]<1000].hist(bins=20)"
   ]
  },
  {
   "cell_type": "code",
   "execution_count": 97,
   "metadata": {},
   "outputs": [
    {
     "data": {
      "text/plain": [
       "8448       1306\n",
       "120239        1\n",
       "187372        1\n",
       "224794     6069\n",
       "233901     3479\n",
       "284931      718\n",
       "326708        7\n",
       "445438        1\n",
       "498574        1\n",
       "517844        9\n",
       "523844        6\n",
       "540719        1\n",
       "553571        1\n",
       "602015        1\n",
       "609694        1\n",
       "610915        4\n",
       "626724        9\n",
       "652872        2\n",
       "682178        6\n",
       "724814       14\n",
       "732048     3494\n",
       "751994        1\n",
       "762975        1\n",
       "767167        1\n",
       "772531        1\n",
       "865572       14\n",
       "875723        1\n",
       "887171       50\n",
       "893702       55\n",
       "901976        1\n",
       "920405       55\n",
       "938766        1\n",
       "958733        6\n",
       "984466        1\n",
       "1016545       1\n",
       "1025883      23\n",
       "1238945       5\n",
       "1252374      10\n",
       "1265542       6\n",
       "1282890       1\n",
       "1317893       1\n",
       "1374686       4\n",
       "1471637       1\n",
       "1479122       2\n",
       "1489754       1\n",
       "1497618       1\n",
       "Name: reviews_count, dtype: int64"
      ]
     },
     "execution_count": 97,
     "metadata": {},
     "output_type": "execute_result"
    }
   ],
   "source": [
    "abs(df_works_nums[cols_nums[1]][df_works_nums[cols_nums[1]]<0])"
   ]
  },
  {
   "cell_type": "code",
   "execution_count": 103,
   "metadata": {},
   "outputs": [],
   "source": [
    "df_works.reviews_count = df_works.reviews_count.abs()"
   ]
  },
  {
   "cell_type": "code",
   "execution_count": 104,
   "metadata": {},
   "outputs": [
    {
     "data": {
      "text/plain": [
       "count    1.516491e+06\n",
       "mean     1.229782e+03\n",
       "std      2.074381e+04\n",
       "min      0.000000e+00\n",
       "25%      1.800000e+01\n",
       "50%      7.600000e+01\n",
       "75%      3.280000e+02\n",
       "max      6.057595e+06\n",
       "Name: reviews_count, dtype: float64"
      ]
     },
     "execution_count": 104,
     "metadata": {},
     "output_type": "execute_result"
    }
   ],
   "source": [
    "df_works[cols_nums[1]].describe()"
   ]
  },
  {
   "cell_type": "code",
   "execution_count": 105,
   "metadata": {},
   "outputs": [
    {
     "data": {
      "text/plain": [
       "{'whiskers': [<matplotlib.lines.Line2D at 0x1abd9cbb0>,\n",
       "  <matplotlib.lines.Line2D at 0x1abdcbe50>],\n",
       " 'caps': [<matplotlib.lines.Line2D at 0x1abdf7bb0>,\n",
       "  <matplotlib.lines.Line2D at 0x1abe24e50>],\n",
       " 'boxes': [<matplotlib.lines.Line2D at 0x1abd6fe50>],\n",
       " 'medians': [<matplotlib.lines.Line2D at 0x1abe53bb0>],\n",
       " 'fliers': [<matplotlib.lines.Line2D at 0x1abe7f3d0>],\n",
       " 'means': []}"
      ]
     },
     "execution_count": 105,
     "metadata": {},
     "output_type": "execute_result"
    },
    {
     "data": {
      "image/png": "[encoded data removed]",
      "text/plain": [
       "<Figure size 432x288 with 1 Axes>"
      ]
     },
     "metadata": {
      "needs_background": "light"
     },
     "output_type": "display_data"
    }
   ],
   "source": [
    "plt.boxplot(df_works[cols_nums[1]])"
   ]
  },
  {
   "cell_type": "code",
   "execution_count": 106,
   "metadata": {},
   "outputs": [
    {
     "data": {
      "text/plain": [
       "<matplotlib.axes._subplots.AxesSubplot at 0x1ac1fbbb0>"
      ]
     },
     "execution_count": 106,
     "metadata": {},
     "output_type": "execute_result"
    },
    {
     "data": {
      "image/png": "[encoded data removed]",
      "text/plain": [
       "<Figure size 432x288 with 1 Axes>"
      ]
     },
     "metadata": {
      "needs_background": "light"
     },
     "output_type": "display_data"
    }
   ],
   "source": [
    "df_works[cols_nums[1]][df_works[cols_nums[1]]<1000].hist(bins=20)"
   ]
  },
  {
   "cell_type": "code",
   "execution_count": 107,
   "metadata": {},
   "outputs": [
    {
     "data": {
      "text/plain": [
       "'original_publication_month'"
      ]
     },
     "execution_count": 107,
     "metadata": {},
     "output_type": "execute_result"
    }
   ],
   "source": [
    "cols_nums[2]"
   ]
  },
  {
   "cell_type": "code",
   "execution_count": 108,
   "metadata": {},
   "outputs": [
    {
     "data": {
      "text/plain": [
       "count     1031685\n",
       "unique         12\n",
       "top             1\n",
       "freq       222468\n",
       "Name: original_publication_month, dtype: object"
      ]
     },
     "execution_count": 108,
     "metadata": {},
     "output_type": "execute_result"
    }
   ],
   "source": [
    "df_works[cols_nums[2]].describe()"
   ]
  },
  {
   "cell_type": "code",
   "execution_count": 110,
   "metadata": {},
   "outputs": [
    {
     "data": {
      "text/plain": [
       "<matplotlib.axes._subplots.AxesSubplot at 0x1ad1fb670>"
      ]
     },
     "execution_count": 110,
     "metadata": {},
     "output_type": "execute_result"
    },
    {
     "data": {
      "image/png": "[encoded data removed]",
      "text/plain": [
       "<Figure size 432x288 with 1 Axes>"
      ]
     },
     "metadata": {
      "needs_background": "light"
     },
     "output_type": "display_data"
    }
   ],
   "source": [
    "df_works[cols_nums[2]].hist(bins=20)"
   ]
  },
  {
   "cell_type": "code",
   "execution_count": 111,
   "metadata": {},
   "outputs": [
    {
     "data": {
      "text/plain": [
       "'text_reviews_count'"
      ]
     },
     "execution_count": 111,
     "metadata": {},
     "output_type": "execute_result"
    }
   ],
   "source": [
    "cols_nums[3]"
   ]
  },
  {
   "cell_type": "code",
   "execution_count": 112,
   "metadata": {},
   "outputs": [
    {
     "data": {
      "text/plain": [
       "count    1.516491e+06\n",
       "mean     4.456668e+01\n",
       "std      5.680537e+02\n",
       "min      0.000000e+00\n",
       "25%      2.000000e+00\n",
       "50%      5.000000e+00\n",
       "75%      1.600000e+01\n",
       "max      1.565750e+05\n",
       "Name: text_reviews_count, dtype: float64"
      ]
     },
     "execution_count": 112,
     "metadata": {},
     "output_type": "execute_result"
    }
   ],
   "source": [
    "df_works[cols_nums[3]].describe()"
   ]
  },
  {
   "cell_type": "code",
   "execution_count": 113,
   "metadata": {},
   "outputs": [
    {
     "data": {
      "text/plain": [
       "{'whiskers': [<matplotlib.lines.Line2D at 0x1adfb0670>,\n",
       "  <matplotlib.lines.Line2D at 0x1917ee6d0>],\n",
       " 'caps': [<matplotlib.lines.Line2D at 0x190a32370>,\n",
       "  <matplotlib.lines.Line2D at 0x190eadfa0>],\n",
       " 'boxes': [<matplotlib.lines.Line2D at 0x1adf82670>],\n",
       " 'medians': [<matplotlib.lines.Line2D at 0x191552760>],\n",
       " 'fliers': [<matplotlib.lines.Line2D at 0x1a074bcd0>],\n",
       " 'means': []}"
      ]
     },
     "execution_count": 113,
     "metadata": {},
     "output_type": "execute_result"
    },
    {
     "data": {
      "image/png": "[encoded data removed]",
      "text/plain": [
       "<Figure size 432x288 with 1 Axes>"
      ]
     },
     "metadata": {
      "needs_background": "light"
     },
     "output_type": "display_data"
    }
   ],
   "source": [
    "plt.boxplot(df_works[cols_nums[3]])"
   ]
  },
  {
   "cell_type": "code",
   "execution_count": 120,
   "metadata": {},
   "outputs": [
    {
     "data": {
      "text/plain": [
       "<matplotlib.axes._subplots.AxesSubplot at 0x1b6083670>"
      ]
     },
     "execution_count": 120,
     "metadata": {},
     "output_type": "execute_result"
    },
    {
     "data": {
      "image/png": "[encoded data removed]",
      "text/plain": [
       "<Figure size 432x288 with 1 Axes>"
      ]
     },
     "metadata": {
      "needs_background": "light"
     },
     "output_type": "display_data"
    }
   ],
   "source": [
    "df_works[cols_nums[3]][df_works[cols_nums[3]]<100].hist(bins=20)"
   ]
  },
  {
   "cell_type": "code",
   "execution_count": null,
   "metadata": {},
   "outputs": [],
   "source": []
  },
  {
   "cell_type": "code",
   "execution_count": 121,
   "metadata": {},
   "outputs": [
    {
     "data": {
      "text/plain": [
       "'ratings_count'"
      ]
     },
     "execution_count": 121,
     "metadata": {},
     "output_type": "execute_result"
    }
   ],
   "source": [
    "cols_nums[4]"
   ]
  },
  {
   "cell_type": "code",
   "execution_count": 122,
   "metadata": {},
   "outputs": [
    {
     "data": {
      "text/plain": [
       "count    1.516491e+06\n",
       "mean     6.442702e+02\n",
       "std      1.480997e+04\n",
       "min      0.000000e+00\n",
       "25%      7.000000e+00\n",
       "50%      2.600000e+01\n",
       "75%      1.100000e+02\n",
       "max      5.066596e+06\n",
       "Name: ratings_count, dtype: float64"
      ]
     },
     "execution_count": 122,
     "metadata": {},
     "output_type": "execute_result"
    }
   ],
   "source": [
    "df_works[cols_nums[4]].describe()"
   ]
  },
  {
   "cell_type": "code",
   "execution_count": 123,
   "metadata": {},
   "outputs": [
    {
     "data": {
      "text/plain": [
       "{'whiskers': [<matplotlib.lines.Line2D at 0x1b6d30130>,\n",
       "  <matplotlib.lines.Line2D at 0x1b6d5d130>],\n",
       " 'caps': [<matplotlib.lines.Line2D at 0x1b6d8a130>,\n",
       "  <matplotlib.lines.Line2D at 0x1b6db8130>],\n",
       " 'boxes': [<matplotlib.lines.Line2D at 0x1b6d04130>],\n",
       " 'medians': [<matplotlib.lines.Line2D at 0x1b6de6130>],\n",
       " 'fliers': [<matplotlib.lines.Line2D at 0x1b6e03910>],\n",
       " 'means': []}"
      ]
     },
     "execution_count": 123,
     "metadata": {},
     "output_type": "execute_result"
    },
    {
     "data": {
      "image/png": "[encoded data removed]",
      "text/plain": [
       "<Figure size 432x288 with 1 Axes>"
      ]
     },
     "metadata": {
      "needs_background": "light"
     },
     "output_type": "display_data"
    }
   ],
   "source": [
    "plt.boxplot(df_works[cols_nums[4]])"
   ]
  },
  {
   "cell_type": "code",
   "execution_count": 124,
   "metadata": {},
   "outputs": [
    {
     "data": {
      "text/plain": [
       "<matplotlib.axes._subplots.AxesSubplot at 0x1b70f8910>"
      ]
     },
     "execution_count": 124,
     "metadata": {},
     "output_type": "execute_result"
    },
    {
     "data": {
      "image/png": "[encoded data removed]",
      "text/plain": [
       "<Figure size 432x288 with 1 Axes>"
      ]
     },
     "metadata": {
      "needs_background": "light"
     },
     "output_type": "display_data"
    }
   ],
   "source": [
    "df_works[cols_nums[4]][df_works[cols_nums[4]]<1000].hist(bins=20)"
   ]
  },
  {
   "cell_type": "code",
   "execution_count": null,
   "metadata": {},
   "outputs": [],
   "source": []
  },
  {
   "cell_type": "code",
   "execution_count": 125,
   "metadata": {},
   "outputs": [
    {
     "data": {
      "text/plain": [
       "'original_publication_year'"
      ]
     },
     "execution_count": 125,
     "metadata": {},
     "output_type": "execute_result"
    }
   ],
   "source": [
    "cols_nums[5]"
   ]
  },
  {
   "cell_type": "code",
   "execution_count": 126,
   "metadata": {},
   "outputs": [
    {
     "data": {
      "text/plain": [
       "count     1264760\n",
       "unique       1261\n",
       "top          2014\n",
       "freq       124654\n",
       "Name: original_publication_year, dtype: object"
      ]
     },
     "execution_count": 126,
     "metadata": {},
     "output_type": "execute_result"
    }
   ],
   "source": [
    "df_works[cols_nums[5]].describe()"
   ]
  },
  {
   "cell_type": "code",
   "execution_count": 138,
   "metadata": {},
   "outputs": [
    {
     "data": {
      "text/plain": [
       "0          1984\n",
       "1          2001\n",
       "2          1987\n",
       "3          2009\n",
       "4          1990\n",
       "           ... \n",
       "1521957    2002\n",
       "1521958    2013\n",
       "1521959    1996\n",
       "1521960    2015\n",
       "1521961    1996\n",
       "Name: original_publication_year, Length: 1516491, dtype: object"
      ]
     },
     "execution_count": 138,
     "metadata": {},
     "output_type": "execute_result"
    }
   ],
   "source": [
    "df_works[cols_nums[5]]"
   ]
  },
  {
   "cell_type": "code",
   "execution_count": 129,
   "metadata": {},
   "outputs": [
    {
     "data": {
      "text/plain": [
       "<matplotlib.axes._subplots.AxesSubplot at 0x1ccfe4250>"
      ]
     },
     "execution_count": 129,
     "metadata": {},
     "output_type": "execute_result"
    },
    {
     "data": {
      "image/png": "[encoded data removed]",
      "text/plain": [
       "<Figure size 432x288 with 1 Axes>"
      ]
     },
     "metadata": {
      "needs_background": "light"
     },
     "output_type": "display_data"
    }
   ],
   "source": [
    "df_works[cols_nums[5]].value_counts().hist(bins=20)"
   ]
  },
  {
   "cell_type": "code",
   "execution_count": null,
   "metadata": {},
   "outputs": [],
   "source": []
  },
  {
   "cell_type": "code",
   "execution_count": 139,
   "metadata": {},
   "outputs": [
    {
     "data": {
      "text/plain": [
       "'ratings_sum'"
      ]
     },
     "execution_count": 139,
     "metadata": {},
     "output_type": "execute_result"
    }
   ],
   "source": [
    "cols_nums[6]"
   ]
  },
  {
   "cell_type": "code",
   "execution_count": 140,
   "metadata": {},
   "outputs": [
    {
     "data": {
      "text/plain": [
       "count    1.516491e+06\n",
       "mean     2.575164e+03\n",
       "std      6.099868e+04\n",
       "min      0.000000e+00\n",
       "25%      2.600000e+01\n",
       "50%      1.010000e+02\n",
       "75%      4.230000e+02\n",
       "max      2.211059e+07\n",
       "Name: ratings_sum, dtype: float64"
      ]
     },
     "execution_count": 140,
     "metadata": {},
     "output_type": "execute_result"
    }
   ],
   "source": [
    "df_works[cols_nums[6]].describe()"
   ]
  },
  {
   "cell_type": "code",
   "execution_count": 141,
   "metadata": {},
   "outputs": [
    {
     "data": {
      "text/plain": [
       "{'whiskers': [<matplotlib.lines.Line2D at 0x3c06818b0>,\n",
       "  <matplotlib.lines.Line2D at 0x3c0681c10>],\n",
       " 'caps': [<matplotlib.lines.Line2D at 0x3c06c8310>,\n",
       "  <matplotlib.lines.Line2D at 0x3c075c0a0>],\n",
       " 'boxes': [<matplotlib.lines.Line2D at 0x3c0681520>],\n",
       " 'medians': [<matplotlib.lines.Line2D at 0x3c075ccd0>],\n",
       " 'fliers': [<matplotlib.lines.Line2D at 0x3c075ce50>],\n",
       " 'means': []}"
      ]
     },
     "execution_count": 141,
     "metadata": {},
     "output_type": "execute_result"
    },
    {
     "data": {
      "image/png": "[encoded data removed]",
      "text/plain": [
       "<Figure size 432x288 with 1 Axes>"
      ]
     },
     "metadata": {
      "needs_background": "light"
     },
     "output_type": "display_data"
    }
   ],
   "source": [
    "plt.boxplot(df_works[cols_nums[6]])"
   ]
  },
  {
   "cell_type": "code",
   "execution_count": 143,
   "metadata": {},
   "outputs": [
    {
     "data": {
      "text/plain": [
       "<matplotlib.axes._subplots.AxesSubplot at 0x3c058a8b0>"
      ]
     },
     "execution_count": 143,
     "metadata": {},
     "output_type": "execute_result"
    },
    {
     "data": {
      "image/png": "[encoded data removed]",
      "text/plain": [
       "<Figure size 432x288 with 1 Axes>"
      ]
     },
     "metadata": {
      "needs_background": "light"
     },
     "output_type": "display_data"
    }
   ],
   "source": [
    "df_works[cols_nums[6]][df_works[cols_nums[6]]<1000].hist(bins=20)"
   ]
  },
  {
   "cell_type": "code",
   "execution_count": null,
   "metadata": {},
   "outputs": [],
   "source": []
  },
  {
   "cell_type": "code",
   "execution_count": null,
   "metadata": {},
   "outputs": [],
   "source": []
  },
  {
   "cell_type": "markdown",
   "metadata": {},
   "source": [
    "### On to series list "
   ]
  },
  {
   "cell_type": "code",
   "execution_count": 145,
   "metadata": {},
   "outputs": [],
   "source": [
    "df_series = pd.read_pickle('Series_wrangled.pkl')"
   ]
  },
  {
   "cell_type": "code",
   "execution_count": 146,
   "metadata": {},
   "outputs": [
    {
     "data": {
      "text/html": [
       "<div>\n",
       "<style scoped>\n",
       "    .dataframe tbody tr th:only-of-type {\n",
       "        vertical-align: middle;\n",
       "    }\n",
       "\n",
       "    .dataframe tbody tr th {\n",
       "        vertical-align: top;\n",
       "    }\n",
       "\n",
       "    .dataframe thead th {\n",
       "        text-align: right;\n",
       "    }\n",
       "</style>\n",
       "<table border=\"1\" class=\"dataframe\">\n",
       "  <thead>\n",
       "    <tr style=\"text-align: right;\">\n",
       "      <th></th>\n",
       "      <th>numbered</th>\n",
       "      <th>series_works_count</th>\n",
       "      <th>series_id</th>\n",
       "      <th>primary_work_count</th>\n",
       "    </tr>\n",
       "  </thead>\n",
       "  <tbody>\n",
       "    <tr>\n",
       "      <th>0</th>\n",
       "      <td>true</td>\n",
       "      <td>9</td>\n",
       "      <td>189911</td>\n",
       "      <td>3</td>\n",
       "    </tr>\n",
       "    <tr>\n",
       "      <th>1</th>\n",
       "      <td>true</td>\n",
       "      <td>14</td>\n",
       "      <td>151854</td>\n",
       "      <td>12</td>\n",
       "    </tr>\n",
       "    <tr>\n",
       "      <th>2</th>\n",
       "      <td>true</td>\n",
       "      <td>15</td>\n",
       "      <td>169353</td>\n",
       "      <td>15</td>\n",
       "    </tr>\n",
       "    <tr>\n",
       "      <th>3</th>\n",
       "      <td>true</td>\n",
       "      <td>3</td>\n",
       "      <td>1052227</td>\n",
       "      <td>3</td>\n",
       "    </tr>\n",
       "    <tr>\n",
       "      <th>4</th>\n",
       "      <td>false</td>\n",
       "      <td>3</td>\n",
       "      <td>1070125</td>\n",
       "      <td>3</td>\n",
       "    </tr>\n",
       "  </tbody>\n",
       "</table>\n",
       "</div>"
      ],
      "text/plain": [
       "  numbered  series_works_count  series_id  primary_work_count\n",
       "0     true                   9     189911                   3\n",
       "1     true                  14     151854                  12\n",
       "2     true                  15     169353                  15\n",
       "3     true                   3    1052227                   3\n",
       "4    false                   3    1070125                   3"
      ]
     },
     "execution_count": 146,
     "metadata": {},
     "output_type": "execute_result"
    }
   ],
   "source": [
    "df_series.head()"
   ]
  },
  {
   "cell_type": "code",
   "execution_count": 148,
   "metadata": {},
   "outputs": [
    {
     "data": {
      "text/plain": [
       "<matplotlib.axes._subplots.AxesSubplot at 0x3c0c2b640>"
      ]
     },
     "execution_count": 148,
     "metadata": {},
     "output_type": "execute_result"
    },
    {
     "data": {
      "image/png": "[encoded data removed]",
      "text/plain": [
       "<Figure size 432x288 with 1 Axes>"
      ]
     },
     "metadata": {
      "needs_background": "light"
     },
     "output_type": "display_data"
    }
   ],
   "source": [
    "df_series.numbered.hist()"
   ]
  },
  {
   "cell_type": "code",
   "execution_count": 150,
   "metadata": {},
   "outputs": [
    {
     "data": {
      "text/plain": [
       "count    400390.000000\n",
       "mean         21.588149\n",
       "std          65.103100\n",
       "min         -14.000000\n",
       "25%           3.000000\n",
       "50%           6.000000\n",
       "75%          14.000000\n",
       "max         893.000000\n",
       "Name: series_works_count, dtype: float64"
      ]
     },
     "execution_count": 150,
     "metadata": {},
     "output_type": "execute_result"
    }
   ],
   "source": [
    "df_series.series_works_count.describe()"
   ]
  },
  {
   "cell_type": "code",
   "execution_count": 152,
   "metadata": {},
   "outputs": [],
   "source": [
    "df_series.series_works_count = df_series.series_works_count.abs()"
   ]
  },
  {
   "cell_type": "code",
   "execution_count": 153,
   "metadata": {},
   "outputs": [
    {
     "data": {
      "text/plain": [
       "count    400390.000000\n",
       "mean         21.588359\n",
       "std          65.103030\n",
       "min           0.000000\n",
       "25%           3.000000\n",
       "50%           6.000000\n",
       "75%          14.000000\n",
       "max         893.000000\n",
       "Name: series_works_count, dtype: float64"
      ]
     },
     "execution_count": 153,
     "metadata": {},
     "output_type": "execute_result"
    }
   ],
   "source": [
    "df_series.series_works_count.describe()"
   ]
  },
  {
   "cell_type": "code",
   "execution_count": 154,
   "metadata": {},
   "outputs": [
    {
     "data": {
      "text/plain": [
       "<matplotlib.axes._subplots.AxesSubplot at 0x3c0bcc370>"
      ]
     },
     "execution_count": 154,
     "metadata": {},
     "output_type": "execute_result"
    },
    {
     "data": {
      "image/png": "[encoded data removed]",
      "text/plain": [
       "<Figure size 432x288 with 1 Axes>"
      ]
     },
     "metadata": {
      "needs_background": "light"
     },
     "output_type": "display_data"
    }
   ],
   "source": [
    "df_series.series_works_count.hist()"
   ]
  },
  {
   "cell_type": "code",
   "execution_count": 157,
   "metadata": {},
   "outputs": [
    {
     "data": {
      "text/plain": [
       "<matplotlib.axes._subplots.AxesSubplot at 0x3c0d4a700>"
      ]
     },
     "execution_count": 157,
     "metadata": {},
     "output_type": "execute_result"
    },
    {
     "data": {
      "image/png": "[encoded data removed]",
      "text/plain": [
       "<Figure size 432x288 with 1 Axes>"
      ]
     },
     "metadata": {
      "needs_background": "light"
     },
     "output_type": "display_data"
    }
   ],
   "source": [
    "df_series.series_works_count[df_series.series_works_count<100].hist(bins=20)"
   ]
  },
  {
   "cell_type": "code",
   "execution_count": 162,
   "metadata": {},
   "outputs": [
    {
     "data": {
      "text/plain": [
       "(400390,\n",
       " 1054717    1\n",
       " 774447     1\n",
       " 661782     1\n",
       " 917349     1\n",
       " 157976     1\n",
       "           ..\n",
       " 975990     1\n",
       " 453751     1\n",
       " 955512     1\n",
       " 957561     1\n",
       " 524288     1\n",
       " Name: series_id, Length: 400390, dtype: int64)"
      ]
     },
     "execution_count": 162,
     "metadata": {},
     "output_type": "execute_result"
    }
   ],
   "source": [
    "df_series.series_id.nunique(), df_series.series_id.value_counts(), "
   ]
  },
  {
   "cell_type": "code",
   "execution_count": 164,
   "metadata": {},
   "outputs": [
    {
     "data": {
      "text/plain": [
       "count    400390.000000\n",
       "mean         19.771653\n",
       "std          63.501377\n",
       "min           0.000000\n",
       "25%           3.000000\n",
       "50%           5.000000\n",
       "75%          12.000000\n",
       "max         893.000000\n",
       "Name: primary_work_count, dtype: float64"
      ]
     },
     "execution_count": 164,
     "metadata": {},
     "output_type": "execute_result"
    }
   ],
   "source": [
    "df_series.primary_work_count.describe()"
   ]
  },
  {
   "cell_type": "code",
   "execution_count": 165,
   "metadata": {},
   "outputs": [
    {
     "data": {
      "text/plain": [
       "<matplotlib.axes._subplots.AxesSubplot at 0x3be1797f0>"
      ]
     },
     "execution_count": 165,
     "metadata": {},
     "output_type": "execute_result"
    },
    {
     "data": {
      "image/png": "[encoded data removed]",
      "text/plain": [
       "<Figure size 432x288 with 1 Axes>"
      ]
     },
     "metadata": {
      "needs_background": "light"
     },
     "output_type": "display_data"
    }
   ],
   "source": [
    "df_series.primary_work_count.hist()"
   ]
  },
  {
   "cell_type": "code",
   "execution_count": 167,
   "metadata": {},
   "outputs": [
    {
     "data": {
      "text/plain": [
       "<matplotlib.axes._subplots.AxesSubplot at 0x3c14fc130>"
      ]
     },
     "execution_count": 167,
     "metadata": {},
     "output_type": "execute_result"
    },
    {
     "data": {
      "image/png": "[encoded data removed]",
      "text/plain": [
       "<Figure size 432x288 with 1 Axes>"
      ]
     },
     "metadata": {
      "needs_background": "light"
     },
     "output_type": "display_data"
    }
   ],
   "source": [
    "df_series.primary_work_count[df_series.primary_work_count<100].hist(bins=20)"
   ]
  },
  {
   "cell_type": "code",
   "execution_count": null,
   "metadata": {},
   "outputs": [],
   "source": []
  },
  {
   "cell_type": "markdown",
   "metadata": {},
   "source": [
    "### On to books list (contains duplicates)"
   ]
  },
  {
   "cell_type": "code",
   "execution_count": 181,
   "metadata": {},
   "outputs": [],
   "source": [
    "df_books = pd.read_pickle('Books_wrangled.pkl')"
   ]
  },
  {
   "cell_type": "code",
   "execution_count": 182,
   "metadata": {},
   "outputs": [
    {
     "data": {
      "text/html": [
       "<div>\n",
       "<style scoped>\n",
       "    .dataframe tbody tr th:only-of-type {\n",
       "        vertical-align: middle;\n",
       "    }\n",
       "\n",
       "    .dataframe tbody tr th {\n",
       "        vertical-align: top;\n",
       "    }\n",
       "\n",
       "    .dataframe thead th {\n",
       "        text-align: right;\n",
       "    }\n",
       "</style>\n",
       "<table border=\"1\" class=\"dataframe\">\n",
       "  <thead>\n",
       "    <tr style=\"text-align: right;\">\n",
       "      <th></th>\n",
       "      <th>text_reviews_count</th>\n",
       "      <th>series</th>\n",
       "      <th>country_code</th>\n",
       "      <th>language_code</th>\n",
       "      <th>is_ebook</th>\n",
       "      <th>average_rating</th>\n",
       "      <th>format</th>\n",
       "      <th>publisher</th>\n",
       "      <th>num_pages</th>\n",
       "      <th>publication_month</th>\n",
       "      <th>...</th>\n",
       "      <th>ratings_count</th>\n",
       "      <th>work_id</th>\n",
       "      <th>title</th>\n",
       "      <th>title_without_series</th>\n",
       "      <th>1st_au_id</th>\n",
       "      <th>1st_au_role</th>\n",
       "      <th>2nd_au_id</th>\n",
       "      <th>2nd_au_role</th>\n",
       "      <th>3rd_au_id</th>\n",
       "      <th>3rd_au_role</th>\n",
       "    </tr>\n",
       "  </thead>\n",
       "  <tbody>\n",
       "    <tr>\n",
       "      <th>0</th>\n",
       "      <td>15</td>\n",
       "      <td>169353</td>\n",
       "      <td>US</td>\n",
       "      <td>eng</td>\n",
       "      <td>false</td>\n",
       "      <td>3.93</td>\n",
       "      <td>Hardcover</td>\n",
       "      <td>Simon &amp; Schuster UK</td>\n",
       "      <td>400</td>\n",
       "      <td>4</td>\n",
       "      <td>...</td>\n",
       "      <td>186</td>\n",
       "      <td>6243149</td>\n",
       "      <td>Crowner Royal (Crowner John Mystery, #13)</td>\n",
       "      <td>Crowner Royal (Crowner John Mystery, #13)</td>\n",
       "      <td>37778</td>\n",
       "      <td>Author</td>\n",
       "      <td>NaN</td>\n",
       "      <td>NaN</td>\n",
       "      <td>NaN</td>\n",
       "      <td>NaN</td>\n",
       "    </tr>\n",
       "    <tr>\n",
       "      <th>1</th>\n",
       "      <td>60</td>\n",
       "      <td>1052227</td>\n",
       "      <td>US</td>\n",
       "      <td>eng</td>\n",
       "      <td>true</td>\n",
       "      <td>4.33</td>\n",
       "      <td>Ebook</td>\n",
       "      <td>NaN</td>\n",
       "      <td>318</td>\n",
       "      <td>NaN</td>\n",
       "      <td>...</td>\n",
       "      <td>269</td>\n",
       "      <td>54143148</td>\n",
       "      <td>The House of Memory (Pluto's Snitch #2)</td>\n",
       "      <td>The House of Memory (Pluto's Snitch #2)</td>\n",
       "      <td>242185</td>\n",
       "      <td>Author</td>\n",
       "      <td>NaN</td>\n",
       "      <td>NaN</td>\n",
       "      <td>NaN</td>\n",
       "      <td>NaN</td>\n",
       "    </tr>\n",
       "    <tr>\n",
       "      <th>2</th>\n",
       "      <td>23</td>\n",
       "      <td>953679</td>\n",
       "      <td>US</td>\n",
       "      <td>eng</td>\n",
       "      <td>true</td>\n",
       "      <td>3.49</td>\n",
       "      <td>Ebook</td>\n",
       "      <td>Amazon Digital Services</td>\n",
       "      <td>NaN</td>\n",
       "      <td>NaN</td>\n",
       "      <td>...</td>\n",
       "      <td>192</td>\n",
       "      <td>49305010</td>\n",
       "      <td>The Slaughtered Virgin of Zenopolis (Inspector...</td>\n",
       "      <td>The Slaughtered Virgin of Zenopolis (Inspector...</td>\n",
       "      <td>15104629</td>\n",
       "      <td>Author</td>\n",
       "      <td>14425713</td>\n",
       "      <td>Contributor</td>\n",
       "      <td>NaN</td>\n",
       "      <td>NaN</td>\n",
       "    </tr>\n",
       "    <tr>\n",
       "      <th>3</th>\n",
       "      <td>8</td>\n",
       "      <td>408775</td>\n",
       "      <td>US</td>\n",
       "      <td>eng</td>\n",
       "      <td>false</td>\n",
       "      <td>3.30</td>\n",
       "      <td>Hardcover</td>\n",
       "      <td>Ulverscroft</td>\n",
       "      <td>NaN</td>\n",
       "      <td>12</td>\n",
       "      <td>...</td>\n",
       "      <td>52</td>\n",
       "      <td>1903897</td>\n",
       "      <td>Dead in the Morning (Patrick Grant, #1)</td>\n",
       "      <td>Dead in the Morning (Patrick Grant, #1)</td>\n",
       "      <td>190988</td>\n",
       "      <td>Author</td>\n",
       "      <td>NaN</td>\n",
       "      <td>NaN</td>\n",
       "      <td>NaN</td>\n",
       "      <td>NaN</td>\n",
       "    </tr>\n",
       "    <tr>\n",
       "      <th>5</th>\n",
       "      <td>3</td>\n",
       "      <td>199039</td>\n",
       "      <td>US</td>\n",
       "      <td>eng</td>\n",
       "      <td>false</td>\n",
       "      <td>3.96</td>\n",
       "      <td>Audiobook</td>\n",
       "      <td>HarperAudio</td>\n",
       "      <td>NaN</td>\n",
       "      <td>3</td>\n",
       "      <td>...</td>\n",
       "      <td>5</td>\n",
       "      <td>2288775</td>\n",
       "      <td>A Murder is Announced</td>\n",
       "      <td>A Murder is Announced</td>\n",
       "      <td>123715</td>\n",
       "      <td>Author</td>\n",
       "      <td>552417</td>\n",
       "      <td>Narrator</td>\n",
       "      <td>NaN</td>\n",
       "      <td>NaN</td>\n",
       "    </tr>\n",
       "  </tbody>\n",
       "</table>\n",
       "<p>5 rows × 23 columns</p>\n",
       "</div>"
      ],
      "text/plain": [
       "   text_reviews_count   series country_code language_code is_ebook  \\\n",
       "0                  15   169353           US           eng    false   \n",
       "1                  60  1052227           US           eng     true   \n",
       "2                  23   953679           US           eng     true   \n",
       "3                   8   408775           US           eng    false   \n",
       "5                   3   199039           US           eng    false   \n",
       "\n",
       "   average_rating     format                publisher num_pages  \\\n",
       "0            3.93  Hardcover      Simon & Schuster UK       400   \n",
       "1            4.33      Ebook                      NaN       318   \n",
       "2            3.49      Ebook  Amazon Digital Services       NaN   \n",
       "3            3.30  Hardcover              Ulverscroft       NaN   \n",
       "5            3.96  Audiobook              HarperAudio       NaN   \n",
       "\n",
       "  publication_month  ... ratings_count   work_id  \\\n",
       "0                 4  ...           186   6243149   \n",
       "1               NaN  ...           269  54143148   \n",
       "2               NaN  ...           192  49305010   \n",
       "3                12  ...            52   1903897   \n",
       "5                 3  ...             5   2288775   \n",
       "\n",
       "                                               title  \\\n",
       "0          Crowner Royal (Crowner John Mystery, #13)   \n",
       "1            The House of Memory (Pluto's Snitch #2)   \n",
       "2  The Slaughtered Virgin of Zenopolis (Inspector...   \n",
       "3            Dead in the Morning (Patrick Grant, #1)   \n",
       "5                              A Murder is Announced   \n",
       "\n",
       "                                title_without_series  1st_au_id 1st_au_role  \\\n",
       "0          Crowner Royal (Crowner John Mystery, #13)      37778      Author   \n",
       "1            The House of Memory (Pluto's Snitch #2)     242185      Author   \n",
       "2  The Slaughtered Virgin of Zenopolis (Inspector...   15104629      Author   \n",
       "3            Dead in the Morning (Patrick Grant, #1)     190988      Author   \n",
       "5                              A Murder is Announced     123715      Author   \n",
       "\n",
       "  2nd_au_id  2nd_au_role 3rd_au_id 3rd_au_role  \n",
       "0       NaN          NaN       NaN         NaN  \n",
       "1       NaN          NaN       NaN         NaN  \n",
       "2  14425713  Contributor       NaN         NaN  \n",
       "3       NaN          NaN       NaN         NaN  \n",
       "5    552417     Narrator       NaN         NaN  \n",
       "\n",
       "[5 rows x 23 columns]"
      ]
     },
     "execution_count": 182,
     "metadata": {},
     "output_type": "execute_result"
    }
   ],
   "source": [
    "df_books.head()"
   ]
  },
  {
   "cell_type": "markdown",
   "metadata": {},
   "source": [
    "Drop country code (all US), edition information,language code (assumed all english), and 3rd author"
   ]
  },
  {
   "cell_type": "code",
   "execution_count": 183,
   "metadata": {},
   "outputs": [],
   "source": [
    "col_todrop = ['publisher','country_code','edition_information','language_code','3rd_au_id','3rd_au_role']"
   ]
  },
  {
   "cell_type": "code",
   "execution_count": 184,
   "metadata": {},
   "outputs": [],
   "source": [
    "df_books.drop(col_todrop, inplace=True,axis=1)"
   ]
  },
  {
   "cell_type": "code",
   "execution_count": 185,
   "metadata": {},
   "outputs": [
    {
     "data": {
      "text/html": [
       "<div>\n",
       "<style scoped>\n",
       "    .dataframe tbody tr th:only-of-type {\n",
       "        vertical-align: middle;\n",
       "    }\n",
       "\n",
       "    .dataframe tbody tr th {\n",
       "        vertical-align: top;\n",
       "    }\n",
       "\n",
       "    .dataframe thead th {\n",
       "        text-align: right;\n",
       "    }\n",
       "</style>\n",
       "<table border=\"1\" class=\"dataframe\">\n",
       "  <thead>\n",
       "    <tr style=\"text-align: right;\">\n",
       "      <th></th>\n",
       "      <th>text_reviews_count</th>\n",
       "      <th>series</th>\n",
       "      <th>is_ebook</th>\n",
       "      <th>average_rating</th>\n",
       "      <th>format</th>\n",
       "      <th>num_pages</th>\n",
       "      <th>publication_month</th>\n",
       "      <th>publication_year</th>\n",
       "      <th>book_id</th>\n",
       "      <th>ratings_count</th>\n",
       "      <th>work_id</th>\n",
       "      <th>title</th>\n",
       "      <th>title_without_series</th>\n",
       "      <th>1st_au_id</th>\n",
       "      <th>1st_au_role</th>\n",
       "      <th>2nd_au_id</th>\n",
       "      <th>2nd_au_role</th>\n",
       "    </tr>\n",
       "  </thead>\n",
       "  <tbody>\n",
       "    <tr>\n",
       "      <th>0</th>\n",
       "      <td>15</td>\n",
       "      <td>169353</td>\n",
       "      <td>false</td>\n",
       "      <td>3.93</td>\n",
       "      <td>Hardcover</td>\n",
       "      <td>400</td>\n",
       "      <td>4</td>\n",
       "      <td>2009</td>\n",
       "      <td>6066814</td>\n",
       "      <td>186</td>\n",
       "      <td>6243149</td>\n",
       "      <td>Crowner Royal (Crowner John Mystery, #13)</td>\n",
       "      <td>Crowner Royal (Crowner John Mystery, #13)</td>\n",
       "      <td>37778</td>\n",
       "      <td>Author</td>\n",
       "      <td>NaN</td>\n",
       "      <td>NaN</td>\n",
       "    </tr>\n",
       "    <tr>\n",
       "      <th>1</th>\n",
       "      <td>60</td>\n",
       "      <td>1052227</td>\n",
       "      <td>true</td>\n",
       "      <td>4.33</td>\n",
       "      <td>Ebook</td>\n",
       "      <td>318</td>\n",
       "      <td>NaN</td>\n",
       "      <td>NaN</td>\n",
       "      <td>33394837</td>\n",
       "      <td>269</td>\n",
       "      <td>54143148</td>\n",
       "      <td>The House of Memory (Pluto's Snitch #2)</td>\n",
       "      <td>The House of Memory (Pluto's Snitch #2)</td>\n",
       "      <td>242185</td>\n",
       "      <td>Author</td>\n",
       "      <td>NaN</td>\n",
       "      <td>NaN</td>\n",
       "    </tr>\n",
       "    <tr>\n",
       "      <th>2</th>\n",
       "      <td>23</td>\n",
       "      <td>953679</td>\n",
       "      <td>true</td>\n",
       "      <td>3.49</td>\n",
       "      <td>Ebook</td>\n",
       "      <td>NaN</td>\n",
       "      <td>NaN</td>\n",
       "      <td>NaN</td>\n",
       "      <td>29074697</td>\n",
       "      <td>192</td>\n",
       "      <td>49305010</td>\n",
       "      <td>The Slaughtered Virgin of Zenopolis (Inspector...</td>\n",
       "      <td>The Slaughtered Virgin of Zenopolis (Inspector...</td>\n",
       "      <td>15104629</td>\n",
       "      <td>Author</td>\n",
       "      <td>14425713</td>\n",
       "      <td>Contributor</td>\n",
       "    </tr>\n",
       "    <tr>\n",
       "      <th>3</th>\n",
       "      <td>8</td>\n",
       "      <td>408775</td>\n",
       "      <td>false</td>\n",
       "      <td>3.30</td>\n",
       "      <td>Hardcover</td>\n",
       "      <td>NaN</td>\n",
       "      <td>12</td>\n",
       "      <td>1975</td>\n",
       "      <td>1902202</td>\n",
       "      <td>52</td>\n",
       "      <td>1903897</td>\n",
       "      <td>Dead in the Morning (Patrick Grant, #1)</td>\n",
       "      <td>Dead in the Morning (Patrick Grant, #1)</td>\n",
       "      <td>190988</td>\n",
       "      <td>Author</td>\n",
       "      <td>NaN</td>\n",
       "      <td>NaN</td>\n",
       "    </tr>\n",
       "    <tr>\n",
       "      <th>5</th>\n",
       "      <td>3</td>\n",
       "      <td>199039</td>\n",
       "      <td>false</td>\n",
       "      <td>3.96</td>\n",
       "      <td>Audiobook</td>\n",
       "      <td>NaN</td>\n",
       "      <td>3</td>\n",
       "      <td>2013</td>\n",
       "      <td>16158998</td>\n",
       "      <td>5</td>\n",
       "      <td>2288775</td>\n",
       "      <td>A Murder is Announced</td>\n",
       "      <td>A Murder is Announced</td>\n",
       "      <td>123715</td>\n",
       "      <td>Author</td>\n",
       "      <td>552417</td>\n",
       "      <td>Narrator</td>\n",
       "    </tr>\n",
       "  </tbody>\n",
       "</table>\n",
       "</div>"
      ],
      "text/plain": [
       "   text_reviews_count   series is_ebook  average_rating     format num_pages  \\\n",
       "0                  15   169353    false            3.93  Hardcover       400   \n",
       "1                  60  1052227     true            4.33      Ebook       318   \n",
       "2                  23   953679     true            3.49      Ebook       NaN   \n",
       "3                   8   408775    false            3.30  Hardcover       NaN   \n",
       "5                   3   199039    false            3.96  Audiobook       NaN   \n",
       "\n",
       "  publication_month publication_year   book_id  ratings_count   work_id  \\\n",
       "0                 4             2009   6066814            186   6243149   \n",
       "1               NaN              NaN  33394837            269  54143148   \n",
       "2               NaN              NaN  29074697            192  49305010   \n",
       "3                12             1975   1902202             52   1903897   \n",
       "5                 3             2013  16158998              5   2288775   \n",
       "\n",
       "                                               title  \\\n",
       "0          Crowner Royal (Crowner John Mystery, #13)   \n",
       "1            The House of Memory (Pluto's Snitch #2)   \n",
       "2  The Slaughtered Virgin of Zenopolis (Inspector...   \n",
       "3            Dead in the Morning (Patrick Grant, #1)   \n",
       "5                              A Murder is Announced   \n",
       "\n",
       "                                title_without_series 1st_au_id 1st_au_role  \\\n",
       "0          Crowner Royal (Crowner John Mystery, #13)     37778      Author   \n",
       "1            The House of Memory (Pluto's Snitch #2)    242185      Author   \n",
       "2  The Slaughtered Virgin of Zenopolis (Inspector...  15104629      Author   \n",
       "3            Dead in the Morning (Patrick Grant, #1)    190988      Author   \n",
       "5                              A Murder is Announced    123715      Author   \n",
       "\n",
       "  2nd_au_id  2nd_au_role  \n",
       "0       NaN          NaN  \n",
       "1       NaN          NaN  \n",
       "2  14425713  Contributor  \n",
       "3       NaN          NaN  \n",
       "5    552417     Narrator  "
      ]
     },
     "execution_count": 185,
     "metadata": {},
     "output_type": "execute_result"
    }
   ],
   "source": [
    "df_books.head()"
   ]
  },
  {
   "cell_type": "code",
   "execution_count": 186,
   "metadata": {},
   "outputs": [
    {
     "data": {
      "text/plain": [
       "3311984     115\n",
       "1222101     112\n",
       "1997473      87\n",
       "3038872      85\n",
       "1303710      82\n",
       "           ... \n",
       "1939982      11\n",
       "32395679     11\n",
       "49193186     11\n",
       "10636        11\n",
       "24084386     11\n",
       "Name: work_id, Length: 1441, dtype: int64"
      ]
     },
     "execution_count": 186,
     "metadata": {},
     "output_type": "execute_result"
    }
   ],
   "source": [
    "df_books.work_id.value_counts()[df_books.work_id.value_counts()>10]"
   ]
  },
  {
   "cell_type": "markdown",
   "metadata": {},
   "source": [
    "# Finalize our Books data set. Use \"best_book_id\" and ignore format for the first run. "
   ]
  },
  {
   "cell_type": "code",
   "execution_count": 187,
   "metadata": {},
   "outputs": [
    {
     "data": {
      "text/html": [
       "<div>\n",
       "<style scoped>\n",
       "    .dataframe tbody tr th:only-of-type {\n",
       "        vertical-align: middle;\n",
       "    }\n",
       "\n",
       "    .dataframe tbody tr th {\n",
       "        vertical-align: top;\n",
       "    }\n",
       "\n",
       "    .dataframe thead th {\n",
       "        text-align: right;\n",
       "    }\n",
       "</style>\n",
       "<table border=\"1\" class=\"dataframe\">\n",
       "  <thead>\n",
       "    <tr style=\"text-align: right;\">\n",
       "      <th></th>\n",
       "      <th>text_reviews_count</th>\n",
       "      <th>series</th>\n",
       "      <th>is_ebook</th>\n",
       "      <th>average_rating</th>\n",
       "      <th>format</th>\n",
       "      <th>num_pages</th>\n",
       "      <th>publication_month</th>\n",
       "      <th>publication_year</th>\n",
       "      <th>book_id</th>\n",
       "      <th>ratings_count</th>\n",
       "      <th>work_id</th>\n",
       "      <th>title</th>\n",
       "      <th>title_without_series</th>\n",
       "      <th>1st_au_id</th>\n",
       "      <th>1st_au_role</th>\n",
       "      <th>2nd_au_id</th>\n",
       "      <th>2nd_au_role</th>\n",
       "    </tr>\n",
       "  </thead>\n",
       "  <tbody>\n",
       "    <tr>\n",
       "      <th>0</th>\n",
       "      <td>15</td>\n",
       "      <td>169353</td>\n",
       "      <td>false</td>\n",
       "      <td>3.93</td>\n",
       "      <td>Hardcover</td>\n",
       "      <td>400</td>\n",
       "      <td>4</td>\n",
       "      <td>2009</td>\n",
       "      <td>6066814</td>\n",
       "      <td>186</td>\n",
       "      <td>6243149</td>\n",
       "      <td>Crowner Royal (Crowner John Mystery, #13)</td>\n",
       "      <td>Crowner Royal (Crowner John Mystery, #13)</td>\n",
       "      <td>37778</td>\n",
       "      <td>Author</td>\n",
       "      <td>NaN</td>\n",
       "      <td>NaN</td>\n",
       "    </tr>\n",
       "    <tr>\n",
       "      <th>1</th>\n",
       "      <td>60</td>\n",
       "      <td>1052227</td>\n",
       "      <td>true</td>\n",
       "      <td>4.33</td>\n",
       "      <td>Ebook</td>\n",
       "      <td>318</td>\n",
       "      <td>NaN</td>\n",
       "      <td>NaN</td>\n",
       "      <td>33394837</td>\n",
       "      <td>269</td>\n",
       "      <td>54143148</td>\n",
       "      <td>The House of Memory (Pluto's Snitch #2)</td>\n",
       "      <td>The House of Memory (Pluto's Snitch #2)</td>\n",
       "      <td>242185</td>\n",
       "      <td>Author</td>\n",
       "      <td>NaN</td>\n",
       "      <td>NaN</td>\n",
       "    </tr>\n",
       "    <tr>\n",
       "      <th>2</th>\n",
       "      <td>23</td>\n",
       "      <td>953679</td>\n",
       "      <td>true</td>\n",
       "      <td>3.49</td>\n",
       "      <td>Ebook</td>\n",
       "      <td>NaN</td>\n",
       "      <td>NaN</td>\n",
       "      <td>NaN</td>\n",
       "      <td>29074697</td>\n",
       "      <td>192</td>\n",
       "      <td>49305010</td>\n",
       "      <td>The Slaughtered Virgin of Zenopolis (Inspector...</td>\n",
       "      <td>The Slaughtered Virgin of Zenopolis (Inspector...</td>\n",
       "      <td>15104629</td>\n",
       "      <td>Author</td>\n",
       "      <td>14425713</td>\n",
       "      <td>Contributor</td>\n",
       "    </tr>\n",
       "    <tr>\n",
       "      <th>3</th>\n",
       "      <td>8</td>\n",
       "      <td>408775</td>\n",
       "      <td>false</td>\n",
       "      <td>3.30</td>\n",
       "      <td>Hardcover</td>\n",
       "      <td>NaN</td>\n",
       "      <td>12</td>\n",
       "      <td>1975</td>\n",
       "      <td>1902202</td>\n",
       "      <td>52</td>\n",
       "      <td>1903897</td>\n",
       "      <td>Dead in the Morning (Patrick Grant, #1)</td>\n",
       "      <td>Dead in the Morning (Patrick Grant, #1)</td>\n",
       "      <td>190988</td>\n",
       "      <td>Author</td>\n",
       "      <td>NaN</td>\n",
       "      <td>NaN</td>\n",
       "    </tr>\n",
       "    <tr>\n",
       "      <th>5</th>\n",
       "      <td>3</td>\n",
       "      <td>199039</td>\n",
       "      <td>false</td>\n",
       "      <td>3.96</td>\n",
       "      <td>Audiobook</td>\n",
       "      <td>NaN</td>\n",
       "      <td>3</td>\n",
       "      <td>2013</td>\n",
       "      <td>16158998</td>\n",
       "      <td>5</td>\n",
       "      <td>2288775</td>\n",
       "      <td>A Murder is Announced</td>\n",
       "      <td>A Murder is Announced</td>\n",
       "      <td>123715</td>\n",
       "      <td>Author</td>\n",
       "      <td>552417</td>\n",
       "      <td>Narrator</td>\n",
       "    </tr>\n",
       "  </tbody>\n",
       "</table>\n",
       "</div>"
      ],
      "text/plain": [
       "   text_reviews_count   series is_ebook  average_rating     format num_pages  \\\n",
       "0                  15   169353    false            3.93  Hardcover       400   \n",
       "1                  60  1052227     true            4.33      Ebook       318   \n",
       "2                  23   953679     true            3.49      Ebook       NaN   \n",
       "3                   8   408775    false            3.30  Hardcover       NaN   \n",
       "5                   3   199039    false            3.96  Audiobook       NaN   \n",
       "\n",
       "  publication_month publication_year   book_id  ratings_count   work_id  \\\n",
       "0                 4             2009   6066814            186   6243149   \n",
       "1               NaN              NaN  33394837            269  54143148   \n",
       "2               NaN              NaN  29074697            192  49305010   \n",
       "3                12             1975   1902202             52   1903897   \n",
       "5                 3             2013  16158998              5   2288775   \n",
       "\n",
       "                                               title  \\\n",
       "0          Crowner Royal (Crowner John Mystery, #13)   \n",
       "1            The House of Memory (Pluto's Snitch #2)   \n",
       "2  The Slaughtered Virgin of Zenopolis (Inspector...   \n",
       "3            Dead in the Morning (Patrick Grant, #1)   \n",
       "5                              A Murder is Announced   \n",
       "\n",
       "                                title_without_series 1st_au_id 1st_au_role  \\\n",
       "0          Crowner Royal (Crowner John Mystery, #13)     37778      Author   \n",
       "1            The House of Memory (Pluto's Snitch #2)    242185      Author   \n",
       "2  The Slaughtered Virgin of Zenopolis (Inspector...  15104629      Author   \n",
       "3            Dead in the Morning (Patrick Grant, #1)    190988      Author   \n",
       "5                              A Murder is Announced    123715      Author   \n",
       "\n",
       "  2nd_au_id  2nd_au_role  \n",
       "0       NaN          NaN  \n",
       "1       NaN          NaN  \n",
       "2  14425713  Contributor  \n",
       "3       NaN          NaN  \n",
       "5    552417     Narrator  "
      ]
     },
     "execution_count": 187,
     "metadata": {},
     "output_type": "execute_result"
    }
   ],
   "source": [
    "df_books.head()"
   ]
  },
  {
   "cell_type": "code",
   "execution_count": 188,
   "metadata": {},
   "outputs": [
    {
     "data": {
      "text/html": [
       "<div>\n",
       "<style scoped>\n",
       "    .dataframe tbody tr th:only-of-type {\n",
       "        vertical-align: middle;\n",
       "    }\n",
       "\n",
       "    .dataframe tbody tr th {\n",
       "        vertical-align: top;\n",
       "    }\n",
       "\n",
       "    .dataframe thead th {\n",
       "        text-align: right;\n",
       "    }\n",
       "</style>\n",
       "<table border=\"1\" class=\"dataframe\">\n",
       "  <thead>\n",
       "    <tr style=\"text-align: right;\">\n",
       "      <th></th>\n",
       "      <th>numbered</th>\n",
       "      <th>series_works_count</th>\n",
       "      <th>series_id</th>\n",
       "      <th>primary_work_count</th>\n",
       "    </tr>\n",
       "  </thead>\n",
       "  <tbody>\n",
       "    <tr>\n",
       "      <th>0</th>\n",
       "      <td>true</td>\n",
       "      <td>9</td>\n",
       "      <td>189911</td>\n",
       "      <td>3</td>\n",
       "    </tr>\n",
       "    <tr>\n",
       "      <th>1</th>\n",
       "      <td>true</td>\n",
       "      <td>14</td>\n",
       "      <td>151854</td>\n",
       "      <td>12</td>\n",
       "    </tr>\n",
       "    <tr>\n",
       "      <th>2</th>\n",
       "      <td>true</td>\n",
       "      <td>15</td>\n",
       "      <td>169353</td>\n",
       "      <td>15</td>\n",
       "    </tr>\n",
       "    <tr>\n",
       "      <th>3</th>\n",
       "      <td>true</td>\n",
       "      <td>3</td>\n",
       "      <td>1052227</td>\n",
       "      <td>3</td>\n",
       "    </tr>\n",
       "    <tr>\n",
       "      <th>4</th>\n",
       "      <td>false</td>\n",
       "      <td>3</td>\n",
       "      <td>1070125</td>\n",
       "      <td>3</td>\n",
       "    </tr>\n",
       "  </tbody>\n",
       "</table>\n",
       "</div>"
      ],
      "text/plain": [
       "  numbered  series_works_count  series_id  primary_work_count\n",
       "0     true                   9     189911                   3\n",
       "1     true                  14     151854                  12\n",
       "2     true                  15     169353                  15\n",
       "3     true                   3    1052227                   3\n",
       "4    false                   3    1070125                   3"
      ]
     },
     "execution_count": 188,
     "metadata": {},
     "output_type": "execute_result"
    }
   ],
   "source": [
    "df_series.head()"
   ]
  },
  {
   "cell_type": "code",
   "execution_count": 189,
   "metadata": {},
   "outputs": [
    {
     "data": {
      "text/html": [
       "<div>\n",
       "<style scoped>\n",
       "    .dataframe tbody tr th:only-of-type {\n",
       "        vertical-align: middle;\n",
       "    }\n",
       "\n",
       "    .dataframe tbody tr th {\n",
       "        vertical-align: top;\n",
       "    }\n",
       "\n",
       "    .dataframe thead th {\n",
       "        text-align: right;\n",
       "    }\n",
       "</style>\n",
       "<table border=\"1\" class=\"dataframe\">\n",
       "  <thead>\n",
       "    <tr style=\"text-align: right;\">\n",
       "      <th></th>\n",
       "      <th>books_count</th>\n",
       "      <th>reviews_count</th>\n",
       "      <th>original_publication_month</th>\n",
       "      <th>text_reviews_count</th>\n",
       "      <th>best_book_id</th>\n",
       "      <th>original_publication_year</th>\n",
       "      <th>original_title</th>\n",
       "      <th>rating_dist</th>\n",
       "      <th>ratings_count</th>\n",
       "      <th>media_type</th>\n",
       "      <th>ratings_sum</th>\n",
       "      <th>work_id</th>\n",
       "    </tr>\n",
       "  </thead>\n",
       "  <tbody>\n",
       "    <tr>\n",
       "      <th>0</th>\n",
       "      <td>1</td>\n",
       "      <td>6</td>\n",
       "      <td>8</td>\n",
       "      <td>1</td>\n",
       "      <td>5333265</td>\n",
       "      <td>1984</td>\n",
       "      <td>W. C. Fields: A Life on Film</td>\n",
       "      <td>5:1,4:1,3:1,2:0,1:0,total:3</td>\n",
       "      <td>3</td>\n",
       "      <td>book</td>\n",
       "      <td>12</td>\n",
       "      <td>5400751</td>\n",
       "    </tr>\n",
       "    <tr>\n",
       "      <th>1</th>\n",
       "      <td>22</td>\n",
       "      <td>10162</td>\n",
       "      <td>NaN</td>\n",
       "      <td>741</td>\n",
       "      <td>25717</td>\n",
       "      <td>2001</td>\n",
       "      <td>Good Harbor</td>\n",
       "      <td>5:517,4:1787,3:2763,2:966,1:196,total:6229</td>\n",
       "      <td>6229</td>\n",
       "      <td>book</td>\n",
       "      <td>20150</td>\n",
       "      <td>1323437</td>\n",
       "    </tr>\n",
       "    <tr>\n",
       "      <th>2</th>\n",
       "      <td>2</td>\n",
       "      <td>268</td>\n",
       "      <td>NaN</td>\n",
       "      <td>7</td>\n",
       "      <td>7327624</td>\n",
       "      <td>1987</td>\n",
       "      <td>NaN</td>\n",
       "      <td>5:49,4:58,3:26,2:5,1:3,total:141</td>\n",
       "      <td>141</td>\n",
       "      <td>book</td>\n",
       "      <td>568</td>\n",
       "      <td>8948723</td>\n",
       "    </tr>\n",
       "    <tr>\n",
       "      <th>3</th>\n",
       "      <td>38</td>\n",
       "      <td>89252</td>\n",
       "      <td>7</td>\n",
       "      <td>3504</td>\n",
       "      <td>6066819</td>\n",
       "      <td>2009</td>\n",
       "      <td>Best Friends Forever</td>\n",
       "      <td>5:9152,4:16855,3:19507,2:6210,1:1549,total:53273</td>\n",
       "      <td>53273</td>\n",
       "      <td>book</td>\n",
       "      <td>185670</td>\n",
       "      <td>6243154</td>\n",
       "    </tr>\n",
       "    <tr>\n",
       "      <th>4</th>\n",
       "      <td>2</td>\n",
       "      <td>49</td>\n",
       "      <td>NaN</td>\n",
       "      <td>5</td>\n",
       "      <td>287140</td>\n",
       "      <td>1990</td>\n",
       "      <td>Runic Astrology: Starcraft and Timekeeping in ...</td>\n",
       "      <td>5:6,4:1,3:3,2:3,1:2,total:15</td>\n",
       "      <td>15</td>\n",
       "      <td>book</td>\n",
       "      <td>51</td>\n",
       "      <td>278577</td>\n",
       "    </tr>\n",
       "  </tbody>\n",
       "</table>\n",
       "</div>"
      ],
      "text/plain": [
       "   books_count  reviews_count original_publication_month  text_reviews_count  \\\n",
       "0            1              6                          8                   1   \n",
       "1           22          10162                        NaN                 741   \n",
       "2            2            268                        NaN                   7   \n",
       "3           38          89252                          7                3504   \n",
       "4            2             49                        NaN                   5   \n",
       "\n",
       "  best_book_id original_publication_year  \\\n",
       "0      5333265                      1984   \n",
       "1        25717                      2001   \n",
       "2      7327624                      1987   \n",
       "3      6066819                      2009   \n",
       "4       287140                      1990   \n",
       "\n",
       "                                      original_title  \\\n",
       "0                       W. C. Fields: A Life on Film   \n",
       "1                                        Good Harbor   \n",
       "2                                                NaN   \n",
       "3                               Best Friends Forever   \n",
       "4  Runic Astrology: Starcraft and Timekeeping in ...   \n",
       "\n",
       "                                        rating_dist  ratings_count media_type  \\\n",
       "0                       5:1,4:1,3:1,2:0,1:0,total:3              3       book   \n",
       "1        5:517,4:1787,3:2763,2:966,1:196,total:6229           6229       book   \n",
       "2                  5:49,4:58,3:26,2:5,1:3,total:141            141       book   \n",
       "3  5:9152,4:16855,3:19507,2:6210,1:1549,total:53273          53273       book   \n",
       "4                      5:6,4:1,3:3,2:3,1:2,total:15             15       book   \n",
       "\n",
       "   ratings_sum  work_id  \n",
       "0           12  5400751  \n",
       "1        20150  1323437  \n",
       "2          568  8948723  \n",
       "3       185670  6243154  \n",
       "4           51   278577  "
      ]
     },
     "execution_count": 189,
     "metadata": {},
     "output_type": "execute_result"
    }
   ],
   "source": [
    "df_works.head()"
   ]
  },
  {
   "cell_type": "code",
   "execution_count": 194,
   "metadata": {},
   "outputs": [],
   "source": [
    "def clean_ratings(row):\n",
    "  tokens = row.split(\",\")\n",
    "  for token in tokens[:-1]:\n",
    "    [stars, num] = token.split(\":\")"
   ]
  },
  {
   "cell_type": "code",
   "execution_count": null,
   "metadata": {},
   "outputs": [],
   "source": []
  },
  {
   "cell_type": "code",
   "execution_count": 192,
   "metadata": {},
   "outputs": [],
   "source": [
    "df_rats = df_works.rating_dist"
   ]
  },
  {
   "cell_type": "code",
   "execution_count": 198,
   "metadata": {},
   "outputs": [
    {
     "data": {
      "text/plain": [
       "1516491"
      ]
     },
     "execution_count": 198,
     "metadata": {},
     "output_type": "execute_result"
    }
   ],
   "source": [
    "len(df_rats)"
   ]
  },
  {
   "cell_type": "code",
   "execution_count": 206,
   "metadata": {},
   "outputs": [
    {
     "name": "stdout",
     "output_type": "stream",
     "text": [
      "None\n",
      "None\n",
      "None\n",
      "None\n",
      "None\n"
     ]
    }
   ],
   "source": [
    "for i in range(5):\n",
    "    print(clean_ratings(df_rats[i]))"
   ]
  },
  {
   "cell_type": "code",
   "execution_count": 219,
   "metadata": {},
   "outputs": [],
   "source": [
    "def clean_ratings(row):\n",
    "  tokens = row.split(\",\")"
   ]
  },
  {
   "cell_type": "code",
   "execution_count": 220,
   "metadata": {},
   "outputs": [
    {
     "ename": "AttributeError",
     "evalue": "'Series' object has no attribute 'split'",
     "output_type": "error",
     "traceback": [
      "\u001b[0;31m---------------------------------------------------------------------------\u001b[0m",
      "\u001b[0;31mAttributeError\u001b[0m                            Traceback (most recent call last)",
      "\u001b[0;32m<ipython-input-220-cff5d67932e6>\u001b[0m in \u001b[0;36m<module>\u001b[0;34m\u001b[0m\n\u001b[0;32m----> 1\u001b[0;31m \u001b[0mclean_ratings\u001b[0m\u001b[0;34m(\u001b[0m\u001b[0mdf_rats\u001b[0m\u001b[0;34m[\u001b[0m\u001b[0;36m1\u001b[0m\u001b[0;34m]\u001b[0m\u001b[0;34m)\u001b[0m\u001b[0;34m\u001b[0m\u001b[0;34m\u001b[0m\u001b[0m\n\u001b[0m",
      "\u001b[0;32m<ipython-input-219-1c876192cea7>\u001b[0m in \u001b[0;36mclean_ratings\u001b[0;34m(row)\u001b[0m\n\u001b[1;32m      1\u001b[0m \u001b[0;32mdef\u001b[0m \u001b[0mclean_ratings\u001b[0m\u001b[0;34m(\u001b[0m\u001b[0mrow\u001b[0m\u001b[0;34m)\u001b[0m\u001b[0;34m:\u001b[0m\u001b[0;34m\u001b[0m\u001b[0;34m\u001b[0m\u001b[0m\n\u001b[0;32m----> 2\u001b[0;31m   \u001b[0mtokens\u001b[0m \u001b[0;34m=\u001b[0m \u001b[0mrow\u001b[0m\u001b[0;34m.\u001b[0m\u001b[0msplit\u001b[0m\u001b[0;34m(\u001b[0m\u001b[0;34m\",\"\u001b[0m\u001b[0;34m)\u001b[0m\u001b[0;34m\u001b[0m\u001b[0;34m\u001b[0m\u001b[0m\n\u001b[0m",
      "\u001b[0;32m~/opt/anaconda3/lib/python3.8/site-packages/pandas/core/generic.py\u001b[0m in \u001b[0;36m__getattr__\u001b[0;34m(self, name)\u001b[0m\n\u001b[1;32m   5128\u001b[0m             \u001b[0;32mif\u001b[0m \u001b[0mself\u001b[0m\u001b[0;34m.\u001b[0m\u001b[0m_info_axis\u001b[0m\u001b[0;34m.\u001b[0m\u001b[0m_can_hold_identifiers_and_holds_name\u001b[0m\u001b[0;34m(\u001b[0m\u001b[0mname\u001b[0m\u001b[0;34m)\u001b[0m\u001b[0;34m:\u001b[0m\u001b[0;34m\u001b[0m\u001b[0;34m\u001b[0m\u001b[0m\n\u001b[1;32m   5129\u001b[0m                 \u001b[0;32mreturn\u001b[0m \u001b[0mself\u001b[0m\u001b[0;34m[\u001b[0m\u001b[0mname\u001b[0m\u001b[0;34m]\u001b[0m\u001b[0;34m\u001b[0m\u001b[0;34m\u001b[0m\u001b[0m\n\u001b[0;32m-> 5130\u001b[0;31m             \u001b[0;32mreturn\u001b[0m \u001b[0mobject\u001b[0m\u001b[0;34m.\u001b[0m\u001b[0m__getattribute__\u001b[0m\u001b[0;34m(\u001b[0m\u001b[0mself\u001b[0m\u001b[0;34m,\u001b[0m \u001b[0mname\u001b[0m\u001b[0;34m)\u001b[0m\u001b[0;34m\u001b[0m\u001b[0;34m\u001b[0m\u001b[0m\n\u001b[0m\u001b[1;32m   5131\u001b[0m \u001b[0;34m\u001b[0m\u001b[0m\n\u001b[1;32m   5132\u001b[0m     \u001b[0;32mdef\u001b[0m \u001b[0m__setattr__\u001b[0m\u001b[0;34m(\u001b[0m\u001b[0mself\u001b[0m\u001b[0;34m,\u001b[0m \u001b[0mname\u001b[0m\u001b[0;34m:\u001b[0m \u001b[0mstr\u001b[0m\u001b[0;34m,\u001b[0m \u001b[0mvalue\u001b[0m\u001b[0;34m)\u001b[0m \u001b[0;34m->\u001b[0m \u001b[0;32mNone\u001b[0m\u001b[0;34m:\u001b[0m\u001b[0;34m\u001b[0m\u001b[0;34m\u001b[0m\u001b[0m\n",
      "\u001b[0;31mAttributeError\u001b[0m: 'Series' object has no attribute 'split'"
     ]
    }
   ],
   "source": [
    "clean_ratings(df_rats[1])"
   ]
  },
  {
   "cell_type": "code",
   "execution_count": 218,
   "metadata": {},
   "outputs": [
    {
     "ename": "NameError",
     "evalue": "name 'tokens' is not defined",
     "output_type": "error",
     "traceback": [
      "\u001b[0;31m---------------------------------------------------------------------------\u001b[0m",
      "\u001b[0;31mNameError\u001b[0m                                 Traceback (most recent call last)",
      "\u001b[0;32m<ipython-input-218-1c57b705edbf>\u001b[0m in \u001b[0;36m<module>\u001b[0;34m\u001b[0m\n\u001b[0;32m----> 1\u001b[0;31m \u001b[0mtokens\u001b[0m\u001b[0;34m\u001b[0m\u001b[0;34m\u001b[0m\u001b[0m\n\u001b[0m",
      "\u001b[0;31mNameError\u001b[0m: name 'tokens' is not defined"
     ]
    }
   ],
   "source": [
    "tokens"
   ]
  },
  {
   "cell_type": "code",
   "execution_count": 214,
   "metadata": {},
   "outputs": [],
   "source": [
    "df_rats = df_rats.str.split(pat=',', n=-1, expand=True)"
   ]
  },
  {
   "cell_type": "code",
   "execution_count": 217,
   "metadata": {},
   "outputs": [
    {
     "data": {
      "text/html": [
       "<div>\n",
       "<style scoped>\n",
       "    .dataframe tbody tr th:only-of-type {\n",
       "        vertical-align: middle;\n",
       "    }\n",
       "\n",
       "    .dataframe tbody tr th {\n",
       "        vertical-align: top;\n",
       "    }\n",
       "\n",
       "    .dataframe thead th {\n",
       "        text-align: right;\n",
       "    }\n",
       "</style>\n",
       "<table border=\"1\" class=\"dataframe\">\n",
       "  <thead>\n",
       "    <tr style=\"text-align: right;\">\n",
       "      <th></th>\n",
       "      <th>0</th>\n",
       "      <th>1</th>\n",
       "    </tr>\n",
       "  </thead>\n",
       "  <tbody>\n",
       "    <tr>\n",
       "      <th>0</th>\n",
       "      <td>5</td>\n",
       "      <td>1</td>\n",
       "    </tr>\n",
       "    <tr>\n",
       "      <th>1</th>\n",
       "      <td>5</td>\n",
       "      <td>517</td>\n",
       "    </tr>\n",
       "    <tr>\n",
       "      <th>2</th>\n",
       "      <td>5</td>\n",
       "      <td>49</td>\n",
       "    </tr>\n",
       "    <tr>\n",
       "      <th>3</th>\n",
       "      <td>5</td>\n",
       "      <td>9152</td>\n",
       "    </tr>\n",
       "    <tr>\n",
       "      <th>4</th>\n",
       "      <td>5</td>\n",
       "      <td>6</td>\n",
       "    </tr>\n",
       "    <tr>\n",
       "      <th>...</th>\n",
       "      <td>...</td>\n",
       "      <td>...</td>\n",
       "    </tr>\n",
       "    <tr>\n",
       "      <th>1521957</th>\n",
       "      <td>5</td>\n",
       "      <td>13</td>\n",
       "    </tr>\n",
       "    <tr>\n",
       "      <th>1521958</th>\n",
       "      <td>5</td>\n",
       "      <td>0</td>\n",
       "    </tr>\n",
       "    <tr>\n",
       "      <th>1521959</th>\n",
       "      <td>5</td>\n",
       "      <td>5</td>\n",
       "    </tr>\n",
       "    <tr>\n",
       "      <th>1521960</th>\n",
       "      <td>5</td>\n",
       "      <td>1</td>\n",
       "    </tr>\n",
       "    <tr>\n",
       "      <th>1521961</th>\n",
       "      <td>5</td>\n",
       "      <td>12</td>\n",
       "    </tr>\n",
       "  </tbody>\n",
       "</table>\n",
       "<p>1516491 rows × 2 columns</p>\n",
       "</div>"
      ],
      "text/plain": [
       "         0     1\n",
       "0        5     1\n",
       "1        5   517\n",
       "2        5    49\n",
       "3        5  9152\n",
       "4        5     6\n",
       "...     ..   ...\n",
       "1521957  5    13\n",
       "1521958  5     0\n",
       "1521959  5     5\n",
       "1521960  5     1\n",
       "1521961  5    12\n",
       "\n",
       "[1516491 rows x 2 columns]"
      ]
     },
     "execution_count": 217,
     "metadata": {},
     "output_type": "execute_result"
    }
   ],
   "source": [
    "df_rats[0].str.split(pat=':', n=-1, expand=True)"
   ]
  },
  {
   "cell_type": "code",
   "execution_count": null,
   "metadata": {},
   "outputs": [],
   "source": []
  }
 ],
 "metadata": {
  "kernelspec": {
   "display_name": "Python 3",
   "language": "python",
   "name": "python3"
  },
  "language_info": {
   "codemirror_mode": {
    "name": "ipython",
    "version": 3
   },
   "file_extension": ".py",
   "mimetype": "text/x-python",
   "name": "python",
   "nbconvert_exporter": "python",
   "pygments_lexer": "ipython3",
   "version": "3.8.3"
  }
 },
 "nbformat": 4,
 "nbformat_minor": 4
}
